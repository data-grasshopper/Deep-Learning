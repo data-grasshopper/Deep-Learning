{
 "cells": [
  {
   "cell_type": "markdown",
   "metadata": {},
   "source": [
    "# Explicit Feedback Neural Recommender Systems\n",
    "\n",
    "Goals:\n",
    "- Understand recommender data\n",
    "- Build different models architectures using Keras\n",
    "- Retrieve Embeddings and visualize them\n",
    "- Add metadata information as input to the model"
   ]
  },
  {
   "cell_type": "code",
   "execution_count": 1,
   "metadata": {
    "collapsed": false
   },
   "outputs": [],
   "source": [
    "%matplotlib inline\n",
    "import matplotlib.pyplot as plt\n",
    "import numpy as np\n",
    "\n",
    "from pathlib import Path\n",
    "from zipfile import ZipFile\n",
    "from urllib.request import urlretrieve\n",
    "\n",
    "\n",
    "ML_100K_URL = \"http://files.grouplens.org/datasets/movielens/ml-100k.zip\"\n",
    "ML_100K_FILENAME = Path(ML_100K_URL.rsplit('/', 1)[1])\n",
    "ML_100K_FOLDER = Path('ml-100k')\n",
    "\n",
    "if not ML_100K_FILENAME.exists():\n",
    "    print('Downloading %s to %s...' % (ML_100K_URL, ML_100K_FILENAME))\n",
    "    urlretrieve(ML_100K_URL, ML_100K_FILENAME.name)\n",
    "\n",
    "if not ML_100K_FOLDER.exists():\n",
    "    print('Extracting %s to %s...' % (ML_100K_FILENAME, ML_100K_FOLDER))\n",
    "    ZipFile(ML_100K_FILENAME.name).extractall('.')"
   ]
  },
  {
   "cell_type": "markdown",
   "metadata": {},
   "source": [
    "### Ratings file\n",
    "\n",
    "Each line contains a rated movie: \n",
    "- a user\n",
    "- an item\n",
    "- a rating from 1 to 5 stars"
   ]
  },
  {
   "cell_type": "code",
   "execution_count": 2,
   "metadata": {
    "collapsed": false
   },
   "outputs": [
    {
     "data": {
      "text/html": [
       "<div>\n",
       "<table border=\"1\" class=\"dataframe\">\n",
       "  <thead>\n",
       "    <tr style=\"text-align: right;\">\n",
       "      <th></th>\n",
       "      <th>user_id</th>\n",
       "      <th>item_id</th>\n",
       "      <th>rating</th>\n",
       "      <th>timestamp</th>\n",
       "    </tr>\n",
       "  </thead>\n",
       "  <tbody>\n",
       "    <tr>\n",
       "      <th>0</th>\n",
       "      <td>196</td>\n",
       "      <td>242</td>\n",
       "      <td>3</td>\n",
       "      <td>881250949</td>\n",
       "    </tr>\n",
       "    <tr>\n",
       "      <th>1</th>\n",
       "      <td>186</td>\n",
       "      <td>302</td>\n",
       "      <td>3</td>\n",
       "      <td>891717742</td>\n",
       "    </tr>\n",
       "    <tr>\n",
       "      <th>2</th>\n",
       "      <td>22</td>\n",
       "      <td>377</td>\n",
       "      <td>1</td>\n",
       "      <td>878887116</td>\n",
       "    </tr>\n",
       "    <tr>\n",
       "      <th>3</th>\n",
       "      <td>244</td>\n",
       "      <td>51</td>\n",
       "      <td>2</td>\n",
       "      <td>880606923</td>\n",
       "    </tr>\n",
       "    <tr>\n",
       "      <th>4</th>\n",
       "      <td>166</td>\n",
       "      <td>346</td>\n",
       "      <td>1</td>\n",
       "      <td>886397596</td>\n",
       "    </tr>\n",
       "  </tbody>\n",
       "</table>\n",
       "</div>"
      ],
      "text/plain": [
       "   user_id  item_id  rating  timestamp\n",
       "0      196      242       3  881250949\n",
       "1      186      302       3  891717742\n",
       "2       22      377       1  878887116\n",
       "3      244       51       2  880606923\n",
       "4      166      346       1  886397596"
      ]
     },
     "execution_count": 2,
     "metadata": {},
     "output_type": "execute_result"
    }
   ],
   "source": [
    "import pandas as pd\n",
    "\n",
    "all_ratings = pd.read_csv(ML_100K_FOLDER / 'u.data', sep='\\t',\n",
    "                          names=[\"user_id\", \"item_id\", \"rating\", \"timestamp\"])\n",
    "all_ratings.head()"
   ]
  },
  {
   "cell_type": "code",
   "execution_count": 3,
   "metadata": {
    "collapsed": false
   },
   "outputs": [
    {
     "data": {
      "image/png": "[encoded data removed]",
      "text/plain": [
       "<matplotlib.figure.Figure at 0x17f75dd30f0>"
      ]
     },
     "metadata": {},
     "output_type": "display_data"
    }
   ],
   "source": [
    "import matplotlib.pyplot as plt\n",
    "plt.hist(all_ratings.rating)\n",
    "plt.show()"
   ]
  },
  {
   "cell_type": "markdown",
   "metadata": {},
   "source": [
    "### Item metadata file\n",
    "\n",
    "The item metadata file contains metadata like the name of the movie or the date it was released"
   ]
  },
  {
   "cell_type": "code",
   "execution_count": 4,
   "metadata": {
    "collapsed": false
   },
   "outputs": [
    {
     "data": {
      "text/html": [
       "<div>\n",
       "<table border=\"1\" class=\"dataframe\">\n",
       "  <thead>\n",
       "    <tr style=\"text-align: right;\">\n",
       "      <th></th>\n",
       "      <th>name</th>\n",
       "      <th>date</th>\n",
       "      <th>genre</th>\n",
       "      <th>url</th>\n",
       "      <th>f0</th>\n",
       "      <th>f1</th>\n",
       "      <th>f2</th>\n",
       "      <th>f3</th>\n",
       "      <th>f4</th>\n",
       "      <th>f5</th>\n",
       "      <th>...</th>\n",
       "      <th>f9</th>\n",
       "      <th>f10</th>\n",
       "      <th>f11</th>\n",
       "      <th>f12</th>\n",
       "      <th>f13</th>\n",
       "      <th>f14</th>\n",
       "      <th>f15</th>\n",
       "      <th>f16</th>\n",
       "      <th>f17</th>\n",
       "      <th>f18</th>\n",
       "    </tr>\n",
       "  </thead>\n",
       "  <tbody>\n",
       "    <tr>\n",
       "      <th>1</th>\n",
       "      <td>Toy Story (1995)</td>\n",
       "      <td>01-Jan-1995</td>\n",
       "      <td>01-Jan-1997</td>\n",
       "      <td>http://us.imdb.com/M/title-exact?Toy%20Story%2...</td>\n",
       "      <td>0</td>\n",
       "      <td>0</td>\n",
       "      <td>0</td>\n",
       "      <td>1</td>\n",
       "      <td>1</td>\n",
       "      <td>1</td>\n",
       "      <td>...</td>\n",
       "      <td>0</td>\n",
       "      <td>0</td>\n",
       "      <td>0</td>\n",
       "      <td>0</td>\n",
       "      <td>0</td>\n",
       "      <td>0</td>\n",
       "      <td>0</td>\n",
       "      <td>0</td>\n",
       "      <td>0</td>\n",
       "      <td>0</td>\n",
       "    </tr>\n",
       "    <tr>\n",
       "      <th>2</th>\n",
       "      <td>GoldenEye (1995)</td>\n",
       "      <td>01-Jan-1995</td>\n",
       "      <td>01-Jan-1997</td>\n",
       "      <td>http://us.imdb.com/M/title-exact?GoldenEye%20(...</td>\n",
       "      <td>0</td>\n",
       "      <td>1</td>\n",
       "      <td>1</td>\n",
       "      <td>0</td>\n",
       "      <td>0</td>\n",
       "      <td>0</td>\n",
       "      <td>...</td>\n",
       "      <td>0</td>\n",
       "      <td>0</td>\n",
       "      <td>0</td>\n",
       "      <td>0</td>\n",
       "      <td>0</td>\n",
       "      <td>0</td>\n",
       "      <td>0</td>\n",
       "      <td>1</td>\n",
       "      <td>0</td>\n",
       "      <td>0</td>\n",
       "    </tr>\n",
       "    <tr>\n",
       "      <th>3</th>\n",
       "      <td>Four Rooms (1995)</td>\n",
       "      <td>01-Jan-1995</td>\n",
       "      <td>01-Jan-1997</td>\n",
       "      <td>http://us.imdb.com/M/title-exact?Four%20Rooms%...</td>\n",
       "      <td>0</td>\n",
       "      <td>0</td>\n",
       "      <td>0</td>\n",
       "      <td>0</td>\n",
       "      <td>0</td>\n",
       "      <td>0</td>\n",
       "      <td>...</td>\n",
       "      <td>0</td>\n",
       "      <td>0</td>\n",
       "      <td>0</td>\n",
       "      <td>0</td>\n",
       "      <td>0</td>\n",
       "      <td>0</td>\n",
       "      <td>0</td>\n",
       "      <td>1</td>\n",
       "      <td>0</td>\n",
       "      <td>0</td>\n",
       "    </tr>\n",
       "    <tr>\n",
       "      <th>4</th>\n",
       "      <td>Get Shorty (1995)</td>\n",
       "      <td>01-Jan-1995</td>\n",
       "      <td>01-Jan-1997</td>\n",
       "      <td>http://us.imdb.com/M/title-exact?Get%20Shorty%...</td>\n",
       "      <td>0</td>\n",
       "      <td>1</td>\n",
       "      <td>0</td>\n",
       "      <td>0</td>\n",
       "      <td>0</td>\n",
       "      <td>1</td>\n",
       "      <td>...</td>\n",
       "      <td>0</td>\n",
       "      <td>0</td>\n",
       "      <td>0</td>\n",
       "      <td>0</td>\n",
       "      <td>0</td>\n",
       "      <td>0</td>\n",
       "      <td>0</td>\n",
       "      <td>0</td>\n",
       "      <td>0</td>\n",
       "      <td>0</td>\n",
       "    </tr>\n",
       "    <tr>\n",
       "      <th>5</th>\n",
       "      <td>Copycat (1995)</td>\n",
       "      <td>01-Jan-1995</td>\n",
       "      <td>01-Jan-1997</td>\n",
       "      <td>http://us.imdb.com/M/title-exact?Copycat%20(1995)</td>\n",
       "      <td>0</td>\n",
       "      <td>0</td>\n",
       "      <td>0</td>\n",
       "      <td>0</td>\n",
       "      <td>0</td>\n",
       "      <td>0</td>\n",
       "      <td>...</td>\n",
       "      <td>0</td>\n",
       "      <td>0</td>\n",
       "      <td>0</td>\n",
       "      <td>0</td>\n",
       "      <td>0</td>\n",
       "      <td>0</td>\n",
       "      <td>0</td>\n",
       "      <td>1</td>\n",
       "      <td>0</td>\n",
       "      <td>0</td>\n",
       "    </tr>\n",
       "  </tbody>\n",
       "</table>\n",
       "<p>5 rows × 23 columns</p>\n",
       "</div>"
      ],
      "text/plain": [
       "                name         date        genre  \\\n",
       "1   Toy Story (1995)  01-Jan-1995  01-Jan-1997   \n",
       "2   GoldenEye (1995)  01-Jan-1995  01-Jan-1997   \n",
       "3  Four Rooms (1995)  01-Jan-1995  01-Jan-1997   \n",
       "4  Get Shorty (1995)  01-Jan-1995  01-Jan-1997   \n",
       "5     Copycat (1995)  01-Jan-1995  01-Jan-1997   \n",
       "\n",
       "                                                 url  f0  f1  f2  f3  f4  f5  \\\n",
       "1  http://us.imdb.com/M/title-exact?Toy%20Story%2...   0   0   0   1   1   1   \n",
       "2  http://us.imdb.com/M/title-exact?GoldenEye%20(...   0   1   1   0   0   0   \n",
       "3  http://us.imdb.com/M/title-exact?Four%20Rooms%...   0   0   0   0   0   0   \n",
       "4  http://us.imdb.com/M/title-exact?Get%20Shorty%...   0   1   0   0   0   1   \n",
       "5  http://us.imdb.com/M/title-exact?Copycat%20(1995)   0   0   0   0   0   0   \n",
       "\n",
       "  ...   f9  f10  f11  f12  f13  f14  f15  f16  f17  f18  \n",
       "1 ...    0    0    0    0    0    0    0    0    0    0  \n",
       "2 ...    0    0    0    0    0    0    0    1    0    0  \n",
       "3 ...    0    0    0    0    0    0    0    1    0    0  \n",
       "4 ...    0    0    0    0    0    0    0    0    0    0  \n",
       "5 ...    0    0    0    0    0    0    0    1    0    0  \n",
       "\n",
       "[5 rows x 23 columns]"
      ]
     },
     "execution_count": 4,
     "metadata": {},
     "output_type": "execute_result"
    }
   ],
   "source": [
    "names = [\"name\", \"date\", \"genre\", \"url\"]\n",
    "names += [\"f\" + str(x) for x in range(19)]  # unused feature names\n",
    "\n",
    "items = pd.read_csv(ML_100K_FOLDER / 'u.item', sep='|', encoding='latin-1',\n",
    "                    names=names)\n",
    "# fix a missing value\n",
    "items.fillna(value=\"01-Jan-1997\", inplace=True)\n",
    "items.head()"
   ]
  },
  {
   "cell_type": "markdown",
   "metadata": {},
   "source": [
    "### Data preprocessing\n",
    "\n",
    "To understand well the distribution of the data, the following statistics are computed:\n",
    "- the number of users\n",
    "- the number of items\n",
    "- the rating distribution"
   ]
  },
  {
   "cell_type": "code",
   "execution_count": 5,
   "metadata": {
    "collapsed": false
   },
   "outputs": [
    {
     "data": {
      "text/plain": [
       "count    100000.000000\n",
       "mean          3.529860\n",
       "std           1.125674\n",
       "min           1.000000\n",
       "25%           3.000000\n",
       "50%           4.000000\n",
       "75%           4.000000\n",
       "max           5.000000\n",
       "Name: rating, dtype: float64"
      ]
     },
     "execution_count": 5,
     "metadata": {},
     "output_type": "execute_result"
    }
   ],
   "source": [
    "all_ratings['rating'].describe()"
   ]
  },
  {
   "cell_type": "code",
   "execution_count": 6,
   "metadata": {
    "collapsed": false
   },
   "outputs": [
    {
     "data": {
      "text/plain": [
       "943"
      ]
     },
     "execution_count": 6,
     "metadata": {},
     "output_type": "execute_result"
    }
   ],
   "source": [
    "max_user_id = all_ratings['user_id'].max()\n",
    "max_user_id"
   ]
  },
  {
   "cell_type": "code",
   "execution_count": 9,
   "metadata": {
    "collapsed": false
   },
   "outputs": [
    {
     "data": {
      "text/plain": [
       "1682"
      ]
     },
     "execution_count": 9,
     "metadata": {},
     "output_type": "execute_result"
    }
   ],
   "source": [
    "max_item_id = all_ratings['item_id'].max()\n",
    "max_item_id"
   ]
  },
  {
   "cell_type": "code",
   "execution_count": 10,
   "metadata": {
    "collapsed": false
   },
   "outputs": [],
   "source": [
    "from sklearn.model_selection import train_test_split\n",
    "\n",
    "ratings_train, ratings_test = train_test_split(\n",
    "    all_ratings, test_size=0.2, random_state=0)\n",
    "\n",
    "user_id_train = ratings_train['user_id']\n",
    "item_id_train = ratings_train['item_id']\n",
    "rating_train = ratings_train['rating']\n",
    "\n",
    "user_id_test = ratings_test['user_id']\n",
    "item_id_test = ratings_test['item_id']\n",
    "rating_test = ratings_test['rating']"
   ]
  },
  {
   "cell_type": "markdown",
   "metadata": {},
   "source": [
    "# Explicit feedback: supervised ratings prediction\n",
    "\n",
    "For each pair of (user, item) try to predict the rating the user would give to the item.\n",
    "\n",
    "This is the classical setup for building recommender systems from offline data with explicit supervision signal. "
   ]
  },
  {
   "cell_type": "markdown",
   "metadata": {},
   "source": [
    "## Predictive ratings  as a regression problem\n",
    "\n",
    "The following code implements the following architecture:\n",
    "\n",
    "<img src=\"images/rec_archi_1.svg\" style=\"width: 600px;\" />"
   ]
  },
  {
   "cell_type": "code",
   "execution_count": 11,
   "metadata": {
    "collapsed": false
   },
   "outputs": [
    {
     "name": "stderr",
     "output_type": "stream",
     "text": [
      "Using TensorFlow backend.\n"
     ]
    }
   ],
   "source": [
    "from keras.layers import Input, Embedding, Flatten, merge, Dense, Dropout, Lambda\n",
    "from keras.models import Model\n",
    "import keras.backend as K\n",
    "from keras_fixes import dot_mode"
   ]
  },
  {
   "cell_type": "code",
   "execution_count": 12,
   "metadata": {
    "collapsed": false
   },
   "outputs": [],
   "source": [
    "# For each sample we input the integer identifiers\n",
    "# of a single user and a single item\n",
    "user_id_input = Input(shape=[1], name='user')\n",
    "item_id_input = Input(shape=[1], name='item')\n",
    "\n",
    "embedding_size = 30\n",
    "user_embedding = Embedding(output_dim=embedding_size, input_dim=max_user_id + 1,\n",
    "                           input_length=1, name='user_embedding')(user_id_input)\n",
    "item_embedding = Embedding(output_dim=embedding_size, input_dim=max_item_id + 1,\n",
    "                           input_length=1, name='item_embedding')(item_id_input)\n",
    "\n",
    "# reshape from shape: (batch_size, input_length, embedding_size)\n",
    "# to shape: (batch_size, input_length * embedding_size) which is\n",
    "# equal to shape: (batch_size, embedding_size)\n",
    "user_vecs = Flatten()(user_embedding)\n",
    "item_vecs = Flatten()(item_embedding)\n",
    "\n",
    "y = merge([user_vecs, item_vecs], mode=dot_mode, output_shape=(1,))\n",
    "\n",
    "model = Model(input=[user_id_input, item_id_input], output=y)\n",
    "model.compile(optimizer='adam', loss='mae')"
   ]
  },
  {
   "cell_type": "code",
   "execution_count": 15,
   "metadata": {
    "collapsed": false
   },
   "outputs": [
    {
     "name": "stdout",
     "output_type": "stream",
     "text": [
      "____________________________________________________________________________________________________\n",
      "Layer (type)                     Output Shape          Param #     Connected to                     \n",
      "====================================================================================================\n",
      "user (InputLayer)                (None, 1)             0                                            \n",
      "____________________________________________________________________________________________________\n",
      "item (InputLayer)                (None, 1)             0                                            \n",
      "____________________________________________________________________________________________________\n",
      "user_embedding (Embedding)       (None, 1, 30)         28320       user[0][0]                       \n",
      "____________________________________________________________________________________________________\n",
      "item_embedding (Embedding)       (None, 1, 30)         50490       item[0][0]                       \n",
      "____________________________________________________________________________________________________\n",
      "flatten_1 (Flatten)              (None, 30)            0           user_embedding[0][0]             \n",
      "____________________________________________________________________________________________________\n",
      "flatten_2 (Flatten)              (None, 30)            0           item_embedding[0][0]             \n",
      "____________________________________________________________________________________________________\n",
      "merge_1 (Merge)                  (None, 1)             0           flatten_1[0][0]                  \n",
      "                                                                   flatten_2[0][0]                  \n",
      "====================================================================================================\n",
      "Total params: 78,810\n",
      "Trainable params: 78,810\n",
      "Non-trainable params: 0\n",
      "____________________________________________________________________________________________________\n"
     ]
    }
   ],
   "source": [
    "model.summary()"
   ]
  },
  {
   "cell_type": "code",
   "execution_count": 16,
   "metadata": {
    "collapsed": false
   },
   "outputs": [
    {
     "data": {
      "text/plain": [
       "(80000,)"
      ]
     },
     "execution_count": 16,
     "metadata": {},
     "output_type": "execute_result"
    }
   ],
   "source": [
    "# Useful for debugging the output shape of model\n",
    "initial_train_preds = model.predict([user_id_train, item_id_train])\n",
    "initial_train_preds.shape"
   ]
  },
  {
   "cell_type": "markdown",
   "metadata": {},
   "source": [
    "### Model error\n",
    "\n",
    "Using `initial_train_preds`, compute the model errors:\n",
    "- mean absolute error\n",
    "- mean squared error\n",
    "\n",
    "Converting a pandas Series to numpy array is usually implicit, but you may use `rating_train.values` to do so explicitely. Be sure to monitor the shapes of each object you deal with by using `object.shape`."
   ]
  },
  {
   "cell_type": "code",
   "execution_count": 23,
   "metadata": {
    "collapsed": false
   },
   "outputs": [
    {
     "data": {
      "text/plain": [
       "((80000,), (80000,))"
      ]
     },
     "execution_count": 23,
     "metadata": {},
     "output_type": "execute_result"
    }
   ],
   "source": [
    "initial_train_preds.shape, rating_train.values.shape"
   ]
  },
  {
   "cell_type": "code",
   "execution_count": 24,
   "metadata": {
    "collapsed": false
   },
   "outputs": [
    {
     "name": "stdout",
     "output_type": "stream",
     "text": [
      "Random init MSE: 13.732\n",
      "Random init MAE: 3.531\n"
     ]
    }
   ],
   "source": [
    "# %load solutions/compute_errors.py\n",
    "squared_differences = np.square(initial_train_preds - rating_train.values)\n",
    "absolute_differences = np.abs(initial_train_preds - rating_train.values)\n",
    "\n",
    "print(\"Random init MSE: %0.3f\" % np.mean(squared_differences))\n",
    "print(\"Random init MAE: %0.3f\" % np.mean(absolute_differences))\n",
    "\n",
    "# You may also use sklearn metrics to do so with less numpy engineering \n",
    "#from sklearn.metrics import mean_squared_error, mean_absolute_error\n",
    "#\n",
    "#print(\"Random init MSE: %0.3f\" % mean_squared_error(initial_train_preds, rating_train))\n",
    "#print(\"Random init MAE: %0.3f\" % mean_absolute_error(initial_train_preds, rating_train))\n"
   ]
  },
  {
   "cell_type": "markdown",
   "metadata": {},
   "source": [
    "### Monitoring runs\n",
    "\n",
    "Keras enables to monitor various variables during training. \n",
    "\n",
    "`history.history` returned by the `model.fit` function is a dictionary\n",
    "containing the `'loss'` and validation loss `'val_loss'` after each epoch"
   ]
  },
  {
   "cell_type": "code",
   "execution_count": 25,
   "metadata": {
    "collapsed": false
   },
   "outputs": [
    {
     "name": "stdout",
     "output_type": "stream",
     "text": [
      "Train on 72000 samples, validate on 8000 samples\n",
      "Epoch 1/6\n",
      "72000/72000 [==============================] - 4s - loss: 2.9594 - val_loss: 1.4748\n",
      "Epoch 2/6\n",
      "72000/72000 [==============================] - 5s - loss: 1.1168 - val_loss: 0.9948\n",
      "Epoch 3/6\n",
      "72000/72000 [==============================] - 6s - loss: 0.9465 - val_loss: 0.9476\n",
      "Epoch 4/6\n",
      "72000/72000 [==============================] - 5s - loss: 0.9208 - val_loss: 0.9339\n",
      "Epoch 5/6\n",
      "72000/72000 [==============================] - 4s - loss: 0.9122 - val_loss: 0.9285\n",
      "Epoch 6/6\n",
      "72000/72000 [==============================] - 4s - loss: 0.9088 - val_loss: 0.9264\n",
      "Wall time: 31.6 s\n"
     ]
    }
   ],
   "source": [
    "%%time\n",
    "\n",
    "# Training the model\n",
    "history = model.fit([user_id_train, item_id_train], rating_train,\n",
    "                    batch_size=64, nb_epoch=6, validation_split=0.1,\n",
    "                    shuffle=True)"
   ]
  },
  {
   "cell_type": "code",
   "execution_count": 26,
   "metadata": {
    "collapsed": false
   },
   "outputs": [
    {
     "data": {
      "image/png": "[encoded data removed]",
      "text/plain": [
       "<matplotlib.figure.Figure at 0x17f65380908>"
      ]
     },
     "metadata": {},
     "output_type": "display_data"
    }
   ],
   "source": [
    "plt.plot(history.history['loss'], label='train')\n",
    "plt.plot(history.history['val_loss'], label='validation')\n",
    "plt.ylim(0, 2)\n",
    "plt.legend(loc='best')\n",
    "plt.title('Loss');"
   ]
  },
  {
   "cell_type": "markdown",
   "metadata": {},
   "source": [
    "Now that the model is trained, the model MSE and MAE look nicer:"
   ]
  },
  {
   "cell_type": "code",
   "execution_count": 27,
   "metadata": {
    "collapsed": false
   },
   "outputs": [
    {
     "name": "stdout",
     "output_type": "stream",
     "text": [
      "Final test MSE: 1.412\n",
      "Final test MAE: 0.897\n"
     ]
    }
   ],
   "source": [
    "from sklearn.metrics import mean_squared_error\n",
    "from sklearn.metrics import mean_absolute_error\n",
    "\n",
    "test_preds = model.predict([user_id_test, item_id_test])\n",
    "print(\"Final test MSE: %0.3f\" % mean_squared_error(test_preds, rating_test))\n",
    "print(\"Final test MAE: %0.3f\" % mean_absolute_error(test_preds, rating_test))"
   ]
  },
  {
   "cell_type": "code",
   "execution_count": 28,
   "metadata": {
    "collapsed": false
   },
   "outputs": [
    {
     "name": "stdout",
     "output_type": "stream",
     "text": [
      "Final train MSE: 1.407\n",
      "Final train MAE: 0.898\n"
     ]
    }
   ],
   "source": [
    "train_preds = model.predict([user_id_train, item_id_train])\n",
    "print(\"Final train MSE: %0.3f\" % mean_squared_error(train_preds, rating_train))\n",
    "print(\"Final train MAE: %0.3f\" % mean_absolute_error(train_preds, rating_train))"
   ]
  },
  {
   "cell_type": "markdown",
   "metadata": {},
   "source": [
    "## A Deep recommender model\n",
    "\n",
    "Using a similar framework as previously, the following deep model described in the course was built (with only two fully connected)\n",
    "\n",
    "<img src=\"images/rec_archi_2.svg\" style=\"width: 600px;\" />\n",
    "\n",
    "\n",
    "### Exercise\n",
    "\n",
    "- The following code has **4 errors** that prevent it from working correctly. **Correct them and explain** why they are critical."
   ]
  },
  {
   "cell_type": "code",
   "execution_count": 31,
   "metadata": {
    "collapsed": false
   },
   "outputs": [],
   "source": [
    "# For each sample we input the integer identifiers\n",
    "# of a single user and a single item\n",
    "user_id_input = Input(shape=[1], name='user')\n",
    "item_id_input = Input(shape=[1], name='item')\n",
    "\n",
    "embedding_size = 30\n",
    "user_embedding = Embedding(output_dim=embedding_size, input_dim=max_user_id + 1,\n",
    "                           input_length=1, name='user_embedding')(user_id_input)\n",
    "item_embedding = Embedding(output_dim=embedding_size, input_dim=max_item_id + 1,\n",
    "                           input_length=1, name='item_embedding')(item_id_input)\n",
    "\n",
    "# reshape from shape: (batch_size, input_length, embedding_size)\n",
    "# to shape: (batch_size, input_length * embedding_size) which is\n",
    "# equal to shape: (batch_size, embedding_size)\n",
    "user_vecs = Flatten()(user_embedding)\n",
    "item_vecs = Flatten()(item_embedding)\n",
    "\n",
    "input_vecs = merge([user_vecs, item_vecs], mode='concat')\n",
    "# Error 1: here the dropout coefficient was too high: underfitting\n",
    "input_vecs = Dropout(0.5)(input_vecs)\n",
    "\n",
    "x = Dense(64, activation='relu')(input_vecs)\n",
    "# Error 2: we predict only 1-d ratings, not 2-d\n",
    "# Error 3: we do not want any tanh activation for output lalyer, since \n",
    "# we want values from 1 to 5!\n",
    "y = Dense(1)(x)\n",
    "\n",
    "model = Model(input=[user_id_input, item_id_input], output=y)\n",
    "# Error 4: use a regression metrics, not a classification one\n",
    "model.compile(optimizer='adam', loss='mae')\n",
    "\n",
    "initial_train_preds = model.predict([user_id_train, item_id_train])"
   ]
  },
  {
   "cell_type": "code",
   "execution_count": 30,
   "metadata": {
    "collapsed": true
   },
   "outputs": [],
   "source": [
    "# %load solutions/deep_explicit_feedback_recsys.py"
   ]
  },
  {
   "cell_type": "code",
   "execution_count": 32,
   "metadata": {
    "collapsed": false
   },
   "outputs": [
    {
     "name": "stdout",
     "output_type": "stream",
     "text": [
      "Train on 72000 samples, validate on 8000 samples\n",
      "Epoch 1/5\n",
      "72000/72000 [==============================] - 6s - loss: 1.0103 - val_loss: 0.7673\n",
      "Epoch 2/5\n",
      "72000/72000 [==============================] - 5s - loss: 0.7528 - val_loss: 0.7542\n",
      "Epoch 3/5\n",
      "72000/72000 [==============================] - 6s - loss: 0.7378 - val_loss: 0.7513\n",
      "Epoch 4/5\n",
      "72000/72000 [==============================] - 5s - loss: 0.7319 - val_loss: 0.7551\n",
      "Epoch 5/5\n",
      "72000/72000 [==============================] - 6s - loss: 0.7260 - val_loss: 0.7452\n",
      "Wall time: 30.8 s\n"
     ]
    }
   ],
   "source": [
    "%%time\n",
    "history = model.fit([user_id_train, item_id_train], rating_train,\n",
    "                    batch_size=64, nb_epoch=5, validation_split=0.1,\n",
    "                    shuffle=True)"
   ]
  },
  {
   "cell_type": "code",
   "execution_count": 33,
   "metadata": {
    "collapsed": false
   },
   "outputs": [
    {
     "data": {
      "image/png": "[encoded data removed]",
      "text/plain": [
       "<matplotlib.figure.Figure at 0x17f6f04f4a8>"
      ]
     },
     "metadata": {},
     "output_type": "display_data"
    }
   ],
   "source": [
    "plt.plot(history.history['loss'], label='train')\n",
    "plt.plot(history.history['val_loss'], label='validation')\n",
    "plt.ylim(0, 2)\n",
    "plt.legend(loc='best')\n",
    "plt.title('Loss');"
   ]
  },
  {
   "cell_type": "code",
   "execution_count": 34,
   "metadata": {
    "collapsed": false
   },
   "outputs": [
    {
     "name": "stdout",
     "output_type": "stream",
     "text": [
      "Final test MSE: 0.929\n",
      "Final test MAE: 0.730\n"
     ]
    }
   ],
   "source": [
    "test_preds = model.predict([user_id_test, item_id_test])\n",
    "print(\"Final test MSE: %0.3f\" % mean_squared_error(test_preds, rating_test))\n",
    "print(\"Final test MAE: %0.3f\" % mean_absolute_error(test_preds, rating_test))"
   ]
  },
  {
   "cell_type": "code",
   "execution_count": 35,
   "metadata": {
    "collapsed": false
   },
   "outputs": [
    {
     "name": "stdout",
     "output_type": "stream",
     "text": [
      "Final train MSE: 0.862\n",
      "Final train MAE: 0.698\n"
     ]
    }
   ],
   "source": [
    "train_preds = model.predict([user_id_train, item_id_train])\n",
    "print(\"Final train MSE: %0.3f\" % mean_squared_error(train_preds, rating_train))\n",
    "print(\"Final train MAE: %0.3f\" % mean_absolute_error(train_preds, rating_train))"
   ]
  },
  {
   "cell_type": "code",
   "execution_count": 36,
   "metadata": {
    "collapsed": false
   },
   "outputs": [
    {
     "name": "stdout",
     "output_type": "stream",
     "text": [
      "____________________________________________________________________________________________________\n",
      "Layer (type)                     Output Shape          Param #     Connected to                     \n",
      "====================================================================================================\n",
      "user (InputLayer)                (None, 1)             0                                            \n",
      "____________________________________________________________________________________________________\n",
      "item (InputLayer)                (None, 1)             0                                            \n",
      "____________________________________________________________________________________________________\n",
      "user_embedding (Embedding)       (None, 1, 30)         28320       user[0][0]                       \n",
      "____________________________________________________________________________________________________\n",
      "item_embedding (Embedding)       (None, 1, 30)         50490       item[0][0]                       \n",
      "____________________________________________________________________________________________________\n",
      "flatten_4 (Flatten)              (None, 30)            0           user_embedding[0][0]             \n",
      "____________________________________________________________________________________________________\n",
      "flatten_5 (Flatten)              (None, 30)            0           item_embedding[0][0]             \n",
      "____________________________________________________________________________________________________\n",
      "merge_2 (Merge)                  (None, 60)            0           flatten_4[0][0]                  \n",
      "                                                                   flatten_5[0][0]                  \n",
      "____________________________________________________________________________________________________\n",
      "dropout_1 (Dropout)              (None, 60)            0           merge_2[0][0]                    \n",
      "____________________________________________________________________________________________________\n",
      "dense_1 (Dense)                  (None, 64)            3904        dropout_1[0][0]                  \n",
      "____________________________________________________________________________________________________\n",
      "dense_2 (Dense)                  (None, 1)             65          dense_1[0][0]                    \n",
      "====================================================================================================\n",
      "Total params: 82,779\n",
      "Trainable params: 82,779\n",
      "Non-trainable params: 0\n",
      "____________________________________________________________________________________________________\n"
     ]
    }
   ],
   "source": [
    "model.summary()"
   ]
  },
  {
   "cell_type": "markdown",
   "metadata": {},
   "source": [
    "### Home assignment: \n",
    " - Add another layer, compare train/test error\n",
    " - What do you notice? \n",
    " - Try adding more dropout and modifying layer sizes: should you increase\n",
    "   or decrease the number of parameters"
   ]
  },
  {
   "cell_type": "code",
   "execution_count": 42,
   "metadata": {
    "collapsed": true
   },
   "outputs": [],
   "source": [
    "user_id_input = Input(shape=[1], name='user')\n",
    "item_id_input = Input(shape=[1], name='item')\n",
    "\n",
    "embedding_size = 30\n",
    "user_embedding = Embedding(output_dim=embedding_size, input_dim=max_user_id + 1,\n",
    "                           input_length=1, name='user_embedding')(user_id_input)\n",
    "item_embedding = Embedding(output_dim=embedding_size, input_dim=max_item_id + 1,\n",
    "                           input_length=1, name='item_embedding')(item_id_input)\n",
    "\n",
    "user_vecs = Flatten()(user_embedding)\n",
    "item_vecs = Flatten()(item_embedding)\n",
    "\n",
    "input_vecs = merge([user_vecs, item_vecs], mode='concat')\n",
    "input_vecs = Dropout(0.5)(input_vecs)\n",
    "\n",
    "x = Dense(64, activation='relu')(input_vecs)\n",
    "# We add another layer\n",
    "layer = Dense(64, activation='relu')(x)\n",
    "layer = Dropout(0.5)(layer)\n",
    "\n",
    "\n",
    "y = Dense(1)(layer)\n",
    "\n",
    "model = Model(input=[user_id_input, item_id_input], output=y)\n",
    "model.compile(optimizer='adam', loss='mae')\n",
    "\n",
    "initial_train_preds = model.predict([user_id_train, item_id_train])"
   ]
  },
  {
   "cell_type": "code",
   "execution_count": 43,
   "metadata": {
    "collapsed": false
   },
   "outputs": [
    {
     "name": "stdout",
     "output_type": "stream",
     "text": [
      "Train on 72000 samples, validate on 8000 samples\n",
      "Epoch 1/5\n",
      "72000/72000 [==============================] - 7s - loss: 1.0572 - val_loss: 0.8017\n",
      "Epoch 2/5\n",
      "72000/72000 [==============================] - 6s - loss: 0.8916 - val_loss: 0.7865\n",
      "Epoch 3/5\n",
      "72000/72000 [==============================] - 6s - loss: 0.8491 - val_loss: 0.7680\n",
      "Epoch 4/5\n",
      "72000/72000 [==============================] - 6s - loss: 0.8176 - val_loss: 0.7603\n",
      "Epoch 5/5\n",
      "72000/72000 [==============================] - 6s - loss: 0.7919 - val_loss: 0.7647\n",
      "Wall time: 34.2 s\n"
     ]
    }
   ],
   "source": [
    "%%time\n",
    "history = model.fit([user_id_train, item_id_train], rating_train,\n",
    "                    batch_size=64, nb_epoch=5, validation_split=0.1,\n",
    "                    shuffle=True)"
   ]
  },
  {
   "cell_type": "code",
   "execution_count": 44,
   "metadata": {
    "collapsed": false
   },
   "outputs": [
    {
     "data": {
      "image/png": "[encoded data removed]",
      "text/plain": [
       "<matplotlib.figure.Figure at 0x17f867ab320>"
      ]
     },
     "metadata": {},
     "output_type": "display_data"
    }
   ],
   "source": [
    "plt.plot(history.history['loss'], label='train')\n",
    "plt.plot(history.history['val_loss'], label='validation')\n",
    "plt.ylim(0, 2)\n",
    "plt.legend(loc='best')\n",
    "plt.title('Loss');"
   ]
  },
  {
   "cell_type": "code",
   "execution_count": 45,
   "metadata": {
    "collapsed": false
   },
   "outputs": [
    {
     "name": "stdout",
     "output_type": "stream",
     "text": [
      "Final test MSE: 0.903\n",
      "Final test MAE: 0.754\n",
      "Final train MSE: 0.846\n",
      "Final train MAE: 0.728\n"
     ]
    }
   ],
   "source": [
    "test_preds = model.predict([user_id_test, item_id_test])\n",
    "print(\"Final test MSE: %0.3f\" % mean_squared_error(test_preds, rating_test))\n",
    "print(\"Final test MAE: %0.3f\" % mean_absolute_error(test_preds, rating_test))\n",
    "\n",
    "train_preds = model.predict([user_id_train, item_id_train])\n",
    "print(\"Final train MSE: %0.3f\" % mean_squared_error(train_preds, rating_train))\n",
    "print(\"Final train MAE: %0.3f\" % mean_absolute_error(train_preds, rating_train))"
   ]
  },
  {
   "cell_type": "code",
   "execution_count": 46,
   "metadata": {
    "collapsed": false
   },
   "outputs": [
    {
     "name": "stdout",
     "output_type": "stream",
     "text": [
      "____________________________________________________________________________________________________\n",
      "Layer (type)                     Output Shape          Param #     Connected to                     \n",
      "====================================================================================================\n",
      "user (InputLayer)                (None, 1)             0                                            \n",
      "____________________________________________________________________________________________________\n",
      "item (InputLayer)                (None, 1)             0                                            \n",
      "____________________________________________________________________________________________________\n",
      "user_embedding (Embedding)       (None, 1, 30)         28320       user[0][0]                       \n",
      "____________________________________________________________________________________________________\n",
      "item_embedding (Embedding)       (None, 1, 30)         50490       item[0][0]                       \n",
      "____________________________________________________________________________________________________\n",
      "flatten_8 (Flatten)              (None, 30)            0           user_embedding[0][0]             \n",
      "____________________________________________________________________________________________________\n",
      "flatten_9 (Flatten)              (None, 30)            0           item_embedding[0][0]             \n",
      "____________________________________________________________________________________________________\n",
      "merge_4 (Merge)                  (None, 60)            0           flatten_8[0][0]                  \n",
      "                                                                   flatten_9[0][0]                  \n",
      "____________________________________________________________________________________________________\n",
      "dropout_3 (Dropout)              (None, 60)            0           merge_4[0][0]                    \n",
      "____________________________________________________________________________________________________\n",
      "dense_6 (Dense)                  (None, 64)            3904        dropout_3[0][0]                  \n",
      "____________________________________________________________________________________________________\n",
      "dense_7 (Dense)                  (None, 64)            4160        dense_6[0][0]                    \n",
      "____________________________________________________________________________________________________\n",
      "dropout_4 (Dropout)              (None, 64)            0           dense_7[0][0]                    \n",
      "____________________________________________________________________________________________________\n",
      "dense_8 (Dense)                  (None, 1)             65          dropout_4[0][0]                  \n",
      "====================================================================================================\n",
      "Total params: 86,939\n",
      "Trainable params: 86,939\n",
      "Non-trainable params: 0\n",
      "____________________________________________________________________________________________________\n"
     ]
    }
   ],
   "source": [
    "model.summary()"
   ]
  },
  {
   "cell_type": "code",
   "execution_count": null,
   "metadata": {
    "collapsed": true
   },
   "outputs": [],
   "source": []
  },
  {
   "cell_type": "markdown",
   "metadata": {},
   "source": [
    "### Model Embeddings\n",
    "\n",
    "- It is possible to retrieve the embeddings by simply using the Keras function `model.get_weights` which returns all the model learnable parameters.\n",
    "- The weights are returned the same order as they were build in the model\n",
    "- What is the total number of parameters?"
   ]
  },
  {
   "cell_type": "code",
   "execution_count": 47,
   "metadata": {
    "collapsed": false
   },
   "outputs": [
    {
     "data": {
      "text/plain": [
       "[(944, 30), (1683, 30), (60, 64), (64,), (64, 64), (64,), (64, 1), (1,)]"
      ]
     },
     "execution_count": 47,
     "metadata": {},
     "output_type": "execute_result"
    }
   ],
   "source": [
    "# weights and shape\n",
    "weights = model.get_weights()\n",
    "[w.shape for w in weights]"
   ]
  },
  {
   "cell_type": "code",
   "execution_count": 67,
   "metadata": {
    "collapsed": false
   },
   "outputs": [
    {
     "name": "stdout",
     "output_type": "stream",
     "text": [
      "____________________________________________________________________________________________________\n",
      "Layer (type)                     Output Shape          Param #     Connected to                     \n",
      "====================================================================================================\n",
      "user (InputLayer)                (None, 1)             0                                            \n",
      "____________________________________________________________________________________________________\n",
      "item (InputLayer)                (None, 1)             0                                            \n",
      "____________________________________________________________________________________________________\n",
      "user_embedding (Embedding)       (None, 1, 30)         28320       user[0][0]                       \n",
      "____________________________________________________________________________________________________\n",
      "item_embedding (Embedding)       (None, 1, 30)         50490       item[0][0]                       \n",
      "____________________________________________________________________________________________________\n",
      "flatten_8 (Flatten)              (None, 30)            0           user_embedding[0][0]             \n",
      "____________________________________________________________________________________________________\n",
      "flatten_9 (Flatten)              (None, 30)            0           item_embedding[0][0]             \n",
      "____________________________________________________________________________________________________\n",
      "merge_4 (Merge)                  (None, 60)            0           flatten_8[0][0]                  \n",
      "                                                                   flatten_9[0][0]                  \n",
      "____________________________________________________________________________________________________\n",
      "dropout_3 (Dropout)              (None, 60)            0           merge_4[0][0]                    \n",
      "____________________________________________________________________________________________________\n",
      "dense_6 (Dense)                  (None, 64)            3904        dropout_3[0][0]                  \n",
      "____________________________________________________________________________________________________\n",
      "dense_7 (Dense)                  (None, 64)            4160        dense_6[0][0]                    \n",
      "____________________________________________________________________________________________________\n",
      "dropout_4 (Dropout)              (None, 64)            0           dense_7[0][0]                    \n",
      "____________________________________________________________________________________________________\n",
      "dense_8 (Dense)                  (None, 1)             65          dropout_4[0][0]                  \n",
      "====================================================================================================\n",
      "Total params: 86,939\n",
      "Trainable params: 86,939\n",
      "Non-trainable params: 0\n",
      "____________________________________________________________________________________________________\n"
     ]
    }
   ],
   "source": [
    "model.summary()"
   ]
  },
  {
   "cell_type": "code",
   "execution_count": 66,
   "metadata": {
    "collapsed": false
   },
   "outputs": [],
   "source": [
    "# Solution: \n",
    "# model.summary()"
   ]
  },
  {
   "cell_type": "code",
   "execution_count": 72,
   "metadata": {
    "collapsed": false
   },
   "outputs": [
    {
     "name": "stdout",
     "output_type": "stream",
     "text": [
      "First item name from metadata: Toy Story (1995)\n",
      "Embedding vector for the first item:\n",
      "[  5.91379441e-02  -3.81382890e-02  -1.12092577e-01  -8.08542147e-02\n",
      "   2.30634678e-02  -3.47638540e-02  -5.65975606e-02  -3.87772061e-02\n",
      "  -2.72217912e-05   5.97733036e-02  -2.97536049e-02   7.92540237e-02\n",
      "   9.02471542e-02  -7.73700923e-02   7.64738545e-02   5.85318096e-02\n",
      "   1.06474482e-01   6.39893189e-02   5.92335276e-02   5.67633891e-03\n",
      "  -7.51887560e-02  -3.87150832e-02   7.47264028e-02   6.12891465e-03\n",
      "  -6.57765195e-03   3.21295187e-02   7.13947415e-02   2.87377499e-02\n",
      "  -9.34266821e-02  -1.02235368e-02]\n",
      "shape: (30,)\n"
     ]
    }
   ],
   "source": [
    "user_embeddings = weights[0]\n",
    "item_embeddings = weights[1]\n",
    "print(\"First item name from metadata:\", items[\"name\"][1])\n",
    "print(\"Embedding vector for the first item:\")\n",
    "print(item_embeddings[1])\n",
    "print(\"shape:\", item_embeddings[1].shape)"
   ]
  },
  {
   "cell_type": "markdown",
   "metadata": {},
   "source": [
    "### Finding most similar items\n",
    "Finding k most similar items to a point in embedding space\n",
    "\n",
    "- Write in numpy a function to compute the cosine similarity between two points in embedding space\n",
    "- Write a function which computes the euclidean distance between a point in embedding space and all other points\n",
    "- Write a most similar function, which returns the k item names with lowest euclidean distance\n",
    "- Try with a movie index, such as 181 (Return of the Jedi). What do you observe? Don't expect miracles on such a small training set.\n",
    "\n",
    "Notes:\n",
    "- you may use `np.linalg.norm` to compute the norm of vector, and you may specify the `axis=`\n",
    "- the numpy function `np.argsort(...)` enables to compute the sorted indices of a vector\n",
    "- `items[\"name\"][idxs]` returns the names of the items indexed by array idxs"
   ]
  },
  {
   "cell_type": "code",
   "execution_count": 77,
   "metadata": {
    "collapsed": false
   },
   "outputs": [
    {
     "data": {
      "text/plain": [
       "181                    Return of the Jedi (1983)\n",
       "639     Tin Drum, The (Blechtrommel, Die) (1979)\n",
       "657             Manchurian Candidate, The (1962)\n",
       "213                   Room with a View, A (1986)\n",
       "1541           Beans of Egypt, Maine, The (1994)\n",
       "1645                     Butcher Boy, The (1998)\n",
       "132                     Wizard of Oz, The (1939)\n",
       "1418                   Joy Luck Club, The (1993)\n",
       "817                                 Frisk (1995)\n",
       "479                               Vertigo (1958)\n",
       "Name: name, dtype: object"
      ]
     },
     "execution_count": 77,
     "metadata": {},
     "output_type": "execute_result"
    }
   ],
   "source": [
    "EPSILON = 1e-07\n",
    "\n",
    "def cosine(x, y):\n",
    "    numerator = np.dot(x, y)\n",
    "    denominator = np.dot(x, x) * np.dot(y, y)\n",
    "    return numerator / (denominator + EPSILON)\n",
    "\n",
    "# Computes euclidean distances between x and all item embeddings\n",
    "def euclidean_distances(x):\n",
    "    return np.linalg.norm(item_embeddings - x, axis=1)\n",
    "\n",
    "# Computes top_n most similar items to an idx\n",
    "def most_similar(idx, top_n=10):\n",
    "    distances = euclidean_distances(item_embeddings[idx])\n",
    "    sorted_indexes = np.argsort(distances)\n",
    "    idxs = sorted_indexes[0:top_n]\n",
    "#     return list(zip(items[\"name\"][idxs], dists[idxs]))\n",
    "#     idxs = np.array([1,2,3])\n",
    "    return items[\"name\"][idxs]\n",
    "\n",
    "most_similar(181)"
   ]
  },
  {
   "cell_type": "code",
   "execution_count": 75,
   "metadata": {
    "collapsed": false
   },
   "outputs": [
    {
     "data": {
      "text/plain": [
       "24"
      ]
     },
     "execution_count": 75,
     "metadata": {},
     "output_type": "execute_result"
    }
   ],
   "source": [
    "x = np.array([1, 2, 4])\n",
    "y = np.array([2, 5, 3])\n",
    "np.dot(x, y.T)"
   ]
  },
  {
   "cell_type": "code",
   "execution_count": 78,
   "metadata": {
    "collapsed": false
   },
   "outputs": [
    {
     "name": "stdout",
     "output_type": "stream",
     "text": [
      "cosine of item 1 and item 1: 0.999999108921\n",
      "(1683,)\n",
      "[ 0.          0.47259858  0.4894827   0.39460382]\n",
      "\n",
      "Items closest to 'Return of the Jedi':\n",
      "Return of the Jedi (1983) 0.0\n",
      "Tin Drum, The (Blechtrommel, Die) (1979) 0.204089\n",
      "Manchurian Candidate, The (1962) 0.228837\n",
      "Room with a View, A (1986) 0.231616\n",
      "Beans of Egypt, Maine, The (1994) 0.23434\n",
      "Butcher Boy, The (1998) 0.243493\n",
      "Wizard of Oz, The (1939) 0.246566\n",
      "Joy Luck Club, The (1993) 0.246677\n",
      "Frisk (1995) 0.250417\n",
      "Vertigo (1958) 0.251312\n"
     ]
    }
   ],
   "source": [
    "# %load solutions/similarity.py\n",
    "EPSILON = 1e-07\n",
    "\n",
    "def cosine(x, y):\n",
    "    dot_pdt = np.dot(x, y.T)\n",
    "    norms = np.linalg.norm(x) * np.linalg.norm(y)\n",
    "    return dot_pdt / (norms + EPSILON)\n",
    "\n",
    "# Computes cosine similarities between x and all item embeddings\n",
    "def cosine_similarities(x):\n",
    "    dot_pdts = np.dot(item_embeddings, x)\n",
    "    norms = np.linalg.norm(x) * np.linalg.norm(item_embeddings, axis=1)\n",
    "    return dot_pdts / (norms + EPSILON)\n",
    "\n",
    "# Computes euclidean distances between x and all item embeddings\n",
    "def euclidean_distances(x):\n",
    "    return np.linalg.norm(item_embeddings - x, axis=1)\n",
    "\n",
    "# Computes top_n most similar items to an idx, \n",
    "def most_similar(idx, top_n=10, mode='euclidean'):\n",
    "    sorted_indexes=0\n",
    "    if mode=='euclidean':\n",
    "        dists = euclidean_distances(item_embeddings[idx])\n",
    "        sorted_indexes = np.argsort(dists)\n",
    "        idxs = sorted_indexes[0:top_n]\n",
    "        return list(zip(items[\"name\"][idxs], dists[idxs]))\n",
    "    else:\n",
    "        sims = cosine_similarities(item_embeddings[idx])\n",
    "        # [::-1] makes it possible to reverse the order of a numpy\n",
    "        # array, this is required because most similar items have\n",
    "        # a larger cosine similarity value\n",
    "        sorted_indexes = np.argsort(sims)[::-1]\n",
    "        idxs = sorted_indexes[0:top_n]\n",
    "        return list(zip(items[\"name\"][idxs], sims[idxs]))\n",
    "\n",
    "# sanity checks:\n",
    "print(\"cosine of item 1 and item 1: \"\n",
    "      + str(cosine(item_embeddings[1], item_embeddings[1])))\n",
    "euc_dists = euclidean_distances(item_embeddings[1])\n",
    "print(euc_dists.shape)\n",
    "print(euc_dists[1:5])\n",
    "print()\n",
    "\n",
    "# Test on movie 181: Return of the Jedi\n",
    "print(\"Items closest to 'Return of the Jedi':\")\n",
    "for title, dist in most_similar(181, mode=\"euclidean\"):\n",
    "    print(title, dist)\n",
    "\n",
    "\n",
    "# We observe that the embedding is poor at representing similarities\n",
    "# between movies, as most distance/similarities are very small/big \n",
    "# One may notice a few clusters though\n",
    "# it's interesting to plot the following distributions\n",
    "# plt.hist(euc_dists)\n",
    "\n",
    "# The reason for that is that the number of ratings is low and the embedding\n",
    "# does not automatically capture semantic relationships in that context. \n",
    "# Better representations arise with higher number of ratings, and less overfitting models\n"
   ]
  },
  {
   "cell_type": "markdown",
   "metadata": {},
   "source": [
    "### Visualizing embeddings using TSNE\n",
    "\n",
    "- we use scikit learn to visualize items embeddings\n",
    "- Try different perplexities, and visualize user embeddings as well\n",
    "- What can you conclude ?"
   ]
  },
  {
   "cell_type": "code",
   "execution_count": null,
   "metadata": {
    "collapsed": true
   },
   "outputs": [],
   "source": [
    "from sklearn.manifold import TSNE\n",
    "\n",
    "item_tsne = TSNE(perplexity=30).fit_transform(item_embeddings)"
   ]
  },
  {
   "cell_type": "code",
   "execution_count": null,
   "metadata": {
    "collapsed": false
   },
   "outputs": [],
   "source": [
    "import matplotlib.pyplot as plt\n",
    "\n",
    "plt.figure(figsize=(10, 10))\n",
    "plt.scatter(item_tsne[:, 0], item_tsne[:, 1]);\n",
    "plt.xticks(()); plt.yticks(());\n",
    "plt.show()"
   ]
  },
  {
   "cell_type": "markdown",
   "metadata": {},
   "source": [
    "## Using item metadata in the model\n",
    "\n",
    "Using a similar framework as previously, we will build another deep model that can also leverage additional metadata. The resulting system is therefore an **Hybrid Recommender System** that does both **Collaborative Filtering** and **Content-based recommendations**.\n",
    "\n",
    "<img src=\"images/rec_archi_3.svg\" style=\"width: 600px;\" />\n"
   ]
  },
  {
   "cell_type": "code",
   "execution_count": null,
   "metadata": {
    "collapsed": false
   },
   "outputs": [],
   "source": [
    "# transform the date (string) into an int representing the release year\n",
    "parsed_dates = [int(film_date[-4:])\n",
    "                for film_date in items[\"date\"].tolist()]\n",
    "\n",
    "items['parsed_date'] = pd.Series(parsed_dates, index=items.index)\n",
    "max_date = max(items['parsed_date'])\n",
    "min_date = min(items['parsed_date'])\n",
    "\n",
    "from sklearn.preprocessing import scale\n",
    "\n",
    "items['scaled_date'] = scale(items['parsed_date'].astype('float64'))\n",
    "item_meta_train = items[\"scaled_date\"][item_id_train]\n",
    "item_meta_test = items[\"scaled_date\"][item_id_test]\n",
    "\n",
    "len(item_meta_train), len(item_meta_test)"
   ]
  },
  {
   "cell_type": "code",
   "execution_count": null,
   "metadata": {
    "collapsed": false
   },
   "outputs": [],
   "source": [
    "items[\"scaled_date\"].describe()"
   ]
  },
  {
   "cell_type": "code",
   "execution_count": null,
   "metadata": {
    "collapsed": false
   },
   "outputs": [],
   "source": [
    "# For each sample we input the integer identifiers\n",
    "# of a single user and a single item\n",
    "user_id_input = Input(shape=[1], name='user')\n",
    "item_id_input = Input(shape=[1], name='item')\n",
    "meta_input = Input(shape=[1], name='meta_item')\n",
    "\n",
    "embedding_size = 32\n",
    "user_embedding = Embedding(output_dim=embedding_size, input_dim=max_user_id + 1,\n",
    "                           input_length=1, name='user_embedding')(user_id_input)\n",
    "item_embedding = Embedding(output_dim=embedding_size, input_dim=max_item_id + 1,\n",
    "                           input_length=1, name='item_embedding')(item_id_input)\n",
    "\n",
    "\n",
    "# reshape from shape: (batch_size, input_length, embedding_size)\n",
    "# to shape: (batch_size, input_length * embedding_size) which is\n",
    "# equal to shape: (batch_size, embedding_size)\n",
    "user_vecs = Flatten()(user_embedding)\n",
    "item_vecs = Flatten()(item_embedding)\n",
    "\n",
    "input_vecs = merge([user_vecs, item_vecs, meta_input], mode='concat')\n",
    "\n",
    "x = Dense(64, activation='relu')(input_vecs)\n",
    "x = Dropout(0.5)(x)\n",
    "x = Dense(32, activation='relu')(x)\n",
    "y = Dense(1)(x)\n",
    "\n",
    "model = Model(input=[user_id_input, item_id_input, meta_input], output=y)\n",
    "model.compile(optimizer='adam', loss='mae')\n",
    "\n",
    "initial_train_preds = model.predict([user_id_train, item_id_train, item_meta_train])"
   ]
  },
  {
   "cell_type": "code",
   "execution_count": null,
   "metadata": {
    "collapsed": false
   },
   "outputs": [],
   "source": [
    "%%time\n",
    "history = model.fit([user_id_train, item_id_train, item_meta_train], rating_train,\n",
    "                    batch_size=64, nb_epoch=15, validation_split=0.1,\n",
    "                    shuffle=True)"
   ]
  },
  {
   "cell_type": "code",
   "execution_count": null,
   "metadata": {
    "collapsed": false
   },
   "outputs": [],
   "source": [
    "test_preds = model.predict([user_id_test, item_id_test, item_meta_test])\n",
    "print(\"Final test Loss: %0.3f\" % mean_squared_error(test_preds, rating_test))\n",
    "print(\"Final test Loss: %0.3f\" % mean_absolute_error(test_preds, rating_test))"
   ]
  },
  {
   "cell_type": "markdown",
   "metadata": {},
   "source": [
    "### A recommendation function for a given user\n",
    "\n",
    "Once the model is trained, the system can be used to recommend a few items for a user, that he/she hasn't already seen:\n",
    "- we use the `model.predict` to compute the ratings a user would have given to all items\n",
    "- we build a reco function that sorts these items and exclude those the user has already seen"
   ]
  },
  {
   "cell_type": "code",
   "execution_count": null,
   "metadata": {
    "collapsed": false,
    "scrolled": true
   },
   "outputs": [],
   "source": [
    "def recommend(user_id, top_n=10):\n",
    "    item_ids = range(1, max_item_id)\n",
    "    seen_movies = list(all_ratings[all_ratings[\"user_id\"]==user_id][\"item_id\"])\n",
    "    item_ids = list(filter(lambda x: x not in seen_movies, item_ids))\n",
    "    \n",
    "    print(\"user \"+str(user_id) +\" has seen \"+str(len(seen_movies)) + \" movies. \"+\n",
    "          \"Computing ratings for \"+str(len(item_ids))+ \" other movies\")\n",
    "    \n",
    "    item_ids = np.array(item_ids)\n",
    "    user = np.zeros_like(item_ids)\n",
    "    user[:]=user_id\n",
    "    items_meta = items[\"scaled_date\"][item_ids].values\n",
    "    \n",
    "    rating_preds = model.predict([user, item_ids, items_meta])\n",
    "    \n",
    "    item_ids = np.argsort(rating_preds[:,0])[::-1].tolist()\n",
    "    rec_items = item_ids[:top_n]\n",
    "    return [(items[\"name\"][movie], rating_preds[movie][0]) for movie in rec_items]"
   ]
  },
  {
   "cell_type": "code",
   "execution_count": null,
   "metadata": {
    "collapsed": false
   },
   "outputs": [],
   "source": [
    "recommend(3)"
   ]
  },
  {
   "cell_type": "markdown",
   "metadata": {},
   "source": [
    "### Home assignment: Predicting ratings as a classification problem\n",
    "\n",
    "In this dataset, the ratings all belong to a finite set of possible values:"
   ]
  },
  {
   "cell_type": "code",
   "execution_count": null,
   "metadata": {
    "collapsed": false
   },
   "outputs": [],
   "source": [
    "import numpy as np\n",
    "\n",
    "np.unique(rating_train)"
   ]
  },
  {
   "cell_type": "markdown",
   "metadata": {},
   "source": [
    "Maybe we can help the model by forcing it to predict those values by treating the problem as a multiclassification problem. The only required changes are:\n",
    "\n",
    "- setting the final layer to output class membership probabities using a softmax activation with 5 outputs;\n",
    "- optimize the categorical cross-entropy classification loss instead of a regression loss such as MSE or MAE."
   ]
  },
  {
   "cell_type": "code",
   "execution_count": null,
   "metadata": {
    "collapsed": true
   },
   "outputs": [],
   "source": []
  },
  {
   "cell_type": "code",
   "execution_count": null,
   "metadata": {
    "collapsed": false
   },
   "outputs": [],
   "source": [
    "# %load solutions/classification.py"
   ]
  },
  {
   "cell_type": "code",
   "execution_count": null,
   "metadata": {
    "collapsed": true
   },
   "outputs": [],
   "source": []
  }
 ],
 "metadata": {
  "anaconda-cloud": {},
  "kernelspec": {
   "display_name": "Python [conda env:py35]",
   "language": "python",
   "name": "conda-env-py35-py"
  },
  "language_info": {
   "codemirror_mode": {
    "name": "ipython",
    "version": 3
   },
   "file_extension": ".py",
   "mimetype": "text/x-python",
   "name": "python",
   "nbconvert_exporter": "python",
   "pygments_lexer": "ipython3",
   "version": "3.5.2"
  }
 },
 "nbformat": 4,
 "nbformat_minor": 1
}
