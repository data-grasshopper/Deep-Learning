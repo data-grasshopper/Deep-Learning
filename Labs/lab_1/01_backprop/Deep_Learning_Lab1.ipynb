{
 "cells": [
  {
   "cell_type": "markdown",
   "metadata": {},
   "source": [
    "# Deep Learning -- Lab1 -- Backpropagation and Multilayer Neural Networks\n",
    "#### Professors: C. Ollion (Heuritech), O. Grisel (INRIA)\n",
    "#### Author: Peter Martigny -- M2 Data Science -- Université Paris Saclay"
   ]
  },
  {
   "cell_type": "markdown",
   "metadata": {},
   "source": [
    "### Goals: \n",
    "- Intro: train a neural network with high level framework `Keras`\n",
    "- Diving deep: implement a real gradient descent in `Numpy`\n",
    "- Auto-differentiation: the basics of `TensorFlow`\n",
    "\n",
    "### Dataset:\n",
    "- Digits: 10 class handwritten digits\n",
    "- http://scikit-learn.org/stable/modules/generated/sklearn.datasets.load_digits.html#sklearn.datasets.load_digits"
   ]
  },
  {
   "cell_type": "code",
   "execution_count": 1,
   "metadata": {
    "collapsed": false
   },
   "outputs": [
    {
     "data": {
      "image/png": "[encoded data removed]",
      "text/plain": [
       "<matplotlib.figure.Figure at 0x217b80b5358>"
      ]
     },
     "metadata": {},
     "output_type": "display_data"
    },
    {
     "name": "stdout",
     "output_type": "stream",
     "text": [
      "Start Train/Test Split\n",
      "Train/Test Split is done!\n",
      "Start Normalization\n",
      "Normalization is done!\n"
     ]
    },
    {
     "data": {
      "image/png": "[encoded data removed]",
      "text/plain": [
       "<matplotlib.figure.Figure at 0x217baadb4a8>"
      ]
     },
     "metadata": {},
     "output_type": "display_data"
    },
    {
     "data": {
      "image/png": "[encoded data removed]",
      "text/plain": [
       "<matplotlib.figure.Figure at 0x217bab46f98>"
      ]
     },
     "metadata": {},
     "output_type": "display_data"
    },
    {
     "name": "stdout",
     "output_type": "stream",
     "text": [
      "Dimensions of the train set: \n",
      "(1527, 64) (1527,)\n",
      "Dimensions of the test set: \n",
      "(270, 64) (270,)\n"
     ]
    }
   ],
   "source": [
    "############ Load the dataset and show an example ##########################\n",
    "%matplotlib inline \n",
    "# display figures in the notebook\n",
    "import matplotlib.pyplot as plt\n",
    "import numpy as np\n",
    "from sklearn.datasets import load_digits\n",
    "\n",
    "digits = load_digits()\n",
    "\n",
    "sample_index = 45\n",
    "plt.figure(figsize=(3, 3))\n",
    "plt.imshow(digits.images[sample_index], cmap=plt.cm.gray_r,\n",
    "           interpolation='nearest')\n",
    "plt.title(\"image label: %d\" % digits.target[sample_index])\n",
    "plt.show()\n",
    "\n",
    "\n",
    "######### Normalization of data + Train/Test split ###############\n",
    "from sklearn import preprocessing\n",
    "from sklearn.model_selection import train_test_split\n",
    "\n",
    "data = np.asarray(digits.data, dtype='float32')\n",
    "target = np.asarray(digits.target, dtype='int32')\n",
    "\n",
    "print('Start Train/Test Split')\n",
    "X_train, X_test, y_train, y_test = train_test_split(\n",
    "    data, target, test_size=0.15, random_state=37)\n",
    "print('Train/Test Split is done!')\n",
    "\n",
    "print('Start Normalization')\n",
    "scaler = preprocessing.StandardScaler()\n",
    "X_train = scaler.fit_transform(X_train)\n",
    "X_test = scaler.transform(X_test)\n",
    "print('Normalization is done!')\n",
    "\n",
    "######### Example after normalization ###############\n",
    "sample_index = 45\n",
    "plt.figure(figsize=(3, 3))\n",
    "plt.imshow(X_train[sample_index].reshape(8, 8),\n",
    "           cmap=plt.cm.gray_r, interpolation='nearest')\n",
    "plt.title(\"transformed sample\\n(standardization)\")\n",
    "plt.show()\n",
    "\n",
    "############ Recover the initial example #################\n",
    "plt.figure(figsize=(3, 3))\n",
    "plt.imshow(scaler.inverse_transform(X_train[sample_index]).reshape(8, 8),\n",
    "           cmap=plt.cm.gray_r, interpolation='nearest')\n",
    "plt.title(\"original sample\")\n",
    "plt.show()\n",
    "\n",
    "############ Dimensions used here #################\n",
    "print('Dimensions of the train set: ')\n",
    "print(X_train.shape, y_train.shape)\n",
    "print('Dimensions of the test set: ')\n",
    "print(X_test.shape, y_test.shape)"
   ]
  },
  {
   "cell_type": "markdown",
   "metadata": {},
   "source": [
    "# I) Feed Forward NN with Keras\n",
    "\n",
    "Objectives of this section:\n",
    "\n",
    "- Build and train a first feedforward network using `Keras`\n",
    "    - https://keras.io/getting-started/sequential-model-guide/\n",
    "- Experiment with different optimizers, activations, size of layers, initializations\n",
    "\n",
    "### Keras Workflow"
   ]
  },
  {
   "cell_type": "code",
   "execution_count": 2,
   "metadata": {
    "collapsed": false
   },
   "outputs": [
    {
     "name": "stderr",
     "output_type": "stream",
     "text": [
      "Using TensorFlow backend.\n"
     ]
    },
    {
     "data": {
      "text/plain": [
       "array([[ 0.,  0.,  1.,  0.,  0.,  0.,  0.,  0.,  0.,  0.],\n",
       "       [ 0.,  0.,  0.,  0.,  0.,  0.,  0.,  0.,  0.,  1.],\n",
       "       [ 0.,  0.,  0.,  0.,  0.,  1.,  0.,  0.,  0.,  0.]])"
      ]
     },
     "execution_count": 2,
     "metadata": {},
     "output_type": "execute_result"
    }
   ],
   "source": [
    "############## Encode labels into one-hot vectors #############\"\n",
    "from keras.utils.np_utils import to_categorical\n",
    "\n",
    "Y_train = to_categorical(y_train)\n",
    "Y_train[:3]"
   ]
  },
  {
   "cell_type": "markdown",
   "metadata": {},
   "source": [
    "We can now build an train our first feed forward neural network using the high level API from keras:\n",
    "\n",
    "- first we define the model by stacking layers with the right dimensions\n",
    "- then we define a loss function and plug the SGD optimizer\n",
    "- then we feed the model the training data for fixed number of epochs"
   ]
  },
  {
   "cell_type": "code",
   "execution_count": 3,
   "metadata": {
    "collapsed": false
   },
   "outputs": [
    {
     "name": "stdout",
     "output_type": "stream",
     "text": [
      "Epoch 1/15\n"
     ]
    },
    {
     "ename": "InternalError",
     "evalue": "Blas SGEMM launch failed : a.shape=(32, 64), b.shape=(64, 100), m=32, n=100, k=64\n\t [[Node: MatMul = MatMul[T=DT_FLOAT, transpose_a=false, transpose_b=false, _device=\"/job:localhost/replica:0/task:0/gpu:0\"](_recv_dense_input_1_0/_9, dense_1_W/read)]]\n\nCaused by op 'MatMul', defined at:\n  File \"C:\\Users\\Peter martigny\\Anaconda3\\envs\\py35\\lib\\runpy.py\", line 184, in _run_module_as_main\n    \"__main__\", mod_spec)\n  File \"C:\\Users\\Peter martigny\\Anaconda3\\envs\\py35\\lib\\runpy.py\", line 85, in _run_code\n    exec(code, run_globals)\n  File \"C:\\Users\\Peter martigny\\Anaconda3\\envs\\py35\\lib\\site-packages\\ipykernel\\__main__.py\", line 3, in <module>\n    app.launch_new_instance()\n  File \"C:\\Users\\Peter martigny\\Anaconda3\\envs\\py35\\lib\\site-packages\\traitlets\\config\\application.py\", line 658, in launch_instance\n    app.start()\n  File \"C:\\Users\\Peter martigny\\Anaconda3\\envs\\py35\\lib\\site-packages\\ipykernel\\kernelapp.py\", line 474, in start\n    ioloop.IOLoop.instance().start()\n  File \"C:\\Users\\Peter martigny\\Anaconda3\\envs\\py35\\lib\\site-packages\\zmq\\eventloop\\ioloop.py\", line 177, in start\n    super(ZMQIOLoop, self).start()\n  File \"C:\\Users\\Peter martigny\\Anaconda3\\envs\\py35\\lib\\site-packages\\tornado\\ioloop.py\", line 887, in start\n    handler_func(fd_obj, events)\n  File \"C:\\Users\\Peter martigny\\Anaconda3\\envs\\py35\\lib\\site-packages\\tornado\\stack_context.py\", line 275, in null_wrapper\n    return fn(*args, **kwargs)\n  File \"C:\\Users\\Peter martigny\\Anaconda3\\envs\\py35\\lib\\site-packages\\zmq\\eventloop\\zmqstream.py\", line 440, in _handle_events\n    self._handle_recv()\n  File \"C:\\Users\\Peter martigny\\Anaconda3\\envs\\py35\\lib\\site-packages\\zmq\\eventloop\\zmqstream.py\", line 472, in _handle_recv\n    self._run_callback(callback, msg)\n  File \"C:\\Users\\Peter martigny\\Anaconda3\\envs\\py35\\lib\\site-packages\\zmq\\eventloop\\zmqstream.py\", line 414, in _run_callback\n    callback(*args, **kwargs)\n  File \"C:\\Users\\Peter martigny\\Anaconda3\\envs\\py35\\lib\\site-packages\\tornado\\stack_context.py\", line 275, in null_wrapper\n    return fn(*args, **kwargs)\n  File \"C:\\Users\\Peter martigny\\Anaconda3\\envs\\py35\\lib\\site-packages\\ipykernel\\kernelbase.py\", line 276, in dispatcher\n    return self.dispatch_shell(stream, msg)\n  File \"C:\\Users\\Peter martigny\\Anaconda3\\envs\\py35\\lib\\site-packages\\ipykernel\\kernelbase.py\", line 228, in dispatch_shell\n    handler(stream, idents, msg)\n  File \"C:\\Users\\Peter martigny\\Anaconda3\\envs\\py35\\lib\\site-packages\\ipykernel\\kernelbase.py\", line 390, in execute_request\n    user_expressions, allow_stdin)\n  File \"C:\\Users\\Peter martigny\\Anaconda3\\envs\\py35\\lib\\site-packages\\ipykernel\\ipkernel.py\", line 196, in do_execute\n    res = shell.run_cell(code, store_history=store_history, silent=silent)\n  File \"C:\\Users\\Peter martigny\\Anaconda3\\envs\\py35\\lib\\site-packages\\ipykernel\\zmqshell.py\", line 501, in run_cell\n    return super(ZMQInteractiveShell, self).run_cell(*args, **kwargs)\n  File \"C:\\Users\\Peter martigny\\Anaconda3\\envs\\py35\\lib\\site-packages\\IPython\\core\\interactiveshell.py\", line 2717, in run_cell\n    interactivity=interactivity, compiler=compiler, result=result)\n  File \"C:\\Users\\Peter martigny\\Anaconda3\\envs\\py35\\lib\\site-packages\\IPython\\core\\interactiveshell.py\", line 2821, in run_ast_nodes\n    if self.run_code(code, result):\n  File \"C:\\Users\\Peter martigny\\Anaconda3\\envs\\py35\\lib\\site-packages\\IPython\\core\\interactiveshell.py\", line 2881, in run_code\n    exec(code_obj, self.user_global_ns, self.user_ns)\n  File \"<ipython-input-3-bcf2dffff4de>\", line 14, in <module>\n    model.add(Dense(H, input_dim=N))\n  File \"C:\\Users\\Peter martigny\\Anaconda3\\envs\\py35\\lib\\site-packages\\keras\\models.py\", line 294, in add\n    layer.create_input_layer(batch_input_shape, input_dtype)\n  File \"C:\\Users\\Peter martigny\\Anaconda3\\envs\\py35\\lib\\site-packages\\keras\\engine\\topology.py\", line 398, in create_input_layer\n    self(x)\n  File \"C:\\Users\\Peter martigny\\Anaconda3\\envs\\py35\\lib\\site-packages\\keras\\engine\\topology.py\", line 569, in __call__\n    self.add_inbound_node(inbound_layers, node_indices, tensor_indices)\n  File \"C:\\Users\\Peter martigny\\Anaconda3\\envs\\py35\\lib\\site-packages\\keras\\engine\\topology.py\", line 632, in add_inbound_node\n    Node.create_node(self, inbound_layers, node_indices, tensor_indices)\n  File \"C:\\Users\\Peter martigny\\Anaconda3\\envs\\py35\\lib\\site-packages\\keras\\engine\\topology.py\", line 164, in create_node\n    output_tensors = to_list(outbound_layer.call(input_tensors[0], mask=input_masks[0]))\n  File \"C:\\Users\\Peter martigny\\Anaconda3\\envs\\py35\\lib\\site-packages\\keras\\layers\\core.py\", line 768, in call\n    output = K.dot(x, self.W)\n  File \"C:\\Users\\Peter martigny\\Anaconda3\\envs\\py35\\lib\\site-packages\\keras\\backend\\tensorflow_backend.py\", line 807, in dot\n    out = tf.matmul(x, y)\n  File \"C:\\Users\\Peter martigny\\Anaconda3\\envs\\py35\\lib\\site-packages\\tensorflow\\python\\ops\\math_ops.py\", line 1729, in matmul\n    a, b, transpose_a=transpose_a, transpose_b=transpose_b, name=name)\n  File \"C:\\Users\\Peter martigny\\Anaconda3\\envs\\py35\\lib\\site-packages\\tensorflow\\python\\ops\\gen_math_ops.py\", line 1442, in _mat_mul\n    transpose_b=transpose_b, name=name)\n  File \"C:\\Users\\Peter martigny\\Anaconda3\\envs\\py35\\lib\\site-packages\\tensorflow\\python\\framework\\op_def_library.py\", line 759, in apply_op\n    op_def=op_def)\n  File \"C:\\Users\\Peter martigny\\Anaconda3\\envs\\py35\\lib\\site-packages\\tensorflow\\python\\framework\\ops.py\", line 2240, in create_op\n    original_op=self._default_original_op, op_def=op_def)\n  File \"C:\\Users\\Peter martigny\\Anaconda3\\envs\\py35\\lib\\site-packages\\tensorflow\\python\\framework\\ops.py\", line 1128, in __init__\n    self._traceback = _extract_stack()\n\nInternalError (see above for traceback): Blas SGEMM launch failed : a.shape=(32, 64), b.shape=(64, 100), m=32, n=100, k=64\n\t [[Node: MatMul = MatMul[T=DT_FLOAT, transpose_a=false, transpose_b=false, _device=\"/job:localhost/replica:0/task:0/gpu:0\"](_recv_dense_input_1_0/_9, dense_1_W/read)]]\n",
     "output_type": "error",
     "traceback": [
      "\u001b[0;31m---------------------------------------------------------------------------\u001b[0m",
      "\u001b[0;31mInternalError\u001b[0m                             Traceback (most recent call last)",
      "\u001b[0;32mC:\\Users\\Peter martigny\\Anaconda3\\envs\\py35\\lib\\site-packages\\tensorflow\\python\\client\\session.py\u001b[0m in \u001b[0;36m_do_call\u001b[0;34m(self, fn, *args)\u001b[0m\n\u001b[1;32m   1020\u001b[0m     \u001b[1;32mtry\u001b[0m\u001b[1;33m:\u001b[0m\u001b[1;33m\u001b[0m\u001b[0m\n\u001b[0;32m-> 1021\u001b[0;31m       \u001b[1;32mreturn\u001b[0m \u001b[0mfn\u001b[0m\u001b[1;33m(\u001b[0m\u001b[1;33m*\u001b[0m\u001b[0margs\u001b[0m\u001b[1;33m)\u001b[0m\u001b[1;33m\u001b[0m\u001b[0m\n\u001b[0m\u001b[1;32m   1022\u001b[0m     \u001b[1;32mexcept\u001b[0m \u001b[0merrors\u001b[0m\u001b[1;33m.\u001b[0m\u001b[0mOpError\u001b[0m \u001b[1;32mas\u001b[0m \u001b[0me\u001b[0m\u001b[1;33m:\u001b[0m\u001b[1;33m\u001b[0m\u001b[0m\n",
      "\u001b[0;32mC:\\Users\\Peter martigny\\Anaconda3\\envs\\py35\\lib\\site-packages\\tensorflow\\python\\client\\session.py\u001b[0m in \u001b[0;36m_run_fn\u001b[0;34m(session, feed_dict, fetch_list, target_list, options, run_metadata)\u001b[0m\n\u001b[1;32m   1002\u001b[0m                                  \u001b[0mfeed_dict\u001b[0m\u001b[1;33m,\u001b[0m \u001b[0mfetch_list\u001b[0m\u001b[1;33m,\u001b[0m \u001b[0mtarget_list\u001b[0m\u001b[1;33m,\u001b[0m\u001b[1;33m\u001b[0m\u001b[0m\n\u001b[0;32m-> 1003\u001b[0;31m                                  status, run_metadata)\n\u001b[0m\u001b[1;32m   1004\u001b[0m \u001b[1;33m\u001b[0m\u001b[0m\n",
      "\u001b[0;32mC:\\Users\\Peter martigny\\Anaconda3\\envs\\py35\\lib\\contextlib.py\u001b[0m in \u001b[0;36m__exit__\u001b[0;34m(self, type, value, traceback)\u001b[0m\n\u001b[1;32m     65\u001b[0m             \u001b[1;32mtry\u001b[0m\u001b[1;33m:\u001b[0m\u001b[1;33m\u001b[0m\u001b[0m\n\u001b[0;32m---> 66\u001b[0;31m                 \u001b[0mnext\u001b[0m\u001b[1;33m(\u001b[0m\u001b[0mself\u001b[0m\u001b[1;33m.\u001b[0m\u001b[0mgen\u001b[0m\u001b[1;33m)\u001b[0m\u001b[1;33m\u001b[0m\u001b[0m\n\u001b[0m\u001b[1;32m     67\u001b[0m             \u001b[1;32mexcept\u001b[0m \u001b[0mStopIteration\u001b[0m\u001b[1;33m:\u001b[0m\u001b[1;33m\u001b[0m\u001b[0m\n",
      "\u001b[0;32mC:\\Users\\Peter martigny\\Anaconda3\\envs\\py35\\lib\\site-packages\\tensorflow\\python\\framework\\errors_impl.py\u001b[0m in \u001b[0;36mraise_exception_on_not_ok_status\u001b[0;34m()\u001b[0m\n\u001b[1;32m    468\u001b[0m           \u001b[0mcompat\u001b[0m\u001b[1;33m.\u001b[0m\u001b[0mas_text\u001b[0m\u001b[1;33m(\u001b[0m\u001b[0mpywrap_tensorflow\u001b[0m\u001b[1;33m.\u001b[0m\u001b[0mTF_Message\u001b[0m\u001b[1;33m(\u001b[0m\u001b[0mstatus\u001b[0m\u001b[1;33m)\u001b[0m\u001b[1;33m)\u001b[0m\u001b[1;33m,\u001b[0m\u001b[1;33m\u001b[0m\u001b[0m\n\u001b[0;32m--> 469\u001b[0;31m           pywrap_tensorflow.TF_GetCode(status))\n\u001b[0m\u001b[1;32m    470\u001b[0m   \u001b[1;32mfinally\u001b[0m\u001b[1;33m:\u001b[0m\u001b[1;33m\u001b[0m\u001b[0m\n",
      "\u001b[0;31mInternalError\u001b[0m: Blas SGEMM launch failed : a.shape=(32, 64), b.shape=(64, 100), m=32, n=100, k=64\n\t [[Node: MatMul = MatMul[T=DT_FLOAT, transpose_a=false, transpose_b=false, _device=\"/job:localhost/replica:0/task:0/gpu:0\"](_recv_dense_input_1_0/_9, dense_1_W/read)]]",
      "\nDuring handling of the above exception, another exception occurred:\n",
      "\u001b[0;31mInternalError\u001b[0m                             Traceback (most recent call last)",
      "\u001b[0;32m<ipython-input-3-bcf2dffff4de>\u001b[0m in \u001b[0;36m<module>\u001b[0;34m()\u001b[0m\n\u001b[1;32m     23\u001b[0m \u001b[1;31m########### Fit the previously defined model on the train set ##############\u001b[0m\u001b[1;33m\u001b[0m\u001b[1;33m\u001b[0m\u001b[0m\n\u001b[1;32m     24\u001b[0m \u001b[0mstart\u001b[0m \u001b[1;33m=\u001b[0m \u001b[0mtime\u001b[0m\u001b[1;33m.\u001b[0m\u001b[0mtime\u001b[0m\u001b[1;33m(\u001b[0m\u001b[1;33m)\u001b[0m\u001b[1;33m\u001b[0m\u001b[0m\n\u001b[0;32m---> 25\u001b[0;31m \u001b[0mhistory\u001b[0m \u001b[1;33m=\u001b[0m \u001b[0mmodel\u001b[0m\u001b[1;33m.\u001b[0m\u001b[0mfit\u001b[0m\u001b[1;33m(\u001b[0m\u001b[0mX_train\u001b[0m\u001b[1;33m,\u001b[0m \u001b[0mY_train\u001b[0m\u001b[1;33m,\u001b[0m \u001b[0mnb_epoch\u001b[0m\u001b[1;33m=\u001b[0m\u001b[1;36m15\u001b[0m\u001b[1;33m,\u001b[0m \u001b[0mbatch_size\u001b[0m\u001b[1;33m=\u001b[0m\u001b[1;36m32\u001b[0m\u001b[1;33m)\u001b[0m\u001b[1;33m\u001b[0m\u001b[0m\n\u001b[0m\u001b[1;32m     26\u001b[0m \u001b[0mexec_time\u001b[0m \u001b[1;33m=\u001b[0m \u001b[0mtime\u001b[0m\u001b[1;33m.\u001b[0m\u001b[0mtime\u001b[0m\u001b[1;33m(\u001b[0m\u001b[1;33m)\u001b[0m \u001b[1;33m-\u001b[0m \u001b[0mstart\u001b[0m\u001b[1;33m\u001b[0m\u001b[0m\n\u001b[1;32m     27\u001b[0m \u001b[1;33m\u001b[0m\u001b[0m\n",
      "\u001b[0;32mC:\\Users\\Peter martigny\\Anaconda3\\envs\\py35\\lib\\site-packages\\keras\\models.py\u001b[0m in \u001b[0;36mfit\u001b[0;34m(self, x, y, batch_size, nb_epoch, verbose, callbacks, validation_split, validation_data, shuffle, class_weight, sample_weight, **kwargs)\u001b[0m\n\u001b[1;32m    662\u001b[0m                               \u001b[0mshuffle\u001b[0m\u001b[1;33m=\u001b[0m\u001b[0mshuffle\u001b[0m\u001b[1;33m,\u001b[0m\u001b[1;33m\u001b[0m\u001b[0m\n\u001b[1;32m    663\u001b[0m                               \u001b[0mclass_weight\u001b[0m\u001b[1;33m=\u001b[0m\u001b[0mclass_weight\u001b[0m\u001b[1;33m,\u001b[0m\u001b[1;33m\u001b[0m\u001b[0m\n\u001b[0;32m--> 664\u001b[0;31m                               sample_weight=sample_weight)\n\u001b[0m\u001b[1;32m    665\u001b[0m \u001b[1;33m\u001b[0m\u001b[0m\n\u001b[1;32m    666\u001b[0m     def evaluate(self, x, y, batch_size=32, verbose=1,\n",
      "\u001b[0;32mC:\\Users\\Peter martigny\\Anaconda3\\envs\\py35\\lib\\site-packages\\keras\\engine\\training.py\u001b[0m in \u001b[0;36mfit\u001b[0;34m(self, x, y, batch_size, nb_epoch, verbose, callbacks, validation_split, validation_data, shuffle, class_weight, sample_weight, initial_epoch)\u001b[0m\n\u001b[1;32m   1141\u001b[0m                               \u001b[0mval_f\u001b[0m\u001b[1;33m=\u001b[0m\u001b[0mval_f\u001b[0m\u001b[1;33m,\u001b[0m \u001b[0mval_ins\u001b[0m\u001b[1;33m=\u001b[0m\u001b[0mval_ins\u001b[0m\u001b[1;33m,\u001b[0m \u001b[0mshuffle\u001b[0m\u001b[1;33m=\u001b[0m\u001b[0mshuffle\u001b[0m\u001b[1;33m,\u001b[0m\u001b[1;33m\u001b[0m\u001b[0m\n\u001b[1;32m   1142\u001b[0m                               \u001b[0mcallback_metrics\u001b[0m\u001b[1;33m=\u001b[0m\u001b[0mcallback_metrics\u001b[0m\u001b[1;33m,\u001b[0m\u001b[1;33m\u001b[0m\u001b[0m\n\u001b[0;32m-> 1143\u001b[0;31m                               initial_epoch=initial_epoch)\n\u001b[0m\u001b[1;32m   1144\u001b[0m \u001b[1;33m\u001b[0m\u001b[0m\n\u001b[1;32m   1145\u001b[0m     \u001b[1;32mdef\u001b[0m \u001b[0mevaluate\u001b[0m\u001b[1;33m(\u001b[0m\u001b[0mself\u001b[0m\u001b[1;33m,\u001b[0m \u001b[0mx\u001b[0m\u001b[1;33m,\u001b[0m \u001b[0my\u001b[0m\u001b[1;33m,\u001b[0m \u001b[0mbatch_size\u001b[0m\u001b[1;33m=\u001b[0m\u001b[1;36m32\u001b[0m\u001b[1;33m,\u001b[0m \u001b[0mverbose\u001b[0m\u001b[1;33m=\u001b[0m\u001b[1;36m1\u001b[0m\u001b[1;33m,\u001b[0m \u001b[0msample_weight\u001b[0m\u001b[1;33m=\u001b[0m\u001b[1;32mNone\u001b[0m\u001b[1;33m)\u001b[0m\u001b[1;33m:\u001b[0m\u001b[1;33m\u001b[0m\u001b[0m\n",
      "\u001b[0;32mC:\\Users\\Peter martigny\\Anaconda3\\envs\\py35\\lib\\site-packages\\keras\\engine\\training.py\u001b[0m in \u001b[0;36m_fit_loop\u001b[0;34m(self, f, ins, out_labels, batch_size, nb_epoch, verbose, callbacks, val_f, val_ins, shuffle, callback_metrics, initial_epoch)\u001b[0m\n\u001b[1;32m    841\u001b[0m                 \u001b[0mbatch_logs\u001b[0m\u001b[1;33m[\u001b[0m\u001b[1;34m'size'\u001b[0m\u001b[1;33m]\u001b[0m \u001b[1;33m=\u001b[0m \u001b[0mlen\u001b[0m\u001b[1;33m(\u001b[0m\u001b[0mbatch_ids\u001b[0m\u001b[1;33m)\u001b[0m\u001b[1;33m\u001b[0m\u001b[0m\n\u001b[1;32m    842\u001b[0m                 \u001b[0mcallbacks\u001b[0m\u001b[1;33m.\u001b[0m\u001b[0mon_batch_begin\u001b[0m\u001b[1;33m(\u001b[0m\u001b[0mbatch_index\u001b[0m\u001b[1;33m,\u001b[0m \u001b[0mbatch_logs\u001b[0m\u001b[1;33m)\u001b[0m\u001b[1;33m\u001b[0m\u001b[0m\n\u001b[0;32m--> 843\u001b[0;31m                 \u001b[0mouts\u001b[0m \u001b[1;33m=\u001b[0m \u001b[0mf\u001b[0m\u001b[1;33m(\u001b[0m\u001b[0mins_batch\u001b[0m\u001b[1;33m)\u001b[0m\u001b[1;33m\u001b[0m\u001b[0m\n\u001b[0m\u001b[1;32m    844\u001b[0m                 \u001b[1;32mif\u001b[0m \u001b[1;32mnot\u001b[0m \u001b[0misinstance\u001b[0m\u001b[1;33m(\u001b[0m\u001b[0mouts\u001b[0m\u001b[1;33m,\u001b[0m \u001b[0mlist\u001b[0m\u001b[1;33m)\u001b[0m\u001b[1;33m:\u001b[0m\u001b[1;33m\u001b[0m\u001b[0m\n\u001b[1;32m    845\u001b[0m                     \u001b[0mouts\u001b[0m \u001b[1;33m=\u001b[0m \u001b[1;33m[\u001b[0m\u001b[0mouts\u001b[0m\u001b[1;33m]\u001b[0m\u001b[1;33m\u001b[0m\u001b[0m\n",
      "\u001b[0;32mC:\\Users\\Peter martigny\\Anaconda3\\envs\\py35\\lib\\site-packages\\keras\\backend\\tensorflow_backend.py\u001b[0m in \u001b[0;36m__call__\u001b[0;34m(self, inputs)\u001b[0m\n\u001b[1;32m   1601\u001b[0m         \u001b[0msession\u001b[0m \u001b[1;33m=\u001b[0m \u001b[0mget_session\u001b[0m\u001b[1;33m(\u001b[0m\u001b[1;33m)\u001b[0m\u001b[1;33m\u001b[0m\u001b[0m\n\u001b[1;32m   1602\u001b[0m         updated = session.run(self.outputs + [self.updates_op],\n\u001b[0;32m-> 1603\u001b[0;31m                               feed_dict=feed_dict)\n\u001b[0m\u001b[1;32m   1604\u001b[0m         \u001b[1;32mreturn\u001b[0m \u001b[0mupdated\u001b[0m\u001b[1;33m[\u001b[0m\u001b[1;33m:\u001b[0m\u001b[0mlen\u001b[0m\u001b[1;33m(\u001b[0m\u001b[0mself\u001b[0m\u001b[1;33m.\u001b[0m\u001b[0moutputs\u001b[0m\u001b[1;33m)\u001b[0m\u001b[1;33m]\u001b[0m\u001b[1;33m\u001b[0m\u001b[0m\n\u001b[1;32m   1605\u001b[0m \u001b[1;33m\u001b[0m\u001b[0m\n",
      "\u001b[0;32mC:\\Users\\Peter martigny\\Anaconda3\\envs\\py35\\lib\\site-packages\\tensorflow\\python\\client\\session.py\u001b[0m in \u001b[0;36mrun\u001b[0;34m(self, fetches, feed_dict, options, run_metadata)\u001b[0m\n\u001b[1;32m    764\u001b[0m     \u001b[1;32mtry\u001b[0m\u001b[1;33m:\u001b[0m\u001b[1;33m\u001b[0m\u001b[0m\n\u001b[1;32m    765\u001b[0m       result = self._run(None, fetches, feed_dict, options_ptr,\n\u001b[0;32m--> 766\u001b[0;31m                          run_metadata_ptr)\n\u001b[0m\u001b[1;32m    767\u001b[0m       \u001b[1;32mif\u001b[0m \u001b[0mrun_metadata\u001b[0m\u001b[1;33m:\u001b[0m\u001b[1;33m\u001b[0m\u001b[0m\n\u001b[1;32m    768\u001b[0m         \u001b[0mproto_data\u001b[0m \u001b[1;33m=\u001b[0m \u001b[0mtf_session\u001b[0m\u001b[1;33m.\u001b[0m\u001b[0mTF_GetBuffer\u001b[0m\u001b[1;33m(\u001b[0m\u001b[0mrun_metadata_ptr\u001b[0m\u001b[1;33m)\u001b[0m\u001b[1;33m\u001b[0m\u001b[0m\n",
      "\u001b[0;32mC:\\Users\\Peter martigny\\Anaconda3\\envs\\py35\\lib\\site-packages\\tensorflow\\python\\client\\session.py\u001b[0m in \u001b[0;36m_run\u001b[0;34m(self, handle, fetches, feed_dict, options, run_metadata)\u001b[0m\n\u001b[1;32m    962\u001b[0m     \u001b[1;32mif\u001b[0m \u001b[0mfinal_fetches\u001b[0m \u001b[1;32mor\u001b[0m \u001b[0mfinal_targets\u001b[0m\u001b[1;33m:\u001b[0m\u001b[1;33m\u001b[0m\u001b[0m\n\u001b[1;32m    963\u001b[0m       results = self._do_run(handle, final_targets, final_fetches,\n\u001b[0;32m--> 964\u001b[0;31m                              feed_dict_string, options, run_metadata)\n\u001b[0m\u001b[1;32m    965\u001b[0m     \u001b[1;32melse\u001b[0m\u001b[1;33m:\u001b[0m\u001b[1;33m\u001b[0m\u001b[0m\n\u001b[1;32m    966\u001b[0m       \u001b[0mresults\u001b[0m \u001b[1;33m=\u001b[0m \u001b[1;33m[\u001b[0m\u001b[1;33m]\u001b[0m\u001b[1;33m\u001b[0m\u001b[0m\n",
      "\u001b[0;32mC:\\Users\\Peter martigny\\Anaconda3\\envs\\py35\\lib\\site-packages\\tensorflow\\python\\client\\session.py\u001b[0m in \u001b[0;36m_do_run\u001b[0;34m(self, handle, target_list, fetch_list, feed_dict, options, run_metadata)\u001b[0m\n\u001b[1;32m   1012\u001b[0m     \u001b[1;32mif\u001b[0m \u001b[0mhandle\u001b[0m \u001b[1;32mis\u001b[0m \u001b[1;32mNone\u001b[0m\u001b[1;33m:\u001b[0m\u001b[1;33m\u001b[0m\u001b[0m\n\u001b[1;32m   1013\u001b[0m       return self._do_call(_run_fn, self._session, feed_dict, fetch_list,\n\u001b[0;32m-> 1014\u001b[0;31m                            target_list, options, run_metadata)\n\u001b[0m\u001b[1;32m   1015\u001b[0m     \u001b[1;32melse\u001b[0m\u001b[1;33m:\u001b[0m\u001b[1;33m\u001b[0m\u001b[0m\n\u001b[1;32m   1016\u001b[0m       return self._do_call(_prun_fn, self._session, handle, feed_dict,\n",
      "\u001b[0;32mC:\\Users\\Peter martigny\\Anaconda3\\envs\\py35\\lib\\site-packages\\tensorflow\\python\\client\\session.py\u001b[0m in \u001b[0;36m_do_call\u001b[0;34m(self, fn, *args)\u001b[0m\n\u001b[1;32m   1032\u001b[0m         \u001b[1;32mexcept\u001b[0m \u001b[0mKeyError\u001b[0m\u001b[1;33m:\u001b[0m\u001b[1;33m\u001b[0m\u001b[0m\n\u001b[1;32m   1033\u001b[0m           \u001b[1;32mpass\u001b[0m\u001b[1;33m\u001b[0m\u001b[0m\n\u001b[0;32m-> 1034\u001b[0;31m       \u001b[1;32mraise\u001b[0m \u001b[0mtype\u001b[0m\u001b[1;33m(\u001b[0m\u001b[0me\u001b[0m\u001b[1;33m)\u001b[0m\u001b[1;33m(\u001b[0m\u001b[0mnode_def\u001b[0m\u001b[1;33m,\u001b[0m \u001b[0mop\u001b[0m\u001b[1;33m,\u001b[0m \u001b[0mmessage\u001b[0m\u001b[1;33m)\u001b[0m\u001b[1;33m\u001b[0m\u001b[0m\n\u001b[0m\u001b[1;32m   1035\u001b[0m \u001b[1;33m\u001b[0m\u001b[0m\n\u001b[1;32m   1036\u001b[0m   \u001b[1;32mdef\u001b[0m \u001b[0m_extend_graph\u001b[0m\u001b[1;33m(\u001b[0m\u001b[0mself\u001b[0m\u001b[1;33m)\u001b[0m\u001b[1;33m:\u001b[0m\u001b[1;33m\u001b[0m\u001b[0m\n",
      "\u001b[0;31mInternalError\u001b[0m: Blas SGEMM launch failed : a.shape=(32, 64), b.shape=(64, 100), m=32, n=100, k=64\n\t [[Node: MatMul = MatMul[T=DT_FLOAT, transpose_a=false, transpose_b=false, _device=\"/job:localhost/replica:0/task:0/gpu:0\"](_recv_dense_input_1_0/_9, dense_1_W/read)]]\n\nCaused by op 'MatMul', defined at:\n  File \"C:\\Users\\Peter martigny\\Anaconda3\\envs\\py35\\lib\\runpy.py\", line 184, in _run_module_as_main\n    \"__main__\", mod_spec)\n  File \"C:\\Users\\Peter martigny\\Anaconda3\\envs\\py35\\lib\\runpy.py\", line 85, in _run_code\n    exec(code, run_globals)\n  File \"C:\\Users\\Peter martigny\\Anaconda3\\envs\\py35\\lib\\site-packages\\ipykernel\\__main__.py\", line 3, in <module>\n    app.launch_new_instance()\n  File \"C:\\Users\\Peter martigny\\Anaconda3\\envs\\py35\\lib\\site-packages\\traitlets\\config\\application.py\", line 658, in launch_instance\n    app.start()\n  File \"C:\\Users\\Peter martigny\\Anaconda3\\envs\\py35\\lib\\site-packages\\ipykernel\\kernelapp.py\", line 474, in start\n    ioloop.IOLoop.instance().start()\n  File \"C:\\Users\\Peter martigny\\Anaconda3\\envs\\py35\\lib\\site-packages\\zmq\\eventloop\\ioloop.py\", line 177, in start\n    super(ZMQIOLoop, self).start()\n  File \"C:\\Users\\Peter martigny\\Anaconda3\\envs\\py35\\lib\\site-packages\\tornado\\ioloop.py\", line 887, in start\n    handler_func(fd_obj, events)\n  File \"C:\\Users\\Peter martigny\\Anaconda3\\envs\\py35\\lib\\site-packages\\tornado\\stack_context.py\", line 275, in null_wrapper\n    return fn(*args, **kwargs)\n  File \"C:\\Users\\Peter martigny\\Anaconda3\\envs\\py35\\lib\\site-packages\\zmq\\eventloop\\zmqstream.py\", line 440, in _handle_events\n    self._handle_recv()\n  File \"C:\\Users\\Peter martigny\\Anaconda3\\envs\\py35\\lib\\site-packages\\zmq\\eventloop\\zmqstream.py\", line 472, in _handle_recv\n    self._run_callback(callback, msg)\n  File \"C:\\Users\\Peter martigny\\Anaconda3\\envs\\py35\\lib\\site-packages\\zmq\\eventloop\\zmqstream.py\", line 414, in _run_callback\n    callback(*args, **kwargs)\n  File \"C:\\Users\\Peter martigny\\Anaconda3\\envs\\py35\\lib\\site-packages\\tornado\\stack_context.py\", line 275, in null_wrapper\n    return fn(*args, **kwargs)\n  File \"C:\\Users\\Peter martigny\\Anaconda3\\envs\\py35\\lib\\site-packages\\ipykernel\\kernelbase.py\", line 276, in dispatcher\n    return self.dispatch_shell(stream, msg)\n  File \"C:\\Users\\Peter martigny\\Anaconda3\\envs\\py35\\lib\\site-packages\\ipykernel\\kernelbase.py\", line 228, in dispatch_shell\n    handler(stream, idents, msg)\n  File \"C:\\Users\\Peter martigny\\Anaconda3\\envs\\py35\\lib\\site-packages\\ipykernel\\kernelbase.py\", line 390, in execute_request\n    user_expressions, allow_stdin)\n  File \"C:\\Users\\Peter martigny\\Anaconda3\\envs\\py35\\lib\\site-packages\\ipykernel\\ipkernel.py\", line 196, in do_execute\n    res = shell.run_cell(code, store_history=store_history, silent=silent)\n  File \"C:\\Users\\Peter martigny\\Anaconda3\\envs\\py35\\lib\\site-packages\\ipykernel\\zmqshell.py\", line 501, in run_cell\n    return super(ZMQInteractiveShell, self).run_cell(*args, **kwargs)\n  File \"C:\\Users\\Peter martigny\\Anaconda3\\envs\\py35\\lib\\site-packages\\IPython\\core\\interactiveshell.py\", line 2717, in run_cell\n    interactivity=interactivity, compiler=compiler, result=result)\n  File \"C:\\Users\\Peter martigny\\Anaconda3\\envs\\py35\\lib\\site-packages\\IPython\\core\\interactiveshell.py\", line 2821, in run_ast_nodes\n    if self.run_code(code, result):\n  File \"C:\\Users\\Peter martigny\\Anaconda3\\envs\\py35\\lib\\site-packages\\IPython\\core\\interactiveshell.py\", line 2881, in run_code\n    exec(code_obj, self.user_global_ns, self.user_ns)\n  File \"<ipython-input-3-bcf2dffff4de>\", line 14, in <module>\n    model.add(Dense(H, input_dim=N))\n  File \"C:\\Users\\Peter martigny\\Anaconda3\\envs\\py35\\lib\\site-packages\\keras\\models.py\", line 294, in add\n    layer.create_input_layer(batch_input_shape, input_dtype)\n  File \"C:\\Users\\Peter martigny\\Anaconda3\\envs\\py35\\lib\\site-packages\\keras\\engine\\topology.py\", line 398, in create_input_layer\n    self(x)\n  File \"C:\\Users\\Peter martigny\\Anaconda3\\envs\\py35\\lib\\site-packages\\keras\\engine\\topology.py\", line 569, in __call__\n    self.add_inbound_node(inbound_layers, node_indices, tensor_indices)\n  File \"C:\\Users\\Peter martigny\\Anaconda3\\envs\\py35\\lib\\site-packages\\keras\\engine\\topology.py\", line 632, in add_inbound_node\n    Node.create_node(self, inbound_layers, node_indices, tensor_indices)\n  File \"C:\\Users\\Peter martigny\\Anaconda3\\envs\\py35\\lib\\site-packages\\keras\\engine\\topology.py\", line 164, in create_node\n    output_tensors = to_list(outbound_layer.call(input_tensors[0], mask=input_masks[0]))\n  File \"C:\\Users\\Peter martigny\\Anaconda3\\envs\\py35\\lib\\site-packages\\keras\\layers\\core.py\", line 768, in call\n    output = K.dot(x, self.W)\n  File \"C:\\Users\\Peter martigny\\Anaconda3\\envs\\py35\\lib\\site-packages\\keras\\backend\\tensorflow_backend.py\", line 807, in dot\n    out = tf.matmul(x, y)\n  File \"C:\\Users\\Peter martigny\\Anaconda3\\envs\\py35\\lib\\site-packages\\tensorflow\\python\\ops\\math_ops.py\", line 1729, in matmul\n    a, b, transpose_a=transpose_a, transpose_b=transpose_b, name=name)\n  File \"C:\\Users\\Peter martigny\\Anaconda3\\envs\\py35\\lib\\site-packages\\tensorflow\\python\\ops\\gen_math_ops.py\", line 1442, in _mat_mul\n    transpose_b=transpose_b, name=name)\n  File \"C:\\Users\\Peter martigny\\Anaconda3\\envs\\py35\\lib\\site-packages\\tensorflow\\python\\framework\\op_def_library.py\", line 759, in apply_op\n    op_def=op_def)\n  File \"C:\\Users\\Peter martigny\\Anaconda3\\envs\\py35\\lib\\site-packages\\tensorflow\\python\\framework\\ops.py\", line 2240, in create_op\n    original_op=self._default_original_op, op_def=op_def)\n  File \"C:\\Users\\Peter martigny\\Anaconda3\\envs\\py35\\lib\\site-packages\\tensorflow\\python\\framework\\ops.py\", line 1128, in __init__\n    self._traceback = _extract_stack()\n\nInternalError (see above for traceback): Blas SGEMM launch failed : a.shape=(32, 64), b.shape=(64, 100), m=32, n=100, k=64\n\t [[Node: MatMul = MatMul[T=DT_FLOAT, transpose_a=false, transpose_b=false, _device=\"/job:localhost/replica:0/task:0/gpu:0\"](_recv_dense_input_1_0/_9, dense_1_W/read)]]\n"
     ]
    }
   ],
   "source": [
    "import keras\n",
    "from keras.models import Sequential\n",
    "from keras.layers.core import Dense, Activation\n",
    "from keras import optimizers\n",
    "import time\n",
    "\n",
    "############ Define dimensions of layers engaged in the neural network ##########\n",
    "N = X_train.shape[1]\n",
    "H = 100\n",
    "K = 10\n",
    "\n",
    "######### Build the graph #########\n",
    "model = Sequential()\n",
    "model.add(Dense(H, input_dim=N))\n",
    "model.add(Activation(\"relu\"))\n",
    "model.add(Dense(K))\n",
    "model.add(Activation(\"softmax\"))\n",
    "\n",
    "############ Assign the graph with an optimizer, a olss function and a metric #######\n",
    "model.compile(optimizer=optimizers.SGD(lr=0.1),\n",
    "              loss='categorical_crossentropy', metrics=['accuracy'])\n",
    "\n",
    "########### Fit the previously defined model on the train set ##############\n",
    "start = time.time()\n",
    "history = model.fit(X_train, Y_train, nb_epoch=15, batch_size=32)\n",
    "exec_time = time.time() - start\n",
    "\n",
    "################ Plot the history of the loss on train set ############\"\n",
    "plt.plot(history.history['acc'])\n",
    "plt.title('{} activation'.format('ReLu'))\n",
    "plt.show()\n",
    "print('Training the model took {} seconds!'.format(exec_time))"
   ]
  },
  {
   "cell_type": "markdown",
   "metadata": {},
   "source": [
    "#### Influence of the activation function"
   ]
  },
  {
   "cell_type": "code",
   "execution_count": 4,
   "metadata": {
    "collapsed": true
   },
   "outputs": [],
   "source": [
    "def train_neural_activation(activation):\n",
    "    ############ Define dimensions of layers engaged in the neural network ##########\n",
    "    N = X_train.shape[1]\n",
    "    H = 100\n",
    "    K = 10\n",
    "\n",
    "    ######### Build the graph #########\n",
    "    model = Sequential()\n",
    "    model.add(Dense(H, input_dim=N))\n",
    "    model.add(Activation(activation))\n",
    "    model.add(Dense(K))\n",
    "    model.add(Activation(\"softmax\"))\n",
    "\n",
    "    ############ Assign the graph with an optimizer, a olss function and a metric #######\n",
    "    model.compile(optimizer=optimizers.SGD(lr=0.1),\n",
    "                  loss='categorical_crossentropy', metrics=['accuracy'])\n",
    "\n",
    "    ########### Fit the previously defined model on the train set ##############\n",
    "    start = time.time()\n",
    "    history = model.fit(X_train, Y_train, nb_epoch=15, batch_size=32)\n",
    "    exec_time = time.time() - start\n",
    "    \n",
    "    return history\n",
    "#     ################ Plot the history of the loss on train set ############\"\n",
    "#     plt.plot(history.history['acc'])\n",
    "#     plt.title('{} activation'.format(activation))\n",
    "#     plt.show()\n",
    "#     print('Training the model took {} seconds!'.format(exec_time))"
   ]
  },
  {
   "cell_type": "code",
   "execution_count": 5,
   "metadata": {
    "collapsed": false
   },
   "outputs": [
    {
     "name": "stdout",
     "output_type": "stream",
     "text": [
      "Epoch 1/15\n",
      "1527/1527 [==============================] - 0s - loss: 1.0197 - acc: 0.7328     \n",
      "Epoch 2/15\n",
      "1527/1527 [==============================] - 0s - loss: 0.3026 - acc: 0.9417     \n",
      "Epoch 3/15\n",
      "1527/1527 [==============================] - 0s - loss: 0.1875 - acc: 0.9640     \n",
      "Epoch 4/15\n",
      "1527/1527 [==============================] - 0s - loss: 0.1383 - acc: 0.9745     \n",
      "Epoch 5/15\n",
      "1527/1527 [==============================] - 0s - loss: 0.1086 - acc: 0.9804     \n",
      "Epoch 6/15\n",
      "1527/1527 [==============================] - 0s - loss: 0.0903 - acc: 0.9856     \n",
      "Epoch 7/15\n",
      "1527/1527 [==============================] - 0s - loss: 0.0761 - acc: 0.9882     \n",
      "Epoch 8/15\n",
      "1527/1527 [==============================] - 0s - loss: 0.0655 - acc: 0.9902     \n",
      "Epoch 9/15\n",
      "1527/1527 [==============================] - 0s - loss: 0.0571 - acc: 0.9928     \n",
      "Epoch 10/15\n",
      "1527/1527 [==============================] - 0s - loss: 0.0501 - acc: 0.9935     \n",
      "Epoch 11/15\n",
      "1527/1527 [==============================] - 0s - loss: 0.0444 - acc: 0.9941     \n",
      "Epoch 12/15\n",
      "1527/1527 [==============================] - 0s - loss: 0.0397 - acc: 0.9961     \n",
      "Epoch 13/15\n",
      "1527/1527 [==============================] - 0s - loss: 0.0360 - acc: 0.9980     \n",
      "Epoch 14/15\n",
      "1527/1527 [==============================] - 0s - loss: 0.0324 - acc: 0.9967     \n",
      "Epoch 15/15\n",
      "1527/1527 [==============================] - 0s - loss: 0.0297 - acc: 0.9980     \n",
      "Epoch 1/15\n",
      "1527/1527 [==============================] - 0s - loss: 0.8089 - acc: 0.7832     \n",
      "Epoch 2/15\n",
      "1527/1527 [==============================] - 0s - loss: 0.2799 - acc: 0.9430     \n",
      "Epoch 3/15\n",
      "1527/1527 [==============================] - 0s - loss: 0.1904 - acc: 0.9640     \n",
      "Epoch 4/15\n",
      "1527/1527 [==============================] - 0s - loss: 0.1491 - acc: 0.9738     \n",
      "Epoch 5/15\n",
      "1527/1527 [==============================] - 0s - loss: 0.1239 - acc: 0.9817     \n",
      "Epoch 6/15\n",
      "1527/1527 [==============================] - 0s - loss: 0.1058 - acc: 0.9843     \n",
      "Epoch 7/15\n",
      "1527/1527 [==============================] - 0s - loss: 0.0934 - acc: 0.9849     \n",
      "Epoch 8/15\n",
      "1527/1527 [==============================] - 0s - loss: 0.0825 - acc: 0.9862     \n",
      "Epoch 9/15\n",
      "1527/1527 [==============================] - 0s - loss: 0.0747 - acc: 0.9882     \n",
      "Epoch 10/15\n",
      "1527/1527 [==============================] - 0s - loss: 0.0676 - acc: 0.9889     \n",
      "Epoch 11/15\n",
      "1527/1527 [==============================] - 0s - loss: 0.0618 - acc: 0.9902     \n",
      "Epoch 12/15\n",
      "1527/1527 [==============================] - 0s - loss: 0.0566 - acc: 0.9915     \n",
      "Epoch 13/15\n",
      "1527/1527 [==============================] - 0s - loss: 0.0523 - acc: 0.9928     \n",
      "Epoch 14/15\n",
      "1527/1527 [==============================] - 0s - loss: 0.0483 - acc: 0.9948     \n",
      "Epoch 15/15\n",
      "1527/1527 [==============================] - 0s - loss: 0.0448 - acc: 0.9961     \n",
      "Epoch 1/15\n",
      "1527/1527 [==============================] - 0s - loss: 1.8415 - acc: 0.5246     \n",
      "Epoch 2/15\n",
      "1527/1527 [==============================] - 0s - loss: 1.1118 - acc: 0.8317     \n",
      "Epoch 3/15\n",
      "1527/1527 [==============================] - 0s - loss: 0.7559 - acc: 0.8847     \n",
      "Epoch 4/15\n",
      "1527/1527 [==============================] - 0s - loss: 0.5672 - acc: 0.9201     \n",
      "Epoch 5/15\n",
      "1527/1527 [==============================] - 0s - loss: 0.4538 - acc: 0.9325     \n",
      "Epoch 6/15\n",
      "1527/1527 [==============================] - 0s - loss: 0.3814 - acc: 0.9384     \n",
      "Epoch 7/15\n",
      "1527/1527 [==============================] - 0s - loss: 0.3278 - acc: 0.9463     \n",
      "Epoch 8/15\n",
      "1527/1527 [==============================] - 0s - loss: 0.2901 - acc: 0.9502     \n",
      "Epoch 9/15\n",
      "1527/1527 [==============================] - 0s - loss: 0.2604 - acc: 0.9535     \n",
      "Epoch 10/15\n",
      "1527/1527 [==============================] - 0s - loss: 0.2360 - acc: 0.9601     \n",
      "Epoch 11/15\n",
      "1527/1527 [==============================] - 0s - loss: 0.2179 - acc: 0.9607     \n",
      "Epoch 12/15\n",
      "1527/1527 [==============================] - 0s - loss: 0.2008 - acc: 0.9640     \n",
      "Epoch 13/15\n",
      "1527/1527 [==============================] - 0s - loss: 0.1883 - acc: 0.9673     \n",
      "Epoch 14/15\n",
      "1527/1527 [==============================] - 0s - loss: 0.1765 - acc: 0.9679     \n",
      "Epoch 15/15\n",
      "1527/1527 [==============================] - 0s - loss: 0.1659 - acc: 0.9705     \n",
      "Epoch 1/15\n",
      "1527/1527 [==============================] - 0s - loss: 0.6315 - acc: 0.8363     \n",
      "Epoch 2/15\n",
      "1527/1527 [==============================] - 0s - loss: 0.2081 - acc: 0.9542     \n",
      "Epoch 3/15\n",
      "1527/1527 [==============================] - 0s - loss: 0.1476 - acc: 0.9627     \n",
      "Epoch 4/15\n",
      "1527/1527 [==============================] - 0s - loss: 0.1145 - acc: 0.9790     \n",
      "Epoch 5/15\n",
      "1527/1527 [==============================] - 0s - loss: 0.0987 - acc: 0.9810     \n",
      "Epoch 6/15\n",
      "1527/1527 [==============================] - 0s - loss: 0.0859 - acc: 0.9823     \n",
      "Epoch 7/15\n",
      "1527/1527 [==============================] - 0s - loss: 0.0769 - acc: 0.9856     \n",
      "Epoch 8/15\n",
      "1527/1527 [==============================] - 0s - loss: 0.0687 - acc: 0.9856     \n",
      "Epoch 9/15\n",
      "1527/1527 [==============================] - 0s - loss: 0.0630 - acc: 0.9869     \n",
      "Epoch 10/15\n",
      "1527/1527 [==============================] - 0s - loss: 0.0574 - acc: 0.9921     \n",
      "Epoch 11/15\n",
      "1527/1527 [==============================] - 0s - loss: 0.0527 - acc: 0.9908     \n",
      "Epoch 12/15\n",
      "1527/1527 [==============================] - 0s - loss: 0.0496 - acc: 0.9915     \n",
      "Epoch 13/15\n",
      "1527/1527 [==============================] - 0s - loss: 0.0462 - acc: 0.9941     \n",
      "Epoch 14/15\n",
      "1527/1527 [==============================] - 0s - loss: 0.0433 - acc: 0.9941     \n",
      "Epoch 15/15\n",
      "1527/1527 [==============================] - 0s - loss: 0.0407 - acc: 0.9948     \n",
      "Epoch 1/15\n",
      "1527/1527 [==============================] - 0s - loss: 1.9454 - acc: 0.4643     \n",
      "Epoch 2/15\n",
      "1527/1527 [==============================] - 0s - loss: 1.2201 - acc: 0.8179     \n",
      "Epoch 3/15\n",
      "1527/1527 [==============================] - 0s - loss: 0.7999 - acc: 0.8867     \n",
      "Epoch 4/15\n",
      "1527/1527 [==============================] - 0s - loss: 0.5846 - acc: 0.9188     \n",
      "Epoch 5/15\n",
      "1527/1527 [==============================] - 0s - loss: 0.4602 - acc: 0.9280     \n",
      "Epoch 6/15\n",
      "1527/1527 [==============================] - 0s - loss: 0.3860 - acc: 0.9378     \n",
      "Epoch 7/15\n",
      "1527/1527 [==============================] - 0s - loss: 0.3328 - acc: 0.9378     \n",
      "Epoch 8/15\n",
      "1527/1527 [==============================] - 0s - loss: 0.2937 - acc: 0.9437     \n",
      "Epoch 9/15\n",
      "1527/1527 [==============================] - 0s - loss: 0.2622 - acc: 0.9502     \n",
      "Epoch 10/15\n",
      "1527/1527 [==============================] - 0s - loss: 0.2399 - acc: 0.9542     \n",
      "Epoch 11/15\n",
      "1527/1527 [==============================] - 0s - loss: 0.2209 - acc: 0.9548     \n",
      "Epoch 12/15\n",
      "1527/1527 [==============================] - 0s - loss: 0.2050 - acc: 0.9568     \n",
      "Epoch 13/15\n",
      "1527/1527 [==============================] - 0s - loss: 0.1919 - acc: 0.9614     \n",
      "Epoch 14/15\n",
      "1527/1527 [==============================] - 0s - loss: 0.1811 - acc: 0.9627     \n",
      "Epoch 15/15\n",
      "1527/1527 [==============================] - 0s - loss: 0.1710 - acc: 0.9699     \n",
      "Epoch 1/15\n",
      "1527/1527 [==============================] - 0s - loss: 1.0979 - acc: 0.7485     \n",
      "Epoch 2/15\n",
      "1527/1527 [==============================] - 0s - loss: 0.4441 - acc: 0.9240     \n",
      "Epoch 3/15\n",
      "1527/1527 [==============================] - 0s - loss: 0.2950 - acc: 0.9456     \n",
      "Epoch 4/15\n",
      "1527/1527 [==============================] - 0s - loss: 0.2260 - acc: 0.9614     \n",
      "Epoch 5/15\n",
      "1527/1527 [==============================] - 0s - loss: 0.1854 - acc: 0.9673     \n",
      "Epoch 6/15\n",
      "1527/1527 [==============================] - 0s - loss: 0.1587 - acc: 0.9725     \n",
      "Epoch 7/15\n",
      "1527/1527 [==============================] - 0s - loss: 0.1384 - acc: 0.9797     \n",
      "Epoch 8/15\n",
      "1527/1527 [==============================] - 0s - loss: 0.1230 - acc: 0.9823     \n",
      "Epoch 9/15\n",
      "1527/1527 [==============================] - 0s - loss: 0.1111 - acc: 0.9830     \n",
      "Epoch 10/15\n",
      "1527/1527 [==============================] - 0s - loss: 0.1012 - acc: 0.9869     \n",
      "Epoch 11/15\n",
      "1527/1527 [==============================] - 0s - loss: 0.0929 - acc: 0.9876     \n",
      "Epoch 12/15\n",
      "1527/1527 [==============================] - 0s - loss: 0.0858 - acc: 0.9889     \n",
      "Epoch 13/15\n",
      "1527/1527 [==============================] - 0s - loss: 0.0800 - acc: 0.9895     \n",
      "Epoch 14/15\n",
      "1527/1527 [==============================] - 0s - loss: 0.0745 - acc: 0.9889     \n",
      "Epoch 15/15\n",
      "1527/1527 [==============================] - 0s - loss: 0.0697 - acc: 0.9902     \n",
      "Epoch 1/15\n",
      "1527/1527 [==============================] - 0s - loss: 1.1178 - acc: 0.7099     \n",
      "Epoch 2/15\n",
      "1527/1527 [==============================] - 0s - loss: 0.3686 - acc: 0.9253     \n",
      "Epoch 3/15\n",
      "1527/1527 [==============================] - 0s - loss: 0.2410 - acc: 0.9470     \n",
      "Epoch 4/15\n",
      "1527/1527 [==============================] - 0s - loss: 0.1834 - acc: 0.9607     \n",
      "Epoch 5/15\n",
      "1527/1527 [==============================] - 0s - loss: 0.1504 - acc: 0.9666     \n",
      "Epoch 6/15\n",
      "1527/1527 [==============================] - 0s - loss: 0.1288 - acc: 0.9712     \n",
      "Epoch 7/15\n",
      "1527/1527 [==============================] - 0s - loss: 0.1109 - acc: 0.9777     \n",
      "Epoch 8/15\n",
      "1527/1527 [==============================] - 0s - loss: 0.0988 - acc: 0.9817     \n",
      "Epoch 9/15\n",
      "1527/1527 [==============================] - 0s - loss: 0.0890 - acc: 0.9797     \n",
      "Epoch 10/15\n",
      "1527/1527 [==============================] - 0s - loss: 0.0814 - acc: 0.9810     \n",
      "Epoch 11/15\n",
      "1527/1527 [==============================] - 0s - loss: 0.0743 - acc: 0.9856     \n",
      "Epoch 12/15\n",
      "1527/1527 [==============================] - 0s - loss: 0.0669 - acc: 0.9882     \n",
      "Epoch 13/15\n",
      "1527/1527 [==============================] - 0s - loss: 0.0610 - acc: 0.9908     \n",
      "Epoch 14/15\n",
      "1527/1527 [==============================] - 0s - loss: 0.0574 - acc: 0.9902     \n",
      "Epoch 15/15\n",
      "1527/1527 [==============================] - 0s - loss: 0.0524 - acc: 0.9948     \n"
     ]
    }
   ],
   "source": [
    "activations = ['relu', 'tanh', 'sigmoid', 'linear', 'hard_sigmoid', 'softsign', 'softplus']\n",
    "histories = {}\n",
    "for activ in activations:\n",
    "    histories[activ] = train_neural_activation(activ)"
   ]
  },
  {
   "cell_type": "code",
   "execution_count": 6,
   "metadata": {
    "collapsed": false
   },
   "outputs": [
    {
     "data": {
      "image/png": "[encoded data removed]",
      "text/plain": [
       "<matplotlib.figure.Figure at 0x2500575b940>"
      ]
     },
     "metadata": {},
     "output_type": "display_data"
    }
   ],
   "source": [
    "t = np.arange(0, 15)\n",
    "\n",
    "for activ in activations:\n",
    "    plt.plot(t, histories[activ].history['loss'], label=activ)\n",
    "\n",
    "plt.legend()\n",
    "plt.title('Loss during training')\n",
    "plt.xlabel('Epoch')\n",
    "plt.ylabel('Loss')\n",
    "plt.show()"
   ]
  },
  {
   "cell_type": "markdown",
   "metadata": {},
   "source": [
    "#### Influence of the number of neurons in the hidden layer"
   ]
  },
  {
   "cell_type": "code",
   "execution_count": 7,
   "metadata": {
    "collapsed": false
   },
   "outputs": [],
   "source": [
    "def train_neuron_number(H):\n",
    "    ############ Define dimensions of layers engaged in the neural network ##########\n",
    "    N = X_train.shape[1]\n",
    "#     H = 100\n",
    "    K = 10\n",
    "\n",
    "    ######### Build the graph #########\n",
    "    model = Sequential()\n",
    "    model.add(Dense(H, input_dim=N))\n",
    "    model.add(Activation('relu'))\n",
    "    model.add(Dense(K))\n",
    "    model.add(Activation(\"softmax\"))\n",
    "\n",
    "    ############ Assign the graph with an optimizer, a olss function and a metric #######\n",
    "    model.compile(optimizer=optimizers.SGD(lr=0.1),\n",
    "                  loss='categorical_crossentropy', metrics=['accuracy'])\n",
    "\n",
    "    ########### Fit the previously defined model on the train set ##############\n",
    "    start = time.time()\n",
    "    history = model.fit(X_train, Y_train, nb_epoch=15, batch_size=32)\n",
    "    exec_time = time.time() - start\n",
    "    \n",
    "    return history"
   ]
  },
  {
   "cell_type": "code",
   "execution_count": 8,
   "metadata": {
    "collapsed": false
   },
   "outputs": [
    {
     "name": "stdout",
     "output_type": "stream",
     "text": [
      "Epoch 1/15\n",
      "1527/1527 [==============================] - 0s - loss: 1.1193 - acc: 0.7132     \n",
      "Epoch 2/15\n",
      "1527/1527 [==============================] - 0s - loss: 0.3213 - acc: 0.9306     \n",
      "Epoch 3/15\n",
      "1527/1527 [==============================] - 0s - loss: 0.1991 - acc: 0.9587     \n",
      "Epoch 4/15\n",
      "1527/1527 [==============================] - 0s - loss: 0.1435 - acc: 0.9725     \n",
      "Epoch 5/15\n",
      "1527/1527 [==============================] - 0s - loss: 0.1138 - acc: 0.9764     \n",
      "Epoch 6/15\n",
      "1527/1527 [==============================] - 0s - loss: 0.0943 - acc: 0.9830     \n",
      "Epoch 7/15\n",
      "1527/1527 [==============================] - 0s - loss: 0.0800 - acc: 0.9882     \n",
      "Epoch 8/15\n",
      "1527/1527 [==============================] - 0s - loss: 0.0693 - acc: 0.9915     \n",
      "Epoch 9/15\n",
      "1527/1527 [==============================] - 0s - loss: 0.0607 - acc: 0.9928     \n",
      "Epoch 10/15\n",
      "1527/1527 [==============================] - 0s - loss: 0.0539 - acc: 0.9941     \n",
      "Epoch 11/15\n",
      "1527/1527 [==============================] - 0s - loss: 0.0479 - acc: 0.9954     \n",
      "Epoch 12/15\n",
      "1527/1527 [==============================] - 0s - loss: 0.0431 - acc: 0.9948     \n",
      "Epoch 13/15\n",
      "1527/1527 [==============================] - 0s - loss: 0.0390 - acc: 0.9954     \n",
      "Epoch 14/15\n",
      "1527/1527 [==============================] - 0s - loss: 0.0355 - acc: 0.9967     \n",
      "Epoch 15/15\n",
      "1527/1527 [==============================] - 0s - loss: 0.0324 - acc: 0.9974     \n",
      "Epoch 1/15\n",
      "1527/1527 [==============================] - 0s - loss: 0.9186 - acc: 0.7708     \n",
      "Epoch 2/15\n",
      "1527/1527 [==============================] - 0s - loss: 0.2895 - acc: 0.9411     \n",
      "Epoch 3/15\n",
      "1527/1527 [==============================] - 0s - loss: 0.1817 - acc: 0.9653     \n",
      "Epoch 4/15\n",
      "1527/1527 [==============================] - 0s - loss: 0.1329 - acc: 0.9758     \n",
      "Epoch 5/15\n",
      "1527/1527 [==============================] - 0s - loss: 0.1048 - acc: 0.9830     \n",
      "Epoch 6/15\n",
      "1527/1527 [==============================] - 0s - loss: 0.0861 - acc: 0.9869     \n",
      "Epoch 7/15\n",
      "1527/1527 [==============================] - 0s - loss: 0.0735 - acc: 0.9902     \n",
      "Epoch 8/15\n",
      "1527/1527 [==============================] - 0s - loss: 0.0631 - acc: 0.9935     \n",
      "Epoch 9/15\n",
      "1527/1527 [==============================] - 0s - loss: 0.0553 - acc: 0.9928     \n",
      "Epoch 10/15\n",
      "1527/1527 [==============================] - 0s - loss: 0.0490 - acc: 0.9941     \n",
      "Epoch 11/15\n",
      "1527/1527 [==============================] - 0s - loss: 0.0435 - acc: 0.9941     \n",
      "Epoch 12/15\n",
      "1527/1527 [==============================] - 0s - loss: 0.0393 - acc: 0.9961     \n",
      "Epoch 13/15\n",
      "1527/1527 [==============================] - 0s - loss: 0.0354 - acc: 0.9961     \n",
      "Epoch 14/15\n",
      "1527/1527 [==============================] - 0s - loss: 0.0322 - acc: 0.9967     \n",
      "Epoch 15/15\n",
      "1527/1527 [==============================] - 0s - loss: 0.0295 - acc: 0.9967     \n",
      "Epoch 1/15\n",
      "1527/1527 [==============================] - 0s - loss: 0.9021 - acc: 0.7911     \n",
      "Epoch 2/15\n",
      "1527/1527 [==============================] - 0s - loss: 0.2570 - acc: 0.9535     \n",
      "Epoch 3/15\n",
      "1527/1527 [==============================] - 0s - loss: 0.1614 - acc: 0.9699     \n",
      "Epoch 4/15\n",
      "1527/1527 [==============================] - 0s - loss: 0.1187 - acc: 0.9810     \n",
      "Epoch 5/15\n",
      "1527/1527 [==============================] - 0s - loss: 0.0943 - acc: 0.9869     \n",
      "Epoch 6/15\n",
      "1527/1527 [==============================] - 0s - loss: 0.0777 - acc: 0.9921     \n",
      "Epoch 7/15\n",
      "1527/1527 [==============================] - 0s - loss: 0.0657 - acc: 0.9928     \n",
      "Epoch 8/15\n",
      "1527/1527 [==============================] - 0s - loss: 0.0570 - acc: 0.9948     \n",
      "Epoch 9/15\n",
      "1527/1527 [==============================] - 0s - loss: 0.0495 - acc: 0.9961     \n",
      "Epoch 10/15\n",
      "1527/1527 [==============================] - 0s - loss: 0.0435 - acc: 0.9967     \n",
      "Epoch 11/15\n",
      "1527/1527 [==============================] - 0s - loss: 0.0388 - acc: 0.9967     \n",
      "Epoch 12/15\n",
      "1527/1527 [==============================] - 0s - loss: 0.0349 - acc: 0.9967     \n",
      "Epoch 13/15\n",
      "1527/1527 [==============================] - 0s - loss: 0.0312 - acc: 0.9967     \n",
      "Epoch 14/15\n",
      "1527/1527 [==============================] - 0s - loss: 0.0286 - acc: 0.9987     \n",
      "Epoch 15/15\n",
      "1527/1527 [==============================] - 0s - loss: 0.0262 - acc: 0.9980     \n",
      "Epoch 1/15\n",
      "1527/1527 [==============================] - 0s - loss: 0.8484 - acc: 0.8173     \n",
      "Epoch 2/15\n",
      "1527/1527 [==============================] - 0s - loss: 0.2444 - acc: 0.9555     \n",
      "Epoch 3/15\n",
      "1527/1527 [==============================] - 0s - loss: 0.1548 - acc: 0.9692     \n",
      "Epoch 4/15\n",
      "1527/1527 [==============================] - 0s - loss: 0.1151 - acc: 0.9797     \n",
      "Epoch 5/15\n",
      "1527/1527 [==============================] - 0s - loss: 0.0916 - acc: 0.9889     \n",
      "Epoch 6/15\n",
      "1527/1527 [==============================] - 0s - loss: 0.0759 - acc: 0.9889     \n",
      "Epoch 7/15\n",
      "1527/1527 [==============================] - 0s - loss: 0.0642 - acc: 0.9915     \n",
      "Epoch 8/15\n",
      "1527/1527 [==============================] - 0s - loss: 0.0554 - acc: 0.9928     \n",
      "Epoch 9/15\n",
      "1527/1527 [==============================] - 0s - loss: 0.0486 - acc: 0.9935     \n",
      "Epoch 10/15\n",
      "1527/1527 [==============================] - 0s - loss: 0.0428 - acc: 0.9974     \n",
      "Epoch 11/15\n",
      "1527/1527 [==============================] - 0s - loss: 0.0381 - acc: 0.9974     \n",
      "Epoch 12/15\n",
      "1527/1527 [==============================] - 0s - loss: 0.0342 - acc: 0.9974     \n",
      "Epoch 13/15\n",
      "1527/1527 [==============================] - 0s - loss: 0.0310 - acc: 0.9980     \n",
      "Epoch 14/15\n",
      "1527/1527 [==============================] - 0s - loss: 0.0283 - acc: 0.9987     \n",
      "Epoch 15/15\n",
      "1527/1527 [==============================] - 0s - loss: 0.0257 - acc: 0.9987     \n",
      "Epoch 1/15\n",
      "1527/1527 [==============================] - 0s - loss: 0.8447 - acc: 0.8029     \n",
      "Epoch 2/15\n",
      "1527/1527 [==============================] - 0s - loss: 0.2428 - acc: 0.9581     \n",
      "Epoch 3/15\n",
      "1527/1527 [==============================] - 0s - loss: 0.1527 - acc: 0.9699     \n",
      "Epoch 4/15\n",
      "1527/1527 [==============================] - 0s - loss: 0.1126 - acc: 0.9804     \n",
      "Epoch 5/15\n",
      "1527/1527 [==============================] - 0s - loss: 0.0887 - acc: 0.9869     \n",
      "Epoch 6/15\n",
      "1527/1527 [==============================] - 0s - loss: 0.0736 - acc: 0.9895     \n",
      "Epoch 7/15\n",
      "1527/1527 [==============================] - 0s - loss: 0.0618 - acc: 0.9928     \n",
      "Epoch 8/15\n",
      "1527/1527 [==============================] - 0s - loss: 0.0530 - acc: 0.9941     \n",
      "Epoch 9/15\n",
      "1527/1527 [==============================] - 0s - loss: 0.0459 - acc: 0.9948     \n",
      "Epoch 10/15\n",
      "1527/1527 [==============================] - 0s - loss: 0.0408 - acc: 0.9967     \n",
      "Epoch 11/15\n",
      "1527/1527 [==============================] - 0s - loss: 0.0362 - acc: 0.9974     \n",
      "Epoch 12/15\n",
      "1527/1527 [==============================] - 0s - loss: 0.0327 - acc: 0.9974     \n",
      "Epoch 13/15\n",
      "1527/1527 [==============================] - 0s - loss: 0.0294 - acc: 0.9993     \n",
      "Epoch 14/15\n",
      "1527/1527 [==============================] - 0s - loss: 0.0268 - acc: 0.9987     \n",
      "Epoch 15/15\n",
      "1527/1527 [==============================] - 0s - loss: 0.0246 - acc: 0.9993     \n",
      "Epoch 1/15\n",
      "1527/1527 [==============================] - 0s - loss: 0.7965 - acc: 0.8317     \n",
      "Epoch 2/15\n",
      "1527/1527 [==============================] - 0s - loss: 0.2316 - acc: 0.9627     \n",
      "Epoch 3/15\n",
      "1527/1527 [==============================] - 0s - loss: 0.1460 - acc: 0.9810     \n",
      "Epoch 4/15\n",
      "1527/1527 [==============================] - 0s - loss: 0.1085 - acc: 0.9849     \n",
      "Epoch 5/15\n",
      "1527/1527 [==============================] - 0s - loss: 0.0858 - acc: 0.9895     \n",
      "Epoch 6/15\n",
      "1527/1527 [==============================] - 0s - loss: 0.0701 - acc: 0.9921     \n",
      "Epoch 7/15\n",
      "1527/1527 [==============================] - 0s - loss: 0.0596 - acc: 0.9915     \n",
      "Epoch 8/15\n",
      "1527/1527 [==============================] - 0s - loss: 0.0512 - acc: 0.9954     \n",
      "Epoch 9/15\n",
      "1527/1527 [==============================] - 0s - loss: 0.0444 - acc: 0.9967     \n",
      "Epoch 10/15\n",
      "1527/1527 [==============================] - 0s - loss: 0.0394 - acc: 0.9974     \n",
      "Epoch 11/15\n",
      "1527/1527 [==============================] - 0s - loss: 0.0352 - acc: 0.9974     \n",
      "Epoch 12/15\n",
      "1527/1527 [==============================] - 0s - loss: 0.0314 - acc: 0.9980     \n",
      "Epoch 13/15\n",
      "1527/1527 [==============================] - 0s - loss: 0.0287 - acc: 0.9974     \n",
      "Epoch 14/15\n",
      "1527/1527 [==============================] - 0s - loss: 0.0260 - acc: 0.9993     \n",
      "Epoch 15/15\n",
      "1527/1527 [==============================] - 0s - loss: 0.0240 - acc: 0.9993     \n"
     ]
    }
   ],
   "source": [
    "layer_size = [50, 100, 200, 300, 400, 500]\n",
    "histories = {}\n",
    "for size in layer_size:\n",
    "    histories[size] = train_neuron_number(size)"
   ]
  },
  {
   "cell_type": "code",
   "execution_count": 9,
   "metadata": {
    "collapsed": false
   },
   "outputs": [
    {
     "data": {
      "image/png": "[encoded data removed]",
      "text/plain": [
       "<matplotlib.figure.Figure at 0x250095e4ba8>"
      ]
     },
     "metadata": {},
     "output_type": "display_data"
    }
   ],
   "source": [
    "t = np.arange(0, 15)\n",
    "\n",
    "for size in layer_size:\n",
    "    plt.plot(t, histories[size].history['loss'], label=size)\n",
    "\n",
    "plt.legend()\n",
    "plt.title('Loss during training')\n",
    "plt.xlabel('Epoch')\n",
    "plt.ylabel('Loss')\n",
    "plt.show()"
   ]
  },
  {
   "cell_type": "markdown",
   "metadata": {},
   "source": [
    "#### Influence of the number of hidden layers"
   ]
  },
  {
   "cell_type": "code",
   "execution_count": 10,
   "metadata": {
    "collapsed": true
   },
   "outputs": [],
   "source": [
    "def train_layers(layer_number):\n",
    "    ############ Define dimensions of layers engaged in the neural network ##########\n",
    "    N = X_train.shape[1]\n",
    "    H = 100\n",
    "    K = 10\n",
    "\n",
    "    ######### Build the graph #########\n",
    "    model = Sequential()\n",
    "    \n",
    "    ########### Build the different layers #######\"\n",
    "    for i in range(layer_number):\n",
    "        if i == 0:\n",
    "            model.add(Dense(H, input_dim=N))\n",
    "            model.add(Activation('relu'))\n",
    "        else:\n",
    "            model.add(Dense(H, input_dim=H))\n",
    "            model.add(Activation('relu'))\n",
    "            \n",
    "    ####### Build output activation layer #########\n",
    "    model.add(Dense(K))\n",
    "    model.add(Activation(\"softmax\"))\n",
    "\n",
    "    ############ Assign the graph with an optimizer, a olss function and a metric #######\n",
    "    model.compile(optimizer=optimizers.SGD(lr=0.1),\n",
    "                  loss='categorical_crossentropy', metrics=['accuracy'])\n",
    "\n",
    "    ########### Fit the previously defined model on the train set ##############\n",
    "    start = time.time()\n",
    "    history = model.fit(X_train, Y_train, nb_epoch=15, batch_size=32)\n",
    "    exec_time = time.time() - start\n",
    "    \n",
    "    return history"
   ]
  },
  {
   "cell_type": "code",
   "execution_count": 11,
   "metadata": {
    "collapsed": false
   },
   "outputs": [
    {
     "name": "stdout",
     "output_type": "stream",
     "text": [
      "Epoch 1/15\n",
      "1527/1527 [==============================] - 0s - loss: 0.9742 - acc: 0.7577     \n",
      "Epoch 2/15\n",
      "1527/1527 [==============================] - 0s - loss: 0.2868 - acc: 0.9430     \n",
      "Epoch 3/15\n",
      "1527/1527 [==============================] - 0s - loss: 0.1764 - acc: 0.9673     \n",
      "Epoch 4/15\n",
      "1527/1527 [==============================] - 0s - loss: 0.1283 - acc: 0.9758     \n",
      "Epoch 5/15\n",
      "1527/1527 [==============================] - 0s - loss: 0.1013 - acc: 0.9836     \n",
      "Epoch 6/15\n",
      "1527/1527 [==============================] - 0s - loss: 0.0834 - acc: 0.9876     \n",
      "Epoch 7/15\n",
      "1527/1527 [==============================] - 0s - loss: 0.0700 - acc: 0.9882     \n",
      "Epoch 8/15\n",
      "1527/1527 [==============================] - 0s - loss: 0.0602 - acc: 0.9915     \n",
      "Epoch 9/15\n",
      "1527/1527 [==============================] - 0s - loss: 0.0526 - acc: 0.9928     \n",
      "Epoch 10/15\n",
      "1527/1527 [==============================] - 0s - loss: 0.0461 - acc: 0.9954     \n",
      "Epoch 11/15\n",
      "1527/1527 [==============================] - 0s - loss: 0.0408 - acc: 0.9961     \n",
      "Epoch 12/15\n",
      "1527/1527 [==============================] - 0s - loss: 0.0367 - acc: 0.9961     \n",
      "Epoch 13/15\n",
      "1527/1527 [==============================] - 0s - loss: 0.0331 - acc: 0.9980     \n",
      "Epoch 14/15\n",
      "1527/1527 [==============================] - 0s - loss: 0.0300 - acc: 0.9987     \n",
      "Epoch 15/15\n",
      "1527/1527 [==============================] - 0s - loss: 0.0273 - acc: 1.0000     \n",
      "Epoch 1/15\n",
      "1527/1527 [==============================] - 0s - loss: 1.0711 - acc: 0.7407     \n",
      "Epoch 2/15\n",
      "1527/1527 [==============================] - 0s - loss: 0.2511 - acc: 0.9502     \n",
      "Epoch 3/15\n",
      "1527/1527 [==============================] - 0s - loss: 0.1320 - acc: 0.9745     \n",
      "Epoch 4/15\n",
      "1527/1527 [==============================] - 0s - loss: 0.0885 - acc: 0.9862     \n",
      "Epoch 5/15\n",
      "1527/1527 [==============================] - 0s - loss: 0.0638 - acc: 0.9895     \n",
      "Epoch 6/15\n",
      "1527/1527 [==============================] - 0s - loss: 0.0486 - acc: 0.9935     \n",
      "Epoch 7/15\n",
      "1527/1527 [==============================] - 0s - loss: 0.0390 - acc: 0.9948     \n",
      "Epoch 8/15\n",
      "1527/1527 [==============================] - 0s - loss: 0.0316 - acc: 0.9961     \n",
      "Epoch 9/15\n",
      "1527/1527 [==============================] - 0s - loss: 0.0259 - acc: 0.9974     \n",
      "Epoch 10/15\n",
      "1527/1527 [==============================] - 0s - loss: 0.0212 - acc: 0.9987     \n",
      "Epoch 11/15\n",
      "1527/1527 [==============================] - 0s - loss: 0.0184 - acc: 0.9980     \n",
      "Epoch 12/15\n",
      "1527/1527 [==============================] - 0s - loss: 0.0155 - acc: 1.0000     \n",
      "Epoch 13/15\n",
      "1527/1527 [==============================] - 0s - loss: 0.0138 - acc: 1.0000     \n",
      "Epoch 14/15\n",
      "1527/1527 [==============================] - 0s - loss: 0.0122 - acc: 0.9993     \n",
      "Epoch 15/15\n",
      "1527/1527 [==============================] - 0s - loss: 0.0107 - acc: 1.0000     \n",
      "Epoch 1/15\n",
      "1527/1527 [==============================] - 0s - loss: 1.1580 - acc: 0.6778     \n",
      "Epoch 2/15\n",
      "1527/1527 [==============================] - 0s - loss: 0.2535 - acc: 0.9325     \n",
      "Epoch 3/15\n",
      "1527/1527 [==============================] - 0s - loss: 0.1175 - acc: 0.9738     \n",
      "Epoch 4/15\n",
      "1527/1527 [==============================] - 0s - loss: 0.0709 - acc: 0.9856     \n",
      "Epoch 5/15\n",
      "1527/1527 [==============================] - 0s - loss: 0.0466 - acc: 0.9935     \n",
      "Epoch 6/15\n",
      "1527/1527 [==============================] - 0s - loss: 0.0301 - acc: 0.9961     \n",
      "Epoch 7/15\n",
      "1527/1527 [==============================] - 0s - loss: 0.0220 - acc: 0.9987     \n",
      "Epoch 8/15\n",
      "1527/1527 [==============================] - 0s - loss: 0.0170 - acc: 0.9980     \n",
      "Epoch 9/15\n",
      "1527/1527 [==============================] - 0s - loss: 0.0130 - acc: 1.0000     \n",
      "Epoch 10/15\n",
      "1527/1527 [==============================] - 0s - loss: 0.0102 - acc: 1.0000     \n",
      "Epoch 11/15\n",
      "1527/1527 [==============================] - 0s - loss: 0.0086 - acc: 1.0000     \n",
      "Epoch 12/15\n",
      "1527/1527 [==============================] - 0s - loss: 0.0071 - acc: 1.0000     \n",
      "Epoch 13/15\n",
      "1527/1527 [==============================] - 0s - loss: 0.0061 - acc: 1.0000     \n",
      "Epoch 14/15\n",
      "1527/1527 [==============================] - 0s - loss: 0.0053 - acc: 1.0000     \n",
      "Epoch 15/15\n",
      "1527/1527 [==============================] - 0s - loss: 0.0048 - acc: 1.0000     \n",
      "Epoch 1/15\n",
      "1527/1527 [==============================] - 0s - loss: 1.4457 - acc: 0.6176     \n",
      "Epoch 2/15\n",
      "1527/1527 [==============================] - 0s - loss: 0.3020 - acc: 0.9227     \n",
      "Epoch 3/15\n",
      "1527/1527 [==============================] - 0s - loss: 0.1273 - acc: 0.9679     \n",
      "Epoch 4/15\n",
      "1527/1527 [==============================] - 0s - loss: 0.0703 - acc: 0.9804     \n",
      "Epoch 5/15\n",
      "1527/1527 [==============================] - 0s - loss: 0.0383 - acc: 0.9935     \n",
      "Epoch 6/15\n",
      "1527/1527 [==============================] - 0s - loss: 0.0218 - acc: 0.9967     \n",
      "Epoch 7/15\n",
      "1527/1527 [==============================] - 0s - loss: 0.0132 - acc: 0.9993     \n",
      "Epoch 8/15\n",
      "1527/1527 [==============================] - 0s - loss: 0.0095 - acc: 1.0000     \n",
      "Epoch 9/15\n",
      "1527/1527 [==============================] - 0s - loss: 0.0071 - acc: 1.0000     \n",
      "Epoch 10/15\n",
      "1527/1527 [==============================] - 0s - loss: 0.0056 - acc: 1.0000     \n",
      "Epoch 11/15\n",
      "1527/1527 [==============================] - 0s - loss: 0.0045 - acc: 1.0000     \n",
      "Epoch 12/15\n",
      "1527/1527 [==============================] - 0s - loss: 0.0038 - acc: 1.0000     \n",
      "Epoch 13/15\n",
      "1527/1527 [==============================] - 0s - loss: 0.0033 - acc: 1.0000     \n",
      "Epoch 14/15\n",
      "1527/1527 [==============================] - 0s - loss: 0.0029 - acc: 1.0000     \n",
      "Epoch 15/15\n",
      "1527/1527 [==============================] - 0s - loss: 0.0026 - acc: 1.0000     \n",
      "Epoch 1/15\n",
      "1527/1527 [==============================] - 0s - loss: 1.7091 - acc: 0.5016     \n",
      "Epoch 2/15\n",
      "1527/1527 [==============================] - 0s - loss: 0.4377 - acc: 0.8808     \n",
      "Epoch 3/15\n",
      "1527/1527 [==============================] - 0s - loss: 0.1842 - acc: 0.9489     \n",
      "Epoch 4/15\n",
      "1527/1527 [==============================] - 0s - loss: 0.1201 - acc: 0.9705     \n",
      "Epoch 5/15\n",
      "1527/1527 [==============================] - 0s - loss: 0.0481 - acc: 0.9876     \n",
      "Epoch 6/15\n",
      "1527/1527 [==============================] - 0s - loss: 0.0211 - acc: 0.9954     \n",
      "Epoch 7/15\n",
      "1527/1527 [==============================] - 0s - loss: 0.0086 - acc: 1.0000     \n",
      "Epoch 8/15\n",
      "1527/1527 [==============================] - 0s - loss: 0.0064 - acc: 1.0000     \n",
      "Epoch 9/15\n",
      "1527/1527 [==============================] - 0s - loss: 0.0036 - acc: 1.0000     \n",
      "Epoch 10/15\n",
      "1527/1527 [==============================] - 0s - loss: 0.0030 - acc: 1.0000     \n",
      "Epoch 11/15\n",
      "1527/1527 [==============================] - 0s - loss: 0.0025 - acc: 1.0000     \n",
      "Epoch 12/15\n",
      "1527/1527 [==============================] - 0s - loss: 0.0020 - acc: 1.0000     \n",
      "Epoch 13/15\n",
      "1527/1527 [==============================] - 0s - loss: 0.0017 - acc: 1.0000     \n",
      "Epoch 14/15\n",
      "1527/1527 [==============================] - 0s - loss: 0.0015 - acc: 1.0000     \n",
      "Epoch 15/15\n",
      "1527/1527 [==============================] - 0s - loss: 0.0013 - acc: 1.0000     \n"
     ]
    }
   ],
   "source": [
    "layer_number = [1, 2, 3, 4, 5]\n",
    "histories = {}\n",
    "for number in layer_number:\n",
    "    histories[number] = train_layers(number)"
   ]
  },
  {
   "cell_type": "code",
   "execution_count": 12,
   "metadata": {
    "collapsed": false
   },
   "outputs": [
    {
     "data": {
      "image/png": "[encoded data removed]",
      "text/plain": [
       "<matplotlib.figure.Figure at 0x2500c74b5f8>"
      ]
     },
     "metadata": {},
     "output_type": "display_data"
    }
   ],
   "source": [
    "t = np.arange(0, 15)\n",
    "\n",
    "for number in layer_number:\n",
    "    plt.plot(t, histories[number].history['loss'], label=number)\n",
    "\n",
    "plt.legend()\n",
    "plt.title('Loss during training')\n",
    "plt.xlabel('Epoch')\n",
    "plt.ylabel('Loss')\n",
    "plt.show()"
   ]
  },
  {
   "cell_type": "markdown",
   "metadata": {},
   "source": [
    "#### Influence of the learning rate"
   ]
  },
  {
   "cell_type": "code",
   "execution_count": 13,
   "metadata": {
    "collapsed": true
   },
   "outputs": [],
   "source": [
    "def train_lr(lr):\n",
    "    ############ Define dimensions of layers engaged in the neural network ##########\n",
    "    N = X_train.shape[1]\n",
    "    H = 100\n",
    "    K = 10\n",
    "\n",
    "    ######### Build the graph #########\n",
    "    model = Sequential()\n",
    "    model.add(Dense(H, input_dim=N))\n",
    "    model.add(Activation('relu')) \n",
    "    model.add(Dense(K))\n",
    "    model.add(Activation(\"softmax\"))\n",
    "\n",
    "    ############ Assign the graph with an optimizer, a olss function and a metric #######\n",
    "    model.compile(optimizer=optimizers.SGD(lr=lr),\n",
    "                  loss='categorical_crossentropy', metrics=['accuracy'])\n",
    "\n",
    "    ########### Fit the previously defined model on the train set ##############\n",
    "    start = time.time()\n",
    "    history = model.fit(X_train, Y_train, nb_epoch=15, batch_size=32)\n",
    "    exec_time = time.time() - start\n",
    "    \n",
    "    return history"
   ]
  },
  {
   "cell_type": "code",
   "execution_count": 14,
   "metadata": {
    "collapsed": false
   },
   "outputs": [
    {
     "name": "stdout",
     "output_type": "stream",
     "text": [
      "Epoch 1/15\n",
      "1527/1527 [==============================] - 0s - loss: 13.0162 - acc: 0.1729     \n",
      "Epoch 2/15\n",
      "1527/1527 [==============================] - 0s - loss: 13.2576 - acc: 0.1775     \n",
      "Epoch 3/15\n",
      "1527/1527 [==============================] - 0s - loss: 13.2576 - acc: 0.1775     \n",
      "Epoch 4/15\n",
      "1527/1527 [==============================] - 0s - loss: 13.2576 - acc: 0.1775     \n",
      "Epoch 5/15\n",
      "1527/1527 [==============================] - 0s - loss: 13.2576 - acc: 0.1775     \n",
      "Epoch 6/15\n",
      "1527/1527 [==============================] - 0s - loss: 13.2576 - acc: 0.1775     \n",
      "Epoch 7/15\n",
      "1527/1527 [==============================] - 0s - loss: 13.2576 - acc: 0.1775     \n",
      "Epoch 8/15\n",
      "1527/1527 [==============================] - 0s - loss: 13.2576 - acc: 0.1775     \n",
      "Epoch 9/15\n",
      "1527/1527 [==============================] - 0s - loss: 13.2576 - acc: 0.1775     \n",
      "Epoch 10/15\n",
      "1527/1527 [==============================] - 0s - loss: 13.2576 - acc: 0.1775     \n",
      "Epoch 11/15\n",
      "1527/1527 [==============================] - 0s - loss: 13.2576 - acc: 0.1775     \n",
      "Epoch 12/15\n",
      "1527/1527 [==============================] - 0s - loss: 13.2576 - acc: 0.1775     \n",
      "Epoch 13/15\n",
      "1527/1527 [==============================] - 0s - loss: 13.2576 - acc: 0.1775     \n",
      "Epoch 14/15\n",
      "1527/1527 [==============================] - 0s - loss: 13.2576 - acc: 0.1775     \n",
      "Epoch 15/15\n",
      "1527/1527 [==============================] - 0s - loss: 13.2576 - acc: 0.1775     \n",
      "Epoch 1/15\n",
      "1527/1527 [==============================] - 0s - loss: 0.4630 - acc: 0.8657     \n",
      "Epoch 2/15\n",
      "1527/1527 [==============================] - 0s - loss: 0.0828 - acc: 0.9797     \n",
      "Epoch 3/15\n",
      "1527/1527 [==============================] - 0s - loss: 0.0431 - acc: 0.9928     \n",
      "Epoch 4/15\n",
      "1527/1527 [==============================] - 0s - loss: 0.0189 - acc: 0.9993     \n",
      "Epoch 5/15\n",
      "1527/1527 [==============================] - 0s - loss: 0.0154 - acc: 0.9993     \n",
      "Epoch 6/15\n",
      "1527/1527 [==============================] - 0s - loss: 0.0140 - acc: 0.9993     \n",
      "Epoch 7/15\n",
      "1527/1527 [==============================] - 0s - loss: 0.0133 - acc: 0.9993     \n",
      "Epoch 8/15\n",
      "1527/1527 [==============================] - 0s - loss: 0.0130 - acc: 0.9993     \n",
      "Epoch 9/15\n",
      "1527/1527 [==============================] - 0s - loss: 0.0126 - acc: 0.9993     \n",
      "Epoch 10/15\n",
      "1527/1527 [==============================] - 0s - loss: 0.0124 - acc: 0.9993     \n",
      "Epoch 11/15\n",
      "1527/1527 [==============================] - 0s - loss: 0.0122 - acc: 0.9993     \n",
      "Epoch 12/15\n",
      "1527/1527 [==============================] - 0s - loss: 0.0120 - acc: 0.9993     \n",
      "Epoch 13/15\n",
      "1527/1527 [==============================] - 0s - loss: 0.0119 - acc: 0.9993     \n",
      "Epoch 14/15\n",
      "1527/1527 [==============================] - 0s - loss: 0.0118 - acc: 0.9993     \n",
      "Epoch 15/15\n",
      "1527/1527 [==============================] - 0s - loss: 0.0117 - acc: 0.9993     \n",
      "Epoch 1/15\n",
      "1527/1527 [==============================] - 0s - loss: 0.9788 - acc: 0.7610     \n",
      "Epoch 2/15\n",
      "1527/1527 [==============================] - 0s - loss: 0.2882 - acc: 0.9424     \n",
      "Epoch 3/15\n",
      "1527/1527 [==============================] - 0s - loss: 0.1791 - acc: 0.9659     \n",
      "Epoch 4/15\n",
      "1527/1527 [==============================] - 0s - loss: 0.1322 - acc: 0.9790     \n",
      "Epoch 5/15\n",
      "1527/1527 [==============================] - 0s - loss: 0.1048 - acc: 0.9810     \n",
      "Epoch 6/15\n",
      "1527/1527 [==============================] - 0s - loss: 0.0876 - acc: 0.9862     \n",
      "Epoch 7/15\n",
      "1527/1527 [==============================] - 0s - loss: 0.0741 - acc: 0.9889     \n",
      "Epoch 8/15\n",
      "1527/1527 [==============================] - 0s - loss: 0.0637 - acc: 0.9908     \n",
      "Epoch 9/15\n",
      "1527/1527 [==============================] - 0s - loss: 0.0560 - acc: 0.9935     \n",
      "Epoch 10/15\n",
      "1527/1527 [==============================] - 0s - loss: 0.0492 - acc: 0.9941     \n",
      "Epoch 11/15\n",
      "1527/1527 [==============================] - 0s - loss: 0.0443 - acc: 0.9948     \n",
      "Epoch 12/15\n",
      "1527/1527 [==============================] - 0s - loss: 0.0397 - acc: 0.9961     \n",
      "Epoch 13/15\n",
      "1527/1527 [==============================] - 0s - loss: 0.0358 - acc: 0.9961     \n",
      "Epoch 14/15\n",
      "1527/1527 [==============================] - 0s - loss: 0.0326 - acc: 0.9967     \n",
      "Epoch 15/15\n",
      "1527/1527 [==============================] - 0s - loss: 0.0298 - acc: 0.9980     \n",
      "Epoch 1/15\n",
      "1527/1527 [==============================] - 0s - loss: 1.9739 - acc: 0.3392     \n",
      "Epoch 2/15\n",
      "1527/1527 [==============================] - 0s - loss: 1.4043 - acc: 0.6699     \n",
      "Epoch 3/15\n",
      "1527/1527 [==============================] - 0s - loss: 1.0576 - acc: 0.8160     \n",
      "Epoch 4/15\n",
      "1527/1527 [==============================] - 0s - loss: 0.8394 - acc: 0.8657     \n",
      "Epoch 5/15\n",
      "1527/1527 [==============================] - 0s - loss: 0.6942 - acc: 0.8893     \n",
      "Epoch 6/15\n",
      "1527/1527 [==============================] - 0s - loss: 0.5920 - acc: 0.9011     \n",
      "Epoch 7/15\n",
      "1527/1527 [==============================] - 0s - loss: 0.5169 - acc: 0.9155     \n",
      "Epoch 8/15\n",
      "1527/1527 [==============================] - 0s - loss: 0.4592 - acc: 0.9247     \n",
      "Epoch 9/15\n",
      "1527/1527 [==============================] - 0s - loss: 0.4139 - acc: 0.9273     \n",
      "Epoch 10/15\n",
      "1527/1527 [==============================] - 0s - loss: 0.3773 - acc: 0.9332     \n",
      "Epoch 11/15\n",
      "1527/1527 [==============================] - 0s - loss: 0.3470 - acc: 0.9378     \n",
      "Epoch 12/15\n",
      "1527/1527 [==============================] - 0s - loss: 0.3216 - acc: 0.9398     \n",
      "Epoch 13/15\n",
      "1527/1527 [==============================] - 0s - loss: 0.2996 - acc: 0.9456     \n",
      "Epoch 14/15\n",
      "1527/1527 [==============================] - 0s - loss: 0.2808 - acc: 0.9483     \n",
      "Epoch 15/15\n",
      "1527/1527 [==============================] - 0s - loss: 0.2643 - acc: 0.9522     \n",
      "Epoch 1/15\n",
      "1527/1527 [==============================] - 0s - loss: 2.3782 - acc: 0.1565     \n",
      "Epoch 2/15\n",
      "1527/1527 [==============================] - 0s - loss: 2.2899 - acc: 0.1834     \n",
      "Epoch 3/15\n",
      "1527/1527 [==============================] - 0s - loss: 2.2061 - acc: 0.2213     \n",
      "Epoch 4/15\n",
      "1527/1527 [==============================] - 0s - loss: 2.1261 - acc: 0.2587     \n",
      "Epoch 5/15\n",
      "1527/1527 [==============================] - 0s - loss: 2.0499 - acc: 0.3006     \n",
      "Epoch 6/15\n",
      "1527/1527 [==============================] - 0s - loss: 1.9771 - acc: 0.3379     \n",
      "Epoch 7/15\n",
      "1527/1527 [==============================] - 0s - loss: 1.9079 - acc: 0.3752     \n",
      "Epoch 8/15\n",
      "1527/1527 [==============================] - 0s - loss: 1.8417 - acc: 0.4204     \n",
      "Epoch 9/15\n",
      "1527/1527 [==============================] - 0s - loss: 1.7789 - acc: 0.4676     \n",
      "Epoch 10/15\n",
      "1527/1527 [==============================] - 0s - loss: 1.7192 - acc: 0.5102     \n",
      "Epoch 11/15\n",
      "1527/1527 [==============================] - 0s - loss: 1.6623 - acc: 0.5534     \n",
      "Epoch 12/15\n",
      "1527/1527 [==============================] - 0s - loss: 1.6083 - acc: 0.5881     \n",
      "Epoch 13/15\n",
      "1527/1527 [==============================] - 0s - loss: 1.5569 - acc: 0.6182     \n",
      "Epoch 14/15\n",
      "1527/1527 [==============================] - 0s - loss: 1.5081 - acc: 0.6437     \n",
      "Epoch 15/15\n",
      "1527/1527 [==============================] - 0s - loss: 1.4616 - acc: 0.6614     \n"
     ]
    }
   ],
   "source": [
    "learning = [10, 1, 0.1, 0.01, 0.001]\n",
    "histories = {}\n",
    "for rate in learning:\n",
    "    histories[rate] = train_lr(rate)"
   ]
  },
  {
   "cell_type": "code",
   "execution_count": 15,
   "metadata": {
    "collapsed": false
   },
   "outputs": [
    {
     "data": {
      "image/png": "[encoded data removed]",
      "text/plain": [
       "<matplotlib.figure.Figure at 0x2500f4039e8>"
      ]
     },
     "metadata": {},
     "output_type": "display_data"
    }
   ],
   "source": [
    "t = np.arange(0, 15)\n",
    "\n",
    "for rate in learning:\n",
    "    plt.plot(t, histories[rate].history['loss'], label=rate)\n",
    "\n",
    "plt.legend()\n",
    "plt.title('Loss during training')\n",
    "plt.xlabel('Epoch')\n",
    "plt.ylabel('Loss')\n",
    "plt.show()"
   ]
  },
  {
   "cell_type": "code",
   "execution_count": 16,
   "metadata": {
    "collapsed": false
   },
   "outputs": [
    {
     "name": "stdout",
     "output_type": "stream",
     "text": [
      "Epoch 1/15\n",
      "1527/1527 [==============================] - 0s - loss: 2.2000 - acc: 0.2593     \n",
      "Epoch 2/15\n",
      "1527/1527 [==============================] - 0s - loss: 1.5862 - acc: 0.5370     \n",
      "Epoch 3/15\n",
      "1527/1527 [==============================] - 0s - loss: 1.1851 - acc: 0.7269     \n",
      "Epoch 4/15\n",
      "1527/1527 [==============================] - 0s - loss: 0.9247 - acc: 0.8120     \n",
      "Epoch 5/15\n",
      "1527/1527 [==============================] - 0s - loss: 0.7534 - acc: 0.8533     \n",
      "Epoch 6/15\n",
      "1527/1527 [==============================] - 0s - loss: 0.6345 - acc: 0.8880     \n",
      "Epoch 7/15\n",
      "1527/1527 [==============================] - 0s - loss: 0.5476 - acc: 0.9070     \n",
      "Epoch 8/15\n",
      "1527/1527 [==============================] - 0s - loss: 0.4818 - acc: 0.9175     \n",
      "Epoch 9/15\n",
      "1527/1527 [==============================] - 0s - loss: 0.4304 - acc: 0.9286     \n",
      "Epoch 10/15\n",
      "1527/1527 [==============================] - 0s - loss: 0.3893 - acc: 0.9339     \n",
      "Epoch 11/15\n",
      "1527/1527 [==============================] - 0s - loss: 0.3557 - acc: 0.9404     \n",
      "Epoch 12/15\n",
      "1527/1527 [==============================] - 0s - loss: 0.3277 - acc: 0.9437     \n",
      "Epoch 13/15\n",
      "1527/1527 [==============================] - 0s - loss: 0.3042 - acc: 0.9463     \n",
      "Epoch 14/15\n",
      "1527/1527 [==============================] - 0s - loss: 0.2839 - acc: 0.9483     \n",
      "Epoch 15/15\n",
      "1527/1527 [==============================] - 0s - loss: 0.2664 - acc: 0.9502     \n",
      "Epoch 1/15\n",
      "1527/1527 [==============================] - 0s - loss: 1.4362 - acc: 0.6136     \n",
      "Epoch 2/15\n",
      "1527/1527 [==============================] - 0s - loss: 0.5317 - acc: 0.9011     \n",
      "Epoch 3/15\n",
      "1527/1527 [==============================] - 0s - loss: 0.3226 - acc: 0.9365     \n",
      "Epoch 4/15\n",
      "1527/1527 [==============================] - 0s - loss: 0.2361 - acc: 0.9509     \n",
      "Epoch 5/15\n",
      "1527/1527 [==============================] - 0s - loss: 0.1870 - acc: 0.9627     \n",
      "Epoch 6/15\n",
      "1527/1527 [==============================] - 0s - loss: 0.1556 - acc: 0.9725     \n",
      "Epoch 7/15\n",
      "1527/1527 [==============================] - 0s - loss: 0.1336 - acc: 0.9804     \n",
      "Epoch 8/15\n",
      "1527/1527 [==============================] - 0s - loss: 0.1178 - acc: 0.9797     \n",
      "Epoch 9/15\n",
      "1527/1527 [==============================] - 0s - loss: 0.1045 - acc: 0.9823     \n",
      "Epoch 10/15\n",
      "1527/1527 [==============================] - 0s - loss: 0.0947 - acc: 0.9856     \n",
      "Epoch 11/15\n",
      "1527/1527 [==============================] - 0s - loss: 0.0861 - acc: 0.9876     \n",
      "Epoch 12/15\n",
      "1527/1527 [==============================] - 0s - loss: 0.0789 - acc: 0.9895     \n",
      "Epoch 13/15\n",
      "1527/1527 [==============================] - 0s - loss: 0.0729 - acc: 0.9908     \n",
      "Epoch 14/15\n",
      "1527/1527 [==============================] - 0s - loss: 0.0673 - acc: 0.9921     \n",
      "Epoch 15/15\n",
      "1527/1527 [==============================] - 0s - loss: 0.0629 - acc: 0.9935     \n",
      "Epoch 1/15\n",
      "1527/1527 [==============================] - 0s - loss: 0.9628 - acc: 0.7518     \n",
      "Epoch 2/15\n",
      "1527/1527 [==============================] - 0s - loss: 0.2993 - acc: 0.9398     \n",
      "Epoch 3/15\n",
      "1527/1527 [==============================] - 0s - loss: 0.1842 - acc: 0.9659     \n",
      "Epoch 4/15\n",
      "1527/1527 [==============================] - 0s - loss: 0.1350 - acc: 0.9725     \n",
      "Epoch 5/15\n",
      "1527/1527 [==============================] - 0s - loss: 0.1064 - acc: 0.9817     \n",
      "Epoch 6/15\n",
      "1527/1527 [==============================] - 0s - loss: 0.0874 - acc: 0.9889     \n",
      "Epoch 7/15\n",
      "1527/1527 [==============================] - 0s - loss: 0.0740 - acc: 0.9902     \n",
      "Epoch 8/15\n",
      "1527/1527 [==============================] - 0s - loss: 0.0635 - acc: 0.9908     \n",
      "Epoch 9/15\n",
      "1527/1527 [==============================] - 0s - loss: 0.0556 - acc: 0.9915     \n",
      "Epoch 10/15\n",
      "1527/1527 [==============================] - 0s - loss: 0.0490 - acc: 0.9948     \n",
      "Epoch 11/15\n",
      "1527/1527 [==============================] - 0s - loss: 0.0440 - acc: 0.9954     \n",
      "Epoch 12/15\n",
      "1527/1527 [==============================] - 0s - loss: 0.0394 - acc: 0.9961     \n",
      "Epoch 13/15\n",
      "1527/1527 [==============================] - 0s - loss: 0.0357 - acc: 0.9961     \n",
      "Epoch 14/15\n",
      "1527/1527 [==============================] - 0s - loss: 0.0326 - acc: 0.9967     \n",
      "Epoch 15/15\n",
      "1527/1527 [==============================] - 0s - loss: 0.0298 - acc: 0.9974     \n",
      "Epoch 1/15\n",
      "1527/1527 [==============================] - 0s - loss: 0.4577 - acc: 0.8795     \n",
      "Epoch 2/15\n",
      "1527/1527 [==============================] - 0s - loss: 0.1228 - acc: 0.9699     \n",
      "Epoch 3/15\n",
      "1527/1527 [==============================] - 0s - loss: 0.0571 - acc: 0.9921     \n",
      "Epoch 4/15\n",
      "1527/1527 [==============================] - 0s - loss: 0.0360 - acc: 0.9961     \n",
      "Epoch 5/15\n",
      "1527/1527 [==============================] - 0s - loss: 0.0279 - acc: 0.9980     \n",
      "Epoch 6/15\n",
      "1527/1527 [==============================] - 0s - loss: 0.0229 - acc: 0.9993     \n",
      "Epoch 7/15\n",
      "1527/1527 [==============================] - 0s - loss: 0.0200 - acc: 0.9993     \n",
      "Epoch 8/15\n",
      "1527/1527 [==============================] - 0s - loss: 0.0184 - acc: 0.9993     \n",
      "Epoch 9/15\n",
      "1527/1527 [==============================] - 0s - loss: 0.0170 - acc: 0.9993     \n",
      "Epoch 10/15\n",
      "1527/1527 [==============================] - 0s - loss: 0.0162 - acc: 0.9993     \n",
      "Epoch 11/15\n",
      "1527/1527 [==============================] - 0s - loss: 0.0154 - acc: 0.9993     \n",
      "Epoch 12/15\n",
      "1527/1527 [==============================] - 0s - loss: 0.0150 - acc: 0.9993     \n",
      "Epoch 13/15\n",
      "1527/1527 [==============================] - 0s - loss: 0.0145 - acc: 0.9993     \n",
      "Epoch 14/15\n",
      "1527/1527 [==============================] - 0s - loss: 0.0141 - acc: 0.9993     \n",
      "Epoch 15/15\n",
      "1527/1527 [==============================] - 0s - loss: 0.0138 - acc: 0.9993     \n",
      "Epoch 1/15\n",
      "1527/1527 [==============================] - 0s - loss: 0.4863 - acc: 0.8657     \n",
      "Epoch 2/15\n",
      "1527/1527 [==============================] - 0s - loss: 0.1014 - acc: 0.9777     \n",
      "Epoch 3/15\n",
      "1527/1527 [==============================] - 0s - loss: 0.0827 - acc: 0.9823     \n",
      "Epoch 4/15\n",
      "1527/1527 [==============================] - 0s - loss: 0.0484 - acc: 0.9954     \n",
      "Epoch 5/15\n",
      "1527/1527 [==============================] - 0s - loss: 0.0409 - acc: 0.9967     \n",
      "Epoch 6/15\n",
      "1527/1527 [==============================] - 0s - loss: 0.0245 - acc: 0.9987     \n",
      "Epoch 7/15\n",
      "1527/1527 [==============================] - 0s - loss: 0.0236 - acc: 0.9987     \n",
      "Epoch 8/15\n",
      "1527/1527 [==============================] - 0s - loss: 0.0232 - acc: 0.9987     \n",
      "Epoch 9/15\n",
      "1527/1527 [==============================] - 0s - loss: 0.0229 - acc: 0.9987     \n",
      "Epoch 10/15\n",
      "1527/1527 [==============================] - 0s - loss: 0.0227 - acc: 0.9987     \n",
      "Epoch 11/15\n",
      "1527/1527 [==============================] - 0s - loss: 0.0225 - acc: 0.9987     \n",
      "Epoch 12/15\n",
      "1527/1527 [==============================] - 0s - loss: 0.0224 - acc: 0.9987     \n",
      "Epoch 13/15\n",
      "1527/1527 [==============================] - 0s - loss: 0.0223 - acc: 0.9987     \n",
      "Epoch 14/15\n",
      "1527/1527 [==============================] - 0s - loss: 0.0222 - acc: 0.9987     \n",
      "Epoch 15/15\n",
      "1527/1527 [==============================] - 0s - loss: 0.0221 - acc: 0.9987     \n",
      "Epoch 1/15\n",
      "1527/1527 [==============================] - 0s - loss: 0.8222 - acc: 0.8107     \n",
      "Epoch 2/15\n",
      "1527/1527 [==============================] - 0s - loss: 0.4946 - acc: 0.9201     \n",
      "Epoch 3/15\n",
      "1527/1527 [==============================] - 0s - loss: 0.2681 - acc: 0.9483     \n",
      "Epoch 4/15\n",
      "1527/1527 [==============================] - 0s - loss: 0.2479 - acc: 0.9679     \n",
      "Epoch 5/15\n",
      "1527/1527 [==============================] - 0s - loss: 0.2086 - acc: 0.9673     \n",
      "Epoch 6/15\n",
      "1527/1527 [==============================] - 0s - loss: 0.3137 - acc: 0.9620     \n",
      "Epoch 7/15\n",
      "1527/1527 [==============================] - 0s - loss: 0.5631 - acc: 0.9456     \n",
      "Epoch 8/15\n",
      "1527/1527 [==============================] - 0s - loss: 0.3858 - acc: 0.9614     \n",
      "Epoch 9/15\n",
      "1527/1527 [==============================] - 0s - loss: 0.3598 - acc: 0.9653     \n",
      "Epoch 10/15\n",
      "1527/1527 [==============================] - 0s - loss: 0.1443 - acc: 0.9823     \n",
      "Epoch 11/15\n",
      "1527/1527 [==============================] - 0s - loss: 0.1806 - acc: 0.9804     \n",
      "Epoch 12/15\n",
      "1527/1527 [==============================] - 0s - loss: 0.1204 - acc: 0.9889     \n",
      "Epoch 13/15\n",
      "1527/1527 [==============================] - 0s - loss: 0.2180 - acc: 0.9817     \n",
      "Epoch 14/15\n",
      "1527/1527 [==============================] - 0s - loss: 0.2173 - acc: 0.9804     \n",
      "Epoch 15/15\n",
      "1527/1527 [==============================] - 0s - loss: 0.2495 - acc: 0.9797     \n",
      "Epoch 1/15\n",
      "1527/1527 [==============================] - 0s - loss: 3.8844 - acc: 0.6267     \n",
      "Epoch 2/15\n",
      "1527/1527 [==============================] - 0s - loss: 2.8397 - acc: 0.8022     \n",
      "Epoch 3/15\n",
      "1527/1527 [==============================] - 0s - loss: 3.4038 - acc: 0.7754     \n",
      "Epoch 4/15\n",
      "1527/1527 [==============================] - 0s - loss: 3.7595 - acc: 0.7583     \n",
      "Epoch 5/15\n",
      "1527/1527 [==============================] - 0s - loss: 4.0986 - acc: 0.7400     \n",
      "Epoch 6/15\n",
      "1527/1527 [==============================] - 0s - loss: 3.4409 - acc: 0.7806     \n",
      "Epoch 7/15\n",
      "1527/1527 [==============================] - 0s - loss: 2.8684 - acc: 0.8193     \n",
      "Epoch 8/15\n",
      "1527/1527 [==============================] - 0s - loss: 2.9198 - acc: 0.8160     \n",
      "Epoch 9/15\n",
      "1527/1527 [==============================] - 0s - loss: 3.1055 - acc: 0.8035     \n",
      "Epoch 10/15\n",
      "1527/1527 [==============================] - 0s - loss: 3.5884 - acc: 0.7741     \n",
      "Epoch 11/15\n",
      "1527/1527 [==============================] - 0s - loss: 3.6865 - acc: 0.7688     \n",
      "Epoch 12/15\n",
      "1527/1527 [==============================] - 0s - loss: 3.3818 - acc: 0.7885     \n",
      "Epoch 13/15\n",
      "1527/1527 [==============================] - 0s - loss: 2.8589 - acc: 0.8199     \n",
      "Epoch 14/15\n",
      "1527/1527 [==============================] - 0s - loss: 3.0997 - acc: 0.8048     \n",
      "Epoch 15/15\n",
      "1527/1527 [==============================] - 0s - loss: 3.8007 - acc: 0.7629     \n"
     ]
    }
   ],
   "source": [
    "learning = [0.01, 0.05, 0.1, 0.5, 1, 1.5, 2]\n",
    "histories = {}\n",
    "for rate in learning:\n",
    "    histories[rate] = train_lr(rate)"
   ]
  },
  {
   "cell_type": "code",
   "execution_count": 17,
   "metadata": {
    "collapsed": false
   },
   "outputs": [
    {
     "data": {
      "image/png": "[encoded data removed]",
      "text/plain": [
       "<matplotlib.figure.Figure at 0x2501242cf98>"
      ]
     },
     "metadata": {},
     "output_type": "display_data"
    }
   ],
   "source": [
    "t = np.arange(0, 15)\n",
    "\n",
    "for rate in learning:\n",
    "    plt.plot(t, histories[rate].history['loss'], label=rate)\n",
    "\n",
    "plt.legend()\n",
    "plt.title('Loss during training')\n",
    "plt.xlabel('Epoch')\n",
    "plt.ylabel('Loss')\n",
    "plt.show()"
   ]
  },
  {
   "cell_type": "markdown",
   "metadata": {},
   "source": [
    "We observe that the learning phase is better while the learning rate is increasing from 0.01 to 0.5, but then the training loss starts to diverge!"
   ]
  },
  {
   "cell_type": "markdown",
   "metadata": {},
   "source": [
    "#### Influence of the optimizer (without parameter tuning)"
   ]
  },
  {
   "cell_type": "code",
   "execution_count": 18,
   "metadata": {
    "collapsed": true
   },
   "outputs": [],
   "source": [
    "from keras import optimizers\n",
    "def train_optimizer(optimizer):\n",
    "    ############ Define dimensions of layers engaged in the neural network ##########\n",
    "    N = X_train.shape[1]\n",
    "    H = 100\n",
    "    K = 10\n",
    "\n",
    "    ######### Build the graph #########\n",
    "    model = Sequential()\n",
    "    model.add(Dense(H, input_dim=N))\n",
    "    model.add(Activation('relu')) \n",
    "    model.add(Dense(K))\n",
    "    model.add(Activation(\"softmax\"))\n",
    "\n",
    "    ############ Assign the graph with an optimizer, a olss function and a metric #######\n",
    "    model.compile(optimizer=optimizers.__dict__[optimizer](),\n",
    "                  loss='categorical_crossentropy', metrics=['accuracy'])\n",
    "\n",
    "    ########### Fit the previously defined model on the train set ##############\n",
    "    start = time.time()\n",
    "    history = model.fit(X_train, Y_train, nb_epoch=15, batch_size=32)\n",
    "    exec_time = time.time() - start\n",
    "    \n",
    "    return history"
   ]
  },
  {
   "cell_type": "code",
   "execution_count": 19,
   "metadata": {
    "collapsed": false
   },
   "outputs": [
    {
     "name": "stdout",
     "output_type": "stream",
     "text": [
      "Epoch 1/15\n",
      "1527/1527 [==============================] - 0s - loss: 2.1422 - acc: 0.2554     \n",
      "Epoch 2/15\n",
      "1527/1527 [==============================] - 0s - loss: 1.5213 - acc: 0.6313     \n",
      "Epoch 3/15\n",
      "1527/1527 [==============================] - 0s - loss: 1.1378 - acc: 0.7793     \n",
      "Epoch 4/15\n",
      "1527/1527 [==============================] - 0s - loss: 0.8965 - acc: 0.8356     \n",
      "Epoch 5/15\n",
      "1527/1527 [==============================] - 0s - loss: 0.7365 - acc: 0.8631     \n",
      "Epoch 6/15\n",
      "1527/1527 [==============================] - 0s - loss: 0.6241 - acc: 0.8867     \n",
      "Epoch 7/15\n",
      "1527/1527 [==============================] - 0s - loss: 0.5417 - acc: 0.9005     \n",
      "Epoch 8/15\n",
      "1527/1527 [==============================] - 0s - loss: 0.4789 - acc: 0.9162     \n",
      "Epoch 9/15\n",
      "1527/1527 [==============================] - 0s - loss: 0.4295 - acc: 0.9267     \n",
      "Epoch 10/15\n",
      "1527/1527 [==============================] - 0s - loss: 0.3900 - acc: 0.9299     \n",
      "Epoch 11/15\n",
      "1527/1527 [==============================] - 0s - loss: 0.3576 - acc: 0.9371     \n",
      "Epoch 12/15\n",
      "1527/1527 [==============================] - 0s - loss: 0.3306 - acc: 0.9430     \n",
      "Epoch 13/15\n",
      "1527/1527 [==============================] - 0s - loss: 0.3079 - acc: 0.9476     \n",
      "Epoch 14/15\n",
      "1527/1527 [==============================] - 0s - loss: 0.2881 - acc: 0.9509     \n",
      "Epoch 15/15\n",
      "1527/1527 [==============================] - 0s - loss: 0.2710 - acc: 0.9535     \n",
      "Epoch 1/15\n",
      "1527/1527 [==============================] - 0s - loss: 1.3657 - acc: 0.6031     \n",
      "Epoch 2/15\n",
      "1527/1527 [==============================] - 0s - loss: 0.5248 - acc: 0.9044     \n",
      "Epoch 3/15\n",
      "1527/1527 [==============================] - 0s - loss: 0.2691 - acc: 0.9515     \n",
      "Epoch 4/15\n",
      "1527/1527 [==============================] - 0s - loss: 0.1640 - acc: 0.9686     \n",
      "Epoch 5/15\n",
      "1527/1527 [==============================] - 0s - loss: 0.1137 - acc: 0.9797     \n",
      "Epoch 6/15\n",
      "1527/1527 [==============================] - 0s - loss: 0.0827 - acc: 0.9862     \n",
      "Epoch 7/15\n",
      "1527/1527 [==============================] - 0s - loss: 0.0621 - acc: 0.9882     \n",
      "Epoch 8/15\n",
      "1527/1527 [==============================] - 0s - loss: 0.0468 - acc: 0.9935     \n",
      "Epoch 9/15\n",
      "1527/1527 [==============================] - 0s - loss: 0.0360 - acc: 0.9954     \n",
      "Epoch 10/15\n",
      "1527/1527 [==============================] - 0s - loss: 0.0283 - acc: 0.9974     \n",
      "Epoch 11/15\n",
      "1527/1527 [==============================] - 0s - loss: 0.0223 - acc: 0.9974     \n",
      "Epoch 12/15\n",
      "1527/1527 [==============================] - 0s - loss: 0.0173 - acc: 0.9993     \n",
      "Epoch 13/15\n",
      "1527/1527 [==============================] - 0s - loss: 0.0137 - acc: 0.9993     \n",
      "Epoch 14/15\n",
      "1527/1527 [==============================] - 0s - loss: 0.0106 - acc: 0.9993     \n",
      "Epoch 15/15\n",
      "1527/1527 [==============================] - 0s - loss: 0.0087 - acc: 0.9993     \n",
      "Epoch 1/15\n",
      "1527/1527 [==============================] - 0s - loss: 0.7258 - acc: 0.8265     \n",
      "Epoch 2/15\n",
      "1527/1527 [==============================] - 0s - loss: 0.2495 - acc: 0.9568     \n",
      "Epoch 3/15\n",
      "1527/1527 [==============================] - 0s - loss: 0.1703 - acc: 0.9705     \n",
      "Epoch 4/15\n",
      "1527/1527 [==============================] - 0s - loss: 0.1331 - acc: 0.9810     \n",
      "Epoch 5/15\n",
      "1527/1527 [==============================] - 0s - loss: 0.1111 - acc: 0.9849     \n",
      "Epoch 6/15\n",
      "1527/1527 [==============================] - 0s - loss: 0.0956 - acc: 0.9889     \n",
      "Epoch 7/15\n",
      "1527/1527 [==============================] - 0s - loss: 0.0843 - acc: 0.9895     \n",
      "Epoch 8/15\n",
      "1527/1527 [==============================] - 0s - loss: 0.0753 - acc: 0.9915     \n",
      "Epoch 9/15\n",
      "1527/1527 [==============================] - 0s - loss: 0.0679 - acc: 0.9921     \n",
      "Epoch 10/15\n",
      "1527/1527 [==============================] - 0s - loss: 0.0619 - acc: 0.9935     \n",
      "Epoch 11/15\n",
      "1527/1527 [==============================] - 0s - loss: 0.0571 - acc: 0.9935     \n",
      "Epoch 12/15\n",
      "1527/1527 [==============================] - 0s - loss: 0.0529 - acc: 0.9941     \n",
      "Epoch 13/15\n",
      "1527/1527 [==============================] - 0s - loss: 0.0491 - acc: 0.9948     \n",
      "Epoch 14/15\n",
      "1527/1527 [==============================] - 0s - loss: 0.0458 - acc: 0.9954     \n",
      "Epoch 15/15\n",
      "1527/1527 [==============================] - 0s - loss: 0.0430 - acc: 0.9961     \n",
      "Epoch 1/15\n",
      "1527/1527 [==============================] - 1s - loss: 2.0242 - acc: 0.3392     \n",
      "Epoch 2/15\n",
      "1527/1527 [==============================] - 0s - loss: 1.3315 - acc: 0.6536     \n",
      "Epoch 3/15\n",
      "1527/1527 [==============================] - 0s - loss: 0.9292 - acc: 0.8251     \n",
      "Epoch 4/15\n",
      "1527/1527 [==============================] - 0s - loss: 0.6876 - acc: 0.8815     \n",
      "Epoch 5/15\n",
      "1527/1527 [==============================] - 0s - loss: 0.5361 - acc: 0.9050     \n",
      "Epoch 6/15\n",
      "1527/1527 [==============================] - 0s - loss: 0.4335 - acc: 0.9201     \n",
      "Epoch 7/15\n",
      "1527/1527 [==============================] - 0s - loss: 0.3604 - acc: 0.9339     \n",
      "Epoch 8/15\n",
      "1527/1527 [==============================] - 0s - loss: 0.3052 - acc: 0.9443     \n",
      "Epoch 9/15\n",
      "1527/1527 [==============================] - 0s - loss: 0.2630 - acc: 0.9535     \n",
      "Epoch 10/15\n",
      "1527/1527 [==============================] - 0s - loss: 0.2296 - acc: 0.9614     \n",
      "Epoch 11/15\n",
      "1527/1527 [==============================] - 0s - loss: 0.2022 - acc: 0.9653     \n",
      "Epoch 12/15\n",
      "1527/1527 [==============================] - 0s - loss: 0.1798 - acc: 0.9686     \n",
      "Epoch 13/15\n",
      "1527/1527 [==============================] - 0s - loss: 0.1613 - acc: 0.9731     \n",
      "Epoch 14/15\n",
      "1527/1527 [==============================] - 0s - loss: 0.1455 - acc: 0.9758     \n",
      "Epoch 15/15\n",
      "1527/1527 [==============================] - 0s - loss: 0.1322 - acc: 0.9764     \n",
      "Epoch 1/15\n",
      "1527/1527 [==============================] - 0s - loss: 1.6079 - acc: 0.5481     \n",
      "Epoch 2/15\n",
      "1527/1527 [==============================] - 0s - loss: 0.6277 - acc: 0.8854     \n",
      "Epoch 3/15\n",
      "1527/1527 [==============================] - 0s - loss: 0.3562 - acc: 0.9398     \n",
      "Epoch 4/15\n",
      "1527/1527 [==============================] - 0s - loss: 0.2442 - acc: 0.9587     \n",
      "Epoch 5/15\n",
      "1527/1527 [==============================] - 0s - loss: 0.1829 - acc: 0.9686     \n",
      "Epoch 6/15\n",
      "1527/1527 [==============================] - 0s - loss: 0.1452 - acc: 0.9745     \n",
      "Epoch 7/15\n",
      "1527/1527 [==============================] - 0s - loss: 0.1189 - acc: 0.9804     \n",
      "Epoch 8/15\n",
      "1527/1527 [==============================] - 0s - loss: 0.1004 - acc: 0.9843     \n",
      "Epoch 9/15\n",
      "1527/1527 [==============================] - 0s - loss: 0.0858 - acc: 0.9915     \n",
      "Epoch 10/15\n",
      "1527/1527 [==============================] - 0s - loss: 0.0743 - acc: 0.9921     \n",
      "Epoch 11/15\n",
      "1527/1527 [==============================] - 0s - loss: 0.0656 - acc: 0.9935     \n",
      "Epoch 12/15\n",
      "1527/1527 [==============================] - 0s - loss: 0.0583 - acc: 0.9948     \n",
      "Epoch 13/15\n",
      "1527/1527 [==============================] - 0s - loss: 0.0525 - acc: 0.9967     \n",
      "Epoch 14/15\n",
      "1527/1527 [==============================] - 0s - loss: 0.0471 - acc: 0.9974     \n",
      "Epoch 15/15\n",
      "1527/1527 [==============================] - 0s - loss: 0.0429 - acc: 0.9980     \n",
      "Epoch 1/15\n",
      "1527/1527 [==============================] - 0s - loss: 1.5521 - acc: 0.5553     \n",
      "Epoch 2/15\n",
      "1527/1527 [==============================] - 0s - loss: 0.6636 - acc: 0.8821     \n",
      "Epoch 3/15\n",
      "1527/1527 [==============================] - 0s - loss: 0.4147 - acc: 0.9247     \n",
      "Epoch 4/15\n",
      "1527/1527 [==============================] - 0s - loss: 0.3028 - acc: 0.9489     \n",
      "Epoch 5/15\n",
      "1527/1527 [==============================] - 0s - loss: 0.2387 - acc: 0.9614     \n",
      "Epoch 6/15\n",
      "1527/1527 [==============================] - 0s - loss: 0.1974 - acc: 0.9653     \n",
      "Epoch 7/15\n",
      "1527/1527 [==============================] - 0s - loss: 0.1680 - acc: 0.9712     \n",
      "Epoch 8/15\n",
      "1527/1527 [==============================] - 0s - loss: 0.1461 - acc: 0.9771     \n",
      "Epoch 9/15\n",
      "1527/1527 [==============================] - 0s - loss: 0.1288 - acc: 0.9817     \n",
      "Epoch 10/15\n",
      "1527/1527 [==============================] - 0s - loss: 0.1146 - acc: 0.9843     \n",
      "Epoch 11/15\n",
      "1527/1527 [==============================] - 0s - loss: 0.1034 - acc: 0.9856     \n",
      "Epoch 12/15\n",
      "1527/1527 [==============================] - 0s - loss: 0.0939 - acc: 0.9882     \n",
      "Epoch 13/15\n",
      "1527/1527 [==============================] - 0s - loss: 0.0855 - acc: 0.9889     \n",
      "Epoch 14/15\n",
      "1527/1527 [==============================] - 0s - loss: 0.0787 - acc: 0.9895     \n",
      "Epoch 15/15\n",
      "1527/1527 [==============================] - 0s - loss: 0.0720 - acc: 0.9895     \n",
      "Epoch 1/15\n",
      "1527/1527 [==============================] - 0s - loss: 1.2236 - acc: 0.6811     \n",
      "Epoch 2/15\n",
      "1527/1527 [==============================] - 0s - loss: 0.3240 - acc: 0.9411     \n",
      "Epoch 3/15\n",
      "1527/1527 [==============================] - 0s - loss: 0.1722 - acc: 0.9718     \n",
      "Epoch 4/15\n",
      "1527/1527 [==============================] - 0s - loss: 0.1126 - acc: 0.9797     \n",
      "Epoch 5/15\n",
      "1527/1527 [==============================] - 0s - loss: 0.0812 - acc: 0.9889     \n",
      "Epoch 6/15\n",
      "1527/1527 [==============================] - 0s - loss: 0.0603 - acc: 0.9935     \n",
      "Epoch 7/15\n",
      "1527/1527 [==============================] - 0s - loss: 0.0468 - acc: 0.9948     \n",
      "Epoch 8/15\n",
      "1527/1527 [==============================] - 0s - loss: 0.0364 - acc: 0.9974     \n",
      "Epoch 9/15\n",
      "1527/1527 [==============================] - 0s - loss: 0.0292 - acc: 0.9980     \n",
      "Epoch 10/15\n",
      "1527/1527 [==============================] - 0s - loss: 0.0238 - acc: 0.9987     \n",
      "Epoch 11/15\n",
      "1527/1527 [==============================] - 0s - loss: 0.0199 - acc: 0.9993     \n",
      "Epoch 12/15\n",
      "1527/1527 [==============================] - 0s - loss: 0.0166 - acc: 0.9993     \n",
      "Epoch 13/15\n",
      "1527/1527 [==============================] - 0s - loss: 0.0142 - acc: 1.0000     \n",
      "Epoch 14/15\n",
      "1527/1527 [==============================] - 0s - loss: 0.0120 - acc: 1.0000     \n",
      "Epoch 15/15\n",
      "1527/1527 [==============================] - 0s - loss: 0.0105 - acc: 1.0000     \n"
     ]
    }
   ],
   "source": [
    "optims = ['SGD', 'RMSprop', 'Adagrad', 'Adadelta', 'Adam', 'Adamax', 'Nadam']\n",
    "histories = {}\n",
    "for optim in optims:\n",
    "    histories[optim] = train_optimizer(optim)"
   ]
  },
  {
   "cell_type": "code",
   "execution_count": 20,
   "metadata": {
    "collapsed": false
   },
   "outputs": [
    {
     "data": {
      "image/png": "[encoded data removed]",
      "text/plain": [
       "<matplotlib.figure.Figure at 0x25016969048>"
      ]
     },
     "metadata": {},
     "output_type": "display_data"
    }
   ],
   "source": [
    "t = np.arange(0, 15)\n",
    "\n",
    "for optim in optims:\n",
    "    plt.plot(t, histories[optim].history['loss'], label=optim)\n",
    "\n",
    "plt.legend()\n",
    "plt.title('Loss during training')\n",
    "plt.xlabel('Epoch')\n",
    "plt.ylabel('Loss')\n",
    "plt.show()"
   ]
  },
  {
   "cell_type": "markdown",
   "metadata": {},
   "source": [
    "#### Influence of the Nesterov momentum in SGD"
   ]
  },
  {
   "cell_type": "code",
   "execution_count": 21,
   "metadata": {
    "collapsed": true
   },
   "outputs": [],
   "source": [
    "def train_nesterov(moementum):\n",
    "    ############ Define dimensions of layers engaged in the neural network ##########\n",
    "    N = X_train.shape[1]\n",
    "    H = 100\n",
    "    K = 10\n",
    "\n",
    "    ######### Build the graph #########\n",
    "    model = Sequential()\n",
    "    model.add(Dense(H, input_dim=N))\n",
    "    model.add(Activation('relu')) \n",
    "    model.add(Dense(K))\n",
    "    model.add(Activation(\"softmax\"))\n",
    "\n",
    "    ############ Assign the graph with an optimizer, a olss function and a metric #######\n",
    "    model.compile(optimizer=optimizers.SGD(nesterov=True, momentum=momentum),\n",
    "                  loss='categorical_crossentropy', metrics=['accuracy'])\n",
    "\n",
    "    ########### Fit the previously defined model on the train set ##############\n",
    "    start = time.time()\n",
    "    history = model.fit(X_train, Y_train, nb_epoch=15, batch_size=32)\n",
    "    exec_time = time.time() - start\n",
    "    \n",
    "    return history"
   ]
  },
  {
   "cell_type": "code",
   "execution_count": 22,
   "metadata": {
    "collapsed": false
   },
   "outputs": [
    {
     "name": "stdout",
     "output_type": "stream",
     "text": [
      "Epoch 1/15\n",
      "1527/1527 [==============================] - 0s - loss: 5.9426 - acc: 0.0995     \n",
      "Epoch 2/15\n",
      "1527/1527 [==============================] - 0s - loss: 1.1921e-07 - acc: 0.0989     \n",
      "Epoch 3/15\n",
      "1527/1527 [==============================] - 0s - loss: 1.1921e-07 - acc: 0.0989     \n",
      "Epoch 4/15\n",
      "1527/1527 [==============================] - 0s - loss: 1.1921e-07 - acc: 0.0989     \n",
      "Epoch 5/15\n",
      "1527/1527 [==============================] - 0s - loss: 1.1921e-07 - acc: 0.0989     \n",
      "Epoch 6/15\n",
      "1527/1527 [==============================] - 0s - loss: 1.1921e-07 - acc: 0.0989     \n",
      "Epoch 7/15\n",
      "1527/1527 [==============================] - 0s - loss: 1.1921e-07 - acc: 0.0989     \n",
      "Epoch 8/15\n",
      "1527/1527 [==============================] - 0s - loss: 1.1921e-07 - acc: 0.0989     \n",
      "Epoch 9/15\n",
      "1527/1527 [==============================] - 0s - loss: 1.1921e-07 - acc: 0.0989     \n",
      "Epoch 10/15\n",
      "1527/1527 [==============================] - 0s - loss: 1.1921e-07 - acc: 0.0989     \n",
      "Epoch 11/15\n",
      "1527/1527 [==============================] - 0s - loss: 1.1921e-07 - acc: 0.0989     \n",
      "Epoch 12/15\n",
      "1527/1527 [==============================] - 0s - loss: 1.1921e-07 - acc: 0.0989     \n",
      "Epoch 13/15\n",
      "1527/1527 [==============================] - 0s - loss: 1.1921e-07 - acc: 0.0989     \n",
      "Epoch 14/15\n",
      "1527/1527 [==============================] - 0s - loss: 1.1921e-07 - acc: 0.0989     \n",
      "Epoch 15/15\n",
      "1527/1527 [==============================] - 0s - loss: 1.1921e-07 - acc: 0.0989     \n",
      "Epoch 1/15\n",
      "1527/1527 [==============================] - 0s - loss: 7.1227 - acc: 0.1938     \n",
      "Epoch 2/15\n",
      "1527/1527 [==============================] - 0s - loss: 1.1921e-07 - acc: 0.0989     \n",
      "Epoch 3/15\n",
      "1527/1527 [==============================] - 0s - loss: 1.1921e-07 - acc: 0.0989     \n",
      "Epoch 4/15\n",
      "1527/1527 [==============================] - 0s - loss: 1.1921e-07 - acc: 0.0989     \n",
      "Epoch 5/15\n",
      "1527/1527 [==============================] - 0s - loss: 1.1921e-07 - acc: 0.0989     \n",
      "Epoch 6/15\n",
      "1527/1527 [==============================] - 0s - loss: 1.1921e-07 - acc: 0.0989     \n",
      "Epoch 7/15\n",
      "1527/1527 [==============================] - 0s - loss: 1.1921e-07 - acc: 0.0989     \n",
      "Epoch 8/15\n",
      "1527/1527 [==============================] - 0s - loss: 1.1921e-07 - acc: 0.0989     \n",
      "Epoch 9/15\n",
      "1527/1527 [==============================] - 0s - loss: 1.1921e-07 - acc: 0.0989     \n",
      "Epoch 10/15\n",
      "1527/1527 [==============================] - 0s - loss: 1.1921e-07 - acc: 0.0989     \n",
      "Epoch 11/15\n",
      "1527/1527 [==============================] - 0s - loss: 1.1921e-07 - acc: 0.0989     \n",
      "Epoch 12/15\n",
      "1527/1527 [==============================] - 0s - loss: 1.1921e-07 - acc: 0.0989     \n",
      "Epoch 13/15\n",
      "1527/1527 [==============================] - 0s - loss: 1.1921e-07 - acc: 0.0989     \n",
      "Epoch 14/15\n",
      "1527/1527 [==============================] - 0s - loss: 1.1921e-07 - acc: 0.0989     \n",
      "Epoch 15/15\n",
      "1527/1527 [==============================] - 0s - loss: 1.1921e-07 - acc: 0.0989     \n",
      "Epoch 1/15\n",
      "1527/1527 [==============================] - 0s - loss: 0.9896 - acc: 0.6948     \n",
      "Epoch 2/15\n",
      "1527/1527 [==============================] - 0s - loss: 0.2983 - acc: 0.9299     \n",
      "Epoch 3/15\n",
      "1527/1527 [==============================] - 0s - loss: 0.2614 - acc: 0.9568     \n",
      "Epoch 4/15\n",
      "1527/1527 [==============================] - 0s - loss: 0.2135 - acc: 0.9731     \n",
      "Epoch 5/15\n",
      "1527/1527 [==============================] - 0s - loss: 0.2317 - acc: 0.9758     \n",
      "Epoch 6/15\n",
      "1527/1527 [==============================] - 0s - loss: 0.3218 - acc: 0.9745     \n",
      "Epoch 7/15\n",
      "1527/1527 [==============================] - 0s - loss: 0.5112 - acc: 0.9640     \n",
      "Epoch 8/15\n",
      "1527/1527 [==============================] - 0s - loss: 0.5871 - acc: 0.9614     \n",
      "Epoch 9/15\n",
      "1527/1527 [==============================] - 0s - loss: 0.8754 - acc: 0.9411     \n",
      "Epoch 10/15\n",
      "1527/1527 [==============================] - 0s - loss: 1.1915 - acc: 0.9253     \n",
      "Epoch 11/15\n",
      "1527/1527 [==============================] - 0s - loss: 1.4993 - acc: 0.9050     \n",
      "Epoch 12/15\n",
      "1527/1527 [==============================] - 0s - loss: 1.5437 - acc: 0.9005     \n",
      "Epoch 13/15\n",
      "1527/1527 [==============================] - 0s - loss: 1.7245 - acc: 0.8913     \n",
      "Epoch 14/15\n",
      "1527/1527 [==============================] - 0s - loss: 2.6574 - acc: 0.8343     \n",
      "Epoch 15/15\n",
      "1527/1527 [==============================] - 0s - loss: 3.2893 - acc: 0.7950     \n",
      "Epoch 1/15\n",
      "1527/1527 [==============================] - 1s - loss: 1.9218 - acc: 0.4041     \n",
      "Epoch 2/15\n",
      "1527/1527 [==============================] - 0s - loss: 1.1079 - acc: 0.7570     \n",
      "Epoch 3/15\n",
      "1527/1527 [==============================] - 0s - loss: 0.7461 - acc: 0.8579     \n",
      "Epoch 4/15\n",
      "1527/1527 [==============================] - 0s - loss: 0.5594 - acc: 0.8926     \n",
      "Epoch 5/15\n",
      "1527/1527 [==============================] - 0s - loss: 0.4467 - acc: 0.9181     \n",
      "Epoch 6/15\n",
      "1527/1527 [==============================] - 0s - loss: 0.3724 - acc: 0.9319     \n",
      "Epoch 7/15\n",
      "1527/1527 [==============================] - 0s - loss: 0.3199 - acc: 0.9411     \n",
      "Epoch 8/15\n",
      "1527/1527 [==============================] - 0s - loss: 0.2805 - acc: 0.9502     \n",
      "Epoch 9/15\n",
      "1527/1527 [==============================] - 0s - loss: 0.2500 - acc: 0.9561     \n",
      "Epoch 10/15\n",
      "1527/1527 [==============================] - 0s - loss: 0.2255 - acc: 0.9594     \n",
      "Epoch 11/15\n",
      "1527/1527 [==============================] - 0s - loss: 0.2057 - acc: 0.9620     \n",
      "Epoch 12/15\n",
      "1527/1527 [==============================] - 0s - loss: 0.1891 - acc: 0.9633     \n",
      "Epoch 13/15\n",
      "1527/1527 [==============================] - 0s - loss: 0.1754 - acc: 0.9679     \n",
      "Epoch 14/15\n",
      "1527/1527 [==============================] - 0s - loss: 0.1635 - acc: 0.9692     \n",
      "Epoch 15/15\n",
      "1527/1527 [==============================] - 0s - loss: 0.1532 - acc: 0.9699     \n",
      "Epoch 1/15\n",
      "1527/1527 [==============================] - 0s - loss: 2.2606 - acc: 0.1821     \n",
      "Epoch 2/15\n",
      "1527/1527 [==============================] - 0s - loss: 1.5757 - acc: 0.5763     \n",
      "Epoch 3/15\n",
      "1527/1527 [==============================] - 0s - loss: 1.1751 - acc: 0.7629     \n",
      "Epoch 4/15\n",
      "1527/1527 [==============================] - 0s - loss: 0.9226 - acc: 0.8173     \n",
      "Epoch 5/15\n",
      "1527/1527 [==============================] - 0s - loss: 0.7536 - acc: 0.8559     \n",
      "Epoch 6/15\n",
      "1527/1527 [==============================] - 0s - loss: 0.6346 - acc: 0.8828     \n",
      "Epoch 7/15\n",
      "1527/1527 [==============================] - 0s - loss: 0.5466 - acc: 0.9011     \n",
      "Epoch 8/15\n",
      "1527/1527 [==============================] - 0s - loss: 0.4786 - acc: 0.9142     \n",
      "Epoch 9/15\n",
      "1527/1527 [==============================] - 0s - loss: 0.4257 - acc: 0.9280     \n",
      "Epoch 10/15\n",
      "1527/1527 [==============================] - 0s - loss: 0.3835 - acc: 0.9339     \n",
      "Epoch 11/15\n",
      "1527/1527 [==============================] - 0s - loss: 0.3488 - acc: 0.9404     \n",
      "Epoch 12/15\n",
      "1527/1527 [==============================] - 0s - loss: 0.3201 - acc: 0.9483     \n",
      "Epoch 13/15\n",
      "1527/1527 [==============================] - 0s - loss: 0.2958 - acc: 0.9509     \n",
      "Epoch 14/15\n",
      "1527/1527 [==============================] - 0s - loss: 0.2751 - acc: 0.9528     \n",
      "Epoch 15/15\n",
      "1527/1527 [==============================] - 0s - loss: 0.2571 - acc: 0.9568     \n",
      "Epoch 1/15\n",
      "1527/1527 [==============================] - 0s - loss: 2.2499 - acc: 0.2194     \n",
      "Epoch 2/15\n",
      "1527/1527 [==============================] - 0s - loss: 1.5977 - acc: 0.5350     \n",
      "Epoch 3/15\n",
      "1527/1527 [==============================] - 0s - loss: 1.2097 - acc: 0.7177     \n",
      "Epoch 4/15\n",
      "1527/1527 [==============================] - 0s - loss: 0.9584 - acc: 0.7996     \n",
      "Epoch 5/15\n",
      "1527/1527 [==============================] - 0s - loss: 0.7857 - acc: 0.8468     \n",
      "Epoch 6/15\n",
      "1527/1527 [==============================] - 0s - loss: 0.6623 - acc: 0.8697     \n",
      "Epoch 7/15\n",
      "1527/1527 [==============================] - 0s - loss: 0.5703 - acc: 0.8946     \n",
      "Epoch 8/15\n",
      "1527/1527 [==============================] - 0s - loss: 0.5000 - acc: 0.9109     \n",
      "Epoch 9/15\n",
      "1527/1527 [==============================] - 0s - loss: 0.4451 - acc: 0.9214     \n",
      "Epoch 10/15\n",
      "1527/1527 [==============================] - 0s - loss: 0.4010 - acc: 0.9306     \n",
      "Epoch 11/15\n",
      "1527/1527 [==============================] - 0s - loss: 0.3652 - acc: 0.9365     \n",
      "Epoch 12/15\n",
      "1527/1527 [==============================] - 0s - loss: 0.3352 - acc: 0.9424     \n",
      "Epoch 13/15\n",
      "1527/1527 [==============================] - 0s - loss: 0.3102 - acc: 0.9463     \n",
      "Epoch 14/15\n",
      "1527/1527 [==============================] - 0s - loss: 0.2888 - acc: 0.9483     \n",
      "Epoch 15/15\n",
      "1527/1527 [==============================] - 0s - loss: 0.2703 - acc: 0.9515     \n"
     ]
    }
   ],
   "source": [
    "momentums = [10, 5, 1, 0.5, 0.1, 0.05]\n",
    "histories = {}\n",
    "for momentum in momentums:\n",
    "    histories[momentum] = train_nesterov(momentum)"
   ]
  },
  {
   "cell_type": "code",
   "execution_count": 23,
   "metadata": {
    "collapsed": false
   },
   "outputs": [
    {
     "data": {
      "image/png": "[encoded data removed]",
      "text/plain": [
       "<matplotlib.figure.Figure at 0x2501a881cf8>"
      ]
     },
     "metadata": {},
     "output_type": "display_data"
    }
   ],
   "source": [
    "t = np.arange(0, 15)\n",
    "\n",
    "for momentum in momentums:\n",
    "    plt.plot(t, histories[momentum].history['loss'], label=momentum)\n",
    "\n",
    "plt.legend()\n",
    "plt.title('Loss during training')\n",
    "plt.xlabel('Epoch')\n",
    "plt.ylabel('Loss')\n",
    "plt.show()"
   ]
  },
  {
   "cell_type": "markdown",
   "metadata": {},
   "source": [
    "#### Forward pass and generalization\n",
    "- Compute predictions on test set using `model.predict_classes(...)`\n",
    "- Compute average accuracy of the model on the test set"
   ]
  },
  {
   "cell_type": "code",
   "execution_count": 24,
   "metadata": {
    "collapsed": false
   },
   "outputs": [
    {
     "name": "stdout",
     "output_type": "stream",
     "text": [
      "Epoch 1/15\n",
      "1527/1527 [==============================] - 0s - loss: 0.3822 - acc: 0.8861     \n",
      "Epoch 2/15\n",
      "1527/1527 [==============================] - 0s - loss: 0.0735 - acc: 0.9771     \n",
      "Epoch 3/15\n",
      "1527/1527 [==============================] - 0s - loss: 0.0391 - acc: 0.9882     \n",
      "Epoch 4/15\n",
      "1527/1527 [==============================] - 0s - loss: 0.0222 - acc: 0.9967     \n",
      "Epoch 5/15\n",
      "1527/1527 [==============================] - 0s - loss: 0.0115 - acc: 0.9987     \n",
      "Epoch 6/15\n",
      "1527/1527 [==============================] - 0s - loss: 0.0079 - acc: 1.0000     \n",
      "Epoch 7/15\n",
      "1527/1527 [==============================] - 0s - loss: 0.0062 - acc: 1.0000     \n",
      "Epoch 8/15\n",
      "1527/1527 [==============================] - 0s - loss: 0.0051 - acc: 1.0000     \n",
      "Epoch 9/15\n",
      "1527/1527 [==============================] - 0s - loss: 0.0043 - acc: 1.0000     \n",
      "Epoch 10/15\n",
      "1527/1527 [==============================] - 0s - loss: 0.0038 - acc: 1.0000     \n",
      "Epoch 11/15\n",
      "1527/1527 [==============================] - 0s - loss: 0.0034 - acc: 1.0000     \n",
      "Epoch 12/15\n",
      "1527/1527 [==============================] - 0s - loss: 0.0031 - acc: 1.0000     \n",
      "Epoch 13/15\n",
      "1527/1527 [==============================] - 0s - loss: 0.0028 - acc: 1.0000     \n",
      "Epoch 14/15\n",
      "1527/1527 [==============================] - 0s - loss: 0.0026 - acc: 1.0000     \n",
      "Epoch 15/15\n",
      "1527/1527 [==============================] - 0s - loss: 0.0024 - acc: 1.0000     \n"
     ]
    },
    {
     "data": {
      "image/png": "[encoded data removed]",
      "text/plain": [
       "<matplotlib.figure.Figure at 0x2501a933b70>"
      ]
     },
     "metadata": {},
     "output_type": "display_data"
    }
   ],
   "source": [
    "## Change learning rate\n",
    "model = Sequential()\n",
    "model.add(Dense(H, input_dim=N))\n",
    "model.add(Activation(\"tanh\"))\n",
    "model.add(Dense(K))\n",
    "model.add(Activation(\"softmax\"))\n",
    "\n",
    "model.compile(optimizer=optimizers.SGD(lr=0.1, momentum=0.9, nesterov=True),\n",
    "              loss='categorical_crossentropy', metrics=['accuracy'])\n",
    "\n",
    "history = model.fit(X_train, Y_train, nb_epoch=15, batch_size=32)\n",
    "\n",
    "plt.plot(history.history['acc'])\n",
    "plt.show()"
   ]
  },
  {
   "cell_type": "code",
   "execution_count": 25,
   "metadata": {
    "collapsed": false
   },
   "outputs": [
    {
     "name": "stdout",
     "output_type": "stream",
     "text": [
      "160/270 [================>.............] - ETA: 0s\n",
      "The average accuracy of the model on test set is 0.9777777777777777\n"
     ]
    }
   ],
   "source": [
    "predicted = model.predict_classes(X_test)\n",
    "result = sum(predicted == y_test)/len(y_test)\n",
    "print('\\nThe average accuracy of the model on test set is {}'.format(result))"
   ]
  },
  {
   "cell_type": "code",
   "execution_count": 26,
   "metadata": {
    "collapsed": false
   },
   "outputs": [
    {
     "name": "stdout",
     "output_type": "stream",
     "text": [
      "test acc: 0.9778\n"
     ]
    },
    {
     "data": {
      "image/png": "[encoded data removed]",
      "text/plain": [
       "<matplotlib.figure.Figure at 0x2501ac785f8>"
      ]
     },
     "metadata": {},
     "output_type": "display_data"
    }
   ],
   "source": [
    "y_predicted = model.predict_classes(X_test, verbose=0)\n",
    "\n",
    "# Let's display the first inputs image, the predicted labels and the true labels\n",
    "plt.figure(figsize=(12, 9))\n",
    "for i in range(15):\n",
    "    plt.subplot(3, 5, i + 1)\n",
    "    plt.imshow(scaler.inverse_transform(X_test[i]).reshape(8, 8),\n",
    "               cmap=plt.cm.gray_r, interpolation='nearest')\n",
    "    plt.title(\"predicted label: %d\\n true label: %d\"\n",
    "              % (y_predicted[i], y_test[i]))\n",
    "    \n",
    "print(\"test acc: %0.4f\" % np.mean(y_predicted == y_test))"
   ]
  },
  {
   "cell_type": "markdown",
   "metadata": {},
   "source": [
    "- Compute the conditional probabilities of sample number 42 of the test set with `model.predict_proba(...)`\n",
    "- Derive the loss (negative log likelihood of that sample) using numpy operations\n",
    "- Compute the average negative log likelihood of the test set.\n",
    "- Compare this value to the training loss reported by keras: is the model overfitting or underfitting?\n",
    "\n",
    "Note: you might need to retrain the model with a larger number of epochs (e.g. 50) to ensure that it has fully converged.+"
   ]
  },
  {
   "cell_type": "code",
   "execution_count": 27,
   "metadata": {
    "collapsed": false
   },
   "outputs": [
    {
     "name": "stdout",
     "output_type": "stream",
     "text": [
      "1/1 [==============================] - 0s\n"
     ]
    },
    {
     "data": {
      "text/plain": [
       "2.8133788873674348e-05"
      ]
     },
     "execution_count": 27,
     "metadata": {},
     "output_type": "execute_result"
    }
   ],
   "source": [
    "X_example = model.predict_proba(np.reshape(X_test[42], (-1, 64)))\n",
    "y_example = to_categorical(y_test)[42]\n",
    "loss = -np.sum(np.log(X_example) * y_example)\n",
    "\n",
    "loss"
   ]
  },
  {
   "cell_type": "code",
   "execution_count": 28,
   "metadata": {
    "collapsed": false
   },
   "outputs": [
    {
     "name": "stdout",
     "output_type": "stream",
     "text": [
      "1/1 [==============================] - 0s\n",
      "1/1 [==============================] - 0s\n",
      "1/1 [==============================] - 0s\n",
      "1/1 [==============================] - 0s\n",
      "1/1 [==============================] - 0s\n",
      "1/1 [==============================] - 0s\n",
      "1/1 [==============================] - 0s\n",
      "1/1 [==============================] - 0s\n",
      "1/1 [==============================] - 0s\n",
      "1/1 [==============================] - 0s\n",
      "1/1 [==============================] - 0s\n",
      "1/1 [==============================] - 0s\n",
      "1/1 [==============================] - 0s\n",
      "1/1 [==============================] - 0s\n",
      "1/1 [==============================] - 0s\n",
      "1/1 [==============================] - 0s\n",
      "1/1 [==============================] - 0s\n",
      "1/1 [==============================] - 0s\n",
      "1/1 [==============================] - 0s\n",
      "1/1 [==============================] - 0s\n",
      "1/1 [==============================] - 0s\n",
      "1/1 [==============================] - 0s\n",
      "1/1 [==============================] - 0s\n",
      "1/1 [==============================] - 0s\n",
      "1/1 [==============================] - 0s\n",
      "1/1 [==============================] - 0s\n",
      "1/1 [==============================] - 0s\n",
      "1/1 [==============================] - 0s\n",
      "1/1 [==============================] - 0s\n",
      "1/1 [==============================] - 0s\n",
      "1/1 [==============================] - 0s\n",
      "1/1 [==============================] - 0s\n",
      "1/1 [==============================] - 0s\n",
      "1/1 [==============================] - 0s\n",
      "1/1 [==============================] - 0s\n",
      "1/1 [==============================] - 0s\n",
      "1/1 [==============================] - 0s\n",
      "1/1 [==============================] - 0s\n",
      "1/1 [==============================] - 0s\n",
      "1/1 [==============================] - 0s\n",
      "1/1 [==============================] - 0s\n",
      "1/1 [==============================] - 0s\n",
      "1/1 [==============================] - 0s\n",
      "1/1 [==============================] - 0s\n",
      "1/1 [==============================] - 0s\n",
      "1/1 [==============================] - 0s\n",
      "1/1 [==============================] - 0s\n",
      "1/1 [==============================] - 0s\n",
      "1/1 [==============================] - 0s\n",
      "1/1 [==============================] - 0s\n",
      "1/1 [==============================] - 0s\n",
      "1/1 [==============================] - 0s\n",
      "1/1 [==============================] - 0s\n",
      "1/1 [==============================] - 0s\n",
      "1/1 [==============================] - 0s\n",
      "1/1 [==============================] - 0s\n",
      "1/1 [==============================] - 0s\n",
      "1/1 [==============================] - 0s\n",
      "1/1 [==============================] - 0s\n",
      "1/1 [==============================] - 0s\n",
      "1/1 [==============================] - 0s\n",
      "1/1 [==============================] - 0s\n",
      "1/1 [==============================] - 0s\n",
      "1/1 [==============================] - 0s\n",
      "1/1 [==============================] - 0s\n",
      "1/1 [==============================] - 0s\n",
      "1/1 [==============================] - 0s\n",
      "1/1 [==============================] - 0s\n",
      "1/1 [==============================] - 0s\n",
      "1/1 [==============================] - 0s\n",
      "1/1 [==============================] - 0s\n",
      "1/1 [==============================] - 0s\n",
      "1/1 [==============================] - 0s\n",
      "1/1 [==============================] - 0s\n",
      "1/1 [==============================] - 0s\n",
      "1/1 [==============================] - 0s\n",
      "1/1 [==============================] - 0s\n",
      "1/1 [==============================] - 0s\n",
      "1/1 [==============================] - 0s\n",
      "1/1 [==============================] - 0s\n",
      "1/1 [==============================] - 0s\n",
      "1/1 [==============================] - 0s\n",
      "1/1 [==============================] - 0s\n",
      "1/1 [==============================] - 0s\n",
      "1/1 [==============================] - 0s\n",
      "1/1 [==============================] - 0s\n",
      "1/1 [==============================] - 0s\n",
      "1/1 [==============================] - 0s\n",
      "1/1 [==============================] - 0s\n",
      "1/1 [==============================] - 0s\n",
      "1/1 [==============================] - 0s\n",
      "1/1 [==============================] - 0s\n",
      "1/1 [==============================] - 0s\n",
      "1/1 [==============================] - 0s\n",
      "1/1 [==============================] - 0s\n",
      "1/1 [==============================] - 0s\n",
      "1/1 [==============================] - 0s\n",
      "1/1 [==============================] - 0s\n",
      "1/1 [==============================] - 0s\n",
      "1/1 [==============================] - 0s\n",
      "1/1 [==============================] - 0s\n",
      "1/1 [==============================] - 0s\n",
      "1/1 [==============================] - 0s\n",
      "1/1 [==============================] - 0s\n",
      "1/1 [==============================] - 0s\n",
      "1/1 [==============================] - 0s\n",
      "1/1 [==============================] - 0s\n",
      "1/1 [==============================] - 0s\n",
      "1/1 [==============================] - 0s\n",
      "1/1 [==============================] - 0s\n",
      "1/1 [==============================] - 0s\n",
      "1/1 [==============================] - 0s\n",
      "1/1 [==============================] - 0s\n",
      "1/1 [==============================] - 0s\n",
      "1/1 [==============================] - 0s\n",
      "1/1 [==============================] - 0s\n",
      "1/1 [==============================] - 0s\n",
      "1/1 [==============================] - 0s\n",
      "1/1 [==============================] - 0s\n",
      "1/1 [==============================] - 0s\n",
      "1/1 [==============================] - 0s\n",
      "1/1 [==============================] - 0s\n",
      "1/1 [==============================] - 0s\n",
      "1/1 [==============================] - 0s\n",
      "1/1 [==============================] - 0s\n",
      "1/1 [==============================] - 0s\n",
      "1/1 [==============================] - 0s\n",
      "1/1 [==============================] - 0s\n",
      "1/1 [==============================] - 0s\n",
      "1/1 [==============================] - 0s\n",
      "1/1 [==============================] - 0s\n",
      "1/1 [==============================] - 0s\n",
      "1/1 [==============================] - 0s\n",
      "1/1 [==============================] - 0s\n",
      "1/1 [==============================] - 0s\n",
      "1/1 [==============================] - 0s\n",
      "1/1 [==============================] - 0s\n",
      "1/1 [==============================] - 0s\n",
      "1/1 [==============================] - 0s\n",
      "1/1 [==============================] - 0s\n",
      "1/1 [==============================] - 0s\n",
      "1/1 [==============================] - 0s\n",
      "1/1 [==============================] - 0s\n",
      "1/1 [==============================] - 0s\n",
      "1/1 [==============================] - 0s\n",
      "1/1 [==============================] - 0s\n",
      "1/1 [==============================] - 0s\n",
      "1/1 [==============================] - 0s\n",
      "1/1 [==============================] - 0s\n",
      "1/1 [==============================] - 0s\n",
      "1/1 [==============================] - 0s\n",
      "1/1 [==============================] - 0s\n",
      "1/1 [==============================] - 0s\n",
      "1/1 [==============================] - 0s\n",
      "1/1 [==============================] - 0s\n",
      "1/1 [==============================] - 0s\n",
      "1/1 [==============================] - 0s\n",
      "1/1 [==============================] - 0s\n",
      "1/1 [==============================] - 0s\n",
      "1/1 [==============================] - 0s\n",
      "1/1 [==============================] - 0s\n",
      "1/1 [==============================] - 0s\n",
      "1/1 [==============================] - 0s\n",
      "1/1 [==============================] - 0s\n",
      "1/1 [==============================] - 0s\n",
      "1/1 [==============================] - 0s\n",
      "1/1 [==============================] - 0s\n",
      "1/1 [==============================] - 0s\n",
      "1/1 [==============================] - 0s\n",
      "1/1 [==============================] - 0s\n",
      "1/1 [==============================] - 0s\n",
      "1/1 [==============================] - 0s\n",
      "1/1 [==============================] - 0s\n",
      "1/1 [==============================] - 0s\n",
      "1/1 [==============================] - 0s\n",
      "1/1 [==============================] - 0s\n",
      "1/1 [==============================] - 0s\n",
      "1/1 [==============================] - 0s\n",
      "1/1 [==============================] - 0s\n",
      "1/1 [==============================] - 0s\n",
      "1/1 [==============================] - 0s\n",
      "1/1 [==============================] - 0s\n",
      "1/1 [==============================] - 0s\n",
      "1/1 [==============================] - 0s\n",
      "1/1 [==============================] - 0s\n",
      "1/1 [==============================] - 0s\n",
      "1/1 [==============================] - 0s\n",
      "1/1 [==============================] - 0s\n",
      "1/1 [==============================] - 0s\n",
      "1/1 [==============================] - 0s\n",
      "1/1 [==============================] - 0s\n",
      "1/1 [==============================] - 0s\n",
      "1/1 [==============================] - 0s\n",
      "1/1 [==============================] - 0s\n",
      "1/1 [==============================] - 0s\n",
      "1/1 [==============================] - 0s\n",
      "1/1 [==============================] - 0s\n",
      "1/1 [==============================] - 0s\n",
      "1/1 [==============================] - 0s\n",
      "1/1 [==============================] - 0s\n",
      "1/1 [==============================] - 0s\n",
      "1/1 [==============================] - 0s\n",
      "1/1 [==============================] - 0s\n",
      "1/1 [==============================] - 0s\n",
      "1/1 [==============================] - 0s\n",
      "1/1 [==============================] - 0s\n",
      "1/1 [==============================] - 0s\n",
      "1/1 [==============================] - 0s\n",
      "1/1 [==============================] - 0s\n",
      "1/1 [==============================] - 0s\n",
      "1/1 [==============================] - 0s\n",
      "1/1 [==============================] - 0s\n",
      "1/1 [==============================] - 0s\n",
      "1/1 [==============================] - 0s\n",
      "1/1 [==============================] - 0s\n",
      "1/1 [==============================] - 0s\n",
      "1/1 [==============================] - 0s\n",
      "1/1 [==============================] - 0s\n",
      "1/1 [==============================] - 0s\n",
      "1/1 [==============================] - 0s\n",
      "1/1 [==============================] - 0s\n",
      "1/1 [==============================] - 0s\n",
      "1/1 [==============================] - 0s\n",
      "1/1 [==============================] - 0s\n",
      "1/1 [==============================] - 0s\n",
      "1/1 [==============================] - 0s\n",
      "1/1 [==============================] - 0s\n",
      "1/1 [==============================] - 0s\n",
      "1/1 [==============================] - 0s\n",
      "1/1 [==============================] - 0s\n",
      "1/1 [==============================] - 0s\n",
      "1/1 [==============================] - 0s\n",
      "1/1 [==============================] - 0s\n",
      "1/1 [==============================] - 0s\n",
      "1/1 [==============================] - 0s\n",
      "1/1 [==============================] - 0s\n",
      "1/1 [==============================] - 0s\n",
      "1/1 [==============================] - 0s\n",
      "1/1 [==============================] - 0s\n",
      "1/1 [==============================] - 0s\n",
      "1/1 [==============================] - 0s\n",
      "1/1 [==============================] - 0s\n",
      "1/1 [==============================] - 0s\n",
      "1/1 [==============================] - 0s\n",
      "1/1 [==============================] - 0s\n",
      "1/1 [==============================] - 0s\n",
      "1/1 [==============================] - 0s\n",
      "1/1 [==============================] - 0s\n",
      "1/1 [==============================] - 0s\n",
      "1/1 [==============================] - 0s\n",
      "1/1 [==============================] - 0s\n",
      "1/1 [==============================] - 0s\n",
      "1/1 [==============================] - 0s\n",
      "1/1 [==============================] - 0s\n",
      "1/1 [==============================] - 0s\n",
      "1/1 [==============================] - 0s\n",
      "1/1 [==============================] - 0s\n",
      "1/1 [==============================] - 0s\n",
      "1/1 [==============================] - 0s\n",
      "1/1 [==============================] - 0s\n",
      "1/1 [==============================] - 0s\n",
      "1/1 [==============================] - 0s\n",
      "1/1 [==============================] - 0s\n",
      "1/1 [==============================] - 0s\n",
      "1/1 [==============================] - 0s\n",
      "1/1 [==============================] - 0s\n",
      "1/1 [==============================] - 0s\n",
      "1/1 [==============================] - 0s\n",
      "1/1 [==============================] - 0s\n",
      "1/1 [==============================] - 0s\n",
      "The average negative log-likelihood on test set is 0.07483989476493859\n"
     ]
    }
   ],
   "source": [
    "loss = 0\n",
    "for i in range(len(y_test)):\n",
    "    X_example = model.predict_proba(np.reshape(X_test[i], (-1, 64)))\n",
    "    y_example = to_categorical(y_test)[i]\n",
    "    loss += -np.sum(np.log(X_example) * y_example)\n",
    "result = loss / len(y_test)\n",
    "print('The average negative log-likelihood on test set is {}'.format(result))"
   ]
  },
  {
   "cell_type": "code",
   "execution_count": 29,
   "metadata": {
    "collapsed": false
   },
   "outputs": [
    {
     "name": "stdout",
     "output_type": "stream",
     "text": [
      "Predicted probability distribution for sample #42:\n",
      "0: 0.00000\n",
      "1: 0.00000\n",
      "2: 0.00000\n",
      "3: 0.00000\n",
      "4: 0.00000\n",
      "5: 0.00000\n",
      "6: 0.00000\n",
      "7: 0.00000\n",
      "8: 0.99997\n",
      "9: 0.00002\n",
      "\n",
      "Likelihood of true class for sample #42:\n",
      "0.999972\n",
      "\n",
      "Average negative loglikelihood of the test set:\n",
      "0.0748399073637\n"
     ]
    },
    {
     "data": {
      "image/png": "[encoded data removed]",
      "text/plain": [
       "<matplotlib.figure.Figure at 0x2501b6938d0>"
      ]
     },
     "metadata": {},
     "output_type": "display_data"
    }
   ],
   "source": [
    "# ############## In a more compact way (vectorial) #############\n",
    "sample_idx = 42\n",
    "plt.imshow(scaler.inverse_transform(X_test[sample_idx]).reshape(8, 8),\n",
    "           cmap=plt.cm.gray_r, interpolation='nearest')\n",
    "plt.title(\"true label: %d\" % y_test[sample_idx])\n",
    "\n",
    "# Compute all probabilities for all samples in the test set at\n",
    "# once:\n",
    "probabilities = model.predict_proba(X_test, verbose=0)\n",
    "\n",
    "print(\"Predicted probability distribution for sample #42:\")\n",
    "for class_idx, prob in enumerate(probabilities[sample_idx]):\n",
    "    print(\"%d: %0.5f\" % (class_idx, prob))\n",
    "print()\n",
    "    \n",
    "print(\"Likelihood of true class for sample #42:\")\n",
    "print(probabilities[sample_idx, y_test[sample_idx]])\n",
    "print()\n",
    "\n",
    "print(\"Average negative loglikelihood of the test set:\")\n",
    "Y_test = to_categorical(y_test)\n",
    "loglikelihoods = np.sum(np.log(probabilities) * Y_test, axis=1)\n",
    "print(-np.mean(loglikelihoods))\n",
    "\n",
    "# Analysis\n",
    "#\n",
    "# Depending on the random init, the 2 hidden layers net trained with\n",
    "# adam seem to converge to a training loss very close to zero when\n",
    "# given enough epochs (the accuracy on the training set is 100%).\n",
    "# This model is therefore not underfitting: it has enough capacity\n",
    "# to perfectly memorise the full training set.\n",
    "#\n",
    "# On the test set the negative log likelihood is also close to zero\n",
    "# but never as much as on the training set (~= 0.07) even after\n",
    "# increasing the maximum number of epochs. The model is therefore\n",
    "# overfitting as little."
   ]
  },
  {
   "cell_type": "markdown",
   "metadata": {},
   "source": [
    "#### Influence of initialization\n",
    "Let us now study the impact of a bad initialization when training\n",
    "a deep feed forward network.\n",
    "\n",
    "By default Keras dense layers use the \"Glorot Uniform\" initialization\n",
    "strategy to initialize the weight matrices:\n",
    "\n",
    "- each weight coefficient is randomly sampled from [-scale, scale]\n",
    "- scale is proportional to $\\frac{1}{\\sqrt{n_{in} + n_{out}}}$\n",
    "\n",
    "This strategy is known to work well to initialize deep neural networks\n",
    "with \"tanh\" or \"relu\" activation functions and then trained with\n",
    "standard SGD.\n",
    "\n",
    "To assess the impact of initialization let us plug an alternative init\n",
    "scheme into a 2 hidden layers networks with \"tanh\" activations.\n",
    "For the sake of the example let's use normal distributed weights\n",
    "with a manually adjustable scale (standard deviation) and see the\n",
    "impact the scale value:"
   ]
  },
  {
   "cell_type": "code",
   "execution_count": 30,
   "metadata": {
    "collapsed": false
   },
   "outputs": [
    {
     "name": "stdout",
     "output_type": "stream",
     "text": [
      "Epoch 1/10\n",
      "1527/1527 [==============================] - 0s - loss: 1.8934     \n",
      "Epoch 2/10\n",
      "1527/1527 [==============================] - 0s - loss: 1.1307     \n",
      "Epoch 3/10\n",
      "1527/1527 [==============================] - 0s - loss: 0.6822     \n",
      "Epoch 4/10\n",
      "1527/1527 [==============================] - 0s - loss: 0.4626     \n",
      "Epoch 5/10\n",
      "1527/1527 [==============================] - 0s - loss: 0.3435     \n",
      "Epoch 6/10\n",
      "1527/1527 [==============================] - 0s - loss: 0.2729     \n",
      "Epoch 7/10\n",
      "1527/1527 [==============================] - 0s - loss: 0.2229     \n",
      "Epoch 8/10\n",
      "1527/1527 [==============================] - 0s - loss: 0.1897     \n",
      "Epoch 9/10\n",
      "1527/1527 [==============================] - 0s - loss: 0.1624     \n",
      "Epoch 10/10\n",
      "1527/1527 [==============================] - 0s - loss: 0.1444     \n"
     ]
    },
    {
     "data": {
      "image/png": "[encoded data removed]",
      "text/plain": [
       "<matplotlib.figure.Figure at 0x2501b40dfd0>"
      ]
     },
     "metadata": {},
     "output_type": "display_data"
    }
   ],
   "source": [
    "from keras import initializations\n",
    "\n",
    "def normal_init(shape, scale=1e-1, name=None):\n",
    "    return initializations.normal(shape, scale=scale, name=name)\n",
    "\n",
    "\n",
    "model = Sequential()\n",
    "model.add(Dense(H, input_dim=N, init=normal_init))\n",
    "model.add(Activation(\"tanh\"))\n",
    "model.add(Dense(K, init=normal_init))\n",
    "model.add(Activation(\"tanh\"))\n",
    "model.add(Dense(K, init=normal_init))\n",
    "model.add(Activation(\"softmax\"))\n",
    "\n",
    "model.compile(optimizer=optimizers.SGD(lr=0.1),\n",
    "              loss='categorical_crossentropy')\n",
    "\n",
    "history = model.fit(X_train, Y_train,\n",
    "                    nb_epoch=10, batch_size=32)\n",
    "\n",
    "plt.plot(history.history['loss'])\n",
    "plt.show()"
   ]
  },
  {
   "cell_type": "code",
   "execution_count": 1,
   "metadata": {
    "collapsed": false
   },
   "outputs": [
    {
     "ename": "NameError",
     "evalue": "name 'Sequential' is not defined",
     "output_type": "error",
     "traceback": [
      "\u001b[0;31m---------------------------------------------------------------------------\u001b[0m",
      "\u001b[0;31mNameError\u001b[0m                                 Traceback (most recent call last)",
      "\u001b[0;32m<ipython-input-1-4ce3eb9337c9>\u001b[0m in \u001b[0;36m<module>\u001b[0;34m()\u001b[0m\n\u001b[1;32m      6\u001b[0m         \u001b[1;32mreturn\u001b[0m \u001b[0minitializations\u001b[0m\u001b[1;33m.\u001b[0m\u001b[0mnormal\u001b[0m\u001b[1;33m(\u001b[0m\u001b[0mshape\u001b[0m\u001b[1;33m,\u001b[0m \u001b[0mscale\u001b[0m\u001b[1;33m=\u001b[0m\u001b[0mscale\u001b[0m\u001b[1;33m,\u001b[0m \u001b[0mname\u001b[0m\u001b[1;33m=\u001b[0m\u001b[0mname\u001b[0m\u001b[1;33m)\u001b[0m\u001b[1;33m\u001b[0m\u001b[0m\n\u001b[1;32m      7\u001b[0m \u001b[1;33m\u001b[0m\u001b[0m\n\u001b[0;32m----> 8\u001b[0;31m     \u001b[0mmodel\u001b[0m \u001b[1;33m=\u001b[0m \u001b[0mSequential\u001b[0m\u001b[1;33m(\u001b[0m\u001b[1;33m)\u001b[0m\u001b[1;33m\u001b[0m\u001b[0m\n\u001b[0m\u001b[1;32m      9\u001b[0m     \u001b[0mmodel\u001b[0m\u001b[1;33m.\u001b[0m\u001b[0madd\u001b[0m\u001b[1;33m(\u001b[0m\u001b[0mDense\u001b[0m\u001b[1;33m(\u001b[0m\u001b[0mH\u001b[0m\u001b[1;33m,\u001b[0m \u001b[0minput_dim\u001b[0m\u001b[1;33m=\u001b[0m\u001b[0mN\u001b[0m\u001b[1;33m,\u001b[0m \u001b[0minit\u001b[0m\u001b[1;33m=\u001b[0m\u001b[0mnormal_init\u001b[0m\u001b[1;33m)\u001b[0m\u001b[1;33m)\u001b[0m\u001b[1;33m\u001b[0m\u001b[0m\n\u001b[1;32m     10\u001b[0m     \u001b[0mmodel\u001b[0m\u001b[1;33m.\u001b[0m\u001b[0madd\u001b[0m\u001b[1;33m(\u001b[0m\u001b[0mActivation\u001b[0m\u001b[1;33m(\u001b[0m\u001b[1;34m\"tanh\"\u001b[0m\u001b[1;33m)\u001b[0m\u001b[1;33m)\u001b[0m\u001b[1;33m\u001b[0m\u001b[0m\n",
      "\u001b[0;31mNameError\u001b[0m: name 'Sequential' is not defined"
     ]
    }
   ],
   "source": [
    "histories = {}\n",
    "scales = [0.001, 1, 10, 0]\n",
    "\n",
    "for scale in scales:\n",
    "    def normal_init(shape, name=None):\n",
    "        return initializations.normal(shape, scale=scale, name=name)\n",
    "    \n",
    "    model = Sequential()\n",
    "    model.add(Dense(H, input_dim=N, init=normal_init))\n",
    "    model.add(Activation(\"tanh\"))\n",
    "    model.add(Dense(K, init=normal_init))\n",
    "    model.add(Activation(\"tanh\"))\n",
    "    model.add(Dense(K, init=normal_init))\n",
    "    model.add(Activation(\"softmax\"))\n",
    "\n",
    "    model.compile(optimizer=optimizers.SGD(lr=0.1),\n",
    "                  loss='categorical_crossentropy')\n",
    "\n",
    "    history = model.fit(X_train, Y_train,\n",
    "                        nb_epoch=15, batch_size=32)    \n",
    "    histories[scale] = history\n",
    "    "
   ]
  },
  {
   "cell_type": "code",
   "execution_count": 33,
   "metadata": {
    "collapsed": false
   },
   "outputs": [
    {
     "data": {
      "image/png": "[encoded data removed]",
      "text/plain": [
       "<matplotlib.figure.Figure at 0x2501c9c2ba8>"
      ]
     },
     "metadata": {},
     "output_type": "display_data"
    }
   ],
   "source": [
    "t = np.arange(0, 15)\n",
    "\n",
    "for scale in scales:\n",
    "    plt.plot(t, histories[scale].history['loss'], label=scale)\n",
    "\n",
    "plt.legend()\n",
    "plt.title('Loss during training')\n",
    "plt.xlabel('Epoch')\n",
    "plt.ylabel('Loss')\n",
    "plt.show()"
   ]
  },
  {
   "cell_type": "markdown",
   "metadata": {},
   "source": [
    "With the correction: "
   ]
  },
  {
   "cell_type": "code",
   "execution_count": 34,
   "metadata": {
    "collapsed": false
   },
   "outputs": [
    {
     "data": {
      "image/png": "[encoded data removed]",
      "text/plain": [
       "<matplotlib.figure.Figure at 0x2501a89be10>"
      ]
     },
     "metadata": {},
     "output_type": "display_data"
    },
    {
     "data": {
      "image/png": "[encoded data removed]",
      "text/plain": [
       "<matplotlib.figure.Figure at 0x2501f490278>"
      ]
     },
     "metadata": {},
     "output_type": "display_data"
    }
   ],
   "source": [
    "# %load solutions/keras_initializations.py\n",
    "def large_scale_init(shape, name=None):\n",
    "    return initializations.normal(shape, scale=1, name=name)\n",
    "\n",
    "\n",
    "def small_scale_init(shape, name=None):\n",
    "    return initializations.normal(shape, scale=1e-3, name=name)\n",
    "\n",
    "\n",
    "optimizer_list = [\n",
    "    ('SGD', optimizers.SGD(lr=0.1)),\n",
    "    ('Adam', optimizers.Adam()),\n",
    "#     ('SGD + Nesterov momentum', optimizers.SGD(\n",
    "#             lr=0.1, momentum=0.9,nesterov=True)),\n",
    "]\n",
    "\n",
    "init_list = [\n",
    "    ('glorot uniform init', 'glorot_uniform', '-'),\n",
    "    ('small init scale', small_scale_init, '-'),\n",
    "    ('large init scale', large_scale_init, '-'),\n",
    "    ('zero init', 'zero', '--'),\n",
    "]\n",
    "\n",
    "\n",
    "for optimizer_name, optimizer in optimizer_list:\n",
    "    plt.figure(figsize=(12, 6))\n",
    "    for init_name, init, linestyle in init_list:\n",
    "        model = Sequential()\n",
    "        model.add(Dense(H, input_dim=N, init=init))\n",
    "        model.add(Activation(\"tanh\"))\n",
    "        model.add(Dense(K, init=init))\n",
    "        model.add(Activation(\"tanh\"))\n",
    "        model.add(Dense(K, init=init))\n",
    "        model.add(Activation(\"softmax\"))\n",
    "        \n",
    "        model.compile(optimizer=optimizer,\n",
    "                      loss='categorical_crossentropy')\n",
    "\n",
    "        history = model.fit(X_train, Y_train,\n",
    "                            nb_epoch=10, batch_size=32, verbose=0)\n",
    "        plt.plot(history.history['loss'], linestyle=linestyle,\n",
    "                 label=init_name)\n",
    "\n",
    "    plt.xlabel('# epochs')\n",
    "    plt.ylabel('Training loss')\n",
    "    plt.ylim(0, 6)\n",
    "    plt.legend(loc='best');\n",
    "    plt.title('Impact of initialization on convergence with %s'\n",
    "              % optimizer_name)"
   ]
  },
  {
   "cell_type": "code",
   "execution_count": 35,
   "metadata": {
    "collapsed": true
   },
   "outputs": [],
   "source": [
    "# %load solutions/keras_initializations_analysis.py\n",
    "# Analysis\n",
    "#\n",
    "# If the network is initialized to zero weights, the activations of the hidden\n",
    "# layers are always set to zero, whatever the value of the inputs. The gradient\n",
    "# is always zero for all training samples and no learning can happen with any\n",
    "# gradient-based optimizer (SGD, Adam...): the loss stays constant.\n",
    "#\n",
    "# A network with null weights has null gradients but this not a local minimum\n",
    "# (nor a local maximum): it is a saddle point at the center of a neighborhood\n",
    "# with very low gradients. \n",
    "#\n",
    "# Therefore when the scale of a random initializations of the weights is too\n",
    "# small, SGD has a hard time evading that area of low gradients. Adding\n",
    "# momentum can help but especially for deep networks it can take many epochs to\n",
    "# evade the area.\n",
    "#\n",
    "# Initializing the weights with large random values will make the output\n",
    "# distribution (softmax) very peaky: the network is very \"confident\" of its\n",
    "# predictions even if they are completely random. This leads to a very high\n",
    "# initial loss value.\n",
    "#\n",
    "# The softmax function does not saturate (bad classification always have a\n",
    "# non-zero gradient). However the intermediate tanh layers can saturate,\n",
    "# therefore squashing the gradients and making the network train much slower. \n",
    "#\n",
    "# The Glorot uniform init uses a scale that depends on the dimensions of the\n",
    "# weigh matrix so has to preserve the average norm of activations and flowing\n",
    "# gradients so as to make learning possible. Keras provides alternatives that\n",
    "# can be better in some cases. Please refer to the references in the Keras\n",
    "# documentation to learn more on the theoretical justifications behind those\n",
    "# schemes.\n",
    "#\n",
    "# Adam tends to be more robust when it comes to bad initialization thanks to\n",
    "# its per-weight learning rate adjustments but still benefits from a good\n",
    "# initialization.\n",
    "#\n",
    "# More on this in a later class on optimization issues. For now  just remember\n",
    "# that if you network fails to learn at all (the loss stays at its initial\n",
    "# value):\n",
    "#\n",
    "# - ensure that the weights are properly initialized,\n",
    "# - inspect the per-layer gradient norms to help identify the bad layer,\n",
    "# - use Adam instead of SGD as your default go to initializer.\n"
   ]
  },
  {
   "cell_type": "markdown",
   "metadata": {},
   "source": [
    "# II) Numpy Implementation\n",
    "\n",
    "## a) Logistic Regression\n",
    "\n",
    "In this section we will implement a logistic regression model trainable with SGD using numpy. Here are the objectives:\n",
    "\n",
    "1/ Implement a simple forward model with no hidden layer (equivalent to a logistic regression):\n",
    "note: shape, transpose of W with regards to course\n",
    "$y = softmax(\\mathbf{W} \\dot x + b)$\n",
    "\n",
    "2/ build a predict function which returns the most probable class given an input $x$\n",
    "\n",
    "3/ build an accuracy function for a batch of inputs $X$ and the corresponding expected outputs $y_{true}$\n",
    "\n",
    "4/ build a grad function which computes $\\frac{d}{dW} -\\log(softmax(W \\dot x + b))$ for an $x$ and its corresponding expected output $y_{true}$ ; check that the gradients are well defined\n",
    "\n",
    "5/ build a train function which uses the grad function output to update $\\mathbf{W}$ and $b$\n",
    "\n",
    "\n",
    "First let's define a helper function to compute the one hot encoding of an integer array for a fixed number of classes (similar to keras' `to_categorical`):"
   ]
  },
  {
   "cell_type": "code",
   "execution_count": 36,
   "metadata": {
    "collapsed": true
   },
   "outputs": [],
   "source": [
    "def one_hot(n_classes, y):\n",
    "    return np.eye(n_classes)[y]"
   ]
  },
  {
   "cell_type": "code",
   "execution_count": 37,
   "metadata": {
    "collapsed": false
   },
   "outputs": [
    {
     "data": {
      "text/plain": [
       "array([[ 1.,  0.,  0.,  0.,  0.,  0.,  0.,  0.,  0.,  0.],\n",
       "       [ 0.,  0.,  0.,  0.,  1.,  0.,  0.,  0.,  0.,  0.],\n",
       "       [ 0.,  0.,  0.,  0.,  0.,  0.,  0.,  0.,  0.,  1.],\n",
       "       [ 0.,  1.,  0.,  0.,  0.,  0.,  0.,  0.,  0.,  0.]])"
      ]
     },
     "execution_count": 37,
     "metadata": {},
     "output_type": "execute_result"
    }
   ],
   "source": [
    "one_hot(10, [0, 4, 9, 1])"
   ]
  },
  {
   "cell_type": "markdown",
   "metadata": {},
   "source": [
    "Now let's implement the softmax vector function:\n",
    "\n",
    "$$\n",
    "softmax(\\mathbf{x}) = \\frac{1}{\\sum_{i=1}^{n}{e^{x_i}}}\n",
    "\\cdot\n",
    "\\begin{bmatrix}\n",
    "  e^{x_1}\\\\\\\\\n",
    "  e^{x_2}\\\\\\\\\n",
    "  \\vdots\\\\\\\\\n",
    "  e^{x_n}\n",
    "\\end{bmatrix}\n",
    "$$"
   ]
  },
  {
   "cell_type": "code",
   "execution_count": 38,
   "metadata": {
    "collapsed": true
   },
   "outputs": [],
   "source": [
    "def softmax(X):\n",
    "    ## We are cautious that we need to sum only over the rows, not on the whole 2D array!\n",
    "    exp = np.exp(X)\n",
    "    return exp / np.sum(exp, axis=-1, keepdims=True)"
   ]
  },
  {
   "cell_type": "code",
   "execution_count": 39,
   "metadata": {
    "collapsed": false
   },
   "outputs": [
    {
     "name": "stdout",
     "output_type": "stream",
     "text": [
      "softmax of a single vector:\n",
      "[  9.99662391e-01   3.35349373e-04   2.25956630e-06]\n",
      "1.0\n",
      "\n",
      "sotfmax of 2 vectors:\n",
      "[[  9.99662391e-01   3.35349373e-04   2.25956630e-06]\n",
      " [  2.47262316e-03   9.97527377e-01   1.38536042e-11]]\n",
      "[ 1.  1.]\n"
     ]
    }
   ],
   "source": [
    "print(\"softmax of a single vector:\")\n",
    "print(softmax([10, 2, -3]))\n",
    "print(np.sum(softmax([10, 2, -3])))\n",
    "print(\"\\nsotfmax of 2 vectors:\")\n",
    "X = np.array([[10, 2, -3],\n",
    "              [-1, 5, -20]])\n",
    "print(softmax(X))\n",
    "print(np.sum(softmax(X), axis=1))"
   ]
  },
  {
   "cell_type": "markdown",
   "metadata": {},
   "source": [
    "Implement a function that given the true one-hot encoded class `Y_true` and some predicted probabilities `Y_pred` returns the negative log likelihood."
   ]
  },
  {
   "cell_type": "code",
   "execution_count": 40,
   "metadata": {
    "collapsed": false
   },
   "outputs": [
    {
     "name": "stdout",
     "output_type": "stream",
     "text": [
      "0.0100503357525\n"
     ]
    }
   ],
   "source": [
    "def nonzero(x):\n",
    "    # We add a small constant in case x is null\n",
    "    return x + 1e-10\n",
    "def nll(Y_true, Y_pred):\n",
    "    Y_pred = [nonzero(x) for x in Y_pred]\n",
    "    aux = -np.log(Y_pred) * Y_true\n",
    "    return np.sum(aux)\n",
    "# Make sure that it works for a simple sample at a time\n",
    "print(nll([1, 0, 0], [.99, 0.01, 0]))"
   ]
  },
  {
   "cell_type": "markdown",
   "metadata": {},
   "source": [
    "Check that the nll of a very confident yet bad prediction is a much higher positive number:"
   ]
  },
  {
   "cell_type": "code",
   "execution_count": 41,
   "metadata": {
    "collapsed": false
   },
   "outputs": [
    {
     "name": "stdout",
     "output_type": "stream",
     "text": [
      "4.60517017599\n"
     ]
    }
   ],
   "source": [
    "print(nll([1, 0, 0], [0.01, 0.01, .98]))"
   ]
  },
  {
   "cell_type": "markdown",
   "metadata": {},
   "source": [
    "Make sure that your implementation can compute the average negative log likelihood of a group of predictions: `Y_pred` and `Y_true` can therefore be past as 2D arrays:"
   ]
  },
  {
   "cell_type": "code",
   "execution_count": 42,
   "metadata": {
    "collapsed": true
   },
   "outputs": [],
   "source": [
    "EPSILON = 1e-8\n",
    "\n",
    "def nll(Y_true, Y_pred):\n",
    "    Y_true, Y_pred = np.atleast_2d(Y_true), np.atleast_2d(Y_pred)\n",
    "    loglikelihoods = np.sum(np.log(EPSILON + Y_pred) * Y_true, axis=1)\n",
    "    return -np.mean(loglikelihoods)"
   ]
  },
  {
   "cell_type": "code",
   "execution_count": 43,
   "metadata": {
    "collapsed": false
   },
   "outputs": [
    {
     "name": "stdout",
     "output_type": "stream",
     "text": [
      "0.0033501019175\n"
     ]
    }
   ],
   "source": [
    "# Check that the average NLL of the following 3 almost perfect\n",
    "# predictions is close to 0\n",
    "Y_true = np.array([[0, 1, 0],\n",
    "                   [1, 0, 0],\n",
    "                   [0, 0, 1]])\n",
    "\n",
    "Y_pred = np.array([[0,   1,    0],\n",
    "                   [.99, 0.01, 0],\n",
    "                   [0,   0,    1]])\n",
    "\n",
    "print(nll(Y_true, Y_pred))"
   ]
  },
  {
   "cell_type": "markdown",
   "metadata": {},
   "source": [
    "Let us now study the following linear model trainable by SGD, **one sample at a time**."
   ]
  },
  {
   "cell_type": "code",
   "execution_count": 44,
   "metadata": {
    "collapsed": true
   },
   "outputs": [],
   "source": [
    "class LogisticRegression():\n",
    "\n",
    "    def __init__(self, input_size, output_size):\n",
    "        self.W = np.random.uniform(size=(input_size, output_size), high=0.1, low=-0.1)\n",
    "        self.b = np.random.uniform(size=(output_size), high=0.1, low=-0.1)\n",
    "        self.output_size = output_size\n",
    "        \n",
    "    def forward(self, X):\n",
    "        Z = np.dot(X, self.W) + self.b\n",
    "        return softmax(Z)\n",
    "    \n",
    "    def predict(self, X):\n",
    "        if len(X.shape) == 1:\n",
    "            return np.argmax(self.forward(X))\n",
    "        else:\n",
    "            return np.argmax(self.forward(X), axis=1)\n",
    "    \n",
    "    def grad_loss(self, x, y_true):\n",
    "        y_pred = self.forward(x)\n",
    "        dnll_output =  y_pred - one_hot(self.output_size, y_true)\n",
    "        grad_W = np.outer(x, dnll_output)\n",
    "        grad_b = dnll_output\n",
    "        grads = {\"W\": grad_W, \"b\": grad_b}\n",
    "        return grads\n",
    "    \n",
    "    def train(self, x, y, learning_rate):\n",
    "        # Traditional SGD update without momentum\n",
    "        grads = self.grad_loss(x, y)\n",
    "        self.W = self.W - learning_rate * grads[\"W\"]\n",
    "        self.b = self.b - learning_rate * grads[\"b\"]      \n",
    "        \n",
    "    def loss(self, x, y):\n",
    "        return nll(one_hot(self.output_size, y), self.forward(x))\n",
    "\n",
    "    def accuracy(self, X, y):\n",
    "        y_preds = np.argmax(self.forward(X), axis=1)\n",
    "        return np.mean(y_preds == y)"
   ]
  },
  {
   "cell_type": "code",
   "execution_count": 45,
   "metadata": {
    "collapsed": false
   },
   "outputs": [
    {
     "name": "stdout",
     "output_type": "stream",
     "text": [
      "Evaluation of the untrained model:\n",
      "train loss: 2.394756192679792, train acc: 0.07465618860510806, test acc: 0.07465618860510806\n"
     ]
    }
   ],
   "source": [
    "# Build a model and test its forward inference\n",
    "n_features = X_train.shape[1]\n",
    "n_classes = Y_train.shape[1]\n",
    "lr = LogisticRegression(n_features, n_classes)\n",
    "\n",
    "print(\"Evaluation of the untrained model:\")\n",
    "train_loss = lr.loss(X_train, y_train)\n",
    "train_acc = lr.accuracy(X_train, y_train)\n",
    "test_acc = lr.accuracy(X_train, y_train)\n",
    "\n",
    "print(\"train loss: {}, train acc: {}, test acc: {}\".format(train_loss, train_acc, test_acc))"
   ]
  },
  {
   "cell_type": "code",
   "execution_count": 46,
   "metadata": {
    "collapsed": false
   },
   "outputs": [
    {
     "name": "stdout",
     "output_type": "stream",
     "text": [
      "1\n"
     ]
    },
    {
     "data": {
      "image/png": "[encoded data removed]",
      "text/plain": [
       "<matplotlib.figure.Figure at 0x25016996358>"
      ]
     },
     "metadata": {},
     "output_type": "display_data"
    }
   ],
   "source": [
    "# Test the untrained model on the first example\n",
    "sample_idx = 0\n",
    "plt.plot(lr.forward(X_train[sample_idx]), linestyle='-', label='prediction')\n",
    "plt.plot(one_hot(10, y_train[sample_idx]), linestyle='--', label='true')\n",
    "plt.title('output probabilities')\n",
    "plt.legend()\n",
    "print(lr.predict(X_train[sample_idx]))"
   ]
  },
  {
   "cell_type": "code",
   "execution_count": 47,
   "metadata": {
    "collapsed": false
   },
   "outputs": [
    {
     "name": "stdout",
     "output_type": "stream",
     "text": [
      "Update 0, train loss: 2.3697516477583167, train acc: 0.10019646365422397, test acc: 0.11481481481481481\n",
      "Update 100, train loss: 1.3349477354805124, train acc: 0.6967910936476752, test acc: 0.7185185185185186\n",
      "Update 200, train loss: 0.8778105795509544, train acc: 0.8474132285527177, test acc: 0.8703703703703703\n",
      "Update 300, train loss: 0.6487203139019637, train acc: 0.8925998690242305, test acc: 0.9\n",
      "Update 400, train loss: 0.5372035795882143, train acc: 0.9030779305828421, test acc: 0.9111111111111111\n",
      "Update 500, train loss: 0.4624241199241039, train acc: 0.922724296005239, test acc: 0.9259259259259259\n",
      "Update 600, train loss: 0.4051728844513043, train acc: 0.9286182056319581, test acc: 0.937037037037037\n",
      "Update 700, train loss: 0.36590377718464984, train acc: 0.9345121152586772, test acc: 0.9481481481481482\n",
      "Update 800, train loss: 0.34507993137037674, train acc: 0.9345121152586772, test acc: 0.9518518518518518\n",
      "Update 900, train loss: 0.3199116602262542, train acc: 0.9404060248853962, test acc: 0.9518518518518518\n",
      "Update 1000, train loss: 0.3007904774163481, train acc: 0.9482645710543549, test acc: 0.9444444444444444\n",
      "Update 1100, train loss: 0.28084589815789196, train acc: 0.9482645710543549, test acc: 0.9518518518518518\n",
      "Update 1200, train loss: 0.269414570221237, train acc: 0.9469548133595285, test acc: 0.9666666666666667\n",
      "Update 1300, train loss: 0.2598788927920927, train acc: 0.9476096922069417, test acc: 0.9407407407407408\n",
      "Update 1400, train loss: 0.2461153134809143, train acc: 0.9561231172233137, test acc: 0.9518518518518518\n",
      "Update 1500, train loss: 0.23385068701439304, train acc: 0.9535036018336608, test acc: 0.9444444444444444\n"
     ]
    }
   ],
   "source": [
    "# Training for one epoch\n",
    "learning_rate = 0.01\n",
    "\n",
    "for i, (x, y) in enumerate(zip(X_train, y_train)):\n",
    "    lr.train(x, y, learning_rate)\n",
    "    if i % 100 == 0:\n",
    "        train_loss = lr.loss(X_train, y_train)\n",
    "        train_acc = lr.accuracy(X_train, y_train)\n",
    "        test_acc = lr.accuracy(X_test, y_test)\n",
    "        print(\"Update {}, train loss: {}, train acc: {}, test acc: {}\".format(i, train_loss, train_acc, test_acc))"
   ]
  },
  {
   "cell_type": "code",
   "execution_count": 48,
   "metadata": {
    "collapsed": false
   },
   "outputs": [
    {
     "name": "stdout",
     "output_type": "stream",
     "text": [
      "2\n"
     ]
    },
    {
     "data": {
      "image/png": "[encoded data removed]",
      "text/plain": [
       "<matplotlib.figure.Figure at 0x2501a97df28>"
      ]
     },
     "metadata": {},
     "output_type": "display_data"
    }
   ],
   "source": [
    "# Evaluate the trained model on the first example\n",
    "sample_idx = 0\n",
    "plt.plot(lr.forward(X_train[sample_idx]), linestyle='-', label='prediction')\n",
    "plt.plot(one_hot(10, y_train[sample_idx]), linestyle='--', label='true')\n",
    "plt.title('output probabilities')\n",
    "plt.legend()\n",
    "print(lr.predict(X_train[sample_idx]))"
   ]
  },
  {
   "cell_type": "markdown",
   "metadata": {},
   "source": [
    "After one epoch, the model can fit very well the training data (though probably overfitting...)"
   ]
  },
  {
   "cell_type": "markdown",
   "metadata": {},
   "source": [
    "## b) Feedforward Multilayer\n",
    "\n",
    "The objective of this section is to implement the backpropagation algorithm (SGD with the chain rule) on a single layer neural network using the sigmoid activation function.\n",
    "\n",
    "- Implement the `sigmoid` and its element-wise derivative `dsigmoid` functions:\n",
    "\n",
    "$$\n",
    "sigmoid(x) = \\frac{1}{1 + e^{-x}}\n",
    "$$\n",
    "\n",
    "$$\n",
    "dsigmoid(x) = sigmoid(x) \\cdot (1 - sigmoid(x))\n",
    "$$"
   ]
  },
  {
   "cell_type": "code",
   "execution_count": 49,
   "metadata": {
    "collapsed": false
   },
   "outputs": [
    {
     "data": {
      "image/png": "[encoded data removed]",
      "text/plain": [
       "<matplotlib.figure.Figure at 0x25022533da0>"
      ]
     },
     "metadata": {},
     "output_type": "display_data"
    }
   ],
   "source": [
    "def sigmoid(X):\n",
    "    return 1 / (1 + np.exp(-X))\n",
    "\n",
    "\n",
    "def dsigmoid(X):\n",
    "    sig=sigmoid(X)\n",
    "    return sig * (1 - sig)\n",
    "\n",
    "\n",
    "x = np.linspace(-5, 5, 100)\n",
    "plt.plot(x, sigmoid(x), label='sigmoid')\n",
    "plt.plot(x, dsigmoid(x), label='dsigmoid')\n",
    "plt.legend(loc='best');"
   ]
  },
  {
   "cell_type": "markdown",
   "metadata": {},
   "source": [
    "- Implement `forward` and `forward_keep_all` functions for a model with a hidden layer, similar to the first one in Keras:\n",
    "  - $h = sigmoid(\\mathbf{W}^h x + b^h)$\n",
    "  - $y = softmax(\\mathbf{W}^o h + b^o)$\n",
    "\n",
    "Notes: \n",
    "  - try to keep the code as similar as possible as the previous one;\n",
    "  - `forward_keep_activations` is similar to forward, but also returns hidden activations and pre activations;\n",
    "\n",
    "- update the grad function to compute all gradients; check that the gradients are well defined;\n",
    "\n",
    "- implement the `train` and `loss` functions.\n",
    "\n",
    "Bonus: reimplementing all from scratch without looking at the solution of the `LogisticRegression` is an excellent exercise."
   ]
  },
  {
   "cell_type": "code",
   "execution_count": 50,
   "metadata": {
    "collapsed": true
   },
   "outputs": [],
   "source": [
    "class NeuralNet():\n",
    "    \"\"\"MLP with 1 hidden layer with a sigmoid activation\"\"\"\n",
    "\n",
    "    def __init__(self, input_size, hidden_size, output_size):\n",
    "        # TODO\n",
    "        self.W_h = np.random.uniform(\n",
    "            size=(input_size, hidden_size), high=0.01, low=-0.01)\n",
    "        self.b_h = np.zeros(hidden_size)\n",
    "        self.W_o = np.random.uniform(\n",
    "            size=(hidden_size, output_size), high=0.01, low=-0.01)\n",
    "        self.b_o =np.zeros(output_size)\n",
    "        # END TODO\n",
    "        self.output_size = output_size\n",
    "        \n",
    "    def forward(self, X):\n",
    "        # TODO\n",
    "        h = sigmoid(np.dot(X, self.W_h) + self.b_h)\n",
    "        y = softmax(np.dot(h, self.W_o) + self.b_o)\n",
    "        # END TODO\n",
    "        return y\n",
    "    \n",
    "    def forward_keep_activations(self, X):\n",
    "        # TODO\n",
    "        z_h = np.dot(X, self.W_h) + self.b_h\n",
    "        h = sigmoid(z_h)\n",
    "        z_o = np.dot(h, self.W_o) + self.b_o\n",
    "        y = softmax(z_o)\n",
    "        return y, h, z_h\n",
    "    \n",
    "    def loss(self, X, y):\n",
    "        # TODO\n",
    "        return nll(one_hot(self.output_size, y), self.forward(X))\n",
    "\n",
    "    def grad_loss(self, X, y_true):\n",
    "        # TODO\n",
    "        y, h, z_h = self.forward_keep_activations(X)\n",
    "        grad_z_o = y - one_hot(self.output_size, y_true)\n",
    "\n",
    "        grad_W_o = np.outer(h, grad_z_o)\n",
    "        grad_b_o = grad_z_o\n",
    "        grad_h = np.dot(grad_z_o, np.transpose(self.W_o))\n",
    "        grad_z_h = grad_h * dsigmoid(z_h)\n",
    "        grad_W_h = np.outer(x, grad_z_h)\n",
    "        grad_b_h = grad_z_h\n",
    "        grads = {\"W_h\": grad_W_h, \"b_h\": grad_b_h,\n",
    "                 \"W_o\": grad_W_o, \"b_o\": grad_b_o}\n",
    "        return grads\n",
    "\n",
    "    def train(self, x, y, learning_rate):\n",
    "        # TODO\n",
    "        grads = self.grad_loss(x, y)\n",
    "        self.W_h = self.W_h - learning_rate * grads[\"W_h\"]\n",
    "        self.b_h = self.b_h - learning_rate * grads[\"b_h\"]\n",
    "        self.W_o = self.W_o - learning_rate * grads[\"W_o\"]\n",
    "        self.b_o = self.b_o - learning_rate * grads[\"b_o\"]\n",
    "\n",
    "    def predict(self, X):\n",
    "        # TODO\n",
    "        if len(X.shape) == 1:\n",
    "            return np.argmax(self.forward(X))\n",
    "        else:\n",
    "            return np.argmax(self.forward(X), axis=1)\n",
    "\n",
    "    def accuracy(self, X, y):\n",
    "        # TODO\n",
    "        y_preds = np.argmax(self.forward(X), axis=1)\n",
    "        return np.mean(y_preds == y)"
   ]
  },
  {
   "cell_type": "code",
   "execution_count": 51,
   "metadata": {
    "collapsed": true
   },
   "outputs": [],
   "source": [
    "n_hidden = 10\n",
    "model = NeuralNet(n_features, n_hidden, n_classes)"
   ]
  },
  {
   "cell_type": "code",
   "execution_count": 52,
   "metadata": {
    "collapsed": false
   },
   "outputs": [
    {
     "data": {
      "text/plain": [
       "2.3026002613586489"
      ]
     },
     "execution_count": 52,
     "metadata": {},
     "output_type": "execute_result"
    }
   ],
   "source": [
    "model.loss(X_train, y_train)"
   ]
  },
  {
   "cell_type": "code",
   "execution_count": 53,
   "metadata": {
    "collapsed": false
   },
   "outputs": [
    {
     "data": {
      "text/plain": [
       "0.10216110019646366"
      ]
     },
     "execution_count": 53,
     "metadata": {},
     "output_type": "execute_result"
    }
   ],
   "source": [
    "model.accuracy(X_train, y_train)"
   ]
  },
  {
   "cell_type": "code",
   "execution_count": 54,
   "metadata": {
    "collapsed": false
   },
   "outputs": [
    {
     "name": "stdout",
     "output_type": "stream",
     "text": [
      "9\n"
     ]
    },
    {
     "data": {
      "image/png": "[encoded data removed]",
      "text/plain": [
       "<matplotlib.figure.Figure at 0x250225a14a8>"
      ]
     },
     "metadata": {},
     "output_type": "display_data"
    }
   ],
   "source": [
    "sample_idx = 0\n",
    "plt.plot(model.forward(X_train[sample_idx]), linestyle='-', label='prediction')\n",
    "plt.plot(one_hot(10, y_train[sample_idx]), linestyle='--', label='true')\n",
    "plt.title('output probabilities')\n",
    "plt.legend()\n",
    "print(model.predict(X_train[sample_idx]))"
   ]
  },
  {
   "cell_type": "code",
   "execution_count": 55,
   "metadata": {
    "collapsed": false
   },
   "outputs": [
    {
     "name": "stdout",
     "output_type": "stream",
     "text": [
      "Random init: train loss: 2.3026, train acc: 0.102, test acc: 0.089\n",
      "Epoch #1, train loss: 0.3689, train acc: 0.906, test acc: 0.859\n",
      "Epoch #2, train loss: 0.1653, train acc: 0.961, test acc: 0.922\n",
      "Epoch #3, train loss: 0.1184, train acc: 0.976, test acc: 0.941\n",
      "Epoch #4, train loss: 0.0884, train acc: 0.986, test acc: 0.948\n",
      "Epoch #5, train loss: 0.0699, train acc: 0.989, test acc: 0.948\n",
      "Epoch #6, train loss: 0.0565, train acc: 0.992, test acc: 0.952\n",
      "Epoch #7, train loss: 0.0468, train acc: 0.995, test acc: 0.952\n",
      "Epoch #8, train loss: 0.0409, train acc: 0.996, test acc: 0.959\n",
      "Epoch #9, train loss: 0.0356, train acc: 0.998, test acc: 0.959\n",
      "Epoch #10, train loss: 0.0316, train acc: 0.998, test acc: 0.963\n",
      "Epoch #11, train loss: 0.0285, train acc: 0.998, test acc: 0.963\n",
      "Epoch #12, train loss: 0.0260, train acc: 0.998, test acc: 0.959\n",
      "Epoch #13, train loss: 0.0239, train acc: 0.998, test acc: 0.959\n",
      "Epoch #14, train loss: 0.0219, train acc: 0.999, test acc: 0.959\n",
      "Epoch #15, train loss: 0.0202, train acc: 0.999, test acc: 0.952\n"
     ]
    }
   ],
   "source": [
    "losses, accuracies, accuracies_test = [], [], []\n",
    "losses.append(model.loss(X_train, y_train))\n",
    "accuracies.append(model.accuracy(X_train, y_train))\n",
    "accuracies_test.append(model.accuracy(X_test, y_test))\n",
    "\n",
    "print(\"Random init: train loss: %0.4f, train acc: %0.3f, test acc: %0.3f\"\n",
    "      % (losses[-1], accuracies[-1], accuracies_test[-1]))\n",
    "\n",
    "for epoch in range(15):\n",
    "    for i, (x, y) in enumerate(zip(X_train, y_train)):\n",
    "        model.train(x, y, 0.1)\n",
    "\n",
    "    losses.append(model.loss(X_train, y_train))\n",
    "    accuracies.append(model.accuracy(X_train, y_train))\n",
    "    accuracies_test.append(model.accuracy(X_test, y_test))\n",
    "    print(\"Epoch #%d, train loss: %0.4f, train acc: %0.3f, test acc: %0.3f\"\n",
    "          % (epoch + 1, losses[-1], accuracies[-1], accuracies_test[-1]))"
   ]
  },
  {
   "cell_type": "code",
   "execution_count": 56,
   "metadata": {
    "collapsed": false
   },
   "outputs": [
    {
     "data": {
      "image/png": "[encoded data removed]",
      "text/plain": [
       "<matplotlib.figure.Figure at 0x25022b1c3c8>"
      ]
     },
     "metadata": {},
     "output_type": "display_data"
    }
   ],
   "source": [
    "plt.plot(losses)\n",
    "plt.title(\"Training loss\")\n",
    "plt.show()"
   ]
  },
  {
   "cell_type": "code",
   "execution_count": 57,
   "metadata": {
    "collapsed": false
   },
   "outputs": [
    {
     "data": {
      "image/png": "[encoded data removed]",
      "text/plain": [
       "<matplotlib.figure.Figure at 0x2501b656978>"
      ]
     },
     "metadata": {},
     "output_type": "display_data"
    }
   ],
   "source": [
    "plt.plot(accuracies, label='train')\n",
    "plt.plot(accuracies_test, label='test')\n",
    "plt.ylim(0, 1.1)\n",
    "plt.ylabel(\"accuracy\")\n",
    "plt.legend(loc='best')\n",
    "plt.show()"
   ]
  },
  {
   "cell_type": "markdown",
   "metadata": {},
   "source": [
    "## c) Exercises\n",
    "\n",
    "### Hyper parameters settings\n",
    "\n",
    "- Experiment with different hyper parameters:\n",
    "  - learning rate,\n",
    "  - size of hidden layer,\n",
    "  - initialization scheme: test with 0 initialization vs uniform,\n",
    "  - implement other activation functions,\n",
    "  - implement the support for a second hidden layer.\n",
    "\n",
    "\n",
    "### Mini-batches\n",
    "\n",
    "- Bonus: the current implementations of `train` and `grad_loss` function currently only accept a single sample at a time:\n",
    "    - implement the support for training with a mini-batch of 32 samples at a time instead of one,\n",
    "    - experiment with different sizes of batches,\n",
    "    - monitor the norm of the average gradients on the full training set at the end of each epoch.\n",
    "\n",
    "\n",
    "### Momentum\n",
    "\n",
    "- Bonus: Implement momentum"
   ]
  },
  {
   "cell_type": "markdown",
   "metadata": {},
   "source": [
    "## Hyperparameters"
   ]
  },
  {
   "cell_type": "markdown",
   "metadata": {},
   "source": [
    "#### Learning rate"
   ]
  },
  {
   "cell_type": "code",
   "execution_count": 58,
   "metadata": {
    "collapsed": false
   },
   "outputs": [
    {
     "name": "stdout",
     "output_type": "stream",
     "text": [
      "Random init: train loss: 2.3027, train acc: 0.100, test acc: 0.100\n"
     ]
    },
    {
     "name": "stderr",
     "output_type": "stream",
     "text": [
      "C:\\Users\\Peter martigny\\Anaconda3\\envs\\py35\\lib\\site-packages\\ipykernel\\__main__.py:2: RuntimeWarning: overflow encountered in exp\n",
      "  from ipykernel import kernelapp as app\n"
     ]
    },
    {
     "data": {
      "image/png": "[encoded data removed]",
      "text/plain": [
       "<matplotlib.figure.Figure at 0x25022b1c2b0>"
      ]
     },
     "metadata": {},
     "output_type": "display_data"
    },
    {
     "name": "stdout",
     "output_type": "stream",
     "text": [
      "Random init: train loss: 2.3025, train acc: 0.102, test acc: 0.089\n"
     ]
    },
    {
     "data": {
      "image/png": "[encoded data removed]",
      "text/plain": [
       "<matplotlib.figure.Figure at 0x2501b656eb8>"
      ]
     },
     "metadata": {},
     "output_type": "display_data"
    },
    {
     "name": "stdout",
     "output_type": "stream",
     "text": [
      "Random init: train loss: 2.3027, train acc: 0.101, test acc: 0.107\n"
     ]
    },
    {
     "data": {
      "image/png": "[encoded data removed]",
      "text/plain": [
       "<matplotlib.figure.Figure at 0x25023dfcfd0>"
      ]
     },
     "metadata": {},
     "output_type": "display_data"
    },
    {
     "name": "stdout",
     "output_type": "stream",
     "text": [
      "Random init: train loss: 2.3026, train acc: 0.099, test acc: 0.100\n"
     ]
    },
    {
     "data": {
      "image/png": "[encoded data removed]",
      "text/plain": [
       "<matplotlib.figure.Figure at 0x25023f06eb8>"
      ]
     },
     "metadata": {},
     "output_type": "display_data"
    },
    {
     "name": "stdout",
     "output_type": "stream",
     "text": [
      "Random init: train loss: 2.3025, train acc: 0.099, test acc: 0.100\n"
     ]
    },
    {
     "data": {
      "image/png": "[encoded data removed]",
      "text/plain": [
       "<matplotlib.figure.Figure at 0x25023eff7b8>"
      ]
     },
     "metadata": {},
     "output_type": "display_data"
    }
   ],
   "source": [
    "learning_rates = [10, 5, 1, 0.5, 0.1]\n",
    "for lr in learning_rates:\n",
    "\n",
    "    model = NeuralNet(n_features, n_hidden, n_classes)\n",
    "    losses, accuracies, accuracies_test = [], [], []\n",
    "    losses.append(model.loss(X_train, y_train))\n",
    "    accuracies.append(model.accuracy(X_train, y_train))\n",
    "    accuracies_test.append(model.accuracy(X_test, y_test))\n",
    "\n",
    "    print(\"Random init: train loss: %0.4f, train acc: %0.3f, test acc: %0.3f\"\n",
    "          % (losses[-1], accuracies[-1], accuracies_test[-1]))\n",
    "\n",
    "    for epoch in range(15):\n",
    "        for i, (x, y) in enumerate(zip(X_train, y_train)):\n",
    "            model.train(x, y, lr)\n",
    "\n",
    "        losses.append(model.loss(X_train, y_train))\n",
    "        accuracies.append(model.accuracy(X_train, y_train))\n",
    "        accuracies_test.append(model.accuracy(X_test, y_test))\n",
    "\n",
    "    plt.plot(accuracies, label='train')\n",
    "    plt.plot(accuracies_test, label='test')\n",
    "    plt.ylim(0, 1.1)\n",
    "    plt.ylabel(\"accuracy\")\n",
    "    plt.legend(loc='best')\n",
    "    plt.title('Loss for learnin rate = {}'.format(lr))\n",
    "    plt.show()"
   ]
  },
  {
   "cell_type": "markdown",
   "metadata": {},
   "source": [
    "#### Size of the hidden layer"
   ]
  },
  {
   "cell_type": "code",
   "execution_count": 59,
   "metadata": {
    "collapsed": false
   },
   "outputs": [
    {
     "data": {
      "text/plain": [
       "10"
      ]
     },
     "execution_count": 59,
     "metadata": {},
     "output_type": "execute_result"
    }
   ],
   "source": [
    "n_hidden"
   ]
  },
  {
   "cell_type": "code",
   "execution_count": 60,
   "metadata": {
    "collapsed": false
   },
   "outputs": [
    {
     "name": "stdout",
     "output_type": "stream",
     "text": [
      "Random init: train loss: 2.3026, train acc: 0.099, test acc: 0.115\n"
     ]
    },
    {
     "data": {
      "image/png": "[encoded data removed]",
      "text/plain": [
       "<matplotlib.figure.Figure at 0x2502259ad30>"
      ]
     },
     "metadata": {},
     "output_type": "display_data"
    },
    {
     "name": "stdout",
     "output_type": "stream",
     "text": [
      "Random init: train loss: 2.3026, train acc: 0.091, test acc: 0.130\n"
     ]
    },
    {
     "data": {
      "image/png": "[encoded data removed]",
      "text/plain": [
       "<matplotlib.figure.Figure at 0x2502503b518>"
      ]
     },
     "metadata": {},
     "output_type": "display_data"
    },
    {
     "name": "stdout",
     "output_type": "stream",
     "text": [
      "Random init: train loss: 2.3026, train acc: 0.102, test acc: 0.096\n"
     ]
    },
    {
     "data": {
      "image/png": "[encoded data removed]",
      "text/plain": [
       "<matplotlib.figure.Figure at 0x250250b4f98>"
      ]
     },
     "metadata": {},
     "output_type": "display_data"
    },
    {
     "name": "stdout",
     "output_type": "stream",
     "text": [
      "Random init: train loss: 2.3024, train acc: 0.102, test acc: 0.100\n"
     ]
    },
    {
     "data": {
      "image/png": "[encoded data removed]",
      "text/plain": [
       "<matplotlib.figure.Figure at 0x2502511de48>"
      ]
     },
     "metadata": {},
     "output_type": "display_data"
    },
    {
     "name": "stdout",
     "output_type": "stream",
     "text": [
      "Random init: train loss: 2.3027, train acc: 0.102, test acc: 0.089\n"
     ]
    },
    {
     "data": {
      "image/png": "[encoded data removed]",
      "text/plain": [
       "<matplotlib.figure.Figure at 0x250251a0e48>"
      ]
     },
     "metadata": {},
     "output_type": "display_data"
    },
    {
     "name": "stdout",
     "output_type": "stream",
     "text": [
      "Random init: train loss: 2.3147, train acc: 0.102, test acc: 0.096\n"
     ]
    },
    {
     "data": {
      "image/png": "[encoded data removed]",
      "text/plain": [
       "<matplotlib.figure.Figure at 0x2502513d278>"
      ]
     },
     "metadata": {},
     "output_type": "display_data"
    }
   ],
   "source": [
    "sizes = [2, 4, 6, 8, 10, 10000]\n",
    "for size in sizes:\n",
    "\n",
    "    model = NeuralNet(n_features, size, n_classes)\n",
    "    losses, accuracies, accuracies_test = [], [], []\n",
    "    losses.append(model.loss(X_train, y_train))\n",
    "    accuracies.append(model.accuracy(X_train, y_train))\n",
    "    accuracies_test.append(model.accuracy(X_test, y_test))\n",
    "\n",
    "    print(\"Random init: train loss: %0.4f, train acc: %0.3f, test acc: %0.3f\"\n",
    "          % (losses[-1], accuracies[-1], accuracies_test[-1]))\n",
    "\n",
    "    for epoch in range(15):\n",
    "        for i, (x, y) in enumerate(zip(X_train, y_train)):\n",
    "            model.train(x, y, 0.01)\n",
    "\n",
    "        losses.append(model.loss(X_train, y_train))\n",
    "        accuracies.append(model.accuracy(X_train, y_train))\n",
    "        accuracies_test.append(model.accuracy(X_test, y_test))\n",
    "\n",
    "    plt.plot(accuracies, label='train')\n",
    "    plt.plot(accuracies_test, label='test')\n",
    "    plt.ylim(0, 1.1)\n",
    "    plt.ylabel(\"accuracy\")\n",
    "    plt.legend(loc='best')\n",
    "    plt.title('Loss for size of hidden layer = {}'.format(size))\n",
    "    plt.show()"
   ]
  },
  {
   "cell_type": "markdown",
   "metadata": {},
   "source": [
    "#### Initialization"
   ]
  },
  {
   "cell_type": "code",
   "execution_count": 61,
   "metadata": {
    "collapsed": true
   },
   "outputs": [],
   "source": [
    "class NeuralNet_zero():\n",
    "    \"\"\"MLP with 1 hidden layer with a sigmoid activation\"\"\"\n",
    "\n",
    "    def __init__(self, input_size, hidden_size, output_size):\n",
    "        # TODO\n",
    "        a = (input_size, hidden_size)\n",
    "        self.W_h = np.zeros(a)\n",
    "        self.b_h = np.zeros(hidden_size)\n",
    "        a = (hidden_size, output_size)\n",
    "        self.W_o = np.zeros(a)\n",
    "        self.b_o =np.zeros(output_size)\n",
    "        # END TODO\n",
    "        self.output_size = output_size\n",
    "        \n",
    "    def forward(self, X):\n",
    "        # TODO\n",
    "        h = sigmoid(np.dot(X, self.W_h) + self.b_h)\n",
    "        y = softmax(np.dot(h, self.W_o) + self.b_o)\n",
    "        # END TODO\n",
    "        return y\n",
    "    \n",
    "    def forward_keep_activations(self, X):\n",
    "        # TODO\n",
    "        z_h = np.dot(X, self.W_h) + self.b_h\n",
    "        h = sigmoid(z_h)\n",
    "        z_o = np.dot(h, self.W_o) + self.b_o\n",
    "        y = softmax(z_o)\n",
    "        return y, h, z_h\n",
    "    \n",
    "    def loss(self, X, y):\n",
    "        # TODO\n",
    "        return nll(one_hot(self.output_size, y), self.forward(X))\n",
    "\n",
    "    def grad_loss(self, X, y_true):\n",
    "        # TODO\n",
    "        y, h, z_h = self.forward_keep_activations(X)\n",
    "        grad_z_o = y - one_hot(self.output_size, y_true)\n",
    "\n",
    "        grad_W_o = np.outer(h, grad_z_o)\n",
    "        grad_b_o = grad_z_o\n",
    "        grad_h = np.dot(grad_z_o, np.transpose(self.W_o))\n",
    "        grad_z_h = grad_h * dsigmoid(z_h)\n",
    "        grad_W_h = np.outer(x, grad_z_h)\n",
    "        grad_b_h = grad_z_h\n",
    "        grads = {\"W_h\": grad_W_h, \"b_h\": grad_b_h,\n",
    "                 \"W_o\": grad_W_o, \"b_o\": grad_b_o}\n",
    "        return grads\n",
    "\n",
    "    def train(self, x, y, learning_rate):\n",
    "        # TODO\n",
    "        grads = self.grad_loss(x, y)\n",
    "        self.W_h = self.W_h - learning_rate * grads[\"W_h\"]\n",
    "        self.b_h = self.b_h - learning_rate * grads[\"b_h\"]\n",
    "        self.W_o = self.W_o - learning_rate * grads[\"W_o\"]\n",
    "        self.b_o = self.b_o - learning_rate * grads[\"b_o\"]\n",
    "\n",
    "    def predict(self, X):\n",
    "        # TODO\n",
    "        if len(X.shape) == 1:\n",
    "            return np.argmax(self.forward(X))\n",
    "        else:\n",
    "            return np.argmax(self.forward(X), axis=1)\n",
    "\n",
    "    def accuracy(self, X, y):\n",
    "        # TODO\n",
    "        y_preds = np.argmax(self.forward(X), axis=1)\n",
    "        return np.mean(y_preds == y)"
   ]
  },
  {
   "cell_type": "code",
   "execution_count": 62,
   "metadata": {
    "collapsed": false
   },
   "outputs": [
    {
     "name": "stdout",
     "output_type": "stream",
     "text": [
      "Random init: train loss: 2.3027, train acc: 0.100, test acc: 0.107\n"
     ]
    },
    {
     "data": {
      "image/png": "[encoded data removed]",
      "text/plain": [
       "<matplotlib.figure.Figure at 0x2502520eb70>"
      ]
     },
     "metadata": {},
     "output_type": "display_data"
    },
    {
     "name": "stdout",
     "output_type": "stream",
     "text": [
      "Random init: train loss: 2.3026, train acc: 0.099, test acc: 0.100\n"
     ]
    },
    {
     "data": {
      "image/png": "[encoded data removed]",
      "text/plain": [
       "<matplotlib.figure.Figure at 0x250252b6ac8>"
      ]
     },
     "metadata": {},
     "output_type": "display_data"
    }
   ],
   "source": [
    "model = NeuralNet(n_features, n_hidden, n_classes)\n",
    "\n",
    "losses, accuracies, accuracies_test = [], [], []\n",
    "losses.append(model.loss(X_train, y_train))\n",
    "accuracies.append(model.accuracy(X_train, y_train))\n",
    "accuracies_test.append(model.accuracy(X_test, y_test))\n",
    "\n",
    "print(\"Random init: train loss: %0.4f, train acc: %0.3f, test acc: %0.3f\"\n",
    "      % (losses[-1], accuracies[-1], accuracies_test[-1]))\n",
    "\n",
    "for epoch in range(15):\n",
    "    for i, (x, y) in enumerate(zip(X_train, y_train)):\n",
    "        model.train(x, y, 0.1)\n",
    "\n",
    "    losses.append(model.loss(X_train, y_train))\n",
    "    accuracies.append(model.accuracy(X_train, y_train))\n",
    "    accuracies_test.append(model.accuracy(X_test, y_test))\n",
    "    \n",
    "plt.plot(accuracies, label='train')\n",
    "plt.plot(accuracies_test, label='test')\n",
    "plt.ylim(0, 1.1)\n",
    "plt.ylabel(\"accuracy\")\n",
    "plt.legend(loc='best')\n",
    "plt.title('Uniform Intitialization')\n",
    "plt.show()\n",
    "\n",
    "model = NeuralNet_zero(n_features, n_hidden, n_classes)\n",
    "\n",
    "losses, accuracies, accuracies_test = [], [], []\n",
    "losses.append(model.loss(X_train, y_train))\n",
    "accuracies.append(model.accuracy(X_train, y_train))\n",
    "accuracies_test.append(model.accuracy(X_test, y_test))\n",
    "\n",
    "print(\"Random init: train loss: %0.4f, train acc: %0.3f, test acc: %0.3f\"\n",
    "      % (losses[-1], accuracies[-1], accuracies_test[-1]))\n",
    "\n",
    "for epoch in range(15):\n",
    "    for i, (x, y) in enumerate(zip(X_train, y_train)):\n",
    "        model.train(x, y, 0.1)\n",
    "\n",
    "    losses.append(model.loss(X_train, y_train))\n",
    "    accuracies.append(model.accuracy(X_train, y_train))\n",
    "    accuracies_test.append(model.accuracy(X_test, y_test))\n",
    "    \n",
    "plt.plot(accuracies, label='train')\n",
    "plt.plot(accuracies_test, label='test')\n",
    "plt.ylim(0, 1.1)\n",
    "plt.ylabel(\"accuracy\")\n",
    "plt.legend(loc='best')\n",
    "plt.title('Zero Initialization')\n",
    "plt.show()"
   ]
  },
  {
   "cell_type": "markdown",
   "metadata": {},
   "source": [
    "#### Other activation function: Tanh"
   ]
  },
  {
   "cell_type": "code",
   "execution_count": 68,
   "metadata": {
    "collapsed": false
   },
   "outputs": [
    {
     "data": {
      "image/png": "[encoded data removed]",
      "text/plain": [
       "<matplotlib.figure.Figure at 0x25025501390>"
      ]
     },
     "metadata": {},
     "output_type": "display_data"
    }
   ],
   "source": [
    "def tanh(x):\n",
    "    return (np.exp(2*x) - 1) / (1 + np.exp(2*x))\n",
    "\n",
    "\n",
    "def dtanh(x):\n",
    "    sig=tanh(x)\n",
    "    return 1 - (sig**2)\n",
    "\n",
    "\n",
    "x = np.linspace(-5, 5, 100)\n",
    "plt.plot(x, tanh(x), label='tanh')\n",
    "plt.plot(x, dtanh(x), label='dtanh')\n",
    "plt.legend(loc='best');"
   ]
  },
  {
   "cell_type": "code",
   "execution_count": 75,
   "metadata": {
    "collapsed": true
   },
   "outputs": [],
   "source": [
    "class NeuralNet_tanh():\n",
    "    \"\"\"MLP with 1 hidden layer with a tanh activation\"\"\"\n",
    "\n",
    "    def __init__(self, input_size, hidden_size, output_size):\n",
    "        # TODO\n",
    "        self.W_h = np.random.uniform(\n",
    "            size=(input_size, hidden_size), high=0.01, low=-0.01)\n",
    "        self.b_h = np.zeros(hidden_size)\n",
    "        self.W_o = np.random.uniform(\n",
    "            size=(hidden_size, output_size), high=0.01, low=-0.01)\n",
    "        self.b_o =np.zeros(output_size)\n",
    "        # END TODO\n",
    "        self.output_size = output_size\n",
    "        \n",
    "    def forward(self, X):\n",
    "        # TODO\n",
    "        h = tanh(np.dot(X, self.W_h) + self.b_h)\n",
    "        y = softmax(np.dot(h, self.W_o) + self.b_o)\n",
    "        # END TODO\n",
    "        return y\n",
    "    \n",
    "    def forward_keep_activations(self, X):\n",
    "        # TODO\n",
    "        z_h = np.dot(X, self.W_h) + self.b_h\n",
    "        h = tanh(z_h)\n",
    "        z_o = np.dot(h, self.W_o) + self.b_o\n",
    "        y = softmax(z_o)\n",
    "        return y, h, z_h\n",
    "    \n",
    "    def loss(self, X, y):\n",
    "        # TODO\n",
    "        return nll(one_hot(self.output_size, y), self.forward(X))\n",
    "\n",
    "    def grad_loss(self, X, y_true):\n",
    "        # TODO\n",
    "        y, h, z_h = self.forward_keep_activations(X)\n",
    "        grad_z_o = y - one_hot(self.output_size, y_true)\n",
    "\n",
    "        grad_W_o = np.outer(h, grad_z_o)\n",
    "        grad_b_o = grad_z_o\n",
    "        grad_h = np.dot(grad_z_o, np.transpose(self.W_o))\n",
    "        grad_z_h = grad_h * dtanh(z_h)\n",
    "        grad_W_h = np.outer(x, grad_z_h)\n",
    "        grad_b_h = grad_z_h\n",
    "        grads = {\"W_h\": grad_W_h, \"b_h\": grad_b_h,\n",
    "                 \"W_o\": grad_W_o, \"b_o\": grad_b_o}\n",
    "        return grads\n",
    "\n",
    "    def train(self, x, y, learning_rate):\n",
    "        # TODO\n",
    "        grads = self.grad_loss(x, y)\n",
    "        self.W_h = self.W_h - learning_rate * grads[\"W_h\"]\n",
    "        self.b_h = self.b_h - learning_rate * grads[\"b_h\"]\n",
    "        self.W_o = self.W_o - learning_rate * grads[\"W_o\"]\n",
    "        self.b_o = self.b_o - learning_rate * grads[\"b_o\"]\n",
    "\n",
    "    def predict(self, X):\n",
    "        # TODO\n",
    "        if len(X.shape) == 1:\n",
    "            return np.argmax(self.forward(X))\n",
    "        else:\n",
    "            return np.argmax(self.forward(X), axis=1)\n",
    "\n",
    "    def accuracy(self, X, y):\n",
    "        # TODO\n",
    "        y_preds = np.argmax(self.forward(X), axis=1)\n",
    "        return np.mean(y_preds == y)"
   ]
  },
  {
   "cell_type": "code",
   "execution_count": 76,
   "metadata": {
    "collapsed": false
   },
   "outputs": [
    {
     "name": "stdout",
     "output_type": "stream",
     "text": [
      "Random init: train loss: 2.3026, train acc: 0.070, test acc: 0.067\n"
     ]
    },
    {
     "data": {
      "image/png": "[encoded data removed]",
      "text/plain": [
       "<matplotlib.figure.Figure at 0x250258ca2e8>"
      ]
     },
     "metadata": {},
     "output_type": "display_data"
    },
    {
     "name": "stdout",
     "output_type": "stream",
     "text": [
      "Random init: train loss: 2.3027, train acc: 0.097, test acc: 0.107\n"
     ]
    },
    {
     "data": {
      "image/png": "[encoded data removed]",
      "text/plain": [
       "<matplotlib.figure.Figure at 0x250258c3518>"
      ]
     },
     "metadata": {},
     "output_type": "display_data"
    }
   ],
   "source": [
    "######### Tanh activation #########\n",
    "model = NeuralNet_tanh(n_features, n_hidden, n_classes)\n",
    "\n",
    "losses, accuracies, accuracies_test = [], [], []\n",
    "losses.append(model.loss(X_train, y_train))\n",
    "accuracies.append(model.accuracy(X_train, y_train))\n",
    "accuracies_test.append(model.accuracy(X_test, y_test))\n",
    "\n",
    "print(\"Random init: train loss: %0.4f, train acc: %0.3f, test acc: %0.3f\"\n",
    "      % (losses[-1], accuracies[-1], accuracies_test[-1]))\n",
    "\n",
    "for epoch in range(15):\n",
    "    for i, (x, y) in enumerate(zip(X_train, y_train)):\n",
    "        model.train(x, y, 0.1)\n",
    "\n",
    "    losses.append(model.loss(X_train, y_train))\n",
    "    accuracies.append(model.accuracy(X_train, y_train))\n",
    "    accuracies_test.append(model.accuracy(X_test, y_test))\n",
    "    \n",
    "plt.plot(accuracies, label='train')\n",
    "plt.plot(accuracies_test, label='test')\n",
    "plt.ylim(0, 1.1)\n",
    "plt.ylabel(\"accuracy\")\n",
    "plt.legend(loc='best')\n",
    "plt.title('tanh activation')\n",
    "plt.show()\n",
    "\n",
    "######### Tanh activation #########\n",
    "model = NeuralNet(n_features, n_hidden, n_classes)\n",
    "\n",
    "losses, accuracies, accuracies_test = [], [], []\n",
    "losses.append(model.loss(X_train, y_train))\n",
    "accuracies.append(model.accuracy(X_train, y_train))\n",
    "accuracies_test.append(model.accuracy(X_test, y_test))\n",
    "\n",
    "print(\"Random init: train loss: %0.4f, train acc: %0.3f, test acc: %0.3f\"\n",
    "      % (losses[-1], accuracies[-1], accuracies_test[-1]))\n",
    "\n",
    "for epoch in range(15):\n",
    "    for i, (x, y) in enumerate(zip(X_train, y_train)):\n",
    "        model.train(x, y, 0.1)\n",
    "\n",
    "    losses.append(model.loss(X_train, y_train))\n",
    "    accuracies.append(model.accuracy(X_train, y_train))\n",
    "    accuracies_test.append(model.accuracy(X_test, y_test))\n",
    "    \n",
    "plt.plot(accuracies, label='train')\n",
    "plt.plot(accuracies_test, label='test')\n",
    "plt.ylim(0, 1.1)\n",
    "plt.ylabel(\"accuracy\")\n",
    "plt.legend(loc='best')\n",
    "plt.title('sigmoid activation')\n",
    "plt.show()"
   ]
  },
  {
   "cell_type": "markdown",
   "metadata": {
    "collapsed": true
   },
   "source": [
    "#### Support for a second hidden layer"
   ]
  },
  {
   "cell_type": "code",
   "execution_count": 84,
   "metadata": {
    "collapsed": true
   },
   "outputs": [],
   "source": [
    "class NeuralNet_two_layers():\n",
    "    \"\"\"MLP with 1 hidden layer with a sigmoid activation\"\"\"\n",
    "\n",
    "    def __init__(self, input_size, hidden_size_1, hidden_size_2, output_size):\n",
    "        # TODO\n",
    "        self.W_h_1 = np.random.uniform(\n",
    "            size=(input_size, hidden_size_1), high=0.01, low=-0.01)\n",
    "        self.b_h_1 = np.zeros(hidden_size_1)\n",
    "        self.W_h_2 = np.random.uniform(\n",
    "            size=(hidden_size_1, hidden_size_2), high=0.01, low=-0.01)\n",
    "        self.b_h_2 = np.zeros(hidden_size_2)        \n",
    "        \n",
    "        self.W_o = np.random.uniform(\n",
    "            size=(hidden_size_2, output_size), high=0.01, low=-0.01)\n",
    "        self.b_o =np.zeros(output_size)\n",
    "        # END TODO\n",
    "        self.output_size = output_size\n",
    "        \n",
    "    def forward(self, X):\n",
    "        # TODO\n",
    "        h_1 = sigmoid(np.dot(X, self.W_h_1) + self.b_h_1)\n",
    "        h_2 = sigmoid(np.dot(h_1, self.W_h_2) + self.b_h_2)\n",
    "        y = softmax(np.dot(h_2, self.W_o) + self.b_o)\n",
    "        # END TODO\n",
    "        return y\n",
    "    \n",
    "    def forward_keep_activations(self, X):\n",
    "        # TODO\n",
    "        z_h_1 = np.dot(X, self.W_h_1) + self.b_h_1\n",
    "        h_1 = sigmoid(z_h_1)\n",
    "        z_h_2 = np.dot(h_1, self.W_h_2) + self.b_h_2\n",
    "        h_2 = sigmoid(z_h_2)\n",
    "        z_o = np.dot(h_2, self.W_o) + self.b_o\n",
    "        y = softmax(z_o)\n",
    "        return y, h_1, h_2, z_h_1, z_h_2\n",
    "    \n",
    "    def loss(self, X, y):\n",
    "        # TODO\n",
    "        return nll(one_hot(self.output_size, y), self.forward(X))\n",
    "\n",
    "    def grad_loss(self, X, y_true):\n",
    "        # TODO\n",
    "        y, h_1, h_2, z_h_1, z_h_2 = self.forward_keep_activations(X)\n",
    "        grad_z_o = y - one_hot(self.output_size, y_true)\n",
    "\n",
    "        grad_W_o = np.outer(h_2, grad_z_o)\n",
    "        grad_b_o = grad_z_o\n",
    "        \n",
    "        grad_h_2 = np.dot(grad_z_o, np.transpose(self.W_o))\n",
    "        grad_z_h_2 = grad_h_2 * dsigmoid(z_h_2)\n",
    "        grad_W_h_2 = np.outer(h_1, grad_z_h_2)\n",
    "        grad_b_h_2 = grad_z_h_2\n",
    "        \n",
    "        grad_h_1 = np.dot(grad_z_h_2, np.transpose(self.W_h_2))\n",
    "        grad_z_h_1 = grad_h_1 * dsigmoid(z_h_1)\n",
    "        grad_W_h_1 = np.outer(x, grad_z_h_1)\n",
    "        grad_b_h_1 = grad_z_h_1\n",
    "        \n",
    "        grads = {\"W_h_1\": grad_W_h_1, \"b_h_1\": grad_b_h_1,\n",
    "                 \"W_h_2\": grad_W_h_2, \"b_h_2\": grad_b_h_2,\n",
    "                 \"W_o\": grad_W_o, \"b_o\": grad_b_o}\n",
    "        return grads\n",
    "\n",
    "    def train(self, x, y, learning_rate):\n",
    "        # TODO\n",
    "        grads = self.grad_loss(x, y)\n",
    "        self.W_h_1 = self.W_h_1 - learning_rate * grads[\"W_h_1\"]\n",
    "        self.b_h_1 = self.b_h_1 - learning_rate * grads[\"b_h_1\"]\n",
    "        self.W_h_2 = self.W_h_2 - learning_rate * grads[\"W_h_2\"]\n",
    "        self.b_h_2 = self.b_h_1 - learning_rate * grads[\"b_h_2\"]   \n",
    "        \n",
    "        self.W_o = self.W_o - learning_rate * grads[\"W_o\"]\n",
    "        self.b_o = self.b_o - learning_rate * grads[\"b_o\"]\n",
    "\n",
    "    def predict(self, X):\n",
    "        # TODO\n",
    "        if len(X.shape) == 1:\n",
    "            return np.argmax(self.forward(X))\n",
    "        else:\n",
    "            return np.argmax(self.forward(X), axis=1)\n",
    "\n",
    "    def accuracy(self, X, y):\n",
    "        # TODO\n",
    "        y_preds = np.argmax(self.forward(X), axis=1)\n",
    "        return np.mean(y_preds == y)"
   ]
  },
  {
   "cell_type": "code",
   "execution_count": 86,
   "metadata": {
    "collapsed": false
   },
   "outputs": [
    {
     "name": "stdout",
     "output_type": "stream",
     "text": [
      "Random init: train loss: 2.3027, train acc: 0.102, test acc: 0.089\n"
     ]
    },
    {
     "data": {
      "image/png": "[encoded data removed]",
      "text/plain": [
       "<matplotlib.figure.Figure at 0x250259ef470>"
      ]
     },
     "metadata": {},
     "output_type": "display_data"
    },
    {
     "name": "stdout",
     "output_type": "stream",
     "text": [
      "Random init: train loss: 2.3026, train acc: 0.099, test acc: 0.100\n"
     ]
    },
    {
     "data": {
      "image/png": "[encoded data removed]",
      "text/plain": [
       "<matplotlib.figure.Figure at 0x25025a3e1d0>"
      ]
     },
     "metadata": {},
     "output_type": "display_data"
    }
   ],
   "source": [
    "######### Two layers #########\n",
    "model = NeuralNet_two_layers(n_features, n_hidden, n_hidden, n_classes)\n",
    "\n",
    "losses, accuracies, accuracies_test = [], [], []\n",
    "losses.append(model.loss(X_train, y_train))\n",
    "accuracies.append(model.accuracy(X_train, y_train))\n",
    "accuracies_test.append(model.accuracy(X_test, y_test))\n",
    "\n",
    "print(\"Random init: train loss: %0.4f, train acc: %0.3f, test acc: %0.3f\"\n",
    "      % (losses[-1], accuracies[-1], accuracies_test[-1]))\n",
    "\n",
    "for epoch in range(15):\n",
    "    for i, (x, y) in enumerate(zip(X_train, y_train)):\n",
    "        model.train(x, y, 0.1)\n",
    "\n",
    "    losses.append(model.loss(X_train, y_train))\n",
    "    accuracies.append(model.accuracy(X_train, y_train))\n",
    "    accuracies_test.append(model.accuracy(X_test, y_test))\n",
    "    \n",
    "plt.plot(accuracies, label='train')\n",
    "plt.plot(accuracies_test, label='test')\n",
    "plt.ylim(0, 1.1)\n",
    "plt.ylabel(\"accuracy\")\n",
    "plt.legend(loc='best')\n",
    "plt.title('Two layers')\n",
    "plt.show()\n",
    "\n",
    "######### One layer #########\n",
    "model = NeuralNet(n_features, n_hidden, n_classes)\n",
    "\n",
    "losses, accuracies, accuracies_test = [], [], []\n",
    "losses.append(model.loss(X_train, y_train))\n",
    "accuracies.append(model.accuracy(X_train, y_train))\n",
    "accuracies_test.append(model.accuracy(X_test, y_test))\n",
    "\n",
    "print(\"Random init: train loss: %0.4f, train acc: %0.3f, test acc: %0.3f\"\n",
    "      % (losses[-1], accuracies[-1], accuracies_test[-1]))\n",
    "\n",
    "for epoch in range(15):\n",
    "    for i, (x, y) in enumerate(zip(X_train, y_train)):\n",
    "        model.train(x, y, 0.1)\n",
    "\n",
    "    losses.append(model.loss(X_train, y_train))\n",
    "    accuracies.append(model.accuracy(X_train, y_train))\n",
    "    accuracies_test.append(model.accuracy(X_test, y_test))\n",
    "    \n",
    "plt.plot(accuracies, label='train')\n",
    "plt.plot(accuracies_test, label='test')\n",
    "plt.ylim(0, 1.1)\n",
    "plt.ylabel(\"accuracy\")\n",
    "plt.legend(loc='best')\n",
    "plt.title('One layer')\n",
    "plt.show()"
   ]
  },
  {
   "cell_type": "code",
   "execution_count": null,
   "metadata": {
    "collapsed": true
   },
   "outputs": [],
   "source": []
  }
 ],
 "metadata": {
  "anaconda-cloud": {},
  "kernelspec": {
   "display_name": "Python [conda env:py35]",
   "language": "python",
   "name": "conda-env-py35-py"
  },
  "language_info": {
   "codemirror_mode": {
    "name": "ipython",
    "version": 3
   },
   "file_extension": ".py",
   "mimetype": "text/x-python",
   "name": "python",
   "nbconvert_exporter": "python",
   "pygments_lexer": "ipython3",
   "version": "3.5.2"
  }
 },
 "nbformat": 4,
 "nbformat_minor": 1
}
