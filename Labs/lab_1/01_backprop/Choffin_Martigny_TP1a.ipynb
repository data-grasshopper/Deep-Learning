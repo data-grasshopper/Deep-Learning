{
 "cells": [
  {
   "cell_type": "markdown",
   "metadata": {
    "collapsed": true
   },
   "source": [
    "# Backpropagation and Multilayer Neural Networks\n",
    "\n",
    "### Goals: \n",
    "- Intro: train a neural network with high level framework `Keras`\n",
    "- Diving deep: implement a real gradient descent in `Numpy`\n",
    "- Auto-differentiation: the basics of `TensorFlow`\n",
    "\n",
    "### Dataset:\n",
    "- Digits: 10 class handwritten digits\n",
    "- http://scikit-learn.org/stable/modules/generated/sklearn.datasets.load_digits.html#sklearn.datasets.load_digits"
   ]
  },
  {
   "cell_type": "code",
   "execution_count": 16,
   "metadata": {
    "collapsed": false
   },
   "outputs": [],
   "source": [
    "%matplotlib inline \n",
    "# display figures in the notebook\n",
    "import matplotlib.pyplot as plt\n",
    "import numpy as np\n",
    "from sklearn.datasets import load_digits\n",
    "\n",
    "digits = load_digits()"
   ]
  },
  {
   "cell_type": "code",
   "execution_count": 17,
   "metadata": {
    "collapsed": false
   },
   "outputs": [
    {
     "data": {
      "image/png": "[encoded data removed]",
      "text/plain": [
       "<matplotlib.figure.Figure at 0x1a48cef2898>"
      ]
     },
     "metadata": {},
     "output_type": "display_data"
    }
   ],
   "source": [
    "sample_index = 45\n",
    "plt.figure(figsize=(3, 3))\n",
    "plt.imshow(digits.images[sample_index], cmap=plt.cm.gray_r,\n",
    "           interpolation='nearest')\n",
    "plt.title(\"image label: %d\" % digits.target[sample_index]);"
   ]
  },
  {
   "cell_type": "markdown",
   "metadata": {},
   "source": [
    "### Preprocessing\n",
    "\n",
    "- normalization\n",
    "- train/test split"
   ]
  },
  {
   "cell_type": "code",
   "execution_count": 18,
   "metadata": {
    "collapsed": false
   },
   "outputs": [],
   "source": [
    "from sklearn import preprocessing\n",
    "from sklearn.model_selection import train_test_split\n",
    "\n",
    "data = np.asarray(digits.data, dtype='float32')\n",
    "target = np.asarray(digits.target, dtype='int32')\n",
    "\n",
    "X_train, X_test, y_train, y_test = train_test_split(\n",
    "    data, target, test_size=0.15, random_state=37)\n",
    "\n",
    "# mean = 0 ; standard deviation = 1.0\n",
    "scaler = preprocessing.StandardScaler()\n",
    "X_train = scaler.fit_transform(X_train)\n",
    "X_test = scaler.transform(X_test)\n",
    "\n",
    "# print(scaler.mean_)\n",
    "# print(scaler.scale_)"
   ]
  },
  {
   "cell_type": "markdown",
   "metadata": {},
   "source": [
    "Let's display the one of the transformed sample (after feature standardization):"
   ]
  },
  {
   "cell_type": "code",
   "execution_count": 19,
   "metadata": {
    "collapsed": false
   },
   "outputs": [
    {
     "data": {
      "image/png": "[encoded data removed]",
      "text/plain": [
       "<matplotlib.figure.Figure at 0x1a40cf939e8>"
      ]
     },
     "metadata": {},
     "output_type": "display_data"
    }
   ],
   "source": [
    "sample_index = 45\n",
    "plt.figure(figsize=(3, 3))\n",
    "plt.imshow(X_train[sample_index].reshape(8, 8),\n",
    "           cmap=plt.cm.gray_r, interpolation='nearest')\n",
    "plt.title(\"transformed sample\\n(standardization)\");"
   ]
  },
  {
   "cell_type": "markdown",
   "metadata": {},
   "source": [
    "The scaler objects makes it possible to recover the original sample:"
   ]
  },
  {
   "cell_type": "code",
   "execution_count": 20,
   "metadata": {
    "collapsed": false
   },
   "outputs": [
    {
     "data": {
      "image/png": "[encoded data removed]",
      "text/plain": [
       "<matplotlib.figure.Figure at 0x1a48cee90b8>"
      ]
     },
     "metadata": {},
     "output_type": "display_data"
    }
   ],
   "source": [
    "plt.figure(figsize=(3, 3))\n",
    "plt.imshow(scaler.inverse_transform(X_train[sample_index]).reshape(8, 8),\n",
    "           cmap=plt.cm.gray_r, interpolation='nearest')\n",
    "plt.title(\"original sample\");"
   ]
  },
  {
   "cell_type": "code",
   "execution_count": 21,
   "metadata": {
    "collapsed": false
   },
   "outputs": [
    {
     "name": "stdout",
     "output_type": "stream",
     "text": [
      "(1527, 64) (1527,)\n",
      "(270, 64) (270,)\n"
     ]
    }
   ],
   "source": [
    "print(X_train.shape, y_train.shape)\n",
    "print(X_test.shape, y_test.shape)"
   ]
  },
  {
   "cell_type": "markdown",
   "metadata": {},
   "source": [
    "# I) Feed Forward NN with Keras\n",
    "\n",
    "Objectives of this section:\n",
    "\n",
    "- Build and train a first feedforward network using `Keras`\n",
    "    - https://keras.io/getting-started/sequential-model-guide/\n",
    "- Experiment with different optimizers, activations, size of layers, initializations\n",
    "\n",
    "### a) Keras Workflow"
   ]
  },
  {
   "cell_type": "markdown",
   "metadata": {},
   "source": [
    "To build a first neural network we need to turn the target variable into a vector \"one-hot-encoding\" representation. Here are the labels of the first samples in the training set encoded as integers:"
   ]
  },
  {
   "cell_type": "code",
   "execution_count": 22,
   "metadata": {
    "collapsed": false
   },
   "outputs": [
    {
     "data": {
      "text/plain": [
       "array([2, 9, 5])"
      ]
     },
     "execution_count": 22,
     "metadata": {},
     "output_type": "execute_result"
    }
   ],
   "source": [
    "y_train[:3]"
   ]
  },
  {
   "cell_type": "markdown",
   "metadata": {},
   "source": [
    "Keras provides a utility function to convert integer-encoded categorical variables as one-hot encoded values:"
   ]
  },
  {
   "cell_type": "code",
   "execution_count": 23,
   "metadata": {
    "collapsed": false
   },
   "outputs": [
    {
     "data": {
      "text/plain": [
       "array([[ 0.,  0.,  1.,  0.,  0.,  0.,  0.,  0.,  0.,  0.],\n",
       "       [ 0.,  0.,  0.,  0.,  0.,  0.,  0.,  0.,  0.,  1.],\n",
       "       [ 0.,  0.,  0.,  0.,  0.,  1.,  0.,  0.,  0.,  0.]])"
      ]
     },
     "execution_count": 23,
     "metadata": {},
     "output_type": "execute_result"
    }
   ],
   "source": [
    "from keras.utils.np_utils import to_categorical\n",
    "\n",
    "Y_train = to_categorical(y_train)\n",
    "Y_train[:3]"
   ]
  },
  {
   "cell_type": "markdown",
   "metadata": {},
   "source": [
    "We can now build an train a our first feed forward neural network using the high level API from keras:\n",
    "\n",
    "- first we define the model by stacking layers with the right dimensions\n",
    "- then we define a loss function and plug the SGD optimizer\n",
    "- then we feed the model the training data for fixed number of epochs"
   ]
  },
  {
   "cell_type": "code",
   "execution_count": 24,
   "metadata": {
    "collapsed": false
   },
   "outputs": [
    {
     "name": "stdout",
     "output_type": "stream",
     "text": [
      "Epoch 1/15\n",
      "1527/1527 [==============================] - 0s - loss: 0.9141 - acc: 0.7597     \n",
      "Epoch 2/15\n",
      "1527/1527 [==============================] - 0s - loss: 0.2931 - acc: 0.9456     \n",
      "Epoch 3/15\n",
      "1527/1527 [==============================] - 0s - loss: 0.1996 - acc: 0.9555     \n",
      "Epoch 4/15\n",
      "1527/1527 [==============================] - 0s - loss: 0.1551 - acc: 0.9692     \n",
      "Epoch 5/15\n",
      "1527/1527 [==============================] - 0s - loss: 0.1288 - acc: 0.9745     \n",
      "Epoch 6/15\n",
      "1527/1527 [==============================] - 0s - loss: 0.1096 - acc: 0.9784     \n",
      "Epoch 7/15\n",
      "1527/1527 [==============================] - 0s - loss: 0.0961 - acc: 0.9830     \n",
      "Epoch 8/15\n",
      "1527/1527 [==============================] - 0s - loss: 0.0848 - acc: 0.9856     \n",
      "Epoch 9/15\n",
      "1527/1527 [==============================] - 0s - loss: 0.0766 - acc: 0.9882     \n",
      "Epoch 10/15\n",
      "1527/1527 [==============================] - 0s - loss: 0.0695 - acc: 0.9902     \n",
      "Epoch 11/15\n",
      "1527/1527 [==============================] - 0s - loss: 0.0634 - acc: 0.9895     \n",
      "Epoch 12/15\n",
      "1527/1527 [==============================] - 0s - loss: 0.0583 - acc: 0.9915     \n",
      "Epoch 13/15\n",
      "1527/1527 [==============================] - 0s - loss: 0.0534 - acc: 0.9915     \n",
      "Epoch 14/15\n",
      "1527/1527 [==============================] - 0s - loss: 0.0497 - acc: 0.9928     \n",
      "Epoch 15/15\n",
      "1527/1527 [==============================] - 0s - loss: 0.0459 - acc: 0.9948     \n"
     ]
    },
    {
     "data": {
      "text/plain": [
       "<keras.callbacks.History at 0x1a48ba2a160>"
      ]
     },
     "execution_count": 24,
     "metadata": {},
     "output_type": "execute_result"
    }
   ],
   "source": [
    "import keras\n",
    "from keras.models import Sequential\n",
    "from keras.layers.core import Dense, Activation\n",
    "from keras import optimizers\n",
    "\n",
    "N = X_train.shape[1]\n",
    "H = 100\n",
    "K = 10\n",
    "\n",
    "model = Sequential()\n",
    "model.add(Dense(H, input_dim=N))\n",
    "model.add(Activation(\"tanh\"))\n",
    "model.add(Dense(K))\n",
    "model.add(Activation(\"softmax\"))\n",
    "\n",
    "model.compile(optimizer=optimizers.SGD(lr=0.1),\n",
    "              loss='categorical_crossentropy', metrics=['accuracy'])\n",
    "\n",
    "model.fit(X_train, Y_train, nb_epoch=15, batch_size=32)"
   ]
  },
  {
   "cell_type": "markdown",
   "metadata": {},
   "source": [
    "### b) Exercises: Impact of the Optimizer\n",
    "\n",
    "- Try to decrease the learning rate value by 10 or 100. What do you observe?\n",
    "\n",
    "- Try to increase the learning rate value to make the optimization diverge.\n",
    "\n",
    "- Configure the SGD optimizer to enable a Nesterov momentum of 0.9\n",
    "  \n",
    "Note that the keras API documentation is avaiable at:\n",
    "\n",
    "https://keras.io/\n",
    "\n",
    "It is also possible to learn more about the parameters of a class by using the question mark: type and evaluate:\n",
    "\n",
    "```python\n",
    "optimizers.SGD?\n",
    "```\n",
    "\n",
    "in a jupyter notebook cell."
   ]
  },
  {
   "cell_type": "markdown",
   "metadata": {},
   "source": [
    "#### Influence of the learning rate"
   ]
  },
  {
   "cell_type": "markdown",
   "metadata": {
    "collapsed": true
   },
   "source": [
    "$\\eta = 0.01$"
   ]
  },
  {
   "cell_type": "code",
   "execution_count": 25,
   "metadata": {
    "collapsed": false
   },
   "outputs": [
    {
     "name": "stdout",
     "output_type": "stream",
     "text": [
      "Epoch 1/15\n",
      "1527/1527 [==============================] - 0s - loss: 1.8089 - acc: 0.3857     \n",
      "Epoch 2/15\n",
      "1527/1527 [==============================] - 0s - loss: 1.2268 - acc: 0.6785     \n",
      "Epoch 3/15\n",
      "1527/1527 [==============================] - 0s - loss: 0.9290 - acc: 0.7773     \n",
      "Epoch 4/15\n",
      "1527/1527 [==============================] - 0s - loss: 0.7570 - acc: 0.8291     \n",
      "Epoch 5/15\n",
      "1527/1527 [==============================] - 0s - loss: 0.6444 - acc: 0.8579     \n",
      "Epoch 6/15\n",
      "1527/1527 [==============================] - 0s - loss: 0.5648 - acc: 0.8782     \n",
      "Epoch 7/15\n",
      "1527/1527 [==============================] - 0s - loss: 0.5049 - acc: 0.8933     \n",
      "Epoch 8/15\n",
      "1527/1527 [==============================] - 0s - loss: 0.4584 - acc: 0.9037     \n",
      "Epoch 9/15\n",
      "1527/1527 [==============================] - 0s - loss: 0.4206 - acc: 0.9129     \n",
      "Epoch 10/15\n",
      "1527/1527 [==============================] - 0s - loss: 0.3894 - acc: 0.9214     \n",
      "Epoch 11/15\n",
      "1527/1527 [==============================] - 0s - loss: 0.3632 - acc: 0.9299     \n",
      "Epoch 12/15\n",
      "1527/1527 [==============================] - 0s - loss: 0.3408 - acc: 0.9352     \n",
      "Epoch 13/15\n",
      "1527/1527 [==============================] - 0s - loss: 0.3213 - acc: 0.9371     \n",
      "Epoch 14/15\n",
      "1527/1527 [==============================] - 0s - loss: 0.3043 - acc: 0.9391     \n",
      "Epoch 15/15\n",
      "1527/1527 [==============================] - 0s - loss: 0.2893 - acc: 0.9437     \n"
     ]
    },
    {
     "data": {
      "text/plain": [
       "<keras.callbacks.History at 0x1a48cf26ba8>"
      ]
     },
     "execution_count": 25,
     "metadata": {},
     "output_type": "execute_result"
    }
   ],
   "source": [
    "model = Sequential()\n",
    "model.add(Dense(H, input_dim=N))\n",
    "model.add(Activation(\"tanh\"))\n",
    "model.add(Dense(K))\n",
    "model.add(Activation(\"softmax\"))\n",
    "\n",
    "model.compile(optimizer=optimizers.SGD(lr=0.01),\n",
    "              loss='categorical_crossentropy', metrics=['accuracy'])\n",
    "\n",
    "model.fit(X_train, Y_train, nb_epoch=15, batch_size=32)"
   ]
  },
  {
   "cell_type": "markdown",
   "metadata": {},
   "source": [
    "$\\eta = 0.001$"
   ]
  },
  {
   "cell_type": "code",
   "execution_count": 26,
   "metadata": {
    "collapsed": false
   },
   "outputs": [
    {
     "name": "stdout",
     "output_type": "stream",
     "text": [
      "Epoch 1/15\n",
      "1527/1527 [==============================] - 0s - loss: 2.7782 - acc: 0.0681     \n",
      "Epoch 2/15\n",
      "1527/1527 [==============================] - 0s - loss: 2.6194 - acc: 0.0917     \n",
      "Epoch 3/15\n",
      "1527/1527 [==============================] - 0s - loss: 2.4711 - acc: 0.1205     \n",
      "Epoch 4/15\n",
      "1527/1527 [==============================] - 0s - loss: 2.3330 - acc: 0.1598     \n",
      "Epoch 5/15\n",
      "1527/1527 [==============================] - 0s - loss: 2.2046 - acc: 0.1965     \n",
      "Epoch 6/15\n",
      "1527/1527 [==============================] - 0s - loss: 2.0853 - acc: 0.2600     \n",
      "Epoch 7/15\n",
      "1527/1527 [==============================] - 0s - loss: 1.9750 - acc: 0.3209     \n",
      "Epoch 8/15\n",
      "1527/1527 [==============================] - 0s - loss: 1.8731 - acc: 0.3752     \n",
      "Epoch 9/15\n",
      "1527/1527 [==============================] - 0s - loss: 1.7791 - acc: 0.4355     \n",
      "Epoch 10/15\n",
      "1527/1527 [==============================] - 0s - loss: 1.6924 - acc: 0.4892     \n",
      "Epoch 11/15\n",
      "1527/1527 [==============================] - 0s - loss: 1.6125 - acc: 0.5350     \n",
      "Epoch 12/15\n",
      "1527/1527 [==============================] - 0s - loss: 1.5392 - acc: 0.5684     \n",
      "Epoch 13/15\n",
      "1527/1527 [==============================] - 0s - loss: 1.4715 - acc: 0.6058     \n",
      "Epoch 14/15\n",
      "1527/1527 [==============================] - 0s - loss: 1.4092 - acc: 0.6339     \n",
      "Epoch 15/15\n",
      "1527/1527 [==============================] - 0s - loss: 1.3518 - acc: 0.6647     \n"
     ]
    },
    {
     "data": {
      "text/plain": [
       "<keras.callbacks.History at 0x1a48d1c16d8>"
      ]
     },
     "execution_count": 26,
     "metadata": {},
     "output_type": "execute_result"
    }
   ],
   "source": [
    "model = Sequential()\n",
    "model.add(Dense(H, input_dim=N))\n",
    "model.add(Activation(\"tanh\"))\n",
    "model.add(Dense(K))\n",
    "model.add(Activation(\"softmax\"))\n",
    "\n",
    "model.compile(optimizer=optimizers.SGD(lr=0.001),\n",
    "              loss='categorical_crossentropy', metrics=['accuracy'])\n",
    "\n",
    "model.fit(X_train, Y_train, nb_epoch=15, batch_size=32)"
   ]
  },
  {
   "cell_type": "markdown",
   "metadata": {},
   "source": [
    "Affichons les courbes de pertes pour plusieurs valeurs de $\\eta$"
   ]
  },
  {
   "cell_type": "code",
   "execution_count": 27,
   "metadata": {
    "collapsed": false
   },
   "outputs": [
    {
     "name": "stdout",
     "output_type": "stream",
     "text": [
      "Epoch 1/15\n",
      "1527/1527 [==============================] - 0s - loss: 6.6128 - acc: 0.5331     \n",
      "Epoch 2/15\n",
      "1527/1527 [==============================] - 0s - loss: 5.7482 - acc: 0.6359     \n",
      "Epoch 3/15\n",
      "1527/1527 [==============================] - 0s - loss: 5.0960 - acc: 0.6817     \n",
      "Epoch 4/15\n",
      "1527/1527 [==============================] - 0s - loss: 5.2821 - acc: 0.6686     \n",
      "Epoch 5/15\n",
      "1527/1527 [==============================] - 0s - loss: 5.4794 - acc: 0.6582     \n",
      "Epoch 6/15\n",
      "1527/1527 [==============================] - 0s - loss: 8.1112 - acc: 0.4951     \n",
      "Epoch 7/15\n",
      "1527/1527 [==============================] - 0s - loss: 7.7877 - acc: 0.5154     \n",
      "Epoch 8/15\n",
      "1527/1527 [==============================] - 0s - loss: 7.5270 - acc: 0.5324     \n",
      "Epoch 9/15\n",
      "1527/1527 [==============================] - 0s - loss: 8.1514 - acc: 0.4938     \n",
      "Epoch 10/15\n",
      "1527/1527 [==============================] - 0s - loss: 7.1898 - acc: 0.5527     \n",
      "Epoch 11/15\n",
      "1527/1527 [==============================] - 0s - loss: 5.7122 - acc: 0.6451     \n",
      "Epoch 12/15\n",
      "1527/1527 [==============================] - 0s - loss: 5.7632 - acc: 0.6424     \n",
      "Epoch 13/15\n",
      "1527/1527 [==============================] - 0s - loss: 5.7632 - acc: 0.6424     \n",
      "Epoch 14/15\n",
      "1527/1527 [==============================] - 0s - loss: 5.7632 - acc: 0.6424     \n",
      "Epoch 15/15\n",
      "1527/1527 [==============================] - 0s - loss: 5.7632 - acc: 0.6424     \n",
      "Epoch 1/15\n",
      "1527/1527 [==============================] - 0s - loss: 3.1904 - acc: 0.6811     \n",
      "Epoch 2/15\n",
      "1527/1527 [==============================] - 0s - loss: 3.4739 - acc: 0.7629     \n",
      "Epoch 3/15\n",
      "1527/1527 [==============================] - 0s - loss: 3.3564 - acc: 0.7806     \n",
      "Epoch 4/15\n",
      "1527/1527 [==============================] - 0s - loss: 3.5169 - acc: 0.7695     \n",
      "Epoch 5/15\n",
      "1527/1527 [==============================] - 0s - loss: 4.1491 - acc: 0.7354     \n",
      "Epoch 6/15\n",
      "1527/1527 [==============================] - 0s - loss: 3.8014 - acc: 0.7603     \n",
      "Epoch 7/15\n",
      "1527/1527 [==============================] - 0s - loss: 3.9831 - acc: 0.7498     \n",
      "Epoch 8/15\n",
      "1527/1527 [==============================] - 0s - loss: 4.5126 - acc: 0.7191     \n",
      "Epoch 9/15\n",
      "1527/1527 [==============================] - 0s - loss: 4.3432 - acc: 0.7263     \n",
      "Epoch 10/15\n",
      "1527/1527 [==============================] - 0s - loss: 5.8778 - acc: 0.6313     \n",
      "Epoch 11/15\n",
      "1527/1527 [==============================] - 0s - loss: 4.6876 - acc: 0.7060     \n",
      "Epoch 12/15\n",
      "1527/1527 [==============================] - 0s - loss: 4.0599 - acc: 0.7453     \n",
      "Epoch 13/15\n",
      "1527/1527 [==============================] - 0s - loss: 4.3134 - acc: 0.7322     \n",
      "Epoch 14/15\n",
      "1527/1527 [==============================] - 0s - loss: 4.4833 - acc: 0.7197     \n",
      "Epoch 15/15\n",
      "1527/1527 [==============================] - 0s - loss: 3.6491 - acc: 0.7721     \n",
      "Epoch 1/15\n",
      "1527/1527 [==============================] - 0s - loss: 0.4988 - acc: 0.8644     \n",
      "Epoch 2/15\n",
      "1527/1527 [==============================] - 0s - loss: 0.0925 - acc: 0.9804     \n",
      "Epoch 3/15\n",
      "1527/1527 [==============================] - 0s - loss: 0.0484 - acc: 0.9915     \n",
      "Epoch 4/15\n",
      "1527/1527 [==============================] - 0s - loss: 0.0296 - acc: 0.9980     \n",
      "Epoch 5/15\n",
      "1527/1527 [==============================] - 0s - loss: 0.0260 - acc: 0.9987     \n",
      "Epoch 6/15\n",
      "1527/1527 [==============================] - 0s - loss: 0.0247 - acc: 0.9987     \n",
      "Epoch 7/15\n",
      "1527/1527 [==============================] - 0s - loss: 0.0240 - acc: 0.9987     \n",
      "Epoch 8/15\n",
      "1527/1527 [==============================] - 0s - loss: 0.0236 - acc: 0.9987     \n",
      "Epoch 9/15\n",
      "1527/1527 [==============================] - 0s - loss: 0.0233 - acc: 0.9987     \n",
      "Epoch 10/15\n",
      "1527/1527 [==============================] - 0s - loss: 0.0230 - acc: 0.9987     \n",
      "Epoch 11/15\n",
      "1527/1527 [==============================] - 0s - loss: 0.0228 - acc: 0.9987     \n",
      "Epoch 12/15\n",
      "1527/1527 [==============================] - 0s - loss: 0.0226 - acc: 0.9987     \n",
      "Epoch 13/15\n",
      "1527/1527 [==============================] - 0s - loss: 0.0225 - acc: 0.9987     \n",
      "Epoch 14/15\n",
      "1527/1527 [==============================] - 0s - loss: 0.0224 - acc: 0.9987     \n",
      "Epoch 15/15\n",
      "1527/1527 [==============================] - 0s - loss: 0.0223 - acc: 0.9987     \n",
      "Epoch 1/15\n",
      "1527/1527 [==============================] - 0s - loss: 0.9960 - acc: 0.7597     \n",
      "Epoch 2/15\n",
      "1527/1527 [==============================] - 0s - loss: 0.2915 - acc: 0.9417     \n",
      "Epoch 3/15\n",
      "1527/1527 [==============================] - 0s - loss: 0.1795 - acc: 0.9633     \n",
      "Epoch 4/15\n",
      "1527/1527 [==============================] - 0s - loss: 0.1334 - acc: 0.9738     \n",
      "Epoch 5/15\n",
      "1527/1527 [==============================] - 0s - loss: 0.1049 - acc: 0.9836     \n",
      "Epoch 6/15\n",
      "1527/1527 [==============================] - 0s - loss: 0.0868 - acc: 0.9876     \n",
      "Epoch 7/15\n",
      "1527/1527 [==============================] - 0s - loss: 0.0738 - acc: 0.9889     \n",
      "Epoch 8/15\n",
      "1527/1527 [==============================] - 0s - loss: 0.0637 - acc: 0.9915     \n",
      "Epoch 9/15\n",
      "1527/1527 [==============================] - 0s - loss: 0.0557 - acc: 0.9941     \n",
      "Epoch 10/15\n",
      "1527/1527 [==============================] - 0s - loss: 0.0492 - acc: 0.9954     \n",
      "Epoch 11/15\n",
      "1527/1527 [==============================] - 0s - loss: 0.0436 - acc: 0.9961     \n",
      "Epoch 12/15\n",
      "1527/1527 [==============================] - 0s - loss: 0.0393 - acc: 0.9961     \n",
      "Epoch 13/15\n",
      "1527/1527 [==============================] - 0s - loss: 0.0354 - acc: 0.9974     \n",
      "Epoch 14/15\n",
      "1527/1527 [==============================] - 0s - loss: 0.0324 - acc: 0.9974     \n",
      "Epoch 15/15\n",
      "1527/1527 [==============================] - 0s - loss: 0.0296 - acc: 0.9980     \n",
      "Epoch 1/15\n",
      "1527/1527 [==============================] - 0s - loss: 2.3237 - acc: 0.1663     \n",
      "Epoch 2/15\n",
      "1527/1527 [==============================] - 0s - loss: 1.6745 - acc: 0.5115     \n",
      "Epoch 3/15\n",
      "1527/1527 [==============================] - 0s - loss: 1.2634 - acc: 0.7184     \n",
      "Epoch 4/15\n",
      "1527/1527 [==============================] - 0s - loss: 0.9947 - acc: 0.8140     \n",
      "Epoch 5/15\n",
      "1527/1527 [==============================] - 0s - loss: 0.8129 - acc: 0.8697     \n",
      "Epoch 6/15\n",
      "1527/1527 [==============================] - 0s - loss: 0.6844 - acc: 0.8952     \n",
      "Epoch 7/15\n",
      "1527/1527 [==============================] - 0s - loss: 0.5898 - acc: 0.9044     \n",
      "Epoch 8/15\n",
      "1527/1527 [==============================] - 0s - loss: 0.5178 - acc: 0.9175     \n",
      "Epoch 9/15\n",
      "1527/1527 [==============================] - 0s - loss: 0.4610 - acc: 0.9247     \n",
      "Epoch 10/15\n",
      "1527/1527 [==============================] - 0s - loss: 0.4154 - acc: 0.9352     \n",
      "Epoch 11/15\n",
      "1527/1527 [==============================] - 0s - loss: 0.3778 - acc: 0.9378     \n",
      "Epoch 12/15\n",
      "1527/1527 [==============================] - 0s - loss: 0.3467 - acc: 0.9424     \n",
      "Epoch 13/15\n",
      "1527/1527 [==============================] - 0s - loss: 0.3202 - acc: 0.9443     \n",
      "Epoch 14/15\n",
      "1527/1527 [==============================] - 0s - loss: 0.2978 - acc: 0.9489     \n",
      "Epoch 15/15\n",
      "1527/1527 [==============================] - 0s - loss: 0.2784 - acc: 0.9496     \n",
      "Epoch 1/15\n",
      "1527/1527 [==============================] - 0s - loss: 2.7702 - acc: 0.0963     \n",
      "Epoch 2/15\n",
      "1527/1527 [==============================] - 0s - loss: 2.6406 - acc: 0.1126     \n",
      "Epoch 3/15\n",
      "1527/1527 [==============================] - 0s - loss: 2.5208 - acc: 0.1244     \n",
      "Epoch 4/15\n",
      "1527/1527 [==============================] - 0s - loss: 2.4096 - acc: 0.1447     \n",
      "Epoch 5/15\n",
      "1527/1527 [==============================] - 0s - loss: 2.3060 - acc: 0.1624     \n",
      "Epoch 6/15\n",
      "1527/1527 [==============================] - 0s - loss: 2.2096 - acc: 0.1886     \n",
      "Epoch 7/15\n",
      "1527/1527 [==============================] - 0s - loss: 2.1196 - acc: 0.2161     \n",
      "Epoch 8/15\n",
      "1527/1527 [==============================] - 0s - loss: 2.0353 - acc: 0.2665     \n",
      "Epoch 9/15\n",
      "1527/1527 [==============================] - 0s - loss: 1.9565 - acc: 0.3261     \n",
      "Epoch 10/15\n",
      "1527/1527 [==============================] - 0s - loss: 1.8825 - acc: 0.3831     \n",
      "Epoch 11/15\n",
      "1527/1527 [==============================] - 0s - loss: 1.8132 - acc: 0.4375     \n",
      "Epoch 12/15\n",
      "1527/1527 [==============================] - 0s - loss: 1.7480 - acc: 0.4931     \n",
      "Epoch 13/15\n",
      "1527/1527 [==============================] - 0s - loss: 1.6868 - acc: 0.5416     \n",
      "Epoch 14/15\n",
      "1527/1527 [==============================] - 0s - loss: 1.6292 - acc: 0.5842     \n",
      "Epoch 15/15\n",
      "1527/1527 [==============================] - 0s - loss: 1.5751 - acc: 0.6202     \n"
     ]
    },
    {
     "data": {
      "image/png": "[encoded data removed]",
      "text/plain": [
       "<matplotlib.figure.Figure at 0x1a48e3a6550>"
      ]
     },
     "metadata": {},
     "output_type": "display_data"
    }
   ],
   "source": [
    "import time\n",
    "def train_lr(lr):\n",
    "    ############ Define dimensions of layers engaged in the neural network ##########\n",
    "    N = X_train.shape[1]\n",
    "    H = 100\n",
    "    K = 10\n",
    "\n",
    "    ######### Build the graph #########\n",
    "    model = Sequential()\n",
    "    model.add(Dense(H, input_dim=N))\n",
    "    model.add(Activation('relu')) \n",
    "    model.add(Dense(K))\n",
    "    model.add(Activation(\"softmax\"))\n",
    "\n",
    "    ############ Assign the graph with an optimizer, a olss function and a metric #######\n",
    "    model.compile(optimizer=optimizers.SGD(lr=lr),\n",
    "                  loss='categorical_crossentropy', metrics=['accuracy'])\n",
    "\n",
    "    ########### Fit the previously defined model on the train set ##############\n",
    "    start = time.time()\n",
    "    history = model.fit(X_train, Y_train, nb_epoch=15, batch_size=32)\n",
    "    exec_time = time.time() - start\n",
    "    \n",
    "    return history\n",
    "\n",
    "# Compute for several learning rates\n",
    "learning = [3, 2, 1, 0.1, 0.01, 0.001]\n",
    "histories = {}\n",
    "for rate in learning:\n",
    "    histories[rate] = train_lr(rate)\n",
    "\n",
    "# Plot the result\n",
    "t = np.arange(0, 15)\n",
    "for rate in learning:\n",
    "    plt.plot(t, histories[rate].history['loss'], label=rate)\n",
    "plt.legend()\n",
    "plt.title('Loss during training')\n",
    "plt.xlabel('Epoch')\n",
    "plt.ylabel('Loss')\n",
    "plt.show()"
   ]
  },
  {
   "cell_type": "markdown",
   "metadata": {},
   "source": [
    "On remarque que plus on diminue la valeur de $\\eta$ et plus la fonction de perte diminue lentement au fil des epochs. Ainsi, pour un nombre d'epochs fixé, si l'on divise le taux d'apprentissage originel par 10, puis par 100, on diminue la perte finale et par conséquent, la précision associée. Il y a en effet un arbitrage à effectuer sur la valeur de $\\eta$."
   ]
  },
  {
   "cell_type": "markdown",
   "metadata": {},
   "source": [
    "Essayons de faire diverger l'étape d'optimisation:"
   ]
  },
  {
   "cell_type": "code",
   "execution_count": 30,
   "metadata": {
    "collapsed": false
   },
   "outputs": [
    {
     "name": "stdout",
     "output_type": "stream",
     "text": [
      "Epoch 1/15\n",
      "1527/1527 [==============================] - 0s - loss: 13.0582 - acc: 0.1722     \n",
      "Epoch 2/15\n",
      "1527/1527 [==============================] - 0s - loss: 12.6454 - acc: 0.2155     \n",
      "Epoch 3/15\n",
      "1527/1527 [==============================] - 0s - loss: 12.6454 - acc: 0.2155     \n",
      "Epoch 4/15\n",
      "1527/1527 [==============================] - 0s - loss: 12.6454 - acc: 0.2155     \n",
      "Epoch 5/15\n",
      "1527/1527 [==============================] - 0s - loss: 12.6454 - acc: 0.2155     \n",
      "Epoch 6/15\n",
      "1527/1527 [==============================] - 0s - loss: 12.6454 - acc: 0.2155     \n",
      "Epoch 7/15\n",
      "1527/1527 [==============================] - 0s - loss: 12.6454 - acc: 0.2155     \n",
      "Epoch 8/15\n",
      "1527/1527 [==============================] - 0s - loss: 12.6454 - acc: 0.2155     \n",
      "Epoch 9/15\n",
      "1527/1527 [==============================] - 0s - loss: 12.6454 - acc: 0.2155     \n",
      "Epoch 10/15\n",
      "1527/1527 [==============================] - 0s - loss: 12.6454 - acc: 0.2155     \n",
      "Epoch 11/15\n",
      "1527/1527 [==============================] - 0s - loss: 12.6454 - acc: 0.2155     \n",
      "Epoch 12/15\n",
      "1527/1527 [==============================] - 0s - loss: 12.6454 - acc: 0.2155     \n",
      "Epoch 13/15\n",
      "1527/1527 [==============================] - 0s - loss: 12.6454 - acc: 0.2155     \n",
      "Epoch 14/15\n",
      "1527/1527 [==============================] - 0s - loss: 12.6454 - acc: 0.2155     \n",
      "Epoch 15/15\n",
      "1527/1527 [==============================] - 0s - loss: 12.6454 - acc: 0.2155     \n"
     ]
    },
    {
     "data": {
      "image/png": "[encoded data removed]",
      "text/plain": [
       "<matplotlib.figure.Figure at 0x1a492695e80>"
      ]
     },
     "metadata": {},
     "output_type": "display_data"
    }
   ],
   "source": [
    "model = Sequential()\n",
    "model.add(Dense(H, input_dim=N))\n",
    "model.add(Activation(\"tanh\"))\n",
    "model.add(Dense(K))\n",
    "model.add(Activation(\"softmax\"))\n",
    "\n",
    "model.compile(optimizer=optimizers.SGD(lr=1000),\n",
    "              loss='categorical_crossentropy', metrics=['accuracy'])\n",
    "\n",
    "history = model.fit(X_train, Y_train, nb_epoch=15, batch_size=32)\n",
    "plt.plot(history.history['loss'])\n",
    "plt.title('Loss during training')\n",
    "plt.show()"
   ]
  },
  {
   "cell_type": "markdown",
   "metadata": {},
   "source": [
    "Après plusieurs essais, on voit qu'il est difficile de faire diverger cette étape. Le \"mieux\" que l'on puisse faire, en augmentant le taux d'apprentissage (jusqu'à 1000 par exemple) est de bloquer l'optimisation au bout d'un moment, car l'algorithme devient trop imprécis pour converger efficacement."
   ]
  },
  {
   "cell_type": "markdown",
   "metadata": {},
   "source": [
    "#### Nesterov momentum of 0.9"
   ]
  },
  {
   "cell_type": "code",
   "execution_count": 31,
   "metadata": {
    "collapsed": false
   },
   "outputs": [
    {
     "name": "stdout",
     "output_type": "stream",
     "text": [
      "Epoch 1/15\n",
      "1527/1527 [==============================] - 0s - loss: 0.3779 - acc: 0.8900     \n",
      "Epoch 2/15\n",
      "1527/1527 [==============================] - 0s - loss: 0.0860 - acc: 0.9758     \n",
      "Epoch 3/15\n",
      "1527/1527 [==============================] - 0s - loss: 0.0391 - acc: 0.9895     \n",
      "Epoch 4/15\n",
      "1527/1527 [==============================] - 0s - loss: 0.0182 - acc: 0.9980     \n",
      "Epoch 5/15\n",
      "1527/1527 [==============================] - 0s - loss: 0.0104 - acc: 1.0000     \n",
      "Epoch 6/15\n",
      "1527/1527 [==============================] - 0s - loss: 0.0075 - acc: 1.0000     \n",
      "Epoch 7/15\n",
      "1527/1527 [==============================] - 0s - loss: 0.0059 - acc: 1.0000     \n",
      "Epoch 8/15\n",
      "1527/1527 [==============================] - 0s - loss: 0.0050 - acc: 1.0000     \n",
      "Epoch 9/15\n",
      "1527/1527 [==============================] - 0s - loss: 0.0042 - acc: 1.0000     \n",
      "Epoch 10/15\n",
      "1527/1527 [==============================] - 0s - loss: 0.0037 - acc: 1.0000     \n",
      "Epoch 11/15\n",
      "1527/1527 [==============================] - 0s - loss: 0.0033 - acc: 1.0000     \n",
      "Epoch 12/15\n",
      "1527/1527 [==============================] - 0s - loss: 0.0030 - acc: 1.0000     \n",
      "Epoch 13/15\n",
      "1527/1527 [==============================] - 0s - loss: 0.0027 - acc: 1.0000     \n",
      "Epoch 14/15\n",
      "1527/1527 [==============================] - 0s - loss: 0.0025 - acc: 1.0000     \n",
      "Epoch 15/15\n",
      "1527/1527 [==============================] - 0s - loss: 0.0023 - acc: 1.0000     \n"
     ]
    },
    {
     "data": {
      "image/png": "[encoded data removed]",
      "text/plain": [
       "<matplotlib.figure.Figure at 0x1a492980eb8>"
      ]
     },
     "metadata": {},
     "output_type": "display_data"
    }
   ],
   "source": [
    "model = Sequential()\n",
    "model.add(Dense(H, input_dim=N))\n",
    "model.add(Activation(\"tanh\"))\n",
    "model.add(Dense(K))\n",
    "model.add(Activation(\"softmax\"))\n",
    "\n",
    "model.compile(optimizer=optimizers.SGD(lr=0.1,nesterov=True,momentum=0.9),\n",
    "              loss='categorical_crossentropy', metrics=['accuracy'])\n",
    "\n",
    "history = model.fit(X_train, Y_train, nb_epoch=15, batch_size=32)\n",
    "plt.plot(history.history['loss'])\n",
    "plt.title('Loss during training')\n",
    "plt.show()"
   ]
  },
  {
   "cell_type": "markdown",
   "metadata": {},
   "source": [
    "On constate ici que l'optimisation est non seulement plus rapide, mais aussi plus efficace, car elle permet d'atteindre une perte de 2.2e-3 au bout de 15 epochs (précision de 1 sur le train set). C'est conforme à ce à quoi on pouvait s'attendre."
   ]
  },
  {
   "cell_type": "markdown",
   "metadata": {},
   "source": [
    "Comparons les convergences pour quelques valeurs du momentum :"
   ]
  },
  {
   "cell_type": "code",
   "execution_count": 42,
   "metadata": {
    "collapsed": false
   },
   "outputs": [
    {
     "name": "stdout",
     "output_type": "stream",
     "text": [
      "Epoch 1/15\n",
      "1527/1527 [==============================] - 1s - loss: 1.2058 - acc: 0.6523     \n",
      "Epoch 2/15\n",
      "1527/1527 [==============================] - 0s - loss: 0.2951 - acc: 0.9325     \n",
      "Epoch 3/15\n",
      "1527/1527 [==============================] - 0s - loss: 0.1759 - acc: 0.9594     \n",
      "Epoch 4/15\n",
      "1527/1527 [==============================] - 0s - loss: 0.1274 - acc: 0.9731     \n",
      "Epoch 5/15\n",
      "1527/1527 [==============================] - 0s - loss: 0.1001 - acc: 0.9817     \n",
      "Epoch 6/15\n",
      "1527/1527 [==============================] - 0s - loss: 0.0823 - acc: 0.9849     \n",
      "Epoch 7/15\n",
      "1527/1527 [==============================] - 0s - loss: 0.0692 - acc: 0.9882     \n",
      "Epoch 8/15\n",
      "1527/1527 [==============================] - 0s - loss: 0.0593 - acc: 0.9908     \n",
      "Epoch 9/15\n",
      "1527/1527 [==============================] - 0s - loss: 0.0516 - acc: 0.9948     \n",
      "Epoch 10/15\n",
      "1527/1527 [==============================] - 0s - loss: 0.0455 - acc: 0.9961     \n",
      "Epoch 11/15\n",
      "1527/1527 [==============================] - 0s - loss: 0.0409 - acc: 0.9961     \n",
      "Epoch 12/15\n",
      "1527/1527 [==============================] - 0s - loss: 0.0367 - acc: 0.9967     \n",
      "Epoch 13/15\n",
      "1527/1527 [==============================] - 0s - loss: 0.0333 - acc: 0.9974     \n",
      "Epoch 14/15\n",
      "1527/1527 [==============================] - 0s - loss: 0.0304 - acc: 0.9987     \n",
      "Epoch 15/15\n",
      "1527/1527 [==============================] - 0s - loss: 0.0280 - acc: 0.9974     \n",
      "Epoch 1/15\n",
      "1527/1527 [==============================] - 1s - loss: 1.8899 - acc: 0.3936     \n",
      "Epoch 2/15\n",
      "1527/1527 [==============================] - 0s - loss: 1.0439 - acc: 0.7911     \n",
      "Epoch 3/15\n",
      "1527/1527 [==============================] - 0s - loss: 0.7092 - acc: 0.8631     \n",
      "Epoch 4/15\n",
      "1527/1527 [==============================] - 0s - loss: 0.5378 - acc: 0.8972     \n",
      "Epoch 5/15\n",
      "1527/1527 [==============================] - 0s - loss: 0.4335 - acc: 0.9136     \n",
      "Epoch 6/15\n",
      "1527/1527 [==============================] - 0s - loss: 0.3632 - acc: 0.9280     \n",
      "Epoch 7/15\n",
      "1527/1527 [==============================] - 0s - loss: 0.3130 - acc: 0.9424     \n",
      "Epoch 8/15\n",
      "1527/1527 [==============================] - 0s - loss: 0.2751 - acc: 0.9496     \n",
      "Epoch 9/15\n",
      "1527/1527 [==============================] - 0s - loss: 0.2461 - acc: 0.9561     \n",
      "Epoch 10/15\n",
      "1527/1527 [==============================] - 0s - loss: 0.2226 - acc: 0.9607     \n",
      "Epoch 11/15\n",
      "1527/1527 [==============================] - 0s - loss: 0.2037 - acc: 0.9633     \n",
      "Epoch 12/15\n",
      "1527/1527 [==============================] - 0s - loss: 0.1879 - acc: 0.9653     \n",
      "Epoch 13/15\n",
      "1527/1527 [==============================] - 0s - loss: 0.1746 - acc: 0.9666     \n",
      "Epoch 14/15\n",
      "1527/1527 [==============================] - 0s - loss: 0.1630 - acc: 0.9699     \n",
      "Epoch 15/15\n",
      "1527/1527 [==============================] - 0s - loss: 0.1532 - acc: 0.9705     \n",
      "Epoch 1/15\n",
      "1527/1527 [==============================] - 1s - loss: 2.1161 - acc: 0.2783     \n",
      "Epoch 2/15\n",
      "1527/1527 [==============================] - 0s - loss: 1.4657 - acc: 0.6267     \n",
      "Epoch 3/15\n",
      "1527/1527 [==============================] - 0s - loss: 1.0808 - acc: 0.7917     \n",
      "Epoch 4/15\n",
      "1527/1527 [==============================] - 0s - loss: 0.8419 - acc: 0.8441     \n",
      "Epoch 5/15\n",
      "1527/1527 [==============================] - 0s - loss: 0.6839 - acc: 0.8769     \n",
      "Epoch 6/15\n",
      "1527/1527 [==============================] - 0s - loss: 0.5734 - acc: 0.9011     \n",
      "Epoch 7/15\n",
      "1527/1527 [==============================] - 0s - loss: 0.4934 - acc: 0.9109     \n",
      "Epoch 8/15\n",
      "1527/1527 [==============================] - 0s - loss: 0.4333 - acc: 0.9240     \n",
      "Epoch 9/15\n",
      "1527/1527 [==============================] - 0s - loss: 0.3871 - acc: 0.9325     \n",
      "Epoch 10/15\n",
      "1527/1527 [==============================] - 0s - loss: 0.3502 - acc: 0.9365     \n",
      "Epoch 11/15\n",
      "1527/1527 [==============================] - 0s - loss: 0.3201 - acc: 0.9424     \n",
      "Epoch 12/15\n",
      "1527/1527 [==============================] - 0s - loss: 0.2951 - acc: 0.9450     \n",
      "Epoch 13/15\n",
      "1527/1527 [==============================] - 0s - loss: 0.2741 - acc: 0.9509     \n",
      "Epoch 14/15\n",
      "1527/1527 [==============================] - 0s - loss: 0.2559 - acc: 0.9555     \n",
      "Epoch 15/15\n",
      "1527/1527 [==============================] - 0s - loss: 0.2404 - acc: 0.9561     \n",
      "Epoch 1/15\n",
      "1527/1527 [==============================] - 1s - loss: 2.2557 - acc: 0.2423     \n",
      "Epoch 2/15\n",
      "1527/1527 [==============================] - 0s - loss: 1.5866 - acc: 0.5959     \n",
      "Epoch 3/15\n",
      "1527/1527 [==============================] - 0s - loss: 1.1716 - acc: 0.7642     \n",
      "Epoch 4/15\n",
      "1527/1527 [==============================] - 0s - loss: 0.9087 - acc: 0.8389     \n",
      "Epoch 5/15\n",
      "1527/1527 [==============================] - 0s - loss: 0.7369 - acc: 0.8762     \n",
      "Epoch 6/15\n",
      "1527/1527 [==============================] - 0s - loss: 0.6186 - acc: 0.8933     \n",
      "Epoch 7/15\n",
      "1527/1527 [==============================] - 0s - loss: 0.5328 - acc: 0.9083     \n",
      "Epoch 8/15\n",
      "1527/1527 [==============================] - 0s - loss: 0.4684 - acc: 0.9175     \n",
      "Epoch 9/15\n",
      "1527/1527 [==============================] - 0s - loss: 0.4184 - acc: 0.9325     \n",
      "Epoch 10/15\n",
      "1527/1527 [==============================] - 0s - loss: 0.3782 - acc: 0.9371     \n",
      "Epoch 11/15\n",
      "1527/1527 [==============================] - 0s - loss: 0.3454 - acc: 0.9456     \n",
      "Epoch 12/15\n",
      "1527/1527 [==============================] - 0s - loss: 0.3182 - acc: 0.9483     \n",
      "Epoch 13/15\n",
      "1527/1527 [==============================] - 0s - loss: 0.2953 - acc: 0.9522     \n",
      "Epoch 14/15\n",
      "1527/1527 [==============================] - 0s - loss: 0.2756 - acc: 0.9528     \n",
      "Epoch 15/15\n",
      "1527/1527 [==============================] - 0s - loss: 0.2584 - acc: 0.9555     \n"
     ]
    },
    {
     "data": {
      "image/png": "[encoded data removed]",
      "text/plain": [
       "<matplotlib.figure.Figure at 0x1a4a9a11240>"
      ]
     },
     "metadata": {},
     "output_type": "display_data"
    }
   ],
   "source": [
    "def train_nesterov(moementum):\n",
    "    ############ Define dimensions of layers engaged in the neural network ##########\n",
    "    N = X_train.shape[1]\n",
    "    H = 100\n",
    "    K = 10\n",
    "\n",
    "    ######### Build the graph #########\n",
    "    model = Sequential()\n",
    "    model.add(Dense(H, input_dim=N))\n",
    "    model.add(Activation('relu')) \n",
    "    model.add(Dense(K))\n",
    "    model.add(Activation(\"softmax\"))\n",
    "\n",
    "    ############ Assign the graph with an optimizer, a olss function and a metric #######\n",
    "    model.compile(optimizer=optimizers.SGD(nesterov=True, momentum=momentum),\n",
    "                  loss='categorical_crossentropy', metrics=['accuracy'])\n",
    "\n",
    "    ########### Fit the previously defined model on the train set ##############\n",
    "    start = time.time()\n",
    "    history = model.fit(X_train, Y_train, nb_epoch=15, batch_size=32)\n",
    "    exec_time = time.time() - start\n",
    "    \n",
    "    return history\n",
    "\n",
    "momentums = [0.9, 0.5, 0.1, 0.05]\n",
    "histories = {}\n",
    "for momentum in momentums:\n",
    "    histories[momentum] = train_nesterov(momentum)\n",
    "    \n",
    "t = np.arange(0, 15)\n",
    "for momentum in momentums:\n",
    "    plt.plot(t, histories[momentum].history['loss'], label=momentum)\n",
    "plt.legend()\n",
    "plt.title('Loss during training')\n",
    "plt.xlabel('Epoch')\n",
    "plt.ylabel('Loss')\n",
    "plt.show()"
   ]
  },
  {
   "cell_type": "code",
   "execution_count": 32,
   "metadata": {
    "collapsed": false
   },
   "outputs": [],
   "source": [
    "# %load solutions/keras_sgd_and_momentum.py"
   ]
  },
  {
   "cell_type": "markdown",
   "metadata": {},
   "source": [
    "- Replace the SGD optimizer by the Adam optimizer from keras and run it\n",
    "  with the default parameters.\n",
    "\n",
    "- Add another hidden layer and use the \"Rectified Linear Unit\" for each\n",
    "  hidden layer. Can you still train the model with Adam with its default global\n",
    "  learning rate?\n",
    "\n",
    "- Bonus: try the Adadelta optimizer (no learning rate to set).\n",
    "\n",
    "Hint: use `optimizers.<TAB>` to tab-complete the list of implemented optimizers in Keras."
   ]
  },
  {
   "cell_type": "markdown",
   "metadata": {},
   "source": [
    "#### Adam optimizer"
   ]
  },
  {
   "cell_type": "code",
   "execution_count": 34,
   "metadata": {
    "collapsed": false
   },
   "outputs": [
    {
     "name": "stdout",
     "output_type": "stream",
     "text": [
      "Epoch 1/15\n",
      "1527/1527 [==============================] - 0s - loss: 1.4050 - acc: 0.5914     \n",
      "Epoch 2/15\n",
      "1527/1527 [==============================] - 0s - loss: 0.5546 - acc: 0.8743     \n",
      "Epoch 3/15\n",
      "1527/1527 [==============================] - 0s - loss: 0.3411 - acc: 0.9352     \n",
      "Epoch 4/15\n",
      "1527/1527 [==============================] - 0s - loss: 0.2457 - acc: 0.9542     \n",
      "Epoch 5/15\n",
      "1527/1527 [==============================] - 0s - loss: 0.1899 - acc: 0.9705     \n",
      "Epoch 6/15\n",
      "1527/1527 [==============================] - 0s - loss: 0.1548 - acc: 0.9745     \n",
      "Epoch 7/15\n",
      "1527/1527 [==============================] - 0s - loss: 0.1309 - acc: 0.9797     \n",
      "Epoch 8/15\n",
      "1527/1527 [==============================] - 0s - loss: 0.1127 - acc: 0.9823     \n",
      "Epoch 9/15\n",
      "1527/1527 [==============================] - 0s - loss: 0.0977 - acc: 0.9849     \n",
      "Epoch 10/15\n",
      "1527/1527 [==============================] - 0s - loss: 0.0868 - acc: 0.9869     \n",
      "Epoch 11/15\n",
      "1527/1527 [==============================] - 0s - loss: 0.0765 - acc: 0.9889     \n",
      "Epoch 12/15\n",
      "1527/1527 [==============================] - 0s - loss: 0.0681 - acc: 0.9908     \n",
      "Epoch 13/15\n",
      "1527/1527 [==============================] - 0s - loss: 0.0615 - acc: 0.9921     \n",
      "Epoch 14/15\n",
      "1527/1527 [==============================] - 0s - loss: 0.0557 - acc: 0.9928     \n",
      "Epoch 15/15\n",
      "1527/1527 [==============================] - 0s - loss: 0.0501 - acc: 0.9941     \n"
     ]
    },
    {
     "data": {
      "image/png": "[encoded data removed]",
      "text/plain": [
       "<matplotlib.figure.Figure at 0x1a493f82b70>"
      ]
     },
     "metadata": {},
     "output_type": "display_data"
    }
   ],
   "source": [
    "model = Sequential()\n",
    "model.add(Dense(H, input_dim=N))\n",
    "model.add(Activation(\"tanh\"))\n",
    "model.add(Dense(K))\n",
    "model.add(Activation(\"softmax\"))\n",
    "\n",
    "model.compile(optimizer=optimizers.Adam(),\n",
    "              loss='categorical_crossentropy', metrics=['accuracy'])\n",
    "\n",
    "history = model.fit(X_train, Y_train, nb_epoch=15, batch_size=32)\n",
    "plt.plot(history.history['loss'])\n",
    "plt.title('Loss during training')\n",
    "plt.show()"
   ]
  },
  {
   "cell_type": "markdown",
   "metadata": {},
   "source": [
    "Ici, Adam semble légèrement moins performant que le SGD classique (et nettement moins que le SGD avec Nesterov's momentum)."
   ]
  },
  {
   "cell_type": "code",
   "execution_count": 35,
   "metadata": {
    "collapsed": false
   },
   "outputs": [
    {
     "name": "stdout",
     "output_type": "stream",
     "text": [
      "Epoch 1/15\n",
      "1527/1527 [==============================] - 1s - loss: 2.3057 - acc: 0.1925     \n",
      "Epoch 2/15\n",
      "1527/1527 [==============================] - 0s - loss: 1.6729 - acc: 0.5370     \n",
      "Epoch 3/15\n",
      "1527/1527 [==============================] - 0s - loss: 1.2608 - acc: 0.7217     \n",
      "Epoch 4/15\n",
      "1527/1527 [==============================] - 0s - loss: 0.9909 - acc: 0.8055     \n",
      "Epoch 5/15\n",
      "1527/1527 [==============================] - 0s - loss: 0.8085 - acc: 0.8435     \n",
      "Epoch 6/15\n",
      "1527/1527 [==============================] - 0s - loss: 0.6801 - acc: 0.8723     \n",
      "Epoch 7/15\n",
      "1527/1527 [==============================] - 0s - loss: 0.5859 - acc: 0.8893     \n",
      "Epoch 8/15\n",
      "1527/1527 [==============================] - 0s - loss: 0.5141 - acc: 0.9077     \n",
      "Epoch 9/15\n",
      "1527/1527 [==============================] - 0s - loss: 0.4579 - acc: 0.9201     \n",
      "Epoch 10/15\n",
      "1527/1527 [==============================] - 0s - loss: 0.4126 - acc: 0.9299     \n",
      "Epoch 11/15\n",
      "1527/1527 [==============================] - 0s - loss: 0.3752 - acc: 0.9378     \n",
      "Epoch 12/15\n",
      "1527/1527 [==============================] - 0s - loss: 0.3444 - acc: 0.9411     \n",
      "Epoch 13/15\n",
      "1527/1527 [==============================] - 0s - loss: 0.3180 - acc: 0.9470     \n",
      "Epoch 14/15\n",
      "1527/1527 [==============================] - 0s - loss: 0.2955 - acc: 0.9496     \n",
      "Epoch 15/15\n",
      "1527/1527 [==============================] - 0s - loss: 0.2760 - acc: 0.9542     \n",
      "Epoch 1/15\n",
      "1527/1527 [==============================] - 0s - loss: 1.3222 - acc: 0.6562     \n",
      "Epoch 2/15\n",
      "1527/1527 [==============================] - 0s - loss: 0.4964 - acc: 0.9096     \n",
      "Epoch 3/15\n",
      "1527/1527 [==============================] - 0s - loss: 0.2541 - acc: 0.9522     \n",
      "Epoch 4/15\n",
      "1527/1527 [==============================] - 0s - loss: 0.1578 - acc: 0.9705     \n",
      "Epoch 5/15\n",
      "1527/1527 [==============================] - 0s - loss: 0.1090 - acc: 0.9790     \n",
      "Epoch 6/15\n",
      "1527/1527 [==============================] - 0s - loss: 0.0794 - acc: 0.9876     \n",
      "Epoch 7/15\n",
      "1527/1527 [==============================] - 0s - loss: 0.0607 - acc: 0.9902     \n",
      "Epoch 8/15\n",
      "1527/1527 [==============================] - 0s - loss: 0.0469 - acc: 0.9948     \n",
      "Epoch 9/15\n",
      "1527/1527 [==============================] - 0s - loss: 0.0373 - acc: 0.9961     \n",
      "Epoch 10/15\n",
      "1527/1527 [==============================] - 0s - loss: 0.0294 - acc: 0.9967     \n",
      "Epoch 11/15\n",
      "1527/1527 [==============================] - 0s - loss: 0.0229 - acc: 0.9974     \n",
      "Epoch 12/15\n",
      "1527/1527 [==============================] - 0s - loss: 0.0180 - acc: 0.9987     \n",
      "Epoch 13/15\n",
      "1527/1527 [==============================] - 0s - loss: 0.0141 - acc: 0.9987     \n",
      "Epoch 14/15\n",
      "1527/1527 [==============================] - 0s - loss: 0.0115 - acc: 0.9993     \n",
      "Epoch 15/15\n",
      "1527/1527 [==============================] - 0s - loss: 0.0089 - acc: 1.0000     \n",
      "Epoch 1/15\n",
      "1527/1527 [==============================] - 0s - loss: 0.8246 - acc: 0.8022     \n",
      "Epoch 2/15\n",
      "1527/1527 [==============================] - 0s - loss: 0.2917 - acc: 0.9483     \n",
      "Epoch 3/15\n",
      "1527/1527 [==============================] - 0s - loss: 0.1997 - acc: 0.9666     \n",
      "Epoch 4/15\n",
      "1527/1527 [==============================] - 0s - loss: 0.1550 - acc: 0.9712     \n",
      "Epoch 5/15\n",
      "1527/1527 [==============================] - 0s - loss: 0.1277 - acc: 0.9751     \n",
      "Epoch 6/15\n",
      "1527/1527 [==============================] - 0s - loss: 0.1086 - acc: 0.9817     \n",
      "Epoch 7/15\n",
      "1527/1527 [==============================] - 0s - loss: 0.0950 - acc: 0.9849     \n",
      "Epoch 8/15\n",
      "1527/1527 [==============================] - 0s - loss: 0.0846 - acc: 0.9876     \n",
      "Epoch 9/15\n",
      "1527/1527 [==============================] - 0s - loss: 0.0764 - acc: 0.9902     \n",
      "Epoch 10/15\n",
      "1527/1527 [==============================] - 0s - loss: 0.0696 - acc: 0.9915     \n",
      "Epoch 11/15\n",
      "1527/1527 [==============================] - 0s - loss: 0.0638 - acc: 0.9928     \n",
      "Epoch 12/15\n",
      "1527/1527 [==============================] - 0s - loss: 0.0590 - acc: 0.9935     \n",
      "Epoch 13/15\n",
      "1527/1527 [==============================] - 0s - loss: 0.0547 - acc: 0.9935     \n",
      "Epoch 14/15\n",
      "1527/1527 [==============================] - 0s - loss: 0.0512 - acc: 0.9961     \n",
      "Epoch 15/15\n",
      "1527/1527 [==============================] - 0s - loss: 0.0480 - acc: 0.9967     \n",
      "Epoch 1/15\n",
      "1527/1527 [==============================] - 0s - loss: 2.0696 - acc: 0.2829     \n",
      "Epoch 2/15\n",
      "1527/1527 [==============================] - 0s - loss: 1.3192 - acc: 0.7250     \n",
      "Epoch 3/15\n",
      "1527/1527 [==============================] - 0s - loss: 0.9042 - acc: 0.8363     \n",
      "Epoch 4/15\n",
      "1527/1527 [==============================] - 0s - loss: 0.6668 - acc: 0.8887     \n",
      "Epoch 5/15\n",
      "1527/1527 [==============================] - 0s - loss: 0.5180 - acc: 0.9057     \n",
      "Epoch 6/15\n",
      "1527/1527 [==============================] - 0s - loss: 0.4175 - acc: 0.9208     \n",
      "Epoch 7/15\n",
      "1527/1527 [==============================] - 0s - loss: 0.3453 - acc: 0.9332     \n",
      "Epoch 8/15\n",
      "1527/1527 [==============================] - 0s - loss: 0.2919 - acc: 0.9424     \n",
      "Epoch 9/15\n",
      "1527/1527 [==============================] - 0s - loss: 0.2507 - acc: 0.9502     \n",
      "Epoch 10/15\n",
      "1527/1527 [==============================] - 0s - loss: 0.2187 - acc: 0.9561     \n",
      "Epoch 11/15\n",
      "1527/1527 [==============================] - 0s - loss: 0.1928 - acc: 0.9620     \n",
      "Epoch 12/15\n",
      "1527/1527 [==============================] - 0s - loss: 0.1718 - acc: 0.9659     \n",
      "Epoch 13/15\n",
      "1527/1527 [==============================] - 0s - loss: 0.1541 - acc: 0.9699     \n",
      "Epoch 14/15\n",
      "1527/1527 [==============================] - 0s - loss: 0.1394 - acc: 0.9745     \n",
      "Epoch 15/15\n",
      "1527/1527 [==============================] - 0s - loss: 0.1267 - acc: 0.9764     \n",
      "Epoch 1/15\n",
      "1527/1527 [==============================] - 1s - loss: 1.5864 - acc: 0.5272     \n",
      "Epoch 2/15\n",
      "1527/1527 [==============================] - 0s - loss: 0.6217 - acc: 0.8736     \n",
      "Epoch 3/15\n",
      "1527/1527 [==============================] - 0s - loss: 0.3463 - acc: 0.9384     \n",
      "Epoch 4/15\n",
      "1527/1527 [==============================] - 0s - loss: 0.2321 - acc: 0.9607     \n",
      "Epoch 5/15\n",
      "1527/1527 [==============================] - 0s - loss: 0.1734 - acc: 0.9699     \n",
      "Epoch 6/15\n",
      "1527/1527 [==============================] - 0s - loss: 0.1364 - acc: 0.9771     \n",
      "Epoch 7/15\n",
      "1527/1527 [==============================] - 0s - loss: 0.1110 - acc: 0.9810     \n",
      "Epoch 8/15\n",
      "1527/1527 [==============================] - 0s - loss: 0.0933 - acc: 0.9862     \n",
      "Epoch 9/15\n",
      "1527/1527 [==============================] - 0s - loss: 0.0784 - acc: 0.9921     \n",
      "Epoch 10/15\n",
      "1527/1527 [==============================] - 0s - loss: 0.0676 - acc: 0.9941     \n",
      "Epoch 11/15\n",
      "1527/1527 [==============================] - 0s - loss: 0.0582 - acc: 0.9948     \n",
      "Epoch 12/15\n",
      "1527/1527 [==============================] - 0s - loss: 0.0509 - acc: 0.9961     \n",
      "Epoch 13/15\n",
      "1527/1527 [==============================] - 0s - loss: 0.0442 - acc: 0.9961     \n",
      "Epoch 14/15\n",
      "1527/1527 [==============================] - 0s - loss: 0.0391 - acc: 0.9974     \n",
      "Epoch 15/15\n",
      "1527/1527 [==============================] - 0s - loss: 0.0345 - acc: 0.9974     \n",
      "Epoch 1/15\n",
      "1527/1527 [==============================] - 0s - loss: 1.5537 - acc: 0.5553     \n",
      "Epoch 2/15\n",
      "1527/1527 [==============================] - 0s - loss: 0.6973 - acc: 0.8710     \n",
      "Epoch 3/15\n",
      "1527/1527 [==============================] - 0s - loss: 0.4394 - acc: 0.9208     \n",
      "Epoch 4/15\n",
      "1527/1527 [==============================] - 0s - loss: 0.3162 - acc: 0.9437     \n",
      "Epoch 5/15\n",
      "1527/1527 [==============================] - 0s - loss: 0.2451 - acc: 0.9574     \n",
      "Epoch 6/15\n",
      "1527/1527 [==============================] - 0s - loss: 0.1993 - acc: 0.9653     \n",
      "Epoch 7/15\n",
      "1527/1527 [==============================] - 0s - loss: 0.1671 - acc: 0.9731     \n",
      "Epoch 8/15\n",
      "1527/1527 [==============================] - 0s - loss: 0.1427 - acc: 0.9771     \n",
      "Epoch 9/15\n",
      "1527/1527 [==============================] - 0s - loss: 0.1239 - acc: 0.9830     \n",
      "Epoch 10/15\n",
      "1527/1527 [==============================] - 0s - loss: 0.1093 - acc: 0.9856     \n",
      "Epoch 11/15\n",
      "1527/1527 [==============================] - 0s - loss: 0.0972 - acc: 0.9869     \n",
      "Epoch 12/15\n",
      "1527/1527 [==============================] - 0s - loss: 0.0869 - acc: 0.9895     \n",
      "Epoch 13/15\n",
      "1527/1527 [==============================] - 0s - loss: 0.0783 - acc: 0.9902     \n",
      "Epoch 14/15\n",
      "1527/1527 [==============================] - 0s - loss: 0.0708 - acc: 0.9902     \n",
      "Epoch 15/15\n",
      "1527/1527 [==============================] - 0s - loss: 0.0643 - acc: 0.9908     \n",
      "Epoch 1/15\n",
      "1527/1527 [==============================] - 1s - loss: 1.1782 - acc: 0.7105     \n",
      "Epoch 2/15\n",
      "1527/1527 [==============================] - 0s - loss: 0.3288 - acc: 0.9312     \n",
      "Epoch 3/15\n",
      "1527/1527 [==============================] - 0s - loss: 0.1722 - acc: 0.9718     \n",
      "Epoch 4/15\n",
      "1527/1527 [==============================] - 0s - loss: 0.1139 - acc: 0.9836     \n",
      "Epoch 5/15\n",
      "1527/1527 [==============================] - 0s - loss: 0.0821 - acc: 0.9902     \n",
      "Epoch 6/15\n",
      "1527/1527 [==============================] - 0s - loss: 0.0621 - acc: 0.9915     \n",
      "Epoch 7/15\n",
      "1527/1527 [==============================] - 0s - loss: 0.0480 - acc: 0.9954     \n",
      "Epoch 8/15\n",
      "1527/1527 [==============================] - 0s - loss: 0.0378 - acc: 0.9967     \n",
      "Epoch 9/15\n",
      "1527/1527 [==============================] - 0s - loss: 0.0301 - acc: 0.9987     \n",
      "Epoch 10/15\n",
      "1527/1527 [==============================] - 0s - loss: 0.0247 - acc: 0.9987     \n",
      "Epoch 11/15\n",
      "1527/1527 [==============================] - 0s - loss: 0.0205 - acc: 0.9993     \n",
      "Epoch 12/15\n",
      "1527/1527 [==============================] - 0s - loss: 0.0170 - acc: 1.0000     \n",
      "Epoch 13/15\n",
      "1527/1527 [==============================] - 0s - loss: 0.0143 - acc: 1.0000     \n",
      "Epoch 14/15\n",
      "1527/1527 [==============================] - 0s - loss: 0.0123 - acc: 1.0000     \n",
      "Epoch 15/15\n",
      "1527/1527 [==============================] - 0s - loss: 0.0107 - acc: 1.0000     \n"
     ]
    },
    {
     "data": {
      "image/png": "[encoded data removed]",
      "text/plain": [
       "<matplotlib.figure.Figure at 0x1a498659c50>"
      ]
     },
     "metadata": {},
     "output_type": "display_data"
    }
   ],
   "source": [
    "def train_optimizer(optimizer):\n",
    "    ############ Define dimensions of layers engaged in the neural network ##########\n",
    "    N = X_train.shape[1]\n",
    "    H = 100\n",
    "    K = 10\n",
    "\n",
    "    ######### Build the graph #########\n",
    "    model = Sequential()\n",
    "    model.add(Dense(H, input_dim=N))\n",
    "    model.add(Activation('relu')) \n",
    "    model.add(Dense(K))\n",
    "    model.add(Activation(\"softmax\"))\n",
    "\n",
    "    ############ Assign the graph with an optimizer, a olss function and a metric #######\n",
    "    model.compile(optimizer=optimizers.__dict__[optimizer](),\n",
    "                  loss='categorical_crossentropy', metrics=['accuracy'])\n",
    "\n",
    "    ########### Fit the previously defined model on the train set ##############\n",
    "    start = time.time()\n",
    "    history = model.fit(X_train, Y_train, nb_epoch=15, batch_size=32)\n",
    "    exec_time = time.time() - start\n",
    "    \n",
    "    return history\n",
    "\n",
    "optims = ['SGD', 'RMSprop', 'Adagrad', 'Adadelta', 'Adam', 'Adamax', 'Nadam']\n",
    "histories = {}\n",
    "for optim in optims:\n",
    "    histories[optim] = train_optimizer(optim)\n",
    "    \n",
    "t = np.arange(0, 15)\n",
    "\n",
    "for optim in optims:\n",
    "    plt.plot(t, histories[optim].history['loss'], label=optim)\n",
    "\n",
    "plt.legend()\n",
    "plt.title('Loss during training')\n",
    "plt.xlabel('Epoch')\n",
    "plt.ylabel('Loss')\n",
    "plt.show()"
   ]
  },
  {
   "cell_type": "markdown",
   "metadata": {},
   "source": [
    "En comparant tous les optimiseurs, on se rend compte que SGD est le moins performant. Adadelta converge plus rapidement que SGD, mais Adam reste l'optimiseur de choix dans cet exemple."
   ]
  },
  {
   "cell_type": "markdown",
   "metadata": {},
   "source": [
    "#### RELU + ajout d'une couche cachée"
   ]
  },
  {
   "cell_type": "code",
   "execution_count": 36,
   "metadata": {
    "collapsed": false
   },
   "outputs": [
    {
     "name": "stdout",
     "output_type": "stream",
     "text": [
      "Epoch 1/15\n",
      "1527/1527 [==============================] - 1s - loss: 1.4619 - acc: 0.6045     \n",
      "Epoch 2/15\n",
      "1527/1527 [==============================] - 0s - loss: 0.3881 - acc: 0.9064     \n",
      "Epoch 3/15\n",
      "1527/1527 [==============================] - 0s - loss: 0.1698 - acc: 0.9587     \n",
      "Epoch 4/15\n",
      "1527/1527 [==============================] - 0s - loss: 0.1057 - acc: 0.9777     \n",
      "Epoch 5/15\n",
      "1527/1527 [==============================] - 0s - loss: 0.0726 - acc: 0.9849     \n",
      "Epoch 6/15\n",
      "1527/1527 [==============================] - 0s - loss: 0.0509 - acc: 0.9921     \n",
      "Epoch 7/15\n",
      "1527/1527 [==============================] - 0s - loss: 0.0366 - acc: 0.9954     \n",
      "Epoch 8/15\n",
      "1527/1527 [==============================] - 0s - loss: 0.0270 - acc: 0.9967     \n",
      "Epoch 9/15\n",
      "1527/1527 [==============================] - 0s - loss: 0.0200 - acc: 0.9993     \n",
      "Epoch 10/15\n",
      "1527/1527 [==============================] - 0s - loss: 0.0159 - acc: 0.9993     \n",
      "Epoch 11/15\n",
      "1527/1527 [==============================] - 0s - loss: 0.0131 - acc: 1.0000     \n",
      "Epoch 12/15\n",
      "1527/1527 [==============================] - 0s - loss: 0.0098 - acc: 1.0000     \n",
      "Epoch 13/15\n",
      "1527/1527 [==============================] - 0s - loss: 0.0081 - acc: 1.0000     \n",
      "Epoch 14/15\n",
      "1527/1527 [==============================] - 0s - loss: 0.0069 - acc: 1.0000     \n",
      "Epoch 15/15\n",
      "1527/1527 [==============================] - 0s - loss: 0.0057 - acc: 1.0000     \n"
     ]
    },
    {
     "data": {
      "image/png": "[encoded data removed]",
      "text/plain": [
       "<matplotlib.figure.Figure at 0x1a4987418d0>"
      ]
     },
     "metadata": {},
     "output_type": "display_data"
    }
   ],
   "source": [
    "model = Sequential()\n",
    "model.add(Dense(H, input_dim=N))\n",
    "model.add(Activation(\"relu\"))\n",
    "model.add(Dense(H))\n",
    "model.add(Activation(\"relu\"))\n",
    "model.add(Dense(K))\n",
    "model.add(Activation(\"softmax\"))\n",
    "\n",
    "model.compile(optimizer=optimizers.Adam(),\n",
    "              loss='categorical_crossentropy', metrics=['accuracy'])\n",
    "\n",
    "history = model.fit(X_train, Y_train, nb_epoch=15, batch_size=32)\n",
    "plt.plot(history.history['loss'])\n",
    "plt.title('Loss during training')\n",
    "plt.show()"
   ]
  },
  {
   "cell_type": "markdown",
   "metadata": {},
   "source": [
    "En rajoutant une couche cachée et en changeant les fonctions d'activation en RELU, on constate qu'on améliore la précision à la fin de l'étape d'optimisation. Conserver les paramètres par défaut d'Adam ne semble pas poser de problème."
   ]
  },
  {
   "cell_type": "code",
   "execution_count": 37,
   "metadata": {
    "collapsed": false
   },
   "outputs": [
    {
     "name": "stdout",
     "output_type": "stream",
     "text": [
      "Epoch 1/15\n",
      "1527/1527 [==============================] - 0s - loss: 1.0185 - acc: 0.7223     \n",
      "Epoch 2/15\n",
      "1527/1527 [==============================] - 0s - loss: 0.2993 - acc: 0.9437     \n",
      "Epoch 3/15\n",
      "1527/1527 [==============================] - 0s - loss: 0.1828 - acc: 0.9633     \n",
      "Epoch 4/15\n",
      "1527/1527 [==============================] - 0s - loss: 0.1338 - acc: 0.9810     \n",
      "Epoch 5/15\n",
      "1527/1527 [==============================] - 0s - loss: 0.1056 - acc: 0.9817     \n",
      "Epoch 6/15\n",
      "1527/1527 [==============================] - 0s - loss: 0.0868 - acc: 0.9856     \n",
      "Epoch 7/15\n",
      "1527/1527 [==============================] - 0s - loss: 0.0730 - acc: 0.9882     \n",
      "Epoch 8/15\n",
      "1527/1527 [==============================] - 0s - loss: 0.0623 - acc: 0.9915     \n",
      "Epoch 9/15\n",
      "1527/1527 [==============================] - 0s - loss: 0.0543 - acc: 0.9941     \n",
      "Epoch 10/15\n",
      "1527/1527 [==============================] - 0s - loss: 0.0477 - acc: 0.9954     \n",
      "Epoch 11/15\n",
      "1527/1527 [==============================] - 0s - loss: 0.0422 - acc: 0.9967     \n",
      "Epoch 12/15\n",
      "1527/1527 [==============================] - 0s - loss: 0.0380 - acc: 0.9974     \n",
      "Epoch 13/15\n",
      "1527/1527 [==============================] - 0s - loss: 0.0343 - acc: 0.9974     \n",
      "Epoch 14/15\n",
      "1527/1527 [==============================] - 0s - loss: 0.0309 - acc: 0.9987     \n",
      "Epoch 15/15\n",
      "1527/1527 [==============================] - 0s - loss: 0.0285 - acc: 0.9980     \n",
      "Epoch 1/15\n",
      "1527/1527 [==============================] - 1s - loss: 1.0246 - acc: 0.7354     \n",
      "Epoch 2/15\n",
      "1527/1527 [==============================] - 0s - loss: 0.2457 - acc: 0.9417     \n",
      "Epoch 3/15\n",
      "1527/1527 [==============================] - 0s - loss: 0.1362 - acc: 0.9705     \n",
      "Epoch 4/15\n",
      "1527/1527 [==============================] - 0s - loss: 0.0933 - acc: 0.9810     \n",
      "Epoch 5/15\n",
      "1527/1527 [==============================] - 0s - loss: 0.0683 - acc: 0.9869     \n",
      "Epoch 6/15\n",
      "1527/1527 [==============================] - 0s - loss: 0.0524 - acc: 0.9915     \n",
      "Epoch 7/15\n",
      "1527/1527 [==============================] - 0s - loss: 0.0406 - acc: 0.9935     \n",
      "Epoch 8/15\n",
      "1527/1527 [==============================] - 0s - loss: 0.0325 - acc: 0.9948     \n",
      "Epoch 9/15\n",
      "1527/1527 [==============================] - 0s - loss: 0.0263 - acc: 0.9987     \n",
      "Epoch 10/15\n",
      "1527/1527 [==============================] - 0s - loss: 0.0220 - acc: 0.9993     \n",
      "Epoch 11/15\n",
      "1527/1527 [==============================] - 0s - loss: 0.0187 - acc: 1.0000     \n",
      "Epoch 12/15\n",
      "1527/1527 [==============================] - 0s - loss: 0.0159 - acc: 1.0000     \n",
      "Epoch 13/15\n",
      "1527/1527 [==============================] - 0s - loss: 0.0137 - acc: 1.0000     \n",
      "Epoch 14/15\n",
      "1527/1527 [==============================] - 0s - loss: 0.0122 - acc: 1.0000     \n",
      "Epoch 15/15\n",
      "1527/1527 [==============================] - 0s - loss: 0.0108 - acc: 1.0000     \n",
      "Epoch 1/15\n",
      "1527/1527 [==============================] - 1s - loss: 1.0957 - acc: 0.7086     \n",
      "Epoch 2/15\n",
      "1527/1527 [==============================] - 0s - loss: 0.2315 - acc: 0.9456     \n",
      "Epoch 3/15\n",
      "1527/1527 [==============================] - 0s - loss: 0.1112 - acc: 0.9745     \n",
      "Epoch 4/15\n",
      "1527/1527 [==============================] - 0s - loss: 0.0665 - acc: 0.9895     \n",
      "Epoch 5/15\n",
      "1527/1527 [==============================] - 0s - loss: 0.0436 - acc: 0.9928     \n",
      "Epoch 6/15\n",
      "1527/1527 [==============================] - 0s - loss: 0.0300 - acc: 0.9954     \n",
      "Epoch 7/15\n",
      "1527/1527 [==============================] - 0s - loss: 0.0218 - acc: 0.9993     \n",
      "Epoch 8/15\n",
      "1527/1527 [==============================] - 0s - loss: 0.0169 - acc: 0.9993     \n",
      "Epoch 9/15\n",
      "1527/1527 [==============================] - 0s - loss: 0.0127 - acc: 0.9993     \n",
      "Epoch 10/15\n",
      "1527/1527 [==============================] - 0s - loss: 0.0106 - acc: 0.9993     \n",
      "Epoch 11/15\n",
      "1527/1527 [==============================] - 0s - loss: 0.0087 - acc: 1.0000     \n",
      "Epoch 12/15\n",
      "1527/1527 [==============================] - 0s - loss: 0.0073 - acc: 1.0000     \n",
      "Epoch 13/15\n",
      "1527/1527 [==============================] - 0s - loss: 0.0063 - acc: 1.0000     \n",
      "Epoch 14/15\n",
      "1527/1527 [==============================] - 0s - loss: 0.0056 - acc: 1.0000     \n",
      "Epoch 15/15\n",
      "1527/1527 [==============================] - 0s - loss: 0.0048 - acc: 1.0000     \n",
      "Epoch 1/15\n",
      "1527/1527 [==============================] - 1s - loss: 1.2400 - acc: 0.6667     \n",
      "Epoch 2/15\n",
      "1527/1527 [==============================] - 0s - loss: 0.2858 - acc: 0.9240     \n",
      "Epoch 3/15\n",
      "1527/1527 [==============================] - 0s - loss: 0.1245 - acc: 0.9686     \n",
      "Epoch 4/15\n",
      "1527/1527 [==============================] - 0s - loss: 0.0742 - acc: 0.9823     \n",
      "Epoch 5/15\n",
      "1527/1527 [==============================] - 0s - loss: 0.0426 - acc: 0.9961     \n",
      "Epoch 6/15\n",
      "1527/1527 [==============================] - 0s - loss: 0.0302 - acc: 0.9980     \n",
      "Epoch 7/15\n",
      "1527/1527 [==============================] - 0s - loss: 0.0232 - acc: 0.9980     \n",
      "Epoch 8/15\n",
      "1527/1527 [==============================] - 0s - loss: 0.0196 - acc: 0.9987     \n",
      "Epoch 9/15\n",
      "1527/1527 [==============================] - 0s - loss: 0.0177 - acc: 0.9993     \n",
      "Epoch 10/15\n",
      "1527/1527 [==============================] - 0s - loss: 0.0160 - acc: 0.9993     \n",
      "Epoch 11/15\n",
      "1527/1527 [==============================] - 0s - loss: 0.0151 - acc: 0.9993     \n",
      "Epoch 12/15\n",
      "1527/1527 [==============================] - 0s - loss: 0.0144 - acc: 0.9993     \n",
      "Epoch 13/15\n",
      "1527/1527 [==============================] - 0s - loss: 0.0138 - acc: 0.9993     \n",
      "Epoch 14/15\n",
      "1527/1527 [==============================] - 0s - loss: 0.0134 - acc: 0.9993     \n",
      "Epoch 15/15\n",
      "1527/1527 [==============================] - 0s - loss: 0.0131 - acc: 0.9993     \n",
      "Epoch 1/15\n",
      "1527/1527 [==============================] - 1s - loss: 1.6176 - acc: 0.5147     \n",
      "Epoch 2/15\n",
      "1527/1527 [==============================] - 0s - loss: 0.4484 - acc: 0.8651     \n",
      "Epoch 3/15\n",
      "1527/1527 [==============================] - 0s - loss: 0.1878 - acc: 0.9515     \n",
      "Epoch 4/15\n",
      "1527/1527 [==============================] - 0s - loss: 0.1004 - acc: 0.9725     \n",
      "Epoch 5/15\n",
      "1527/1527 [==============================] - 0s - loss: 0.0691 - acc: 0.9849     \n",
      "Epoch 6/15\n",
      "1527/1527 [==============================] - 0s - loss: 0.0507 - acc: 0.9876     \n",
      "Epoch 7/15\n",
      "1527/1527 [==============================] - 0s - loss: 0.0241 - acc: 0.9961     \n",
      "Epoch 8/15\n",
      "1527/1527 [==============================] - 0s - loss: 0.0108 - acc: 0.9980     \n",
      "Epoch 9/15\n",
      "1527/1527 [==============================] - 0s - loss: 0.0066 - acc: 1.0000     \n",
      "Epoch 10/15\n",
      "1527/1527 [==============================] - 0s - loss: 0.0042 - acc: 1.0000     \n",
      "Epoch 11/15\n",
      "1527/1527 [==============================] - 0s - loss: 0.0031 - acc: 1.0000     \n",
      "Epoch 12/15\n",
      "1527/1527 [==============================] - 0s - loss: 0.0025 - acc: 1.0000     \n",
      "Epoch 13/15\n",
      "1527/1527 [==============================] - 0s - loss: 0.0021 - acc: 1.0000     \n",
      "Epoch 14/15\n",
      "1527/1527 [==============================] - 0s - loss: 0.0018 - acc: 1.0000     \n",
      "Epoch 15/15\n",
      "1527/1527 [==============================] - 0s - loss: 0.0016 - acc: 1.0000     \n"
     ]
    },
    {
     "data": {
      "image/png": "[encoded data removed]",
      "text/plain": [
       "<matplotlib.figure.Figure at 0x1a498a86668>"
      ]
     },
     "metadata": {},
     "output_type": "display_data"
    }
   ],
   "source": [
    "def train_layers(layer_number):\n",
    "    ############ Define dimensions of layers engaged in the neural network ##########\n",
    "    N = X_train.shape[1]\n",
    "    H = 100\n",
    "    K = 10\n",
    "\n",
    "    ######### Build the graph #########\n",
    "    model = Sequential()\n",
    "    \n",
    "    ########### Build the different layers #######\"\n",
    "    for i in range(layer_number):\n",
    "        if i == 0:\n",
    "            model.add(Dense(H, input_dim=N))\n",
    "            model.add(Activation('relu'))\n",
    "        else:\n",
    "            model.add(Dense(H, input_dim=H))\n",
    "            model.add(Activation('relu'))\n",
    "            \n",
    "    ####### Build output activation layer #########\n",
    "    model.add(Dense(K))\n",
    "    model.add(Activation(\"softmax\"))\n",
    "\n",
    "    ############ Assign the graph with an optimizer, a olss function and a metric #######\n",
    "    model.compile(optimizer=optimizers.SGD(lr=0.1),\n",
    "                  loss='categorical_crossentropy', metrics=['accuracy'])\n",
    "\n",
    "    ########### Fit the previously defined model on the train set ##############\n",
    "    start = time.time()\n",
    "    history = model.fit(X_train, Y_train, nb_epoch=15, batch_size=32)\n",
    "    exec_time = time.time() - start\n",
    "    \n",
    "    return history\n",
    "\n",
    "layer_number = [1, 2, 3, 4, 5]\n",
    "histories = {}\n",
    "for number in layer_number:\n",
    "    histories[number] = train_layers(number)\n",
    "    \n",
    "t = np.arange(0, 15)\n",
    "for number in layer_number:\n",
    "    plt.plot(t, histories[number].history['loss'], label=number)\n",
    "plt.legend()\n",
    "plt.title('Loss during training')\n",
    "plt.xlabel('Epoch')\n",
    "plt.ylabel('Loss')\n",
    "plt.show()"
   ]
  },
  {
   "cell_type": "markdown",
   "metadata": {},
   "source": [
    "On remarque que, bien que les réseaux à plus de 1 seule couche semblent converger plus vite, la différence n'est pas flagrante."
   ]
  },
  {
   "cell_type": "markdown",
   "metadata": {},
   "source": [
    "#### Influence du nombre de neurones dans la couche cachée (une seule couche cachée)"
   ]
  },
  {
   "cell_type": "code",
   "execution_count": 38,
   "metadata": {
    "collapsed": false
   },
   "outputs": [
    {
     "name": "stdout",
     "output_type": "stream",
     "text": [
      "Epoch 1/15\n",
      "1527/1527 [==============================] - 1s - loss: 1.0314 - acc: 0.7210     \n",
      "Epoch 2/15\n",
      "1527/1527 [==============================] - 0s - loss: 0.3419 - acc: 0.9194     \n",
      "Epoch 3/15\n",
      "1527/1527 [==============================] - 0s - loss: 0.2110 - acc: 0.9535     \n",
      "Epoch 4/15\n",
      "1527/1527 [==============================] - 0s - loss: 0.1535 - acc: 0.9640     \n",
      "Epoch 5/15\n",
      "1527/1527 [==============================] - 0s - loss: 0.1200 - acc: 0.9784     \n",
      "Epoch 6/15\n",
      "1527/1527 [==============================] - 0s - loss: 0.0996 - acc: 0.9784     \n",
      "Epoch 7/15\n",
      "1527/1527 [==============================] - 0s - loss: 0.0844 - acc: 0.9836     \n",
      "Epoch 8/15\n",
      "1527/1527 [==============================] - 0s - loss: 0.0726 - acc: 0.9862     \n",
      "Epoch 9/15\n",
      "1527/1527 [==============================] - 0s - loss: 0.0636 - acc: 0.9908     \n",
      "Epoch 10/15\n",
      "1527/1527 [==============================] - 0s - loss: 0.0563 - acc: 0.9928     \n",
      "Epoch 11/15\n",
      "1527/1527 [==============================] - 0s - loss: 0.0501 - acc: 0.9941     \n",
      "Epoch 12/15\n",
      "1527/1527 [==============================] - 0s - loss: 0.0450 - acc: 0.9941     \n",
      "Epoch 13/15\n",
      "1527/1527 [==============================] - 0s - loss: 0.0407 - acc: 0.9961     \n",
      "Epoch 14/15\n",
      "1527/1527 [==============================] - 0s - loss: 0.0370 - acc: 0.9961     \n",
      "Epoch 15/15\n",
      "1527/1527 [==============================] - 0s - loss: 0.0339 - acc: 0.9961     \n",
      "Epoch 1/15\n",
      "1527/1527 [==============================] - 1s - loss: 0.9493 - acc: 0.7433     \n",
      "Epoch 2/15\n",
      "1527/1527 [==============================] - 0s - loss: 0.2991 - acc: 0.9470     \n",
      "Epoch 3/15\n",
      "1527/1527 [==============================] - 0s - loss: 0.1888 - acc: 0.9601     \n",
      "Epoch 4/15\n",
      "1527/1527 [==============================] - 0s - loss: 0.1382 - acc: 0.9705     \n",
      "Epoch 5/15\n",
      "1527/1527 [==============================] - 0s - loss: 0.1103 - acc: 0.9804     \n",
      "Epoch 6/15\n",
      "1527/1527 [==============================] - 0s - loss: 0.0904 - acc: 0.9843     \n",
      "Epoch 7/15\n",
      "1527/1527 [==============================] - 0s - loss: 0.0761 - acc: 0.9882     \n",
      "Epoch 8/15\n",
      "1527/1527 [==============================] - 0s - loss: 0.0649 - acc: 0.9915     \n",
      "Epoch 9/15\n",
      "1527/1527 [==============================] - 0s - loss: 0.0570 - acc: 0.9921     \n",
      "Epoch 10/15\n",
      "1527/1527 [==============================] - 0s - loss: 0.0499 - acc: 0.9928     \n",
      "Epoch 11/15\n",
      "1527/1527 [==============================] - 0s - loss: 0.0445 - acc: 0.9954     \n",
      "Epoch 12/15\n",
      "1527/1527 [==============================] - 0s - loss: 0.0399 - acc: 0.9961     \n",
      "Epoch 13/15\n",
      "1527/1527 [==============================] - 0s - loss: 0.0360 - acc: 0.9967     \n",
      "Epoch 14/15\n",
      "1527/1527 [==============================] - 0s - loss: 0.0326 - acc: 0.9974     \n",
      "Epoch 15/15\n",
      "1527/1527 [==============================] - 0s - loss: 0.0299 - acc: 0.9987     \n",
      "Epoch 1/15\n",
      "1527/1527 [==============================] - 1s - loss: 0.8973 - acc: 0.7859     \n",
      "Epoch 2/15\n",
      "1527/1527 [==============================] - 0s - loss: 0.2632 - acc: 0.9496     \n",
      "Epoch 3/15\n",
      "1527/1527 [==============================] - 0s - loss: 0.1648 - acc: 0.9699     \n",
      "Epoch 4/15\n",
      "1527/1527 [==============================] - 0s - loss: 0.1221 - acc: 0.9817     \n",
      "Epoch 5/15\n",
      "1527/1527 [==============================] - 0s - loss: 0.0960 - acc: 0.9849     \n",
      "Epoch 6/15\n",
      "1527/1527 [==============================] - 0s - loss: 0.0791 - acc: 0.9908     \n",
      "Epoch 7/15\n",
      "1527/1527 [==============================] - 0s - loss: 0.0669 - acc: 0.9921     \n",
      "Epoch 8/15\n",
      "1527/1527 [==============================] - 0s - loss: 0.0572 - acc: 0.9935     \n",
      "Epoch 9/15\n",
      "1527/1527 [==============================] - 0s - loss: 0.0501 - acc: 0.9948     \n",
      "Epoch 10/15\n",
      "1527/1527 [==============================] - 0s - loss: 0.0441 - acc: 0.9961     \n",
      "Epoch 11/15\n",
      "1527/1527 [==============================] - 0s - loss: 0.0392 - acc: 0.9967     \n",
      "Epoch 12/15\n",
      "1527/1527 [==============================] - 0s - loss: 0.0351 - acc: 0.9974     \n",
      "Epoch 13/15\n",
      "1527/1527 [==============================] - 0s - loss: 0.0318 - acc: 0.9967     \n",
      "Epoch 14/15\n",
      "1527/1527 [==============================] - 0s - loss: 0.0289 - acc: 0.9974     \n",
      "Epoch 15/15\n",
      "1527/1527 [==============================] - 0s - loss: 0.0264 - acc: 0.9980     \n",
      "Epoch 1/15\n",
      "1527/1527 [==============================] - 1s - loss: 0.8049 - acc: 0.8193     \n",
      "Epoch 2/15\n",
      "1527/1527 [==============================] - 0s - loss: 0.2372 - acc: 0.9581     \n",
      "Epoch 3/15\n",
      "1527/1527 [==============================] - 0s - loss: 0.1493 - acc: 0.9758     \n",
      "Epoch 4/15\n",
      "1527/1527 [==============================] - 0s - loss: 0.1118 - acc: 0.9869     \n",
      "Epoch 5/15\n",
      "1527/1527 [==============================] - 0s - loss: 0.0893 - acc: 0.9895     \n",
      "Epoch 6/15\n",
      "1527/1527 [==============================] - 0s - loss: 0.0740 - acc: 0.9908     \n",
      "Epoch 7/15\n",
      "1527/1527 [==============================] - 0s - loss: 0.0628 - acc: 0.9941     \n",
      "Epoch 8/15\n",
      "1527/1527 [==============================] - 0s - loss: 0.0541 - acc: 0.9941     \n",
      "Epoch 9/15\n",
      "1527/1527 [==============================] - 0s - loss: 0.0474 - acc: 0.9961     \n",
      "Epoch 10/15\n",
      "1527/1527 [==============================] - 0s - loss: 0.0419 - acc: 0.9974     \n",
      "Epoch 11/15\n",
      "1527/1527 [==============================] - 0s - loss: 0.0375 - acc: 0.9974     \n",
      "Epoch 12/15\n",
      "1527/1527 [==============================] - 0s - loss: 0.0336 - acc: 0.9974     \n",
      "Epoch 13/15\n",
      "1527/1527 [==============================] - 0s - loss: 0.0306 - acc: 0.9974     \n",
      "Epoch 14/15\n",
      "1527/1527 [==============================] - 0s - loss: 0.0279 - acc: 0.9974     \n",
      "Epoch 15/15\n",
      "1527/1527 [==============================] - 0s - loss: 0.0256 - acc: 0.9980     \n",
      "Epoch 1/15\n",
      "1527/1527 [==============================] - 1s - loss: 0.8444 - acc: 0.8147     \n",
      "Epoch 2/15\n",
      "1527/1527 [==============================] - 0s - loss: 0.2434 - acc: 0.9594     \n",
      "Epoch 3/15\n",
      "1527/1527 [==============================] - 0s - loss: 0.1549 - acc: 0.9718     \n",
      "Epoch 4/15\n",
      "1527/1527 [==============================] - 0s - loss: 0.1158 - acc: 0.9810     \n",
      "Epoch 5/15\n",
      "1527/1527 [==============================] - 0s - loss: 0.0918 - acc: 0.9869     \n",
      "Epoch 6/15\n",
      "1527/1527 [==============================] - 0s - loss: 0.0759 - acc: 0.9882     \n",
      "Epoch 7/15\n",
      "1527/1527 [==============================] - 0s - loss: 0.0639 - acc: 0.9921     \n",
      "Epoch 8/15\n",
      "1527/1527 [==============================] - 0s - loss: 0.0549 - acc: 0.9935     \n",
      "Epoch 9/15\n",
      "1527/1527 [==============================] - 0s - loss: 0.0477 - acc: 0.9954     \n",
      "Epoch 10/15\n",
      "1527/1527 [==============================] - 0s - loss: 0.0422 - acc: 0.9961     \n",
      "Epoch 11/15\n",
      "1527/1527 [==============================] - 0s - loss: 0.0375 - acc: 0.9961     \n",
      "Epoch 12/15\n",
      "1527/1527 [==============================] - 0s - loss: 0.0337 - acc: 0.9967     \n",
      "Epoch 13/15\n",
      "1527/1527 [==============================] - 0s - loss: 0.0302 - acc: 0.9980     \n",
      "Epoch 14/15\n",
      "1527/1527 [==============================] - 0s - loss: 0.0276 - acc: 0.9980     \n",
      "Epoch 15/15\n",
      "1527/1527 [==============================] - 0s - loss: 0.0253 - acc: 0.9993     \n",
      "Epoch 1/15\n",
      "1527/1527 [==============================] - 1s - loss: 0.8148 - acc: 0.8271     \n",
      "Epoch 2/15\n",
      "1527/1527 [==============================] - 0s - loss: 0.2367 - acc: 0.9561     \n",
      "Epoch 3/15\n",
      "1527/1527 [==============================] - 0s - loss: 0.1479 - acc: 0.9751     \n",
      "Epoch 4/15\n",
      "1527/1527 [==============================] - 0s - loss: 0.1102 - acc: 0.9810     \n",
      "Epoch 5/15\n",
      "1527/1527 [==============================] - 0s - loss: 0.0871 - acc: 0.9869     \n",
      "Epoch 6/15\n",
      "1527/1527 [==============================] - 0s - loss: 0.0713 - acc: 0.9915     \n",
      "Epoch 7/15\n",
      "1527/1527 [==============================] - 0s - loss: 0.0604 - acc: 0.9941     \n",
      "Epoch 8/15\n",
      "1527/1527 [==============================] - 0s - loss: 0.0519 - acc: 0.9954     \n",
      "Epoch 9/15\n",
      "1527/1527 [==============================] - 0s - loss: 0.0453 - acc: 0.9967     \n",
      "Epoch 10/15\n",
      "1527/1527 [==============================] - 0s - loss: 0.0399 - acc: 0.9967     \n",
      "Epoch 11/15\n",
      "1527/1527 [==============================] - 0s - loss: 0.0356 - acc: 0.9967     \n",
      "Epoch 12/15\n",
      "1527/1527 [==============================] - 0s - loss: 0.0321 - acc: 0.9967     \n",
      "Epoch 13/15\n",
      "1527/1527 [==============================] - 0s - loss: 0.0289 - acc: 0.9980     \n",
      "Epoch 14/15\n",
      "1527/1527 [==============================] - 0s - loss: 0.0264 - acc: 0.9987     \n",
      "Epoch 15/15\n",
      "1527/1527 [==============================] - 0s - loss: 0.0241 - acc: 0.9987     \n"
     ]
    },
    {
     "data": {
      "image/png": "[encoded data removed]",
      "text/plain": [
       "<matplotlib.figure.Figure at 0x1a49bb1c438>"
      ]
     },
     "metadata": {},
     "output_type": "display_data"
    }
   ],
   "source": [
    "def train_neuron_number(H):\n",
    "    ############ Define dimensions of layers engaged in the neural network ##########\n",
    "    N = X_train.shape[1]\n",
    "    K = 10\n",
    "\n",
    "    ######### Build the graph #########\n",
    "    model = Sequential()\n",
    "    model.add(Dense(H, input_dim=N))\n",
    "    model.add(Activation('relu'))\n",
    "    model.add(Dense(K))\n",
    "    model.add(Activation(\"softmax\"))\n",
    "\n",
    "    ############ Assign the graph with an optimizer, a olss function and a metric #######\n",
    "    model.compile(optimizer=optimizers.SGD(lr=0.1),\n",
    "                  loss='categorical_crossentropy', metrics=['accuracy'])\n",
    "\n",
    "    ########### Fit the previously defined model on the train set ##############\n",
    "    start = time.time()\n",
    "    history = model.fit(X_train, Y_train, nb_epoch=15, batch_size=32)\n",
    "    exec_time = time.time() - start\n",
    "    \n",
    "    return history\n",
    "\n",
    "layer_size = [50, 100, 200, 300, 400, 500]\n",
    "histories = {}\n",
    "for size in layer_size:\n",
    "    histories[size] = train_neuron_number(size)\n",
    "    \n",
    "t = np.arange(0, 15)\n",
    "for size in layer_size:\n",
    "    plt.plot(t, histories[size].history['loss'], label=size)\n",
    "plt.legend()\n",
    "plt.title('Loss during training')\n",
    "plt.xlabel('Epoch')\n",
    "plt.ylabel('Loss')\n",
    "plt.show()"
   ]
  },
  {
   "cell_type": "markdown",
   "metadata": {},
   "source": [
    "Plus il y a de neurones dans une couche, plus la convergence est rapide."
   ]
  },
  {
   "cell_type": "markdown",
   "metadata": {},
   "source": [
    "#### Influence de la fonction d'activation"
   ]
  },
  {
   "cell_type": "code",
   "execution_count": 39,
   "metadata": {
    "collapsed": false
   },
   "outputs": [
    {
     "name": "stdout",
     "output_type": "stream",
     "text": [
      "Epoch 1/15\n",
      "1527/1527 [==============================] - 0s - loss: 0.9686 - acc: 0.7531     \n",
      "Epoch 2/15\n",
      "1527/1527 [==============================] - 0s - loss: 0.2861 - acc: 0.9515     \n",
      "Epoch 3/15\n",
      "1527/1527 [==============================] - 0s - loss: 0.1774 - acc: 0.9659     \n",
      "Epoch 4/15\n",
      "1527/1527 [==============================] - 0s - loss: 0.1318 - acc: 0.9771     \n",
      "Epoch 5/15\n",
      "1527/1527 [==============================] - 0s - loss: 0.1044 - acc: 0.9817     \n",
      "Epoch 6/15\n",
      "1527/1527 [==============================] - 0s - loss: 0.0855 - acc: 0.9869     \n",
      "Epoch 7/15\n",
      "1527/1527 [==============================] - 0s - loss: 0.0719 - acc: 0.9902     \n",
      "Epoch 8/15\n",
      "1527/1527 [==============================] - 0s - loss: 0.0623 - acc: 0.9921     \n",
      "Epoch 9/15\n",
      "1527/1527 [==============================] - 0s - loss: 0.0545 - acc: 0.9921     \n",
      "Epoch 10/15\n",
      "1527/1527 [==============================] - 0s - loss: 0.0481 - acc: 0.9948     \n",
      "Epoch 11/15\n",
      "1527/1527 [==============================] - 0s - loss: 0.0426 - acc: 0.9954     \n",
      "Epoch 12/15\n",
      "1527/1527 [==============================] - 0s - loss: 0.0386 - acc: 0.9961     \n",
      "Epoch 13/15\n",
      "1527/1527 [==============================] - 0s - loss: 0.0344 - acc: 0.9967     \n",
      "Epoch 14/15\n",
      "1527/1527 [==============================] - 0s - loss: 0.0315 - acc: 0.9967     \n",
      "Epoch 15/15\n",
      "1527/1527 [==============================] - 0s - loss: 0.0287 - acc: 0.9974     \n",
      "Epoch 1/15\n",
      "1527/1527 [==============================] - 1s - loss: 0.9074 - acc: 0.7544     \n",
      "Epoch 2/15\n",
      "1527/1527 [==============================] - 0s - loss: 0.2926 - acc: 0.9437     \n",
      "Epoch 3/15\n",
      "1527/1527 [==============================] - 0s - loss: 0.1991 - acc: 0.9640     \n",
      "Epoch 4/15\n",
      "1527/1527 [==============================] - 0s - loss: 0.1559 - acc: 0.9738     \n",
      "Epoch 5/15\n",
      "1527/1527 [==============================] - 0s - loss: 0.1286 - acc: 0.9777     \n",
      "Epoch 6/15\n",
      "1527/1527 [==============================] - 0s - loss: 0.1104 - acc: 0.9836     \n",
      "Epoch 7/15\n",
      "1527/1527 [==============================] - 0s - loss: 0.0970 - acc: 0.9856     \n",
      "Epoch 8/15\n",
      "1527/1527 [==============================] - 0s - loss: 0.0864 - acc: 0.9856     \n",
      "Epoch 9/15\n",
      "1527/1527 [==============================] - 0s - loss: 0.0774 - acc: 0.9876     \n",
      "Epoch 10/15\n",
      "1527/1527 [==============================] - 0s - loss: 0.0706 - acc: 0.9876     \n",
      "Epoch 11/15\n",
      "1527/1527 [==============================] - 0s - loss: 0.0644 - acc: 0.9889     \n",
      "Epoch 12/15\n",
      "1527/1527 [==============================] - 0s - loss: 0.0588 - acc: 0.9895     \n",
      "Epoch 13/15\n",
      "1527/1527 [==============================] - 0s - loss: 0.0546 - acc: 0.9908     \n",
      "Epoch 14/15\n",
      "1527/1527 [==============================] - 0s - loss: 0.0503 - acc: 0.9921     \n",
      "Epoch 15/15\n",
      "1527/1527 [==============================] - 0s - loss: 0.0470 - acc: 0.9948     \n",
      "Epoch 1/15\n",
      "1527/1527 [==============================] - 1s - loss: 1.8745 - acc: 0.5029     \n",
      "Epoch 2/15\n",
      "1527/1527 [==============================] - 0s - loss: 1.1441 - acc: 0.8219     \n",
      "Epoch 3/15\n",
      "1527/1527 [==============================] - 0s - loss: 0.7737 - acc: 0.8874     \n",
      "Epoch 4/15\n",
      "1527/1527 [==============================] - 0s - loss: 0.5734 - acc: 0.9155     \n",
      "Epoch 5/15\n",
      "1527/1527 [==============================] - 0s - loss: 0.4557 - acc: 0.9325     \n",
      "Epoch 6/15\n",
      "1527/1527 [==============================] - 0s - loss: 0.3815 - acc: 0.9339     \n",
      "Epoch 7/15\n",
      "1527/1527 [==============================] - 0s - loss: 0.3286 - acc: 0.9411     \n",
      "Epoch 8/15\n",
      "1527/1527 [==============================] - 0s - loss: 0.2891 - acc: 0.9470     \n",
      "Epoch 9/15\n",
      "1527/1527 [==============================] - 0s - loss: 0.2599 - acc: 0.9515     \n",
      "Epoch 10/15\n",
      "1527/1527 [==============================] - 0s - loss: 0.2354 - acc: 0.9548     \n",
      "Epoch 11/15\n",
      "1527/1527 [==============================] - 0s - loss: 0.2178 - acc: 0.9633     \n",
      "Epoch 12/15\n",
      "1527/1527 [==============================] - 0s - loss: 0.2014 - acc: 0.9673     \n",
      "Epoch 13/15\n",
      "1527/1527 [==============================] - 0s - loss: 0.1875 - acc: 0.9666     \n",
      "Epoch 14/15\n",
      "1527/1527 [==============================] - 0s - loss: 0.1768 - acc: 0.9699     \n",
      "Epoch 15/15\n",
      "1527/1527 [==============================] - 0s - loss: 0.1663 - acc: 0.9712     \n",
      "Epoch 1/15\n",
      "1527/1527 [==============================] - 0s - loss: 0.6807 - acc: 0.8140     \n",
      "Epoch 2/15\n",
      "1527/1527 [==============================] - 0s - loss: 0.2084 - acc: 0.9476     \n",
      "Epoch 3/15\n",
      "1527/1527 [==============================] - 0s - loss: 0.1479 - acc: 0.9666     \n",
      "Epoch 4/15\n",
      "1527/1527 [==============================] - 0s - loss: 0.1195 - acc: 0.9745     \n",
      "Epoch 5/15\n",
      "1527/1527 [==============================] - 0s - loss: 0.1021 - acc: 0.9804     \n",
      "Epoch 6/15\n",
      "1527/1527 [==============================] - 0s - loss: 0.0886 - acc: 0.9830     \n",
      "Epoch 7/15\n",
      "1527/1527 [==============================] - 0s - loss: 0.0793 - acc: 0.9836     \n",
      "Epoch 8/15\n",
      "1527/1527 [==============================] - 0s - loss: 0.0713 - acc: 0.9843     \n",
      "Epoch 9/15\n",
      "1527/1527 [==============================] - 0s - loss: 0.0642 - acc: 0.9876     \n",
      "Epoch 10/15\n",
      "1527/1527 [==============================] - 0s - loss: 0.0592 - acc: 0.9862     \n",
      "Epoch 11/15\n",
      "1527/1527 [==============================] - 0s - loss: 0.0551 - acc: 0.9882     \n",
      "Epoch 12/15\n",
      "1527/1527 [==============================] - 0s - loss: 0.0510 - acc: 0.9921     \n",
      "Epoch 13/15\n",
      "1527/1527 [==============================] - 0s - loss: 0.0472 - acc: 0.9915     \n",
      "Epoch 14/15\n",
      "1527/1527 [==============================] - 0s - loss: 0.0439 - acc: 0.9921     \n",
      "Epoch 15/15\n",
      "1527/1527 [==============================] - 0s - loss: 0.0415 - acc: 0.9935     \n",
      "Epoch 1/15\n",
      "1527/1527 [==============================] - 1s - loss: 1.8813 - acc: 0.4859     \n",
      "Epoch 2/15\n",
      "1527/1527 [==============================] - 0s - loss: 1.1665 - acc: 0.8271     \n",
      "Epoch 3/15\n",
      "1527/1527 [==============================] - 0s - loss: 0.7826 - acc: 0.8841     \n",
      "Epoch 4/15\n",
      "1527/1527 [==============================] - 0s - loss: 0.5819 - acc: 0.9194     \n",
      "Epoch 5/15\n",
      "1527/1527 [==============================] - 0s - loss: 0.4651 - acc: 0.9293     \n",
      "Epoch 6/15\n",
      "1527/1527 [==============================] - 0s - loss: 0.3873 - acc: 0.9365     \n",
      "Epoch 7/15\n",
      "1527/1527 [==============================] - 0s - loss: 0.3340 - acc: 0.9470     \n",
      "Epoch 8/15\n",
      "1527/1527 [==============================] - 0s - loss: 0.2977 - acc: 0.9542     \n",
      "Epoch 9/15\n",
      "1527/1527 [==============================] - 0s - loss: 0.2665 - acc: 0.9568     \n",
      "Epoch 10/15\n",
      "1527/1527 [==============================] - 0s - loss: 0.2423 - acc: 0.9568     \n",
      "Epoch 11/15\n",
      "1527/1527 [==============================] - 0s - loss: 0.2236 - acc: 0.9568     \n",
      "Epoch 12/15\n",
      "1527/1527 [==============================] - 0s - loss: 0.2079 - acc: 0.9614     \n",
      "Epoch 13/15\n",
      "1527/1527 [==============================] - 0s - loss: 0.1935 - acc: 0.9627     \n",
      "Epoch 14/15\n",
      "1527/1527 [==============================] - 0s - loss: 0.1823 - acc: 0.9640     \n",
      "Epoch 15/15\n",
      "1527/1527 [==============================] - 0s - loss: 0.1729 - acc: 0.9692     \n",
      "Epoch 1/15\n",
      "1527/1527 [==============================] - 2s - loss: 1.1482 - acc: 0.7230     \n",
      "Epoch 2/15\n",
      "1527/1527 [==============================] - 0s - loss: 0.4423 - acc: 0.9280     \n",
      "Epoch 3/15\n",
      "1527/1527 [==============================] - 0s - loss: 0.2919 - acc: 0.9515     \n",
      "Epoch 4/15\n",
      "1527/1527 [==============================] - 0s - loss: 0.2237 - acc: 0.9640     \n",
      "Epoch 5/15\n",
      "1527/1527 [==============================] - 0s - loss: 0.1843 - acc: 0.9692     \n",
      "Epoch 6/15\n",
      "1527/1527 [==============================] - 0s - loss: 0.1574 - acc: 0.9725     \n",
      "Epoch 7/15\n",
      "1527/1527 [==============================] - 0s - loss: 0.1378 - acc: 0.9797     \n",
      "Epoch 8/15\n",
      "1527/1527 [==============================] - 0s - loss: 0.1227 - acc: 0.9810     \n",
      "Epoch 9/15\n",
      "1527/1527 [==============================] - 0s - loss: 0.1112 - acc: 0.9830     \n",
      "Epoch 10/15\n",
      "1527/1527 [==============================] - 0s - loss: 0.1014 - acc: 0.9843     \n",
      "Epoch 11/15\n",
      "1527/1527 [==============================] - 0s - loss: 0.0929 - acc: 0.9862     \n",
      "Epoch 12/15\n",
      "1527/1527 [==============================] - 0s - loss: 0.0861 - acc: 0.9869     \n",
      "Epoch 13/15\n",
      "1527/1527 [==============================] - 0s - loss: 0.0799 - acc: 0.9882     \n",
      "Epoch 14/15\n",
      "1527/1527 [==============================] - 0s - loss: 0.0748 - acc: 0.9902     \n",
      "Epoch 15/15\n",
      "1527/1527 [==============================] - 0s - loss: 0.0700 - acc: 0.9928     \n",
      "Epoch 1/15\n",
      "1527/1527 [==============================] - 1s - loss: 1.0910 - acc: 0.7158     \n",
      "Epoch 2/15\n",
      "1527/1527 [==============================] - 0s - loss: 0.3756 - acc: 0.9221     \n",
      "Epoch 3/15\n",
      "1527/1527 [==============================] - 0s - loss: 0.2424 - acc: 0.9496     \n",
      "Epoch 4/15\n",
      "1527/1527 [==============================] - 0s - loss: 0.1859 - acc: 0.9633     \n",
      "Epoch 5/15\n",
      "1527/1527 [==============================] - 0s - loss: 0.1527 - acc: 0.9699     \n",
      "Epoch 6/15\n",
      "1527/1527 [==============================] - 0s - loss: 0.1292 - acc: 0.9758     \n",
      "Epoch 7/15\n",
      "1527/1527 [==============================] - 0s - loss: 0.1141 - acc: 0.9823     \n",
      "Epoch 8/15\n",
      "1527/1527 [==============================] - 0s - loss: 0.1007 - acc: 0.9843     \n",
      "Epoch 9/15\n",
      "1527/1527 [==============================] - 0s - loss: 0.0891 - acc: 0.9849     \n",
      "Epoch 10/15\n",
      "1527/1527 [==============================] - 0s - loss: 0.0820 - acc: 0.9869     \n",
      "Epoch 11/15\n",
      "1527/1527 [==============================] - 0s - loss: 0.0754 - acc: 0.9882     \n",
      "Epoch 12/15\n",
      "1527/1527 [==============================] - 0s - loss: 0.0679 - acc: 0.9895     \n",
      "Epoch 13/15\n",
      "1527/1527 [==============================] - 0s - loss: 0.0626 - acc: 0.9895     \n",
      "Epoch 14/15\n",
      "1527/1527 [==============================] - 0s - loss: 0.0581 - acc: 0.9908     \n",
      "Epoch 15/15\n",
      "1527/1527 [==============================] - 0s - loss: 0.0539 - acc: 0.9915     \n"
     ]
    },
    {
     "data": {
      "image/png": "[encoded data removed]",
      "text/plain": [
       "<matplotlib.figure.Figure at 0x1a49e7534e0>"
      ]
     },
     "metadata": {},
     "output_type": "display_data"
    }
   ],
   "source": [
    "def train_neural_activation(activation):\n",
    "    ############ Define dimensions of layers engaged in the neural network ##########\n",
    "    N = X_train.shape[1]\n",
    "    H = 100\n",
    "    K = 10\n",
    "\n",
    "    ######### Build the graph #########\n",
    "    model = Sequential()\n",
    "    model.add(Dense(H, input_dim=N))\n",
    "    model.add(Activation(activation))\n",
    "    model.add(Dense(K))\n",
    "    model.add(Activation(\"softmax\"))\n",
    "\n",
    "    ############ Assign the graph with an optimizer, a olss function and a metric #######\n",
    "    model.compile(optimizer=optimizers.SGD(lr=0.1),\n",
    "                  loss='categorical_crossentropy', metrics=['accuracy'])\n",
    "\n",
    "    ########### Fit the previously defined model on the train set ##############\n",
    "    start = time.time()\n",
    "    history = model.fit(X_train, Y_train, nb_epoch=15, batch_size=32)\n",
    "    exec_time = time.time() - start\n",
    "    \n",
    "    return history\n",
    "\n",
    "activations = ['relu', 'tanh', 'sigmoid', 'linear', 'hard_sigmoid', 'softsign', 'softplus']\n",
    "histories = {}\n",
    "for activ in activations:\n",
    "    histories[activ] = train_neural_activation(activ)\n",
    "    \n",
    "t = np.arange(0, 15)\n",
    "for activ in activations:\n",
    "    plt.plot(t, histories[activ].history['loss'], label=activ)\n",
    "plt.legend()\n",
    "plt.title('Loss during training')\n",
    "plt.xlabel('Epoch')\n",
    "plt.ylabel('Loss')\n",
    "plt.show()"
   ]
  },
  {
   "cell_type": "markdown",
   "metadata": {},
   "source": [
    "On remarque que la fonction sigmoid performe beaucoup moins bien que la plupart des autres fonctions d'activation."
   ]
  },
  {
   "cell_type": "markdown",
   "metadata": {},
   "source": [
    "Remarques pour Adadelta (issues de la correction) :"
   ]
  },
  {
   "cell_type": "code",
   "execution_count": 19,
   "metadata": {
    "collapsed": false
   },
   "outputs": [
    {
     "name": "stdout",
     "output_type": "stream",
     "text": [
      "Epoch 1/15\n",
      "1527/1527 [==============================] - 0s - loss: 1.4076 - acc: 0.6169     \n",
      "Epoch 2/15\n",
      "1527/1527 [==============================] - 0s - loss: 0.3831 - acc: 0.9162     \n",
      "Epoch 3/15\n",
      "1527/1527 [==============================] - 0s - loss: 0.1754 - acc: 0.9561     \n",
      "Epoch 4/15\n",
      "1527/1527 [==============================] - 0s - loss: 0.1055 - acc: 0.9784     \n",
      "Epoch 5/15\n",
      "1527/1527 [==============================] - 0s - loss: 0.0703 - acc: 0.9869     \n",
      "Epoch 6/15\n",
      "1527/1527 [==============================] - 0s - loss: 0.0495 - acc: 0.9948     \n",
      "Epoch 7/15\n",
      "1527/1527 [==============================] - 0s - loss: 0.0357 - acc: 0.9967     \n",
      "Epoch 8/15\n",
      "1527/1527 [==============================] - 0s - loss: 0.0275 - acc: 0.9987     \n",
      "Epoch 9/15\n",
      "1527/1527 [==============================] - 0s - loss: 0.0209 - acc: 0.9993     \n",
      "Epoch 10/15\n",
      "1527/1527 [==============================] - 0s - loss: 0.0168 - acc: 0.9993     \n",
      "Epoch 11/15\n",
      "1527/1527 [==============================] - 0s - loss: 0.0136 - acc: 0.9993     \n",
      "Epoch 12/15\n",
      "1527/1527 [==============================] - 0s - loss: 0.0108 - acc: 0.9993     \n",
      "Epoch 13/15\n",
      "1527/1527 [==============================] - 0s - loss: 0.0090 - acc: 0.9993     \n",
      "Epoch 14/15\n",
      "1527/1527 [==============================] - 0s - loss: 0.0074 - acc: 1.0000     \n",
      "Epoch 15/15\n",
      "1527/1527 [==============================] - 0s - loss: 0.0064 - acc: 1.0000     \n"
     ]
    },
    {
     "data": {
      "text/plain": [
       "<keras.callbacks.History at 0x11d0ebcf8>"
      ]
     },
     "execution_count": 19,
     "metadata": {},
     "output_type": "execute_result"
    }
   ],
   "source": [
    "# %load solutions/keras_adam_and_adadelta.py\n",
    "model = Sequential()\n",
    "model.add(Dense(H, input_dim=N))\n",
    "model.add(Activation(\"relu\"))\n",
    "model.add(Dense(H))\n",
    "model.add(Activation(\"relu\"))\n",
    "model.add(Dense(K))\n",
    "model.add(Activation(\"softmax\"))\n",
    "model.compile(optimizer=\"adam\", loss='categorical_crossentropy',\n",
    "              metrics=['accuracy'])\n",
    "\n",
    "model.fit(X_train, Y_train, nb_epoch=15, batch_size=32)\n",
    "\n",
    "# Analysis:\n",
    "#\n",
    "# Adam with its default global learning rate of 0.001 tends to work\n",
    "# in many settings often converge as fast or faster than SGD\n",
    "# with a well tuned learning rate.\n",
    "#\n",
    "# Adadelta has no learning rate setting at all\n",
    "#\n",
    "# References:\n",
    "#\n",
    "# Adadelta: https://arxiv.org/abs/1212.5701\n",
    "# Adam:     https://arxiv.org/abs/1412.6980"
   ]
  },
  {
   "cell_type": "markdown",
   "metadata": {},
   "source": [
    "### c) Exercises: forward pass and generalization\n",
    "\n",
    "- Compute predictions on test set using `model.predict_classes(...)`\n",
    "- Compute average accuracy of the model on the test set"
   ]
  },
  {
   "cell_type": "code",
   "execution_count": 43,
   "metadata": {
    "collapsed": false
   },
   "outputs": [
    {
     "name": "stdout",
     "output_type": "stream",
     "text": [
      "256/270 [===========================>..] - ETA: 0s\n",
      "Le taux de bien classés sur le test set est de 0.992592592593\n"
     ]
    }
   ],
   "source": [
    "z=model.predict_classes(X_test)\n",
    "print('\\nLe taux de bien classés sur le test set est de '+str(np.mean(z==y_test)))"
   ]
  },
  {
   "cell_type": "code",
   "execution_count": 44,
   "metadata": {
    "collapsed": false
   },
   "outputs": [
    {
     "name": "stdout",
     "output_type": "stream",
     "text": [
      "test acc: 0.9926\n"
     ]
    },
    {
     "data": {
      "image/png": "[encoded data removed]",
      "text/plain": [
       "<matplotlib.figure.Figure at 0x1a4914182b0>"
      ]
     },
     "metadata": {},
     "output_type": "display_data"
    }
   ],
   "source": [
    "# %load solutions/keras_accuracy_on_test_set.py\n",
    "y_predicted = model.predict_classes(X_test, verbose=0)\n",
    "\n",
    "# Let's display the first inputs image, the predicted labels and the true labels\n",
    "plt.figure(figsize=(12, 9))\n",
    "for i in range(15):\n",
    "    plt.subplot(3, 5, i + 1)\n",
    "    plt.imshow(scaler.inverse_transform(X_test[i]).reshape(8, 8),\n",
    "               cmap=plt.cm.gray_r, interpolation='nearest')\n",
    "    plt.title(\"predicted label: %d\\n true label: %d\"\n",
    "              % (y_predicted[i], y_test[i]))\n",
    "    \n",
    "print(\"test acc: %0.4f\" % np.mean(y_predicted == y_test))"
   ]
  },
  {
   "cell_type": "markdown",
   "metadata": {},
   "source": [
    "- Compute the conditional probabilities of sample number 42 of the test set with `model.predict_proba(...)`\n",
    "- Derive the loss (negative log likelihood of that sample) using numpy operations\n",
    "- Compute the average negative log likelihood of the test set.\n",
    "- Compare this value to the training loss reported by keras: is the model overfitting or underfitting?\n",
    "\n",
    "Note: you might need to retrain the model with a larger number of epochs (e.g. 50) to ensure that it has fully converged."
   ]
  },
  {
   "cell_type": "code",
   "execution_count": 45,
   "metadata": {
    "collapsed": false
   },
   "outputs": [
    {
     "name": "stdout",
     "output_type": "stream",
     "text": [
      "Epoch 1/50\n",
      "1527/1527 [==============================] - 1s - loss: 1.4544 - acc: 0.6038     \n",
      "Epoch 2/50\n",
      "1527/1527 [==============================] - 0s - loss: 0.3865 - acc: 0.9090     \n",
      "Epoch 3/50\n",
      "1527/1527 [==============================] - 0s - loss: 0.1822 - acc: 0.9555     \n",
      "Epoch 4/50\n",
      "1527/1527 [==============================] - 0s - loss: 0.1119 - acc: 0.9777     \n",
      "Epoch 5/50\n",
      "1527/1527 [==============================] - 0s - loss: 0.0771 - acc: 0.9876     \n",
      "Epoch 6/50\n",
      "1527/1527 [==============================] - 0s - loss: 0.0549 - acc: 0.9921     \n",
      "Epoch 7/50\n",
      "1527/1527 [==============================] - 0s - loss: 0.0404 - acc: 0.9948     \n",
      "Epoch 8/50\n",
      "1527/1527 [==============================] - 0s - loss: 0.0307 - acc: 0.9967     \n",
      "Epoch 9/50\n",
      "1527/1527 [==============================] - 0s - loss: 0.0234 - acc: 0.9974     \n",
      "Epoch 10/50\n",
      "1527/1527 [==============================] - 0s - loss: 0.0178 - acc: 0.9993     \n",
      "Epoch 11/50\n",
      "1527/1527 [==============================] - 0s - loss: 0.0148 - acc: 0.9993     \n",
      "Epoch 12/50\n",
      "1527/1527 [==============================] - 0s - loss: 0.0112 - acc: 1.0000     \n",
      "Epoch 13/50\n",
      "1527/1527 [==============================] - 0s - loss: 0.0094 - acc: 1.0000     \n",
      "Epoch 14/50\n",
      "1527/1527 [==============================] - 0s - loss: 0.0078 - acc: 1.0000     \n",
      "Epoch 15/50\n",
      "1527/1527 [==============================] - 0s - loss: 0.0066 - acc: 1.0000     \n",
      "Epoch 16/50\n",
      "1527/1527 [==============================] - 0s - loss: 0.0057 - acc: 1.0000     \n",
      "Epoch 17/50\n",
      "1527/1527 [==============================] - 0s - loss: 0.0048 - acc: 1.0000     \n",
      "Epoch 18/50\n",
      "1527/1527 [==============================] - 0s - loss: 0.0043 - acc: 1.0000     \n",
      "Epoch 19/50\n",
      "1527/1527 [==============================] - 0s - loss: 0.0037 - acc: 1.0000     \n",
      "Epoch 20/50\n",
      "1527/1527 [==============================] - 0s - loss: 0.0033 - acc: 1.0000     \n",
      "Epoch 21/50\n",
      "1527/1527 [==============================] - 0s - loss: 0.0029 - acc: 1.0000     \n",
      "Epoch 22/50\n",
      "1527/1527 [==============================] - 0s - loss: 0.0026 - acc: 1.0000     \n",
      "Epoch 23/50\n",
      "1527/1527 [==============================] - 0s - loss: 0.0024 - acc: 1.0000     \n",
      "Epoch 24/50\n",
      "1527/1527 [==============================] - 0s - loss: 0.0022 - acc: 1.0000     \n",
      "Epoch 25/50\n",
      "1527/1527 [==============================] - 0s - loss: 0.0020 - acc: 1.0000     \n",
      "Epoch 26/50\n",
      "1527/1527 [==============================] - 0s - loss: 0.0018 - acc: 1.0000     \n",
      "Epoch 27/50\n",
      "1527/1527 [==============================] - 0s - loss: 0.0016 - acc: 1.0000     \n",
      "Epoch 28/50\n",
      "1527/1527 [==============================] - 0s - loss: 0.0015 - acc: 1.0000     \n",
      "Epoch 29/50\n",
      "1527/1527 [==============================] - 0s - loss: 0.0014 - acc: 1.0000     \n",
      "Epoch 30/50\n",
      "1527/1527 [==============================] - 0s - loss: 0.0013 - acc: 1.0000     \n",
      "Epoch 31/50\n",
      "1527/1527 [==============================] - 0s - loss: 0.0012 - acc: 1.0000     \n",
      "Epoch 32/50\n",
      "1527/1527 [==============================] - 0s - loss: 0.0011 - acc: 1.0000     \n",
      "Epoch 33/50\n",
      "1527/1527 [==============================] - 0s - loss: 0.0010 - acc: 1.0000     \n",
      "Epoch 34/50\n",
      "1527/1527 [==============================] - 0s - loss: 9.4361e-04 - acc: 1.0000     \n",
      "Epoch 35/50\n",
      "1527/1527 [==============================] - 0s - loss: 8.8466e-04 - acc: 1.0000     \n",
      "Epoch 36/50\n",
      "1527/1527 [==============================] - 0s - loss: 8.3034e-04 - acc: 1.0000     \n",
      "Epoch 37/50\n",
      "1527/1527 [==============================] - 0s - loss: 7.8273e-04 - acc: 1.0000     \n",
      "Epoch 38/50\n",
      "1527/1527 [==============================] - 0s - loss: 7.3253e-04 - acc: 1.0000     \n",
      "Epoch 39/50\n",
      "1527/1527 [==============================] - 0s - loss: 6.8445e-04 - acc: 1.0000     \n",
      "Epoch 40/50\n",
      "1527/1527 [==============================] - 0s - loss: 6.4115e-04 - acc: 1.0000     \n",
      "Epoch 41/50\n",
      "1527/1527 [==============================] - 0s - loss: 6.0585e-04 - acc: 1.0000     \n",
      "Epoch 42/50\n",
      "1527/1527 [==============================] - 0s - loss: 5.7101e-04 - acc: 1.0000     \n",
      "Epoch 43/50\n",
      "1527/1527 [==============================] - 0s - loss: 5.4089e-04 - acc: 1.0000     \n",
      "Epoch 44/50\n",
      "1527/1527 [==============================] - 0s - loss: 5.1105e-04 - acc: 1.0000     \n",
      "Epoch 45/50\n",
      "1527/1527 [==============================] - 0s - loss: 4.8388e-04 - acc: 1.0000     \n",
      "Epoch 46/50\n",
      "1527/1527 [==============================] - 0s - loss: 4.5531e-04 - acc: 1.0000     \n",
      "Epoch 47/50\n",
      "1527/1527 [==============================] - 0s - loss: 4.3268e-04 - acc: 1.0000     \n",
      "Epoch 48/50\n",
      "1527/1527 [==============================] - 0s - loss: 4.1059e-04 - acc: 1.0000     \n",
      "Epoch 49/50\n",
      "1527/1527 [==============================] - 0s - loss: 3.9127e-04 - acc: 1.0000     \n",
      "Epoch 50/50\n",
      "1527/1527 [==============================] - 0s - loss: 3.7315e-04 - acc: 1.0000     \n"
     ]
    },
    {
     "data": {
      "text/plain": [
       "<keras.callbacks.History at 0x1a4ae0f47b8>"
      ]
     },
     "execution_count": 45,
     "metadata": {},
     "output_type": "execute_result"
    }
   ],
   "source": [
    "# On réentraîne le modèle avec plus d'epochs:\n",
    "model = Sequential()\n",
    "model.add(Dense(H, input_dim=N))\n",
    "model.add(Activation(\"relu\"))\n",
    "model.add(Dense(H))\n",
    "model.add(Activation(\"relu\"))\n",
    "model.add(Dense(K))\n",
    "model.add(Activation(\"softmax\"))\n",
    "\n",
    "model.compile(optimizer=optimizers.Adam(),\n",
    "              loss='categorical_crossentropy', metrics=['accuracy'])\n",
    "\n",
    "model.fit(X_train, Y_train, nb_epoch=50, batch_size=32)"
   ]
  },
  {
   "cell_type": "code",
   "execution_count": 46,
   "metadata": {
    "collapsed": false
   },
   "outputs": [
    {
     "name": "stdout",
     "output_type": "stream",
     "text": [
      "Le taux de bien classés sur le test set est de 0.985185185185\n"
     ]
    }
   ],
   "source": [
    "#Compute accuracy\n",
    "z=model.predict_classes(X_test,verbose=0)\n",
    "print('Le taux de bien classés sur le test set est de '+str(np.mean(z==y_test)))"
   ]
  },
  {
   "cell_type": "code",
   "execution_count": 47,
   "metadata": {
    "collapsed": false
   },
   "outputs": [
    {
     "data": {
      "text/plain": [
       "array([[  1.02656756e-07,   2.18838025e-07,   1.59595146e-08,\n",
       "          4.44434463e-08,   1.53664689e-06,   2.17317006e-06,\n",
       "          7.18562205e-08,   1.32683295e-08,   9.99933481e-01,\n",
       "          6.23922533e-05]], dtype=float32)"
      ]
     },
     "execution_count": 47,
     "metadata": {},
     "output_type": "execute_result"
    }
   ],
   "source": [
    "#Conditional probabilities of sample number 42 of the test set\n",
    "model.predict_proba(X_test[42,:].reshape(1,-1),verbose=0)"
   ]
  },
  {
   "cell_type": "code",
   "execution_count": 48,
   "metadata": {
    "collapsed": false
   },
   "outputs": [
    {
     "name": "stdout",
     "output_type": "stream",
     "text": [
      "La classe prédite pour l'échantillon 42 est : 8\n"
     ]
    }
   ],
   "source": [
    "print(\"La classe prédite pour l'échantillon 42 est : \"+str(np.argmax(model.predict_proba(X_test[42,:].reshape(1,-1),verbose=0))))"
   ]
  },
  {
   "cell_type": "code",
   "execution_count": 49,
   "metadata": {
    "collapsed": false
   },
   "outputs": [
    {
     "name": "stdout",
     "output_type": "stream",
     "text": [
      "La perte associée à cet échantillon est de : 6.6521e-05\n"
     ]
    }
   ],
   "source": [
    "#Negative log-likelihood of that sample\n",
    "nll_42=-np.log(np.max(model.predict_proba(X_test[42,:].reshape(1,-1),verbose=0)))\n",
    "print(\"La perte associée à cet échantillon est de : \"+str(nll_42))"
   ]
  },
  {
   "cell_type": "code",
   "execution_count": 50,
   "metadata": {
    "collapsed": false
   },
   "outputs": [
    {
     "name": "stdout",
     "output_type": "stream",
     "text": [
      "La perte moyenne sur l'échantillon de test est de : 0.0113063\n"
     ]
    }
   ],
   "source": [
    "#Average nll for the test set\n",
    "avg_nll=np.mean(-np.log(np.max(model.predict_proba(X_test,verbose=0),axis=1)))\n",
    "print(\"La perte moyenne sur l'échantillon de test est de : \"+str(avg_nll))"
   ]
  },
  {
   "cell_type": "markdown",
   "metadata": {},
   "source": [
    "D'après Keras (cf. quelques cellules plus haut), la perte sur l'échantillon d'entraînement est d'environ 3.73e-4. En outre, le taux de bonnes prédictions est égal à 1 (sur le train), il n'est donc pas possible que l'algorithme sous-apprenne.\n",
    "\n",
    "Au contraire, on a vu (également plus haut) que le taux de bonnes prédictions sur l'échantillon de test était légèrement plus faible que sur l'échantillon d'entraînement. Le réseau surapprend donc un peu."
   ]
  },
  {
   "cell_type": "code",
   "execution_count": 51,
   "metadata": {
    "collapsed": false
   },
   "outputs": [
    {
     "name": "stdout",
     "output_type": "stream",
     "text": [
      "Predicted probability distribution for sample #42:\n",
      "0: 0.00000\n",
      "1: 0.00000\n",
      "2: 0.00000\n",
      "3: 0.00000\n",
      "4: 0.00000\n",
      "5: 0.00000\n",
      "6: 0.00000\n",
      "7: 0.00000\n",
      "8: 0.99993\n",
      "9: 0.00006\n",
      "\n",
      "Likelihood of true class for sample #42:\n",
      "0.999933\n",
      "\n",
      "Average negative loglikelihood of the test set:\n",
      "0.0793610200168\n"
     ]
    },
    {
     "data": {
      "image/png": "[encoded data removed]",
      "text/plain": [
       "<matplotlib.figure.Figure at 0x1a4ae33a9e8>"
      ]
     },
     "metadata": {},
     "output_type": "display_data"
    }
   ],
   "source": [
    "# %load solutions/keras_loss_on_test_set.py\n",
    "sample_idx = 42\n",
    "plt.imshow(scaler.inverse_transform(X_test[sample_idx]).reshape(8, 8),\n",
    "           cmap=plt.cm.gray_r, interpolation='nearest')\n",
    "plt.title(\"true label: %d\" % y_test[sample_idx])\n",
    "\n",
    "# Compute all probabilities for all samples in the test set at\n",
    "# once:\n",
    "probabilities = model.predict_proba(X_test, verbose=0)\n",
    "\n",
    "print(\"Predicted probability distribution for sample #42:\")\n",
    "for class_idx, prob in enumerate(probabilities[sample_idx]):\n",
    "    print(\"%d: %0.5f\" % (class_idx, prob))\n",
    "print()\n",
    "    \n",
    "print(\"Likelihood of true class for sample #42:\")\n",
    "print(probabilities[sample_idx, y_test[sample_idx]])\n",
    "print()\n",
    "\n",
    "print(\"Average negative loglikelihood of the test set:\")\n",
    "Y_test = to_categorical(y_test)\n",
    "loglikelihoods = np.sum(np.log(probabilities) * Y_test, axis=1)\n",
    "print(-np.mean(loglikelihoods))\n",
    "\n",
    "# Analysis\n",
    "#\n",
    "# Depending on the random init, the 2 hidden layers net trained with\n",
    "# adam seem to converge to a training loss very close to zero when\n",
    "# given enough epochs (the accuracy on the training set is 100%).\n",
    "# This model is therefore not underfitting: it has enough capacity\n",
    "# to perfectly memorise the full training set.\n",
    "#\n",
    "# On the test set the negative log likelihood is also close to zero\n",
    "# but never as much as on the training set (~= 0.07) even after\n",
    "# increasing the maximum number of epochs. The model is therefore\n",
    "# overfitting as little."
   ]
  },
  {
   "cell_type": "markdown",
   "metadata": {},
   "source": [
    "## d) Home assignment: impact of initialization\n",
    "\n",
    "Let us now study the impact of a bad initialization when training\n",
    "a deep feed forward network.\n",
    "\n",
    "By default Keras dense layers use the \"Glorot Uniform\" initialization\n",
    "strategy to initialize the weight matrices:\n",
    "\n",
    "- each weight coefficient is randomly sampled from [-scale, scale]\n",
    "- scale is proportional to $\\frac{1}{\\sqrt{n_{in} + n_{out}}}$\n",
    "\n",
    "This strategy is known to work well to initialize deep neural networks\n",
    "with \"tanh\" or \"relu\" activation functions and then trained with\n",
    "standard SGD.\n",
    "\n",
    "To assess the impact of initialization let us plug an alternative init\n",
    "scheme into a 2 hidden layers networks with \"tanh\" activations.\n",
    "For the sake of the example let's use normal distributed weights\n",
    "with a manually adjustable scale (standard deviation) and see the\n",
    "impact the scale value:"
   ]
  },
  {
   "cell_type": "code",
   "execution_count": 52,
   "metadata": {
    "collapsed": false
   },
   "outputs": [
    {
     "name": "stdout",
     "output_type": "stream",
     "text": [
      "Epoch 1/10\n",
      "1527/1527 [==============================] - 1s - loss: 2.3033     \n",
      "Epoch 2/10\n",
      "1527/1527 [==============================] - 0s - loss: 2.3027     \n",
      "Epoch 3/10\n",
      "1527/1527 [==============================] - 0s - loss: 2.3014     \n",
      "Epoch 4/10\n",
      "1527/1527 [==============================] - 0s - loss: 2.2959     \n",
      "Epoch 5/10\n",
      "1527/1527 [==============================] - 0s - loss: 2.2006     \n",
      "Epoch 6/10\n",
      "1527/1527 [==============================] - 0s - loss: 1.8781     \n",
      "Epoch 7/10\n",
      "1527/1527 [==============================] - 0s - loss: 1.7445     \n",
      "Epoch 8/10\n",
      "1527/1527 [==============================] - 0s - loss: 1.5760     \n",
      "Epoch 9/10\n",
      "1527/1527 [==============================] - 0s - loss: 1.3289     \n",
      "Epoch 10/10\n",
      "1527/1527 [==============================] - 0s - loss: 1.1389     \n"
     ]
    }
   ],
   "source": [
    "from keras import initializations\n",
    "\n",
    "def normal_init(shape, name=None):\n",
    "    return initializations.normal(shape, scale=0.01, name=name)\n",
    "\n",
    "\n",
    "model = Sequential()\n",
    "model.add(Dense(H, input_dim=N, init=normal_init))\n",
    "model.add(Activation(\"tanh\"))\n",
    "model.add(Dense(K, init=normal_init))\n",
    "model.add(Activation(\"tanh\"))\n",
    "model.add(Dense(K, init=normal_init))\n",
    "model.add(Activation(\"softmax\"))\n",
    "\n",
    "model.compile(optimizer=optimizers.SGD(lr=0.1),\n",
    "              loss='categorical_crossentropy')\n",
    "\n",
    "history = model.fit(X_train, Y_train,\n",
    "                    nb_epoch=10, batch_size=32)"
   ]
  },
  {
   "cell_type": "markdown",
   "metadata": {},
   "source": [
    "#### Questions:\n",
    "\n",
    "- Try the following initialization schemes and see whether\n",
    "  the SGD algorithm can successfully train the network or\n",
    "  not:\n",
    "  \n",
    "  - a very small e.g. `scale=1e-3`\n",
    "  - a larger scale e.g. `scale=1` or `10`\n",
    "  - initialize all weights to 0 (constant initialization)\n",
    "  \n",
    "- What do you observe? Can you find an explanation for those\n",
    "  outcomes?\n",
    "\n",
    "- Are better solvers such as SGD with momentum or Adam able\n",
    "  to deal better with such bad initializations?"
   ]
  },
  {
   "cell_type": "markdown",
   "metadata": {},
   "source": [
    "#### Initialization schemes"
   ]
  },
  {
   "cell_type": "markdown",
   "metadata": {},
   "source": [
    "$scale = 1e-3$"
   ]
  },
  {
   "cell_type": "code",
   "execution_count": 53,
   "metadata": {
    "collapsed": false
   },
   "outputs": [
    {
     "name": "stdout",
     "output_type": "stream",
     "text": [
      "Epoch 1/10\n",
      "1527/1527 [==============================] - 1s - loss: 2.3036     \n",
      "Epoch 2/10\n",
      "1527/1527 [==============================] - 0s - loss: 2.3033     \n",
      "Epoch 3/10\n",
      "1527/1527 [==============================] - 0s - loss: 2.3031     \n",
      "Epoch 4/10\n",
      "1527/1527 [==============================] - 0s - loss: 2.3032     \n",
      "Epoch 5/10\n",
      "1527/1527 [==============================] - 0s - loss: 2.3031     \n",
      "Epoch 6/10\n",
      "1527/1527 [==============================] - 0s - loss: 2.3030     \n",
      "Epoch 7/10\n",
      "1527/1527 [==============================] - 0s - loss: 2.3028     \n",
      "Epoch 8/10\n",
      "1527/1527 [==============================] - 0s - loss: 2.3029     \n",
      "Epoch 9/10\n",
      "1527/1527 [==============================] - 0s - loss: 2.3028     \n",
      "Epoch 10/10\n",
      "1527/1527 [==============================] - 0s - loss: 2.3030     \n"
     ]
    }
   ],
   "source": [
    "def normal_init(shape, name=None):\n",
    "    return initializations.normal(shape, scale=1e-3, name=name)\n",
    "\n",
    "model = Sequential()\n",
    "model.add(Dense(H, input_dim=N, init=normal_init))\n",
    "model.add(Activation(\"tanh\"))\n",
    "model.add(Dense(K, init=normal_init))\n",
    "model.add(Activation(\"tanh\"))\n",
    "model.add(Dense(K, init=normal_init))\n",
    "model.add(Activation(\"softmax\"))\n",
    "\n",
    "model.compile(optimizer=optimizers.SGD(lr=0.1),\n",
    "              loss='categorical_crossentropy')\n",
    "\n",
    "history = model.fit(X_train, Y_train,\n",
    "                    nb_epoch=10, batch_size=32)"
   ]
  },
  {
   "cell_type": "markdown",
   "metadata": {},
   "source": [
    "La perte ne diminue pas. Elle remonte à un moment. C'est lié au fait que le 0 est un point-selle pour l'étape d'optimisation: une plus faible variance pour l'échantillonage (gaussien centré) d'initialisation entraîne donc des valeurs plus resserrées autour de 0, et donc des gradients plus petits."
   ]
  },
  {
   "cell_type": "markdown",
   "metadata": {},
   "source": [
    "$scale = 1$"
   ]
  },
  {
   "cell_type": "code",
   "execution_count": 54,
   "metadata": {
    "collapsed": false
   },
   "outputs": [
    {
     "name": "stdout",
     "output_type": "stream",
     "text": [
      "Epoch 1/10\n",
      "1527/1527 [==============================] - 1s - loss: 3.4706     \n",
      "Epoch 2/10\n",
      "1527/1527 [==============================] - 0s - loss: 2.0372     \n",
      "Epoch 3/10\n",
      "1527/1527 [==============================] - 0s - loss: 1.4987     \n",
      "Epoch 4/10\n",
      "1527/1527 [==============================] - 0s - loss: 1.2203     \n",
      "Epoch 5/10\n",
      "1527/1527 [==============================] - 0s - loss: 1.0536     \n",
      "Epoch 6/10\n",
      "1527/1527 [==============================] - 0s - loss: 0.9402     \n",
      "Epoch 7/10\n",
      "1527/1527 [==============================] - 0s - loss: 0.8603     \n",
      "Epoch 8/10\n",
      "1527/1527 [==============================] - 0s - loss: 0.7954     \n",
      "Epoch 9/10\n",
      "1527/1527 [==============================] - 0s - loss: 0.7458     \n",
      "Epoch 10/10\n",
      "1527/1527 [==============================] - 0s - loss: 0.7034     \n"
     ]
    }
   ],
   "source": [
    "def normal_init(shape, name=None):\n",
    "    return initializations.normal(shape, scale=1, name=name)\n",
    "\n",
    "model = Sequential()\n",
    "model.add(Dense(H, input_dim=N, init=normal_init))\n",
    "model.add(Activation(\"tanh\"))\n",
    "model.add(Dense(K, init=normal_init))\n",
    "model.add(Activation(\"tanh\"))\n",
    "model.add(Dense(K, init=normal_init))\n",
    "model.add(Activation(\"softmax\"))\n",
    "\n",
    "model.compile(optimizer=optimizers.SGD(lr=0.1),\n",
    "              loss='categorical_crossentropy')\n",
    "\n",
    "history = model.fit(X_train, Y_train,\n",
    "                    nb_epoch=10, batch_size=32)"
   ]
  },
  {
   "cell_type": "markdown",
   "metadata": {},
   "source": [
    "La perte diminue plus rapidement que pour l'autre paramètre de scaling."
   ]
  },
  {
   "cell_type": "markdown",
   "metadata": {},
   "source": [
    "$scale = 10$"
   ]
  },
  {
   "cell_type": "code",
   "execution_count": 55,
   "metadata": {
    "collapsed": false
   },
   "outputs": [
    {
     "name": "stdout",
     "output_type": "stream",
     "text": [
      "Epoch 1/10\n",
      "1527/1527 [==============================] - 1s - loss: 14.2148     \n",
      "Epoch 2/10\n",
      "1527/1527 [==============================] - 0s - loss: 14.1217     \n",
      "Epoch 3/10\n",
      "1527/1527 [==============================] - 0s - loss: 14.1014     \n",
      "Epoch 4/10\n",
      "1527/1527 [==============================] - 0s - loss: 14.0511     \n",
      "Epoch 5/10\n",
      "1527/1527 [==============================] - 0s - loss: 14.0303     \n",
      "Epoch 6/10\n",
      "1527/1527 [==============================] - 0s - loss: 14.0276     \n",
      "Epoch 7/10\n",
      "1527/1527 [==============================] - 0s - loss: 13.9967     \n",
      "Epoch 8/10\n",
      "1527/1527 [==============================] - 0s - loss: 13.9858     \n",
      "Epoch 9/10\n",
      "1527/1527 [==============================] - 0s - loss: 13.9543     \n",
      "Epoch 10/10\n",
      "1527/1527 [==============================] - 0s - loss: 13.9523     \n"
     ]
    }
   ],
   "source": [
    "def normal_init(shape, name=None):\n",
    "    return initializations.normal(shape, scale=10, name=name)\n",
    "\n",
    "model = Sequential()\n",
    "model.add(Dense(H, input_dim=N, init=normal_init))\n",
    "model.add(Activation(\"tanh\"))\n",
    "model.add(Dense(K, init=normal_init))\n",
    "model.add(Activation(\"tanh\"))\n",
    "model.add(Dense(K, init=normal_init))\n",
    "model.add(Activation(\"softmax\"))\n",
    "\n",
    "model.compile(optimizer=optimizers.SGD(lr=0.1),\n",
    "              loss='categorical_crossentropy')\n",
    "\n",
    "history = model.fit(X_train, Y_train,\n",
    "                    nb_epoch=10, batch_size=32)"
   ]
  },
  {
   "cell_type": "markdown",
   "metadata": {},
   "source": [
    "Là, la variance est trop grande puisque la perte commence très grande et diminue assez peu."
   ]
  },
  {
   "cell_type": "markdown",
   "metadata": {},
   "source": [
    "Initialisation à zéro"
   ]
  },
  {
   "cell_type": "code",
   "execution_count": 56,
   "metadata": {
    "collapsed": false
   },
   "outputs": [
    {
     "name": "stdout",
     "output_type": "stream",
     "text": [
      "Epoch 1/10\n",
      "1527/1527 [==============================] - 1s - loss: 2.3036     \n",
      "Epoch 2/10\n",
      "1527/1527 [==============================] - 0s - loss: 2.3032     \n",
      "Epoch 3/10\n",
      "1527/1527 [==============================] - 0s - loss: 2.3030     \n",
      "Epoch 4/10\n",
      "1527/1527 [==============================] - 0s - loss: 2.3030     \n",
      "Epoch 5/10\n",
      "1527/1527 [==============================] - 0s - loss: 2.3029     \n",
      "Epoch 6/10\n",
      "1527/1527 [==============================] - 0s - loss: 2.3031     \n",
      "Epoch 7/10\n",
      "1527/1527 [==============================] - 0s - loss: 2.3029     \n",
      "Epoch 8/10\n",
      "1527/1527 [==============================] - 0s - loss: 2.3029     \n",
      "Epoch 9/10\n",
      "1527/1527 [==============================] - 0s - loss: 2.3030     \n",
      "Epoch 10/10\n",
      "1527/1527 [==============================] - 0s - loss: 2.3030     \n"
     ]
    }
   ],
   "source": [
    "model = Sequential()\n",
    "model.add(Dense(H, input_dim=N, init='zero'))\n",
    "model.add(Activation(\"tanh\"))\n",
    "model.add(Dense(K, init='zero'))\n",
    "model.add(Activation(\"tanh\"))\n",
    "model.add(Dense(K, init='zero'))\n",
    "model.add(Activation(\"softmax\"))\n",
    "\n",
    "model.compile(optimizer=optimizers.SGD(lr=0.1),\n",
    "              loss='categorical_crossentropy')\n",
    "\n",
    "history = model.fit(X_train, Y_train,\n",
    "                    nb_epoch=10, batch_size=32)"
   ]
  },
  {
   "cell_type": "markdown",
   "metadata": {},
   "source": [
    "Comme on pouvait s'y attendre, la fonction de perte ne diminue pas, on est sur un point-selle."
   ]
  },
  {
   "cell_type": "markdown",
   "metadata": {},
   "source": [
    "Affichons sur un même graphe les courbes de loss pour différentes scales :"
   ]
  },
  {
   "cell_type": "code",
   "execution_count": 58,
   "metadata": {
    "collapsed": false
   },
   "outputs": [
    {
     "name": "stdout",
     "output_type": "stream",
     "text": [
      "Epoch 1/15\n",
      "1527/1527 [==============================] - 1s - loss: 2.3035     \n",
      "Epoch 2/15\n",
      "1527/1527 [==============================] - 0s - loss: 2.3031     \n",
      "Epoch 3/15\n",
      "1527/1527 [==============================] - 0s - loss: 2.3031     \n",
      "Epoch 4/15\n",
      "1527/1527 [==============================] - 0s - loss: 2.3031     \n",
      "Epoch 5/15\n",
      "1527/1527 [==============================] - 0s - loss: 2.3030     \n",
      "Epoch 6/15\n",
      "1527/1527 [==============================] - 0s - loss: 2.3031     \n",
      "Epoch 7/15\n",
      "1527/1527 [==============================] - 0s - loss: 2.3030     \n",
      "Epoch 8/15\n",
      "1527/1527 [==============================] - 0s - loss: 2.3030     \n",
      "Epoch 9/15\n",
      "1527/1527 [==============================] - 0s - loss: 2.3030     \n",
      "Epoch 10/15\n",
      "1527/1527 [==============================] - 0s - loss: 2.3030     \n",
      "Epoch 11/15\n",
      "1527/1527 [==============================] - 0s - loss: 2.3032     \n",
      "Epoch 12/15\n",
      "1527/1527 [==============================] - 0s - loss: 2.3030     \n",
      "Epoch 13/15\n",
      "1527/1527 [==============================] - 0s - loss: 2.3030     \n",
      "Epoch 14/15\n",
      "1527/1527 [==============================] - 0s - loss: 2.3028     \n",
      "Epoch 15/15\n",
      "1527/1527 [==============================] - 0s - loss: 2.3031     \n",
      "Epoch 1/15\n",
      "1527/1527 [==============================] - 1s - loss: 3.3160     \n",
      "Epoch 2/15\n",
      "1527/1527 [==============================] - 0s - loss: 1.7918     \n",
      "Epoch 3/15\n",
      "1527/1527 [==============================] - 0s - loss: 1.2592     \n",
      "Epoch 4/15\n",
      "1527/1527 [==============================] - 0s - loss: 1.0017     \n",
      "Epoch 5/15\n",
      "1527/1527 [==============================] - 0s - loss: 0.8596     \n",
      "Epoch 6/15\n",
      "1527/1527 [==============================] - 0s - loss: 0.7685     \n",
      "Epoch 7/15\n",
      "1527/1527 [==============================] - 0s - loss: 0.7034     \n",
      "Epoch 8/15\n",
      "1527/1527 [==============================] - 0s - loss: 0.6519     \n",
      "Epoch 9/15\n",
      "1527/1527 [==============================] - 0s - loss: 0.6076     \n",
      "Epoch 10/15\n",
      "1527/1527 [==============================] - 0s - loss: 0.5730     \n",
      "Epoch 11/15\n",
      "1527/1527 [==============================] - 0s - loss: 0.5444     \n",
      "Epoch 12/15\n",
      "1527/1527 [==============================] - 0s - loss: 0.5178     \n",
      "Epoch 13/15\n",
      "1527/1527 [==============================] - 0s - loss: 0.4926     \n",
      "Epoch 14/15\n",
      "1527/1527 [==============================] - 0s - loss: 0.4716     \n",
      "Epoch 15/15\n",
      "1527/1527 [==============================] - 0s - loss: 0.4543     \n",
      "Epoch 1/15\n",
      "1527/1527 [==============================] - 1s - loss: 14.0654     \n",
      "Epoch 2/15\n",
      "1527/1527 [==============================] - 0s - loss: 13.9536     \n",
      "Epoch 3/15\n",
      "1527/1527 [==============================] - 0s - loss: 13.8862     \n",
      "Epoch 4/15\n",
      "1527/1527 [==============================] - 0s - loss: 13.8317     \n",
      "Epoch 5/15\n",
      "1527/1527 [==============================] - 0s - loss: 13.8149     \n",
      "Epoch 6/15\n",
      "1527/1527 [==============================] - 0s - loss: 13.7715     \n",
      "Epoch 7/15\n",
      "1527/1527 [==============================] - 0s - loss: 13.7521     \n",
      "Epoch 8/15\n",
      "1527/1527 [==============================] - 0s - loss: 13.7239     \n",
      "Epoch 9/15\n",
      "1527/1527 [==============================] - 0s - loss: 13.7072     \n",
      "Epoch 10/15\n",
      "1527/1527 [==============================] - 0s - loss: 13.6960     \n",
      "Epoch 11/15\n",
      "1527/1527 [==============================] - 0s - loss: 13.6802     \n",
      "Epoch 12/15\n",
      "1527/1527 [==============================] - 0s - loss: 13.6696     \n",
      "Epoch 13/15\n",
      "1527/1527 [==============================] - 0s - loss: 13.6587     \n",
      "Epoch 14/15\n",
      "1527/1527 [==============================] - 0s - loss: 13.6464     \n",
      "Epoch 15/15\n",
      "1527/1527 [==============================] - 0s - loss: 13.6404     \n",
      "Epoch 1/15\n",
      "1527/1527 [==============================] - 1s - loss: 2.3037     \n",
      "Epoch 2/15\n",
      "1527/1527 [==============================] - 0s - loss: 2.3033     \n",
      "Epoch 3/15\n",
      "1527/1527 [==============================] - 0s - loss: 2.3030     \n",
      "Epoch 4/15\n",
      "1527/1527 [==============================] - 0s - loss: 2.3032     \n",
      "Epoch 5/15\n",
      "1527/1527 [==============================] - 0s - loss: 2.3031     \n",
      "Epoch 6/15\n",
      "1527/1527 [==============================] - 0s - loss: 2.3030     \n",
      "Epoch 7/15\n",
      "1527/1527 [==============================] - 0s - loss: 2.3029     \n",
      "Epoch 8/15\n",
      "1527/1527 [==============================] - 0s - loss: 2.3030     \n",
      "Epoch 9/15\n",
      "1527/1527 [==============================] - 0s - loss: 2.3028     \n",
      "Epoch 10/15\n",
      "1527/1527 [==============================] - 0s - loss: 2.3030     \n",
      "Epoch 11/15\n",
      "1527/1527 [==============================] - 0s - loss: 2.3029     \n",
      "Epoch 12/15\n",
      "1527/1527 [==============================] - 0s - loss: 2.3029     \n",
      "Epoch 13/15\n",
      "1527/1527 [==============================] - 0s - loss: 2.3030     \n",
      "Epoch 14/15\n",
      "1527/1527 [==============================] - 0s - loss: 2.3030     \n",
      "Epoch 15/15\n",
      "1527/1527 [==============================] - 0s - loss: 2.3031     \n",
      "Epoch 1/15\n",
      "1527/1527 [==============================] - 1s - loss: 2.3032     \n",
      "Epoch 2/15\n",
      "1527/1527 [==============================] - 0s - loss: 2.3024     \n",
      "Epoch 3/15\n",
      "1527/1527 [==============================] - 0s - loss: 2.3001     \n",
      "Epoch 4/15\n",
      "1527/1527 [==============================] - 0s - loss: 2.2862     \n",
      "Epoch 5/15\n",
      "1527/1527 [==============================] - 0s - loss: 2.0973     \n",
      "Epoch 6/15\n",
      "1527/1527 [==============================] - 0s - loss: 1.7680     \n",
      "Epoch 7/15\n",
      "1527/1527 [==============================] - 0s - loss: 1.5194     \n",
      "Epoch 8/15\n",
      "1527/1527 [==============================] - 0s - loss: 1.3634     \n",
      "Epoch 9/15\n",
      "1527/1527 [==============================] - 0s - loss: 1.1812     \n",
      "Epoch 10/15\n",
      "1527/1527 [==============================] - 0s - loss: 0.9466     \n",
      "Epoch 11/15\n",
      "1527/1527 [==============================] - 0s - loss: 0.7771     \n",
      "Epoch 12/15\n",
      "1527/1527 [==============================] - 0s - loss: 0.6403     \n",
      "Epoch 13/15\n",
      "1527/1527 [==============================] - 0s - loss: 0.5358     \n",
      "Epoch 14/15\n",
      "1527/1527 [==============================] - 0s - loss: 0.4624     \n",
      "Epoch 15/15\n",
      "1527/1527 [==============================] - 0s - loss: 0.4060     \n",
      "Epoch 1/15\n",
      "1527/1527 [==============================] - 1s - loss: 1.8452     \n",
      "Epoch 2/15\n",
      "1527/1527 [==============================] - 0s - loss: 1.1011     \n",
      "Epoch 3/15\n",
      "1527/1527 [==============================] - 0s - loss: 0.6879     \n",
      "Epoch 4/15\n",
      "1527/1527 [==============================] - 0s - loss: 0.4732     \n",
      "Epoch 5/15\n",
      "1527/1527 [==============================] - 0s - loss: 0.3531     \n",
      "Epoch 6/15\n",
      "1527/1527 [==============================] - 0s - loss: 0.2793     \n",
      "Epoch 7/15\n",
      "1527/1527 [==============================] - 0s - loss: 0.2297     \n",
      "Epoch 8/15\n",
      "1527/1527 [==============================] - 0s - loss: 0.1942     \n",
      "Epoch 9/15\n",
      "1527/1527 [==============================] - 0s - loss: 0.1675     \n",
      "Epoch 10/15\n",
      "1527/1527 [==============================] - 0s - loss: 0.1471     \n",
      "Epoch 11/15\n",
      "1527/1527 [==============================] - 0s - loss: 0.1299     \n",
      "Epoch 12/15\n",
      "1527/1527 [==============================] - 0s - loss: 0.1169     \n",
      "Epoch 13/15\n",
      "1527/1527 [==============================] - 0s - loss: 0.1056     \n",
      "Epoch 14/15\n",
      "1527/1527 [==============================] - 0s - loss: 0.0950     \n",
      "Epoch 15/15\n",
      "1527/1527 [==============================] - 0s - loss: 0.0873     \n"
     ]
    },
    {
     "data": {
      "image/png": "[encoded data removed]",
      "text/plain": [
       "<matplotlib.figure.Figure at 0x1a4ab654208>"
      ]
     },
     "metadata": {},
     "output_type": "display_data"
    }
   ],
   "source": [
    "histories = {}\n",
    "scales = [0.001, 1, 10, 0, 0.01, 0.1]\n",
    "\n",
    "for scale in scales:\n",
    "    def normal_init(shape, name=None):\n",
    "        return initializations.normal(shape, scale=scale, name=name)\n",
    "    \n",
    "    model = Sequential()\n",
    "    model.add(Dense(H, input_dim=N, init=normal_init))\n",
    "    model.add(Activation(\"tanh\"))\n",
    "    model.add(Dense(K, init=normal_init))\n",
    "    model.add(Activation(\"tanh\"))\n",
    "    model.add(Dense(K, init=normal_init))\n",
    "    model.add(Activation(\"softmax\"))\n",
    "\n",
    "    model.compile(optimizer=optimizers.SGD(lr=0.1),\n",
    "                  loss='categorical_crossentropy')\n",
    "\n",
    "    history = model.fit(X_train, Y_train,\n",
    "                        nb_epoch=15, batch_size=32)    \n",
    "    histories[scale] = history\n",
    "    \n",
    "t = np.arange(0, 15)\n",
    "for scale in scales:\n",
    "    plt.plot(t, histories[scale].history['loss'], label=scale)\n",
    "plt.legend()\n",
    "plt.title('Loss during training')\n",
    "plt.xlabel('Epoch')\n",
    "plt.ylabel('Loss')\n",
    "plt.show()"
   ]
  },
  {
   "cell_type": "markdown",
   "metadata": {},
   "source": [
    "#### Adam optimizer + SGD with momentum"
   ]
  },
  {
   "cell_type": "markdown",
   "metadata": {},
   "source": [
    "$scale = 1e-3$"
   ]
  },
  {
   "cell_type": "code",
   "execution_count": 59,
   "metadata": {
    "collapsed": false
   },
   "outputs": [
    {
     "name": "stdout",
     "output_type": "stream",
     "text": [
      "Epoch 1/10\n",
      "1527/1527 [==============================] - 1s - loss: 2.2244     \n",
      "Epoch 2/10\n",
      "1527/1527 [==============================] - 0s - loss: 1.9594     \n",
      "Epoch 3/10\n",
      "1527/1527 [==============================] - 0s - loss: 1.8401     \n",
      "Epoch 4/10\n",
      "1527/1527 [==============================] - 0s - loss: 1.7967     \n",
      "Epoch 5/10\n",
      "1527/1527 [==============================] - 0s - loss: 1.7694     \n",
      "Epoch 6/10\n",
      "1527/1527 [==============================] - 0s - loss: 1.7542     \n",
      "Epoch 7/10\n",
      "1527/1527 [==============================] - 0s - loss: 1.7447     \n",
      "Epoch 8/10\n",
      "1527/1527 [==============================] - 0s - loss: 1.7235     \n",
      "Epoch 9/10\n",
      "1527/1527 [==============================] - 0s - loss: 1.6890     \n",
      "Epoch 10/10\n",
      "1527/1527 [==============================] - 0s - loss: 1.6464     \n"
     ]
    }
   ],
   "source": [
    "def normal_init(shape, name=None):\n",
    "    return initializations.normal(shape, scale=1e-3, name=name)\n",
    "\n",
    "model = Sequential()\n",
    "model.add(Dense(H, input_dim=N, init=normal_init))\n",
    "model.add(Activation(\"tanh\"))\n",
    "model.add(Dense(K, init=normal_init))\n",
    "model.add(Activation(\"tanh\"))\n",
    "model.add(Dense(K, init=normal_init))\n",
    "model.add(Activation(\"softmax\"))\n",
    "\n",
    "model.compile(optimizer=optimizers.Adam(),\n",
    "              loss='categorical_crossentropy')\n",
    "\n",
    "history = model.fit(X_train, Y_train,\n",
    "                    nb_epoch=10, batch_size=32)"
   ]
  },
  {
   "cell_type": "code",
   "execution_count": 60,
   "metadata": {
    "collapsed": false
   },
   "outputs": [
    {
     "name": "stdout",
     "output_type": "stream",
     "text": [
      "Epoch 1/10\n",
      "1527/1527 [==============================] - 1s - loss: 2.3231     \n",
      "Epoch 2/10\n",
      "1527/1527 [==============================] - 0s - loss: 2.3299     \n",
      "Epoch 3/10\n",
      "1527/1527 [==============================] - 0s - loss: 2.3314     \n",
      "Epoch 4/10\n",
      "1527/1527 [==============================] - 0s - loss: 1.9735     \n",
      "Epoch 5/10\n",
      "1527/1527 [==============================] - 0s - loss: 0.9090     \n",
      "Epoch 6/10\n",
      "1527/1527 [==============================] - 0s - loss: 0.9129     \n",
      "Epoch 7/10\n",
      "1527/1527 [==============================] - 0s - loss: 0.9500     \n",
      "Epoch 8/10\n",
      "1527/1527 [==============================] - 0s - loss: 0.8123     \n",
      "Epoch 9/10\n",
      "1527/1527 [==============================] - 0s - loss: 1.0300     \n",
      "Epoch 10/10\n",
      "1527/1527 [==============================] - 0s - loss: 0.9733     \n"
     ]
    }
   ],
   "source": [
    "def normal_init(shape, name=None):\n",
    "    return initializations.normal(shape, scale=1e-3, name=name)\n",
    "\n",
    "model = Sequential()\n",
    "model.add(Dense(H, input_dim=N, init=normal_init))\n",
    "model.add(Activation(\"tanh\"))\n",
    "model.add(Dense(K, init=normal_init))\n",
    "model.add(Activation(\"tanh\"))\n",
    "model.add(Dense(K, init=normal_init))\n",
    "model.add(Activation(\"softmax\"))\n",
    "\n",
    "model.compile(optimizer=optimizers.SGD(lr=0.1,nesterov=True,momentum=0.99),\n",
    "              loss='categorical_crossentropy')\n",
    "\n",
    "history = model.fit(X_train, Y_train,\n",
    "                    nb_epoch=10, batch_size=32)"
   ]
  },
  {
   "cell_type": "markdown",
   "metadata": {},
   "source": [
    "Adam et SGD avec momentum de Nesterov (paramètre de momentum = 0.99) gèrent mieux une mauvaise initialisation (proche de 0). Ce dernier est même meilleur que Adam."
   ]
  },
  {
   "cell_type": "markdown",
   "metadata": {},
   "source": [
    "$scale=10$"
   ]
  },
  {
   "cell_type": "code",
   "execution_count": 61,
   "metadata": {
    "collapsed": false
   },
   "outputs": [
    {
     "name": "stdout",
     "output_type": "stream",
     "text": [
      "Epoch 1/10\n",
      "1527/1527 [==============================] - 1s - loss: 14.1038     \n",
      "Epoch 2/10\n",
      "1527/1527 [==============================] - 0s - loss: 13.9884     \n",
      "Epoch 3/10\n",
      "1527/1527 [==============================] - 0s - loss: 13.9570     \n",
      "Epoch 4/10\n",
      "1527/1527 [==============================] - 0s - loss: 13.9398     \n",
      "Epoch 5/10\n",
      "1527/1527 [==============================] - 0s - loss: 13.9222     \n",
      "Epoch 6/10\n",
      "1527/1527 [==============================] - 0s - loss: 13.9100     \n",
      "Epoch 7/10\n",
      "1527/1527 [==============================] - 0s - loss: 13.9124     \n",
      "Epoch 8/10\n",
      "1527/1527 [==============================] - 0s - loss: 13.8988     \n",
      "Epoch 9/10\n",
      "1527/1527 [==============================] - 0s - loss: 13.8844     \n",
      "Epoch 10/10\n",
      "1527/1527 [==============================] - 0s - loss: 13.8693     \n"
     ]
    }
   ],
   "source": [
    "def normal_init(shape, name=None):\n",
    "    return initializations.normal(shape, scale=10, name=name)\n",
    "\n",
    "model = Sequential()\n",
    "model.add(Dense(H, input_dim=N, init=normal_init))\n",
    "model.add(Activation(\"tanh\"))\n",
    "model.add(Dense(K, init=normal_init))\n",
    "model.add(Activation(\"tanh\"))\n",
    "model.add(Dense(K, init=normal_init))\n",
    "model.add(Activation(\"softmax\"))\n",
    "\n",
    "model.compile(optimizer=optimizers.Adam(),\n",
    "              loss='categorical_crossentropy')\n",
    "\n",
    "history = model.fit(X_train, Y_train,\n",
    "                    nb_epoch=10, batch_size=32)"
   ]
  },
  {
   "cell_type": "code",
   "execution_count": 62,
   "metadata": {
    "collapsed": false
   },
   "outputs": [
    {
     "name": "stdout",
     "output_type": "stream",
     "text": [
      "Epoch 1/20\n",
      "1527/1527 [==============================] - 1s - loss: 12.8954     \n",
      "Epoch 2/20\n",
      "1527/1527 [==============================] - 0s - loss: 11.1614     \n",
      "Epoch 3/20\n",
      "1527/1527 [==============================] - 0s - loss: 10.1942     \n",
      "Epoch 4/20\n",
      "1527/1527 [==============================] - 0s - loss: 9.2012     \n",
      "Epoch 5/20\n",
      "1527/1527 [==============================] - 0s - loss: 8.6061     \n",
      "Epoch 6/20\n",
      "1527/1527 [==============================] - 0s - loss: 7.9265     \n",
      "Epoch 7/20\n",
      "1527/1527 [==============================] - 0s - loss: 7.0907     \n",
      "Epoch 8/20\n",
      "1527/1527 [==============================] - 0s - loss: 6.3584     \n",
      "Epoch 9/20\n",
      "1527/1527 [==============================] - 0s - loss: 6.1700     \n",
      "Epoch 10/20\n",
      "1527/1527 [==============================] - 0s - loss: 5.7306     \n",
      "Epoch 11/20\n",
      "1527/1527 [==============================] - 0s - loss: 5.6950     \n",
      "Epoch 12/20\n",
      "1527/1527 [==============================] - 0s - loss: 5.9236     \n",
      "Epoch 13/20\n",
      "1527/1527 [==============================] - 0s - loss: 5.9287     \n",
      "Epoch 14/20\n",
      "1527/1527 [==============================] - 0s - loss: 6.1192     \n",
      "Epoch 15/20\n",
      "1527/1527 [==============================] - 0s - loss: 6.0856     \n",
      "Epoch 16/20\n",
      "1527/1527 [==============================] - 0s - loss: 5.8838     \n",
      "Epoch 17/20\n",
      "1527/1527 [==============================] - 0s - loss: 5.7949     \n",
      "Epoch 18/20\n",
      "1527/1527 [==============================] - 0s - loss: 5.7988     \n",
      "Epoch 19/20\n",
      "1527/1527 [==============================] - 0s - loss: 5.3260     \n",
      "Epoch 20/20\n",
      "1527/1527 [==============================] - 0s - loss: 5.0557     \n"
     ]
    }
   ],
   "source": [
    "def normal_init(shape, name=None):\n",
    "    return initializations.normal(shape, scale=10, name=name)\n",
    "\n",
    "model = Sequential()\n",
    "model.add(Dense(H, input_dim=N, init=normal_init))\n",
    "model.add(Activation(\"tanh\"))\n",
    "model.add(Dense(K, init=normal_init))\n",
    "model.add(Activation(\"tanh\"))\n",
    "model.add(Dense(K, init=normal_init))\n",
    "model.add(Activation(\"softmax\"))\n",
    "\n",
    "model.compile(optimizer=optimizers.SGD(lr=0.1,nesterov=True,momentum=0.99),\n",
    "              loss='categorical_crossentropy')\n",
    "\n",
    "history = model.fit(X_train, Y_train,\n",
    "                    nb_epoch=20, batch_size=32)"
   ]
  },
  {
   "cell_type": "markdown",
   "metadata": {},
   "source": [
    "En revanche, une initialisation plus éparse semble être toujours un obstacle à la convergence de l'algorithme Adam. Pour le SGD de Nesterov, la convergence est plus lente, mais elle existe."
   ]
  },
  {
   "cell_type": "code",
   "execution_count": 63,
   "metadata": {
    "collapsed": false
   },
   "outputs": [],
   "source": [
    "# %load solutions/keras_initializations.py"
   ]
  },
  {
   "cell_type": "code",
   "execution_count": 64,
   "metadata": {
    "collapsed": false
   },
   "outputs": [],
   "source": [
    "# %load solutions/keras_initializations_analysis.py"
   ]
  },
  {
   "cell_type": "markdown",
   "metadata": {},
   "source": [
    "# II) Numpy Implementation\n",
    "\n",
    "## a) Logistic Regression\n",
    "\n",
    "In this section we will implement a logistic regression model trainable with SGD using numpy. Here are the objectives:\n",
    "\n",
    "1/ Implement a simple forward model with no hidden layer (equivalent to a logistic regression):\n",
    "note: shape, transpose of W with regards to course\n",
    "$y = softmax(\\mathbf{W} \\dot x + b)$\n",
    "\n",
    "2/ build a predict function which returns the most probable class given an input $x$\n",
    "\n",
    "3/ build an accuracy function for a batch of inputs $X$ and the corresponding expected outputs $y_{true}$\n",
    "\n",
    "4/ build a grad function which computes $\\frac{d}{dW} -\\log(softmax(W \\dot x + b))$ for an $x$ and its corresponding expected output $y_{true}$ ; check that the gradients are well defined\n",
    "\n",
    "5/ build a train function which uses the grad function output to update $\\mathbf{W}$ and $b$\n",
    "\n",
    "\n",
    "First let's define a helper function to compute the one hot encoding of an integer array for a fixed number of classes (similar to keras' `to_categorical`):"
   ]
  },
  {
   "cell_type": "code",
   "execution_count": 65,
   "metadata": {
    "collapsed": true
   },
   "outputs": [],
   "source": [
    "def one_hot(n_classes, y):\n",
    "    return np.eye(n_classes)[y]"
   ]
  },
  {
   "cell_type": "code",
   "execution_count": 66,
   "metadata": {
    "collapsed": false
   },
   "outputs": [
    {
     "data": {
      "text/plain": [
       "array([ 0.,  0.,  0.,  1.,  0.,  0.,  0.,  0.,  0.,  0.])"
      ]
     },
     "execution_count": 66,
     "metadata": {},
     "output_type": "execute_result"
    }
   ],
   "source": [
    "one_hot(10, 3)"
   ]
  },
  {
   "cell_type": "code",
   "execution_count": 67,
   "metadata": {
    "collapsed": false
   },
   "outputs": [
    {
     "data": {
      "text/plain": [
       "array([[ 1.,  0.,  0.,  0.,  0.,  0.,  0.,  0.,  0.,  0.],\n",
       "       [ 0.,  0.,  0.,  0.,  1.,  0.,  0.,  0.,  0.,  0.],\n",
       "       [ 0.,  0.,  0.,  0.,  0.,  0.,  0.,  0.,  0.,  1.],\n",
       "       [ 0.,  1.,  0.,  0.,  0.,  0.,  0.,  0.,  0.,  0.]])"
      ]
     },
     "execution_count": 67,
     "metadata": {},
     "output_type": "execute_result"
    }
   ],
   "source": [
    "one_hot(10, [0, 4, 9, 1])"
   ]
  },
  {
   "cell_type": "markdown",
   "metadata": {},
   "source": [
    "Now let's implement the softmax vector function:\n",
    "\n",
    "$$\n",
    "softmax(\\mathbf{x}) = \\frac{1}{\\sum_{i=1}^{n}{e^{x_i}}}\n",
    "\\cdot\n",
    "\\begin{bmatrix}\n",
    "  e^{x_1}\\\\\\\\\n",
    "  e^{x_2}\\\\\\\\\n",
    "  \\vdots\\\\\\\\\n",
    "  e^{x_n}\n",
    "\\end{bmatrix}\n",
    "$$"
   ]
  },
  {
   "cell_type": "code",
   "execution_count": 68,
   "metadata": {
    "collapsed": false
   },
   "outputs": [],
   "source": [
    "def softmax(X):\n",
    "    exp=np.exp(X)\n",
    "    return exp / np.sum(exp, axis=-1, keepdims=True)"
   ]
  },
  {
   "cell_type": "markdown",
   "metadata": {},
   "source": [
    "Make sure that this works one vector at a time (and check that the components sum to one):"
   ]
  },
  {
   "cell_type": "code",
   "execution_count": 69,
   "metadata": {
    "collapsed": false
   },
   "outputs": [
    {
     "name": "stdout",
     "output_type": "stream",
     "text": [
      "[  9.99662391e-01   3.35349373e-04   2.25956630e-06]\n"
     ]
    }
   ],
   "source": [
    "print(softmax([10, 2, -3]))"
   ]
  },
  {
   "cell_type": "markdown",
   "metadata": {},
   "source": [
    "Note that a naive implementation of softmax might not be able process a batch of activations in a single call:"
   ]
  },
  {
   "cell_type": "code",
   "execution_count": 70,
   "metadata": {
    "collapsed": false
   },
   "outputs": [
    {
     "name": "stdout",
     "output_type": "stream",
     "text": [
      "[[  9.99662391e-01   3.35349373e-04   2.25956630e-06]\n",
      " [  2.47262316e-03   9.97527377e-01   1.38536042e-11]]\n"
     ]
    }
   ],
   "source": [
    "X = np.array([[10, 2, -3],\n",
    "              [-1, 5, -20]])\n",
    "print(softmax(X))"
   ]
  },
  {
   "cell_type": "markdown",
   "metadata": {},
   "source": [
    "Here is a way to implement softmax that works both for an individal vector of activations and for a batch of activation vectors at once:"
   ]
  },
  {
   "cell_type": "code",
   "execution_count": 71,
   "metadata": {
    "collapsed": false
   },
   "outputs": [
    {
     "name": "stdout",
     "output_type": "stream",
     "text": [
      "softmax of a single vector:\n",
      "[  9.99662391e-01   3.35349373e-04   2.25956630e-06]\n",
      "1.0\n"
     ]
    }
   ],
   "source": [
    "def softmax(X):\n",
    "    exp = np.exp(X)\n",
    "    return exp / np.sum(exp, axis=-1, keepdims=True)\n",
    "\n",
    "\n",
    "print(\"softmax of a single vector:\")\n",
    "print(softmax([10, 2, -3]))\n",
    "print(np.sum(softmax([10, 2, -3])))"
   ]
  },
  {
   "cell_type": "code",
   "execution_count": 72,
   "metadata": {
    "collapsed": false
   },
   "outputs": [
    {
     "name": "stdout",
     "output_type": "stream",
     "text": [
      "sotfmax of 2 vectors:\n",
      "[[  9.99662391e-01   3.35349373e-04   2.25956630e-06]\n",
      " [  2.47262316e-03   9.97527377e-01   1.38536042e-11]]\n",
      "[ 1.  1.]\n"
     ]
    }
   ],
   "source": [
    "print(\"sotfmax of 2 vectors:\")\n",
    "X = np.array([[10, 2, -3],\n",
    "              [-1, 5, -20]])\n",
    "print(softmax(X))\n",
    "print(np.sum(softmax(X), axis=1))"
   ]
  },
  {
   "cell_type": "markdown",
   "metadata": {},
   "source": [
    "Implement a function that given the true one-hot encoded class `Y_true` and and some predicted probabilities `Y_pred` returns the negative log likelihood."
   ]
  },
  {
   "cell_type": "code",
   "execution_count": 73,
   "metadata": {
    "collapsed": false
   },
   "outputs": [
    {
     "name": "stdout",
     "output_type": "stream",
     "text": [
      "0.0100503257525\n"
     ]
    }
   ],
   "source": [
    "EPSILON= 1e-8\n",
    "\n",
    "def nll(Y_true, Y_pred):\n",
    "    Y_true, Y_pred = np.atleast_2d(Y_true), np.atleast_2d(Y_pred)\n",
    "    loglikelihood=np.sum(np.log(EPSILON + Y_pred)*Y_true,axis=1)\n",
    "    return -np.mean(loglikelihood)\n",
    "\n",
    "\n",
    "# Make sure that it works for a simple sample at a time\n",
    "print(nll([1, 0, 0], [.99, 0.01, 0]))"
   ]
  },
  {
   "cell_type": "markdown",
   "metadata": {},
   "source": [
    "Check that the nll of a very confident yet bad prediction is a much higher positive number:"
   ]
  },
  {
   "cell_type": "code",
   "execution_count": 74,
   "metadata": {
    "collapsed": false
   },
   "outputs": [
    {
     "name": "stdout",
     "output_type": "stream",
     "text": [
      "4.60516918599\n"
     ]
    }
   ],
   "source": [
    "print(nll([1, 0, 0], [0.01, 0.01, .98]))"
   ]
  },
  {
   "cell_type": "markdown",
   "metadata": {},
   "source": [
    "Make sure that your implementation can compute the average negative log likelihood of a group of predictions: `Y_pred` and `Y_true` can therefore be past as 2D arrays:"
   ]
  },
  {
   "cell_type": "code",
   "execution_count": 75,
   "metadata": {
    "collapsed": false
   },
   "outputs": [
    {
     "name": "stdout",
     "output_type": "stream",
     "text": [
      "0.0033501019175\n"
     ]
    }
   ],
   "source": [
    "# Check that the average NLL of the following 3 almost perfect\n",
    "# predictions is close to 0\n",
    "Y_true = np.array([[0, 1, 0],\n",
    "                   [1, 0, 0],\n",
    "                   [0, 0, 1]])\n",
    "\n",
    "Y_pred = np.array([[0,   1,    0],\n",
    "                   [.99, 0.01, 0],\n",
    "                   [0,   0,    1]])\n",
    "\n",
    "print(nll(Y_true, Y_pred))"
   ]
  },
  {
   "cell_type": "code",
   "execution_count": 76,
   "metadata": {
    "collapsed": false
   },
   "outputs": [],
   "source": [
    "# %load solutions/numpy_nll.py"
   ]
  },
  {
   "cell_type": "markdown",
   "metadata": {},
   "source": [
    "Let us now study the following linear model trainable by SGD, **one sample at a time**."
   ]
  },
  {
   "cell_type": "code",
   "execution_count": 77,
   "metadata": {
    "collapsed": true
   },
   "outputs": [],
   "source": [
    "class LogisticRegression():\n",
    "\n",
    "    def __init__(self, input_size, output_size):\n",
    "        self.W = np.random.uniform(size=(input_size, output_size),\n",
    "                                   high=0.1, low=-0.1)\n",
    "        self.b = np.random.uniform(size=output_size,\n",
    "                                   high=0.1, low=-0.1)\n",
    "        self.output_size = output_size\n",
    "        \n",
    "    def forward(self, X):\n",
    "        Z = np.dot(X, self.W) + self.b\n",
    "        return softmax(Z)\n",
    "    \n",
    "    def predict(self, X):\n",
    "        if len(X.shape) == 1:\n",
    "            return np.argmax(self.forward(X))\n",
    "        else:\n",
    "            return np.argmax(self.forward(X), axis=1)\n",
    "    \n",
    "    def grad_loss(self, x, y_true):\n",
    "        y_pred = self.forward(x)\n",
    "        dnll_output =  y_pred - one_hot(self.output_size, y_true)\n",
    "        grad_W = np.outer(x, dnll_output)\n",
    "        grad_b = dnll_output\n",
    "        grads = {\"W\": grad_W, \"b\": grad_b}\n",
    "        return grads\n",
    "    \n",
    "    def train(self, x, y, learning_rate):\n",
    "        # Traditional SGD update without momentum\n",
    "        grads = self.grad_loss(x, y)\n",
    "        self.W = self.W - learning_rate * grads[\"W\"]\n",
    "        self.b = self.b - learning_rate * grads[\"b\"]      \n",
    "        \n",
    "    def loss(self, x, y):\n",
    "        return nll(one_hot(self.output_size, y), self.forward(x))\n",
    "\n",
    "    def accuracy(self, X, y):\n",
    "        y_preds = np.argmax(self.forward(X), axis=1)\n",
    "        return np.mean(y_preds == y)"
   ]
  },
  {
   "cell_type": "code",
   "execution_count": 78,
   "metadata": {
    "collapsed": false
   },
   "outputs": [
    {
     "name": "stdout",
     "output_type": "stream",
     "text": [
      "Evaluation of the untrained model:\n",
      "train loss: 2.4825, train acc: 0.069, test acc: 0.069\n"
     ]
    }
   ],
   "source": [
    "# Build a model and test its forward inference\n",
    "n_features = X_train.shape[1]\n",
    "n_classes = Y_train.shape[1]\n",
    "lr = LogisticRegression(n_features, n_classes)\n",
    "\n",
    "print(\"Evaluation of the untrained model:\")\n",
    "train_loss = lr.loss(X_train, y_train)\n",
    "train_acc = lr.accuracy(X_train, y_train)\n",
    "test_acc = lr.accuracy(X_train, y_train)\n",
    "\n",
    "print(\"train loss: %0.4f, train acc: %0.3f, test acc: %0.3f\"\n",
    "      % (train_loss, train_acc, test_acc))"
   ]
  },
  {
   "cell_type": "code",
   "execution_count": 79,
   "metadata": {
    "collapsed": false
   },
   "outputs": [
    {
     "name": "stdout",
     "output_type": "stream",
     "text": [
      "5\n"
     ]
    },
    {
     "data": {
      "image/png": "[encoded data removed]",
      "text/plain": [
       "<matplotlib.figure.Figure at 0x1a4afc143c8>"
      ]
     },
     "metadata": {},
     "output_type": "display_data"
    }
   ],
   "source": [
    "# Test the untrained model on the first example\n",
    "sample_idx = 0\n",
    "plt.plot(lr.forward(X_train[sample_idx]), linestyle='-', label='prediction')\n",
    "plt.plot(one_hot(10, y_train[sample_idx]), linestyle='--', label='true')\n",
    "plt.title('output probabilities')\n",
    "plt.legend()\n",
    "print(lr.predict(X_train[sample_idx]))"
   ]
  },
  {
   "cell_type": "code",
   "execution_count": 80,
   "metadata": {
    "collapsed": false
   },
   "outputs": [
    {
     "name": "stdout",
     "output_type": "stream",
     "text": [
      "Update #0, train loss: 2.4585, train acc: 0.095, test acc: 0.111\n",
      "Update #100, train loss: 1.3259, train acc: 0.709, test acc: 0.726\n",
      "Update #200, train loss: 0.8466, train acc: 0.862, test acc: 0.900\n",
      "Update #300, train loss: 0.6284, train acc: 0.908, test acc: 0.926\n",
      "Update #400, train loss: 0.5210, train acc: 0.909, test acc: 0.922\n",
      "Update #500, train loss: 0.4512, train acc: 0.926, test acc: 0.930\n",
      "Update #600, train loss: 0.3947, train acc: 0.930, test acc: 0.926\n",
      "Update #700, train loss: 0.3590, train acc: 0.934, test acc: 0.944\n",
      "Update #800, train loss: 0.3388, train acc: 0.936, test acc: 0.952\n",
      "Update #900, train loss: 0.3131, train acc: 0.942, test acc: 0.956\n",
      "Update #1000, train loss: 0.2939, train acc: 0.949, test acc: 0.952\n",
      "Update #1100, train loss: 0.2750, train acc: 0.950, test acc: 0.952\n",
      "Update #1200, train loss: 0.2627, train acc: 0.954, test acc: 0.970\n",
      "Update #1300, train loss: 0.2531, train acc: 0.955, test acc: 0.952\n",
      "Update #1400, train loss: 0.2424, train acc: 0.959, test acc: 0.952\n",
      "Update #1500, train loss: 0.2310, train acc: 0.959, test acc: 0.952\n"
     ]
    }
   ],
   "source": [
    "# Training for one epoch\n",
    "learning_rate = 0.01\n",
    "\n",
    "for i, (x, y) in enumerate(zip(X_train, y_train)):\n",
    "    lr.train(x, y, learning_rate)\n",
    "    if i % 100 == 0:\n",
    "        train_loss = lr.loss(X_train, y_train)\n",
    "        train_acc = lr.accuracy(X_train, y_train)\n",
    "        test_acc = lr.accuracy(X_test, y_test)\n",
    "        print(\"Update #%d, train loss: %0.4f, train acc: %0.3f, test acc: %0.3f\"\n",
    "              % (i, train_loss, train_acc, test_acc))"
   ]
  },
  {
   "cell_type": "code",
   "execution_count": 81,
   "metadata": {
    "collapsed": false
   },
   "outputs": [
    {
     "name": "stdout",
     "output_type": "stream",
     "text": [
      "2\n"
     ]
    },
    {
     "data": {
      "image/png": "[encoded data removed]",
      "text/plain": [
       "<matplotlib.figure.Figure at 0x1a4b6227668>"
      ]
     },
     "metadata": {},
     "output_type": "display_data"
    }
   ],
   "source": [
    "# Evaluate the trained model on the first example\n",
    "sample_idx = 0\n",
    "plt.plot(lr.forward(X_train[sample_idx]), linestyle='-', label='prediction')\n",
    "plt.plot(one_hot(10, y_train[sample_idx]), linestyle='--', label='true')\n",
    "plt.title('output probabilities')\n",
    "plt.legend()\n",
    "print(lr.predict(X_train[sample_idx]))"
   ]
  },
  {
   "cell_type": "markdown",
   "metadata": {},
   "source": [
    "## b) Feedforward Multilayer\n",
    "\n",
    "The objective of this section is to implement the backpropagation algorithm (SGD with the chain rule) on a single layer neural network using the sigmoid activation function.\n",
    "\n",
    "- Implement the `sigmoid` and its element-wise derivative `dsigmoid` functions:\n",
    "\n",
    "$$\n",
    "sigmoid(x) = \\frac{1}{1 + e^{-x}}\n",
    "$$\n",
    "\n",
    "$$\n",
    "dsigmoid(x) = sigmoid(x) \\cdot (1 - sigmoid(x))\n",
    "$$"
   ]
  },
  {
   "cell_type": "code",
   "execution_count": 84,
   "metadata": {
    "collapsed": true
   },
   "outputs": [],
   "source": [
    "def sigmoid(X):\n",
    "    sigmo = 1. / (1 + np.exp(-X))\n",
    "    return sigmo\n",
    "\n",
    "\n",
    "def dsigmoid(X):\n",
    "    diffsigmo=sigmoid(X)*(1-sigmoid(X))\n",
    "    return diffsigmo"
   ]
  },
  {
   "cell_type": "code",
   "execution_count": 85,
   "metadata": {
    "collapsed": false
   },
   "outputs": [
    {
     "data": {
      "image/png": "[encoded data removed]",
      "text/plain": [
       "<matplotlib.figure.Figure at 0x1a4b4e5d080>"
      ]
     },
     "metadata": {},
     "output_type": "display_data"
    }
   ],
   "source": [
    "# %load solutions/sigmoid.py\n",
    "def sigmoid(X):\n",
    "    return 1 / (1 + np.exp(-X))\n",
    "\n",
    "\n",
    "def dsigmoid(X):\n",
    "    sig=sigmoid(X)\n",
    "    return sig * (1 - sig)\n",
    "\n",
    "\n",
    "x = np.linspace(-5, 5, 100)\n",
    "plt.plot(x, sigmoid(x), label='sigmoid')\n",
    "plt.plot(x, dsigmoid(x), label='dsigmoid')\n",
    "plt.legend(loc='best');"
   ]
  },
  {
   "cell_type": "markdown",
   "metadata": {},
   "source": [
    "- Implement `forward` and `forward_keep_all` functions for a model with a hidden layer, similar to the first one in Keras:\n",
    "  - $h = sigmoid(\\mathbf{W}^h x + b^h)$\n",
    "  - $y = softmax(\\mathbf{W}^o h + b^o)$\n",
    "\n",
    "Notes: \n",
    "  - try to keep the code as similar as possible as the previous one;\n",
    "  - `forward_keep_activations` is similar to forward, but also returns hidden activations and pre activations;\n",
    "\n",
    "- update the grad function to compute all gradients; check that the gradients are well defined;\n",
    "\n",
    "- implement the `train` and `loss` functions.\n",
    "\n",
    "Bonus: reimplementing all from scratch without looking at the solution of the `LogisticRegression` is an excellent exercise."
   ]
  },
  {
   "cell_type": "code",
   "execution_count": 86,
   "metadata": {
    "collapsed": true
   },
   "outputs": [],
   "source": [
    "W_h = np.random.uniform(low=-0.1,high=0.1,size=(64,20))\n",
    "b_h = np.zeros(20)\n",
    "W_o = np.random.uniform(low=-0.1,high=0.1,size=(20,n_classes))\n",
    "b_o = np.zeros(n_classes)"
   ]
  },
  {
   "cell_type": "code",
   "execution_count": 87,
   "metadata": {
    "collapsed": false
   },
   "outputs": [],
   "source": [
    "EPSILON = 1e-8\n",
    "\n",
    "class NeuralNet():\n",
    "    \"\"\"MLP with 1 hidden layer with a sigmoid activation\"\"\"\n",
    "    \n",
    "    def __init__(self, input_size, hidden_size, output_size,activation,d_activation):\n",
    "        # TODO\n",
    "        self.W_h = np.random.uniform(low=-0.1,high=0.1,size=(input_size,hidden_size))\n",
    "        self.b_h = np.zeros(hidden_size)\n",
    "        self.W_o = np.random.uniform(low=-0.1,high=0.1,size=(hidden_size,output_size))\n",
    "        self.b_o = np.zeros(output_size)\n",
    "        self.output_size = output_size\n",
    "        self.activation=activation\n",
    "        self.d_activation=d_activation\n",
    "        \n",
    "    def forward(self, X):\n",
    "        # TODO\n",
    "        res = self.activation(np.dot(X,self.W_h) + self.b_h)\n",
    "        res = softmax(np.dot(res,self.W_o) + self.b_o)\n",
    "        return(res)\n",
    "        #if len(X.shape) == 1:\n",
    "        #    res = sigmoid(np.dot(self.W_h.T,X) + self.b_h)\n",
    "        #    res = sigmoid(np.dot(self.W_o,res) + self.b_o)\n",
    "        #    return(softmax(res))\n",
    "        #else:\n",
    "        #    res = sigmoid(np.dot(self.W_h,X.T) + self.b_h)\n",
    "        #    res = sigmoid(np.dot(self.W_o,res) + self.b_o)\n",
    "        #    return(softmax(res))\n",
    "    \n",
    "    def forward_keep_activations(self, X):\n",
    "        # TODO\n",
    "        #z_h = 0.\n",
    "        #h = 0.\n",
    "        #y = np.random.uniform(size=self.output_size,\n",
    "        #                      high=1.0-EPSILON, low=EPSILON)\n",
    "        z_h = np.dot(X,self.W_h) + self.b_h\n",
    "        h = self.activation(z_h)\n",
    "        pre_y = np.dot(h,self.W_o) + self.b_o\n",
    "        y = softmax(pre_y)\n",
    "        return y, h, z_h\n",
    "    \n",
    "    def loss(self, X, y):\n",
    "        # TODO\n",
    "        return nll(one_hot(self.output_size,y),self.forward(X))\n",
    "\n",
    "    def grad_loss(self, x, y_true):\n",
    "        # TODO\n",
    "        y_pred=self.forward(x)\n",
    "        with_activations=self.forward_keep_activations(x)\n",
    "        grad_z0=y_pred-one_hot(self.output_size,y_true)\n",
    "        grad_w0=np.outer(with_activations[1],grad_z0)\n",
    "        grad_b0=grad_z0.copy()\n",
    "        grad_h=np.dot(grad_z0,self.W_o.T)\n",
    "        grad_zh=grad_h*self.d_activation(with_activations[2])\n",
    "        grad_wh=np.outer(x,grad_zh)\n",
    "        grad_bh=grad_zh.copy()\n",
    "        return {\"W_h\": grad_wh, \"b_h\": grad_bh, \"W_o\": grad_w0, \"b_o\": grad_b0}\n",
    "\n",
    "    def train(self, x, y, learning_rate):\n",
    "        # TODO\n",
    "        grads=self.grad_loss(x,y)\n",
    "        self.W_o-=learning_rate*grads[\"W_o\"]\n",
    "        self.b_o-=learning_rate*grads[\"b_o\"]\n",
    "        self.W_h-=learning_rate*grads[\"W_h\"]\n",
    "        self.b_h-=learning_rate*grads[\"b_h\"]\n",
    "\n",
    "    def predict(self, X):\n",
    "        if len(X.shape) == 1:\n",
    "            return np.argmax(self.forward(X))\n",
    "        else:\n",
    "            return np.argmax(self.forward(X), axis=1)\n",
    "\n",
    "    def accuracy(self, X, y):\n",
    "        y_preds = np.argmax(self.forward(X), axis=1)\n",
    "        return np.mean(y_preds == y)"
   ]
  },
  {
   "cell_type": "code",
   "execution_count": 88,
   "metadata": {
    "collapsed": true
   },
   "outputs": [],
   "source": [
    "# %load solutions/neural_net.py"
   ]
  },
  {
   "cell_type": "code",
   "execution_count": 89,
   "metadata": {
    "collapsed": false
   },
   "outputs": [],
   "source": [
    "n_hidden = 10\n",
    "model = NeuralNet(n_features, n_hidden, n_classes,sigmoid,dsigmoid)"
   ]
  },
  {
   "cell_type": "code",
   "execution_count": 90,
   "metadata": {
    "collapsed": false
   },
   "outputs": [
    {
     "data": {
      "text/plain": [
       "array([ 0.11217886,  0.08813383,  0.09415178,  0.10980922,  0.09522911,\n",
       "        0.09574163,  0.09264938,  0.11026547,  0.09694145,  0.10489928])"
      ]
     },
     "execution_count": 90,
     "metadata": {},
     "output_type": "execute_result"
    }
   ],
   "source": [
    "model.forward(X_train[1])"
   ]
  },
  {
   "cell_type": "code",
   "execution_count": 91,
   "metadata": {
    "collapsed": false
   },
   "outputs": [
    {
     "data": {
      "text/plain": [
       "2.3001826436471133"
      ]
     },
     "execution_count": 91,
     "metadata": {},
     "output_type": "execute_result"
    }
   ],
   "source": [
    "model.loss(X_train, y_train)"
   ]
  },
  {
   "cell_type": "code",
   "execution_count": 92,
   "metadata": {
    "collapsed": false
   },
   "outputs": [
    {
     "data": {
      "text/plain": [
       "0.13294040602488538"
      ]
     },
     "execution_count": 92,
     "metadata": {},
     "output_type": "execute_result"
    }
   ],
   "source": [
    "model.accuracy(X_train, y_train)"
   ]
  },
  {
   "cell_type": "code",
   "execution_count": 93,
   "metadata": {
    "collapsed": false
   },
   "outputs": [
    {
     "name": "stdout",
     "output_type": "stream",
     "text": [
      "0\n"
     ]
    },
    {
     "data": {
      "image/png": "[encoded data removed]",
      "text/plain": [
       "<matplotlib.figure.Figure at 0x1a4b4df07b8>"
      ]
     },
     "metadata": {},
     "output_type": "display_data"
    }
   ],
   "source": [
    "sample_idx = 0\n",
    "plt.plot(model.forward(X_train[sample_idx]), linestyle='-', label='prediction')\n",
    "plt.plot(one_hot(10, y_train[sample_idx]), linestyle='--', label='true')\n",
    "plt.title('output probabilities')\n",
    "plt.legend()\n",
    "print(model.predict(X_train[sample_idx]))"
   ]
  },
  {
   "cell_type": "code",
   "execution_count": 94,
   "metadata": {
    "collapsed": false
   },
   "outputs": [
    {
     "name": "stdout",
     "output_type": "stream",
     "text": [
      "Random init: train loss: 2.3002, train acc: 0.133, test acc: 0.111\n",
      "Epoch #1, train loss: 0.3227, train acc: 0.927, test acc: 0.889\n",
      "Epoch #2, train loss: 0.1741, train acc: 0.961, test acc: 0.930\n",
      "Epoch #3, train loss: 0.1234, train acc: 0.973, test acc: 0.933\n",
      "Epoch #4, train loss: 0.0911, train acc: 0.984, test acc: 0.941\n",
      "Epoch #5, train loss: 0.0727, train acc: 0.988, test acc: 0.941\n",
      "Epoch #6, train loss: 0.0566, train acc: 0.991, test acc: 0.941\n",
      "Epoch #7, train loss: 0.0458, train acc: 0.994, test acc: 0.944\n",
      "Epoch #8, train loss: 0.0366, train acc: 0.995, test acc: 0.948\n",
      "Epoch #9, train loss: 0.0315, train acc: 0.997, test acc: 0.948\n",
      "Epoch #10, train loss: 0.0272, train acc: 0.997, test acc: 0.952\n",
      "Epoch #11, train loss: 0.0240, train acc: 0.998, test acc: 0.959\n",
      "Epoch #12, train loss: 0.0217, train acc: 0.998, test acc: 0.956\n",
      "Epoch #13, train loss: 0.0186, train acc: 0.999, test acc: 0.967\n",
      "Epoch #14, train loss: 0.0170, train acc: 0.999, test acc: 0.970\n",
      "Epoch #15, train loss: 0.0152, train acc: 0.999, test acc: 0.970\n"
     ]
    }
   ],
   "source": [
    "losses, accuracies, accuracies_test = [], [], []\n",
    "losses.append(model.loss(X_train, y_train))\n",
    "accuracies.append(model.accuracy(X_train, y_train))\n",
    "accuracies_test.append(model.accuracy(X_test, y_test))\n",
    "\n",
    "print(\"Random init: train loss: %0.4f, train acc: %0.3f, test acc: %0.3f\"\n",
    "      % (losses[-1], accuracies[-1], accuracies_test[-1]))\n",
    "\n",
    "for epoch in range(15):\n",
    "    for i, (x, y) in enumerate(zip(X_train, y_train)):\n",
    "        model.train(x, y, 0.1)\n",
    "\n",
    "    losses.append(model.loss(X_train, y_train))\n",
    "    accuracies.append(model.accuracy(X_train, y_train))\n",
    "    accuracies_test.append(model.accuracy(X_test, y_test))\n",
    "    print(\"Epoch #%d, train loss: %0.4f, train acc: %0.3f, test acc: %0.3f\"\n",
    "          % (epoch + 1, losses[-1], accuracies[-1], accuracies_test[-1]))"
   ]
  },
  {
   "cell_type": "code",
   "execution_count": 95,
   "metadata": {
    "collapsed": false
   },
   "outputs": [
    {
     "data": {
      "image/png": "[encoded data removed]",
      "text/plain": [
       "<matplotlib.figure.Figure at 0x1a4b4f92f28>"
      ]
     },
     "metadata": {},
     "output_type": "display_data"
    }
   ],
   "source": [
    "plt.plot(losses)\n",
    "plt.title(\"Training loss\");"
   ]
  },
  {
   "cell_type": "code",
   "execution_count": 96,
   "metadata": {
    "collapsed": false
   },
   "outputs": [
    {
     "data": {
      "image/png": "[encoded data removed]",
      "text/plain": [
       "<matplotlib.figure.Figure at 0x1a4b5003978>"
      ]
     },
     "metadata": {},
     "output_type": "display_data"
    }
   ],
   "source": [
    "plt.plot(accuracies, label='train')\n",
    "plt.plot(accuracies_test, label='test')\n",
    "plt.ylim(0, 1.1)\n",
    "plt.ylabel(\"accuracy\")\n",
    "plt.legend(loc='best');"
   ]
  },
  {
   "cell_type": "markdown",
   "metadata": {},
   "source": [
    "## c) Exercises\n",
    "\n",
    "### Hyper parameters settings\n",
    "\n",
    "- Experiment with different hyper parameters:\n",
    "  - learning rate,\n",
    "  - size of hidden layer,\n",
    "  - initialization scheme: test with 0 initialization vs uniform,\n",
    "  - implement other activation functions,\n",
    "  - implement the support for a second hidden layer.\n",
    "\n",
    "\n",
    "### Mini-batches\n",
    "\n",
    "- Bonus: the current implementations of `train` and `grad_loss` function currently only accept a single sample at a time:\n",
    "    - implement the support for training with a mini-batch of 32 samples at a time instead of one,\n",
    "    - experiment with different sizes of batches,\n",
    "    - monitor the norm of the average gradients on the full training set at the end of each epoch.\n",
    "\n",
    "\n",
    "### Momentum\n",
    "\n",
    "- Bonus: Implement momentum"
   ]
  },
  {
   "cell_type": "markdown",
   "metadata": {},
   "source": [
    "#### Hyperparameter settings"
   ]
  },
  {
   "cell_type": "markdown",
   "metadata": {},
   "source": [
    "Learning rate"
   ]
  },
  {
   "cell_type": "code",
   "execution_count": 97,
   "metadata": {
    "collapsed": false
   },
   "outputs": [
    {
     "name": "stderr",
     "output_type": "stream",
     "text": [
      "C:\\Users\\Peter martigny\\Anaconda3\\envs\\py35\\lib\\site-packages\\ipykernel\\__main__.py:3: RuntimeWarning: overflow encountered in exp\n",
      "  app.launch_new_instance()\n"
     ]
    }
   ],
   "source": [
    "learning_rate_list=[1e-2,1e-1,1,5,10]\n",
    "losses, accuracies, accuracies_test = [], [], []\n",
    "losses_temp, accuracies_temp, accuracies_test_temp = [], [], []\n",
    "\n",
    "for lr in learning_rate_list:\n",
    "    losses_temp, accuracies_temp, accuracies_test_temp = [], [], []\n",
    "    for epoch in range(15):\n",
    "        for i, (x, y) in enumerate(zip(X_train, y_train)):\n",
    "            model.train(x, y, lr)\n",
    "\n",
    "        losses_temp.append(model.loss(X_train, y_train))\n",
    "        accuracies_temp.append(model.accuracy(X_train, y_train))\n",
    "        accuracies_test_temp.append(model.accuracy(X_test, y_test))\n",
    "    losses.append(losses_temp)\n",
    "    accuracies.append(accuracies_temp)\n",
    "    accuracies_test.append(accuracies_test_temp)"
   ]
  },
  {
   "cell_type": "code",
   "execution_count": 98,
   "metadata": {
    "collapsed": false
   },
   "outputs": [
    {
     "data": {
      "image/png": "[encoded data removed]",
      "text/plain": [
       "<matplotlib.figure.Figure at 0x1a4b627df98>"
      ]
     },
     "metadata": {},
     "output_type": "display_data"
    }
   ],
   "source": [
    "for j in range(len(learning_rate_list)):\n",
    "    plt.plot(losses[j],label=str(learning_rate_list[j]))\n",
    "plt.legend(loc='best')\n",
    "plt.xlabel(\"epoch\")\n",
    "plt.ylabel(\"loss\")\n",
    "plt.show()"
   ]
  },
  {
   "cell_type": "code",
   "execution_count": 99,
   "metadata": {
    "collapsed": false,
    "scrolled": true
   },
   "outputs": [
    {
     "data": {
      "image/png": "[encoded data removed]",
      "text/plain": [
       "<matplotlib.figure.Figure at 0x1a4b4f97630>"
      ]
     },
     "metadata": {},
     "output_type": "display_data"
    }
   ],
   "source": [
    "#Zoom 1\n",
    "for j in range(len(learning_rate_list)-1):\n",
    "    plt.plot(losses[j],label=str(learning_rate_list[j]))\n",
    "plt.legend(loc='best')\n",
    "plt.xlabel(\"epoch\")\n",
    "plt.ylabel(\"loss\")\n",
    "plt.show()"
   ]
  },
  {
   "cell_type": "code",
   "execution_count": 100,
   "metadata": {
    "collapsed": false
   },
   "outputs": [
    {
     "data": {
      "image/png": "[encoded data removed]",
      "text/plain": [
       "<matplotlib.figure.Figure at 0x1a4b652bdd8>"
      ]
     },
     "metadata": {},
     "output_type": "display_data"
    }
   ],
   "source": [
    "#Zoom 2\n",
    "for j in range(len(learning_rate_list)-2):\n",
    "    plt.plot(losses[j],label=str(learning_rate_list[j]))\n",
    "plt.legend(loc='best')\n",
    "plt.xlabel(\"epoch\")\n",
    "plt.ylabel(\"loss\")\n",
    "plt.show()"
   ]
  },
  {
   "cell_type": "markdown",
   "metadata": {},
   "source": [
    "We observe that a too low or a too high learning rate has a critical bad impact on the convergence of the optimization step. It appears that there is a trade-off to be found: here, a value of 1 seems to be optimal."
   ]
  },
  {
   "cell_type": "markdown",
   "metadata": {},
   "source": [
    "Different hidden layer sizes"
   ]
  },
  {
   "cell_type": "code",
   "execution_count": 101,
   "metadata": {
    "collapsed": false
   },
   "outputs": [],
   "source": [
    "listOfHLSizes=[1,5,10,20,30,50]\n",
    "losses, accuracies, accuracies_test = [], [], []\n",
    "losses_temp, accuracies_temp, accuracies_test_temp = [], [], []\n",
    "\n",
    "for hls in listOfHLSizes:\n",
    "    model = NeuralNet(n_features, hls, n_classes, sigmoid, dsigmoid)\n",
    "    losses_temp, accuracies_temp, accuracies_test_temp = [], [], []\n",
    "    for epoch in range(15):\n",
    "        for i, (x, y) in enumerate(zip(X_train, y_train)):\n",
    "            model.train(x, y, 0.1)\n",
    "\n",
    "        losses_temp.append(model.loss(X_train, y_train))\n",
    "        accuracies_temp.append(model.accuracy(X_train, y_train))\n",
    "        accuracies_test_temp.append(model.accuracy(X_test, y_test))\n",
    "    losses.append(losses_temp)\n",
    "    accuracies.append(accuracies_temp)\n",
    "    accuracies_test.append(accuracies_test_temp)"
   ]
  },
  {
   "cell_type": "code",
   "execution_count": 102,
   "metadata": {
    "collapsed": false
   },
   "outputs": [
    {
     "data": {
      "image/png": "[encoded data removed]",
      "text/plain": [
       "<matplotlib.figure.Figure at 0x1a4b6544780>"
      ]
     },
     "metadata": {},
     "output_type": "display_data"
    }
   ],
   "source": [
    "for j in range(len(listOfHLSizes)):\n",
    "    plt.plot(losses[j],label=str(listOfHLSizes[j]))\n",
    "plt.legend(loc='best')\n",
    "plt.xlabel(\"epoch\")\n",
    "plt.ylabel(\"loss\")\n",
    "plt.show()"
   ]
  },
  {
   "cell_type": "code",
   "execution_count": 103,
   "metadata": {
    "collapsed": false
   },
   "outputs": [
    {
     "data": {
      "image/png": "[encoded data removed]",
      "text/plain": [
       "<matplotlib.figure.Figure at 0x1a4b65aea90>"
      ]
     },
     "metadata": {},
     "output_type": "display_data"
    }
   ],
   "source": [
    "#Zoom 1\n",
    "for j in range(len(listOfHLSizes)-1):\n",
    "    plt.plot(losses[j+1],label=str(listOfHLSizes[j+1]))\n",
    "plt.legend(loc='best')\n",
    "plt.xlabel(\"epoch\")\n",
    "plt.ylabel(\"loss\")\n",
    "plt.show()"
   ]
  },
  {
   "cell_type": "code",
   "execution_count": 104,
   "metadata": {
    "collapsed": false
   },
   "outputs": [
    {
     "data": {
      "image/png": "[encoded data removed]",
      "text/plain": [
       "<matplotlib.figure.Figure at 0x1a4b6646e80>"
      ]
     },
     "metadata": {},
     "output_type": "display_data"
    }
   ],
   "source": [
    "#Zoom 2\n",
    "for j in range(len(listOfHLSizes)-2):\n",
    "    plt.plot(losses[j+2],label=str(listOfHLSizes[j+2]))\n",
    "plt.legend(loc='best')\n",
    "plt.xlabel(\"epoch\")\n",
    "plt.ylabel(\"loss\")\n",
    "plt.show()"
   ]
  },
  {
   "cell_type": "markdown",
   "metadata": {},
   "source": [
    "On remarque qu'un nombre plus grand de neurones dans la couche cachée entraîne une convergence plus rapide dans la phase d'entraînement. Cependant, il semble également que, passé un certain nombre de neurones, rajouter un neurone dans la couche cachée n'apporte plus d'amélioration significative pour la perte. Egalement, cela donne un coût coputationnel plus élevé."
   ]
  },
  {
   "cell_type": "markdown",
   "metadata": {},
   "source": [
    "#### Initialization"
   ]
  },
  {
   "cell_type": "code",
   "execution_count": 112,
   "metadata": {
    "collapsed": false
   },
   "outputs": [
    {
     "name": "stdout",
     "output_type": "stream",
     "text": [
      "Random init: train loss: 2.3026, train acc: 0.099, test acc: 0.100\n",
      "Random init: train loss: 2.3026, train acc: 0.097, test acc: 0.107\n"
     ]
    },
    {
     "data": {
      "image/png": "[encoded data removed]",
      "text/plain": [
       "<matplotlib.figure.Figure at 0x1a4b841c7b8>"
      ]
     },
     "metadata": {},
     "output_type": "display_data"
    }
   ],
   "source": [
    "class NeuralNet_non_zero():\n",
    "    \"\"\"MLP with 1 hidden layer with a sigmoid activation\"\"\"\n",
    "\n",
    "    def __init__(self, input_size, hidden_size, output_size):\n",
    "        # TODO\n",
    "        self.W_h = np.random.uniform(\n",
    "            size=(input_size, hidden_size), high=0.01, low=-0.01)\n",
    "        self.b_h = np.zeros(hidden_size)\n",
    "        self.W_o = np.random.uniform(\n",
    "            size=(hidden_size, output_size), high=0.01, low=-0.01)\n",
    "        self.b_o =np.zeros(output_size)\n",
    "        # END TODO\n",
    "        self.output_size = output_size\n",
    "        \n",
    "    def forward(self, X):\n",
    "        # TODO\n",
    "        h = sigmoid(np.dot(X, self.W_h) + self.b_h)\n",
    "        y = softmax(np.dot(h, self.W_o) + self.b_o)\n",
    "        # END TODO\n",
    "        return y\n",
    "    \n",
    "    def forward_keep_activations(self, X):\n",
    "        # TODO\n",
    "        z_h = np.dot(X, self.W_h) + self.b_h\n",
    "        h = sigmoid(z_h)\n",
    "        z_o = np.dot(h, self.W_o) + self.b_o\n",
    "        y = softmax(z_o)\n",
    "        return y, h, z_h\n",
    "    \n",
    "    def loss(self, X, y):\n",
    "        # TODO\n",
    "        return nll(one_hot(self.output_size, y), self.forward(X))\n",
    "\n",
    "    def grad_loss(self, X, y_true):\n",
    "        # TODO\n",
    "        y, h, z_h = self.forward_keep_activations(X)\n",
    "        grad_z_o = y - one_hot(self.output_size, y_true)\n",
    "\n",
    "        grad_W_o = np.outer(h, grad_z_o)\n",
    "        grad_b_o = grad_z_o\n",
    "        grad_h = np.dot(grad_z_o, np.transpose(self.W_o))\n",
    "        grad_z_h = grad_h * dsigmoid(z_h)\n",
    "        grad_W_h = np.outer(x, grad_z_h)\n",
    "        grad_b_h = grad_z_h\n",
    "        grads = {\"W_h\": grad_W_h, \"b_h\": grad_b_h,\n",
    "                 \"W_o\": grad_W_o, \"b_o\": grad_b_o}\n",
    "        return grads\n",
    "\n",
    "    def train(self, x, y, learning_rate):\n",
    "        # TODO\n",
    "        grads = self.grad_loss(x, y)\n",
    "        self.W_h = self.W_h - learning_rate * grads[\"W_h\"]\n",
    "        self.b_h = self.b_h - learning_rate * grads[\"b_h\"]\n",
    "        self.W_o = self.W_o - learning_rate * grads[\"W_o\"]\n",
    "        self.b_o = self.b_o - learning_rate * grads[\"b_o\"]\n",
    "\n",
    "    def predict(self, X):\n",
    "        # TODO\n",
    "        if len(X.shape) == 1:\n",
    "            return np.argmax(self.forward(X))\n",
    "        else:\n",
    "            return np.argmax(self.forward(X), axis=1)\n",
    "\n",
    "    def accuracy(self, X, y):\n",
    "        # TODO\n",
    "        y_preds = np.argmax(self.forward(X), axis=1)\n",
    "        return np.mean(y_preds == y)\n",
    "    \n",
    "class NeuralNet_zero():\n",
    "    \"\"\"MLP with 1 hidden layer with a sigmoid activation\"\"\"\n",
    "\n",
    "    def __init__(self, input_size, hidden_size, output_size):\n",
    "        # TODO\n",
    "        a = (input_size, hidden_size)\n",
    "        self.W_h = np.zeros(a)\n",
    "        self.b_h = np.zeros(hidden_size)\n",
    "        a = (hidden_size, output_size)\n",
    "        self.W_o = np.zeros(a)\n",
    "        self.b_o =np.zeros(output_size)\n",
    "        # END TODO\n",
    "        self.output_size = output_size\n",
    "        \n",
    "    def forward(self, X):\n",
    "        # TODO\n",
    "        h = sigmoid(np.dot(X, self.W_h) + self.b_h)\n",
    "        y = softmax(np.dot(h, self.W_o) + self.b_o)\n",
    "        # END TODO\n",
    "        return y\n",
    "    \n",
    "    def forward_keep_activations(self, X):\n",
    "        # TODO\n",
    "        z_h = np.dot(X, self.W_h) + self.b_h\n",
    "        h = sigmoid(z_h)\n",
    "        z_o = np.dot(h, self.W_o) + self.b_o\n",
    "        y = softmax(z_o)\n",
    "        return y, h, z_h\n",
    "    \n",
    "    def loss(self, X, y):\n",
    "        # TODO\n",
    "        return nll(one_hot(self.output_size, y), self.forward(X))\n",
    "\n",
    "    def grad_loss(self, X, y_true):\n",
    "        # TODO\n",
    "        y, h, z_h = self.forward_keep_activations(X)\n",
    "        grad_z_o = y - one_hot(self.output_size, y_true)\n",
    "\n",
    "        grad_W_o = np.outer(h, grad_z_o)\n",
    "        grad_b_o = grad_z_o\n",
    "        grad_h = np.dot(grad_z_o, np.transpose(self.W_o))\n",
    "        grad_z_h = grad_h * dsigmoid(z_h)\n",
    "        grad_W_h = np.outer(x, grad_z_h)\n",
    "        grad_b_h = grad_z_h\n",
    "        grads = {\"W_h\": grad_W_h, \"b_h\": grad_b_h,\n",
    "                 \"W_o\": grad_W_o, \"b_o\": grad_b_o}\n",
    "        return grads\n",
    "\n",
    "    def train(self, x, y, learning_rate):\n",
    "        # TODO\n",
    "        grads = self.grad_loss(x, y)\n",
    "        self.W_h = self.W_h - learning_rate * grads[\"W_h\"]\n",
    "        self.b_h = self.b_h - learning_rate * grads[\"b_h\"]\n",
    "        self.W_o = self.W_o - learning_rate * grads[\"W_o\"]\n",
    "        self.b_o = self.b_o - learning_rate * grads[\"b_o\"]\n",
    "\n",
    "    def predict(self, X):\n",
    "        # TODO\n",
    "        if len(X.shape) == 1:\n",
    "            return np.argmax(self.forward(X))\n",
    "        else:\n",
    "            return np.argmax(self.forward(X), axis=1)\n",
    "\n",
    "    def accuracy(self, X, y):\n",
    "        # TODO\n",
    "        y_preds = np.argmax(self.forward(X), axis=1)\n",
    "        return np.mean(y_preds == y)\n",
    "    \n",
    "model = NeuralNet_zero(n_features, n_hidden, n_classes)\n",
    "\n",
    "losses_zero, accuracies, accuracies_test = [], [], []\n",
    "losses_zero.append(model.loss(X_train, y_train))\n",
    "accuracies.append(model.accuracy(X_train, y_train))\n",
    "accuracies_test.append(model.accuracy(X_test, y_test))\n",
    "\n",
    "print(\"Random init: train loss: %0.4f, train acc: %0.3f, test acc: %0.3f\"\n",
    "      % (losses[-1], accuracies[-1], accuracies_test[-1]))\n",
    "\n",
    "for epoch in range(15):\n",
    "    for i, (x, y) in enumerate(zip(X_train, y_train)):\n",
    "        model.train(x, y, 0.1)\n",
    "\n",
    "    losses_zero.append(model.loss(X_train, y_train))\n",
    "    accuracies.append(model.accuracy(X_train, y_train))\n",
    "    accuracies_test.append(model.accuracy(X_test, y_test))\n",
    "    \n",
    "# plt.plot(losses, label='train')\n",
    "# # plt.ylim(0, 1.1)\n",
    "# plt.ylabel(\"accuracy\")\n",
    "# plt.legend(loc='best')\n",
    "# plt.title('Uniform Intitialization')\n",
    "# plt.show()\n",
    "\n",
    "model = NeuralNet_non_zero(n_features, n_hidden, n_classes)\n",
    "\n",
    "losses_non_zero, accuracies, accuracies_test = [], [], []\n",
    "losses_non_zero.append(model.loss(X_train, y_train))\n",
    "accuracies.append(model.accuracy(X_train, y_train))\n",
    "accuracies_test.append(model.accuracy(X_test, y_test))\n",
    "\n",
    "print(\"Random init: train loss: %0.4f, train acc: %0.3f, test acc: %0.3f\"\n",
    "      % (losses[-1], accuracies[-1], accuracies_test[-1]))\n",
    "\n",
    "for epoch in range(15):\n",
    "    for i, (x, y) in enumerate(zip(X_train, y_train)):\n",
    "        model.train(x, y, 0.1)\n",
    "\n",
    "    losses_non_zero.append(model.loss(X_train, y_train))\n",
    "    accuracies.append(model.accuracy(X_train, y_train))\n",
    "    accuracies_test.append(model.accuracy(X_test, y_test))\n",
    "    \n",
    "plt.plot(losses_non_zero, label='zero initialization')\n",
    "plt.plot(losses_zero, label='non zero initialization')\n",
    "# plt.ylim(0, 1.1)\n",
    "plt.ylabel(\"accuracy\")\n",
    "plt.legend(loc='best')\n",
    "plt.title('Zero VS Non Zero Initialization')\n",
    "plt.show()"
   ]
  },
  {
   "cell_type": "markdown",
   "metadata": {},
   "source": [
    "On retrouve, comme vu dans la partie précédente, qu'une initialisation à zéro empêche l'algorithme de converger."
   ]
  },
  {
   "cell_type": "markdown",
   "metadata": {},
   "source": [
    "#### Activation functions"
   ]
  },
  {
   "cell_type": "code",
   "execution_count": 113,
   "metadata": {
    "collapsed": true
   },
   "outputs": [],
   "source": [
    "#tanh\n",
    "def tanh(x):\n",
    "    return (np.exp(2*x)-1)/(np.exp(2*x)+1)\n",
    "\n",
    "def dtanh(x):\n",
    "    return 1-tanh(x)**2\n",
    "\n",
    "def relu(x):\n",
    "    return np.maximum(x,0)\n",
    "\n",
    "def drelu(x):\n",
    "    return np.float64(x>0)"
   ]
  },
  {
   "cell_type": "code",
   "execution_count": 114,
   "metadata": {
    "collapsed": false
   },
   "outputs": [
    {
     "data": {
      "image/png": "[encoded data removed]",
      "text/plain": [
       "<matplotlib.figure.Figure at 0x1a4b81ecef0>"
      ]
     },
     "metadata": {},
     "output_type": "display_data"
    }
   ],
   "source": [
    "#tanh\n",
    "x = np.linspace(-5, 5, 100)\n",
    "plt.plot(x, tanh(x), label='tanh')\n",
    "plt.plot(x, dtanh(x), label='dtanh')\n",
    "plt.legend(loc='best');"
   ]
  },
  {
   "cell_type": "code",
   "execution_count": 115,
   "metadata": {
    "collapsed": false
   },
   "outputs": [
    {
     "data": {
      "image/png": "[encoded data removed]",
      "text/plain": [
       "<matplotlib.figure.Figure at 0x1a4b8572588>"
      ]
     },
     "metadata": {},
     "output_type": "display_data"
    }
   ],
   "source": [
    "#relu\n",
    "x = np.linspace(-5, 5, 100)\n",
    "plt.plot(x, relu(x), label='relu')\n",
    "plt.plot(x, drelu(x), label='drelu')\n",
    "plt.legend(loc='best');"
   ]
  },
  {
   "cell_type": "code",
   "execution_count": 116,
   "metadata": {
    "collapsed": false
   },
   "outputs": [],
   "source": [
    "listOfActivationFunctions=[sigmoid,tanh,relu]\n",
    "listOfDiffActivationFunctions=[dsigmoid,dtanh,drelu]\n",
    "losses, accuracies, accuracies_test = [], [], []\n",
    "losses_temp, accuracies_temp, accuracies_test_temp = [], [], []\n",
    "\n",
    "for i in range(len(listOfActivationFunctions)):\n",
    "    model = NeuralNet(n_features, 20, n_classes,listOfActivationFunctions[i],listOfDiffActivationFunctions[i])\n",
    "    losses_temp, accuracies_temp, accuracies_test_temp = [], [], []\n",
    "    for epoch in range(15):\n",
    "        for i, (x, y) in enumerate(zip(X_train, y_train)):\n",
    "            model.train(x, y, 0.01)\n",
    "\n",
    "        losses_temp.append(model.loss(X_train, y_train))\n",
    "        accuracies_temp.append(model.accuracy(X_train, y_train))\n",
    "        accuracies_test_temp.append(model.accuracy(X_test, y_test))\n",
    "    losses.append(losses_temp)\n",
    "    accuracies.append(accuracies_temp)\n",
    "    accuracies_test.append(accuracies_test_temp)"
   ]
  },
  {
   "cell_type": "code",
   "execution_count": 118,
   "metadata": {
    "collapsed": false
   },
   "outputs": [
    {
     "data": {
      "image/png": "[encoded data removed]",
      "text/plain": [
       "<matplotlib.figure.Figure at 0x1a4b8676390>"
      ]
     },
     "metadata": {},
     "output_type": "display_data"
    }
   ],
   "source": [
    "listOfActivationFunctions2=[\"sigmoid\",\"tanh\",\"relu\"]\n",
    "for j in range(len(listOfActivationFunctions)):\n",
    "    plt.plot(losses[j],label=str(listOfActivationFunctions2[j]))\n",
    "plt.legend(loc='best')\n",
    "plt.xlabel(\"epoch\")\n",
    "plt.ylabel(\"loss\")\n",
    "plt.title('Several activation functions')\n",
    "plt.show()"
   ]
  },
  {
   "cell_type": "markdown",
   "metadata": {},
   "source": [
    "#### Second hidden layer"
   ]
  },
  {
   "cell_type": "code",
   "execution_count": 132,
   "metadata": {
    "collapsed": false
   },
   "outputs": [
    {
     "name": "stdout",
     "output_type": "stream",
     "text": [
      "Random init: train loss: 2.3028, train acc: 0.102, test acc: 0.096\n",
      "Random init: train loss: 2.3026, train acc: 0.102, test acc: 0.096\n"
     ]
    },
    {
     "data": {
      "image/png": "[encoded data removed]",
      "text/plain": [
       "<matplotlib.figure.Figure at 0x1a4b9a5a6d8>"
      ]
     },
     "metadata": {},
     "output_type": "display_data"
    }
   ],
   "source": [
    "class NeuralNet_two_layers():\n",
    "    \"\"\"MLP with 1 hidden layer with a sigmoid activation\"\"\"\n",
    "\n",
    "    def __init__(self, input_size, hidden_size_1, hidden_size_2, output_size):\n",
    "        # TODO\n",
    "        self.W_h_1 = np.random.uniform(\n",
    "            size=(input_size, hidden_size_1), high=0.01, low=-0.01)\n",
    "        self.b_h_1 = np.zeros(hidden_size_1)\n",
    "        self.W_h_2 = np.random.uniform(\n",
    "            size=(hidden_size_1, hidden_size_2), high=0.01, low=-0.01)\n",
    "        self.b_h_2 = np.zeros(hidden_size_2)        \n",
    "        \n",
    "        self.W_o = np.random.uniform(\n",
    "            size=(hidden_size_2, output_size), high=0.01, low=-0.01)\n",
    "        self.b_o =np.zeros(output_size)\n",
    "        # END TODO\n",
    "        self.output_size = output_size\n",
    "        \n",
    "    def forward(self, X):\n",
    "        # TODO\n",
    "        h_1 = sigmoid(np.dot(X, self.W_h_1) + self.b_h_1)\n",
    "        h_2 = sigmoid(np.dot(h_1, self.W_h_2) + self.b_h_2)\n",
    "        y = softmax(np.dot(h_2, self.W_o) + self.b_o)\n",
    "        # END TODO\n",
    "        return y\n",
    "    \n",
    "    def forward_keep_activations(self, X):\n",
    "        # TODO\n",
    "        z_h_1 = np.dot(X, self.W_h_1) + self.b_h_1\n",
    "        h_1 = sigmoid(z_h_1)\n",
    "        z_h_2 = np.dot(h_1, self.W_h_2) + self.b_h_2\n",
    "        h_2 = sigmoid(z_h_2)\n",
    "        z_o = np.dot(h_2, self.W_o) + self.b_o\n",
    "        y = softmax(z_o)\n",
    "        return y, h_1, h_2, z_h_1, z_h_2\n",
    "    \n",
    "    def loss(self, X, y):\n",
    "        # TODO\n",
    "        return nll(one_hot(self.output_size, y), self.forward(X))\n",
    "\n",
    "    def grad_loss(self, X, y_true):\n",
    "        # TODO\n",
    "        y, h_1, h_2, z_h_1, z_h_2 = self.forward_keep_activations(X)\n",
    "        grad_z_o = y - one_hot(self.output_size, y_true)\n",
    "\n",
    "        grad_W_o = np.outer(h_2, grad_z_o)\n",
    "        grad_b_o = grad_z_o\n",
    "        \n",
    "        grad_h_2 = np.dot(grad_z_o, np.transpose(self.W_o))\n",
    "        grad_z_h_2 = grad_h_2 * dsigmoid(z_h_2)\n",
    "        grad_W_h_2 = np.outer(h_1, grad_z_h_2)\n",
    "        grad_b_h_2 = grad_z_h_2\n",
    "        \n",
    "        grad_h_1 = np.dot(grad_z_h_2, np.transpose(self.W_h_2))\n",
    "        grad_z_h_1 = grad_h_1 * dsigmoid(z_h_1)\n",
    "        grad_W_h_1 = np.outer(x, grad_z_h_1)\n",
    "        grad_b_h_1 = grad_z_h_1\n",
    "        \n",
    "        grads = {\"W_h_1\": grad_W_h_1, \"b_h_1\": grad_b_h_1,\n",
    "                 \"W_h_2\": grad_W_h_2, \"b_h_2\": grad_b_h_2,\n",
    "                 \"W_o\": grad_W_o, \"b_o\": grad_b_o}\n",
    "        return grads\n",
    "\n",
    "    def train(self, x, y, learning_rate):\n",
    "        # TODO\n",
    "        grads = self.grad_loss(x, y)\n",
    "        self.W_h_1 = self.W_h_1 - learning_rate * grads[\"W_h_1\"]\n",
    "        self.b_h_1 = self.b_h_1 - learning_rate * grads[\"b_h_1\"]\n",
    "        self.W_h_2 = self.W_h_2 - learning_rate * grads[\"W_h_2\"]\n",
    "        self.b_h_2 = self.b_h_1 - learning_rate * grads[\"b_h_2\"]   \n",
    "        \n",
    "        self.W_o = self.W_o - learning_rate * grads[\"W_o\"]\n",
    "        self.b_o = self.b_o - learning_rate * grads[\"b_o\"]\n",
    "\n",
    "    def predict(self, X):\n",
    "        # TODO\n",
    "        if len(X.shape) == 1:\n",
    "            return np.argmax(self.forward(X))\n",
    "        else:\n",
    "            return np.argmax(self.forward(X), axis=1)\n",
    "\n",
    "    def accuracy(self, X, y):\n",
    "        # TODO\n",
    "        y_preds = np.argmax(self.forward(X), axis=1)\n",
    "        return np.mean(y_preds == y)\n",
    "    \n",
    "######### Two layers #########\n",
    "model = NeuralNet_two_layers(n_features, n_hidden, n_hidden, n_classes)\n",
    "\n",
    "losses_2, accuracies, accuracies_test = [], [], []\n",
    "losses_2.append(model.loss(X_train, y_train))\n",
    "accuracies.append(model.accuracy(X_train, y_train))\n",
    "accuracies_test.append(model.accuracy(X_test, y_test))\n",
    "\n",
    "print(\"Random init: train loss: %0.4f, train acc: %0.3f, test acc: %0.3f\"\n",
    "      % (losses_2[-1], accuracies[-1], accuracies_test[-1]))\n",
    "\n",
    "for epoch in range(15):\n",
    "    for i, (x, y) in enumerate(zip(X_train, y_train)):\n",
    "        model.train(x, y, 0.1)\n",
    "\n",
    "    losses_2.append(model.loss(X_train, y_train))\n",
    "    accuracies.append(model.accuracy(X_train, y_train))\n",
    "    accuracies_test.append(model.accuracy(X_test, y_test))\n",
    "    \n",
    "# plt.plot(accuracies, label='train')\n",
    "# plt.plot(accuracies_test, label='test')\n",
    "# plt.ylim(0, 1.1)\n",
    "# plt.ylabel(\"accuracy\")\n",
    "# plt.legend(loc='best')\n",
    "# plt.title('Two layers')\n",
    "# plt.show()\n",
    "\n",
    "######### One layer #########\n",
    "model = NeuralNet_non_zero(n_features, n_hidden, n_classes)\n",
    "\n",
    "losses_1, accuracies, accuracies_test = [], [], []\n",
    "losses_1.append(model.loss(X_train, y_train))\n",
    "accuracies.append(model.accuracy(X_train, y_train))\n",
    "accuracies_test.append(model.accuracy(X_test, y_test))\n",
    "\n",
    "print(\"Random init: train loss: %0.4f, train acc: %0.3f, test acc: %0.3f\"\n",
    "      % (losses_1[-1], accuracies[-1], accuracies_test[-1]))\n",
    "\n",
    "for epoch in range(15):\n",
    "    for i, (x, y) in enumerate(zip(X_train, y_train)):\n",
    "        model.train(x, y, 0.1)\n",
    "\n",
    "    losses_1.append(model.loss(X_train, y_train))\n",
    "    accuracies.append(model.accuracy(X_train, y_train))\n",
    "    accuracies_test.append(model.accuracy(X_test, y_test))\n",
    "    \n",
    "plt.plot(losses_2, label='2 hidden layers')\n",
    "plt.plot(losses_1, label='1 hidden layer')\n",
    "plt.ylim(0, 1.1)\n",
    "plt.ylabel('loss')\n",
    "plt.legend(loc='best')\n",
    "plt.title('1 VS 2 layers')\n",
    "plt.show()"
   ]
  },
  {
   "cell_type": "markdown",
   "metadata": {},
   "source": [
    "On observe que la convergence est bien meilleure avec une seule couche cachée qu'avec deux."
   ]
  },
  {
   "cell_type": "markdown",
   "metadata": {},
   "source": [
    "# III) TensorFlow Implementation\n",
    "\n",
    "TensorFlow is a symbolic graph computation engine, that allows automatic differentiation of each node\n",
    "- https://www.tensorflow.org \n",
    "- https://www.tensorflow.org/tutorials/mnist/tf/\n",
    "\n",
    "TensorFlow builds where nodes may be:\n",
    "- **constant:** constants tensors, such as a learning rate\n",
    "- **Variables:** any tensor, such as parameters of the models\n",
    "- **Placeholders:** placeholders for inputs and outputs of your models\n",
    "- many other types of nodes (functions, loss, ...)\n",
    "\n",
    "The graph is symbolic, no computation is performed until a `Session` is defined and the command `run` or `eval` is invoked. TensorFlow may run this computation on (multiple) CPUs or GPUs"
   ]
  },
  {
   "cell_type": "code",
   "execution_count": 304,
   "metadata": {
    "collapsed": false
   },
   "outputs": [
    {
     "name": "stdout",
     "output_type": "stream",
     "text": [
      "5\n"
     ]
    }
   ],
   "source": [
    "import tensorflow as tf\n",
    "\n",
    "a = tf.constant(3)\n",
    "b = tf.constant(2)\n",
    "c = tf.Variable(0)\n",
    "c = a + b\n",
    "with tf.Session() as sess:\n",
    "    print(sess.run(c))"
   ]
  },
  {
   "cell_type": "code",
   "execution_count": 305,
   "metadata": {
    "collapsed": false
   },
   "outputs": [
    {
     "name": "stdout",
     "output_type": "stream",
     "text": [
      "5.0\n"
     ]
    }
   ],
   "source": [
    "X = tf.placeholder(\"float32\", name=\"input\")\n",
    "Y = X + tf.constant(3.0)\n",
    "with tf.Session() as sess:\n",
    "    print(sess.run(Y, feed_dict={X:2}))"
   ]
  },
  {
   "cell_type": "markdown",
   "metadata": {},
   "source": [
    "**Note: batches in inputs**\n",
    "- the first dimension of the input is usually kept for the batch dimension. A typical way to define an input placeholder with a 1D tensor of 128 dimensions, is:\n",
    "```\n",
    "X = tf.placeholder(\"float32\", shape=[None, 128])\n",
    "```"
   ]
  },
  {
   "cell_type": "markdown",
   "metadata": {},
   "source": [
    "## a) Build a model using TensorFlow\n",
    "\n",
    "- Using TensorFlow, build a similar model (one hidden layer) as you previously did\n",
    "- the input will be a batch coming from X_train, and the output will be a batch of ints"
   ]
  },
  {
   "cell_type": "code",
   "execution_count": 306,
   "metadata": {
    "collapsed": false
   },
   "outputs": [],
   "source": [
    "# helper functions\n",
    "\n",
    "def init_weights(shape):\n",
    "    return tf.Variable(tf.random_normal(shape, stddev=0.01))\n",
    "\n",
    "\n",
    "def accuracy(y_pred, y=y_test):\n",
    "    return np.mean(np.argmax(y_pred, axis=1) == y)"
   ]
  },
  {
   "cell_type": "code",
   "execution_count": null,
   "metadata": {
    "collapsed": false
   },
   "outputs": [],
   "source": [
    "# hyperparams\n",
    "batch_size = 32\n",
    "hid_size = 15\n",
    "learning_rate = 0.01\n",
    "num_epochs = 10\n",
    "input_size = X_train.shape[1]\n",
    "output_size = 10\n",
    "\n",
    "# input and output\n",
    "X = tf.placeholder(\"float32\", shape=[None, input_size])\n",
    "y = tf.placeholder(\"int32\", shape=[None])\n",
    "\n",
    "#todo: build the model and weights\n",
    "\n",
    "#todo: build the loss, predict, and train operator\n",
    "# mock loss and b, to change\n",
    "b = init_weights([output_size])\n",
    "loss = b\n",
    "\n",
    "optimizer = tf.train.GradientDescentOptimizer(learning_rate)\n",
    "train_op = optimizer.minimize(loss)\n",
    "\n",
    "#todo: build predict node\n",
    "predict = X\n",
    "\n",
    "# Initialization of all variables in the graph\n",
    "init = tf.global_variables_initializer()"
   ]
  },
  {
   "cell_type": "code",
   "execution_count": null,
   "metadata": {
    "collapsed": true
   },
   "outputs": [],
   "source": [
    "# %load solutions/tf_model.py"
   ]
  },
  {
   "cell_type": "code",
   "execution_count": null,
   "metadata": {
    "collapsed": false
   },
   "outputs": [],
   "source": [
    "# run training\n",
    "with tf.Session() as sess: \n",
    "    sess.run(init)\n",
    "    \n",
    "    losses = []\n",
    "    for e in range(num_epochs):\n",
    "        for i in range(X_train.shape[0] // batch_size):\n",
    "            # Build batches of batch_size            \n",
    "            idx, idxn = i * batch_size, min(X_train.shape[0]-1, (i+1) * batch_size)\n",
    "            batch_xs, batch_ys = X_train[idx: idxn], y_train[idx: idxn]            \n",
    "            \n",
    "            # Run train operator and monitor loss\n",
    "            _, l=sess.run([train_op, loss], feed_dict={X: batch_xs, y: batch_ys})\n",
    "            losses.append(l)\n",
    "        \n",
    "        # For each epoch, run accuracy on train and test\n",
    "        predicts_test = sess.run(predict, feed_dict={X: X_test})\n",
    "        predicts_train = sess.run(predict, feed_dict={X: X_train})\n",
    "        print(\"epoch: %d train accuracy: %0.3f test accuracy: %0.3f\"\n",
    "              % (e, accuracy(predicts_train, y_train), accuracy(predicts_test)))\n",
    "    \n",
    "    # For monitoring purposes\n",
    "    file_writer = tf.summary.FileWriter('./tensorflow_summaries', sess.graph)    \n",
    "plt.plot(losses);"
   ]
  },
  {
   "cell_type": "markdown",
   "metadata": {},
   "source": [
    "## b) Exercises\n",
    "\n",
    "### Bonus:\n",
    "- add L2 regularization with $\\lambda = 10^{-4}$\n",
    "- train with arbitrary number of layers by only defining layer sizes\n",
    "- you may use tensorboard (https://www.tensorflow.org/how_tos/summaries_and_tensorboard/) to monitor loss and display graph\n",
    "- follow the official tensorflow tutorial: https://www.tensorflow.org/tutorials/mnist/tf/"
   ]
  }
 ],
 "metadata": {
  "anaconda-cloud": {},
  "kernelspec": {
   "display_name": "Python [conda env:py35]",
   "language": "python",
   "name": "conda-env-py35-py"
  },
  "language_info": {
   "codemirror_mode": {
    "name": "ipython",
    "version": 3
   },
   "file_extension": ".py",
   "mimetype": "text/x-python",
   "name": "python",
   "nbconvert_exporter": "python",
   "pygments_lexer": "ipython3",
   "version": "3.5.2"
  }
 },
 "nbformat": 4,
 "nbformat_minor": 1
}
