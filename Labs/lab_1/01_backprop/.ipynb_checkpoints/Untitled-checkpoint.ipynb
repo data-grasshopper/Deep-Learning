{
 "cells": [
  {
   "cell_type": "markdown",
   "metadata": {},
   "source": [
    "# Deep Learning -- Lab1 -- Backpropagation and Multilayer Neural Networks\n",
    "#### Professors: C. Ollion (Heuritech), O. Grisel (INRIA)\n",
    "#### Author: Peter Martigny -- M2 Data Science -- Université Paris Saclay"
   ]
  },
  {
   "cell_type": "markdown",
   "metadata": {},
   "source": [
    "### Goals: \n",
    "- Intro: train a neural network with high level framework `Keras`\n",
    "- Diving deep: implement a real gradient descent in `Numpy`\n",
    "- Auto-differentiation: the basics of `TensorFlow`\n",
    "\n",
    "### Dataset:\n",
    "- Digits: 10 class handwritten digits\n",
    "- http://scikit-learn.org/stable/modules/generated/sklearn.datasets.load_digits.html#sklearn.datasets.load_digits"
   ]
  },
  {
   "cell_type": "code",
   "execution_count": 7,
   "metadata": {
    "collapsed": false
   },
   "outputs": [
    {
     "data": {
      "image/png": "[encoded data removed]",
      "text/plain": [
       "<matplotlib.figure.Figure at 0x1f4fab10320>"
      ]
     },
     "metadata": {},
     "output_type": "display_data"
    },
    {
     "name": "stdout",
     "output_type": "stream",
     "text": [
      "Start Train/Test Split\n",
      "Train/Test Split is done!\n",
      "Start Normalization\n",
      "Normalization is done!\n"
     ]
    },
    {
     "data": {
      "image/png": "[encoded data removed]",
      "text/plain": [
       "<matplotlib.figure.Figure at 0x1f4fab6a9b0>"
      ]
     },
     "metadata": {},
     "output_type": "display_data"
    },
    {
     "data": {
      "image/png": "[encoded data removed]",
      "text/plain": [
       "<matplotlib.figure.Figure at 0x1f4fab0a7f0>"
      ]
     },
     "metadata": {},
     "output_type": "display_data"
    },
    {
     "name": "stdout",
     "output_type": "stream",
     "text": [
      "Dimensions of the train set: \n",
      "(1527, 64) (1527,)\n",
      "Dimensions of the test set: \n",
      "(270, 64) (270,)\n"
     ]
    }
   ],
   "source": [
    "############ Load the dataset and show an example ##########################\n",
    "%matplotlib inline \n",
    "# display figures in the notebook\n",
    "import matplotlib.pyplot as plt\n",
    "import numpy as np\n",
    "from sklearn.datasets import load_digits\n",
    "\n",
    "digits = load_digits()\n",
    "\n",
    "sample_index = 45\n",
    "plt.figure(figsize=(3, 3))\n",
    "plt.imshow(digits.images[sample_index], cmap=plt.cm.gray_r,\n",
    "           interpolation='nearest')\n",
    "plt.title(\"image label: %d\" % digits.target[sample_index])\n",
    "plt.show()\n",
    "\n",
    "\n",
    "######### Normalization of data + Train/Test split ###############\n",
    "from sklearn import preprocessing\n",
    "from sklearn.model_selection import train_test_split\n",
    "\n",
    "data = np.asarray(digits.data, dtype='float32')\n",
    "target = np.asarray(digits.target, dtype='int32')\n",
    "\n",
    "print('Start Train/Test Split')\n",
    "X_train, X_test, y_train, y_test = train_test_split(\n",
    "    data, target, test_size=0.15, random_state=37)\n",
    "print('Train/Test Split is done!')\n",
    "\n",
    "print('Start Normalization')\n",
    "scaler = preprocessing.StandardScaler()\n",
    "X_train = scaler.fit_transform(X_train)\n",
    "X_test = scaler.transform(X_test)\n",
    "print('Normalization is done!')\n",
    "\n",
    "######### Example after normalization ###############\n",
    "sample_index = 45\n",
    "plt.figure(figsize=(3, 3))\n",
    "plt.imshow(X_train[sample_index].reshape(8, 8),\n",
    "           cmap=plt.cm.gray_r, interpolation='nearest')\n",
    "plt.title(\"transformed sample\\n(standardization)\")\n",
    "plt.show()\n",
    "\n",
    "############ Recover the initial example #################\n",
    "plt.figure(figsize=(3, 3))\n",
    "plt.imshow(scaler.inverse_transform(X_train[sample_index]).reshape(8, 8),\n",
    "           cmap=plt.cm.gray_r, interpolation='nearest')\n",
    "plt.title(\"original sample\")\n",
    "plt.show()\n",
    "\n",
    "############ Dimensions used here #################\n",
    "print('Dimensions of the train set: ')\n",
    "print(X_train.shape, y_train.shape)\n",
    "print('Dimensions of the test set: ')\n",
    "print(X_test.shape, y_test.shape)"
   ]
  },
  {
   "cell_type": "markdown",
   "metadata": {},
   "source": [
    "# I) Feed Forward NN with Keras\n",
    "\n",
    "Objectives of this section:\n",
    "\n",
    "- Build and train a first feedforward network using `Keras`\n",
    "    - https://keras.io/getting-started/sequential-model-guide/\n",
    "- Experiment with different optimizers, activations, size of layers, initializations\n",
    "\n",
    "### Keras Workflow"
   ]
  },
  {
   "cell_type": "code",
   "execution_count": 8,
   "metadata": {
    "collapsed": false
   },
   "outputs": [
    {
     "name": "stderr",
     "output_type": "stream",
     "text": [
      "Using TensorFlow backend.\n"
     ]
    },
    {
     "data": {
      "text/plain": [
       "array([[ 0.,  0.,  1.,  0.,  0.,  0.,  0.,  0.,  0.,  0.],\n",
       "       [ 0.,  0.,  0.,  0.,  0.,  0.,  0.,  0.,  0.,  1.],\n",
       "       [ 0.,  0.,  0.,  0.,  0.,  1.,  0.,  0.,  0.,  0.]])"
      ]
     },
     "execution_count": 8,
     "metadata": {},
     "output_type": "execute_result"
    }
   ],
   "source": [
    "############## Encode labels into one-hot vectors #############\"\n",
    "from keras.utils.np_utils import to_categorical\n",
    "\n",
    "Y_train = to_categorical(y_train)\n",
    "Y_train[:3]"
   ]
  },
  {
   "cell_type": "markdown",
   "metadata": {},
   "source": [
    "We can now build an train our first feed forward neural network using the high level API from keras:\n",
    "\n",
    "- first we define the model by stacking layers with the right dimensions\n",
    "- then we define a loss function and plug the SGD optimizer\n",
    "- then we feed the model the training data for fixed number of epochs"
   ]
  },
  {
   "cell_type": "code",
   "execution_count": 113,
   "metadata": {
    "collapsed": false
   },
   "outputs": [
    {
     "name": "stdout",
     "output_type": "stream",
     "text": [
      "Epoch 1/15\n",
      "1527/1527 [==============================] - 1s - loss: 2.2016 - acc: 0.2521     \n",
      "Epoch 2/15\n",
      "1527/1527 [==============================] - 0s - loss: 1.4467 - acc: 0.6424     \n",
      "Epoch 3/15\n",
      "1527/1527 [==============================] - 0s - loss: 1.0104 - acc: 0.8016     \n",
      "Epoch 4/15\n",
      "1527/1527 [==============================] - 0s - loss: 0.7507 - acc: 0.8605     \n",
      "Epoch 5/15\n",
      "1527/1527 [==============================] - 0s - loss: 0.5840 - acc: 0.8874     \n",
      "Epoch 6/15\n",
      "1527/1527 [==============================] - 0s - loss: 0.4697 - acc: 0.9116     \n",
      "Epoch 7/15\n",
      "1527/1527 [==============================] - 0s - loss: 0.3877 - acc: 0.9280     \n",
      "Epoch 8/15\n",
      "1527/1527 [==============================] - 0s - loss: 0.3271 - acc: 0.9391     \n",
      "Epoch 9/15\n",
      "1527/1527 [==============================] - 0s - loss: 0.2806 - acc: 0.9483     \n",
      "Epoch 10/15\n",
      "1527/1527 [==============================] - 0s - loss: 0.2441 - acc: 0.9568     \n",
      "Epoch 11/15\n",
      "1527/1527 [==============================] - 0s - loss: 0.2147 - acc: 0.9607     \n",
      "Epoch 12/15\n",
      "1527/1527 [==============================] - 0s - loss: 0.1907 - acc: 0.9646     \n",
      "Epoch 13/15\n",
      "1527/1527 [==============================] - 0s - loss: 0.1709 - acc: 0.9686     \n",
      "Epoch 14/15\n",
      "1527/1527 [==============================] - 0s - loss: 0.1540 - acc: 0.9725     \n",
      "Epoch 15/15\n",
      "1527/1527 [==============================] - 0s - loss: 0.1397 - acc: 0.9738     \n"
     ]
    },
    {
     "data": {
      "image/png": "[encoded data removed]",
      "text/plain": [
       "<matplotlib.figure.Figure at 0x1f530addf98>"
      ]
     },
     "metadata": {},
     "output_type": "display_data"
    },
    {
     "name": "stdout",
     "output_type": "stream",
     "text": [
      "Training the model took 6.21678352355957 seconds!\n"
     ]
    }
   ],
   "source": [
    "import keras\n",
    "from keras.models import Sequential\n",
    "from keras.layers.core import Dense, Activation\n",
    "from keras import optimizers\n",
    "import time\n",
    "\n",
    "############ Define dimensions of layers engaged in the neural network ##########\n",
    "N = X_train.shape[1]\n",
    "H = 100\n",
    "K = 10\n",
    "\n",
    "######### Build the graph #########\n",
    "model = Sequential()\n",
    "model.add(Dense(H, input_dim=N))\n",
    "model.add(Activation(\"relu\"))\n",
    "model.add(Dense(K))\n",
    "model.add(Activation(\"softmax\"))\n",
    "\n",
    "############ Assign the graph with an optimizer, a olss function and a metric #######\n",
    "model.compile(optimizer=optimizers.SGD(lr=0.1),\n",
    "              loss='categorical_crossentropy', metrics=['accuracy'])\n",
    "\n",
    "########### Fit the previously defined model on the train set ##############\n",
    "start = time.time()\n",
    "history = model.fit(X_train, Y_train, nb_epoch=15, batch_size=32)\n",
    "exec_time = time.time() - start\n",
    "\n",
    "################ Plot the history of the loss on train set ############\"\n",
    "plt.plot(history.history['acc'])\n",
    "plt.title('{} activation'.format('ReLu'))\n",
    "plt.show()\n",
    "print('Training the model took {} seconds!'.format(exec_time))"
   ]
  },
  {
   "cell_type": "code",
   "execution_count": 108,
   "metadata": {
    "collapsed": false
   },
   "outputs": [
    {
     "data": {
      "text/plain": [
       "<keras.optimizers.Adadelta at 0x1f5306c6c50>"
      ]
     },
     "execution_count": 108,
     "metadata": {},
     "output_type": "execute_result"
    }
   ],
   "source": [
    "optimizers.__dict__['Adadelta'](lr=1)"
   ]
  },
  {
   "cell_type": "markdown",
   "metadata": {},
   "source": [
    "#### Influence of the activation function"
   ]
  },
  {
   "cell_type": "code",
   "execution_count": 24,
   "metadata": {
    "collapsed": true
   },
   "outputs": [],
   "source": [
    "def train_neural_activation(activation):\n",
    "    ############ Define dimensions of layers engaged in the neural network ##########\n",
    "    N = X_train.shape[1]\n",
    "    H = 100\n",
    "    K = 10\n",
    "\n",
    "    ######### Build the graph #########\n",
    "    model = Sequential()\n",
    "    model.add(Dense(H, input_dim=N))\n",
    "    model.add(Activation(activation))\n",
    "    model.add(Dense(K))\n",
    "    model.add(Activation(\"softmax\"))\n",
    "\n",
    "    ############ Assign the graph with an optimizer, a olss function and a metric #######\n",
    "    model.compile(optimizer=optimizers.SGD(lr=0.1),\n",
    "                  loss='categorical_crossentropy', metrics=['accuracy'])\n",
    "\n",
    "    ########### Fit the previously defined model on the train set ##############\n",
    "    start = time.time()\n",
    "    history = model.fit(X_train, Y_train, nb_epoch=15, batch_size=32)\n",
    "    exec_time = time.time() - start\n",
    "    \n",
    "    return history\n",
    "#     ################ Plot the history of the loss on train set ############\"\n",
    "#     plt.plot(history.history['acc'])\n",
    "#     plt.title('{} activation'.format(activation))\n",
    "#     plt.show()\n",
    "#     print('Training the model took {} seconds!'.format(exec_time))"
   ]
  },
  {
   "cell_type": "code",
   "execution_count": 30,
   "metadata": {
    "collapsed": false
   },
   "outputs": [
    {
     "name": "stdout",
     "output_type": "stream",
     "text": [
      "Epoch 1/15\n",
      "1527/1527 [==============================] - 0s - loss: 1.0057 - acc: 0.7367     \n",
      "Epoch 2/15\n",
      "1527/1527 [==============================] - 0s - loss: 0.2995 - acc: 0.9339     \n",
      "Epoch 3/15\n",
      "1527/1527 [==============================] - 0s - loss: 0.1870 - acc: 0.9679     \n",
      "Epoch 4/15\n",
      "1527/1527 [==============================] - 0s - loss: 0.1388 - acc: 0.9790     \n",
      "Epoch 5/15\n",
      "1527/1527 [==============================] - 0s - loss: 0.1118 - acc: 0.9849     \n",
      "Epoch 6/15\n",
      "1527/1527 [==============================] - 0s - loss: 0.0838 - acc: 0.9895     \n",
      "Epoch 7/15\n",
      "1527/1527 [==============================] - 0s - loss: 0.0699 - acc: 0.9928     \n",
      "Epoch 8/15\n",
      "1527/1527 [==============================] - 0s - loss: 0.0596 - acc: 0.9941     \n",
      "Epoch 9/15\n",
      "1527/1527 [==============================] - 0s - loss: 0.0522 - acc: 0.9948     \n",
      "Epoch 10/15\n",
      "1527/1527 [==============================] - 0s - loss: 0.0458 - acc: 0.9948     \n",
      "Epoch 11/15\n",
      "1527/1527 [==============================] - 0s - loss: 0.0407 - acc: 0.9967     \n",
      "Epoch 12/15\n",
      "1527/1527 [==============================] - 0s - loss: 0.0365 - acc: 0.9974     \n",
      "Epoch 13/15\n",
      "1527/1527 [==============================] - 0s - loss: 0.0330 - acc: 0.9980     \n",
      "Epoch 14/15\n",
      "1527/1527 [==============================] - 0s - loss: 0.0300 - acc: 0.9987     \n",
      "Epoch 15/15\n",
      "1527/1527 [==============================] - 0s - loss: 0.0274 - acc: 0.9980     \n",
      "Epoch 1/15\n",
      "1527/1527 [==============================] - 0s - loss: 0.7742 - acc: 0.8127     \n",
      "Epoch 2/15\n",
      "1527/1527 [==============================] - 0s - loss: 0.2674 - acc: 0.9515     \n",
      "Epoch 3/15\n",
      "1527/1527 [==============================] - 0s - loss: 0.1845 - acc: 0.9587     \n",
      "Epoch 4/15\n",
      "1527/1527 [==============================] - 0s - loss: 0.1451 - acc: 0.9751     \n",
      "Epoch 5/15\n",
      "1527/1527 [==============================] - 0s - loss: 0.1207 - acc: 0.9797     \n",
      "Epoch 6/15\n",
      "1527/1527 [==============================] - 0s - loss: 0.1047 - acc: 0.9823     \n",
      "Epoch 7/15\n",
      "1527/1527 [==============================] - 0s - loss: 0.0913 - acc: 0.9836     \n",
      "Epoch 8/15\n",
      "1527/1527 [==============================] - 0s - loss: 0.0815 - acc: 0.9876     \n",
      "Epoch 9/15\n",
      "1527/1527 [==============================] - 0s - loss: 0.0730 - acc: 0.9882     \n",
      "Epoch 10/15\n",
      "1527/1527 [==============================] - 0s - loss: 0.0667 - acc: 0.9902     \n",
      "Epoch 11/15\n",
      "1527/1527 [==============================] - 0s - loss: 0.0608 - acc: 0.9915     \n",
      "Epoch 12/15\n",
      "1527/1527 [==============================] - 0s - loss: 0.0559 - acc: 0.9948     \n",
      "Epoch 13/15\n",
      "1527/1527 [==============================] - 0s - loss: 0.0515 - acc: 0.9954     \n",
      "Epoch 14/15\n",
      "1527/1527 [==============================] - 0s - loss: 0.0480 - acc: 0.9948     \n",
      "Epoch 15/15\n",
      "1527/1527 [==============================] - 0s - loss: 0.0446 - acc: 0.9961     \n",
      "Epoch 1/15\n",
      "1527/1527 [==============================] - 0s - loss: 1.8256 - acc: 0.5416     \n",
      "Epoch 2/15\n",
      "1527/1527 [==============================] - 0s - loss: 1.0978 - acc: 0.8297     \n",
      "Epoch 3/15\n",
      "1527/1527 [==============================] - 0s - loss: 0.7491 - acc: 0.8887     \n",
      "Epoch 4/15\n",
      "1527/1527 [==============================] - 0s - loss: 0.5632 - acc: 0.9149     \n",
      "Epoch 5/15\n",
      "1527/1527 [==============================] - 0s - loss: 0.4533 - acc: 0.9293     \n",
      "Epoch 6/15\n",
      "1527/1527 [==============================] - 0s - loss: 0.3805 - acc: 0.9378     \n",
      "Epoch 7/15\n",
      "1527/1527 [==============================] - 0s - loss: 0.3308 - acc: 0.9437     \n",
      "Epoch 8/15\n",
      "1527/1527 [==============================] - 0s - loss: 0.2924 - acc: 0.9489     \n",
      "Epoch 9/15\n",
      "1527/1527 [==============================] - 0s - loss: 0.2630 - acc: 0.9535     \n",
      "Epoch 10/15\n",
      "1527/1527 [==============================] - 0s - loss: 0.2401 - acc: 0.9535     \n",
      "Epoch 11/15\n",
      "1527/1527 [==============================] - 0s - loss: 0.2213 - acc: 0.9594     \n",
      "Epoch 12/15\n",
      "1527/1527 [==============================] - 0s - loss: 0.2043 - acc: 0.9614     \n",
      "Epoch 13/15\n",
      "1527/1527 [==============================] - 0s - loss: 0.1919 - acc: 0.9627     \n",
      "Epoch 14/15\n",
      "1527/1527 [==============================] - 0s - loss: 0.1805 - acc: 0.9679     \n",
      "Epoch 15/15\n",
      "1527/1527 [==============================] - 0s - loss: 0.1701 - acc: 0.9679     \n",
      "Epoch 1/15\n",
      "1527/1527 [==============================] - 0s - loss: 0.6404 - acc: 0.8310     \n",
      "Epoch 2/15\n",
      "1527/1527 [==============================] - 0s - loss: 0.2088 - acc: 0.9515     \n",
      "Epoch 3/15\n",
      "1527/1527 [==============================] - 0s - loss: 0.1439 - acc: 0.9692     \n",
      "Epoch 4/15\n",
      "1527/1527 [==============================] - 0s - loss: 0.1167 - acc: 0.9738     \n",
      "Epoch 5/15\n",
      "1527/1527 [==============================] - 0s - loss: 0.0991 - acc: 0.9790     \n",
      "Epoch 6/15\n",
      "1527/1527 [==============================] - 0s - loss: 0.0868 - acc: 0.9804     \n",
      "Epoch 7/15\n",
      "1527/1527 [==============================] - 0s - loss: 0.0769 - acc: 0.9862     \n",
      "Epoch 8/15\n",
      "1527/1527 [==============================] - 0s - loss: 0.0704 - acc: 0.9862     \n",
      "Epoch 9/15\n",
      "1527/1527 [==============================] - 0s - loss: 0.0631 - acc: 0.9869     \n",
      "Epoch 10/15\n",
      "1527/1527 [==============================] - 0s - loss: 0.0585 - acc: 0.9876     \n",
      "Epoch 11/15\n",
      "1527/1527 [==============================] - 0s - loss: 0.0538 - acc: 0.9921     \n",
      "Epoch 12/15\n",
      "1527/1527 [==============================] - 0s - loss: 0.0498 - acc: 0.9935     \n",
      "Epoch 13/15\n",
      "1527/1527 [==============================] - 0s - loss: 0.0466 - acc: 0.9935     \n",
      "Epoch 14/15\n",
      "1527/1527 [==============================] - 0s - loss: 0.0437 - acc: 0.9948     \n",
      "Epoch 15/15\n",
      "1527/1527 [==============================] - 0s - loss: 0.0407 - acc: 0.9948     \n",
      "Epoch 1/15\n",
      "1527/1527 [==============================] - 0s - loss: 1.9488 - acc: 0.4486     \n",
      "Epoch 2/15\n",
      "1527/1527 [==============================] - 0s - loss: 1.2212 - acc: 0.8271     \n",
      "Epoch 3/15\n",
      "1527/1527 [==============================] - 0s - loss: 0.8096 - acc: 0.8893     \n",
      "Epoch 4/15\n",
      "1527/1527 [==============================] - 0s - loss: 0.5950 - acc: 0.9155     \n",
      "Epoch 5/15\n",
      "1527/1527 [==============================] - 0s - loss: 0.4729 - acc: 0.9312     \n",
      "Epoch 6/15\n",
      "1527/1527 [==============================] - 0s - loss: 0.3940 - acc: 0.9306     \n",
      "Epoch 7/15\n",
      "1527/1527 [==============================] - 0s - loss: 0.3405 - acc: 0.9450     \n",
      "Epoch 8/15\n",
      "1527/1527 [==============================] - 0s - loss: 0.2997 - acc: 0.9496     \n",
      "Epoch 9/15\n",
      "1527/1527 [==============================] - 0s - loss: 0.2690 - acc: 0.9502     \n",
      "Epoch 10/15\n",
      "1527/1527 [==============================] - 0s - loss: 0.2451 - acc: 0.9528     \n",
      "Epoch 11/15\n",
      "1527/1527 [==============================] - 0s - loss: 0.2254 - acc: 0.9555     \n",
      "Epoch 12/15\n",
      "1527/1527 [==============================] - 0s - loss: 0.2098 - acc: 0.9594     \n",
      "Epoch 13/15\n",
      "1527/1527 [==============================] - 0s - loss: 0.1965 - acc: 0.9607     \n",
      "Epoch 14/15\n",
      "1527/1527 [==============================] - 0s - loss: 0.1842 - acc: 0.9653     \n",
      "Epoch 15/15\n",
      "1527/1527 [==============================] - 0s - loss: 0.1742 - acc: 0.9679     \n",
      "Epoch 1/15\n",
      "1527/1527 [==============================] - 0s - loss: 1.1247 - acc: 0.7282     \n",
      "Epoch 2/15\n",
      "1527/1527 [==============================] - 0s - loss: 0.4558 - acc: 0.9194     \n",
      "Epoch 3/15\n",
      "1527/1527 [==============================] - 0s - loss: 0.3004 - acc: 0.9470     \n",
      "Epoch 4/15\n",
      "1527/1527 [==============================] - 0s - loss: 0.2289 - acc: 0.9574     \n",
      "Epoch 5/15\n",
      "1527/1527 [==============================] - 0s - loss: 0.1872 - acc: 0.9627     \n",
      "Epoch 6/15\n",
      "1527/1527 [==============================] - 0s - loss: 0.1590 - acc: 0.9718     \n",
      "Epoch 7/15\n",
      "1527/1527 [==============================] - 0s - loss: 0.1389 - acc: 0.9764     \n",
      "Epoch 8/15\n",
      "1527/1527 [==============================] - 0s - loss: 0.1236 - acc: 0.9804     \n",
      "Epoch 9/15\n",
      "1527/1527 [==============================] - 0s - loss: 0.1111 - acc: 0.9843     \n",
      "Epoch 10/15\n",
      "1527/1527 [==============================] - 0s - loss: 0.1010 - acc: 0.9856     \n",
      "Epoch 11/15\n",
      "1527/1527 [==============================] - 0s - loss: 0.0927 - acc: 0.9876     \n",
      "Epoch 12/15\n",
      "1527/1527 [==============================] - 0s - loss: 0.0856 - acc: 0.9889     \n",
      "Epoch 13/15\n",
      "1527/1527 [==============================] - 0s - loss: 0.0795 - acc: 0.9882     \n",
      "Epoch 14/15\n",
      "1527/1527 [==============================] - 0s - loss: 0.0742 - acc: 0.9908     \n",
      "Epoch 15/15\n",
      "1527/1527 [==============================] - 0s - loss: 0.0693 - acc: 0.9908     \n",
      "Epoch 1/15\n",
      "1527/1527 [==============================] - 0s - loss: 1.0238 - acc: 0.7492     \n",
      "Epoch 2/15\n",
      "1527/1527 [==============================] - 0s - loss: 0.3412 - acc: 0.9312     \n",
      "Epoch 3/15\n",
      "1527/1527 [==============================] - 0s - loss: 0.2251 - acc: 0.9528     \n",
      "Epoch 4/15\n",
      "1527/1527 [==============================] - 0s - loss: 0.1715 - acc: 0.9679     \n",
      "Epoch 5/15\n",
      "1527/1527 [==============================] - 0s - loss: 0.1403 - acc: 0.9725     \n",
      "Epoch 6/15\n",
      "1527/1527 [==============================] - 0s - loss: 0.1219 - acc: 0.9751     \n",
      "Epoch 7/15\n",
      "1527/1527 [==============================] - 0s - loss: 0.1045 - acc: 0.9836     \n",
      "Epoch 8/15\n",
      "1527/1527 [==============================] - 0s - loss: 0.0929 - acc: 0.9843     \n",
      "Epoch 9/15\n",
      "1527/1527 [==============================] - 0s - loss: 0.0825 - acc: 0.9876     \n",
      "Epoch 10/15\n",
      "1527/1527 [==============================] - 0s - loss: 0.0752 - acc: 0.9876     \n",
      "Epoch 11/15\n",
      "1527/1527 [==============================] - 0s - loss: 0.0681 - acc: 0.9902     \n",
      "Epoch 12/15\n",
      "1527/1527 [==============================] - 0s - loss: 0.0632 - acc: 0.9908     \n",
      "Epoch 13/15\n",
      "1527/1527 [==============================] - 0s - loss: 0.0575 - acc: 0.9915     \n",
      "Epoch 14/15\n",
      "1527/1527 [==============================] - 0s - loss: 0.0528 - acc: 0.9928     \n",
      "Epoch 15/15\n",
      "1527/1527 [==============================] - 0s - loss: 0.0495 - acc: 0.9948     \n"
     ]
    }
   ],
   "source": [
    "activations = ['relu', 'tanh', 'sigmoid', 'linear', 'hard_sigmoid', 'softsign', 'softplus']\n",
    "histories = {}\n",
    "for activ in activations:\n",
    "    histories[activ] = train_neural_activation(activ)"
   ]
  },
  {
   "cell_type": "code",
   "execution_count": 52,
   "metadata": {
    "collapsed": false
   },
   "outputs": [
    {
     "data": {
      "image/png": "[encoded data removed]",
      "text/plain": [
       "<matplotlib.figure.Figure at 0x1f510f8d278>"
      ]
     },
     "metadata": {},
     "output_type": "display_data"
    }
   ],
   "source": [
    "t = np.arange(0, 15)\n",
    "\n",
    "for activ in activations:\n",
    "    plt.plot(t, histories[activ].history['loss'], label=activ)\n",
    "\n",
    "plt.legend()\n",
    "plt.title('Loss during training')\n",
    "plt.xlabel('Epoch')\n",
    "plt.ylabel('Loss')\n",
    "plt.show()"
   ]
  },
  {
   "cell_type": "markdown",
   "metadata": {},
   "source": [
    "#### Influence of the number of neurons in the hidden layer"
   ]
  },
  {
   "cell_type": "code",
   "execution_count": 54,
   "metadata": {
    "collapsed": false
   },
   "outputs": [],
   "source": [
    "def train_neuron_number(H):\n",
    "    ############ Define dimensions of layers engaged in the neural network ##########\n",
    "    N = X_train.shape[1]\n",
    "#     H = 100\n",
    "    K = 10\n",
    "\n",
    "    ######### Build the graph #########\n",
    "    model = Sequential()\n",
    "    model.add(Dense(H, input_dim=N))\n",
    "    model.add(Activation('relu'))\n",
    "    model.add(Dense(K))\n",
    "    model.add(Activation(\"softmax\"))\n",
    "\n",
    "    ############ Assign the graph with an optimizer, a olss function and a metric #######\n",
    "    model.compile(optimizer=optimizers.SGD(lr=0.1),\n",
    "                  loss='categorical_crossentropy', metrics=['accuracy'])\n",
    "\n",
    "    ########### Fit the previously defined model on the train set ##############\n",
    "    start = time.time()\n",
    "    history = model.fit(X_train, Y_train, nb_epoch=15, batch_size=32)\n",
    "    exec_time = time.time() - start\n",
    "    \n",
    "    return history"
   ]
  },
  {
   "cell_type": "code",
   "execution_count": 62,
   "metadata": {
    "collapsed": false
   },
   "outputs": [
    {
     "name": "stdout",
     "output_type": "stream",
     "text": [
      "Epoch 1/15\n",
      "1527/1527 [==============================] - 0s - loss: 1.1142 - acc: 0.7014     \n",
      "Epoch 2/15\n",
      "1527/1527 [==============================] - 0s - loss: 0.3380 - acc: 0.9260     \n",
      "Epoch 3/15\n",
      "1527/1527 [==============================] - 0s - loss: 0.2025 - acc: 0.9568     \n",
      "Epoch 4/15\n",
      "1527/1527 [==============================] - 0s - loss: 0.1488 - acc: 0.9692     \n",
      "Epoch 5/15\n",
      "1527/1527 [==============================] - 0s - loss: 0.1183 - acc: 0.9784     \n",
      "Epoch 6/15\n",
      "1527/1527 [==============================] - 0s - loss: 0.0984 - acc: 0.9804     \n",
      "Epoch 7/15\n",
      "1527/1527 [==============================] - 0s - loss: 0.0837 - acc: 0.9869     \n",
      "Epoch 8/15\n",
      "1527/1527 [==============================] - 0s - loss: 0.0727 - acc: 0.9889     \n",
      "Epoch 9/15\n",
      "1527/1527 [==============================] - 0s - loss: 0.0640 - acc: 0.9908     \n",
      "Epoch 10/15\n",
      "1527/1527 [==============================] - 0s - loss: 0.0568 - acc: 0.9928     \n",
      "Epoch 11/15\n",
      "1527/1527 [==============================] - 0s - loss: 0.0510 - acc: 0.9954     \n",
      "Epoch 12/15\n",
      "1527/1527 [==============================] - 0s - loss: 0.0458 - acc: 0.9961     \n",
      "Epoch 13/15\n",
      "1527/1527 [==============================] - 0s - loss: 0.0416 - acc: 0.9961     \n",
      "Epoch 14/15\n",
      "1527/1527 [==============================] - 0s - loss: 0.0379 - acc: 0.9974     \n",
      "Epoch 15/15\n",
      "1527/1527 [==============================] - 0s - loss: 0.0347 - acc: 0.9967     \n",
      "Epoch 1/15\n",
      "1527/1527 [==============================] - 0s - loss: 0.9328 - acc: 0.7747     \n",
      "Epoch 2/15\n",
      "1527/1527 [==============================] - 0s - loss: 0.2732 - acc: 0.9470     \n",
      "Epoch 3/15\n",
      "1527/1527 [==============================] - 0s - loss: 0.1705 - acc: 0.9640     \n",
      "Epoch 4/15\n",
      "1527/1527 [==============================] - 0s - loss: 0.1273 - acc: 0.9777     \n",
      "Epoch 5/15\n",
      "1527/1527 [==============================] - 0s - loss: 0.1015 - acc: 0.9817     \n",
      "Epoch 6/15\n",
      "1527/1527 [==============================] - 0s - loss: 0.0837 - acc: 0.9876     \n",
      "Epoch 7/15\n",
      "1527/1527 [==============================] - 0s - loss: 0.0707 - acc: 0.9902     \n",
      "Epoch 8/15\n",
      "1527/1527 [==============================] - 0s - loss: 0.0607 - acc: 0.9921     \n",
      "Epoch 9/15\n",
      "1527/1527 [==============================] - 0s - loss: 0.0533 - acc: 0.9935     \n",
      "Epoch 10/15\n",
      "1527/1527 [==============================] - 0s - loss: 0.0471 - acc: 0.9941     \n",
      "Epoch 11/15\n",
      "1527/1527 [==============================] - 0s - loss: 0.0421 - acc: 0.9954     \n",
      "Epoch 12/15\n",
      "1527/1527 [==============================] - 0s - loss: 0.0376 - acc: 0.9967     \n",
      "Epoch 13/15\n",
      "1527/1527 [==============================] - 0s - loss: 0.0341 - acc: 0.9974     \n",
      "Epoch 14/15\n",
      "1527/1527 [==============================] - 0s - loss: 0.0308 - acc: 0.9974     \n",
      "Epoch 15/15\n",
      "1527/1527 [==============================] - 0s - loss: 0.0283 - acc: 0.9974     \n",
      "Epoch 1/15\n",
      "1527/1527 [==============================] - 0s - loss: 0.8794 - acc: 0.7983     \n",
      "Epoch 2/15\n",
      "1527/1527 [==============================] - 0s - loss: 0.2590 - acc: 0.9528     \n",
      "Epoch 3/15\n",
      "1527/1527 [==============================] - 0s - loss: 0.1623 - acc: 0.9738     \n",
      "Epoch 4/15\n",
      "1527/1527 [==============================] - 0s - loss: 0.1190 - acc: 0.9797     \n",
      "Epoch 5/15\n",
      "1527/1527 [==============================] - 0s - loss: 0.0951 - acc: 0.9856     \n",
      "Epoch 6/15\n",
      "1527/1527 [==============================] - 0s - loss: 0.0784 - acc: 0.9895     \n",
      "Epoch 7/15\n",
      "1527/1527 [==============================] - 0s - loss: 0.0663 - acc: 0.9908     \n",
      "Epoch 8/15\n",
      "1527/1527 [==============================] - 0s - loss: 0.0566 - acc: 0.9935     \n",
      "Epoch 9/15\n",
      "1527/1527 [==============================] - 0s - loss: 0.0494 - acc: 0.9954     \n",
      "Epoch 10/15\n",
      "1527/1527 [==============================] - 0s - loss: 0.0434 - acc: 0.9961     \n",
      "Epoch 11/15\n",
      "1527/1527 [==============================] - 0s - loss: 0.0386 - acc: 0.9961     \n",
      "Epoch 12/15\n",
      "1527/1527 [==============================] - 0s - loss: 0.0348 - acc: 0.9967     \n",
      "Epoch 13/15\n",
      "1527/1527 [==============================] - 0s - loss: 0.0312 - acc: 0.9980     \n",
      "Epoch 14/15\n",
      "1527/1527 [==============================] - 0s - loss: 0.0286 - acc: 0.9974     \n",
      "Epoch 15/15\n",
      "1527/1527 [==============================] - 0s - loss: 0.0260 - acc: 0.9987     \n",
      "Epoch 1/15\n",
      "1527/1527 [==============================] - 0s - loss: 0.8159 - acc: 0.8356     \n",
      "Epoch 2/15\n",
      "1527/1527 [==============================] - 0s - loss: 0.2418 - acc: 0.9614     \n",
      "Epoch 3/15\n",
      "1527/1527 [==============================] - 0s - loss: 0.1532 - acc: 0.9731     \n",
      "Epoch 4/15\n",
      "1527/1527 [==============================] - 0s - loss: 0.1134 - acc: 0.9804     \n",
      "Epoch 5/15\n",
      "1527/1527 [==============================] - 0s - loss: 0.0899 - acc: 0.9869     \n",
      "Epoch 6/15\n",
      "1527/1527 [==============================] - 0s - loss: 0.0743 - acc: 0.9921     \n",
      "Epoch 7/15\n",
      "1527/1527 [==============================] - 0s - loss: 0.0627 - acc: 0.9928     \n",
      "Epoch 8/15\n",
      "1527/1527 [==============================] - 0s - loss: 0.0532 - acc: 0.9921     \n",
      "Epoch 9/15\n",
      "1527/1527 [==============================] - 0s - loss: 0.0468 - acc: 0.9954     \n",
      "Epoch 10/15\n",
      "1527/1527 [==============================] - 0s - loss: 0.0414 - acc: 0.9961     \n",
      "Epoch 11/15\n",
      "1527/1527 [==============================] - 0s - loss: 0.0368 - acc: 0.9974     \n",
      "Epoch 12/15\n",
      "1527/1527 [==============================] - 0s - loss: 0.0329 - acc: 0.9967     \n",
      "Epoch 13/15\n",
      "1527/1527 [==============================] - 0s - loss: 0.0297 - acc: 0.9987     \n",
      "Epoch 14/15\n",
      "1527/1527 [==============================] - 0s - loss: 0.0272 - acc: 0.9987     \n",
      "Epoch 15/15\n",
      "1527/1527 [==============================] - 0s - loss: 0.0248 - acc: 0.9987     \n",
      "Epoch 1/15\n",
      "1527/1527 [==============================] - 0s - loss: 0.8263 - acc: 0.8153     \n",
      "Epoch 2/15\n",
      "1527/1527 [==============================] - 0s - loss: 0.2454 - acc: 0.9568     \n",
      "Epoch 3/15\n",
      "1527/1527 [==============================] - 0s - loss: 0.1542 - acc: 0.9738     \n",
      "Epoch 4/15\n",
      "1527/1527 [==============================] - 0s - loss: 0.1155 - acc: 0.9823     \n",
      "Epoch 5/15\n",
      "1527/1527 [==============================] - 0s - loss: 0.0913 - acc: 0.9876     \n",
      "Epoch 6/15\n",
      "1527/1527 [==============================] - 0s - loss: 0.0751 - acc: 0.9935     \n",
      "Epoch 7/15\n",
      "1527/1527 [==============================] - 0s - loss: 0.0637 - acc: 0.9928     \n",
      "Epoch 8/15\n",
      "1527/1527 [==============================] - 0s - loss: 0.0543 - acc: 0.9935     \n",
      "Epoch 9/15\n",
      "1527/1527 [==============================] - 0s - loss: 0.0478 - acc: 0.9954     \n",
      "Epoch 10/15\n",
      "1527/1527 [==============================] - 0s - loss: 0.0419 - acc: 0.9961     \n",
      "Epoch 11/15\n",
      "1527/1527 [==============================] - 0s - loss: 0.0375 - acc: 0.9974     \n",
      "Epoch 12/15\n",
      "1527/1527 [==============================] - 0s - loss: 0.0335 - acc: 0.9980     \n",
      "Epoch 13/15\n",
      "1527/1527 [==============================] - 0s - loss: 0.0303 - acc: 0.9980     \n",
      "Epoch 14/15\n",
      "1527/1527 [==============================] - 0s - loss: 0.0276 - acc: 0.9980     \n",
      "Epoch 15/15\n",
      "1527/1527 [==============================] - 0s - loss: 0.0253 - acc: 0.9980     \n",
      "Epoch 1/15\n",
      "1527/1527 [==============================] - 0s - loss: 0.7998 - acc: 0.8330     \n",
      "Epoch 2/15\n",
      "1527/1527 [==============================] - 0s - loss: 0.2359 - acc: 0.9587     \n",
      "Epoch 3/15\n",
      "1527/1527 [==============================] - 0s - loss: 0.1514 - acc: 0.9751     \n",
      "Epoch 4/15\n",
      "1527/1527 [==============================] - 0s - loss: 0.1119 - acc: 0.9810     \n",
      "Epoch 5/15\n",
      "1527/1527 [==============================] - 0s - loss: 0.0884 - acc: 0.9895     \n",
      "Epoch 6/15\n",
      "1527/1527 [==============================] - 0s - loss: 0.0730 - acc: 0.9915     \n",
      "Epoch 7/15\n",
      "1527/1527 [==============================] - 0s - loss: 0.0614 - acc: 0.9935     \n",
      "Epoch 8/15\n",
      "1527/1527 [==============================] - 0s - loss: 0.0529 - acc: 0.9954     \n",
      "Epoch 9/15\n",
      "1527/1527 [==============================] - 0s - loss: 0.0460 - acc: 0.9954     \n",
      "Epoch 10/15\n",
      "1527/1527 [==============================] - 0s - loss: 0.0405 - acc: 0.9967     \n",
      "Epoch 11/15\n",
      "1527/1527 [==============================] - 0s - loss: 0.0361 - acc: 0.9974     \n",
      "Epoch 12/15\n",
      "1527/1527 [==============================] - 0s - loss: 0.0325 - acc: 0.9974     \n",
      "Epoch 13/15\n",
      "1527/1527 [==============================] - 0s - loss: 0.0291 - acc: 0.9974     \n",
      "Epoch 14/15\n",
      "1527/1527 [==============================] - 0s - loss: 0.0266 - acc: 0.9980     \n",
      "Epoch 15/15\n",
      "1527/1527 [==============================] - 0s - loss: 0.0244 - acc: 0.9987     \n"
     ]
    }
   ],
   "source": [
    "layer_size = [50, 100, 200, 300, 400, 500]\n",
    "histories = {}\n",
    "for size in layer_size:\n",
    "    histories[size] = train_neuron_number(size)"
   ]
  },
  {
   "cell_type": "code",
   "execution_count": 63,
   "metadata": {
    "collapsed": false
   },
   "outputs": [
    {
     "data": {
      "image/png": "[encoded data removed]",
      "text/plain": [
       "<matplotlib.figure.Figure at 0x1f51addcef0>"
      ]
     },
     "metadata": {},
     "output_type": "display_data"
    }
   ],
   "source": [
    "t = np.arange(0, 15)\n",
    "\n",
    "for size in layer_size:\n",
    "    plt.plot(t, histories[size].history['loss'], label=size)\n",
    "\n",
    "plt.legend()\n",
    "plt.title('Loss during training')\n",
    "plt.xlabel('Epoch')\n",
    "plt.ylabel('Loss')\n",
    "plt.show()"
   ]
  },
  {
   "cell_type": "markdown",
   "metadata": {},
   "source": [
    "#### Influence of the number of hidden layers"
   ]
  },
  {
   "cell_type": "code",
   "execution_count": 64,
   "metadata": {
    "collapsed": true
   },
   "outputs": [],
   "source": [
    "def train_layers(layer_number):\n",
    "    ############ Define dimensions of layers engaged in the neural network ##########\n",
    "    N = X_train.shape[1]\n",
    "    H = 100\n",
    "    K = 10\n",
    "\n",
    "    ######### Build the graph #########\n",
    "    model = Sequential()\n",
    "    \n",
    "    ########### Build the different layers #######\"\n",
    "    for i in range(layer_number):\n",
    "        if i == 0:\n",
    "            model.add(Dense(H, input_dim=N))\n",
    "            model.add(Activation('relu'))\n",
    "        else:\n",
    "            model.add(Dense(H, input_dim=H))\n",
    "            model.add(Activation('relu'))\n",
    "            \n",
    "    ####### Build output activation layer #########\n",
    "    model.add(Dense(K))\n",
    "    model.add(Activation(\"softmax\"))\n",
    "\n",
    "    ############ Assign the graph with an optimizer, a olss function and a metric #######\n",
    "    model.compile(optimizer=optimizers.SGD(lr=0.1),\n",
    "                  loss='categorical_crossentropy', metrics=['accuracy'])\n",
    "\n",
    "    ########### Fit the previously defined model on the train set ##############\n",
    "    start = time.time()\n",
    "    history = model.fit(X_train, Y_train, nb_epoch=15, batch_size=32)\n",
    "    exec_time = time.time() - start\n",
    "    \n",
    "    return history"
   ]
  },
  {
   "cell_type": "code",
   "execution_count": 71,
   "metadata": {
    "collapsed": false
   },
   "outputs": [
    {
     "name": "stdout",
     "output_type": "stream",
     "text": [
      "Epoch 1/15\n",
      "1527/1527 [==============================] - 0s - loss: 0.9869 - acc: 0.7577     \n",
      "Epoch 2/15\n",
      "1527/1527 [==============================] - 0s - loss: 0.2820 - acc: 0.9404     \n",
      "Epoch 3/15\n",
      "1527/1527 [==============================] - 0s - loss: 0.1760 - acc: 0.9614     \n",
      "Epoch 4/15\n",
      "1527/1527 [==============================] - 0s - loss: 0.1284 - acc: 0.9764     \n",
      "Epoch 5/15\n",
      "1527/1527 [==============================] - 0s - loss: 0.1017 - acc: 0.9836     \n",
      "Epoch 6/15\n",
      "1527/1527 [==============================] - 0s - loss: 0.0841 - acc: 0.9862     \n",
      "Epoch 7/15\n",
      "1527/1527 [==============================] - 0s - loss: 0.0710 - acc: 0.9882     \n",
      "Epoch 8/15\n",
      "1527/1527 [==============================] - 0s - loss: 0.0615 - acc: 0.9915     \n",
      "Epoch 9/15\n",
      "1527/1527 [==============================] - 0s - loss: 0.0534 - acc: 0.9941     \n",
      "Epoch 10/15\n",
      "1527/1527 [==============================] - 0s - loss: 0.0474 - acc: 0.9941     \n",
      "Epoch 11/15\n",
      "1527/1527 [==============================] - 0s - loss: 0.0420 - acc: 0.9967     \n",
      "Epoch 12/15\n",
      "1527/1527 [==============================] - 0s - loss: 0.0382 - acc: 0.9967     \n",
      "Epoch 13/15\n",
      "1527/1527 [==============================] - 0s - loss: 0.0344 - acc: 0.9974     \n",
      "Epoch 14/15\n",
      "1527/1527 [==============================] - 0s - loss: 0.0315 - acc: 0.9980     \n",
      "Epoch 15/15\n",
      "1527/1527 [==============================] - 0s - loss: 0.0289 - acc: 0.9980     \n",
      "Epoch 1/15\n",
      "1527/1527 [==============================] - 0s - loss: 1.0403 - acc: 0.7315     \n",
      "Epoch 2/15\n",
      "1527/1527 [==============================] - 0s - loss: 0.2557 - acc: 0.9424     \n",
      "Epoch 3/15\n",
      "1527/1527 [==============================] - 0s - loss: 0.1385 - acc: 0.9712     \n",
      "Epoch 4/15\n",
      "1527/1527 [==============================] - 0s - loss: 0.0947 - acc: 0.9823     \n",
      "Epoch 5/15\n",
      "1527/1527 [==============================] - 0s - loss: 0.0699 - acc: 0.9869     \n",
      "Epoch 6/15\n",
      "1527/1527 [==============================] - 0s - loss: 0.0522 - acc: 0.9902     \n",
      "Epoch 7/15\n",
      "1527/1527 [==============================] - 0s - loss: 0.0414 - acc: 0.9948     \n",
      "Epoch 8/15\n",
      "1527/1527 [==============================] - 0s - loss: 0.0330 - acc: 0.9974     \n",
      "Epoch 9/15\n",
      "1527/1527 [==============================] - 0s - loss: 0.0271 - acc: 0.9967     \n",
      "Epoch 10/15\n",
      "1527/1527 [==============================] - 0s - loss: 0.0224 - acc: 0.9987     \n",
      "Epoch 11/15\n",
      "1527/1527 [==============================] - 0s - loss: 0.0188 - acc: 0.9987     \n",
      "Epoch 12/15\n",
      "1527/1527 [==============================] - 0s - loss: 0.0165 - acc: 0.9993     \n",
      "Epoch 13/15\n",
      "1527/1527 [==============================] - 0s - loss: 0.0142 - acc: 1.0000     \n",
      "Epoch 14/15\n",
      "1527/1527 [==============================] - 0s - loss: 0.0126 - acc: 1.0000     \n",
      "Epoch 15/15\n",
      "1527/1527 [==============================] - 0s - loss: 0.0111 - acc: 1.0000     \n",
      "Epoch 1/15\n",
      "1527/1527 [==============================] - 0s - loss: 1.1884 - acc: 0.7040     \n",
      "Epoch 2/15\n",
      "1527/1527 [==============================] - 0s - loss: 0.2737 - acc: 0.9312     \n",
      "Epoch 3/15\n",
      "1527/1527 [==============================] - 0s - loss: 0.1358 - acc: 0.9640     \n",
      "Epoch 4/15\n",
      "1527/1527 [==============================] - 0s - loss: 0.0842 - acc: 0.9771     \n",
      "Epoch 5/15\n",
      "1527/1527 [==============================] - 0s - loss: 0.0541 - acc: 0.9908     \n",
      "Epoch 6/15\n",
      "1527/1527 [==============================] - 0s - loss: 0.0368 - acc: 0.9935     \n",
      "Epoch 7/15\n",
      "1527/1527 [==============================] - 0s - loss: 0.0264 - acc: 0.9967     \n",
      "Epoch 8/15\n",
      "1527/1527 [==============================] - 0s - loss: 0.0188 - acc: 1.0000     \n",
      "Epoch 9/15\n",
      "1527/1527 [==============================] - 0s - loss: 0.0142 - acc: 1.0000     \n",
      "Epoch 10/15\n",
      "1527/1527 [==============================] - 0s - loss: 0.0111 - acc: 1.0000     \n",
      "Epoch 11/15\n",
      "1527/1527 [==============================] - 0s - loss: 0.0092 - acc: 1.0000     \n",
      "Epoch 12/15\n",
      "1527/1527 [==============================] - 0s - loss: 0.0079 - acc: 1.0000     \n",
      "Epoch 13/15\n",
      "1527/1527 [==============================] - 0s - loss: 0.0066 - acc: 1.0000     \n",
      "Epoch 14/15\n",
      "1527/1527 [==============================] - 0s - loss: 0.0056 - acc: 1.0000     \n",
      "Epoch 15/15\n",
      "1527/1527 [==============================] - 0s - loss: 0.0050 - acc: 1.0000     \n",
      "Epoch 1/15\n",
      "1527/1527 [==============================] - 0s - loss: 1.2608 - acc: 0.6902     \n",
      "Epoch 2/15\n",
      "1527/1527 [==============================] - 0s - loss: 0.2385 - acc: 0.9417     \n",
      "Epoch 3/15\n",
      "1527/1527 [==============================] - 0s - loss: 0.1196 - acc: 0.9646     \n",
      "Epoch 4/15\n",
      "1527/1527 [==============================] - 0s - loss: 0.0630 - acc: 0.9849     \n",
      "Epoch 5/15\n",
      "1527/1527 [==============================] - 0s - loss: 0.0357 - acc: 0.9915     \n",
      "Epoch 6/15\n",
      "1527/1527 [==============================] - 0s - loss: 0.0222 - acc: 0.9967     \n",
      "Epoch 7/15\n",
      "1527/1527 [==============================] - 0s - loss: 0.0134 - acc: 0.9987     \n",
      "Epoch 8/15\n",
      "1527/1527 [==============================] - 0s - loss: 0.0095 - acc: 1.0000     \n",
      "Epoch 9/15\n",
      "1527/1527 [==============================] - 0s - loss: 0.0073 - acc: 1.0000     \n",
      "Epoch 10/15\n",
      "1527/1527 [==============================] - 0s - loss: 0.0060 - acc: 1.0000     \n",
      "Epoch 11/15\n",
      "1527/1527 [==============================] - 0s - loss: 0.0047 - acc: 1.0000     \n",
      "Epoch 12/15\n",
      "1527/1527 [==============================] - 0s - loss: 0.0040 - acc: 1.0000     \n",
      "Epoch 13/15\n",
      "1527/1527 [==============================] - 0s - loss: 0.0034 - acc: 1.0000     \n",
      "Epoch 14/15\n",
      "1527/1527 [==============================] - 0s - loss: 0.0030 - acc: 1.0000     \n",
      "Epoch 15/15\n",
      "1527/1527 [==============================] - 0s - loss: 0.0027 - acc: 1.0000     \n",
      "Epoch 1/15\n",
      "1527/1527 [==============================] - 1s - loss: 1.4877 - acc: 0.5737     \n",
      "Epoch 2/15\n",
      "1527/1527 [==============================] - 0s - loss: 0.3856 - acc: 0.8834     \n",
      "Epoch 3/15\n",
      "1527/1527 [==============================] - 0s - loss: 0.2253 - acc: 0.9378     \n",
      "Epoch 4/15\n",
      "1527/1527 [==============================] - 0s - loss: 0.0772 - acc: 0.9810     \n",
      "Epoch 5/15\n",
      "1527/1527 [==============================] - 0s - loss: 0.0549 - acc: 0.9876     \n",
      "Epoch 6/15\n",
      "1527/1527 [==============================] - 0s - loss: 0.0212 - acc: 0.9954     \n",
      "Epoch 7/15\n",
      "1527/1527 [==============================] - 0s - loss: 0.0114 - acc: 0.9993     \n",
      "Epoch 8/15\n",
      "1527/1527 [==============================] - 0s - loss: 0.0055 - acc: 1.0000     \n",
      "Epoch 9/15\n",
      "1527/1527 [==============================] - 0s - loss: 0.0041 - acc: 1.0000     \n",
      "Epoch 10/15\n",
      "1527/1527 [==============================] - 0s - loss: 0.0031 - acc: 1.0000     \n",
      "Epoch 11/15\n",
      "1527/1527 [==============================] - 0s - loss: 0.0025 - acc: 1.0000     \n",
      "Epoch 12/15\n",
      "1527/1527 [==============================] - 0s - loss: 0.0021 - acc: 1.0000     \n",
      "Epoch 13/15\n",
      "1527/1527 [==============================] - 0s - loss: 0.0018 - acc: 1.0000     \n",
      "Epoch 14/15\n",
      "1527/1527 [==============================] - 0s - loss: 0.0016 - acc: 1.0000     \n",
      "Epoch 15/15\n",
      "1527/1527 [==============================] - 0s - loss: 0.0014 - acc: 1.0000     \n"
     ]
    }
   ],
   "source": [
    "layer_number = [1, 2, 3, 4, 5]\n",
    "histories = {}\n",
    "for number in layer_number:\n",
    "    histories[number] = train_layers(number)"
   ]
  },
  {
   "cell_type": "code",
   "execution_count": 72,
   "metadata": {
    "collapsed": false
   },
   "outputs": [
    {
     "data": {
      "image/png": "[encoded data removed]",
      "text/plain": [
       "<matplotlib.figure.Figure at 0x1f5219b2898>"
      ]
     },
     "metadata": {},
     "output_type": "display_data"
    }
   ],
   "source": [
    "t = np.arange(0, 15)\n",
    "\n",
    "for number in layer_number:\n",
    "    plt.plot(t, histories[number].history['loss'], label=number)\n",
    "\n",
    "plt.legend()\n",
    "plt.title('Loss during training')\n",
    "plt.xlabel('Epoch')\n",
    "plt.ylabel('Loss')\n",
    "plt.show()"
   ]
  },
  {
   "cell_type": "markdown",
   "metadata": {},
   "source": [
    "#### Influence of the learning rate"
   ]
  },
  {
   "cell_type": "code",
   "execution_count": 73,
   "metadata": {
    "collapsed": true
   },
   "outputs": [],
   "source": [
    "def train_lr(lr):\n",
    "    ############ Define dimensions of layers engaged in the neural network ##########\n",
    "    N = X_train.shape[1]\n",
    "    H = 100\n",
    "    K = 10\n",
    "\n",
    "    ######### Build the graph #########\n",
    "    model = Sequential()\n",
    "    model.add(Dense(H, input_dim=N))\n",
    "    model.add(Activation('relu')) \n",
    "    model.add(Dense(K))\n",
    "    model.add(Activation(\"softmax\"))\n",
    "\n",
    "    ############ Assign the graph with an optimizer, a olss function and a metric #######\n",
    "    model.compile(optimizer=optimizers.SGD(lr=lr),\n",
    "                  loss='categorical_crossentropy', metrics=['accuracy'])\n",
    "\n",
    "    ########### Fit the previously defined model on the train set ##############\n",
    "    start = time.time()\n",
    "    history = model.fit(X_train, Y_train, nb_epoch=15, batch_size=32)\n",
    "    exec_time = time.time() - start\n",
    "    \n",
    "    return history"
   ]
  },
  {
   "cell_type": "code",
   "execution_count": 74,
   "metadata": {
    "collapsed": false
   },
   "outputs": [
    {
     "name": "stdout",
     "output_type": "stream",
     "text": [
      "Epoch 1/15\n",
      "1527/1527 [==============================] - 0s - loss: 13.2480 - acc: 0.1591     \n",
      "Epoch 2/15\n",
      "1527/1527 [==============================] - 0s - loss: 13.6270 - acc: 0.1546     \n",
      "Epoch 3/15\n",
      "1527/1527 [==============================] - 0s - loss: 13.6270 - acc: 0.1546     \n",
      "Epoch 4/15\n",
      "1527/1527 [==============================] - 0s - loss: 13.6270 - acc: 0.1546     \n",
      "Epoch 5/15\n",
      "1527/1527 [==============================] - 0s - loss: 13.6270 - acc: 0.1546     \n",
      "Epoch 6/15\n",
      "1527/1527 [==============================] - 0s - loss: 13.6270 - acc: 0.1546     \n",
      "Epoch 7/15\n",
      "1527/1527 [==============================] - 0s - loss: 13.6270 - acc: 0.1546     \n",
      "Epoch 8/15\n",
      "1527/1527 [==============================] - 0s - loss: 13.6270 - acc: 0.1546     \n",
      "Epoch 9/15\n",
      "1527/1527 [==============================] - 0s - loss: 13.6270 - acc: 0.1546     \n",
      "Epoch 10/15\n",
      "1527/1527 [==============================] - 0s - loss: 13.6270 - acc: 0.1546     \n",
      "Epoch 11/15\n",
      "1527/1527 [==============================] - 0s - loss: 13.6270 - acc: 0.1546     \n",
      "Epoch 12/15\n",
      "1527/1527 [==============================] - 0s - loss: 13.6270 - acc: 0.1546     \n",
      "Epoch 13/15\n",
      "1527/1527 [==============================] - 0s - loss: 13.6270 - acc: 0.1546     \n",
      "Epoch 14/15\n",
      "1527/1527 [==============================] - 0s - loss: 13.6270 - acc: 0.1546     \n",
      "Epoch 15/15\n",
      "1527/1527 [==============================] - 0s - loss: 13.6270 - acc: 0.1546     \n",
      "Epoch 1/15\n",
      "1527/1527 [==============================] - 0s - loss: 0.4353 - acc: 0.8664     \n",
      "Epoch 2/15\n",
      "1527/1527 [==============================] - 0s - loss: 0.1382 - acc: 0.9673     \n",
      "Epoch 3/15\n",
      "1527/1527 [==============================] - 0s - loss: 0.0547 - acc: 0.9889     \n",
      "Epoch 4/15\n",
      "1527/1527 [==============================] - 0s - loss: 0.0325 - acc: 0.9980     \n",
      "Epoch 5/15\n",
      "1527/1527 [==============================] - 0s - loss: 0.0274 - acc: 0.9980     \n",
      "Epoch 6/15\n",
      "1527/1527 [==============================] - 0s - loss: 0.0252 - acc: 0.9980     \n",
      "Epoch 7/15\n",
      "1527/1527 [==============================] - 0s - loss: 0.0246 - acc: 0.9980     \n",
      "Epoch 8/15\n",
      "1527/1527 [==============================] - 0s - loss: 0.0233 - acc: 0.9987     \n",
      "Epoch 9/15\n",
      "1527/1527 [==============================] - 0s - loss: 0.0322 - acc: 0.9974     \n",
      "Epoch 10/15\n",
      "1527/1527 [==============================] - 0s - loss: 0.0298 - acc: 0.9967     \n",
      "Epoch 11/15\n",
      "1527/1527 [==============================] - 0s - loss: 0.0428 - acc: 0.9961     \n",
      "Epoch 12/15\n",
      "1527/1527 [==============================] - 0s - loss: 0.0374 - acc: 0.9967     \n",
      "Epoch 13/15\n",
      "1527/1527 [==============================] - 0s - loss: 0.0348 - acc: 0.9967     \n",
      "Epoch 14/15\n",
      "1527/1527 [==============================] - 0s - loss: 0.0201 - acc: 0.9980     \n",
      "Epoch 15/15\n",
      "1527/1527 [==============================] - 0s - loss: 0.0118 - acc: 0.9993     \n",
      "Epoch 1/15\n",
      "1527/1527 [==============================] - 0s - loss: 0.9834 - acc: 0.7525     \n",
      "Epoch 2/15\n",
      "1527/1527 [==============================] - 0s - loss: 0.2945 - acc: 0.9450     \n",
      "Epoch 3/15\n",
      "1527/1527 [==============================] - 0s - loss: 0.1827 - acc: 0.9659     \n",
      "Epoch 4/15\n",
      "1527/1527 [==============================] - 0s - loss: 0.1336 - acc: 0.9758     \n",
      "Epoch 5/15\n",
      "1527/1527 [==============================] - 0s - loss: 0.1056 - acc: 0.9843     \n",
      "Epoch 6/15\n",
      "1527/1527 [==============================] - 0s - loss: 0.0870 - acc: 0.9889     \n",
      "Epoch 7/15\n",
      "1527/1527 [==============================] - 0s - loss: 0.0738 - acc: 0.9908     \n",
      "Epoch 8/15\n",
      "1527/1527 [==============================] - 0s - loss: 0.0635 - acc: 0.9915     \n",
      "Epoch 9/15\n",
      "1527/1527 [==============================] - 0s - loss: 0.0555 - acc: 0.9928     \n",
      "Epoch 10/15\n",
      "1527/1527 [==============================] - 0s - loss: 0.0489 - acc: 0.9935     \n",
      "Epoch 11/15\n",
      "1527/1527 [==============================] - 0s - loss: 0.0432 - acc: 0.9967     \n",
      "Epoch 12/15\n",
      "1527/1527 [==============================] - 0s - loss: 0.0387 - acc: 0.9961     \n",
      "Epoch 13/15\n",
      "1527/1527 [==============================] - 0s - loss: 0.0349 - acc: 0.9961     \n",
      "Epoch 14/15\n",
      "1527/1527 [==============================] - 0s - loss: 0.0315 - acc: 0.9974     \n",
      "Epoch 15/15\n",
      "1527/1527 [==============================] - 0s - loss: 0.0288 - acc: 0.9980     \n",
      "Epoch 1/15\n",
      "1527/1527 [==============================] - 0s - loss: 2.3129 - acc: 0.1853     \n",
      "Epoch 2/15\n",
      "1527/1527 [==============================] - 0s - loss: 1.6374 - acc: 0.5167     \n",
      "Epoch 3/15\n",
      "1527/1527 [==============================] - 0s - loss: 1.2196 - acc: 0.7367     \n",
      "Epoch 4/15\n",
      "1527/1527 [==============================] - 0s - loss: 0.9564 - acc: 0.8166     \n",
      "Epoch 5/15\n",
      "1527/1527 [==============================] - 0s - loss: 0.7816 - acc: 0.8625     \n",
      "Epoch 6/15\n",
      "1527/1527 [==============================] - 0s - loss: 0.6593 - acc: 0.8821     \n",
      "Epoch 7/15\n",
      "1527/1527 [==============================] - 0s - loss: 0.5700 - acc: 0.8959     \n",
      "Epoch 8/15\n",
      "1527/1527 [==============================] - 0s - loss: 0.5022 - acc: 0.9044     \n",
      "Epoch 9/15\n",
      "1527/1527 [==============================] - 0s - loss: 0.4490 - acc: 0.9162     \n",
      "Epoch 10/15\n",
      "1527/1527 [==============================] - 0s - loss: 0.4067 - acc: 0.9221     \n",
      "Epoch 11/15\n",
      "1527/1527 [==============================] - 0s - loss: 0.3717 - acc: 0.9273     \n",
      "Epoch 12/15\n",
      "1527/1527 [==============================] - 0s - loss: 0.3427 - acc: 0.9332     \n",
      "Epoch 13/15\n",
      "1527/1527 [==============================] - 0s - loss: 0.3180 - acc: 0.9411     \n",
      "Epoch 14/15\n",
      "1527/1527 [==============================] - 0s - loss: 0.2970 - acc: 0.9456     \n",
      "Epoch 15/15\n",
      "1527/1527 [==============================] - 0s - loss: 0.2786 - acc: 0.9476     \n",
      "Epoch 1/15\n",
      "1527/1527 [==============================] - 0s - loss: 2.5474 - acc: 0.1126     \n",
      "Epoch 2/15\n",
      "1527/1527 [==============================] - 0s - loss: 2.4523 - acc: 0.1264     \n",
      "Epoch 3/15\n",
      "1527/1527 [==============================] - 0s - loss: 2.3622 - acc: 0.1421     \n",
      "Epoch 4/15\n",
      "1527/1527 [==============================] - 0s - loss: 2.2766 - acc: 0.1604     \n",
      "Epoch 5/15\n",
      "1527/1527 [==============================] - 0s - loss: 2.1955 - acc: 0.1840     \n",
      "Epoch 6/15\n",
      "1527/1527 [==============================] - 0s - loss: 2.1182 - acc: 0.2161     \n",
      "Epoch 7/15\n",
      "1527/1527 [==============================] - 0s - loss: 2.0449 - acc: 0.2515     \n",
      "Epoch 8/15\n",
      "1527/1527 [==============================] - 0s - loss: 1.9752 - acc: 0.2888     \n",
      "Epoch 9/15\n",
      "1527/1527 [==============================] - 0s - loss: 1.9089 - acc: 0.3287     \n",
      "Epoch 10/15\n",
      "1527/1527 [==============================] - 0s - loss: 1.8457 - acc: 0.3674     \n",
      "Epoch 11/15\n",
      "1527/1527 [==============================] - 0s - loss: 1.7858 - acc: 0.4100     \n",
      "Epoch 12/15\n",
      "1527/1527 [==============================] - 0s - loss: 1.7288 - acc: 0.4610     \n",
      "Epoch 13/15\n",
      "1527/1527 [==============================] - 0s - loss: 1.6744 - acc: 0.5029     \n",
      "Epoch 14/15\n",
      "1527/1527 [==============================] - 0s - loss: 1.6228 - acc: 0.5396     \n",
      "Epoch 15/15\n",
      "1527/1527 [==============================] - 0s - loss: 1.5734 - acc: 0.5743     \n"
     ]
    }
   ],
   "source": [
    "learning = [10, 1, 0.1, 0.01, 0.001]\n",
    "histories = {}\n",
    "for rate in learning:\n",
    "    histories[rate] = train_lr(rate)"
   ]
  },
  {
   "cell_type": "code",
   "execution_count": 75,
   "metadata": {
    "collapsed": false
   },
   "outputs": [
    {
     "data": {
      "image/png": "[encoded data removed]",
      "text/plain": [
       "<matplotlib.figure.Figure at 0x1f524c85e10>"
      ]
     },
     "metadata": {},
     "output_type": "display_data"
    }
   ],
   "source": [
    "t = np.arange(0, 15)\n",
    "\n",
    "for rate in learning:\n",
    "    plt.plot(t, histories[rate].history['loss'], label=rate)\n",
    "\n",
    "plt.legend()\n",
    "plt.title('Loss during training')\n",
    "plt.xlabel('Epoch')\n",
    "plt.ylabel('Loss')\n",
    "plt.show()"
   ]
  },
  {
   "cell_type": "code",
   "execution_count": 80,
   "metadata": {
    "collapsed": false
   },
   "outputs": [
    {
     "name": "stdout",
     "output_type": "stream",
     "text": [
      "Epoch 1/15\n",
      "1527/1527 [==============================] - 1s - loss: 2.2021 - acc: 0.2187     \n",
      "Epoch 2/15\n",
      "1527/1527 [==============================] - 0s - loss: 1.5570 - acc: 0.5966     \n",
      "Epoch 3/15\n",
      "1527/1527 [==============================] - 0s - loss: 1.1648 - acc: 0.7859     \n",
      "Epoch 4/15\n",
      "1527/1527 [==============================] - 0s - loss: 0.9183 - acc: 0.8474     \n",
      "Epoch 5/15\n",
      "1527/1527 [==============================] - 0s - loss: 0.7535 - acc: 0.8710     \n",
      "Epoch 6/15\n",
      "1527/1527 [==============================] - 0s - loss: 0.6380 - acc: 0.8900     \n",
      "Epoch 7/15\n",
      "1527/1527 [==============================] - 0s - loss: 0.5531 - acc: 0.9064     \n",
      "Epoch 8/15\n",
      "1527/1527 [==============================] - 0s - loss: 0.4885 - acc: 0.9188     \n",
      "Epoch 9/15\n",
      "1527/1527 [==============================] - 0s - loss: 0.4376 - acc: 0.9267     \n",
      "Epoch 10/15\n",
      "1527/1527 [==============================] - 0s - loss: 0.3966 - acc: 0.9339     \n",
      "Epoch 11/15\n",
      "1527/1527 [==============================] - 0s - loss: 0.3629 - acc: 0.9391     \n",
      "Epoch 12/15\n",
      "1527/1527 [==============================] - 0s - loss: 0.3348 - acc: 0.9443     \n",
      "Epoch 13/15\n",
      "1527/1527 [==============================] - 0s - loss: 0.3108 - acc: 0.9463     \n",
      "Epoch 14/15\n",
      "1527/1527 [==============================] - 0s - loss: 0.2903 - acc: 0.9509     \n",
      "Epoch 15/15\n",
      "1527/1527 [==============================] - 0s - loss: 0.2723 - acc: 0.9528     \n",
      "Epoch 1/15\n",
      "1527/1527 [==============================] - 1s - loss: 1.2881 - acc: 0.6798     \n",
      "Epoch 2/15\n",
      "1527/1527 [==============================] - 0s - loss: 0.4835 - acc: 0.9149     \n",
      "Epoch 3/15\n",
      "1527/1527 [==============================] - 0s - loss: 0.3052 - acc: 0.9424     \n",
      "Epoch 4/15\n",
      "1527/1527 [==============================] - 0s - loss: 0.2273 - acc: 0.9535     \n",
      "Epoch 5/15\n",
      "1527/1527 [==============================] - 0s - loss: 0.1834 - acc: 0.9659     \n",
      "Epoch 6/15\n",
      "1527/1527 [==============================] - 0s - loss: 0.1540 - acc: 0.9731     \n",
      "Epoch 7/15\n",
      "1527/1527 [==============================] - 0s - loss: 0.1330 - acc: 0.9777     \n",
      "Epoch 8/15\n",
      "1527/1527 [==============================] - 0s - loss: 0.1170 - acc: 0.9856     \n",
      "Epoch 9/15\n",
      "1527/1527 [==============================] - 0s - loss: 0.1044 - acc: 0.9869     \n",
      "Epoch 10/15\n",
      "1527/1527 [==============================] - 0s - loss: 0.0944 - acc: 0.9876     \n",
      "Epoch 11/15\n",
      "1527/1527 [==============================] - 0s - loss: 0.0860 - acc: 0.9882     \n",
      "Epoch 12/15\n",
      "1527/1527 [==============================] - 0s - loss: 0.0787 - acc: 0.9889     \n",
      "Epoch 13/15\n",
      "1527/1527 [==============================] - 0s - loss: 0.0725 - acc: 0.9908     \n",
      "Epoch 14/15\n",
      "1527/1527 [==============================] - 0s - loss: 0.0672 - acc: 0.9921     \n",
      "Epoch 15/15\n",
      "1527/1527 [==============================] - 0s - loss: 0.0625 - acc: 0.9935     \n",
      "Epoch 1/15\n",
      "1527/1527 [==============================] - 1s - loss: 0.9638 - acc: 0.7446     \n",
      "Epoch 2/15\n",
      "1527/1527 [==============================] - 0s - loss: 0.2868 - acc: 0.9424     \n",
      "Epoch 3/15\n",
      "1527/1527 [==============================] - 0s - loss: 0.1769 - acc: 0.9679     \n",
      "Epoch 4/15\n",
      "1527/1527 [==============================] - 0s - loss: 0.1261 - acc: 0.9771     \n",
      "Epoch 5/15\n",
      "1527/1527 [==============================] - 0s - loss: 0.1004 - acc: 0.9849     \n",
      "Epoch 6/15\n",
      "1527/1527 [==============================] - 0s - loss: 0.0831 - acc: 0.9856     \n",
      "Epoch 7/15\n",
      "1527/1527 [==============================] - 0s - loss: 0.0697 - acc: 0.9902     \n",
      "Epoch 8/15\n",
      "1527/1527 [==============================] - 0s - loss: 0.0600 - acc: 0.9921     \n",
      "Epoch 9/15\n",
      "1527/1527 [==============================] - 0s - loss: 0.0520 - acc: 0.9921     \n",
      "Epoch 10/15\n",
      "1527/1527 [==============================] - 0s - loss: 0.0453 - acc: 0.9941     \n",
      "Epoch 11/15\n",
      "1527/1527 [==============================] - 0s - loss: 0.0407 - acc: 0.9948     \n",
      "Epoch 12/15\n",
      "1527/1527 [==============================] - 0s - loss: 0.0366 - acc: 0.9954     \n",
      "Epoch 13/15\n",
      "1527/1527 [==============================] - 0s - loss: 0.0329 - acc: 0.9967     \n",
      "Epoch 14/15\n",
      "1527/1527 [==============================] - 0s - loss: 0.0299 - acc: 0.9980     \n",
      "Epoch 15/15\n",
      "1527/1527 [==============================] - 0s - loss: 0.0275 - acc: 0.9980     \n",
      "Epoch 1/15\n",
      "1527/1527 [==============================] - 1s - loss: 0.4732 - acc: 0.8546     \n",
      "Epoch 2/15\n",
      "1527/1527 [==============================] - 0s - loss: 0.1175 - acc: 0.9712     \n",
      "Epoch 3/15\n",
      "1527/1527 [==============================] - 0s - loss: 0.0479 - acc: 0.9876     \n",
      "Epoch 4/15\n",
      "1527/1527 [==============================] - 0s - loss: 0.0316 - acc: 0.9961     \n",
      "Epoch 5/15\n",
      "1527/1527 [==============================] - 0s - loss: 0.0173 - acc: 0.9980     \n",
      "Epoch 6/15\n",
      "1527/1527 [==============================] - 0s - loss: 0.0128 - acc: 0.9993     \n",
      "Epoch 7/15\n",
      "1527/1527 [==============================] - 0s - loss: 0.0096 - acc: 1.0000     \n",
      "Epoch 8/15\n",
      "1527/1527 [==============================] - 0s - loss: 0.0077 - acc: 1.0000     \n",
      "Epoch 9/15\n",
      "1527/1527 [==============================] - 0s - loss: 0.0064 - acc: 1.0000     \n",
      "Epoch 10/15\n",
      "1527/1527 [==============================] - 0s - loss: 0.0056 - acc: 1.0000     \n",
      "Epoch 11/15\n",
      "1527/1527 [==============================] - 0s - loss: 0.0050 - acc: 1.0000     \n",
      "Epoch 12/15\n",
      "1527/1527 [==============================] - 0s - loss: 0.0044 - acc: 1.0000     \n",
      "Epoch 13/15\n",
      "1527/1527 [==============================] - 0s - loss: 0.0039 - acc: 1.0000     \n",
      "Epoch 14/15\n",
      "1527/1527 [==============================] - 0s - loss: 0.0035 - acc: 1.0000     \n",
      "Epoch 15/15\n",
      "1527/1527 [==============================] - 0s - loss: 0.0033 - acc: 1.0000     \n",
      "Epoch 1/15\n",
      "1527/1527 [==============================] - 1s - loss: 0.4286 - acc: 0.8795     \n",
      "Epoch 2/15\n",
      "1527/1527 [==============================] - 0s - loss: 0.1078 - acc: 0.9745     \n",
      "Epoch 3/15\n",
      "1527/1527 [==============================] - 0s - loss: 0.0915 - acc: 0.9751     \n",
      "Epoch 4/15\n",
      "1527/1527 [==============================] - 0s - loss: 0.0701 - acc: 0.9889     \n",
      "Epoch 5/15\n",
      "1527/1527 [==============================] - 0s - loss: 0.0505 - acc: 0.9954     \n",
      "Epoch 6/15\n",
      "1527/1527 [==============================] - 0s - loss: 0.0248 - acc: 0.9987     \n",
      "Epoch 7/15\n",
      "1527/1527 [==============================] - 0s - loss: 0.0234 - acc: 0.9987     \n",
      "Epoch 8/15\n",
      "1527/1527 [==============================] - 0s - loss: 0.0229 - acc: 0.9987     \n",
      "Epoch 9/15\n",
      "1527/1527 [==============================] - 0s - loss: 0.0227 - acc: 0.9987     \n",
      "Epoch 10/15\n",
      "1527/1527 [==============================] - 0s - loss: 0.0225 - acc: 0.9987     \n",
      "Epoch 11/15\n",
      "1527/1527 [==============================] - 0s - loss: 0.0223 - acc: 0.9987     \n",
      "Epoch 12/15\n",
      "1527/1527 [==============================] - 0s - loss: 0.0222 - acc: 0.9987     \n",
      "Epoch 13/15\n",
      "1527/1527 [==============================] - 0s - loss: 0.0221 - acc: 0.9987     \n",
      "Epoch 14/15\n",
      "1527/1527 [==============================] - 0s - loss: 0.0221 - acc: 0.9987     \n",
      "Epoch 15/15\n",
      "1527/1527 [==============================] - 0s - loss: 0.0220 - acc: 0.9987     \n",
      "Epoch 1/15\n",
      "1527/1527 [==============================] - 1s - loss: 1.4043 - acc: 0.7734     \n",
      "Epoch 2/15\n",
      "1527/1527 [==============================] - 0s - loss: 0.3965 - acc: 0.9273     \n",
      "Epoch 3/15\n",
      "1527/1527 [==============================] - 0s - loss: 0.2667 - acc: 0.9581     \n",
      "Epoch 4/15\n",
      "1527/1527 [==============================] - 0s - loss: 0.4388 - acc: 0.9443     \n",
      "Epoch 5/15\n",
      "1527/1527 [==============================] - 0s - loss: 0.3525 - acc: 0.9574     \n",
      "Epoch 6/15\n",
      "1527/1527 [==============================] - 0s - loss: 0.1978 - acc: 0.9764     \n",
      "Epoch 7/15\n",
      "1527/1527 [==============================] - 0s - loss: 0.5147 - acc: 0.9463     \n",
      "Epoch 8/15\n",
      "1527/1527 [==============================] - 0s - loss: 0.3748 - acc: 0.9633     \n",
      "Epoch 9/15\n",
      "1527/1527 [==============================] - 0s - loss: 0.4955 - acc: 0.9515     \n",
      "Epoch 10/15\n",
      "1527/1527 [==============================] - 0s - loss: 0.2809 - acc: 0.9731     \n",
      "Epoch 11/15\n",
      "1527/1527 [==============================] - 0s - loss: 0.3719 - acc: 0.9666     \n",
      "Epoch 12/15\n",
      "1527/1527 [==============================] - 0s - loss: 0.1660 - acc: 0.9849     \n",
      "Epoch 13/15\n",
      "1527/1527 [==============================] - 0s - loss: 0.2400 - acc: 0.9764     \n",
      "Epoch 14/15\n",
      "1527/1527 [==============================] - 0s - loss: 0.4466 - acc: 0.9640     \n",
      "Epoch 15/15\n",
      "1527/1527 [==============================] - 0s - loss: 0.2575 - acc: 0.9777     \n",
      "Epoch 1/15\n",
      "1527/1527 [==============================] - 1s - loss: 2.8850 - acc: 0.6974     \n",
      "Epoch 2/15\n",
      "1527/1527 [==============================] - 0s - loss: 2.3263 - acc: 0.8278     \n",
      "Epoch 3/15\n",
      "1527/1527 [==============================] - 0s - loss: 3.2147 - acc: 0.7832     \n",
      "Epoch 4/15\n",
      "1527/1527 [==============================] - 0s - loss: 3.5452 - acc: 0.7728     \n",
      "Epoch 5/15\n",
      "1527/1527 [==============================] - 0s - loss: 3.6157 - acc: 0.7708     \n",
      "Epoch 6/15\n",
      "1527/1527 [==============================] - 0s - loss: 3.2850 - acc: 0.7917     \n",
      "Epoch 7/15\n",
      "1527/1527 [==============================] - 0s - loss: 4.2549 - acc: 0.7308     \n",
      "Epoch 8/15\n",
      "1527/1527 [==============================] - 0s - loss: 4.6294 - acc: 0.7105     \n",
      "Epoch 9/15\n",
      "1527/1527 [==============================] - 0s - loss: 5.0402 - acc: 0.6850     \n",
      "Epoch 10/15\n",
      "1527/1527 [==============================] - 0s - loss: 4.8662 - acc: 0.6961     \n",
      "Epoch 11/15\n",
      "1527/1527 [==============================] - 0s - loss: 5.1584 - acc: 0.6765     \n",
      "Epoch 12/15\n",
      "1527/1527 [==============================] - 0s - loss: 4.9478 - acc: 0.6902     \n",
      "Epoch 13/15\n",
      "1527/1527 [==============================] - 0s - loss: 4.7641 - acc: 0.7033     \n",
      "Epoch 14/15\n",
      "1527/1527 [==============================] - 0s - loss: 5.1561 - acc: 0.6791     \n",
      "Epoch 15/15\n",
      "1527/1527 [==============================] - 0s - loss: 4.6531 - acc: 0.7105     \n"
     ]
    }
   ],
   "source": [
    "learning = [0.01, 0.05, 0.1, 0.5, 1, 1.5, 2]\n",
    "histories = {}\n",
    "for rate in learning:\n",
    "    histories[rate] = train_lr(rate)"
   ]
  },
  {
   "cell_type": "code",
   "execution_count": 81,
   "metadata": {
    "collapsed": false
   },
   "outputs": [
    {
     "data": {
      "image/png": "[encoded data removed]",
      "text/plain": [
       "<matplotlib.figure.Figure at 0x1f52d9b25f8>"
      ]
     },
     "metadata": {},
     "output_type": "display_data"
    }
   ],
   "source": [
    "t = np.arange(0, 15)\n",
    "\n",
    "for rate in learning:\n",
    "    plt.plot(t, histories[rate].history['loss'], label=rate)\n",
    "\n",
    "plt.legend()\n",
    "plt.title('Loss during training')\n",
    "plt.xlabel('Epoch')\n",
    "plt.ylabel('Loss')\n",
    "plt.show()"
   ]
  },
  {
   "cell_type": "markdown",
   "metadata": {},
   "source": [
    "We observe that the learning phase is better while the learning rate is increasing from 0.01 to 0.5, but then the training loss starts to diverge!"
   ]
  },
  {
   "cell_type": "markdown",
   "metadata": {},
   "source": [
    "#### Influence of the optimizer (without parameter tuning)"
   ]
  },
  {
   "cell_type": "code",
   "execution_count": 114,
   "metadata": {
    "collapsed": true
   },
   "outputs": [],
   "source": [
    "from keras import optimizers\n",
    "def train_optimizer(optimizer):\n",
    "    ############ Define dimensions of layers engaged in the neural network ##########\n",
    "    N = X_train.shape[1]\n",
    "    H = 100\n",
    "    K = 10\n",
    "\n",
    "    ######### Build the graph #########\n",
    "    model = Sequential()\n",
    "    model.add(Dense(H, input_dim=N))\n",
    "    model.add(Activation('relu')) \n",
    "    model.add(Dense(K))\n",
    "    model.add(Activation(\"softmax\"))\n",
    "\n",
    "    ############ Assign the graph with an optimizer, a olss function and a metric #######\n",
    "    model.compile(optimizer=optimizers.__dict__[optimizer](),\n",
    "                  loss='categorical_crossentropy', metrics=['accuracy'])\n",
    "\n",
    "    ########### Fit the previously defined model on the train set ##############\n",
    "    start = time.time()\n",
    "    history = model.fit(X_train, Y_train, nb_epoch=15, batch_size=32)\n",
    "    exec_time = time.time() - start\n",
    "    \n",
    "    return history"
   ]
  },
  {
   "cell_type": "code",
   "execution_count": 118,
   "metadata": {
    "collapsed": false
   },
   "outputs": [
    {
     "name": "stdout",
     "output_type": "stream",
     "text": [
      "Epoch 1/15\n",
      "1527/1527 [==============================] - 1s - loss: 2.1165 - acc: 0.2318     \n",
      "Epoch 2/15\n",
      "1527/1527 [==============================] - 0s - loss: 1.5120 - acc: 0.6261     \n",
      "Epoch 3/15\n",
      "1527/1527 [==============================] - 0s - loss: 1.1547 - acc: 0.7636     \n",
      "Epoch 4/15\n",
      "1527/1527 [==============================] - 0s - loss: 0.9267 - acc: 0.8232     \n",
      "Epoch 5/15\n",
      "1527/1527 [==============================] - 0s - loss: 0.7700 - acc: 0.8631     \n",
      "Epoch 6/15\n",
      "1527/1527 [==============================] - 0s - loss: 0.6577 - acc: 0.8874     \n",
      "Epoch 7/15\n",
      "1527/1527 [==============================] - 0s - loss: 0.5738 - acc: 0.9031     \n",
      "Epoch 8/15\n",
      "1527/1527 [==============================] - 0s - loss: 0.5088 - acc: 0.9155     \n",
      "Epoch 9/15\n",
      "1527/1527 [==============================] - 0s - loss: 0.4571 - acc: 0.9234     \n",
      "Epoch 10/15\n",
      "1527/1527 [==============================] - 0s - loss: 0.4149 - acc: 0.9299     \n",
      "Epoch 11/15\n",
      "1527/1527 [==============================] - 0s - loss: 0.3800 - acc: 0.9345     \n",
      "Epoch 12/15\n",
      "1527/1527 [==============================] - 0s - loss: 0.3506 - acc: 0.9398     \n",
      "Epoch 13/15\n",
      "1527/1527 [==============================] - 0s - loss: 0.3256 - acc: 0.9424     \n",
      "Epoch 14/15\n",
      "1527/1527 [==============================] - 0s - loss: 0.3041 - acc: 0.9463     \n",
      "Epoch 15/15\n",
      "1527/1527 [==============================] - 0s - loss: 0.2852 - acc: 0.9489     \n",
      "Epoch 1/15\n",
      "1527/1527 [==============================] - 1s - loss: 1.2433 - acc: 0.7001     \n",
      "Epoch 2/15\n",
      "1527/1527 [==============================] - 0s - loss: 0.4721 - acc: 0.9149     \n",
      "Epoch 3/15\n",
      "1527/1527 [==============================] - 0s - loss: 0.2481 - acc: 0.9548     \n",
      "Epoch 4/15\n",
      "1527/1527 [==============================] - 0s - loss: 0.1560 - acc: 0.9725     \n",
      "Epoch 5/15\n",
      "1527/1527 [==============================] - 0s - loss: 0.1076 - acc: 0.9823     \n",
      "Epoch 6/15\n",
      "1527/1527 [==============================] - 0s - loss: 0.0795 - acc: 0.9876     \n",
      "Epoch 7/15\n",
      "1527/1527 [==============================] - 0s - loss: 0.0598 - acc: 0.9915     \n",
      "Epoch 8/15\n",
      "1527/1527 [==============================] - 0s - loss: 0.0457 - acc: 0.9948     \n",
      "Epoch 9/15\n",
      "1527/1527 [==============================] - 0s - loss: 0.0353 - acc: 0.9974     \n",
      "Epoch 10/15\n",
      "1527/1527 [==============================] - 0s - loss: 0.0279 - acc: 0.9967     \n",
      "Epoch 11/15\n",
      "1527/1527 [==============================] - 0s - loss: 0.0218 - acc: 0.9987     \n",
      "Epoch 12/15\n",
      "1527/1527 [==============================] - 0s - loss: 0.0179 - acc: 0.9980     \n",
      "Epoch 13/15\n",
      "1527/1527 [==============================] - 0s - loss: 0.0134 - acc: 0.9987     \n",
      "Epoch 14/15\n",
      "1527/1527 [==============================] - 0s - loss: 0.0106 - acc: 1.0000     \n",
      "Epoch 15/15\n",
      "1527/1527 [==============================] - 0s - loss: 0.0085 - acc: 0.9993     \n",
      "Epoch 1/15\n",
      "1527/1527 [==============================] - 1s - loss: 0.7381 - acc: 0.8317     \n",
      "Epoch 2/15\n",
      "1527/1527 [==============================] - 0s - loss: 0.2557 - acc: 0.9561     \n",
      "Epoch 3/15\n",
      "1527/1527 [==============================] - 0s - loss: 0.1744 - acc: 0.9699     \n",
      "Epoch 4/15\n",
      "1527/1527 [==============================] - 0s - loss: 0.1365 - acc: 0.9804     \n",
      "Epoch 5/15\n",
      "1527/1527 [==============================] - 0s - loss: 0.1142 - acc: 0.9836     \n",
      "Epoch 6/15\n",
      "1527/1527 [==============================] - 0s - loss: 0.0982 - acc: 0.9862     \n",
      "Epoch 7/15\n",
      "1527/1527 [==============================] - 0s - loss: 0.0864 - acc: 0.9889     \n",
      "Epoch 8/15\n",
      "1527/1527 [==============================] - 0s - loss: 0.0773 - acc: 0.9902     \n",
      "Epoch 9/15\n",
      "1527/1527 [==============================] - 0s - loss: 0.0698 - acc: 0.9902     \n",
      "Epoch 10/15\n",
      "1527/1527 [==============================] - 0s - loss: 0.0637 - acc: 0.9915     \n",
      "Epoch 11/15\n",
      "1527/1527 [==============================] - 0s - loss: 0.0584 - acc: 0.9928     \n",
      "Epoch 12/15\n",
      "1527/1527 [==============================] - 0s - loss: 0.0541 - acc: 0.9928     \n",
      "Epoch 13/15\n",
      "1527/1527 [==============================] - 0s - loss: 0.0502 - acc: 0.9941     \n",
      "Epoch 14/15\n",
      "1527/1527 [==============================] - 0s - loss: 0.0469 - acc: 0.9948     \n",
      "Epoch 15/15\n",
      "1527/1527 [==============================] - 0s - loss: 0.0440 - acc: 0.9941     \n",
      "Epoch 1/15\n",
      "1527/1527 [==============================] - 1s - loss: 2.2435 - acc: 0.1899     \n",
      "Epoch 2/15\n",
      "1527/1527 [==============================] - 0s - loss: 1.5029 - acc: 0.6058     \n",
      "Epoch 3/15\n",
      "1527/1527 [==============================] - 0s - loss: 1.0500 - acc: 0.7904     \n",
      "Epoch 4/15\n",
      "1527/1527 [==============================] - 0s - loss: 0.7745 - acc: 0.8533     \n",
      "Epoch 5/15\n",
      "1527/1527 [==============================] - 0s - loss: 0.5972 - acc: 0.8991     \n",
      "Epoch 6/15\n",
      "1527/1527 [==============================] - 0s - loss: 0.4771 - acc: 0.9116     \n",
      "Epoch 7/15\n",
      "1527/1527 [==============================] - 0s - loss: 0.3922 - acc: 0.9221     \n",
      "Epoch 8/15\n",
      "1527/1527 [==============================] - 0s - loss: 0.3302 - acc: 0.9339     \n",
      "Epoch 9/15\n",
      "1527/1527 [==============================] - 0s - loss: 0.2827 - acc: 0.9430     \n",
      "Epoch 10/15\n",
      "1527/1527 [==============================] - 0s - loss: 0.2457 - acc: 0.9509     \n",
      "Epoch 11/15\n",
      "1527/1527 [==============================] - 0s - loss: 0.2162 - acc: 0.9568     \n",
      "Epoch 12/15\n",
      "1527/1527 [==============================] - 0s - loss: 0.1919 - acc: 0.9614     \n",
      "Epoch 13/15\n",
      "1527/1527 [==============================] - 0s - loss: 0.1719 - acc: 0.9653     \n",
      "Epoch 14/15\n",
      "1527/1527 [==============================] - 0s - loss: 0.1551 - acc: 0.9686     \n",
      "Epoch 15/15\n",
      "1527/1527 [==============================] - 0s - loss: 0.1406 - acc: 0.9725     \n",
      "Epoch 1/15\n",
      "1527/1527 [==============================] - 1s - loss: 1.5335 - acc: 0.5593     \n",
      "Epoch 2/15\n",
      "1527/1527 [==============================] - 0s - loss: 0.6256 - acc: 0.8821     \n",
      "Epoch 3/15\n",
      "1527/1527 [==============================] - 0s - loss: 0.3489 - acc: 0.9371     \n",
      "Epoch 4/15\n",
      "1527/1527 [==============================] - 0s - loss: 0.2339 - acc: 0.9568     \n",
      "Epoch 5/15\n",
      "1527/1527 [==============================] - 0s - loss: 0.1727 - acc: 0.9659     \n",
      "Epoch 6/15\n",
      "1527/1527 [==============================] - 0s - loss: 0.1345 - acc: 0.9777     \n",
      "Epoch 7/15\n",
      "1527/1527 [==============================] - 0s - loss: 0.1092 - acc: 0.9843     \n",
      "Epoch 8/15\n",
      "1527/1527 [==============================] - 0s - loss: 0.0901 - acc: 0.9876     \n",
      "Epoch 9/15\n",
      "1527/1527 [==============================] - 0s - loss: 0.0762 - acc: 0.9908     \n",
      "Epoch 10/15\n",
      "1527/1527 [==============================] - 0s - loss: 0.0649 - acc: 0.9921     \n",
      "Epoch 11/15\n",
      "1527/1527 [==============================] - 0s - loss: 0.0560 - acc: 0.9954     \n",
      "Epoch 12/15\n",
      "1527/1527 [==============================] - 0s - loss: 0.0487 - acc: 0.9967     \n",
      "Epoch 13/15\n",
      "1527/1527 [==============================] - 0s - loss: 0.0424 - acc: 0.9967     \n",
      "Epoch 14/15\n",
      "1527/1527 [==============================] - 0s - loss: 0.0372 - acc: 0.9967     \n",
      "Epoch 15/15\n",
      "1527/1527 [==============================] - 0s - loss: 0.0328 - acc: 0.9987     \n",
      "Epoch 1/15\n",
      "1527/1527 [==============================] - 1s - loss: 1.7386 - acc: 0.4990     \n",
      "Epoch 2/15\n",
      "1527/1527 [==============================] - 0s - loss: 0.7299 - acc: 0.8815     \n",
      "Epoch 3/15\n",
      "1527/1527 [==============================] - 0s - loss: 0.4542 - acc: 0.9273     \n",
      "Epoch 4/15\n",
      "1527/1527 [==============================] - 0s - loss: 0.3323 - acc: 0.9417     \n",
      "Epoch 5/15\n",
      "1527/1527 [==============================] - 0s - loss: 0.2616 - acc: 0.9496     \n",
      "Epoch 6/15\n",
      "1527/1527 [==============================] - 0s - loss: 0.2148 - acc: 0.9646     \n",
      "Epoch 7/15\n",
      "1527/1527 [==============================] - 0s - loss: 0.1805 - acc: 0.9712     \n",
      "Epoch 8/15\n",
      "1527/1527 [==============================] - 0s - loss: 0.1540 - acc: 0.9758     \n",
      "Epoch 9/15\n",
      "1527/1527 [==============================] - 0s - loss: 0.1338 - acc: 0.9797     \n",
      "Epoch 10/15\n",
      "1527/1527 [==============================] - 0s - loss: 0.1177 - acc: 0.9830     \n",
      "Epoch 11/15\n",
      "1527/1527 [==============================] - 0s - loss: 0.1049 - acc: 0.9836     \n",
      "Epoch 12/15\n",
      "1527/1527 [==============================] - 0s - loss: 0.0936 - acc: 0.9869     \n",
      "Epoch 13/15\n",
      "1527/1527 [==============================] - 0s - loss: 0.0848 - acc: 0.9902     \n",
      "Epoch 14/15\n",
      "1527/1527 [==============================] - 0s - loss: 0.0764 - acc: 0.9908     \n",
      "Epoch 15/15\n",
      "1527/1527 [==============================] - 0s - loss: 0.0694 - acc: 0.9921     \n",
      "Epoch 1/15\n",
      "1527/1527 [==============================] - 1s - loss: 1.2206 - acc: 0.6726     \n",
      "Epoch 2/15\n",
      "1527/1527 [==============================] - 0s - loss: 0.3230 - acc: 0.9391     \n",
      "Epoch 3/15\n",
      "1527/1527 [==============================] - 0s - loss: 0.1684 - acc: 0.9666     \n",
      "Epoch 4/15\n",
      "1527/1527 [==============================] - 0s - loss: 0.1123 - acc: 0.9817     \n",
      "Epoch 5/15\n",
      "1527/1527 [==============================] - 0s - loss: 0.0802 - acc: 0.9882     \n",
      "Epoch 6/15\n",
      "1527/1527 [==============================] - 0s - loss: 0.0606 - acc: 0.9928     \n",
      "Epoch 7/15\n",
      "1527/1527 [==============================] - 0s - loss: 0.0468 - acc: 0.9928     \n",
      "Epoch 8/15\n",
      "1527/1527 [==============================] - 0s - loss: 0.0367 - acc: 0.9974     \n",
      "Epoch 9/15\n",
      "1527/1527 [==============================] - 0s - loss: 0.0291 - acc: 0.9987     \n",
      "Epoch 10/15\n",
      "1527/1527 [==============================] - 0s - loss: 0.0241 - acc: 1.0000     \n",
      "Epoch 11/15\n",
      "1527/1527 [==============================] - 0s - loss: 0.0198 - acc: 0.9993     \n",
      "Epoch 12/15\n",
      "1527/1527 [==============================] - 0s - loss: 0.0167 - acc: 1.0000     \n",
      "Epoch 13/15\n",
      "1527/1527 [==============================] - 0s - loss: 0.0142 - acc: 1.0000     \n",
      "Epoch 14/15\n",
      "1527/1527 [==============================] - 0s - loss: 0.0122 - acc: 1.0000     \n",
      "Epoch 15/15\n",
      "1527/1527 [==============================] - 0s - loss: 0.0105 - acc: 1.0000     \n"
     ]
    }
   ],
   "source": [
    "optims = ['SGD', 'RMSprop', 'Adagrad', 'Adadelta', 'Adam', 'Adamax', 'Nadam']\n",
    "histories = {}\n",
    "for optim in optims:\n",
    "    histories[optim] = train_optimizer(optim)"
   ]
  },
  {
   "cell_type": "code",
   "execution_count": 119,
   "metadata": {
    "collapsed": false
   },
   "outputs": [
    {
     "data": {
      "image/png": "[encoded data removed]",
      "text/plain": [
       "<matplotlib.figure.Figure at 0x1f5366b19b0>"
      ]
     },
     "metadata": {},
     "output_type": "display_data"
    }
   ],
   "source": [
    "t = np.arange(0, 15)\n",
    "\n",
    "for optim in optims:\n",
    "    plt.plot(t, histories[optim].history['loss'], label=optim)\n",
    "\n",
    "plt.legend()\n",
    "plt.title('Loss during training')\n",
    "plt.xlabel('Epoch')\n",
    "plt.ylabel('Loss')\n",
    "plt.show()"
   ]
  },
  {
   "cell_type": "markdown",
   "metadata": {},
   "source": [
    "#### Influence of the Nesterov momentum in SGD"
   ]
  },
  {
   "cell_type": "code",
   "execution_count": 120,
   "metadata": {
    "collapsed": true
   },
   "outputs": [],
   "source": [
    "def train_nesterov(moementum):\n",
    "    ############ Define dimensions of layers engaged in the neural network ##########\n",
    "    N = X_train.shape[1]\n",
    "    H = 100\n",
    "    K = 10\n",
    "\n",
    "    ######### Build the graph #########\n",
    "    model = Sequential()\n",
    "    model.add(Dense(H, input_dim=N))\n",
    "    model.add(Activation('relu')) \n",
    "    model.add(Dense(K))\n",
    "    model.add(Activation(\"softmax\"))\n",
    "\n",
    "    ############ Assign the graph with an optimizer, a olss function and a metric #######\n",
    "    model.compile(optimizer=optimizers.SGD(nesterov=True, momentum=momentum),\n",
    "                  loss='categorical_crossentropy', metrics=['accuracy'])\n",
    "\n",
    "    ########### Fit the previously defined model on the train set ##############\n",
    "    start = time.time()\n",
    "    history = model.fit(X_train, Y_train, nb_epoch=15, batch_size=32)\n",
    "    exec_time = time.time() - start\n",
    "    \n",
    "    return history"
   ]
  },
  {
   "cell_type": "code",
   "execution_count": 123,
   "metadata": {
    "collapsed": false
   },
   "outputs": [
    {
     "name": "stdout",
     "output_type": "stream",
     "text": [
      "Epoch 1/15\n",
      "1527/1527 [==============================] - 1s - loss: 5.6484 - acc: 0.1218     \n",
      "Epoch 2/15\n",
      "1527/1527 [==============================] - 0s - loss: 1.1921e-07 - acc: 0.0989     \n",
      "Epoch 3/15\n",
      "1527/1527 [==============================] - 0s - loss: 1.1921e-07 - acc: 0.0989     \n",
      "Epoch 4/15\n",
      "1527/1527 [==============================] - 0s - loss: 1.1921e-07 - acc: 0.0989     \n",
      "Epoch 5/15\n",
      "1527/1527 [==============================] - 0s - loss: 1.1921e-07 - acc: 0.0989     \n",
      "Epoch 6/15\n",
      "1527/1527 [==============================] - 0s - loss: 1.1921e-07 - acc: 0.0989     \n",
      "Epoch 7/15\n",
      "1527/1527 [==============================] - 0s - loss: 1.1921e-07 - acc: 0.0989     \n",
      "Epoch 8/15\n",
      "1527/1527 [==============================] - 0s - loss: 1.1921e-07 - acc: 0.0989     \n",
      "Epoch 9/15\n",
      "1527/1527 [==============================] - 0s - loss: 1.1921e-07 - acc: 0.0989     \n",
      "Epoch 10/15\n",
      "1527/1527 [==============================] - 0s - loss: 1.1921e-07 - acc: 0.0989     \n",
      "Epoch 11/15\n",
      "1527/1527 [==============================] - 0s - loss: 1.1921e-07 - acc: 0.0989     \n",
      "Epoch 12/15\n",
      "1527/1527 [==============================] - 0s - loss: 1.1921e-07 - acc: 0.0989     \n",
      "Epoch 13/15\n",
      "1527/1527 [==============================] - 0s - loss: 1.1921e-07 - acc: 0.0989     \n",
      "Epoch 14/15\n",
      "1527/1527 [==============================] - 0s - loss: 1.1921e-07 - acc: 0.0989     \n",
      "Epoch 15/15\n",
      "1527/1527 [==============================] - 0s - loss: 1.1921e-07 - acc: 0.0989     \n",
      "Epoch 1/15\n",
      "1527/1527 [==============================] - 1s - loss: 8.3772 - acc: 0.1146     \n",
      "Epoch 2/15\n",
      "1527/1527 [==============================] - 0s - loss: 1.1921e-07 - acc: 0.0989     \n",
      "Epoch 3/15\n",
      "1527/1527 [==============================] - 0s - loss: 1.1921e-07 - acc: 0.0989     \n",
      "Epoch 4/15\n",
      "1527/1527 [==============================] - 0s - loss: 1.1921e-07 - acc: 0.0989     \n",
      "Epoch 5/15\n",
      "1527/1527 [==============================] - 0s - loss: 1.1921e-07 - acc: 0.0989     \n",
      "Epoch 6/15\n",
      "1527/1527 [==============================] - 0s - loss: 1.1921e-07 - acc: 0.0989     \n",
      "Epoch 7/15\n",
      "1527/1527 [==============================] - 0s - loss: 1.1921e-07 - acc: 0.0989     \n",
      "Epoch 8/15\n",
      "1527/1527 [==============================] - 0s - loss: 1.1921e-07 - acc: 0.0989     \n",
      "Epoch 9/15\n",
      "1527/1527 [==============================] - 0s - loss: 1.1921e-07 - acc: 0.0989     \n",
      "Epoch 10/15\n",
      "1527/1527 [==============================] - 0s - loss: 1.1921e-07 - acc: 0.0989     \n",
      "Epoch 11/15\n",
      "1527/1527 [==============================] - 0s - loss: 1.1921e-07 - acc: 0.0989     \n",
      "Epoch 12/15\n",
      "1527/1527 [==============================] - 0s - loss: 1.1921e-07 - acc: 0.0989     \n",
      "Epoch 13/15\n",
      "1527/1527 [==============================] - 0s - loss: 1.1921e-07 - acc: 0.0989     \n",
      "Epoch 14/15\n",
      "1527/1527 [==============================] - 0s - loss: 1.1921e-07 - acc: 0.0989     \n",
      "Epoch 15/15\n",
      "1527/1527 [==============================] - 0s - loss: 1.1921e-07 - acc: 0.0989     \n",
      "Epoch 1/15\n",
      "1527/1527 [==============================] - 1s - loss: 0.9582 - acc: 0.6974     \n",
      "Epoch 2/15\n",
      "1527/1527 [==============================] - 0s - loss: 0.2005 - acc: 0.9496     \n",
      "Epoch 3/15\n",
      "1527/1527 [==============================] - 0s - loss: 0.1436 - acc: 0.9699     \n",
      "Epoch 4/15\n",
      "1527/1527 [==============================] - 0s - loss: 0.2422 - acc: 0.9718     \n",
      "Epoch 5/15\n",
      "1527/1527 [==============================] - 0s - loss: 0.2733 - acc: 0.9745     \n",
      "Epoch 6/15\n",
      "1527/1527 [==============================] - 0s - loss: 0.4965 - acc: 0.9620     \n",
      "Epoch 7/15\n",
      "1527/1527 [==============================] - 0s - loss: 0.7369 - acc: 0.9489     \n",
      "Epoch 8/15\n",
      "1527/1527 [==============================] - 0s - loss: 0.6785 - acc: 0.9542     \n",
      "Epoch 9/15\n",
      "1527/1527 [==============================] - 0s - loss: 0.8897 - acc: 0.9411     \n",
      "Epoch 10/15\n",
      "1527/1527 [==============================] - 0s - loss: 1.2710 - acc: 0.9194     \n",
      "Epoch 11/15\n",
      "1527/1527 [==============================] - 0s - loss: 1.4433 - acc: 0.9096     \n",
      "Epoch 12/15\n",
      "1527/1527 [==============================] - 0s - loss: 1.1693 - acc: 0.9267     \n",
      "Epoch 13/15\n",
      "1527/1527 [==============================] - 0s - loss: 1.3213 - acc: 0.9168     \n",
      "Epoch 14/15\n",
      "1527/1527 [==============================] - 0s - loss: 1.7725 - acc: 0.8900     \n",
      "Epoch 15/15\n",
      "1527/1527 [==============================] - 0s - loss: 1.7681 - acc: 0.8893     \n",
      "Epoch 1/15\n",
      "1527/1527 [==============================] - 1s - loss: 1.8533 - acc: 0.4361     \n",
      "Epoch 2/15\n",
      "1527/1527 [==============================] - 0s - loss: 1.0336 - acc: 0.7813     \n",
      "Epoch 3/15\n",
      "1527/1527 [==============================] - 0s - loss: 0.6967 - acc: 0.8605     \n",
      "Epoch 4/15\n",
      "1527/1527 [==============================] - 0s - loss: 0.5262 - acc: 0.8933     \n",
      "Epoch 5/15\n",
      "1527/1527 [==============================] - 0s - loss: 0.4236 - acc: 0.9175     \n",
      "Epoch 6/15\n",
      "1527/1527 [==============================] - 0s - loss: 0.3557 - acc: 0.9293     \n",
      "Epoch 7/15\n",
      "1527/1527 [==============================] - 0s - loss: 0.3071 - acc: 0.9424     \n",
      "Epoch 8/15\n",
      "1527/1527 [==============================] - 0s - loss: 0.2710 - acc: 0.9496     \n",
      "Epoch 9/15\n",
      "1527/1527 [==============================] - 0s - loss: 0.2429 - acc: 0.9561     \n",
      "Epoch 10/15\n",
      "1527/1527 [==============================] - 0s - loss: 0.2207 - acc: 0.9614     \n",
      "Epoch 11/15\n",
      "1527/1527 [==============================] - 0s - loss: 0.2022 - acc: 0.9640     \n",
      "Epoch 12/15\n",
      "1527/1527 [==============================] - 0s - loss: 0.1869 - acc: 0.9659     \n",
      "Epoch 13/15\n",
      "1527/1527 [==============================] - 0s - loss: 0.1740 - acc: 0.9686     \n",
      "Epoch 14/15\n",
      "1527/1527 [==============================] - 0s - loss: 0.1628 - acc: 0.9712     \n",
      "Epoch 15/15\n",
      "1527/1527 [==============================] - 0s - loss: 0.1531 - acc: 0.9725     \n",
      "Epoch 1/15\n",
      "1527/1527 [==============================] - 1s - loss: 2.1387 - acc: 0.2423     \n",
      "Epoch 2/15\n",
      "1527/1527 [==============================] - 0s - loss: 1.4710 - acc: 0.6431     \n",
      "Epoch 3/15\n",
      "1527/1527 [==============================] - 0s - loss: 1.0885 - acc: 0.7891     \n",
      "Epoch 4/15\n",
      "1527/1527 [==============================] - 0s - loss: 0.8572 - acc: 0.8330     \n",
      "Epoch 5/15\n",
      "1527/1527 [==============================] - 0s - loss: 0.7049 - acc: 0.8690     \n",
      "Epoch 6/15\n",
      "1527/1527 [==============================] - 0s - loss: 0.5977 - acc: 0.8939     \n",
      "Epoch 7/15\n",
      "1527/1527 [==============================] - 0s - loss: 0.5186 - acc: 0.9136     \n",
      "Epoch 8/15\n",
      "1527/1527 [==============================] - 0s - loss: 0.4578 - acc: 0.9234     \n",
      "Epoch 9/15\n",
      "1527/1527 [==============================] - 0s - loss: 0.4101 - acc: 0.9312     \n",
      "Epoch 10/15\n",
      "1527/1527 [==============================] - 0s - loss: 0.3714 - acc: 0.9352     \n",
      "Epoch 11/15\n",
      "1527/1527 [==============================] - 0s - loss: 0.3397 - acc: 0.9424     \n",
      "Epoch 12/15\n",
      "1527/1527 [==============================] - 0s - loss: 0.3132 - acc: 0.9476     \n",
      "Epoch 13/15\n",
      "1527/1527 [==============================] - 0s - loss: 0.2905 - acc: 0.9515     \n",
      "Epoch 14/15\n",
      "1527/1527 [==============================] - 0s - loss: 0.2710 - acc: 0.9548     \n",
      "Epoch 15/15\n",
      "1527/1527 [==============================] - 0s - loss: 0.2538 - acc: 0.9574     \n",
      "Epoch 1/15\n",
      "1527/1527 [==============================] - 1s - loss: 2.0214 - acc: 0.2836     \n",
      "Epoch 2/15\n",
      "1527/1527 [==============================] - 0s - loss: 1.4373 - acc: 0.6706     \n",
      "Epoch 3/15\n",
      "1527/1527 [==============================] - 0s - loss: 1.0913 - acc: 0.7767     \n",
      "Epoch 4/15\n",
      "1527/1527 [==============================] - 0s - loss: 0.8715 - acc: 0.8304     \n",
      "Epoch 5/15\n",
      "1527/1527 [==============================] - 0s - loss: 0.7217 - acc: 0.8677     \n",
      "Epoch 6/15\n",
      "1527/1527 [==============================] - 0s - loss: 0.6143 - acc: 0.8926     \n",
      "Epoch 7/15\n",
      "1527/1527 [==============================] - 0s - loss: 0.5336 - acc: 0.9077     \n",
      "Epoch 8/15\n",
      "1527/1527 [==============================] - 0s - loss: 0.4710 - acc: 0.9181     \n",
      "Epoch 9/15\n",
      "1527/1527 [==============================] - 0s - loss: 0.4214 - acc: 0.9339     \n",
      "Epoch 10/15\n",
      "1527/1527 [==============================] - 0s - loss: 0.3812 - acc: 0.9365     \n",
      "Epoch 11/15\n",
      "1527/1527 [==============================] - 0s - loss: 0.3481 - acc: 0.9417     \n",
      "Epoch 12/15\n",
      "1527/1527 [==============================] - 0s - loss: 0.3202 - acc: 0.9456     \n",
      "Epoch 13/15\n",
      "1527/1527 [==============================] - 0s - loss: 0.2965 - acc: 0.9522     \n",
      "Epoch 14/15\n",
      "1527/1527 [==============================] - 0s - loss: 0.2761 - acc: 0.9542     \n",
      "Epoch 15/15\n",
      "1527/1527 [==============================] - 0s - loss: 0.2586 - acc: 0.9594     \n"
     ]
    }
   ],
   "source": [
    "momentums = [10, 5, 1, 0.5, 0.1, 0.05]\n",
    "histories = {}\n",
    "for momentum in momentums:\n",
    "    histories[momentum] = train_nesterov(momentum)"
   ]
  },
  {
   "cell_type": "code",
   "execution_count": 125,
   "metadata": {
    "collapsed": false
   },
   "outputs": [
    {
     "data": {
      "image/png": "[encoded data removed]",
      "text/plain": [
       "<matplotlib.figure.Figure at 0x1f5366e17b8>"
      ]
     },
     "metadata": {},
     "output_type": "display_data"
    }
   ],
   "source": [
    "t = np.arange(0, 15)\n",
    "\n",
    "for momentum in momentums:\n",
    "    plt.plot(t, histories[momentum].history['loss'], label=momentum)\n",
    "\n",
    "plt.legend()\n",
    "plt.title('Loss during training')\n",
    "plt.xlabel('Epoch')\n",
    "plt.ylabel('Loss')\n",
    "plt.show()"
   ]
  },
  {
   "cell_type": "markdown",
   "metadata": {},
   "source": [
    "#### Forward pass and generalization\n",
    "- Compute predictions on test set using `model.predict_classes(...)`\n",
    "- Compute average accuracy of the model on the test set"
   ]
  },
  {
   "cell_type": "code",
   "execution_count": 131,
   "metadata": {
    "collapsed": false
   },
   "outputs": [
    {
     "name": "stdout",
     "output_type": "stream",
     "text": [
      "Epoch 1/15\n",
      "1527/1527 [==============================] - 1s - loss: 0.4166 - acc: 0.8684     \n",
      "Epoch 2/15\n",
      "1527/1527 [==============================] - 0s - loss: 0.0779 - acc: 0.9823     \n",
      "Epoch 3/15\n",
      "1527/1527 [==============================] - 0s - loss: 0.0453 - acc: 0.9902     \n",
      "Epoch 4/15\n",
      "1527/1527 [==============================] - 0s - loss: 0.0205 - acc: 0.9967     \n",
      "Epoch 5/15\n",
      "1527/1527 [==============================] - 0s - loss: 0.0124 - acc: 0.9987     \n",
      "Epoch 6/15\n",
      "1527/1527 [==============================] - 0s - loss: 0.0111 - acc: 0.9987     \n",
      "Epoch 7/15\n",
      "1527/1527 [==============================] - 0s - loss: 0.0072 - acc: 1.0000     \n",
      "Epoch 8/15\n",
      "1527/1527 [==============================] - 0s - loss: 0.0053 - acc: 1.0000     \n",
      "Epoch 9/15\n",
      "1527/1527 [==============================] - 0s - loss: 0.0044 - acc: 1.0000     \n",
      "Epoch 10/15\n",
      "1527/1527 [==============================] - 0s - loss: 0.0038 - acc: 1.0000     \n",
      "Epoch 11/15\n",
      "1527/1527 [==============================] - 0s - loss: 0.0034 - acc: 1.0000     \n",
      "Epoch 12/15\n",
      "1527/1527 [==============================] - 0s - loss: 0.0031 - acc: 1.0000     \n",
      "Epoch 13/15\n",
      "1527/1527 [==============================] - 0s - loss: 0.0028 - acc: 1.0000     \n",
      "Epoch 14/15\n",
      "1527/1527 [==============================] - 0s - loss: 0.0026 - acc: 1.0000     \n",
      "Epoch 15/15\n",
      "1527/1527 [==============================] - 0s - loss: 0.0024 - acc: 1.0000     \n"
     ]
    },
    {
     "data": {
      "image/png": "[encoded data removed]",
      "text/plain": [
       "<matplotlib.figure.Figure at 0x1f53fd18cc0>"
      ]
     },
     "metadata": {},
     "output_type": "display_data"
    }
   ],
   "source": [
    "## Change learning rate\n",
    "model = Sequential()\n",
    "model.add(Dense(H, input_dim=N))\n",
    "model.add(Activation(\"tanh\"))\n",
    "model.add(Dense(K))\n",
    "model.add(Activation(\"softmax\"))\n",
    "\n",
    "model.compile(optimizer=optimizers.SGD(lr=0.1, momentum=0.9, nesterov=True),\n",
    "              loss='categorical_crossentropy', metrics=['accuracy'])\n",
    "\n",
    "history = model.fit(X_train, Y_train, nb_epoch=15, batch_size=32)\n",
    "\n",
    "plt.plot(history.history['acc'])\n",
    "plt.show()"
   ]
  },
  {
   "cell_type": "code",
   "execution_count": 132,
   "metadata": {
    "collapsed": false
   },
   "outputs": [
    {
     "name": "stdout",
     "output_type": "stream",
     "text": [
      "224/270 [=======================>......] - ETA: 0s\n",
      "The average accuracy of the model on test set is 0.9740740740740741\n"
     ]
    }
   ],
   "source": [
    "predicted = model.predict_classes(X_test)\n",
    "result = sum(predicted == y_test)/len(y_test)\n",
    "print('\\nThe average accuracy of the model on test set is {}'.format(result))"
   ]
  },
  {
   "cell_type": "code",
   "execution_count": 133,
   "metadata": {
    "collapsed": false
   },
   "outputs": [
    {
     "name": "stdout",
     "output_type": "stream",
     "text": [
      "test acc: 0.9741\n"
     ]
    },
    {
     "data": {
      "image/png": "[encoded data removed]",
      "text/plain": [
       "<matplotlib.figure.Figure at 0x1f5380fca58>"
      ]
     },
     "metadata": {},
     "output_type": "display_data"
    }
   ],
   "source": [
    "y_predicted = model.predict_classes(X_test, verbose=0)\n",
    "\n",
    "# Let's display the first inputs image, the predicted labels and the true labels\n",
    "plt.figure(figsize=(12, 9))\n",
    "for i in range(15):\n",
    "    plt.subplot(3, 5, i + 1)\n",
    "    plt.imshow(scaler.inverse_transform(X_test[i]).reshape(8, 8),\n",
    "               cmap=plt.cm.gray_r, interpolation='nearest')\n",
    "    plt.title(\"predicted label: %d\\n true label: %d\"\n",
    "              % (y_predicted[i], y_test[i]))\n",
    "    \n",
    "print(\"test acc: %0.4f\" % np.mean(y_predicted == y_test))"
   ]
  },
  {
   "cell_type": "markdown",
   "metadata": {},
   "source": [
    "- Compute the conditional probabilities of sample number 42 of the test set with `model.predict_proba(...)`\n",
    "- Derive the loss (negative log likelihood of that sample) using numpy operations\n",
    "- Compute the average negative log likelihood of the test set.\n",
    "- Compare this value to the training loss reported by keras: is the model overfitting or underfitting?\n",
    "\n",
    "Note: you might need to retrain the model with a larger number of epochs (e.g. 50) to ensure that it has fully converged.+"
   ]
  },
  {
   "cell_type": "code",
   "execution_count": 134,
   "metadata": {
    "collapsed": false
   },
   "outputs": [
    {
     "name": "stdout",
     "output_type": "stream",
     "text": [
      "1/1 [==============================] - 0s\n"
     ]
    },
    {
     "data": {
      "text/plain": [
       "1.120573597290786e-05"
      ]
     },
     "execution_count": 134,
     "metadata": {},
     "output_type": "execute_result"
    }
   ],
   "source": [
    "X_example = model.predict_proba(np.reshape(X_test[42], (-1, 64)))\n",
    "y_example = to_categorical(y_test)[42]\n",
    "loss = -np.sum(np.log(X_example) * y_example)\n",
    "\n",
    "loss"
   ]
  },
  {
   "cell_type": "code",
   "execution_count": 135,
   "metadata": {
    "collapsed": false
   },
   "outputs": [
    {
     "name": "stdout",
     "output_type": "stream",
     "text": [
      "1/1 [==============================] - 0s\n",
      "1/1 [==============================] - 0s\n",
      "1/1 [==============================] - 0s\n",
      "1/1 [==============================] - 0s\n",
      "1/1 [==============================] - 0s\n",
      "1/1 [==============================] - 0s\n",
      "1/1 [==============================] - 0s\n",
      "1/1 [==============================] - 0s\n",
      "1/1 [==============================] - 0s\n",
      "1/1 [==============================] - 0s\n",
      "1/1 [==============================] - 0s\n",
      "1/1 [==============================] - 0s\n",
      "1/1 [==============================] - 0s\n",
      "1/1 [==============================] - 0s\n",
      "1/1 [==============================] - 0s\n",
      "1/1 [==============================] - 0s\n",
      "1/1 [==============================] - 0s\n",
      "1/1 [==============================] - 0s\n",
      "1/1 [==============================] - 0s\n",
      "1/1 [==============================] - 0s\n",
      "1/1 [==============================] - 0s\n",
      "1/1 [==============================] - 0s\n",
      "1/1 [==============================] - 0s\n",
      "1/1 [==============================] - 0s\n",
      "1/1 [==============================] - 0s\n",
      "1/1 [==============================] - 0s\n",
      "1/1 [==============================] - 0s\n",
      "1/1 [==============================] - 0s\n",
      "1/1 [==============================] - 0s\n",
      "1/1 [==============================] - 0s\n",
      "1/1 [==============================] - 0s\n",
      "1/1 [==============================] - 0s\n",
      "1/1 [==============================] - 0s\n",
      "1/1 [==============================] - 0s\n",
      "1/1 [==============================] - 0s\n",
      "1/1 [==============================] - 0s\n",
      "1/1 [==============================] - 0s\n",
      "1/1 [==============================] - 0s\n",
      "1/1 [==============================] - 0s\n",
      "1/1 [==============================] - 0s\n",
      "1/1 [==============================] - 0s\n",
      "1/1 [==============================] - 0s\n",
      "1/1 [==============================] - 0s\n",
      "1/1 [==============================] - 0s\n",
      "1/1 [==============================] - 0s\n",
      "1/1 [==============================] - 0s\n",
      "1/1 [==============================] - 0s\n",
      "1/1 [==============================] - 0s\n",
      "1/1 [==============================] - 0s\n",
      "1/1 [==============================] - 0s\n",
      "1/1 [==============================] - 0s\n",
      "1/1 [==============================] - 0s\n",
      "1/1 [==============================] - 0s\n",
      "1/1 [==============================] - 0s\n",
      "1/1 [==============================] - 0s\n",
      "1/1 [==============================] - 0s\n",
      "1/1 [==============================] - 0s\n",
      "1/1 [==============================] - 0s\n",
      "1/1 [==============================] - 0s\n",
      "1/1 [==============================] - 0s\n",
      "1/1 [==============================] - 0s\n",
      "1/1 [==============================] - 0s\n",
      "1/1 [==============================] - 0s\n",
      "1/1 [==============================] - 0s\n",
      "1/1 [==============================] - 0s\n",
      "1/1 [==============================] - 0s\n",
      "1/1 [==============================] - 0s\n",
      "1/1 [==============================] - 0s\n",
      "1/1 [==============================] - 0s\n",
      "1/1 [==============================] - 0s\n",
      "1/1 [==============================] - 0s\n",
      "1/1 [==============================] - 0s\n",
      "1/1 [==============================] - 0s\n",
      "1/1 [==============================] - 0s\n",
      "1/1 [==============================] - 0s\n",
      "1/1 [==============================] - 0s\n",
      "1/1 [==============================] - 0s\n",
      "1/1 [==============================] - 0s\n",
      "1/1 [==============================] - 0s\n",
      "1/1 [==============================] - 0s\n",
      "1/1 [==============================] - 0s\n",
      "1/1 [==============================] - 0s\n",
      "1/1 [==============================] - 0s\n",
      "1/1 [==============================] - 0s\n",
      "1/1 [==============================] - 0s\n",
      "1/1 [==============================] - 0s\n",
      "1/1 [==============================] - 0s\n",
      "1/1 [==============================] - 0s\n",
      "1/1 [==============================] - 0s\n",
      "1/1 [==============================] - 0s\n",
      "1/1 [==============================] - 0s\n",
      "1/1 [==============================] - 0s\n",
      "1/1 [==============================] - 0s\n",
      "1/1 [==============================] - 0s\n",
      "1/1 [==============================] - 0s\n",
      "1/1 [==============================] - 0s\n",
      "1/1 [==============================] - 0s\n",
      "1/1 [==============================] - 0s\n",
      "1/1 [==============================] - 0s\n",
      "1/1 [==============================] - 0s\n",
      "1/1 [==============================] - 0s\n",
      "1/1 [==============================] - 0s\n",
      "1/1 [==============================] - 0s\n",
      "1/1 [==============================] - 0s\n",
      "1/1 [==============================] - 0s\n",
      "1/1 [==============================] - 0s\n",
      "1/1 [==============================] - 0s\n",
      "1/1 [==============================] - 0s\n",
      "1/1 [==============================] - 0s\n",
      "1/1 [==============================] - 0s\n",
      "1/1 [==============================] - 0s\n",
      "1/1 [==============================] - 0s\n",
      "1/1 [==============================] - 0s\n",
      "1/1 [==============================] - 0s\n",
      "1/1 [==============================] - 0s\n",
      "1/1 [==============================] - 0s\n",
      "1/1 [==============================] - 0s\n",
      "1/1 [==============================] - 0s\n",
      "1/1 [==============================] - 0s\n",
      "1/1 [==============================] - 0s\n",
      "1/1 [==============================] - 0s\n",
      "1/1 [==============================] - 0s\n",
      "1/1 [==============================] - 0s\n",
      "1/1 [==============================] - 0s\n",
      "1/1 [==============================] - 0s\n",
      "1/1 [==============================] - 0s\n",
      "1/1 [==============================] - 0s\n",
      "1/1 [==============================] - 0s\n",
      "1/1 [==============================] - 0s\n",
      "1/1 [==============================] - 0s\n",
      "1/1 [==============================] - 0s\n",
      "1/1 [==============================] - 0s\n",
      "1/1 [==============================] - 0s\n",
      "1/1 [==============================] - 0s\n",
      "1/1 [==============================] - 0s\n",
      "1/1 [==============================] - 0s\n",
      "1/1 [==============================] - 0s\n",
      "1/1 [==============================] - 0s\n",
      "1/1 [==============================] - 0s\n",
      "1/1 [==============================] - 0s\n",
      "1/1 [==============================] - 0s\n",
      "1/1 [==============================] - 0s\n",
      "1/1 [==============================] - 0s\n",
      "1/1 [==============================] - 0s\n",
      "1/1 [==============================] - 0s\n",
      "1/1 [==============================] - 0s\n",
      "1/1 [==============================] - 0s\n",
      "1/1 [==============================] - 0s\n",
      "1/1 [==============================] - 0s\n",
      "1/1 [==============================] - 0s\n",
      "1/1 [==============================] - 0s\n",
      "1/1 [==============================] - 0s\n",
      "1/1 [==============================] - 0s\n",
      "1/1 [==============================] - 0s\n",
      "1/1 [==============================] - 0s\n",
      "1/1 [==============================] - 0s\n",
      "1/1 [==============================] - 0s\n",
      "1/1 [==============================] - 0s\n",
      "1/1 [==============================] - 0s\n",
      "1/1 [==============================] - 0s\n",
      "1/1 [==============================] - 0s\n",
      "1/1 [==============================] - 0s\n",
      "1/1 [==============================] - 0s\n",
      "1/1 [==============================] - 0s\n",
      "1/1 [==============================] - 0s\n",
      "1/1 [==============================] - 0s\n",
      "1/1 [==============================] - 0s\n",
      "1/1 [==============================] - 0s\n",
      "1/1 [==============================] - 0s\n",
      "1/1 [==============================] - 0s\n",
      "1/1 [==============================] - 0s\n",
      "1/1 [==============================] - 0s\n",
      "1/1 [==============================] - 0s\n",
      "1/1 [==============================] - 0s\n",
      "1/1 [==============================] - 0s\n",
      "1/1 [==============================] - 0s\n",
      "1/1 [==============================] - 0s\n",
      "1/1 [==============================] - 0s\n",
      "1/1 [==============================] - 0s\n",
      "1/1 [==============================] - 0s\n",
      "1/1 [==============================] - 0s\n",
      "1/1 [==============================] - 0s\n",
      "1/1 [==============================] - 0s\n",
      "1/1 [==============================] - 0s\n",
      "1/1 [==============================] - 0s\n",
      "1/1 [==============================] - 0s\n",
      "1/1 [==============================] - 0s\n",
      "1/1 [==============================] - 0s\n",
      "1/1 [==============================] - 0s\n",
      "1/1 [==============================] - 0s\n",
      "1/1 [==============================] - 0s\n",
      "1/1 [==============================] - 0s\n",
      "1/1 [==============================] - 0s\n",
      "1/1 [==============================] - 0s\n",
      "1/1 [==============================] - 0s\n",
      "1/1 [==============================] - 0s\n",
      "1/1 [==============================] - 0s\n",
      "1/1 [==============================] - 0s\n",
      "1/1 [==============================] - 0s\n",
      "1/1 [==============================] - 0s\n",
      "1/1 [==============================] - 0s\n",
      "1/1 [==============================] - 0s\n",
      "1/1 [==============================] - 0s\n",
      "1/1 [==============================] - 0s\n",
      "1/1 [==============================] - 0s\n",
      "1/1 [==============================] - 0s\n",
      "1/1 [==============================] - 0s\n",
      "1/1 [==============================] - 0s\n",
      "1/1 [==============================] - 0s\n",
      "1/1 [==============================] - 0s\n",
      "1/1 [==============================] - 0s\n",
      "1/1 [==============================] - 0s\n",
      "1/1 [==============================] - 0s\n",
      "1/1 [==============================] - 0s\n",
      "1/1 [==============================] - 0s\n",
      "1/1 [==============================] - 0s\n",
      "1/1 [==============================] - 0s\n",
      "1/1 [==============================] - 0s\n",
      "1/1 [==============================] - 0s\n",
      "1/1 [==============================] - 0s\n",
      "1/1 [==============================] - 0s\n",
      "1/1 [==============================] - 0s\n",
      "1/1 [==============================] - 0s\n",
      "1/1 [==============================] - 0s\n",
      "1/1 [==============================] - 0s\n",
      "1/1 [==============================] - 0s\n",
      "1/1 [==============================] - 0s\n",
      "1/1 [==============================] - 0s\n",
      "1/1 [==============================] - 0s\n",
      "1/1 [==============================] - 0s\n",
      "1/1 [==============================] - 0s\n",
      "1/1 [==============================] - 0s\n",
      "1/1 [==============================] - 0s\n",
      "1/1 [==============================] - 0s\n",
      "1/1 [==============================] - 0s\n",
      "1/1 [==============================] - 0s\n",
      "1/1 [==============================] - 0s\n",
      "1/1 [==============================] - 0s\n",
      "1/1 [==============================] - 0s\n",
      "1/1 [==============================] - 0s\n",
      "1/1 [==============================] - 0s\n",
      "1/1 [==============================] - 0s\n",
      "1/1 [==============================] - 0s\n",
      "1/1 [==============================] - 0s\n",
      "1/1 [==============================] - 0s\n",
      "1/1 [==============================] - 0s\n",
      "1/1 [==============================] - 0s\n",
      "1/1 [==============================] - 0s\n",
      "1/1 [==============================] - 0s\n",
      "1/1 [==============================] - 0s\n",
      "1/1 [==============================] - 0s\n",
      "1/1 [==============================] - 0s\n",
      "1/1 [==============================] - 0s\n",
      "1/1 [==============================] - 0s\n",
      "1/1 [==============================] - 0s\n",
      "1/1 [==============================] - 0s\n",
      "1/1 [==============================] - 0s\n",
      "1/1 [==============================] - 0s\n",
      "1/1 [==============================] - 0s\n",
      "1/1 [==============================] - 0s\n",
      "1/1 [==============================] - 0s\n",
      "1/1 [==============================] - 0s\n",
      "1/1 [==============================] - 0s\n",
      "1/1 [==============================] - 0s\n",
      "1/1 [==============================] - 0s\n",
      "1/1 [==============================] - 0s\n",
      "1/1 [==============================] - 0s\n",
      "1/1 [==============================] - 0s\n",
      "1/1 [==============================] - 0s\n",
      "1/1 [==============================] - 0s\n",
      "The average negative log-likelihood on test set is 0.07009081121405714\n"
     ]
    }
   ],
   "source": [
    "loss = 0\n",
    "for i in range(len(y_test)):\n",
    "    X_example = model.predict_proba(np.reshape(X_test[i], (-1, 64)))\n",
    "    y_example = to_categorical(y_test)[i]\n",
    "    loss += -np.sum(np.log(X_example) * y_example)\n",
    "result = loss / len(y_test)\n",
    "print('The average negative log-likelihood on test set is {}'.format(result))"
   ]
  },
  {
   "cell_type": "code",
   "execution_count": 137,
   "metadata": {
    "collapsed": false
   },
   "outputs": [
    {
     "name": "stdout",
     "output_type": "stream",
     "text": [
      "Predicted probability distribution for sample #42:\n",
      "0: 0.00000\n",
      "1: 0.00000\n",
      "2: 0.00000\n",
      "3: 0.00000\n",
      "4: 0.00000\n",
      "5: 0.00000\n",
      "6: 0.00000\n",
      "7: 0.00000\n",
      "8: 0.99999\n",
      "9: 0.00001\n",
      "\n",
      "Likelihood of true class for sample #42:\n",
      "0.999989\n",
      "\n",
      "Average negative loglikelihood of the test set:\n",
      "0.0700908053398\n"
     ]
    },
    {
     "data": {
      "image/png": "[encoded data removed]",
      "text/plain": [
       "<matplotlib.figure.Figure at 0x1f53eb57400>"
      ]
     },
     "metadata": {},
     "output_type": "display_data"
    }
   ],
   "source": [
    "# ############## In a more compact way (vectorial) #############\n",
    "sample_idx = 42\n",
    "plt.imshow(scaler.inverse_transform(X_test[sample_idx]).reshape(8, 8),\n",
    "           cmap=plt.cm.gray_r, interpolation='nearest')\n",
    "plt.title(\"true label: %d\" % y_test[sample_idx])\n",
    "\n",
    "# Compute all probabilities for all samples in the test set at\n",
    "# once:\n",
    "probabilities = model.predict_proba(X_test, verbose=0)\n",
    "\n",
    "print(\"Predicted probability distribution for sample #42:\")\n",
    "for class_idx, prob in enumerate(probabilities[sample_idx]):\n",
    "    print(\"%d: %0.5f\" % (class_idx, prob))\n",
    "print()\n",
    "    \n",
    "print(\"Likelihood of true class for sample #42:\")\n",
    "print(probabilities[sample_idx, y_test[sample_idx]])\n",
    "print()\n",
    "\n",
    "print(\"Average negative loglikelihood of the test set:\")\n",
    "Y_test = to_categorical(y_test)\n",
    "loglikelihoods = np.sum(np.log(probabilities) * Y_test, axis=1)\n",
    "print(-np.mean(loglikelihoods))\n",
    "\n",
    "# Analysis\n",
    "#\n",
    "# Depending on the random init, the 2 hidden layers net trained with\n",
    "# adam seem to converge to a training loss very close to zero when\n",
    "# given enough epochs (the accuracy on the training set is 100%).\n",
    "# This model is therefore not underfitting: it has enough capacity\n",
    "# to perfectly memorise the full training set.\n",
    "#\n",
    "# On the test set the negative log likelihood is also close to zero\n",
    "# but never as much as on the training set (~= 0.07) even after\n",
    "# increasing the maximum number of epochs. The model is therefore\n",
    "# overfitting as little."
   ]
  },
  {
   "cell_type": "markdown",
   "metadata": {},
   "source": [
    "#### Influence of initialization\n",
    "Let us now study the impact of a bad initialization when training\n",
    "a deep feed forward network.\n",
    "\n",
    "By default Keras dense layers use the \"Glorot Uniform\" initialization\n",
    "strategy to initialize the weight matrices:\n",
    "\n",
    "- each weight coefficient is randomly sampled from [-scale, scale]\n",
    "- scale is proportional to $\\frac{1}{\\sqrt{n_{in} + n_{out}}}$\n",
    "\n",
    "This strategy is known to work well to initialize deep neural networks\n",
    "with \"tanh\" or \"relu\" activation functions and then trained with\n",
    "standard SGD.\n",
    "\n",
    "To assess the impact of initialization let us plug an alternative init\n",
    "scheme into a 2 hidden layers networks with \"tanh\" activations.\n",
    "For the sake of the example let's use normal distributed weights\n",
    "with a manually adjustable scale (standard deviation) and see the\n",
    "impact the scale value:"
   ]
  },
  {
   "cell_type": "code",
   "execution_count": 141,
   "metadata": {
    "collapsed": false
   },
   "outputs": [
    {
     "name": "stdout",
     "output_type": "stream",
     "text": [
      "Epoch 1/10\n",
      "1527/1527 [==============================] - 1s - loss: 1.8694     \n",
      "Epoch 2/10\n",
      "1527/1527 [==============================] - 0s - loss: 1.1150     \n",
      "Epoch 3/10\n",
      "1527/1527 [==============================] - 0s - loss: 0.6855     \n",
      "Epoch 4/10\n",
      "1527/1527 [==============================] - 0s - loss: 0.4653     \n",
      "Epoch 5/10\n",
      "1527/1527 [==============================] - 0s - loss: 0.3468     \n",
      "Epoch 6/10\n",
      "1527/1527 [==============================] - 0s - loss: 0.2754     \n",
      "Epoch 7/10\n",
      "1527/1527 [==============================] - 0s - loss: 0.2263     \n",
      "Epoch 8/10\n",
      "1527/1527 [==============================] - 0s - loss: 0.1926     \n",
      "Epoch 9/10\n",
      "1527/1527 [==============================] - 0s - loss: 0.1668     \n",
      "Epoch 10/10\n",
      "1527/1527 [==============================] - 0s - loss: 0.1467     \n"
     ]
    },
    {
     "data": {
      "image/png": "[encoded data removed]",
      "text/plain": [
       "<matplotlib.figure.Figure at 0x1f53e6526a0>"
      ]
     },
     "metadata": {},
     "output_type": "display_data"
    }
   ],
   "source": [
    "from keras import initializations\n",
    "\n",
    "def normal_init(shape, scale=1e-1, name=None):\n",
    "    return initializations.normal(shape, scale=scale, name=name)\n",
    "\n",
    "\n",
    "model = Sequential()\n",
    "model.add(Dense(H, input_dim=N, init=normal_init))\n",
    "model.add(Activation(\"tanh\"))\n",
    "model.add(Dense(K, init=normal_init))\n",
    "model.add(Activation(\"tanh\"))\n",
    "model.add(Dense(K, init=normal_init))\n",
    "model.add(Activation(\"softmax\"))\n",
    "\n",
    "model.compile(optimizer=optimizers.SGD(lr=0.1),\n",
    "              loss='categorical_crossentropy')\n",
    "\n",
    "history = model.fit(X_train, Y_train,\n",
    "                    nb_epoch=10, batch_size=32)\n",
    "\n",
    "plt.plot(history.history['loss'])\n",
    "plt.show()"
   ]
  },
  {
   "cell_type": "code",
   "execution_count": 146,
   "metadata": {
    "collapsed": false
   },
   "outputs": [
    {
     "name": "stdout",
     "output_type": "stream",
     "text": [
      "Epoch 1/15\n",
      "1527/1527 [==============================] - 1s - loss: 2.3035     \n",
      "Epoch 2/15\n",
      "1527/1527 [==============================] - 0s - loss: 2.3031     \n",
      "Epoch 3/15\n",
      "1527/1527 [==============================] - 0s - loss: 2.3030     \n",
      "Epoch 4/15\n",
      "1527/1527 [==============================] - 0s - loss: 2.3029     \n",
      "Epoch 5/15\n",
      "1527/1527 [==============================] - 0s - loss: 2.3030     \n",
      "Epoch 6/15\n",
      "1527/1527 [==============================] - 0s - loss: 2.3030     \n",
      "Epoch 7/15\n",
      "1527/1527 [==============================] - 0s - loss: 2.3030     \n",
      "Epoch 8/15\n",
      "1527/1527 [==============================] - 0s - loss: 2.3030     \n",
      "Epoch 9/15\n",
      "1527/1527 [==============================] - 0s - loss: 2.3029     \n",
      "Epoch 10/15\n",
      "1527/1527 [==============================] - 0s - loss: 2.3030     \n",
      "Epoch 11/15\n",
      "1527/1527 [==============================] - 0s - loss: 2.3029     \n",
      "Epoch 12/15\n",
      "1527/1527 [==============================] - 0s - loss: 2.3031     \n",
      "Epoch 13/15\n",
      "1527/1527 [==============================] - 0s - loss: 2.3030     \n",
      "Epoch 14/15\n",
      "1527/1527 [==============================] - 0s - loss: 2.3031     \n",
      "Epoch 15/15\n",
      "1527/1527 [==============================] - 0s - loss: 2.3030     \n",
      "Epoch 1/15\n",
      "1527/1527 [==============================] - 1s - loss: 3.3368     \n",
      "Epoch 2/15\n",
      "1527/1527 [==============================] - 0s - loss: 1.9467     \n",
      "Epoch 3/15\n",
      "1527/1527 [==============================] - 0s - loss: 1.4730     \n",
      "Epoch 4/15\n",
      "1527/1527 [==============================] - 0s - loss: 1.2433     \n",
      "Epoch 5/15\n",
      "1527/1527 [==============================] - 0s - loss: 1.0907     \n",
      "Epoch 6/15\n",
      "1527/1527 [==============================] - 0s - loss: 0.9848     \n",
      "Epoch 7/15\n",
      "1527/1527 [==============================] - 0s - loss: 0.9066     \n",
      "Epoch 8/15\n",
      "1527/1527 [==============================] - 0s - loss: 0.8416     \n",
      "Epoch 9/15\n",
      "1527/1527 [==============================] - 0s - loss: 0.7895     \n",
      "Epoch 10/15\n",
      "1527/1527 [==============================] - 0s - loss: 0.7531     \n",
      "Epoch 11/15\n",
      "1527/1527 [==============================] - 0s - loss: 0.7190     \n",
      "Epoch 12/15\n",
      "1527/1527 [==============================] - 0s - loss: 0.6883     \n",
      "Epoch 13/15\n",
      "1527/1527 [==============================] - 0s - loss: 0.6608     \n",
      "Epoch 14/15\n",
      "1527/1527 [==============================] - 0s - loss: 0.6358     \n",
      "Epoch 15/15\n",
      "1527/1527 [==============================] - 0s - loss: 0.6082     \n",
      "Epoch 1/15\n",
      "1527/1527 [==============================] - 1s - loss: 14.2758     \n",
      "Epoch 2/15\n",
      "1527/1527 [==============================] - 0s - loss: 14.2510     \n",
      "Epoch 3/15\n",
      "1527/1527 [==============================] - 0s - loss: 14.2512     \n",
      "Epoch 4/15\n",
      "1527/1527 [==============================] - 0s - loss: 14.2088     \n",
      "Epoch 5/15\n",
      "1527/1527 [==============================] - 0s - loss: 14.1873     \n",
      "Epoch 6/15\n",
      "1527/1527 [==============================] - 0s - loss: 14.1291     \n",
      "Epoch 7/15\n",
      "1527/1527 [==============================] - 0s - loss: 14.1005     \n",
      "Epoch 8/15\n",
      "1527/1527 [==============================] - 0s - loss: 14.0543     \n",
      "Epoch 9/15\n",
      "1527/1527 [==============================] - 0s - loss: 14.0744     \n",
      "Epoch 10/15\n",
      "1527/1527 [==============================] - 0s - loss: 14.0483     \n",
      "Epoch 11/15\n",
      "1527/1527 [==============================] - 0s - loss: 14.0217     \n",
      "Epoch 12/15\n",
      "1527/1527 [==============================] - 0s - loss: 13.9951     \n",
      "Epoch 13/15\n",
      "1527/1527 [==============================] - 0s - loss: 13.9679     \n",
      "Epoch 14/15\n",
      "1527/1527 [==============================] - 0s - loss: 13.9418     \n",
      "Epoch 15/15\n",
      "1527/1527 [==============================] - 0s - loss: 13.9173     \n",
      "Epoch 1/15\n",
      "1527/1527 [==============================] - 1s - loss: 2.3036     \n",
      "Epoch 2/15\n",
      "1527/1527 [==============================] - 0s - loss: 2.3032     \n",
      "Epoch 3/15\n",
      "1527/1527 [==============================] - 0s - loss: 2.3030     \n",
      "Epoch 4/15\n",
      "1527/1527 [==============================] - 0s - loss: 2.3030     \n",
      "Epoch 5/15\n",
      "1527/1527 [==============================] - 0s - loss: 2.3031     \n",
      "Epoch 6/15\n",
      "1527/1527 [==============================] - 0s - loss: 2.3031     \n",
      "Epoch 7/15\n",
      "1527/1527 [==============================] - 0s - loss: 2.3033     \n",
      "Epoch 8/15\n",
      "1527/1527 [==============================] - 0s - loss: 2.3030     \n",
      "Epoch 9/15\n",
      "1527/1527 [==============================] - 0s - loss: 2.3031     \n",
      "Epoch 10/15\n",
      "1527/1527 [==============================] - 0s - loss: 2.3028     \n",
      "Epoch 11/15\n",
      "1527/1527 [==============================] - 0s - loss: 2.3029     \n",
      "Epoch 12/15\n",
      "1527/1527 [==============================] - 0s - loss: 2.3029     \n",
      "Epoch 13/15\n",
      "1527/1527 [==============================] - 0s - loss: 2.3030     \n",
      "Epoch 14/15\n",
      "1527/1527 [==============================] - 0s - loss: 2.3030     \n",
      "Epoch 15/15\n",
      "1527/1527 [==============================] - 0s - loss: 2.3029     \n"
     ]
    }
   ],
   "source": [
    "histories = {}\n",
    "scales = [0.001, 1, 10, 0]\n",
    "\n",
    "for scale in scales:\n",
    "    def normal_init(shape, name=None):\n",
    "        return initializations.normal(shape, scale=scale, name=name)\n",
    "    \n",
    "    model = Sequential()\n",
    "    model.add(Dense(H, input_dim=N, init=normal_init))\n",
    "    model.add(Activation(\"tanh\"))\n",
    "    model.add(Dense(K, init=normal_init))\n",
    "    model.add(Activation(\"tanh\"))\n",
    "    model.add(Dense(K, init=normal_init))\n",
    "    model.add(Activation(\"softmax\"))\n",
    "\n",
    "    model.compile(optimizer=optimizers.SGD(lr=0.1),\n",
    "                  loss='categorical_crossentropy')\n",
    "\n",
    "    history = model.fit(X_train, Y_train,\n",
    "                        nb_epoch=15, batch_size=32)    \n",
    "    histories[scale] = history\n",
    "    "
   ]
  },
  {
   "cell_type": "code",
   "execution_count": 145,
   "metadata": {
    "collapsed": false
   },
   "outputs": [
    {
     "data": {
      "text/plain": [
       "{'loss': [2.3035362397601733,\n",
       "  2.3033232315740477,\n",
       "  2.303171348478096,\n",
       "  2.3031751733241554,\n",
       "  2.3029965572132345,\n",
       "  2.3029224568125306,\n",
       "  2.3029315448228878,\n",
       "  2.3029174483048815,\n",
       "  2.3029968733871851,\n",
       "  2.3028486363623917]}"
      ]
     },
     "execution_count": 145,
     "metadata": {},
     "output_type": "execute_result"
    }
   ],
   "source": [
    "histories[0.001].history"
   ]
  },
  {
   "cell_type": "code",
   "execution_count": 147,
   "metadata": {
    "collapsed": false
   },
   "outputs": [
    {
     "data": {
      "image/png": "[encoded data removed]",
      "text/plain": [
       "<matplotlib.figure.Figure at 0x1f545031ac8>"
      ]
     },
     "metadata": {},
     "output_type": "display_data"
    }
   ],
   "source": [
    "t = np.arange(0, 15)\n",
    "\n",
    "for scale in scales:\n",
    "    plt.plot(t, histories[scale].history['loss'], label=scale)\n",
    "\n",
    "plt.legend()\n",
    "plt.title('Loss during training')\n",
    "plt.xlabel('Epoch')\n",
    "plt.ylabel('Loss')\n",
    "plt.show()"
   ]
  },
  {
   "cell_type": "markdown",
   "metadata": {},
   "source": [
    "With the correction: "
   ]
  },
  {
   "cell_type": "code",
   "execution_count": 149,
   "metadata": {
    "collapsed": false
   },
   "outputs": [
    {
     "data": {
      "image/png": "[encoded data removed]",
      "text/plain": [
       "<matplotlib.figure.Figure at 0x1f5450caeb8>"
      ]
     },
     "metadata": {},
     "output_type": "display_data"
    },
    {
     "data": {
      "image/png": "[encoded data removed]",
      "text/plain": [
       "<matplotlib.figure.Figure at 0x1f546f0dc18>"
      ]
     },
     "metadata": {},
     "output_type": "display_data"
    }
   ],
   "source": [
    "# %load solutions/keras_initializations.py\n",
    "def large_scale_init(shape, name=None):\n",
    "    return initializations.normal(shape, scale=1, name=name)\n",
    "\n",
    "\n",
    "def small_scale_init(shape, name=None):\n",
    "    return initializations.normal(shape, scale=1e-3, name=name)\n",
    "\n",
    "\n",
    "optimizer_list = [\n",
    "    ('SGD', optimizers.SGD(lr=0.1)),\n",
    "    ('Adam', optimizers.Adam()),\n",
    "#     ('SGD + Nesterov momentum', optimizers.SGD(\n",
    "#             lr=0.1, momentum=0.9,nesterov=True)),\n",
    "]\n",
    "\n",
    "init_list = [\n",
    "    ('glorot uniform init', 'glorot_uniform', '-'),\n",
    "    ('small init scale', small_scale_init, '-'),\n",
    "    ('large init scale', large_scale_init, '-'),\n",
    "    ('zero init', 'zero', '--'),\n",
    "]\n",
    "\n",
    "\n",
    "for optimizer_name, optimizer in optimizer_list:\n",
    "    plt.figure(figsize=(12, 6))\n",
    "    for init_name, init, linestyle in init_list:\n",
    "        model = Sequential()\n",
    "        model.add(Dense(H, input_dim=N, init=init))\n",
    "        model.add(Activation(\"tanh\"))\n",
    "        model.add(Dense(K, init=init))\n",
    "        model.add(Activation(\"tanh\"))\n",
    "        model.add(Dense(K, init=init))\n",
    "        model.add(Activation(\"softmax\"))\n",
    "        \n",
    "        model.compile(optimizer=optimizer,\n",
    "                      loss='categorical_crossentropy')\n",
    "\n",
    "        history = model.fit(X_train, Y_train,\n",
    "                            nb_epoch=10, batch_size=32, verbose=0)\n",
    "        plt.plot(history.history['loss'], linestyle=linestyle,\n",
    "                 label=init_name)\n",
    "\n",
    "    plt.xlabel('# epochs')\n",
    "    plt.ylabel('Training loss')\n",
    "    plt.ylim(0, 6)\n",
    "    plt.legend(loc='best');\n",
    "    plt.title('Impact of initialization on convergence with %s'\n",
    "              % optimizer_name)"
   ]
  },
  {
   "cell_type": "code",
   "execution_count": 151,
   "metadata": {
    "collapsed": true
   },
   "outputs": [],
   "source": [
    "# %load solutions/keras_initializations_analysis.py\n",
    "# Analysis\n",
    "#\n",
    "# If the network is initialized to zero weights, the activations of the hidden\n",
    "# layers are always set to zero, whatever the value of the inputs. The gradient\n",
    "# is always zero for all training samples and no learning can happen with any\n",
    "# gradient-based optimizer (SGD, Adam...): the loss stays constant.\n",
    "#\n",
    "# A network with null weights has null gradients but this not a local minimum\n",
    "# (nor a local maximum): it is a saddle point at the center of a neighborhood\n",
    "# with very low gradients. \n",
    "#\n",
    "# Therefore when the scale of a random initializations of the weights is too\n",
    "# small, SGD has a hard time evading that area of low gradients. Adding\n",
    "# momentum can help but especially for deep networks it can take many epochs to\n",
    "# evade the area.\n",
    "#\n",
    "# Initializing the weights with large random values will make the output\n",
    "# distribution (softmax) very peaky: the network is very \"confident\" of its\n",
    "# predictions even if they are completely random. This leads to a very high\n",
    "# initial loss value.\n",
    "#\n",
    "# The softmax function does not saturate (bad classification always have a\n",
    "# non-zero gradient). However the intermediate tanh layers can saturate,\n",
    "# therefore squashing the gradients and making the network train much slower. \n",
    "#\n",
    "# The Glorot uniform init uses a scale that depends on the dimensions of the\n",
    "# weigh matrix so has to preserve the average norm of activations and flowing\n",
    "# gradients so as to make learning possible. Keras provides alternatives that\n",
    "# can be better in some cases. Please refer to the references in the Keras\n",
    "# documentation to learn more on the theoretical justifications behind those\n",
    "# schemes.\n",
    "#\n",
    "# Adam tends to be more robust when it comes to bad initialization thanks to\n",
    "# its per-weight learning rate adjustments but still benefits from a good\n",
    "# initialization.\n",
    "#\n",
    "# More on this in a later class on optimization issues. For now  just remember\n",
    "# that if you network fails to learn at all (the loss stays at its initial\n",
    "# value):\n",
    "#\n",
    "# - ensure that the weights are properly initialized,\n",
    "# - inspect the per-layer gradient norms to help identify the bad layer,\n",
    "# - use Adam instead of SGD as your default go to initializer.\n"
   ]
  },
  {
   "cell_type": "markdown",
   "metadata": {},
   "source": [
    "# II) Numpy Implementation\n",
    "\n",
    "## a) Logistic Regression\n",
    "\n",
    "In this section we will implement a logistic regression model trainable with SGD using numpy. Here are the objectives:\n",
    "\n",
    "1/ Implement a simple forward model with no hidden layer (equivalent to a logistic regression):\n",
    "note: shape, transpose of W with regards to course\n",
    "$y = softmax(\\mathbf{W} \\dot x + b)$\n",
    "\n",
    "2/ build a predict function which returns the most probable class given an input $x$\n",
    "\n",
    "3/ build an accuracy function for a batch of inputs $X$ and the corresponding expected outputs $y_{true}$\n",
    "\n",
    "4/ build a grad function which computes $\\frac{d}{dW} -\\log(softmax(W \\dot x + b))$ for an $x$ and its corresponding expected output $y_{true}$ ; check that the gradients are well defined\n",
    "\n",
    "5/ build a train function which uses the grad function output to update $\\mathbf{W}$ and $b$\n",
    "\n",
    "\n",
    "First let's define a helper function to compute the one hot encoding of an integer array for a fixed number of classes (similar to keras' `to_categorical`):"
   ]
  },
  {
   "cell_type": "code",
   "execution_count": 152,
   "metadata": {
    "collapsed": true
   },
   "outputs": [],
   "source": [
    "def one_hot(n_classes, y):\n",
    "    return np.eye(n_classes)[y]"
   ]
  },
  {
   "cell_type": "code",
   "execution_count": 153,
   "metadata": {
    "collapsed": false
   },
   "outputs": [
    {
     "data": {
      "text/plain": [
       "array([[ 1.,  0.,  0.,  0.,  0.,  0.,  0.,  0.,  0.,  0.],\n",
       "       [ 0.,  0.,  0.,  0.,  1.,  0.,  0.,  0.,  0.,  0.],\n",
       "       [ 0.,  0.,  0.,  0.,  0.,  0.,  0.,  0.,  0.,  1.],\n",
       "       [ 0.,  1.,  0.,  0.,  0.,  0.,  0.,  0.,  0.,  0.]])"
      ]
     },
     "execution_count": 153,
     "metadata": {},
     "output_type": "execute_result"
    }
   ],
   "source": [
    "one_hot(10, [0, 4, 9, 1])"
   ]
  },
  {
   "cell_type": "markdown",
   "metadata": {},
   "source": [
    "Now let's implement the softmax vector function:\n",
    "\n",
    "$$\n",
    "softmax(\\mathbf{x}) = \\frac{1}{\\sum_{i=1}^{n}{e^{x_i}}}\n",
    "\\cdot\n",
    "\\begin{bmatrix}\n",
    "  e^{x_1}\\\\\\\\\n",
    "  e^{x_2}\\\\\\\\\n",
    "  \\vdots\\\\\\\\\n",
    "  e^{x_n}\n",
    "\\end{bmatrix}\n",
    "$$"
   ]
  },
  {
   "cell_type": "code",
   "execution_count": 155,
   "metadata": {
    "collapsed": true
   },
   "outputs": [],
   "source": [
    "def softmax(X):\n",
    "    ## We are cautious that we need to sum only over the rows, not on the whole 2D array!\n",
    "    exp = np.exp(X)\n",
    "    return exp / np.sum(exp, axis=-1, keepdims=True)"
   ]
  },
  {
   "cell_type": "code",
   "execution_count": 160,
   "metadata": {
    "collapsed": false
   },
   "outputs": [
    {
     "name": "stdout",
     "output_type": "stream",
     "text": [
      "softmax of a single vector:\n",
      "[  9.99662391e-01   3.35349373e-04   2.25956630e-06]\n",
      "1.0\n",
      "\n",
      "sotfmax of 2 vectors:\n",
      "[[  9.99662391e-01   3.35349373e-04   2.25956630e-06]\n",
      " [  2.47262316e-03   9.97527377e-01   1.38536042e-11]]\n",
      "[ 1.  1.]\n"
     ]
    }
   ],
   "source": [
    "print(\"softmax of a single vector:\")\n",
    "print(softmax([10, 2, -3]))\n",
    "print(np.sum(softmax([10, 2, -3])))\n",
    "print(\"\\nsotfmax of 2 vectors:\")\n",
    "X = np.array([[10, 2, -3],\n",
    "              [-1, 5, -20]])\n",
    "print(softmax(X))\n",
    "print(np.sum(softmax(X), axis=1))"
   ]
  },
  {
   "cell_type": "markdown",
   "metadata": {},
   "source": [
    "Implement a function that given the true one-hot encoded class `Y_true` and some predicted probabilities `Y_pred` returns the negative log likelihood."
   ]
  },
  {
   "cell_type": "code",
   "execution_count": 161,
   "metadata": {
    "collapsed": false
   },
   "outputs": [
    {
     "name": "stdout",
     "output_type": "stream",
     "text": [
      "0.0100503357525\n"
     ]
    }
   ],
   "source": [
    "def nonzero(x):\n",
    "    # We add a small constant in case x is null\n",
    "    return x + 1e-10\n",
    "def nll(Y_true, Y_pred):\n",
    "    Y_pred = [nonzero(x) for x in Y_pred]\n",
    "    aux = -np.log(Y_pred) * Y_true\n",
    "    return np.sum(aux)\n",
    "# Make sure that it works for a simple sample at a time\n",
    "print(nll([1, 0, 0], [.99, 0.01, 0]))"
   ]
  },
  {
   "cell_type": "markdown",
   "metadata": {},
   "source": [
    "Check that the nll of a very confident yet bad prediction is a much higher positive number:"
   ]
  },
  {
   "cell_type": "code",
   "execution_count": 162,
   "metadata": {
    "collapsed": false
   },
   "outputs": [
    {
     "name": "stdout",
     "output_type": "stream",
     "text": [
      "4.60517017599\n"
     ]
    }
   ],
   "source": [
    "print(nll([1, 0, 0], [0.01, 0.01, .98]))"
   ]
  },
  {
   "cell_type": "markdown",
   "metadata": {},
   "source": [
    "Make sure that your implementation can compute the average negative log likelihood of a group of predictions: `Y_pred` and `Y_true` can therefore be past as 2D arrays:"
   ]
  },
  {
   "cell_type": "code",
   "execution_count": 165,
   "metadata": {
    "collapsed": true
   },
   "outputs": [],
   "source": [
    "EPSILON = 1e-8\n",
    "\n",
    "def nll(Y_true, Y_pred):\n",
    "    Y_true, Y_pred = np.atleast_2d(Y_true), np.atleast_2d(Y_pred)\n",
    "    loglikelihoods = np.sum(np.log(EPSILON + Y_pred) * Y_true, axis=1)\n",
    "    return -np.mean(loglikelihoods)"
   ]
  },
  {
   "cell_type": "code",
   "execution_count": 166,
   "metadata": {
    "collapsed": false
   },
   "outputs": [
    {
     "name": "stdout",
     "output_type": "stream",
     "text": [
      "0.0033501019175\n"
     ]
    }
   ],
   "source": [
    "# Check that the average NLL of the following 3 almost perfect\n",
    "# predictions is close to 0\n",
    "Y_true = np.array([[0, 1, 0],\n",
    "                   [1, 0, 0],\n",
    "                   [0, 0, 1]])\n",
    "\n",
    "Y_pred = np.array([[0,   1,    0],\n",
    "                   [.99, 0.01, 0],\n",
    "                   [0,   0,    1]])\n",
    "\n",
    "print(nll(Y_true, Y_pred))"
   ]
  },
  {
   "cell_type": "markdown",
   "metadata": {},
   "source": [
    "Let us now study the following linear model trainable by SGD, **one sample at a time**."
   ]
  },
  {
   "cell_type": "code",
   "execution_count": 167,
   "metadata": {
    "collapsed": true
   },
   "outputs": [],
   "source": [
    "class LogisticRegression():\n",
    "\n",
    "    def __init__(self, input_size, output_size):\n",
    "        self.W = np.random.uniform(size=(input_size, output_size), high=0.1, low=-0.1)\n",
    "        self.b = np.random.uniform(size=(output_size), high=0.1, low=-0.1)\n",
    "        self.output_size = output_size\n",
    "        \n",
    "    def forward(self, X):\n",
    "        Z = np.dot(X, self.W) + self.b\n",
    "        return softmax(Z)\n",
    "    \n",
    "    def predict(self, X):\n",
    "        if len(X.shape) == 1:\n",
    "            return np.argmax(self.forward(X))\n",
    "        else:\n",
    "            return np.argmax(self.forward(X), axis=1)\n",
    "    \n",
    "    def grad_loss(self, x, y_true):\n",
    "        y_pred = self.forward(x)\n",
    "        dnll_output =  y_pred - one_hot(self.output_size, y_true)\n",
    "        grad_W = np.outer(x, dnll_output)\n",
    "        grad_b = dnll_output\n",
    "        grads = {\"W\": grad_W, \"b\": grad_b}\n",
    "        return grads\n",
    "    \n",
    "    def train(self, x, y, learning_rate):\n",
    "        # Traditional SGD update without momentum\n",
    "        grads = self.grad_loss(x, y)\n",
    "        self.W = self.W - learning_rate * grads[\"W\"]\n",
    "        self.b = self.b - learning_rate * grads[\"b\"]      \n",
    "        \n",
    "    def loss(self, x, y):\n",
    "        return nll(one_hot(self.output_size, y), self.forward(x))\n",
    "\n",
    "    def accuracy(self, X, y):\n",
    "        y_preds = np.argmax(self.forward(X), axis=1)\n",
    "        return np.mean(y_preds == y)"
   ]
  },
  {
   "cell_type": "code",
   "execution_count": 168,
   "metadata": {
    "collapsed": false
   },
   "outputs": [
    {
     "name": "stdout",
     "output_type": "stream",
     "text": [
      "Evaluation of the untrained model:\n",
      "train loss: 2.42102003535111, train acc: 0.06221349050425671, test acc: 0.06221349050425671\n"
     ]
    }
   ],
   "source": [
    "# Build a model and test its forward inference\n",
    "n_features = X_train.shape[1]\n",
    "n_classes = Y_train.shape[1]\n",
    "lr = LogisticRegression(n_features, n_classes)\n",
    "\n",
    "print(\"Evaluation of the untrained model:\")\n",
    "train_loss = lr.loss(X_train, y_train)\n",
    "train_acc = lr.accuracy(X_train, y_train)\n",
    "test_acc = lr.accuracy(X_train, y_train)\n",
    "\n",
    "print(\"train loss: {}, train acc: {}, test acc: {}\".format(train_loss, train_acc, test_acc))"
   ]
  },
  {
   "cell_type": "code",
   "execution_count": 169,
   "metadata": {
    "collapsed": false
   },
   "outputs": [
    {
     "name": "stdout",
     "output_type": "stream",
     "text": [
      "3\n"
     ]
    },
    {
     "data": {
      "image/png": "[encoded data removed]",
      "text/plain": [
       "<matplotlib.figure.Figure at 0x1f541a69da0>"
      ]
     },
     "metadata": {},
     "output_type": "display_data"
    }
   ],
   "source": [
    "# Test the untrained model on the first example\n",
    "sample_idx = 0\n",
    "plt.plot(lr.forward(X_train[sample_idx]), linestyle='-', label='prediction')\n",
    "plt.plot(one_hot(10, y_train[sample_idx]), linestyle='--', label='true')\n",
    "plt.title('output probabilities')\n",
    "plt.legend()\n",
    "print(lr.predict(X_train[sample_idx]))"
   ]
  },
  {
   "cell_type": "code",
   "execution_count": 170,
   "metadata": {
    "collapsed": false
   },
   "outputs": [
    {
     "name": "stdout",
     "output_type": "stream",
     "text": [
      "Update 0, train loss: 2.388308160784693, train acc: 0.06810740013097577, test acc: 0.04814814814814815\n",
      "Update 100, train loss: 1.3311721226303947, train acc: 0.6941715782580222, test acc: 0.6814814814814815\n",
      "Update 200, train loss: 0.8781786833870752, train acc: 0.8506876227897839, test acc: 0.8777777777777778\n",
      "Update 300, train loss: 0.6455382014139313, train acc: 0.8984937786509496, test acc: 0.8962962962962963\n",
      "Update 400, train loss: 0.5386523696485742, train acc: 0.9017681728880157, test acc: 0.9148148148148149\n",
      "Update 500, train loss: 0.4619274855495655, train acc: 0.9233791748526523, test acc: 0.9185185185185185\n",
      "Update 600, train loss: 0.40051508625608345, train acc: 0.931237721021611, test acc: 0.937037037037037\n",
      "Update 700, train loss: 0.36336905615500725, train acc: 0.9377865094957433, test acc: 0.9407407407407408\n",
      "Update 800, train loss: 0.3415115594861148, train acc: 0.9364767518009168, test acc: 0.9555555555555556\n",
      "Update 900, train loss: 0.3168650631088539, train acc: 0.9364767518009168, test acc: 0.9592592592592593\n",
      "Update 1000, train loss: 0.2967155780345616, train acc: 0.945645055664702, test acc: 0.9518518518518518\n",
      "Update 1100, train loss: 0.27757356163782665, train acc: 0.9508840864440079, test acc: 0.9555555555555556\n",
      "Update 1200, train loss: 0.26729383784498983, train acc: 0.9502292075965947, test acc: 0.9592592592592593\n",
      "Update 1300, train loss: 0.2581206283975091, train acc: 0.9502292075965947, test acc: 0.9444444444444444\n",
      "Update 1400, train loss: 0.24435399286407025, train acc: 0.9554682383759004, test acc: 0.9518518518518518\n",
      "Update 1500, train loss: 0.23404420613500096, train acc: 0.9548133595284872, test acc: 0.9481481481481482\n"
     ]
    }
   ],
   "source": [
    "# Training for one epoch\n",
    "learning_rate = 0.01\n",
    "\n",
    "for i, (x, y) in enumerate(zip(X_train, y_train)):\n",
    "    lr.train(x, y, learning_rate)\n",
    "    if i % 100 == 0:\n",
    "        train_loss = lr.loss(X_train, y_train)\n",
    "        train_acc = lr.accuracy(X_train, y_train)\n",
    "        test_acc = lr.accuracy(X_test, y_test)\n",
    "        print(\"Update {}, train loss: {}, train acc: {}, test acc: {}\".format(i, train_loss, train_acc, test_acc))"
   ]
  },
  {
   "cell_type": "code",
   "execution_count": 171,
   "metadata": {
    "collapsed": false
   },
   "outputs": [
    {
     "name": "stdout",
     "output_type": "stream",
     "text": [
      "2\n"
     ]
    },
    {
     "data": {
      "image/png": "[encoded data removed]",
      "text/plain": [
       "<matplotlib.figure.Figure at 0x1f53e8a2518>"
      ]
     },
     "metadata": {},
     "output_type": "display_data"
    }
   ],
   "source": [
    "# Evaluate the trained model on the first example\n",
    "sample_idx = 0\n",
    "plt.plot(lr.forward(X_train[sample_idx]), linestyle='-', label='prediction')\n",
    "plt.plot(one_hot(10, y_train[sample_idx]), linestyle='--', label='true')\n",
    "plt.title('output probabilities')\n",
    "plt.legend()\n",
    "print(lr.predict(X_train[sample_idx]))"
   ]
  },
  {
   "cell_type": "markdown",
   "metadata": {},
   "source": [
    "After one epoch, the model can fit very well the training data (though probably overfitting...)"
   ]
  },
  {
   "cell_type": "markdown",
   "metadata": {},
   "source": [
    "## b) Feedforward Multilayer\n",
    "\n",
    "The objective of this section is to implement the backpropagation algorithm (SGD with the chain rule) on a single layer neural network using the sigmoid activation function.\n",
    "\n",
    "- Implement the `sigmoid` and its element-wise derivative `dsigmoid` functions:\n",
    "\n",
    "$$\n",
    "sigmoid(x) = \\frac{1}{1 + e^{-x}}\n",
    "$$\n",
    "\n",
    "$$\n",
    "dsigmoid(x) = sigmoid(x) \\cdot (1 - sigmoid(x))\n",
    "$$"
   ]
  },
  {
   "cell_type": "code",
   "execution_count": 172,
   "metadata": {
    "collapsed": false
   },
   "outputs": [
    {
     "data": {
      "image/png": "[encoded data removed]",
      "text/plain": [
       "<matplotlib.figure.Figure at 0x1f53eac6208>"
      ]
     },
     "metadata": {},
     "output_type": "display_data"
    }
   ],
   "source": [
    "def sigmoid(X):\n",
    "    return 1 / (1 + np.exp(-X))\n",
    "\n",
    "\n",
    "def dsigmoid(X):\n",
    "    sig=sigmoid(X)\n",
    "    return sig * (1 - sig)\n",
    "\n",
    "\n",
    "x = np.linspace(-5, 5, 100)\n",
    "plt.plot(x, sigmoid(x), label='sigmoid')\n",
    "plt.plot(x, dsigmoid(x), label='dsigmoid')\n",
    "plt.legend(loc='best');"
   ]
  },
  {
   "cell_type": "markdown",
   "metadata": {},
   "source": [
    "- Implement `forward` and `forward_keep_all` functions for a model with a hidden layer, similar to the first one in Keras:\n",
    "  - $h = sigmoid(\\mathbf{W}^h x + b^h)$\n",
    "  - $y = softmax(\\mathbf{W}^o h + b^o)$\n",
    "\n",
    "Notes: \n",
    "  - try to keep the code as similar as possible as the previous one;\n",
    "  - `forward_keep_activations` is similar to forward, but also returns hidden activations and pre activations;\n",
    "\n",
    "- update the grad function to compute all gradients; check that the gradients are well defined;\n",
    "\n",
    "- implement the `train` and `loss` functions.\n",
    "\n",
    "Bonus: reimplementing all from scratch without looking at the solution of the `LogisticRegression` is an excellent exercise."
   ]
  },
  {
   "cell_type": "code",
   "execution_count": 173,
   "metadata": {
    "collapsed": true
   },
   "outputs": [],
   "source": [
    "class NeuralNet():\n",
    "    \"\"\"MLP with 1 hidden layer with a sigmoid activation\"\"\"\n",
    "\n",
    "    def __init__(self, input_size, hidden_size, output_size):\n",
    "        # TODO\n",
    "        self.W_h = np.random.uniform(\n",
    "            size=(input_size, hidden_size), high=0.01, low=-0.01)\n",
    "        self.b_h = np.zeros(hidden_size)\n",
    "        self.W_o = np.random.uniform(\n",
    "            size=(hidden_size, output_size), high=0.01, low=-0.01)\n",
    "        self.b_o =np.zeros(output_size)\n",
    "        # END TODO\n",
    "        self.output_size = output_size\n",
    "        \n",
    "    def forward(self, X):\n",
    "        # TODO\n",
    "        h = sigmoid(np.dot(X, self.W_h) + self.b_h)\n",
    "        y = softmax(np.dot(h, self.W_o) + self.b_o)\n",
    "        # END TODO\n",
    "        return y\n",
    "    \n",
    "    def forward_keep_activations(self, X):\n",
    "        # TODO\n",
    "        z_h = np.dot(X, self.W_h) + self.b_h\n",
    "        h = sigmoid(z_h)\n",
    "        z_o = np.dot(h, self.W_o) + self.b_o\n",
    "        y = softmax(z_o)\n",
    "        return y, h, z_h\n",
    "    \n",
    "    def loss(self, X, y):\n",
    "        # TODO\n",
    "        return nll(one_hot(self.output_size, y), self.forward(X))\n",
    "\n",
    "    def grad_loss(self, X, y_true):\n",
    "        # TODO\n",
    "        y, h, z_h = self.forward_keep_activations(X)\n",
    "        grad_z_o = y - one_hot(self.output_size, y_true)\n",
    "\n",
    "        grad_W_o = np.outer(h, grad_z_o)\n",
    "        grad_b_o = grad_z_o\n",
    "        grad_h = np.dot(grad_z_o, np.transpose(self.W_o))\n",
    "        grad_z_h = grad_h * dsigmoid(z_h)\n",
    "        grad_W_h = np.outer(x, grad_z_h)\n",
    "        grad_b_h = grad_z_h\n",
    "        grads = {\"W_h\": grad_W_h, \"b_h\": grad_b_h,\n",
    "                 \"W_o\": grad_W_o, \"b_o\": grad_b_o}\n",
    "        return grads\n",
    "\n",
    "    def train(self, x, y, learning_rate):\n",
    "        # TODO\n",
    "        grads = self.grad_loss(x, y)\n",
    "        self.W_h = self.W_h - learning_rate * grads[\"W_h\"]\n",
    "        self.b_h = self.b_h - learning_rate * grads[\"b_h\"]\n",
    "        self.W_o = self.W_o - learning_rate * grads[\"W_o\"]\n",
    "        self.b_o = self.b_o - learning_rate * grads[\"b_o\"]\n",
    "\n",
    "    def predict(self, X):\n",
    "        # TODO\n",
    "        if len(X.shape) == 1:\n",
    "            return np.argmax(self.forward(X))\n",
    "        else:\n",
    "            return np.argmax(self.forward(X), axis=1)\n",
    "\n",
    "    def accuracy(self, X, y):\n",
    "        # TODO\n",
    "        y_preds = np.argmax(self.forward(X), axis=1)\n",
    "        return np.mean(y_preds == y)"
   ]
  },
  {
   "cell_type": "code",
   "execution_count": 174,
   "metadata": {
    "collapsed": true
   },
   "outputs": [],
   "source": [
    "n_hidden = 10\n",
    "model = NeuralNet(n_features, n_hidden, n_classes)"
   ]
  },
  {
   "cell_type": "code",
   "execution_count": 175,
   "metadata": {
    "collapsed": false
   },
   "outputs": [
    {
     "data": {
      "text/plain": [
       "2.3025819264657548"
      ]
     },
     "execution_count": 175,
     "metadata": {},
     "output_type": "execute_result"
    }
   ],
   "source": [
    "model.loss(X_train, y_train)"
   ]
  },
  {
   "cell_type": "code",
   "execution_count": 176,
   "metadata": {
    "collapsed": false
   },
   "outputs": [
    {
     "data": {
      "text/plain": [
       "0.10805500982318271"
      ]
     },
     "execution_count": 176,
     "metadata": {},
     "output_type": "execute_result"
    }
   ],
   "source": [
    "model.accuracy(X_train, y_train)"
   ]
  },
  {
   "cell_type": "code",
   "execution_count": 177,
   "metadata": {
    "collapsed": false
   },
   "outputs": [
    {
     "name": "stdout",
     "output_type": "stream",
     "text": [
      "3\n"
     ]
    },
    {
     "data": {
      "image/png": "[encoded data removed]",
      "text/plain": [
       "<matplotlib.figure.Figure at 0x1f53e701828>"
      ]
     },
     "metadata": {},
     "output_type": "display_data"
    }
   ],
   "source": [
    "sample_idx = 0\n",
    "plt.plot(model.forward(X_train[sample_idx]), linestyle='-', label='prediction')\n",
    "plt.plot(one_hot(10, y_train[sample_idx]), linestyle='--', label='true')\n",
    "plt.title('output probabilities')\n",
    "plt.legend()\n",
    "print(model.predict(X_train[sample_idx]))"
   ]
  },
  {
   "cell_type": "code",
   "execution_count": 178,
   "metadata": {
    "collapsed": false
   },
   "outputs": [
    {
     "name": "stdout",
     "output_type": "stream",
     "text": [
      "Random init: train loss: 2.3026, train acc: 0.108, test acc: 0.063\n",
      "Epoch #1, train loss: 0.4103, train acc: 0.892, test acc: 0.844\n",
      "Epoch #2, train loss: 0.1727, train acc: 0.968, test acc: 0.930\n",
      "Epoch #3, train loss: 0.1207, train acc: 0.975, test acc: 0.937\n",
      "Epoch #4, train loss: 0.0882, train acc: 0.986, test acc: 0.933\n",
      "Epoch #5, train loss: 0.0705, train acc: 0.990, test acc: 0.944\n",
      "Epoch #6, train loss: 0.0605, train acc: 0.990, test acc: 0.952\n",
      "Epoch #7, train loss: 0.0511, train acc: 0.991, test acc: 0.952\n",
      "Epoch #8, train loss: 0.0447, train acc: 0.993, test acc: 0.941\n",
      "Epoch #9, train loss: 0.0386, train acc: 0.995, test acc: 0.952\n",
      "Epoch #10, train loss: 0.0348, train acc: 0.997, test acc: 0.952\n",
      "Epoch #11, train loss: 0.0315, train acc: 0.997, test acc: 0.952\n",
      "Epoch #12, train loss: 0.0283, train acc: 0.997, test acc: 0.956\n",
      "Epoch #13, train loss: 0.0243, train acc: 0.998, test acc: 0.959\n",
      "Epoch #14, train loss: 0.0211, train acc: 0.999, test acc: 0.959\n",
      "Epoch #15, train loss: 0.0189, train acc: 0.999, test acc: 0.959\n"
     ]
    }
   ],
   "source": [
    "losses, accuracies, accuracies_test = [], [], []\n",
    "losses.append(model.loss(X_train, y_train))\n",
    "accuracies.append(model.accuracy(X_train, y_train))\n",
    "accuracies_test.append(model.accuracy(X_test, y_test))\n",
    "\n",
    "print(\"Random init: train loss: %0.4f, train acc: %0.3f, test acc: %0.3f\"\n",
    "      % (losses[-1], accuracies[-1], accuracies_test[-1]))\n",
    "\n",
    "for epoch in range(15):\n",
    "    for i, (x, y) in enumerate(zip(X_train, y_train)):\n",
    "        model.train(x, y, 0.1)\n",
    "\n",
    "    losses.append(model.loss(X_train, y_train))\n",
    "    accuracies.append(model.accuracy(X_train, y_train))\n",
    "    accuracies_test.append(model.accuracy(X_test, y_test))\n",
    "    print(\"Epoch #%d, train loss: %0.4f, train acc: %0.3f, test acc: %0.3f\"\n",
    "          % (epoch + 1, losses[-1], accuracies[-1], accuracies_test[-1]))"
   ]
  },
  {
   "cell_type": "code",
   "execution_count": 179,
   "metadata": {
    "collapsed": false
   },
   "outputs": [
    {
     "data": {
      "image/png": "[encoded data removed]",
      "text/plain": [
       "<matplotlib.figure.Figure at 0x1f53e8e8320>"
      ]
     },
     "metadata": {},
     "output_type": "display_data"
    }
   ],
   "source": [
    "plt.plot(losses)\n",
    "plt.title(\"Training loss\")\n",
    "plt.show()"
   ]
  },
  {
   "cell_type": "code",
   "execution_count": 180,
   "metadata": {
    "collapsed": false
   },
   "outputs": [
    {
     "data": {
      "image/png": "[encoded data removed]",
      "text/plain": [
       "<matplotlib.figure.Figure at 0x1f53e92f2b0>"
      ]
     },
     "metadata": {},
     "output_type": "display_data"
    }
   ],
   "source": [
    "plt.plot(accuracies, label='train')\n",
    "plt.plot(accuracies_test, label='test')\n",
    "plt.ylim(0, 1.1)\n",
    "plt.ylabel(\"accuracy\")\n",
    "plt.legend(loc='best')\n",
    "plt.show()"
   ]
  },
  {
   "cell_type": "markdown",
   "metadata": {},
   "source": [
    "## c) Exercises\n",
    "\n",
    "### Hyper parameters settings\n",
    "\n",
    "- Experiment with different hyper parameters:\n",
    "  - learning rate,\n",
    "  - size of hidden layer,\n",
    "  - initialization scheme: test with 0 initialization vs uniform,\n",
    "  - implement other activation functions,\n",
    "  - implement the support for a second hidden layer.\n",
    "\n",
    "\n",
    "### Mini-batches\n",
    "\n",
    "- Bonus: the current implementations of `train` and `grad_loss` function currently only accept a single sample at a time:\n",
    "    - implement the support for training with a mini-batch of 32 samples at a time instead of one,\n",
    "    - experiment with different sizes of batches,\n",
    "    - monitor the norm of the average gradients on the full training set at the end of each epoch.\n",
    "\n",
    "\n",
    "### Momentum\n",
    "\n",
    "- Bonus: Implement momentum"
   ]
  },
  {
   "cell_type": "markdown",
   "metadata": {},
   "source": [
    "## Hyperparameters"
   ]
  },
  {
   "cell_type": "markdown",
   "metadata": {},
   "source": [
    "#### Learning rate"
   ]
  },
  {
   "cell_type": "code",
   "execution_count": 190,
   "metadata": {
    "collapsed": false
   },
   "outputs": [
    {
     "name": "stdout",
     "output_type": "stream",
     "text": [
      "Random init: train loss: 2.3026, train acc: 0.102, test acc: 0.089\n"
     ]
    },
    {
     "name": "stderr",
     "output_type": "stream",
     "text": [
      "C:\\Users\\Peter martigny\\Anaconda3\\envs\\py35\\lib\\site-packages\\ipykernel\\__main__.py:2: RuntimeWarning: overflow encountered in exp\n",
      "  from ipykernel import kernelapp as app\n"
     ]
    },
    {
     "data": {
      "image/png": "[encoded data removed]",
      "text/plain": [
       "<matplotlib.figure.Figure at 0x1f53ec20ef0>"
      ]
     },
     "metadata": {},
     "output_type": "display_data"
    },
    {
     "name": "stdout",
     "output_type": "stream",
     "text": [
      "Random init: train loss: 2.3026, train acc: 0.100, test acc: 0.104\n"
     ]
    },
    {
     "data": {
      "image/png": "[encoded data removed]",
      "text/plain": [
       "<matplotlib.figure.Figure at 0x1f5495ca940>"
      ]
     },
     "metadata": {},
     "output_type": "display_data"
    },
    {
     "name": "stdout",
     "output_type": "stream",
     "text": [
      "Random init: train loss: 2.3025, train acc: 0.099, test acc: 0.100\n"
     ]
    },
    {
     "data": {
      "image/png": "[encoded data removed]",
      "text/plain": [
       "<matplotlib.figure.Figure at 0x1f549668898>"
      ]
     },
     "metadata": {},
     "output_type": "display_data"
    },
    {
     "name": "stdout",
     "output_type": "stream",
     "text": [
      "Random init: train loss: 2.3026, train acc: 0.102, test acc: 0.089\n"
     ]
    },
    {
     "data": {
      "image/png": "[encoded data removed]",
      "text/plain": [
       "<matplotlib.figure.Figure at 0x1f549723748>"
      ]
     },
     "metadata": {},
     "output_type": "display_data"
    },
    {
     "name": "stdout",
     "output_type": "stream",
     "text": [
      "Random init: train loss: 2.3026, train acc: 0.099, test acc: 0.115\n"
     ]
    },
    {
     "data": {
      "image/png": "[encoded data removed]",
      "text/plain": [
       "<matplotlib.figure.Figure at 0x1f549766978>"
      ]
     },
     "metadata": {},
     "output_type": "display_data"
    }
   ],
   "source": [
    "learning_rates = [10, 5, 1, 0.5, 0.1]\n",
    "for lr in learning_rates:\n",
    "\n",
    "    model = NeuralNet(n_features, n_hidden, n_classes)\n",
    "    losses, accuracies, accuracies_test = [], [], []\n",
    "    losses.append(model.loss(X_train, y_train))\n",
    "    accuracies.append(model.accuracy(X_train, y_train))\n",
    "    accuracies_test.append(model.accuracy(X_test, y_test))\n",
    "\n",
    "    print(\"Random init: train loss: %0.4f, train acc: %0.3f, test acc: %0.3f\"\n",
    "          % (losses[-1], accuracies[-1], accuracies_test[-1]))\n",
    "\n",
    "    for epoch in range(15):\n",
    "        for i, (x, y) in enumerate(zip(X_train, y_train)):\n",
    "            model.train(x, y, lr)\n",
    "\n",
    "        losses.append(model.loss(X_train, y_train))\n",
    "        accuracies.append(model.accuracy(X_train, y_train))\n",
    "        accuracies_test.append(model.accuracy(X_test, y_test))\n",
    "\n",
    "    plt.plot(accuracies, label='train')\n",
    "    plt.plot(accuracies_test, label='test')\n",
    "    plt.ylim(0, 1.1)\n",
    "    plt.ylabel(\"accuracy\")\n",
    "    plt.legend(loc='best')\n",
    "    plt.title('Loss for learnin rate = {}'.format(lr))\n",
    "    plt.show()"
   ]
  },
  {
   "cell_type": "markdown",
   "metadata": {},
   "source": [
    "#### Size of the hidden layer"
   ]
  },
  {
   "cell_type": "code",
   "execution_count": 192,
   "metadata": {
    "collapsed": false
   },
   "outputs": [
    {
     "data": {
      "text/plain": [
       "10"
      ]
     },
     "execution_count": 192,
     "metadata": {},
     "output_type": "execute_result"
    }
   ],
   "source": [
    "n_hidden"
   ]
  },
  {
   "cell_type": "code",
   "execution_count": 199,
   "metadata": {
    "collapsed": false
   },
   "outputs": [
    {
     "name": "stdout",
     "output_type": "stream",
     "text": [
      "Random init: train loss: 2.3026, train acc: 0.102, test acc: 0.089\n"
     ]
    },
    {
     "data": {
      "image/png": "[encoded data removed]",
      "text/plain": [
       "<matplotlib.figure.Figure at 0x1f53e92f710>"
      ]
     },
     "metadata": {},
     "output_type": "display_data"
    },
    {
     "name": "stdout",
     "output_type": "stream",
     "text": [
      "Random init: train loss: 2.3028, train acc: 0.086, test acc: 0.119\n"
     ]
    },
    {
     "data": {
      "image/png": "[encoded data removed]",
      "text/plain": [
       "<matplotlib.figure.Figure at 0x1f54ebbdf28>"
      ]
     },
     "metadata": {},
     "output_type": "display_data"
    },
    {
     "name": "stdout",
     "output_type": "stream",
     "text": [
      "Random init: train loss: 2.3025, train acc: 0.102, test acc: 0.089\n"
     ]
    },
    {
     "data": {
      "image/png": "[encoded data removed]",
      "text/plain": [
       "<matplotlib.figure.Figure at 0x1f54ec24a90>"
      ]
     },
     "metadata": {},
     "output_type": "display_data"
    },
    {
     "name": "stdout",
     "output_type": "stream",
     "text": [
      "Random init: train loss: 2.3025, train acc: 0.102, test acc: 0.096\n"
     ]
    },
    {
     "data": {
      "image/png": "[encoded data removed]",
      "text/plain": [
       "<matplotlib.figure.Figure at 0x1f54ec249b0>"
      ]
     },
     "metadata": {},
     "output_type": "display_data"
    },
    {
     "name": "stdout",
     "output_type": "stream",
     "text": [
      "Random init: train loss: 2.3026, train acc: 0.102, test acc: 0.089\n"
     ]
    },
    {
     "data": {
      "image/png": "[encoded data removed]",
      "text/plain": [
       "<matplotlib.figure.Figure at 0x1f54ed9aef0>"
      ]
     },
     "metadata": {},
     "output_type": "display_data"
    },
    {
     "name": "stdout",
     "output_type": "stream",
     "text": [
      "Random init: train loss: 2.3348, train acc: 0.102, test acc: 0.096\n"
     ]
    },
    {
     "data": {
      "image/png": "[encoded data removed]",
      "text/plain": [
       "<matplotlib.figure.Figure at 0x1f54ed135f8>"
      ]
     },
     "metadata": {},
     "output_type": "display_data"
    }
   ],
   "source": [
    "sizes = [2, 4, 6, 8, 10, 10000]\n",
    "for size in sizes:\n",
    "\n",
    "    model = NeuralNet(n_features, size, n_classes)\n",
    "    losses, accuracies, accuracies_test = [], [], []\n",
    "    losses.append(model.loss(X_train, y_train))\n",
    "    accuracies.append(model.accuracy(X_train, y_train))\n",
    "    accuracies_test.append(model.accuracy(X_test, y_test))\n",
    "\n",
    "    print(\"Random init: train loss: %0.4f, train acc: %0.3f, test acc: %0.3f\"\n",
    "          % (losses[-1], accuracies[-1], accuracies_test[-1]))\n",
    "\n",
    "    for epoch in range(15):\n",
    "        for i, (x, y) in enumerate(zip(X_train, y_train)):\n",
    "            model.train(x, y, 0.01)\n",
    "\n",
    "        losses.append(model.loss(X_train, y_train))\n",
    "        accuracies.append(model.accuracy(X_train, y_train))\n",
    "        accuracies_test.append(model.accuracy(X_test, y_test))\n",
    "\n",
    "    plt.plot(accuracies, label='train')\n",
    "    plt.plot(accuracies_test, label='test')\n",
    "    plt.ylim(0, 1.1)\n",
    "    plt.ylabel(\"accuracy\")\n",
    "    plt.legend(loc='best')\n",
    "    plt.title('Loss for size of hidden layer = {}'.format(size))\n",
    "    plt.show()"
   ]
  },
  {
   "cell_type": "markdown",
   "metadata": {},
   "source": [
    "#### Initialization"
   ]
  },
  {
   "cell_type": "code",
   "execution_count": 211,
   "metadata": {
    "collapsed": true
   },
   "outputs": [],
   "source": [
    "class NeuralNet_zero():\n",
    "    \"\"\"MLP with 1 hidden layer with a sigmoid activation\"\"\"\n",
    "\n",
    "    def __init__(self, input_size, hidden_size, output_size):\n",
    "        # TODO\n",
    "        a = (input_size, hidden_size)\n",
    "        self.W_h = np.zeros(a)\n",
    "        self.b_h = np.zeros(hidden_size)\n",
    "        a = (hidden_size, output_size)\n",
    "        self.W_o = np.zeros(a)\n",
    "        self.b_o =np.zeros(output_size)\n",
    "        # END TODO\n",
    "        self.output_size = output_size\n",
    "        \n",
    "    def forward(self, X):\n",
    "        # TODO\n",
    "        h = sigmoid(np.dot(X, self.W_h) + self.b_h)\n",
    "        y = softmax(np.dot(h, self.W_o) + self.b_o)\n",
    "        # END TODO\n",
    "        return y\n",
    "    \n",
    "    def forward_keep_activations(self, X):\n",
    "        # TODO\n",
    "        z_h = np.dot(X, self.W_h) + self.b_h\n",
    "        h = sigmoid(z_h)\n",
    "        z_o = np.dot(h, self.W_o) + self.b_o\n",
    "        y = softmax(z_o)\n",
    "        return y, h, z_h\n",
    "    \n",
    "    def loss(self, X, y):\n",
    "        # TODO\n",
    "        return nll(one_hot(self.output_size, y), self.forward(X))\n",
    "\n",
    "    def grad_loss(self, X, y_true):\n",
    "        # TODO\n",
    "        y, h, z_h = self.forward_keep_activations(X)\n",
    "        grad_z_o = y - one_hot(self.output_size, y_true)\n",
    "\n",
    "        grad_W_o = np.outer(h, grad_z_o)\n",
    "        grad_b_o = grad_z_o\n",
    "        grad_h = np.dot(grad_z_o, np.transpose(self.W_o))\n",
    "        grad_z_h = grad_h * dsigmoid(z_h)\n",
    "        grad_W_h = np.outer(x, grad_z_h)\n",
    "        grad_b_h = grad_z_h\n",
    "        grads = {\"W_h\": grad_W_h, \"b_h\": grad_b_h,\n",
    "                 \"W_o\": grad_W_o, \"b_o\": grad_b_o}\n",
    "        return grads\n",
    "\n",
    "    def train(self, x, y, learning_rate):\n",
    "        # TODO\n",
    "        grads = self.grad_loss(x, y)\n",
    "        self.W_h = self.W_h - learning_rate * grads[\"W_h\"]\n",
    "        self.b_h = self.b_h - learning_rate * grads[\"b_h\"]\n",
    "        self.W_o = self.W_o - learning_rate * grads[\"W_o\"]\n",
    "        self.b_o = self.b_o - learning_rate * grads[\"b_o\"]\n",
    "\n",
    "    def predict(self, X):\n",
    "        # TODO\n",
    "        if len(X.shape) == 1:\n",
    "            return np.argmax(self.forward(X))\n",
    "        else:\n",
    "            return np.argmax(self.forward(X), axis=1)\n",
    "\n",
    "    def accuracy(self, X, y):\n",
    "        # TODO\n",
    "        y_preds = np.argmax(self.forward(X), axis=1)\n",
    "        return np.mean(y_preds == y)"
   ]
  },
  {
   "cell_type": "code",
   "execution_count": 214,
   "metadata": {
    "collapsed": false
   },
   "outputs": [
    {
     "name": "stdout",
     "output_type": "stream",
     "text": [
      "Random init: train loss: 2.3026, train acc: 0.099, test acc: 0.115\n"
     ]
    },
    {
     "data": {
      "image/png": "[encoded data removed]",
      "text/plain": [
       "<matplotlib.figure.Figure at 0x1f54ef2ae80>"
      ]
     },
     "metadata": {},
     "output_type": "display_data"
    },
    {
     "name": "stdout",
     "output_type": "stream",
     "text": [
      "Random init: train loss: 2.3026, train acc: 0.099, test acc: 0.100\n"
     ]
    },
    {
     "data": {
      "image/png": "[encoded data removed]",
      "text/plain": [
       "<matplotlib.figure.Figure at 0x1f54ec21518>"
      ]
     },
     "metadata": {},
     "output_type": "display_data"
    }
   ],
   "source": [
    "model = NeuralNet(n_features, n_hidden, n_classes)\n",
    "\n",
    "losses, accuracies, accuracies_test = [], [], []\n",
    "losses.append(model.loss(X_train, y_train))\n",
    "accuracies.append(model.accuracy(X_train, y_train))\n",
    "accuracies_test.append(model.accuracy(X_test, y_test))\n",
    "\n",
    "print(\"Random init: train loss: %0.4f, train acc: %0.3f, test acc: %0.3f\"\n",
    "      % (losses[-1], accuracies[-1], accuracies_test[-1]))\n",
    "\n",
    "for epoch in range(15):\n",
    "    for i, (x, y) in enumerate(zip(X_train, y_train)):\n",
    "        model.train(x, y, 0.1)\n",
    "\n",
    "    losses.append(model.loss(X_train, y_train))\n",
    "    accuracies.append(model.accuracy(X_train, y_train))\n",
    "    accuracies_test.append(model.accuracy(X_test, y_test))\n",
    "    \n",
    "plt.plot(accuracies, label='train')\n",
    "plt.plot(accuracies_test, label='test')\n",
    "plt.ylim(0, 1.1)\n",
    "plt.ylabel(\"accuracy\")\n",
    "plt.legend(loc='best')\n",
    "plt.title('Uniform Intitialization')\n",
    "plt.show()\n",
    "\n",
    "model = NeuralNet_zero(n_features, n_hidden, n_classes)\n",
    "\n",
    "losses, accuracies, accuracies_test = [], [], []\n",
    "losses.append(model.loss(X_train, y_train))\n",
    "accuracies.append(model.accuracy(X_train, y_train))\n",
    "accuracies_test.append(model.accuracy(X_test, y_test))\n",
    "\n",
    "print(\"Random init: train loss: %0.4f, train acc: %0.3f, test acc: %0.3f\"\n",
    "      % (losses[-1], accuracies[-1], accuracies_test[-1]))\n",
    "\n",
    "for epoch in range(15):\n",
    "    for i, (x, y) in enumerate(zip(X_train, y_train)):\n",
    "        model.train(x, y, 0.1)\n",
    "\n",
    "    losses.append(model.loss(X_train, y_train))\n",
    "    accuracies.append(model.accuracy(X_train, y_train))\n",
    "    accuracies_test.append(model.accuracy(X_test, y_test))\n",
    "    \n",
    "plt.plot(accuracies, label='train')\n",
    "plt.plot(accuracies_test, label='test')\n",
    "plt.ylim(0, 1.1)\n",
    "plt.ylabel(\"accuracy\")\n",
    "plt.legend(loc='best')\n",
    "plt.title('Zero Initialization')\n",
    "plt.show()"
   ]
  },
  {
   "cell_type": "markdown",
   "metadata": {},
   "source": [
    "#### Other activation function: Tanh"
   ]
  },
  {
   "cell_type": "code",
   "execution_count": 217,
   "metadata": {
    "collapsed": false
   },
   "outputs": [
    {
     "data": {
      "image/png": "[encoded data removed]",
      "text/plain": [
       "<matplotlib.figure.Figure at 0x1f54f212240>"
      ]
     },
     "metadata": {},
     "output_type": "display_data"
    }
   ],
   "source": [
    "def tanh(X):\n",
    "    return (np.exp(2*x) - 1) / (1 + np.exp(2*X))\n",
    "\n",
    "\n",
    "def dtanh(X):\n",
    "    sig=tanh(X)\n",
    "    return 1 - (sig**2)\n",
    "\n",
    "\n",
    "x = np.linspace(-5, 5, 100)\n",
    "plt.plot(x, tanh(x), label='tanh')\n",
    "plt.plot(x, dtanh(x), label='dtanh')\n",
    "plt.legend(loc='best');"
   ]
  },
  {
   "cell_type": "code",
   "execution_count": 218,
   "metadata": {
    "collapsed": true
   },
   "outputs": [],
   "source": [
    "class NeuralNet_tanh():\n",
    "    \"\"\"MLP with 1 hidden layer with a sigmoid activation\"\"\"\n",
    "\n",
    "    def __init__(self, input_size, hidden_size, output_size):\n",
    "        # TODO\n",
    "        self.W_h = np.random.uniform(\n",
    "            size=(input_size, hidden_size), high=0.01, low=-0.01)\n",
    "        self.b_h = np.zeros(hidden_size)\n",
    "        self.W_o = np.random.uniform(\n",
    "            size=(hidden_size, output_size), high=0.01, low=-0.01)\n",
    "        self.b_o =np.zeros(output_size)\n",
    "        # END TODO\n",
    "        self.output_size = output_size\n",
    "        \n",
    "    def forward(self, X):\n",
    "        # TODO\n",
    "        h = tanh(np.dot(X, self.W_h) + self.b_h)\n",
    "        y = softmax(np.dot(h, self.W_o) + self.b_o)\n",
    "        # END TODO\n",
    "        return y\n",
    "    \n",
    "    def forward_keep_activations(self, X):\n",
    "        # TODO\n",
    "        z_h = np.dot(X, self.W_h) + self.b_h\n",
    "        h = tanh(z_h)\n",
    "        z_o = np.dot(h, self.W_o) + self.b_o\n",
    "        y = softmax(z_o)\n",
    "        return y, h, z_h\n",
    "    \n",
    "    def loss(self, X, y):\n",
    "        # TODO\n",
    "        return nll(one_hot(self.output_size, y), self.forward(X))\n",
    "\n",
    "    def grad_loss(self, X, y_true):\n",
    "        # TODO\n",
    "        y, h, z_h = self.forward_keep_activations(X)\n",
    "        grad_z_o = y - one_hot(self.output_size, y_true)\n",
    "\n",
    "        grad_W_o = np.outer(h, grad_z_o)\n",
    "        grad_b_o = grad_z_o\n",
    "        grad_h = np.dot(grad_z_o, np.transpose(self.W_o))\n",
    "        grad_z_h = grad_h * dtanh(z_h)\n",
    "        grad_W_h = np.outer(x, grad_z_h)\n",
    "        grad_b_h = grad_z_h\n",
    "        grads = {\"W_h\": grad_W_h, \"b_h\": grad_b_h,\n",
    "                 \"W_o\": grad_W_o, \"b_o\": grad_b_o}\n",
    "        return grads\n",
    "\n",
    "    def train(self, x, y, learning_rate):\n",
    "        # TODO\n",
    "        grads = self.grad_loss(x, y)\n",
    "        self.W_h = self.W_h - learning_rate * grads[\"W_h\"]\n",
    "        self.b_h = self.b_h - learning_rate * grads[\"b_h\"]\n",
    "        self.W_o = self.W_o - learning_rate * grads[\"W_o\"]\n",
    "        self.b_o = self.b_o - learning_rate * grads[\"b_o\"]\n",
    "\n",
    "    def predict(self, X):\n",
    "        # TODO\n",
    "        if len(X.shape) == 1:\n",
    "            return np.argmax(self.forward(X))\n",
    "        else:\n",
    "            return np.argmax(self.forward(X), axis=1)\n",
    "\n",
    "    def accuracy(self, X, y):\n",
    "        # TODO\n",
    "        y_preds = np.argmax(self.forward(X), axis=1)\n",
    "        return np.mean(y_preds == y)"
   ]
  },
  {
   "cell_type": "code",
   "execution_count": 219,
   "metadata": {
    "collapsed": false
   },
   "outputs": [
    {
     "ename": "ValueError",
     "evalue": "operands could not be broadcast together with shapes (100,) (1527,10) ",
     "output_type": "error",
     "traceback": [
      "\u001b[0;31m---------------------------------------------------------------------------\u001b[0m",
      "\u001b[0;31mValueError\u001b[0m                                Traceback (most recent call last)",
      "\u001b[0;32m<ipython-input-219-4aedcc6d4888>\u001b[0m in \u001b[0;36m<module>\u001b[0;34m()\u001b[0m\n\u001b[1;32m      2\u001b[0m \u001b[1;33m\u001b[0m\u001b[0m\n\u001b[1;32m      3\u001b[0m \u001b[0mlosses\u001b[0m\u001b[1;33m,\u001b[0m \u001b[0maccuracies\u001b[0m\u001b[1;33m,\u001b[0m \u001b[0maccuracies_test\u001b[0m \u001b[1;33m=\u001b[0m \u001b[1;33m[\u001b[0m\u001b[1;33m]\u001b[0m\u001b[1;33m,\u001b[0m \u001b[1;33m[\u001b[0m\u001b[1;33m]\u001b[0m\u001b[1;33m,\u001b[0m \u001b[1;33m[\u001b[0m\u001b[1;33m]\u001b[0m\u001b[1;33m\u001b[0m\u001b[0m\n\u001b[0;32m----> 4\u001b[0;31m \u001b[0mlosses\u001b[0m\u001b[1;33m.\u001b[0m\u001b[0mappend\u001b[0m\u001b[1;33m(\u001b[0m\u001b[0mmodel\u001b[0m\u001b[1;33m.\u001b[0m\u001b[0mloss\u001b[0m\u001b[1;33m(\u001b[0m\u001b[0mX_train\u001b[0m\u001b[1;33m,\u001b[0m \u001b[0my_train\u001b[0m\u001b[1;33m)\u001b[0m\u001b[1;33m)\u001b[0m\u001b[1;33m\u001b[0m\u001b[0m\n\u001b[0m\u001b[1;32m      5\u001b[0m \u001b[0maccuracies\u001b[0m\u001b[1;33m.\u001b[0m\u001b[0mappend\u001b[0m\u001b[1;33m(\u001b[0m\u001b[0mmodel\u001b[0m\u001b[1;33m.\u001b[0m\u001b[0maccuracy\u001b[0m\u001b[1;33m(\u001b[0m\u001b[0mX_train\u001b[0m\u001b[1;33m,\u001b[0m \u001b[0my_train\u001b[0m\u001b[1;33m)\u001b[0m\u001b[1;33m)\u001b[0m\u001b[1;33m\u001b[0m\u001b[0m\n\u001b[1;32m      6\u001b[0m \u001b[0maccuracies_test\u001b[0m\u001b[1;33m.\u001b[0m\u001b[0mappend\u001b[0m\u001b[1;33m(\u001b[0m\u001b[0mmodel\u001b[0m\u001b[1;33m.\u001b[0m\u001b[0maccuracy\u001b[0m\u001b[1;33m(\u001b[0m\u001b[0mX_test\u001b[0m\u001b[1;33m,\u001b[0m \u001b[0my_test\u001b[0m\u001b[1;33m)\u001b[0m\u001b[1;33m)\u001b[0m\u001b[1;33m\u001b[0m\u001b[0m\n",
      "\u001b[0;32m<ipython-input-218-cb83f505c8f4>\u001b[0m in \u001b[0;36mloss\u001b[0;34m(self, X, y)\u001b[0m\n\u001b[1;32m     30\u001b[0m     \u001b[1;32mdef\u001b[0m \u001b[0mloss\u001b[0m\u001b[1;33m(\u001b[0m\u001b[0mself\u001b[0m\u001b[1;33m,\u001b[0m \u001b[0mX\u001b[0m\u001b[1;33m,\u001b[0m \u001b[0my\u001b[0m\u001b[1;33m)\u001b[0m\u001b[1;33m:\u001b[0m\u001b[1;33m\u001b[0m\u001b[0m\n\u001b[1;32m     31\u001b[0m         \u001b[1;31m# TODO\u001b[0m\u001b[1;33m\u001b[0m\u001b[1;33m\u001b[0m\u001b[0m\n\u001b[0;32m---> 32\u001b[0;31m         \u001b[1;32mreturn\u001b[0m \u001b[0mnll\u001b[0m\u001b[1;33m(\u001b[0m\u001b[0mone_hot\u001b[0m\u001b[1;33m(\u001b[0m\u001b[0mself\u001b[0m\u001b[1;33m.\u001b[0m\u001b[0moutput_size\u001b[0m\u001b[1;33m,\u001b[0m \u001b[0my\u001b[0m\u001b[1;33m)\u001b[0m\u001b[1;33m,\u001b[0m \u001b[0mself\u001b[0m\u001b[1;33m.\u001b[0m\u001b[0mforward\u001b[0m\u001b[1;33m(\u001b[0m\u001b[0mX\u001b[0m\u001b[1;33m)\u001b[0m\u001b[1;33m)\u001b[0m\u001b[1;33m\u001b[0m\u001b[0m\n\u001b[0m\u001b[1;32m     33\u001b[0m \u001b[1;33m\u001b[0m\u001b[0m\n\u001b[1;32m     34\u001b[0m     \u001b[1;32mdef\u001b[0m \u001b[0mgrad_loss\u001b[0m\u001b[1;33m(\u001b[0m\u001b[0mself\u001b[0m\u001b[1;33m,\u001b[0m \u001b[0mX\u001b[0m\u001b[1;33m,\u001b[0m \u001b[0my_true\u001b[0m\u001b[1;33m)\u001b[0m\u001b[1;33m:\u001b[0m\u001b[1;33m\u001b[0m\u001b[0m\n",
      "\u001b[0;32m<ipython-input-218-cb83f505c8f4>\u001b[0m in \u001b[0;36mforward\u001b[0;34m(self, X)\u001b[0m\n\u001b[1;32m     15\u001b[0m     \u001b[1;32mdef\u001b[0m \u001b[0mforward\u001b[0m\u001b[1;33m(\u001b[0m\u001b[0mself\u001b[0m\u001b[1;33m,\u001b[0m \u001b[0mX\u001b[0m\u001b[1;33m)\u001b[0m\u001b[1;33m:\u001b[0m\u001b[1;33m\u001b[0m\u001b[0m\n\u001b[1;32m     16\u001b[0m         \u001b[1;31m# TODO\u001b[0m\u001b[1;33m\u001b[0m\u001b[1;33m\u001b[0m\u001b[0m\n\u001b[0;32m---> 17\u001b[0;31m         \u001b[0mh\u001b[0m \u001b[1;33m=\u001b[0m \u001b[0mtanh\u001b[0m\u001b[1;33m(\u001b[0m\u001b[0mnp\u001b[0m\u001b[1;33m.\u001b[0m\u001b[0mdot\u001b[0m\u001b[1;33m(\u001b[0m\u001b[0mX\u001b[0m\u001b[1;33m,\u001b[0m \u001b[0mself\u001b[0m\u001b[1;33m.\u001b[0m\u001b[0mW_h\u001b[0m\u001b[1;33m)\u001b[0m \u001b[1;33m+\u001b[0m \u001b[0mself\u001b[0m\u001b[1;33m.\u001b[0m\u001b[0mb_h\u001b[0m\u001b[1;33m)\u001b[0m\u001b[1;33m\u001b[0m\u001b[0m\n\u001b[0m\u001b[1;32m     18\u001b[0m         \u001b[0my\u001b[0m \u001b[1;33m=\u001b[0m \u001b[0msoftmax\u001b[0m\u001b[1;33m(\u001b[0m\u001b[0mnp\u001b[0m\u001b[1;33m.\u001b[0m\u001b[0mdot\u001b[0m\u001b[1;33m(\u001b[0m\u001b[0mh\u001b[0m\u001b[1;33m,\u001b[0m \u001b[0mself\u001b[0m\u001b[1;33m.\u001b[0m\u001b[0mW_o\u001b[0m\u001b[1;33m)\u001b[0m \u001b[1;33m+\u001b[0m \u001b[0mself\u001b[0m\u001b[1;33m.\u001b[0m\u001b[0mb_o\u001b[0m\u001b[1;33m)\u001b[0m\u001b[1;33m\u001b[0m\u001b[0m\n\u001b[1;32m     19\u001b[0m         \u001b[1;31m# END TODO\u001b[0m\u001b[1;33m\u001b[0m\u001b[1;33m\u001b[0m\u001b[0m\n",
      "\u001b[0;32m<ipython-input-217-58c312f31afe>\u001b[0m in \u001b[0;36mtanh\u001b[0;34m(X)\u001b[0m\n\u001b[1;32m      1\u001b[0m \u001b[1;32mdef\u001b[0m \u001b[0mtanh\u001b[0m\u001b[1;33m(\u001b[0m\u001b[0mX\u001b[0m\u001b[1;33m)\u001b[0m\u001b[1;33m:\u001b[0m\u001b[1;33m\u001b[0m\u001b[0m\n\u001b[0;32m----> 2\u001b[0;31m     \u001b[1;32mreturn\u001b[0m \u001b[1;33m(\u001b[0m\u001b[0mnp\u001b[0m\u001b[1;33m.\u001b[0m\u001b[0mexp\u001b[0m\u001b[1;33m(\u001b[0m\u001b[1;36m2\u001b[0m\u001b[1;33m*\u001b[0m\u001b[0mx\u001b[0m\u001b[1;33m)\u001b[0m \u001b[1;33m-\u001b[0m \u001b[1;36m1\u001b[0m\u001b[1;33m)\u001b[0m \u001b[1;33m/\u001b[0m \u001b[1;33m(\u001b[0m\u001b[1;36m1\u001b[0m \u001b[1;33m+\u001b[0m \u001b[0mnp\u001b[0m\u001b[1;33m.\u001b[0m\u001b[0mexp\u001b[0m\u001b[1;33m(\u001b[0m\u001b[1;36m2\u001b[0m\u001b[1;33m*\u001b[0m\u001b[0mX\u001b[0m\u001b[1;33m)\u001b[0m\u001b[1;33m)\u001b[0m\u001b[1;33m\u001b[0m\u001b[0m\n\u001b[0m\u001b[1;32m      3\u001b[0m \u001b[1;33m\u001b[0m\u001b[0m\n\u001b[1;32m      4\u001b[0m \u001b[1;33m\u001b[0m\u001b[0m\n\u001b[1;32m      5\u001b[0m \u001b[1;32mdef\u001b[0m \u001b[0mdtanh\u001b[0m\u001b[1;33m(\u001b[0m\u001b[0mX\u001b[0m\u001b[1;33m)\u001b[0m\u001b[1;33m:\u001b[0m\u001b[1;33m\u001b[0m\u001b[0m\n",
      "\u001b[0;31mValueError\u001b[0m: operands could not be broadcast together with shapes (100,) (1527,10) "
     ]
    }
   ],
   "source": [
    "model = NeuralNet_tanh(n_features, n_hidden, n_classes)\n",
    "\n",
    "losses, accuracies, accuracies_test = [], [], []\n",
    "losses.append(model.loss(X_train, y_train))\n",
    "accuracies.append(model.accuracy(X_train, y_train))\n",
    "accuracies_test.append(model.accuracy(X_test, y_test))\n",
    "\n",
    "print(\"Random init: train loss: %0.4f, train acc: %0.3f, test acc: %0.3f\"\n",
    "      % (losses[-1], accuracies[-1], accuracies_test[-1]))\n",
    "\n",
    "for epoch in range(15):\n",
    "    for i, (x, y) in enumerate(zip(X_train, y_train)):\n",
    "        model.train(x, y, 0.1)\n",
    "\n",
    "    losses.append(model.loss(X_train, y_train))\n",
    "    accuracies.append(model.accuracy(X_train, y_train))\n",
    "    accuracies_test.append(model.accuracy(X_test, y_test))\n",
    "    \n",
    "plt.plot(accuracies, label='train')\n",
    "plt.plot(accuracies_test, label='test')\n",
    "plt.ylim(0, 1.1)\n",
    "plt.ylabel(\"accuracy\")\n",
    "plt.legend(loc='best')\n",
    "plt.title('Uniform Intitialization')\n",
    "plt.show()"
   ]
  },
  {
   "cell_type": "code",
   "execution_count": null,
   "metadata": {
    "collapsed": true
   },
   "outputs": [],
   "source": []
  }
 ],
 "metadata": {
  "anaconda-cloud": {},
  "kernelspec": {
   "display_name": "Python [conda env:py35]",
   "language": "python",
   "name": "conda-env-py35-py"
  },
  "language_info": {
   "codemirror_mode": {
    "name": "ipython",
    "version": 3
   },
   "file_extension": ".py",
   "mimetype": "text/x-python",
   "name": "python",
   "nbconvert_exporter": "python",
   "pygments_lexer": "ipython3",
   "version": "3.5.2"
  }
 },
 "nbformat": 4,
 "nbformat_minor": 1
}
