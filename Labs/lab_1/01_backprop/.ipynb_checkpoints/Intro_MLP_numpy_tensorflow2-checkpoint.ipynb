{
 "cells": [
  {
   "cell_type": "markdown",
   "metadata": {
    "collapsed": true
   },
   "source": [
    "# Backpropagation and Multilayer Neural Networks\n",
    "\n",
    "### Goals: \n",
    "- Intro: train a neural network with high level framework `Keras`\n",
    "- Diving deep: implement a real gradient descent in `Numpy`\n",
    "- Auto-differentiation: the basics of `TensorFlow`\n",
    "\n",
    "### Dataset:\n",
    "- Digits: 10 class handwritten digits\n",
    "- http://scikit-learn.org/stable/modules/generated/sklearn.datasets.load_digits.html#sklearn.datasets.load_digits"
   ]
  },
  {
   "cell_type": "code",
   "execution_count": 1,
   "metadata": {
    "collapsed": false
   },
   "outputs": [],
   "source": [
    "%matplotlib inline \n",
    "# display figures in the notebook\n",
    "import matplotlib.pyplot as plt\n",
    "import numpy as np\n",
    "from sklearn.datasets import load_digits\n",
    "\n",
    "digits = load_digits()"
   ]
  },
  {
   "cell_type": "code",
   "execution_count": 2,
   "metadata": {
    "collapsed": false
   },
   "outputs": [
    {
     "data": {
      "image/png": "[encoded data removed]",
      "text/plain": [
       "<matplotlib.figure.Figure at 0x1d39baa3208>"
      ]
     },
     "metadata": {},
     "output_type": "display_data"
    }
   ],
   "source": [
    "sample_index = 45\n",
    "plt.figure(figsize=(3, 3))\n",
    "plt.imshow(digits.images[sample_index], cmap=plt.cm.gray_r,\n",
    "           interpolation='nearest')\n",
    "plt.title(\"image label: %d\" % digits.target[sample_index]);"
   ]
  },
  {
   "cell_type": "markdown",
   "metadata": {},
   "source": [
    "### Preprocessing\n",
    "\n",
    "- normalization\n",
    "- train/test split"
   ]
  },
  {
   "cell_type": "code",
   "execution_count": 3,
   "metadata": {
    "collapsed": false
   },
   "outputs": [],
   "source": [
    "from sklearn import preprocessing\n",
    "from sklearn.model_selection import train_test_split\n",
    "\n",
    "data = np.asarray(digits.data, dtype='float32')\n",
    "target = np.asarray(digits.target, dtype='int32')\n",
    "\n",
    "X_train, X_test, y_train, y_test = train_test_split(\n",
    "    data, target, test_size=0.15, random_state=37)\n",
    "\n",
    "# mean = 0 ; standard deviation = 1.0\n",
    "scaler = preprocessing.StandardScaler()\n",
    "X_train = scaler.fit_transform(X_train)\n",
    "X_test = scaler.transform(X_test)\n",
    "\n",
    "# print(scaler.mean_)\n",
    "# print(scaler.scale_)"
   ]
  },
  {
   "cell_type": "markdown",
   "metadata": {},
   "source": [
    "Let's display the one of the transformed sample (after feature standardization):"
   ]
  },
  {
   "cell_type": "code",
   "execution_count": 4,
   "metadata": {
    "collapsed": false
   },
   "outputs": [
    {
     "data": {
      "image/png": "[encoded data removed]",
      "text/plain": [
       "<matplotlib.figure.Figure at 0x1d39904f6a0>"
      ]
     },
     "metadata": {},
     "output_type": "display_data"
    }
   ],
   "source": [
    "sample_index = 45\n",
    "plt.figure(figsize=(3, 3))\n",
    "plt.imshow(X_train[sample_index].reshape(8, 8),\n",
    "           cmap=plt.cm.gray_r, interpolation='nearest')\n",
    "plt.title(\"transformed sample\\n(standardization)\");"
   ]
  },
  {
   "cell_type": "markdown",
   "metadata": {},
   "source": [
    "The scaler objects makes it possible to recover the original sample:"
   ]
  },
  {
   "cell_type": "code",
   "execution_count": 5,
   "metadata": {
    "collapsed": false
   },
   "outputs": [
    {
     "data": {
      "image/png": "[encoded data removed]",
      "text/plain": [
       "<matplotlib.figure.Figure at 0x1d39bb6fb00>"
      ]
     },
     "metadata": {},
     "output_type": "display_data"
    }
   ],
   "source": [
    "plt.figure(figsize=(3, 3))\n",
    "plt.imshow(scaler.inverse_transform(X_train[sample_index]).reshape(8, 8),\n",
    "           cmap=plt.cm.gray_r, interpolation='nearest')\n",
    "plt.title(\"original sample\");"
   ]
  },
  {
   "cell_type": "code",
   "execution_count": 6,
   "metadata": {
    "collapsed": false
   },
   "outputs": [
    {
     "name": "stdout",
     "output_type": "stream",
     "text": [
      "(1527, 64) (1527,)\n",
      "(270, 64) (270,)\n"
     ]
    }
   ],
   "source": [
    "print(X_train.shape, y_train.shape)\n",
    "print(X_test.shape, y_test.shape)"
   ]
  },
  {
   "cell_type": "markdown",
   "metadata": {},
   "source": [
    "# I) Feed Forward NN with Keras\n",
    "\n",
    "Objectives of this section:\n",
    "\n",
    "- Build and train a first feedforward network using `Keras`\n",
    "    - https://keras.io/getting-started/sequential-model-guide/\n",
    "- Experiment with different optimizers, activations, size of layers, initializations\n",
    "\n",
    "### a) Keras Workflow"
   ]
  },
  {
   "cell_type": "markdown",
   "metadata": {},
   "source": [
    "To build a first neural network we need to turn the target variable into a vector \"one-hot-encoding\" representation. Here are the labels of the first samples in the training set encoded as integers:"
   ]
  },
  {
   "cell_type": "code",
   "execution_count": 7,
   "metadata": {
    "collapsed": false
   },
   "outputs": [
    {
     "data": {
      "text/plain": [
       "array([2, 9, 5])"
      ]
     },
     "execution_count": 7,
     "metadata": {},
     "output_type": "execute_result"
    }
   ],
   "source": [
    "y_train[:3]"
   ]
  },
  {
   "cell_type": "markdown",
   "metadata": {},
   "source": [
    "Keras provides a utility function to convert integer-encoded categorical variables as one-hot encoded values:"
   ]
  },
  {
   "cell_type": "code",
   "execution_count": 8,
   "metadata": {
    "collapsed": false
   },
   "outputs": [
    {
     "name": "stderr",
     "output_type": "stream",
     "text": [
      "Using TensorFlow backend.\n"
     ]
    },
    {
     "data": {
      "text/plain": [
       "array([[ 0.,  0.,  1.,  0.,  0.,  0.,  0.,  0.,  0.,  0.],\n",
       "       [ 0.,  0.,  0.,  0.,  0.,  0.,  0.,  0.,  0.,  1.],\n",
       "       [ 0.,  0.,  0.,  0.,  0.,  1.,  0.,  0.,  0.,  0.]])"
      ]
     },
     "execution_count": 8,
     "metadata": {},
     "output_type": "execute_result"
    }
   ],
   "source": [
    "from keras.utils.np_utils import to_categorical\n",
    "\n",
    "Y_train = to_categorical(y_train)\n",
    "Y_train[:3]"
   ]
  },
  {
   "cell_type": "markdown",
   "metadata": {},
   "source": [
    "We can now build an train a our first feed forward neural network using the high level API from keras:\n",
    "\n",
    "- first we define the model by stacking layers with the right dimensions\n",
    "- then we define a loss function and plug the SGD optimizer\n",
    "- then we feed the model the training data for fixed number of epochs"
   ]
  },
  {
   "cell_type": "code",
   "execution_count": 9,
   "metadata": {
    "collapsed": false
   },
   "outputs": [
    {
     "name": "stdout",
     "output_type": "stream",
     "text": [
      "Epoch 1/15\n",
      "1527/1527 [==============================] - 2s - loss: 0.8186 - acc: 0.7904     \n",
      "Epoch 2/15\n",
      "1527/1527 [==============================] - 0s - loss: 0.2785 - acc: 0.9515     \n",
      "Epoch 3/15\n",
      "1527/1527 [==============================] - 0s - loss: 0.1908 - acc: 0.9646     \n",
      "Epoch 4/15\n",
      "1527/1527 [==============================] - 0s - loss: 0.1484 - acc: 0.9745     \n",
      "Epoch 5/15\n",
      "1527/1527 [==============================] - 0s - loss: 0.1226 - acc: 0.9804     \n",
      "Epoch 6/15\n",
      "1527/1527 [==============================] - 0s - loss: 0.1048 - acc: 0.9810     \n",
      "Epoch 7/15\n",
      "1527/1527 [==============================] - 0s - loss: 0.0910 - acc: 0.9836     \n",
      "Epoch 8/15\n",
      "1527/1527 [==============================] - 0s - loss: 0.0808 - acc: 0.9869     \n",
      "Epoch 9/15\n",
      "1527/1527 [==============================] - 0s - loss: 0.0721 - acc: 0.9895     \n",
      "Epoch 10/15\n",
      "1527/1527 [==============================] - 0s - loss: 0.0655 - acc: 0.9902     \n",
      "Epoch 11/15\n",
      "1527/1527 [==============================] - 0s - loss: 0.0592 - acc: 0.9895     \n",
      "Epoch 12/15\n",
      "1527/1527 [==============================] - 0s - loss: 0.0545 - acc: 0.9915     \n",
      "Epoch 13/15\n",
      "1527/1527 [==============================] - 0s - loss: 0.0500 - acc: 0.9941     \n",
      "Epoch 14/15\n",
      "1527/1527 [==============================] - 0s - loss: 0.0462 - acc: 0.9935     \n",
      "Epoch 15/15\n",
      "1527/1527 [==============================] - 0s - loss: 0.0429 - acc: 0.9954     \n"
     ]
    },
    {
     "data": {
      "text/plain": [
       "<keras.callbacks.History at 0x1d39f210fd0>"
      ]
     },
     "execution_count": 9,
     "metadata": {},
     "output_type": "execute_result"
    }
   ],
   "source": [
    "import keras\n",
    "from keras.models import Sequential\n",
    "from keras.layers.core import Dense, Activation\n",
    "from keras import optimizers\n",
    "\n",
    "N = X_train.shape[1]\n",
    "H = 100\n",
    "K = 10\n",
    "\n",
    "model = Sequential()\n",
    "model.add(Dense(H, input_dim=N))\n",
    "model.add(Activation(\"tanh\"))\n",
    "model.add(Dense(K))\n",
    "model.add(Activation(\"softmax\"))\n",
    "\n",
    "model.compile(optimizer=optimizers.SGD(lr=0.1),\n",
    "              loss='categorical_crossentropy', metrics=['accuracy'])\n",
    "\n",
    "model.fit(X_train, Y_train, nb_epoch=15, batch_size=32)"
   ]
  },
  {
   "cell_type": "markdown",
   "metadata": {},
   "source": [
    "### b) Exercises: Impact of the Optimizer\n",
    "\n",
    "- Try to decrease the learning rate value by 10 or 100. What do you observe?\n",
    "\n",
    "- Try to increase the learning rate value to make the optimization diverge.\n",
    "\n",
    "- Configure the SGD optimizer to enable a Nesterov momentum of 0.9\n",
    "  \n",
    "Note that the keras API documentation is avaiable at:\n",
    "\n",
    "https://keras.io/\n",
    "\n",
    "It is also possible to learn more about the parameters of a class by using the question mark: type and evaluate:\n",
    "\n",
    "```python\n",
    "optimizers.SGD?\n",
    "```\n",
    "\n",
    "in a jupyter notebook cell."
   ]
  },
  {
   "cell_type": "markdown",
   "metadata": {},
   "source": [
    "#### Influence of the learning rate"
   ]
  },
  {
   "cell_type": "markdown",
   "metadata": {
    "collapsed": true
   },
   "source": [
    "$\\eta = 0.01$"
   ]
  },
  {
   "cell_type": "code",
   "execution_count": 10,
   "metadata": {
    "collapsed": false
   },
   "outputs": [
    {
     "name": "stdout",
     "output_type": "stream",
     "text": [
      "Epoch 1/15\n",
      "1527/1527 [==============================] - 0s - loss: 1.9701 - acc: 0.3170     \n",
      "Epoch 2/15\n",
      "1527/1527 [==============================] - 0s - loss: 1.2341 - acc: 0.7112     \n",
      "Epoch 3/15\n",
      "1527/1527 [==============================] - 0s - loss: 0.8946 - acc: 0.8206     \n",
      "Epoch 4/15\n",
      "1527/1527 [==============================] - 0s - loss: 0.7120 - acc: 0.8579     \n",
      "Epoch 5/15\n",
      "1527/1527 [==============================] - 0s - loss: 0.5979 - acc: 0.8841     \n",
      "Epoch 6/15\n",
      "1527/1527 [==============================] - 0s - loss: 0.5192 - acc: 0.9011     \n",
      "Epoch 7/15\n",
      "1527/1527 [==============================] - 0s - loss: 0.4613 - acc: 0.9155     \n",
      "Epoch 8/15\n",
      "1527/1527 [==============================] - 0s - loss: 0.4166 - acc: 0.9234     \n",
      "Epoch 9/15\n",
      "1527/1527 [==============================] - 0s - loss: 0.3812 - acc: 0.9280     \n",
      "Epoch 10/15\n",
      "1527/1527 [==============================] - 0s - loss: 0.3524 - acc: 0.9319     \n",
      "Epoch 11/15\n",
      "1527/1527 [==============================] - 0s - loss: 0.3282 - acc: 0.9371     \n",
      "Epoch 12/15\n",
      "1527/1527 [==============================] - 0s - loss: 0.3077 - acc: 0.9391     \n",
      "Epoch 13/15\n",
      "1527/1527 [==============================] - 0s - loss: 0.2901 - acc: 0.9404     \n",
      "Epoch 14/15\n",
      "1527/1527 [==============================] - 0s - loss: 0.2748 - acc: 0.9443     \n",
      "Epoch 15/15\n",
      "1527/1527 [==============================] - 0s - loss: 0.2614 - acc: 0.9509     \n"
     ]
    },
    {
     "data": {
      "text/plain": [
       "<keras.callbacks.History at 0x1d3892acf60>"
      ]
     },
     "execution_count": 10,
     "metadata": {},
     "output_type": "execute_result"
    }
   ],
   "source": [
    "model = Sequential()\n",
    "model.add(Dense(H, input_dim=N))\n",
    "model.add(Activation(\"tanh\"))\n",
    "model.add(Dense(K))\n",
    "model.add(Activation(\"softmax\"))\n",
    "\n",
    "model.compile(optimizer=optimizers.SGD(lr=0.01),\n",
    "              loss='categorical_crossentropy', metrics=['accuracy'])\n",
    "\n",
    "model.fit(X_train, Y_train, nb_epoch=15, batch_size=32)"
   ]
  },
  {
   "cell_type": "markdown",
   "metadata": {},
   "source": [
    "$\\eta = 0.001$"
   ]
  },
  {
   "cell_type": "code",
   "execution_count": 12,
   "metadata": {
    "collapsed": false
   },
   "outputs": [
    {
     "name": "stdout",
     "output_type": "stream",
     "text": [
      "Epoch 1/15\n",
      "1527/1527 [==============================] - 0s - loss: 2.5700 - acc: 0.1094     \n",
      "Epoch 2/15\n",
      "1527/1527 [==============================] - 0s - loss: 2.4325 - acc: 0.1428     \n",
      "Epoch 3/15\n",
      "1527/1527 [==============================] - 0s - loss: 2.3039 - acc: 0.1755     \n",
      "Epoch 4/15\n",
      "1527/1527 [==============================] - 0s - loss: 2.1839 - acc: 0.2187     \n",
      "Epoch 5/15\n",
      "1527/1527 [==============================] - 0s - loss: 2.0722 - acc: 0.2790     \n",
      "Epoch 6/15\n",
      "1527/1527 [==============================] - 0s - loss: 1.9685 - acc: 0.3360     \n",
      "Epoch 7/15\n",
      "1527/1527 [==============================] - 0s - loss: 1.8723 - acc: 0.4014     \n",
      "Epoch 8/15\n",
      "1527/1527 [==============================] - 0s - loss: 1.7830 - acc: 0.4499     \n",
      "Epoch 9/15\n",
      "1527/1527 [==============================] - 0s - loss: 1.7004 - acc: 0.4984     \n",
      "Epoch 10/15\n",
      "1527/1527 [==============================] - 0s - loss: 1.6240 - acc: 0.5331     \n",
      "Epoch 11/15\n",
      "1527/1527 [==============================] - 0s - loss: 1.5534 - acc: 0.5671     \n",
      "Epoch 12/15\n",
      "1527/1527 [==============================] - 0s - loss: 1.4880 - acc: 0.5946     \n",
      "Epoch 13/15\n",
      "1527/1527 [==============================] - 0s - loss: 1.4274 - acc: 0.6267     \n",
      "Epoch 14/15\n",
      "1527/1527 [==============================] - 0s - loss: 1.3713 - acc: 0.6451     \n",
      "Epoch 15/15\n",
      "1527/1527 [==============================] - 0s - loss: 1.3193 - acc: 0.6667     \n"
     ]
    },
    {
     "data": {
      "text/plain": [
       "<keras.callbacks.History at 0x1d3945df6a0>"
      ]
     },
     "execution_count": 12,
     "metadata": {},
     "output_type": "execute_result"
    }
   ],
   "source": [
    "model = Sequential()\n",
    "model.add(Dense(H, input_dim=N))\n",
    "model.add(Activation(\"tanh\"))\n",
    "model.add(Dense(K))\n",
    "model.add(Activation(\"softmax\"))\n",
    "\n",
    "model.compile(optimizer=optimizers.SGD(lr=0.001),\n",
    "              loss='categorical_crossentropy', metrics=['accuracy'])\n",
    "\n",
    "model.fit(X_train, Y_train, nb_epoch=15, batch_size=32)"
   ]
  },
  {
   "cell_type": "code",
   "execution_count": 15,
   "metadata": {
    "collapsed": false
   },
   "outputs": [
    {
     "name": "stdout",
     "output_type": "stream",
     "text": [
      "Epoch 1/15\n",
      "1527/1527 [==============================] - 0s - loss: 0.4778 - acc: 0.8605     \n",
      "Epoch 2/15\n",
      "1527/1527 [==============================] - 0s - loss: 0.1323 - acc: 0.9686     \n",
      "Epoch 3/15\n",
      "1527/1527 [==============================] - 0s - loss: 0.1126 - acc: 0.9712     \n",
      "Epoch 4/15\n",
      "1527/1527 [==============================] - 0s - loss: 0.0438 - acc: 0.9895     \n",
      "Epoch 5/15\n",
      "1527/1527 [==============================] - 0s - loss: 0.0268 - acc: 0.9987     \n",
      "Epoch 6/15\n",
      "1527/1527 [==============================] - 0s - loss: 0.0241 - acc: 0.9987     \n",
      "Epoch 7/15\n",
      "1527/1527 [==============================] - 0s - loss: 0.0233 - acc: 0.9987     \n",
      "Epoch 8/15\n",
      "1527/1527 [==============================] - 0s - loss: 0.0229 - acc: 0.9987     \n",
      "Epoch 9/15\n",
      "1527/1527 [==============================] - 0s - loss: 0.0227 - acc: 0.9987     \n",
      "Epoch 10/15\n",
      "1527/1527 [==============================] - 0s - loss: 0.0225 - acc: 0.9987     \n",
      "Epoch 11/15\n",
      "1527/1527 [==============================] - 0s - loss: 0.0224 - acc: 0.9987     \n",
      "Epoch 12/15\n",
      "1527/1527 [==============================] - 0s - loss: 0.0223 - acc: 0.9987     \n",
      "Epoch 13/15\n",
      "1527/1527 [==============================] - 0s - loss: 0.0222 - acc: 0.9987     \n",
      "Epoch 14/15\n",
      "1527/1527 [==============================] - 0s - loss: 0.0221 - acc: 0.9987     \n",
      "Epoch 15/15\n",
      "1527/1527 [==============================] - 0s - loss: 0.0220 - acc: 0.9987     \n",
      "Epoch 1/15\n",
      "1527/1527 [==============================] - 0s - loss: 0.9593 - acc: 0.7682     \n",
      "Epoch 2/15\n",
      "1527/1527 [==============================] - 0s - loss: 0.2916 - acc: 0.9424     \n",
      "Epoch 3/15\n",
      "1527/1527 [==============================] - 0s - loss: 0.1833 - acc: 0.9640     \n",
      "Epoch 4/15\n",
      "1527/1527 [==============================] - 0s - loss: 0.1348 - acc: 0.9738     \n",
      "Epoch 5/15\n",
      "1527/1527 [==============================] - 0s - loss: 0.1060 - acc: 0.9830     \n",
      "Epoch 6/15\n",
      "1527/1527 [==============================] - 0s - loss: 0.0864 - acc: 0.9869     \n",
      "Epoch 7/15\n",
      "1527/1527 [==============================] - 0s - loss: 0.0728 - acc: 0.9895     \n",
      "Epoch 8/15\n",
      "1527/1527 [==============================] - 0s - loss: 0.0623 - acc: 0.9902     \n",
      "Epoch 9/15\n",
      "1527/1527 [==============================] - 0s - loss: 0.0540 - acc: 0.9921     \n",
      "Epoch 10/15\n",
      "1527/1527 [==============================] - 0s - loss: 0.0477 - acc: 0.9948     \n",
      "Epoch 11/15\n",
      "1527/1527 [==============================] - 0s - loss: 0.0422 - acc: 0.9961     \n",
      "Epoch 12/15\n",
      "1527/1527 [==============================] - 0s - loss: 0.0380 - acc: 0.9954     \n",
      "Epoch 13/15\n",
      "1527/1527 [==============================] - 0s - loss: 0.0343 - acc: 0.9967     \n",
      "Epoch 14/15\n",
      "1527/1527 [==============================] - 0s - loss: 0.0313 - acc: 0.9987     \n",
      "Epoch 15/15\n",
      "1527/1527 [==============================] - 0s - loss: 0.0284 - acc: 0.9993     \n",
      "Epoch 1/15\n",
      "1527/1527 [==============================] - 0s - loss: 2.1754 - acc: 0.2207     \n",
      "Epoch 2/15\n",
      "1527/1527 [==============================] - 0s - loss: 1.5453 - acc: 0.6156     \n",
      "Epoch 3/15\n",
      "1527/1527 [==============================] - 0s - loss: 1.1562 - acc: 0.7649     \n",
      "Epoch 4/15\n",
      "1527/1527 [==============================] - 0s - loss: 0.9099 - acc: 0.8402     \n",
      "Epoch 5/15\n",
      "1527/1527 [==============================] - 0s - loss: 0.7482 - acc: 0.8716     \n",
      "Epoch 6/15\n",
      "1527/1527 [==============================] - 0s - loss: 0.6345 - acc: 0.8887     \n",
      "Epoch 7/15\n",
      "1527/1527 [==============================] - 0s - loss: 0.5515 - acc: 0.9057     \n",
      "Epoch 8/15\n",
      "1527/1527 [==============================] - 0s - loss: 0.4876 - acc: 0.9142     \n",
      "Epoch 9/15\n",
      "1527/1527 [==============================] - 0s - loss: 0.4375 - acc: 0.9208     \n",
      "Epoch 10/15\n",
      "1527/1527 [==============================] - 0s - loss: 0.3969 - acc: 0.9253     \n",
      "Epoch 11/15\n",
      "1527/1527 [==============================] - 0s - loss: 0.3631 - acc: 0.9293     \n",
      "Epoch 12/15\n",
      "1527/1527 [==============================] - 0s - loss: 0.3349 - acc: 0.9384     \n",
      "Epoch 13/15\n",
      "1527/1527 [==============================] - 0s - loss: 0.3110 - acc: 0.9424     \n",
      "Epoch 14/15\n",
      "1527/1527 [==============================] - 0s - loss: 0.2902 - acc: 0.9463     \n",
      "Epoch 15/15\n",
      "1527/1527 [==============================] - 0s - loss: 0.2723 - acc: 0.9522     \n",
      "Epoch 1/15\n",
      "1527/1527 [==============================] - 0s - loss: 2.3214 - acc: 0.1631     \n",
      "Epoch 2/15\n",
      "1527/1527 [==============================] - 0s - loss: 2.2298 - acc: 0.1984     \n",
      "Epoch 3/15\n",
      "1527/1527 [==============================] - 0s - loss: 2.1440 - acc: 0.2384     \n",
      "Epoch 4/15\n",
      "1527/1527 [==============================] - 0s - loss: 2.0630 - acc: 0.2881     \n",
      "Epoch 5/15\n",
      "1527/1527 [==============================] - 0s - loss: 1.9868 - acc: 0.3360     \n",
      "Epoch 6/15\n",
      "1527/1527 [==============================] - 0s - loss: 1.9149 - acc: 0.3870     \n",
      "Epoch 7/15\n",
      "1527/1527 [==============================] - 0s - loss: 1.8471 - acc: 0.4499     \n",
      "Epoch 8/15\n",
      "1527/1527 [==============================] - 0s - loss: 1.7828 - acc: 0.4997     \n",
      "Epoch 9/15\n",
      "1527/1527 [==============================] - 0s - loss: 1.7221 - acc: 0.5396     \n",
      "Epoch 10/15\n",
      "1527/1527 [==============================] - 0s - loss: 1.6646 - acc: 0.5783     \n",
      "Epoch 11/15\n",
      "1527/1527 [==============================] - 0s - loss: 1.6101 - acc: 0.6103     \n",
      "Epoch 12/15\n",
      "1527/1527 [==============================] - 0s - loss: 1.5586 - acc: 0.6333     \n",
      "Epoch 13/15\n",
      "1527/1527 [==============================] - 0s - loss: 1.5095 - acc: 0.6588     \n",
      "Epoch 14/15\n",
      "1527/1527 [==============================] - 0s - loss: 1.4630 - acc: 0.6771     \n",
      "Epoch 15/15\n",
      "1527/1527 [==============================] - 0s - loss: 1.4188 - acc: 0.6909     \n"
     ]
    },
    {
     "data": {
      "image/png": "[encoded data removed]",
      "text/plain": [
       "<matplotlib.figure.Figure at 0x1d405b51588>"
      ]
     },
     "metadata": {},
     "output_type": "display_data"
    }
   ],
   "source": [
    "import time\n",
    "def train_lr(lr):\n",
    "    ############ Define dimensions of layers engaged in the neural network ##########\n",
    "    N = X_train.shape[1]\n",
    "    H = 100\n",
    "    K = 10\n",
    "\n",
    "    ######### Build the graph #########\n",
    "    model = Sequential()\n",
    "    model.add(Dense(H, input_dim=N))\n",
    "    model.add(Activation('relu')) \n",
    "    model.add(Dense(K))\n",
    "    model.add(Activation(\"softmax\"))\n",
    "\n",
    "    ############ Assign the graph with an optimizer, a olss function and a metric #######\n",
    "    model.compile(optimizer=optimizers.SGD(lr=lr),\n",
    "                  loss='categorical_crossentropy', metrics=['accuracy'])\n",
    "\n",
    "    ########### Fit the previously defined model on the train set ##############\n",
    "    start = time.time()\n",
    "    history = model.fit(X_train, Y_train, nb_epoch=15, batch_size=32)\n",
    "    exec_time = time.time() - start\n",
    "    \n",
    "    return history\n",
    "\n",
    "# Compute for several learning rates\n",
    "learning = [1, 0.1, 0.01, 0.001]\n",
    "histories = {}\n",
    "for rate in learning:\n",
    "    histories[rate] = train_lr(rate)\n",
    "\n",
    "# Plot the result\n",
    "t = np.arange(0, 15)\n",
    "for rate in learning:\n",
    "    plt.plot(t, histories[rate].history['loss'], label=rate)\n",
    "plt.legend()\n",
    "plt.title('Loss during training')\n",
    "plt.xlabel('Epoch')\n",
    "plt.ylabel('Loss')\n",
    "plt.show()"
   ]
  },
  {
   "cell_type": "markdown",
   "metadata": {},
   "source": [
    "On remarque que plus on diminue la valeur de $\\eta$ et plus la fonction de perte diminue lentement au fil des epochs. Ainsi, pour un nombre d'epochs fixé, si l'on divise le taux d'apprentissage originel par 10, puis par 100, on diminue la perte finale et par conséquent, la précision associée. Il y a en effet un arbitrage à effectuer entre $\\eta$ et le nombre d'itérations."
   ]
  },
  {
   "cell_type": "markdown",
   "metadata": {},
   "source": [
    "Essayons de faire diverger l'étape d'optimisation:"
   ]
  },
  {
   "cell_type": "code",
   "execution_count": 12,
   "metadata": {
    "collapsed": false
   },
   "outputs": [
    {
     "name": "stdout",
     "output_type": "stream",
     "text": [
      "Epoch 1/15\n",
      "1527/1527 [==============================] - 0s - loss: 15.1754 - acc: 0.0419     \n",
      "Epoch 2/15\n",
      "1527/1527 [==============================] - 0s - loss: 12.1583 - acc: 0.2456     \n",
      "Epoch 3/15\n",
      "1527/1527 [==============================] - 0s - loss: 11.7904 - acc: 0.2685     \n",
      "Epoch 4/15\n",
      "1527/1527 [==============================] - 0s - loss: 11.7904 - acc: 0.2685     \n",
      "Epoch 5/15\n",
      "1527/1527 [==============================] - 0s - loss: 11.7904 - acc: 0.2685     \n",
      "Epoch 6/15\n",
      "1527/1527 [==============================] - 0s - loss: 11.7904 - acc: 0.2685     \n",
      "Epoch 7/15\n",
      "1527/1527 [==============================] - 0s - loss: 11.7904 - acc: 0.2685     \n",
      "Epoch 8/15\n",
      "1527/1527 [==============================] - 0s - loss: 11.7904 - acc: 0.2685     \n",
      "Epoch 9/15\n",
      "1527/1527 [==============================] - 0s - loss: 11.7904 - acc: 0.2685     \n",
      "Epoch 10/15\n",
      "1527/1527 [==============================] - 0s - loss: 11.7904 - acc: 0.2685     \n",
      "Epoch 11/15\n",
      "1527/1527 [==============================] - 0s - loss: 11.7904 - acc: 0.2685     \n",
      "Epoch 12/15\n",
      "1527/1527 [==============================] - 0s - loss: 11.7904 - acc: 0.2685     \n",
      "Epoch 13/15\n",
      "1527/1527 [==============================] - 0s - loss: 11.7904 - acc: 0.2685     \n",
      "Epoch 14/15\n",
      "1527/1527 [==============================] - 0s - loss: 11.7904 - acc: 0.2685     \n",
      "Epoch 15/15\n",
      "1527/1527 [==============================] - 0s - loss: 11.7904 - acc: 0.2685     \n"
     ]
    },
    {
     "data": {
      "text/plain": [
       "<keras.callbacks.History at 0x2aa80234ac8>"
      ]
     },
     "execution_count": 12,
     "metadata": {},
     "output_type": "execute_result"
    }
   ],
   "source": [
    "model = Sequential()\n",
    "model.add(Dense(H, input_dim=N))\n",
    "model.add(Activation(\"tanh\"))\n",
    "model.add(Dense(K))\n",
    "model.add(Activation(\"softmax\"))\n",
    "\n",
    "model.compile(optimizer=optimizers.SGD(lr=1000),\n",
    "              loss='categorical_crossentropy', metrics=['accuracy'])\n",
    "\n",
    "model.fit(X_train, Y_train, nb_epoch=15, batch_size=32)"
   ]
  },
  {
   "cell_type": "markdown",
   "metadata": {},
   "source": [
    "Après plusieurs essais, on voit qu'il est difficile de faire diverger cette étape. Le \"mieux\" que l'on puisse faire, en augmentant le taux d'apprentissage (jusqu'à 1000 par exemple) est de bloquer l'optimisation au bout d'un moment (ici, pour une perte associée de 9.68) car l'algorithme devient trop imprécis pour converger efficacement."
   ]
  },
  {
   "cell_type": "markdown",
   "metadata": {},
   "source": [
    "#### Nesterov momentum of 0.9"
   ]
  },
  {
   "cell_type": "code",
   "execution_count": 13,
   "metadata": {
    "collapsed": false
   },
   "outputs": [
    {
     "name": "stdout",
     "output_type": "stream",
     "text": [
      "Epoch 1/15\n",
      "1527/1527 [==============================] - 0s - loss: 0.3869 - acc: 0.8723     \n",
      "Epoch 2/15\n",
      "1527/1527 [==============================] - 0s - loss: 0.0749 - acc: 0.9771     \n",
      "Epoch 3/15\n",
      "1527/1527 [==============================] - 0s - loss: 0.0375 - acc: 0.9908     \n",
      "Epoch 4/15\n",
      "1527/1527 [==============================] - 0s - loss: 0.0190 - acc: 0.9961     \n",
      "Epoch 5/15\n",
      "1527/1527 [==============================] - 0s - loss: 0.0112 - acc: 1.0000     \n",
      "Epoch 6/15\n",
      "1527/1527 [==============================] - 0s - loss: 0.0074 - acc: 1.0000     \n",
      "Epoch 7/15\n",
      "1527/1527 [==============================] - 0s - loss: 0.0056 - acc: 1.0000     \n",
      "Epoch 8/15\n",
      "1527/1527 [==============================] - 0s - loss: 0.0047 - acc: 1.0000     \n",
      "Epoch 9/15\n",
      "1527/1527 [==============================] - 0s - loss: 0.0041 - acc: 1.0000     \n",
      "Epoch 10/15\n",
      "1527/1527 [==============================] - 0s - loss: 0.0036 - acc: 1.0000     \n",
      "Epoch 11/15\n",
      "1527/1527 [==============================] - 0s - loss: 0.0033 - acc: 1.0000     \n",
      "Epoch 12/15\n",
      "1527/1527 [==============================] - 0s - loss: 0.0030 - acc: 1.0000     \n",
      "Epoch 13/15\n",
      "1527/1527 [==============================] - 0s - loss: 0.0027 - acc: 1.0000     \n",
      "Epoch 14/15\n",
      "1527/1527 [==============================] - 0s - loss: 0.0025 - acc: 1.0000     \n",
      "Epoch 15/15\n",
      "1527/1527 [==============================] - 0s - loss: 0.0023 - acc: 1.0000     \n"
     ]
    },
    {
     "data": {
      "text/plain": [
       "<keras.callbacks.History at 0x2aa81667e80>"
      ]
     },
     "execution_count": 13,
     "metadata": {},
     "output_type": "execute_result"
    }
   ],
   "source": [
    "model = Sequential()\n",
    "model.add(Dense(H, input_dim=N))\n",
    "model.add(Activation(\"tanh\"))\n",
    "model.add(Dense(K))\n",
    "model.add(Activation(\"softmax\"))\n",
    "\n",
    "model.compile(optimizer=optimizers.SGD(lr=0.1,nesterov=True,momentum=0.9),\n",
    "              loss='categorical_crossentropy', metrics=['accuracy'])\n",
    "\n",
    "model.fit(X_train, Y_train, nb_epoch=15, batch_size=32)"
   ]
  },
  {
   "cell_type": "markdown",
   "metadata": {},
   "source": [
    "On constate ici que l'optimisation est non seulement plus rapide, mais aussi plus efficace, car elle permet d'atteindre une perte de 2.2e-3 au bout de 15 epochs (précision de 1 sur le train set). C'est conforme à ce à quoi on pouvait s'attendre."
   ]
  },
  {
   "cell_type": "code",
   "execution_count": 14,
   "metadata": {
    "collapsed": false
   },
   "outputs": [],
   "source": [
    "# %load solutions/keras_sgd_and_momentum.py"
   ]
  },
  {
   "cell_type": "markdown",
   "metadata": {},
   "source": [
    "- Replace the SGD optimizer by the Adam optimizer from keras and run it\n",
    "  with the default parameters.\n",
    "\n",
    "- Add another hidden layer and use the \"Rectified Linear Unit\" for each\n",
    "  hidden layer. Can you still train the model with Adam with its default global\n",
    "  learning rate?\n",
    "\n",
    "- Bonus: try the Adadelta optimizer (no learning rate to set).\n",
    "\n",
    "Hint: use `optimizers.<TAB>` to tab-complete the list of implemented optimizers in Keras."
   ]
  },
  {
   "cell_type": "markdown",
   "metadata": {},
   "source": [
    "#### Adam optimizer"
   ]
  },
  {
   "cell_type": "code",
   "execution_count": 15,
   "metadata": {
    "collapsed": false
   },
   "outputs": [
    {
     "name": "stdout",
     "output_type": "stream",
     "text": [
      "Epoch 1/15\n",
      "1527/1527 [==============================] - 0s - loss: 1.5009 - acc: 0.5481     \n",
      "Epoch 2/15\n",
      "1527/1527 [==============================] - 0s - loss: 0.5612 - acc: 0.8867     \n",
      "Epoch 3/15\n",
      "1527/1527 [==============================] - 0s - loss: 0.3474 - acc: 0.9325     \n",
      "Epoch 4/15\n",
      "1527/1527 [==============================] - 0s - loss: 0.2515 - acc: 0.9555     \n",
      "Epoch 5/15\n",
      "1527/1527 [==============================] - 0s - loss: 0.1976 - acc: 0.9633     \n",
      "Epoch 6/15\n",
      "1527/1527 [==============================] - 0s - loss: 0.1618 - acc: 0.9712     \n",
      "Epoch 7/15\n",
      "1527/1527 [==============================] - 0s - loss: 0.1377 - acc: 0.9758     \n",
      "Epoch 8/15\n",
      "1527/1527 [==============================] - 0s - loss: 0.1183 - acc: 0.9823     \n",
      "Epoch 9/15\n",
      "1527/1527 [==============================] - 0s - loss: 0.1035 - acc: 0.9830     \n",
      "Epoch 10/15\n",
      "1527/1527 [==============================] - 0s - loss: 0.0908 - acc: 0.9849     \n",
      "Epoch 11/15\n",
      "1527/1527 [==============================] - 0s - loss: 0.0807 - acc: 0.9869     \n",
      "Epoch 12/15\n",
      "1527/1527 [==============================] - 0s - loss: 0.0725 - acc: 0.9882     \n",
      "Epoch 13/15\n",
      "1527/1527 [==============================] - 0s - loss: 0.0652 - acc: 0.9889     \n",
      "Epoch 14/15\n",
      "1527/1527 [==============================] - 0s - loss: 0.0587 - acc: 0.9921     \n",
      "Epoch 15/15\n",
      "1527/1527 [==============================] - 0s - loss: 0.0538 - acc: 0.9928     \n"
     ]
    },
    {
     "data": {
      "text/plain": [
       "<keras.callbacks.History at 0x2aa81effac8>"
      ]
     },
     "execution_count": 15,
     "metadata": {},
     "output_type": "execute_result"
    }
   ],
   "source": [
    "model = Sequential()\n",
    "model.add(Dense(H, input_dim=N))\n",
    "model.add(Activation(\"tanh\"))\n",
    "model.add(Dense(K))\n",
    "model.add(Activation(\"softmax\"))\n",
    "\n",
    "model.compile(optimizer=optimizers.Adam(),\n",
    "              loss='categorical_crossentropy', metrics=['accuracy'])\n",
    "\n",
    "model.fit(X_train, Y_train, nb_epoch=15, batch_size=32)"
   ]
  },
  {
   "cell_type": "markdown",
   "metadata": {},
   "source": [
    "Ici, Adam semble légèrement moins performant que le SGD classique (et nettement moins que le SGD avec Nesterov's momentum)."
   ]
  },
  {
   "cell_type": "markdown",
   "metadata": {},
   "source": [
    "#### RELU + ajout d'une couche cachée"
   ]
  },
  {
   "cell_type": "code",
   "execution_count": 16,
   "metadata": {
    "collapsed": false
   },
   "outputs": [
    {
     "name": "stdout",
     "output_type": "stream",
     "text": [
      "Epoch 1/15\n",
      "1527/1527 [==============================] - 0s - loss: 1.4740 - acc: 0.6110     \n",
      "Epoch 2/15\n",
      "1527/1527 [==============================] - 0s - loss: 0.4059 - acc: 0.9136     \n",
      "Epoch 3/15\n",
      "1527/1527 [==============================] - 0s - loss: 0.1768 - acc: 0.9633     \n",
      "Epoch 4/15\n",
      "1527/1527 [==============================] - 0s - loss: 0.1010 - acc: 0.9823     \n",
      "Epoch 5/15\n",
      "1527/1527 [==============================] - 0s - loss: 0.0678 - acc: 0.9882     \n",
      "Epoch 6/15\n",
      "1527/1527 [==============================] - 0s - loss: 0.0492 - acc: 0.9921     \n",
      "Epoch 7/15\n",
      "1527/1527 [==============================] - 0s - loss: 0.0355 - acc: 0.9954     \n",
      "Epoch 8/15\n",
      "1527/1527 [==============================] - 0s - loss: 0.0259 - acc: 0.9980     \n",
      "Epoch 9/15\n",
      "1527/1527 [==============================] - 0s - loss: 0.0195 - acc: 0.9987     \n",
      "Epoch 10/15\n",
      "1527/1527 [==============================] - 0s - loss: 0.0152 - acc: 0.9993     \n",
      "Epoch 11/15\n",
      "1527/1527 [==============================] - 0s - loss: 0.0121 - acc: 1.0000     \n",
      "Epoch 12/15\n",
      "1527/1527 [==============================] - 0s - loss: 0.0099 - acc: 1.0000     \n",
      "Epoch 13/15\n",
      "1527/1527 [==============================] - 0s - loss: 0.0085 - acc: 1.0000     \n",
      "Epoch 14/15\n",
      "1527/1527 [==============================] - 0s - loss: 0.0069 - acc: 1.0000     \n",
      "Epoch 15/15\n",
      "1527/1527 [==============================] - 0s - loss: 0.0057 - acc: 1.0000     \n"
     ]
    },
    {
     "data": {
      "text/plain": [
       "<keras.callbacks.History at 0x2aa856776a0>"
      ]
     },
     "execution_count": 16,
     "metadata": {},
     "output_type": "execute_result"
    }
   ],
   "source": [
    "model = Sequential()\n",
    "model.add(Dense(H, input_dim=N))\n",
    "model.add(Activation(\"relu\"))\n",
    "model.add(Dense(H))\n",
    "model.add(Activation(\"relu\"))\n",
    "model.add(Dense(K))\n",
    "model.add(Activation(\"softmax\"))\n",
    "\n",
    "model.compile(optimizer=optimizers.Adam(),\n",
    "              loss='categorical_crossentropy', metrics=['accuracy'])\n",
    "\n",
    "model.fit(X_train, Y_train, nb_epoch=15, batch_size=32)"
   ]
  },
  {
   "cell_type": "markdown",
   "metadata": {},
   "source": [
    "En rajoutant une couche cachée et en changeant les fonctions d'activation en RELU, on constate qu'on améliore la précision à la fin de l'étape d'optimisation. Conserver les paramètres par défaut d'Adam ne semble pas poser de problème."
   ]
  },
  {
   "cell_type": "markdown",
   "metadata": {},
   "source": [
    "#### Adadelta optimizer"
   ]
  },
  {
   "cell_type": "code",
   "execution_count": 17,
   "metadata": {
    "collapsed": false
   },
   "outputs": [
    {
     "name": "stdout",
     "output_type": "stream",
     "text": [
      "Epoch 1/15\n",
      "1527/1527 [==============================] - 0s - loss: 1.9068 - acc: 0.3405     \n",
      "Epoch 2/15\n",
      "1527/1527 [==============================] - 0s - loss: 1.1564 - acc: 0.7367     \n",
      "Epoch 3/15\n",
      "1527/1527 [==============================] - 0s - loss: 0.8070 - acc: 0.8350     \n",
      "Epoch 4/15\n",
      "1527/1527 [==============================] - 0s - loss: 0.6147 - acc: 0.8788     \n",
      "Epoch 5/15\n",
      "1527/1527 [==============================] - 0s - loss: 0.4924 - acc: 0.9057     \n",
      "Epoch 6/15\n",
      "1527/1527 [==============================] - 0s - loss: 0.4072 - acc: 0.9247     \n",
      "Epoch 7/15\n",
      "1527/1527 [==============================] - 0s - loss: 0.3452 - acc: 0.9378     \n",
      "Epoch 8/15\n",
      "1527/1527 [==============================] - 0s - loss: 0.2979 - acc: 0.9424     \n",
      "Epoch 9/15\n",
      "1527/1527 [==============================] - 0s - loss: 0.2608 - acc: 0.9528     \n",
      "Epoch 10/15\n",
      "1527/1527 [==============================] - 0s - loss: 0.2314 - acc: 0.9548     \n",
      "Epoch 11/15\n",
      "1527/1527 [==============================] - 0s - loss: 0.2073 - acc: 0.9594     \n",
      "Epoch 12/15\n",
      "1527/1527 [==============================] - 0s - loss: 0.1872 - acc: 0.9640     \n",
      "Epoch 13/15\n",
      "1527/1527 [==============================] - 0s - loss: 0.1705 - acc: 0.9673     \n",
      "Epoch 14/15\n",
      "1527/1527 [==============================] - 0s - loss: 0.1562 - acc: 0.9692     \n",
      "Epoch 15/15\n",
      "1527/1527 [==============================] - 0s - loss: 0.1440 - acc: 0.9725     \n"
     ]
    },
    {
     "data": {
      "text/plain": [
       "<keras.callbacks.History at 0x2aa859eae80>"
      ]
     },
     "execution_count": 17,
     "metadata": {},
     "output_type": "execute_result"
    }
   ],
   "source": [
    "model = Sequential()\n",
    "model.add(Dense(H, input_dim=N))\n",
    "model.add(Activation(\"tanh\"))\n",
    "model.add(Dense(K))\n",
    "model.add(Activation(\"softmax\"))\n",
    "\n",
    "model.compile(optimizer=optimizers.Adadelta(),\n",
    "              loss='categorical_crossentropy', metrics=['accuracy'])\n",
    "\n",
    "model.fit(X_train, Y_train, nb_epoch=15, batch_size=32)"
   ]
  },
  {
   "cell_type": "code",
   "execution_count": 18,
   "metadata": {
    "collapsed": false
   },
   "outputs": [
    {
     "name": "stdout",
     "output_type": "stream",
     "text": [
      "Epoch 1/15\n",
      "1527/1527 [==============================] - 0s - loss: 1.3653 - acc: 0.6431     \n",
      "Epoch 2/15\n",
      "1527/1527 [==============================] - 0s - loss: 0.3693 - acc: 0.9312     \n",
      "Epoch 3/15\n",
      "1527/1527 [==============================] - 0s - loss: 0.1650 - acc: 0.9705     \n",
      "Epoch 4/15\n",
      "1527/1527 [==============================] - 0s - loss: 0.1005 - acc: 0.9804     \n",
      "Epoch 5/15\n",
      "1527/1527 [==============================] - 0s - loss: 0.0685 - acc: 0.9869     \n",
      "Epoch 6/15\n",
      "1527/1527 [==============================] - 0s - loss: 0.0479 - acc: 0.9935     \n",
      "Epoch 7/15\n",
      "1527/1527 [==============================] - 0s - loss: 0.0345 - acc: 0.9967     \n",
      "Epoch 8/15\n",
      "1527/1527 [==============================] - 0s - loss: 0.0254 - acc: 0.9987     \n",
      "Epoch 9/15\n",
      "1527/1527 [==============================] - 0s - loss: 0.0198 - acc: 0.9987     \n",
      "Epoch 10/15\n",
      "1527/1527 [==============================] - 0s - loss: 0.0150 - acc: 0.9993     \n",
      "Epoch 11/15\n",
      "1527/1527 [==============================] - 0s - loss: 0.0115 - acc: 1.0000     \n",
      "Epoch 12/15\n",
      "1527/1527 [==============================] - 0s - loss: 0.0095 - acc: 1.0000     \n",
      "Epoch 13/15\n",
      "1527/1527 [==============================] - 0s - loss: 0.0077 - acc: 1.0000     \n",
      "Epoch 14/15\n",
      "1527/1527 [==============================] - 0s - loss: 0.0065 - acc: 1.0000     \n",
      "Epoch 15/15\n",
      "1527/1527 [==============================] - 0s - loss: 0.0055 - acc: 1.0000     \n"
     ]
    },
    {
     "data": {
      "text/plain": [
       "<keras.callbacks.History at 0x2aa86dc5630>"
      ]
     },
     "execution_count": 18,
     "metadata": {},
     "output_type": "execute_result"
    }
   ],
   "source": [
    "# %load solutions/keras_adam_and_adadelta.py\n",
    "model = Sequential()\n",
    "model.add(Dense(H, input_dim=N))\n",
    "model.add(Activation(\"relu\"))\n",
    "model.add(Dense(H))\n",
    "model.add(Activation(\"relu\"))\n",
    "model.add(Dense(K))\n",
    "model.add(Activation(\"softmax\"))\n",
    "model.compile(optimizer=\"adam\", loss='categorical_crossentropy',\n",
    "              metrics=['accuracy'])\n",
    "\n",
    "model.fit(X_train, Y_train, nb_epoch=15, batch_size=32)\n",
    "\n",
    "# Analysis:\n",
    "#\n",
    "# Adam with its default global learning rate of 0.001 tends to work\n",
    "# in many settings often converge as fast or faster than SGD\n",
    "# with a well tuned learning rate.\n",
    "#\n",
    "# Adadelta has no learning rate setting at all\n",
    "#\n",
    "# References:\n",
    "#\n",
    "# Adadelta: https://arxiv.org/abs/1212.5701\n",
    "# Adam:     https://arxiv.org/abs/1412.6980"
   ]
  },
  {
   "cell_type": "markdown",
   "metadata": {},
   "source": [
    "### c) Exercises: forward pass and generalization\n",
    "\n",
    "- Compute predictions on test set using `model.predict_classes(...)`\n",
    "- Compute average accuracy of the model on the test set"
   ]
  },
  {
   "cell_type": "code",
   "execution_count": 19,
   "metadata": {
    "collapsed": false
   },
   "outputs": [
    {
     "name": "stdout",
     "output_type": "stream",
     "text": [
      "270/270 [==============================] - 0s     \n",
      "\n",
      "Le taux de bien classés sur le test set est de 0.981481481481\n"
     ]
    }
   ],
   "source": [
    "z=model.predict_classes(X_test)\n",
    "print('\\nLe taux de bien classés sur le test set est de '+str(np.mean(z==y_test)))"
   ]
  },
  {
   "cell_type": "code",
   "execution_count": 20,
   "metadata": {
    "collapsed": false
   },
   "outputs": [
    {
     "name": "stdout",
     "output_type": "stream",
     "text": [
      "test acc: 0.9815\n"
     ]
    },
    {
     "data": {
      "image/png": "[encoded data removed]",
      "text/plain": [
       "<matplotlib.figure.Figure at 0x2aa86edef28>"
      ]
     },
     "metadata": {},
     "output_type": "display_data"
    }
   ],
   "source": [
    "# %load solutions/keras_accuracy_on_test_set.py\n",
    "y_predicted = model.predict_classes(X_test, verbose=0)\n",
    "\n",
    "# Let's display the first inputs image, the predicted labels and the true labels\n",
    "plt.figure(figsize=(12, 9))\n",
    "for i in range(15):\n",
    "    plt.subplot(3, 5, i + 1)\n",
    "    plt.imshow(scaler.inverse_transform(X_test[i]).reshape(8, 8),\n",
    "               cmap=plt.cm.gray_r, interpolation='nearest')\n",
    "    plt.title(\"predicted label: %d\\n true label: %d\"\n",
    "              % (y_predicted[i], y_test[i]))\n",
    "    \n",
    "print(\"test acc: %0.4f\" % np.mean(y_predicted == y_test))"
   ]
  },
  {
   "cell_type": "markdown",
   "metadata": {},
   "source": [
    "- Compute the conditional probabilities of sample number 42 of the test set with `model.predict_proba(...)`\n",
    "- Derive the loss (negative log likelihood of that sample) using numpy operations\n",
    "- Compute the average negative log likelihood of the test set.\n",
    "- Compare this value to the training loss reported by keras: is the model overfitting or underfitting?\n",
    "\n",
    "Note: you might need to retrain the model with a larger number of epochs (e.g. 50) to ensure that it has fully converged."
   ]
  },
  {
   "cell_type": "code",
   "execution_count": 21,
   "metadata": {
    "collapsed": false
   },
   "outputs": [
    {
     "name": "stdout",
     "output_type": "stream",
     "text": [
      "Epoch 1/50\n",
      "1527/1527 [==============================] - 0s - loss: 1.3997 - acc: 0.6398     \n",
      "Epoch 2/50\n",
      "1527/1527 [==============================] - 0s - loss: 0.3576 - acc: 0.9214     \n",
      "Epoch 3/50\n",
      "1527/1527 [==============================] - 0s - loss: 0.1586 - acc: 0.9614     \n",
      "Epoch 4/50\n",
      "1527/1527 [==============================] - 0s - loss: 0.0951 - acc: 0.9849     \n",
      "Epoch 5/50\n",
      "1527/1527 [==============================] - 0s - loss: 0.0625 - acc: 0.9915     \n",
      "Epoch 6/50\n",
      "1527/1527 [==============================] - 0s - loss: 0.0446 - acc: 0.9948     \n",
      "Epoch 7/50\n",
      "1527/1527 [==============================] - 0s - loss: 0.0317 - acc: 0.9967     \n",
      "Epoch 8/50\n",
      "1527/1527 [==============================] - 0s - loss: 0.0238 - acc: 0.9987     \n",
      "Epoch 9/50\n",
      "1527/1527 [==============================] - 0s - loss: 0.0177 - acc: 0.9993     \n",
      "Epoch 10/50\n",
      "1527/1527 [==============================] - 0s - loss: 0.0139 - acc: 0.9993     \n",
      "Epoch 11/50\n",
      "1527/1527 [==============================] - 0s - loss: 0.0109 - acc: 0.9993     \n",
      "Epoch 12/50\n",
      "1527/1527 [==============================] - 0s - loss: 0.0088 - acc: 1.0000     \n",
      "Epoch 13/50\n",
      "1527/1527 [==============================] - 0s - loss: 0.0074 - acc: 1.0000     \n",
      "Epoch 14/50\n",
      "1527/1527 [==============================] - 0s - loss: 0.0061 - acc: 1.0000     \n",
      "Epoch 15/50\n",
      "1527/1527 [==============================] - 0s - loss: 0.0052 - acc: 1.0000     \n",
      "Epoch 16/50\n",
      "1527/1527 [==============================] - 0s - loss: 0.0044 - acc: 1.0000     \n",
      "Epoch 17/50\n",
      "1527/1527 [==============================] - 0s - loss: 0.0039 - acc: 1.0000     \n",
      "Epoch 18/50\n",
      "1527/1527 [==============================] - 0s - loss: 0.0034 - acc: 1.0000     \n",
      "Epoch 19/50\n",
      "1527/1527 [==============================] - 0s - loss: 0.0030 - acc: 1.0000     \n",
      "Epoch 20/50\n",
      "1527/1527 [==============================] - 0s - loss: 0.0027 - acc: 1.0000     \n",
      "Epoch 21/50\n",
      "1527/1527 [==============================] - 0s - loss: 0.0024 - acc: 1.0000     \n",
      "Epoch 22/50\n",
      "1527/1527 [==============================] - 0s - loss: 0.0021 - acc: 1.0000     \n",
      "Epoch 23/50\n",
      "1527/1527 [==============================] - 0s - loss: 0.0019 - acc: 1.0000     \n",
      "Epoch 24/50\n",
      "1527/1527 [==============================] - 0s - loss: 0.0018 - acc: 1.0000     \n",
      "Epoch 25/50\n",
      "1527/1527 [==============================] - 0s - loss: 0.0016 - acc: 1.0000     \n",
      "Epoch 26/50\n",
      "1527/1527 [==============================] - 0s - loss: 0.0015 - acc: 1.0000     \n",
      "Epoch 27/50\n",
      "1527/1527 [==============================] - 0s - loss: 0.0013 - acc: 1.0000     \n",
      "Epoch 28/50\n",
      "1527/1527 [==============================] - 0s - loss: 0.0012 - acc: 1.0000     \n",
      "Epoch 29/50\n",
      "1527/1527 [==============================] - 0s - loss: 0.0012 - acc: 1.0000     \n",
      "Epoch 30/50\n",
      "1527/1527 [==============================] - 0s - loss: 0.0011 - acc: 1.0000     \n",
      "Epoch 31/50\n",
      "1527/1527 [==============================] - 0s - loss: 9.8076e-04 - acc: 1.0000     \n",
      "Epoch 32/50\n",
      "1527/1527 [==============================] - 0s - loss: 9.1265e-04 - acc: 1.0000     \n",
      "Epoch 33/50\n",
      "1527/1527 [==============================] - 0s - loss: 8.4874e-04 - acc: 1.0000     \n",
      "Epoch 34/50\n",
      "1527/1527 [==============================] - 0s - loss: 7.9073e-04 - acc: 1.0000     \n",
      "Epoch 35/50\n",
      "1527/1527 [==============================] - 0s - loss: 7.3484e-04 - acc: 1.0000     \n",
      "Epoch 36/50\n",
      "1527/1527 [==============================] - 0s - loss: 6.9082e-04 - acc: 1.0000     \n",
      "Epoch 37/50\n",
      "1527/1527 [==============================] - 0s - loss: 6.4886e-04 - acc: 1.0000     \n",
      "Epoch 38/50\n",
      "1527/1527 [==============================] - 0s - loss: 6.0988e-04 - acc: 1.0000     \n",
      "Epoch 39/50\n",
      "1527/1527 [==============================] - 0s - loss: 5.7493e-04 - acc: 1.0000     \n",
      "Epoch 40/50\n",
      "1527/1527 [==============================] - 0s - loss: 5.3972e-04 - acc: 1.0000     \n",
      "Epoch 41/50\n",
      "1527/1527 [==============================] - 0s - loss: 5.0926e-04 - acc: 1.0000     \n",
      "Epoch 42/50\n",
      "1527/1527 [==============================] - 0s - loss: 4.8012e-04 - acc: 1.0000     \n",
      "Epoch 43/50\n",
      "1527/1527 [==============================] - 0s - loss: 4.5383e-04 - acc: 1.0000     \n",
      "Epoch 44/50\n",
      "1527/1527 [==============================] - 0s - loss: 4.3117e-04 - acc: 1.0000     \n",
      "Epoch 45/50\n",
      "1527/1527 [==============================] - 0s - loss: 4.0738e-04 - acc: 1.0000     \n",
      "Epoch 46/50\n",
      "1527/1527 [==============================] - 0s - loss: 3.8739e-04 - acc: 1.0000     \n",
      "Epoch 47/50\n",
      "1527/1527 [==============================] - 0s - loss: 3.6718e-04 - acc: 1.0000     \n",
      "Epoch 48/50\n",
      "1527/1527 [==============================] - 0s - loss: 3.4885e-04 - acc: 1.0000     \n",
      "Epoch 49/50\n",
      "1527/1527 [==============================] - 0s - loss: 3.3054e-04 - acc: 1.0000     \n",
      "Epoch 50/50\n",
      "1527/1527 [==============================] - 0s - loss: 3.1379e-04 - acc: 1.0000     \n"
     ]
    },
    {
     "data": {
      "text/plain": [
       "<keras.callbacks.History at 0x2aa8885ea90>"
      ]
     },
     "execution_count": 21,
     "metadata": {},
     "output_type": "execute_result"
    }
   ],
   "source": [
    "#On réentraîne le modèle avec plus d'epochs:\n",
    "model = Sequential()\n",
    "model.add(Dense(H, input_dim=N))\n",
    "model.add(Activation(\"relu\"))\n",
    "model.add(Dense(H))\n",
    "model.add(Activation(\"relu\"))\n",
    "model.add(Dense(K))\n",
    "model.add(Activation(\"softmax\"))\n",
    "\n",
    "model.compile(optimizer=optimizers.Adam(),\n",
    "              loss='categorical_crossentropy', metrics=['accuracy'])\n",
    "\n",
    "model.fit(X_train, Y_train, nb_epoch=50, batch_size=32)"
   ]
  },
  {
   "cell_type": "code",
   "execution_count": 22,
   "metadata": {
    "collapsed": false
   },
   "outputs": [
    {
     "name": "stdout",
     "output_type": "stream",
     "text": [
      "Le taux de bien classés sur le test set est de 0.988888888889\n"
     ]
    }
   ],
   "source": [
    "#Compute accuracy\n",
    "z=model.predict_classes(X_test,verbose=0)\n",
    "print('Le taux de bien classés sur le test set est de '+str(np.mean(z==y_test)))"
   ]
  },
  {
   "cell_type": "code",
   "execution_count": 23,
   "metadata": {
    "collapsed": false
   },
   "outputs": [
    {
     "data": {
      "text/plain": [
       "array([[  2.28299202e-09,   6.58639143e-09,   1.60454006e-09,\n",
       "          6.35101638e-10,   2.23087028e-07,   7.15108683e-08,\n",
       "          2.43983802e-08,   2.71736217e-10,   9.99998569e-01,\n",
       "          1.02381216e-06]], dtype=float32)"
      ]
     },
     "execution_count": 23,
     "metadata": {},
     "output_type": "execute_result"
    }
   ],
   "source": [
    "#Conditional probabilities of sample number 42 of the test set\n",
    "model.predict_proba(X_test[42,:].reshape(1,-1),verbose=0)"
   ]
  },
  {
   "cell_type": "code",
   "execution_count": 24,
   "metadata": {
    "collapsed": false
   },
   "outputs": [
    {
     "name": "stdout",
     "output_type": "stream",
     "text": [
      "La classe prédite pour l'échantillon 42 est : 8\n"
     ]
    }
   ],
   "source": [
    "print(\"La classe prédite pour l'échantillon 42 est : \"+str(np.argmax(model.predict_proba(X_test[42,:].reshape(1,-1),verbose=0))))"
   ]
  },
  {
   "cell_type": "code",
   "execution_count": 26,
   "metadata": {
    "collapsed": false
   },
   "outputs": [
    {
     "name": "stdout",
     "output_type": "stream",
     "text": [
      "La perte associée à cet échantillon est de : 1.43051e-06\n"
     ]
    }
   ],
   "source": [
    "#Negative log-likelihood of that sample\n",
    "nll_42=-np.log(np.max(model.predict_proba(X_test[42,:].reshape(1,-1),verbose=0)))\n",
    "print(\"La perte associée à cet échantillon est de : \"+str(nll_42))"
   ]
  },
  {
   "cell_type": "code",
   "execution_count": 27,
   "metadata": {
    "collapsed": false
   },
   "outputs": [
    {
     "name": "stdout",
     "output_type": "stream",
     "text": [
      "La perte moyenne sur l'échantillon de test est de : 0.0162751\n"
     ]
    }
   ],
   "source": [
    "#Average nll for the test set\n",
    "avg_nll=np.mean(-np.log(np.max(model.predict_proba(X_test,verbose=0),axis=1)))\n",
    "print(\"La perte moyenne sur l'échantillon de test est de : \"+str(avg_nll))"
   ]
  },
  {
   "cell_type": "markdown",
   "metadata": {},
   "source": [
    "D'après Keras (cf. quelques cellules plus haut), la perte sur l'échantillon d'entraînement est d'environ 3.45e-4. En outre, le taux de bonnes prédictions est égal à 1 (sur le test), il n'est donc pas possible que l'algorithme sous-apprenne.\n",
    "\n",
    "Au contraire, on a vu (également plus haut) que le taux de bonnes prédictions sur l'échantillon de test était légèrement plus faible que sur l'échantillon d'entraînement. Le réseau surapprend donc un peu."
   ]
  },
  {
   "cell_type": "code",
   "execution_count": 28,
   "metadata": {
    "collapsed": false
   },
   "outputs": [
    {
     "name": "stdout",
     "output_type": "stream",
     "text": [
      "Predicted probability distribution for sample #42:\n",
      "0: 0.00000\n",
      "1: 0.00000\n",
      "2: 0.00000\n",
      "3: 0.00000\n",
      "4: 0.00000\n",
      "5: 0.00000\n",
      "6: 0.00000\n",
      "7: 0.00000\n",
      "8: 1.00000\n",
      "9: 0.00000\n",
      "\n",
      "Likelihood of true class for sample #42:\n",
      "0.999999\n",
      "\n",
      "Average negative loglikelihood of the test set:\n",
      "0.054435520843\n"
     ]
    },
    {
     "data": {
      "image/png": "[encoded data removed]",
      "text/plain": [
       "<matplotlib.figure.Figure at 0x2aa8898e7f0>"
      ]
     },
     "metadata": {},
     "output_type": "display_data"
    }
   ],
   "source": [
    "# %load solutions/keras_loss_on_test_set.py\n",
    "sample_idx = 42\n",
    "plt.imshow(scaler.inverse_transform(X_test[sample_idx]).reshape(8, 8),\n",
    "           cmap=plt.cm.gray_r, interpolation='nearest')\n",
    "plt.title(\"true label: %d\" % y_test[sample_idx])\n",
    "\n",
    "# Compute all probabilities for all samples in the test set at\n",
    "# once:\n",
    "probabilities = model.predict_proba(X_test, verbose=0)\n",
    "\n",
    "print(\"Predicted probability distribution for sample #42:\")\n",
    "for class_idx, prob in enumerate(probabilities[sample_idx]):\n",
    "    print(\"%d: %0.5f\" % (class_idx, prob))\n",
    "print()\n",
    "    \n",
    "print(\"Likelihood of true class for sample #42:\")\n",
    "print(probabilities[sample_idx, y_test[sample_idx]])\n",
    "print()\n",
    "\n",
    "print(\"Average negative loglikelihood of the test set:\")\n",
    "Y_test = to_categorical(y_test)\n",
    "loglikelihoods = np.sum(np.log(probabilities) * Y_test, axis=1)\n",
    "print(-np.mean(loglikelihoods))\n",
    "\n",
    "# Analysis\n",
    "#\n",
    "# Depending on the random init, the 2 hidden layers net trained with\n",
    "# adam seem to converge to a training loss very close to zero when\n",
    "# given enough epochs (the accuracy on the training set is 100%).\n",
    "# This model is therefore not underfitting: it has enough capacity\n",
    "# to perfectly memorise the full training set.\n",
    "#\n",
    "# On the test set the negative log likelihood is also close to zero\n",
    "# but never as much as on the training set (~= 0.07) even after\n",
    "# increasing the maximum number of epochs. The model is therefore\n",
    "# overfitting as little."
   ]
  },
  {
   "cell_type": "markdown",
   "metadata": {},
   "source": [
    "## d) Home assignment: impact of initialization\n",
    "\n",
    "Let us now study the impact of a bad initialization when training\n",
    "a deep feed forward network.\n",
    "\n",
    "By default Keras dense layers use the \"Glorot Uniform\" initialization\n",
    "strategy to initialize the weight matrices:\n",
    "\n",
    "- each weight coefficient is randomly sampled from [-scale, scale]\n",
    "- scale is proportional to $\\frac{1}{\\sqrt{n_{in} + n_{out}}}$\n",
    "\n",
    "This strategy is known to work well to initialize deep neural networks\n",
    "with \"tanh\" or \"relu\" activation functions and then trained with\n",
    "standard SGD.\n",
    "\n",
    "To assess the impact of initialization let us plug an alternative init\n",
    "scheme into a 2 hidden layers networks with \"tanh\" activations.\n",
    "For the sake of the example let's use normal distributed weights\n",
    "with a manually adjustable scale (standard deviation) and see the\n",
    "impact the scale value:"
   ]
  },
  {
   "cell_type": "code",
   "execution_count": 29,
   "metadata": {
    "collapsed": false
   },
   "outputs": [
    {
     "name": "stdout",
     "output_type": "stream",
     "text": [
      "Epoch 1/10\n",
      "1527/1527 [==============================] - 0s - loss: 2.3035     \n",
      "Epoch 2/10\n",
      "1527/1527 [==============================] - 0s - loss: 2.3027     \n",
      "Epoch 3/10\n",
      "1527/1527 [==============================] - 0s - loss: 2.3021     \n",
      "Epoch 4/10\n",
      "1527/1527 [==============================] - 0s - loss: 2.3003     \n",
      "Epoch 5/10\n",
      "1527/1527 [==============================] - 0s - loss: 2.2882     \n",
      "Epoch 6/10\n",
      "1527/1527 [==============================] - 0s - loss: 2.1300     \n",
      "Epoch 7/10\n",
      "1527/1527 [==============================] - 0s - loss: 1.8176     \n",
      "Epoch 8/10\n",
      "1527/1527 [==============================] - 0s - loss: 1.5078     \n",
      "Epoch 9/10\n",
      "1527/1527 [==============================] - 0s - loss: 1.2263     \n",
      "Epoch 10/10\n",
      "1527/1527 [==============================] - 0s - loss: 0.9683     \n"
     ]
    }
   ],
   "source": [
    "from keras import initializations\n",
    "\n",
    "def normal_init(shape, name=None):\n",
    "    return initializations.normal(shape, scale=0.01, name=name)\n",
    "\n",
    "\n",
    "model = Sequential()\n",
    "model.add(Dense(H, input_dim=N, init=normal_init))\n",
    "model.add(Activation(\"tanh\"))\n",
    "model.add(Dense(K, init=normal_init))\n",
    "model.add(Activation(\"tanh\"))\n",
    "model.add(Dense(K, init=normal_init))\n",
    "model.add(Activation(\"softmax\"))\n",
    "\n",
    "model.compile(optimizer=optimizers.SGD(lr=0.1),\n",
    "              loss='categorical_crossentropy')\n",
    "\n",
    "history = model.fit(X_train, Y_train,\n",
    "                    nb_epoch=10, batch_size=32)"
   ]
  },
  {
   "cell_type": "markdown",
   "metadata": {},
   "source": [
    "#### Questions:\n",
    "\n",
    "- Try the following initialization schemes and see whether\n",
    "  the SGD algorithm can successfully train the network or\n",
    "  not:\n",
    "  \n",
    "  - a very small e.g. `scale=1e-3`\n",
    "  - a larger scale e.g. `scale=1` or `10`\n",
    "  - initialize all weights to 0 (constant initialization)\n",
    "  \n",
    "- What do you observe? Can you find an explanation for those\n",
    "  outcomes?\n",
    "\n",
    "- Are better solvers such as SGD with momentum or Adam able\n",
    "  to deal better with such bad initializations?"
   ]
  },
  {
   "cell_type": "markdown",
   "metadata": {},
   "source": [
    "$scale = 1e-3$"
   ]
  },
  {
   "cell_type": "code",
   "execution_count": 30,
   "metadata": {
    "collapsed": false
   },
   "outputs": [
    {
     "name": "stdout",
     "output_type": "stream",
     "text": [
      "Epoch 1/10\n",
      "1527/1527 [==============================] - 0s - loss: 2.3035     \n",
      "Epoch 2/10\n",
      "1527/1527 [==============================] - 0s - loss: 2.3033     \n",
      "Epoch 3/10\n",
      "1527/1527 [==============================] - 0s - loss: 2.3030     \n",
      "Epoch 4/10\n",
      "1527/1527 [==============================] - 0s - loss: 2.3030     \n",
      "Epoch 5/10\n",
      "1527/1527 [==============================] - 0s - loss: 2.3030     \n",
      "Epoch 6/10\n",
      "1527/1527 [==============================] - 0s - loss: 2.3028     \n",
      "Epoch 7/10\n",
      "1527/1527 [==============================] - 0s - loss: 2.3030     \n",
      "Epoch 8/10\n",
      "1527/1527 [==============================] - 0s - loss: 2.3030     \n",
      "Epoch 9/10\n",
      "1527/1527 [==============================] - 0s - loss: 2.3030     \n",
      "Epoch 10/10\n",
      "1527/1527 [==============================] - 0s - loss: 2.3030     \n"
     ]
    }
   ],
   "source": [
    "def normal_init(shape, name=None):\n",
    "    return initializations.normal(shape, scale=1e-3, name=name)\n",
    "\n",
    "model = Sequential()\n",
    "model.add(Dense(H, input_dim=N, init=normal_init))\n",
    "model.add(Activation(\"tanh\"))\n",
    "model.add(Dense(K, init=normal_init))\n",
    "model.add(Activation(\"tanh\"))\n",
    "model.add(Dense(K, init=normal_init))\n",
    "model.add(Activation(\"softmax\"))\n",
    "\n",
    "model.compile(optimizer=optimizers.SGD(lr=0.1),\n",
    "              loss='categorical_crossentropy')\n",
    "\n",
    "history = model.fit(X_train, Y_train,\n",
    "                    nb_epoch=10, batch_size=32)"
   ]
  },
  {
   "cell_type": "markdown",
   "metadata": {},
   "source": [
    "La perte ne diminue pas. Elle remonte à un moment. C'est lié au fait que le 0 est un point-selle pour l'étape d'optimisation: une plus faible variance pour l'échantillonage (gaussien centré) d'initialisation entraîne donc des valeurs plus resserrées autour de 0, et donc des gradients plus petits."
   ]
  },
  {
   "cell_type": "markdown",
   "metadata": {},
   "source": [
    "$scale = 1$"
   ]
  },
  {
   "cell_type": "code",
   "execution_count": 31,
   "metadata": {
    "collapsed": false
   },
   "outputs": [
    {
     "name": "stdout",
     "output_type": "stream",
     "text": [
      "Epoch 1/10\n",
      "1527/1527 [==============================] - 0s - loss: 3.1150     \n",
      "Epoch 2/10\n",
      "1527/1527 [==============================] - 0s - loss: 1.7668     \n",
      "Epoch 3/10\n",
      "1527/1527 [==============================] - 0s - loss: 1.3178     \n",
      "Epoch 4/10\n",
      "1527/1527 [==============================] - 0s - loss: 1.1059     \n",
      "Epoch 5/10\n",
      "1527/1527 [==============================] - 0s - loss: 0.9626     \n",
      "Epoch 6/10\n",
      "1527/1527 [==============================] - 0s - loss: 0.8624     \n",
      "Epoch 7/10\n",
      "1527/1527 [==============================] - 0s - loss: 0.7918     \n",
      "Epoch 8/10\n",
      "1527/1527 [==============================] - 0s - loss: 0.7343     \n",
      "Epoch 9/10\n",
      "1527/1527 [==============================] - 0s - loss: 0.6848     \n",
      "Epoch 10/10\n",
      "1527/1527 [==============================] - 0s - loss: 0.6438     \n"
     ]
    }
   ],
   "source": [
    "def normal_init(shape, name=None):\n",
    "    return initializations.normal(shape, scale=1, name=name)\n",
    "\n",
    "model = Sequential()\n",
    "model.add(Dense(H, input_dim=N, init=normal_init))\n",
    "model.add(Activation(\"tanh\"))\n",
    "model.add(Dense(K, init=normal_init))\n",
    "model.add(Activation(\"tanh\"))\n",
    "model.add(Dense(K, init=normal_init))\n",
    "model.add(Activation(\"softmax\"))\n",
    "\n",
    "model.compile(optimizer=optimizers.SGD(lr=0.1),\n",
    "              loss='categorical_crossentropy')\n",
    "\n",
    "history = model.fit(X_train, Y_train,\n",
    "                    nb_epoch=10, batch_size=32)"
   ]
  },
  {
   "cell_type": "markdown",
   "metadata": {},
   "source": [
    "La perte diminue plus rapidement qu'au début."
   ]
  },
  {
   "cell_type": "markdown",
   "metadata": {},
   "source": [
    "$scale = 10$"
   ]
  },
  {
   "cell_type": "code",
   "execution_count": 32,
   "metadata": {
    "collapsed": false
   },
   "outputs": [
    {
     "name": "stdout",
     "output_type": "stream",
     "text": [
      "Epoch 1/10\n",
      "1527/1527 [==============================] - 0s - loss: 14.0138     \n",
      "Epoch 2/10\n",
      "1527/1527 [==============================] - 0s - loss: 13.9195     \n",
      "Epoch 3/10\n",
      "1527/1527 [==============================] - 0s - loss: 13.8074     \n",
      "Epoch 4/10\n",
      "1527/1527 [==============================] - 0s - loss: 13.7471     \n",
      "Epoch 5/10\n",
      "1527/1527 [==============================] - 0s - loss: 13.7296     \n",
      "Epoch 6/10\n",
      "1527/1527 [==============================] - 0s - loss: 13.6814     \n",
      "Epoch 7/10\n",
      "1527/1527 [==============================] - 0s - loss: 13.6591     \n",
      "Epoch 8/10\n",
      "1527/1527 [==============================] - 0s - loss: 13.5945     \n",
      "Epoch 9/10\n",
      "1527/1527 [==============================] - 0s - loss: 13.5583     \n",
      "Epoch 10/10\n",
      "1527/1527 [==============================] - 0s - loss: 13.5119     \n"
     ]
    }
   ],
   "source": [
    "def normal_init(shape, name=None):\n",
    "    return initializations.normal(shape, scale=10, name=name)\n",
    "\n",
    "model = Sequential()\n",
    "model.add(Dense(H, input_dim=N, init=normal_init))\n",
    "model.add(Activation(\"tanh\"))\n",
    "model.add(Dense(K, init=normal_init))\n",
    "model.add(Activation(\"tanh\"))\n",
    "model.add(Dense(K, init=normal_init))\n",
    "model.add(Activation(\"softmax\"))\n",
    "\n",
    "model.compile(optimizer=optimizers.SGD(lr=0.1),\n",
    "              loss='categorical_crossentropy')\n",
    "\n",
    "history = model.fit(X_train, Y_train,\n",
    "                    nb_epoch=10, batch_size=32)"
   ]
  },
  {
   "cell_type": "markdown",
   "metadata": {},
   "source": [
    "Là, la variance est trop grande puisque la perte commence très grande et diminue assez peu."
   ]
  },
  {
   "cell_type": "markdown",
   "metadata": {},
   "source": [
    "Initialisation à zéro"
   ]
  },
  {
   "cell_type": "code",
   "execution_count": 33,
   "metadata": {
    "collapsed": false
   },
   "outputs": [
    {
     "name": "stdout",
     "output_type": "stream",
     "text": [
      "Epoch 1/10\n",
      "1527/1527 [==============================] - 0s - loss: 2.3035     \n",
      "Epoch 2/10\n",
      "1527/1527 [==============================] - 0s - loss: 2.3033     \n",
      "Epoch 3/10\n",
      "1527/1527 [==============================] - 0s - loss: 2.3031     \n",
      "Epoch 4/10\n",
      "1527/1527 [==============================] - 0s - loss: 2.3029     \n",
      "Epoch 5/10\n",
      "1527/1527 [==============================] - 0s - loss: 2.3031     \n",
      "Epoch 6/10\n",
      "1527/1527 [==============================] - 0s - loss: 2.3029     \n",
      "Epoch 7/10\n",
      "1527/1527 [==============================] - 0s - loss: 2.3031     \n",
      "Epoch 8/10\n",
      "1527/1527 [==============================] - 0s - loss: 2.3031     \n",
      "Epoch 9/10\n",
      "1527/1527 [==============================] - 0s - loss: 2.3031     \n",
      "Epoch 10/10\n",
      "1527/1527 [==============================] - 0s - loss: 2.3032     \n"
     ]
    }
   ],
   "source": [
    "model = Sequential()\n",
    "model.add(Dense(H, input_dim=N, init='zero'))\n",
    "model.add(Activation(\"tanh\"))\n",
    "model.add(Dense(K, init='zero'))\n",
    "model.add(Activation(\"tanh\"))\n",
    "model.add(Dense(K, init='zero'))\n",
    "model.add(Activation(\"softmax\"))\n",
    "\n",
    "model.compile(optimizer=optimizers.SGD(lr=0.1),\n",
    "              loss='categorical_crossentropy')\n",
    "\n",
    "history = model.fit(X_train, Y_train,\n",
    "                    nb_epoch=10, batch_size=32)"
   ]
  },
  {
   "cell_type": "markdown",
   "metadata": {},
   "source": [
    "Comme on pouvait s'y attendre, la fonction de perte ne diminue pas, on est sur un point-selle."
   ]
  },
  {
   "cell_type": "markdown",
   "metadata": {},
   "source": [
    "#### Adam optimizer + SGD with momentum"
   ]
  },
  {
   "cell_type": "markdown",
   "metadata": {},
   "source": [
    "$scale = 1e-3$"
   ]
  },
  {
   "cell_type": "code",
   "execution_count": 34,
   "metadata": {
    "collapsed": false
   },
   "outputs": [
    {
     "name": "stdout",
     "output_type": "stream",
     "text": [
      "Epoch 1/10\n",
      "1527/1527 [==============================] - 0s - loss: 2.2413     \n",
      "Epoch 2/10\n",
      "1527/1527 [==============================] - 0s - loss: 1.8996     \n",
      "Epoch 3/10\n",
      "1527/1527 [==============================] - 0s - loss: 1.5996     \n",
      "Epoch 4/10\n",
      "1527/1527 [==============================] - 0s - loss: 1.3865     \n",
      "Epoch 5/10\n",
      "1527/1527 [==============================] - 0s - loss: 1.2296     \n",
      "Epoch 6/10\n",
      "1527/1527 [==============================] - 0s - loss: 1.1090     \n",
      "Epoch 7/10\n",
      "1527/1527 [==============================] - 0s - loss: 1.0115     \n",
      "Epoch 8/10\n",
      "1527/1527 [==============================] - 0s - loss: 0.9305     \n",
      "Epoch 9/10\n",
      "1527/1527 [==============================] - 0s - loss: 0.8593     \n",
      "Epoch 10/10\n",
      "1527/1527 [==============================] - 0s - loss: 0.7977     \n"
     ]
    }
   ],
   "source": [
    "def normal_init(shape, name=None):\n",
    "    return initializations.normal(shape, scale=1e-3, name=name)\n",
    "\n",
    "model = Sequential()\n",
    "model.add(Dense(H, input_dim=N, init=normal_init))\n",
    "model.add(Activation(\"tanh\"))\n",
    "model.add(Dense(K, init=normal_init))\n",
    "model.add(Activation(\"tanh\"))\n",
    "model.add(Dense(K, init=normal_init))\n",
    "model.add(Activation(\"softmax\"))\n",
    "\n",
    "model.compile(optimizer=optimizers.Adam(),\n",
    "              loss='categorical_crossentropy')\n",
    "\n",
    "history = model.fit(X_train, Y_train,\n",
    "                    nb_epoch=10, batch_size=32)"
   ]
  },
  {
   "cell_type": "code",
   "execution_count": 35,
   "metadata": {
    "collapsed": false
   },
   "outputs": [
    {
     "name": "stdout",
     "output_type": "stream",
     "text": [
      "Epoch 1/10\n",
      "1527/1527 [==============================] - 0s - loss: 2.3114     \n",
      "Epoch 2/10\n",
      "1527/1527 [==============================] - 0s - loss: 2.3312     \n",
      "Epoch 3/10\n",
      "1527/1527 [==============================] - 0s - loss: 2.3399     \n",
      "Epoch 4/10\n",
      "1527/1527 [==============================] - 0s - loss: 1.9948     \n",
      "Epoch 5/10\n",
      "1527/1527 [==============================] - 0s - loss: 1.3896     \n",
      "Epoch 6/10\n",
      "1527/1527 [==============================] - 0s - loss: 1.0033     \n",
      "Epoch 7/10\n",
      "1527/1527 [==============================] - 0s - loss: 0.7860     \n",
      "Epoch 8/10\n",
      "1527/1527 [==============================] - 0s - loss: 0.8852     \n",
      "Epoch 9/10\n",
      "1527/1527 [==============================] - 0s - loss: 0.9869     \n",
      "Epoch 10/10\n",
      "1527/1527 [==============================] - 0s - loss: 1.1672     \n"
     ]
    }
   ],
   "source": [
    "def normal_init(shape, name=None):\n",
    "    return initializations.normal(shape, scale=1e-3, name=name)\n",
    "\n",
    "model = Sequential()\n",
    "model.add(Dense(H, input_dim=N, init=normal_init))\n",
    "model.add(Activation(\"tanh\"))\n",
    "model.add(Dense(K, init=normal_init))\n",
    "model.add(Activation(\"tanh\"))\n",
    "model.add(Dense(K, init=normal_init))\n",
    "model.add(Activation(\"softmax\"))\n",
    "\n",
    "model.compile(optimizer=optimizers.SGD(lr=0.1,nesterov=True,momentum=0.99),\n",
    "              loss='categorical_crossentropy')\n",
    "\n",
    "history = model.fit(X_train, Y_train,\n",
    "                    nb_epoch=10, batch_size=32)"
   ]
  },
  {
   "cell_type": "markdown",
   "metadata": {},
   "source": [
    "Adam et SGD avec momentum de Nesterov (paramètre de momentum = 0.99) gèrent mieux une mauvaise initialisation (proche de 0). Ce dernier est même meilleur que Adam."
   ]
  },
  {
   "cell_type": "markdown",
   "metadata": {},
   "source": [
    "$scale=10$"
   ]
  },
  {
   "cell_type": "code",
   "execution_count": 36,
   "metadata": {
    "collapsed": false
   },
   "outputs": [
    {
     "name": "stdout",
     "output_type": "stream",
     "text": [
      "Epoch 1/10\n",
      "1527/1527 [==============================] - 0s - loss: 14.6491     \n",
      "Epoch 2/10\n",
      "1527/1527 [==============================] - 0s - loss: 14.6497     \n",
      "Epoch 3/10\n",
      "1527/1527 [==============================] - 0s - loss: 14.6480     \n",
      "Epoch 4/10\n",
      "1527/1527 [==============================] - 0s - loss: 14.6403     \n",
      "Epoch 5/10\n",
      "1527/1527 [==============================] - 0s - loss: 14.6228     \n",
      "Epoch 6/10\n",
      "1527/1527 [==============================] - 0s - loss: 14.6268     \n",
      "Epoch 7/10\n",
      "1527/1527 [==============================] - 0s - loss: 14.6091     \n",
      "Epoch 8/10\n",
      "1527/1527 [==============================] - 0s - loss: 14.6039     \n",
      "Epoch 9/10\n",
      "1527/1527 [==============================] - 0s - loss: 14.5853     \n",
      "Epoch 10/10\n",
      "1527/1527 [==============================] - 0s - loss: 14.5771     \n"
     ]
    }
   ],
   "source": [
    "def normal_init(shape, name=None):\n",
    "    return initializations.normal(shape, scale=10, name=name)\n",
    "\n",
    "model = Sequential()\n",
    "model.add(Dense(H, input_dim=N, init=normal_init))\n",
    "model.add(Activation(\"tanh\"))\n",
    "model.add(Dense(K, init=normal_init))\n",
    "model.add(Activation(\"tanh\"))\n",
    "model.add(Dense(K, init=normal_init))\n",
    "model.add(Activation(\"softmax\"))\n",
    "\n",
    "model.compile(optimizer=optimizers.Adam(),\n",
    "              loss='categorical_crossentropy')\n",
    "\n",
    "history = model.fit(X_train, Y_train,\n",
    "                    nb_epoch=10, batch_size=32)"
   ]
  },
  {
   "cell_type": "code",
   "execution_count": 37,
   "metadata": {
    "collapsed": false
   },
   "outputs": [
    {
     "name": "stdout",
     "output_type": "stream",
     "text": [
      "Epoch 1/20\n",
      "1527/1527 [==============================] - 0s - loss: 13.4969     \n",
      "Epoch 2/20\n",
      "1527/1527 [==============================] - 0s - loss: 11.9056     \n",
      "Epoch 3/20\n",
      "1527/1527 [==============================] - 0s - loss: 10.0559     \n",
      "Epoch 4/20\n",
      "1527/1527 [==============================] - 0s - loss: 9.1226     \n",
      "Epoch 5/20\n",
      "1527/1527 [==============================] - 0s - loss: 8.1358     \n",
      "Epoch 6/20\n",
      "1527/1527 [==============================] - 0s - loss: 8.0689     \n",
      "Epoch 7/20\n",
      "1527/1527 [==============================] - 0s - loss: 7.4670     \n",
      "Epoch 8/20\n",
      "1527/1527 [==============================] - 0s - loss: 7.3666     \n",
      "Epoch 9/20\n",
      "1527/1527 [==============================] - 0s - loss: 7.0751     \n",
      "Epoch 10/20\n",
      "1527/1527 [==============================] - 0s - loss: 6.5884     \n",
      "Epoch 11/20\n",
      "1527/1527 [==============================] - 0s - loss: 6.1492     \n",
      "Epoch 12/20\n",
      "1527/1527 [==============================] - 0s - loss: 5.7175     \n",
      "Epoch 13/20\n",
      "1527/1527 [==============================] - 0s - loss: 5.3240     \n",
      "Epoch 14/20\n",
      "1527/1527 [==============================] - 0s - loss: 4.8876     \n",
      "Epoch 15/20\n",
      "1527/1527 [==============================] - 0s - loss: 4.6789     \n",
      "Epoch 16/20\n",
      "1527/1527 [==============================] - 0s - loss: 4.3751     \n",
      "Epoch 17/20\n",
      "1527/1527 [==============================] - 0s - loss: 4.2855     \n",
      "Epoch 18/20\n",
      "1527/1527 [==============================] - 0s - loss: 4.0187     \n",
      "Epoch 19/20\n",
      "1527/1527 [==============================] - 0s - loss: 3.8518     \n",
      "Epoch 20/20\n",
      "1527/1527 [==============================] - 0s - loss: 3.6778     \n"
     ]
    }
   ],
   "source": [
    "def normal_init(shape, name=None):\n",
    "    return initializations.normal(shape, scale=10, name=name)\n",
    "\n",
    "model = Sequential()\n",
    "model.add(Dense(H, input_dim=N, init=normal_init))\n",
    "model.add(Activation(\"tanh\"))\n",
    "model.add(Dense(K, init=normal_init))\n",
    "model.add(Activation(\"tanh\"))\n",
    "model.add(Dense(K, init=normal_init))\n",
    "model.add(Activation(\"softmax\"))\n",
    "\n",
    "model.compile(optimizer=optimizers.SGD(lr=0.1,nesterov=True,momentum=0.99),\n",
    "              loss='categorical_crossentropy')\n",
    "\n",
    "history = model.fit(X_train, Y_train,\n",
    "                    nb_epoch=20, batch_size=32)"
   ]
  },
  {
   "cell_type": "markdown",
   "metadata": {},
   "source": [
    "En revanche, une initialisation plus éparse semble être toujours un obstacle à la convergence de l'algorithme Adam. Pour le SGD de Nesterov, la convergence est plus lente, mais elle existe."
   ]
  },
  {
   "cell_type": "code",
   "execution_count": 38,
   "metadata": {
    "collapsed": false
   },
   "outputs": [],
   "source": [
    "# %load solutions/keras_initializations.py"
   ]
  },
  {
   "cell_type": "code",
   "execution_count": 39,
   "metadata": {
    "collapsed": false
   },
   "outputs": [],
   "source": [
    "# %load solutions/keras_initializations_analysis.py"
   ]
  },
  {
   "cell_type": "markdown",
   "metadata": {},
   "source": [
    "# II) Numpy Implementation\n",
    "\n",
    "## a) Logistic Regression\n",
    "\n",
    "In this section we will implement a logistic regression model trainable with SGD using numpy. Here are the objectives:\n",
    "\n",
    "1/ Implement a simple forward model with no hidden layer (equivalent to a logistic regression):\n",
    "note: shape, transpose of W with regards to course\n",
    "$y = softmax(\\mathbf{W} \\dot x + b)$\n",
    "\n",
    "2/ build a predict function which returns the most probable class given an input $x$\n",
    "\n",
    "3/ build an accuracy function for a batch of inputs $X$ and the corresponding expected outputs $y_{true}$\n",
    "\n",
    "4/ build a grad function which computes $\\frac{d}{dW} -\\log(softmax(W \\dot x + b))$ for an $x$ and its corresponding expected output $y_{true}$ ; check that the gradients are well defined\n",
    "\n",
    "5/ build a train function which uses the grad function output to update $\\mathbf{W}$ and $b$\n",
    "\n",
    "\n",
    "First let's define a helper function to compute the one hot encoding of an integer array for a fixed number of classes (similar to keras' `to_categorical`):"
   ]
  },
  {
   "cell_type": "code",
   "execution_count": 40,
   "metadata": {
    "collapsed": true
   },
   "outputs": [],
   "source": [
    "def one_hot(n_classes, y):\n",
    "    return np.eye(n_classes)[y]"
   ]
  },
  {
   "cell_type": "code",
   "execution_count": 41,
   "metadata": {
    "collapsed": false
   },
   "outputs": [
    {
     "data": {
      "text/plain": [
       "array([ 0.,  0.,  0.,  1.,  0.,  0.,  0.,  0.,  0.,  0.])"
      ]
     },
     "execution_count": 41,
     "metadata": {},
     "output_type": "execute_result"
    }
   ],
   "source": [
    "one_hot(10, 3)"
   ]
  },
  {
   "cell_type": "code",
   "execution_count": 42,
   "metadata": {
    "collapsed": false
   },
   "outputs": [
    {
     "data": {
      "text/plain": [
       "array([[ 1.,  0.,  0.,  0.,  0.,  0.,  0.,  0.,  0.,  0.],\n",
       "       [ 0.,  0.,  0.,  0.,  1.,  0.,  0.,  0.,  0.,  0.],\n",
       "       [ 0.,  0.,  0.,  0.,  0.,  0.,  0.,  0.,  0.,  1.],\n",
       "       [ 0.,  1.,  0.,  0.,  0.,  0.,  0.,  0.,  0.,  0.]])"
      ]
     },
     "execution_count": 42,
     "metadata": {},
     "output_type": "execute_result"
    }
   ],
   "source": [
    "one_hot(10, [0, 4, 9, 1])"
   ]
  },
  {
   "cell_type": "markdown",
   "metadata": {},
   "source": [
    "Now let's implement the softmax vector function:\n",
    "\n",
    "$$\n",
    "softmax(\\mathbf{x}) = \\frac{1}{\\sum_{i=1}^{n}{e^{x_i}}}\n",
    "\\cdot\n",
    "\\begin{bmatrix}\n",
    "  e^{x_1}\\\\\\\\\n",
    "  e^{x_2}\\\\\\\\\n",
    "  \\vdots\\\\\\\\\n",
    "  e^{x_n}\n",
    "\\end{bmatrix}\n",
    "$$"
   ]
  },
  {
   "cell_type": "code",
   "execution_count": 43,
   "metadata": {
    "collapsed": false
   },
   "outputs": [],
   "source": [
    "def softmax(X):\n",
    "    exp=np.exp(X)\n",
    "    return exp / np.sum(exp, axis=-1, keepdims=True)"
   ]
  },
  {
   "cell_type": "markdown",
   "metadata": {},
   "source": [
    "Make sure that this works one vector at a time (and check that the components sum to one):"
   ]
  },
  {
   "cell_type": "code",
   "execution_count": 44,
   "metadata": {
    "collapsed": false
   },
   "outputs": [
    {
     "name": "stdout",
     "output_type": "stream",
     "text": [
      "[  9.99662391e-01   3.35349373e-04   2.25956630e-06]\n"
     ]
    }
   ],
   "source": [
    "print(softmax([10, 2, -3]))"
   ]
  },
  {
   "cell_type": "markdown",
   "metadata": {},
   "source": [
    "Note that a naive implementation of softmax might not be able process a batch of activations in a single call:"
   ]
  },
  {
   "cell_type": "code",
   "execution_count": 45,
   "metadata": {
    "collapsed": false
   },
   "outputs": [
    {
     "name": "stdout",
     "output_type": "stream",
     "text": [
      "[[  9.99662391e-01   3.35349373e-04   2.25956630e-06]\n",
      " [  2.47262316e-03   9.97527377e-01   1.38536042e-11]]\n"
     ]
    }
   ],
   "source": [
    "X = np.array([[10, 2, -3],\n",
    "              [-1, 5, -20]])\n",
    "print(softmax(X))"
   ]
  },
  {
   "cell_type": "markdown",
   "metadata": {},
   "source": [
    "Here is a way to implement softmax that works both for an individal vector of activations and for a batch of activation vectors at once:"
   ]
  },
  {
   "cell_type": "code",
   "execution_count": 46,
   "metadata": {
    "collapsed": false
   },
   "outputs": [
    {
     "name": "stdout",
     "output_type": "stream",
     "text": [
      "softmax of a single vector:\n",
      "[  9.99662391e-01   3.35349373e-04   2.25956630e-06]\n",
      "1.0\n"
     ]
    }
   ],
   "source": [
    "def softmax(X):\n",
    "    exp = np.exp(X)\n",
    "    return exp / np.sum(exp, axis=-1, keepdims=True)\n",
    "\n",
    "\n",
    "print(\"softmax of a single vector:\")\n",
    "print(softmax([10, 2, -3]))\n",
    "print(np.sum(softmax([10, 2, -3])))"
   ]
  },
  {
   "cell_type": "code",
   "execution_count": 47,
   "metadata": {
    "collapsed": false
   },
   "outputs": [
    {
     "name": "stdout",
     "output_type": "stream",
     "text": [
      "sotfmax of 2 vectors:\n",
      "[[  9.99662391e-01   3.35349373e-04   2.25956630e-06]\n",
      " [  2.47262316e-03   9.97527377e-01   1.38536042e-11]]\n",
      "[ 1.  1.]\n"
     ]
    }
   ],
   "source": [
    "print(\"sotfmax of 2 vectors:\")\n",
    "X = np.array([[10, 2, -3],\n",
    "              [-1, 5, -20]])\n",
    "print(softmax(X))\n",
    "print(np.sum(softmax(X), axis=1))"
   ]
  },
  {
   "cell_type": "markdown",
   "metadata": {},
   "source": [
    "Implement a function that given the true one-hot encoded class `Y_true` and and some predicted probabilities `Y_pred` returns the negative log likelihood."
   ]
  },
  {
   "cell_type": "code",
   "execution_count": 48,
   "metadata": {
    "collapsed": false
   },
   "outputs": [
    {
     "name": "stdout",
     "output_type": "stream",
     "text": [
      "0.0100503257525\n"
     ]
    }
   ],
   "source": [
    "EPSILON= 1e-8\n",
    "\n",
    "def nll(Y_true, Y_pred):\n",
    "    Y_true, Y_pred = np.atleast_2d(Y_true), np.atleast_2d(Y_pred)\n",
    "    loglikelihood=np.sum(np.log(EPSILON + Y_pred)*Y_true,axis=1)\n",
    "    return -np.mean(loglikelihood)\n",
    "\n",
    "\n",
    "# Make sure that it works for a simple sample at a time\n",
    "print(nll([1, 0, 0], [.99, 0.01, 0]))"
   ]
  },
  {
   "cell_type": "markdown",
   "metadata": {},
   "source": [
    "Check that the nll of a very confident yet bad prediction is a much higher positive number:"
   ]
  },
  {
   "cell_type": "code",
   "execution_count": 49,
   "metadata": {
    "collapsed": false
   },
   "outputs": [
    {
     "name": "stdout",
     "output_type": "stream",
     "text": [
      "4.60516918599\n"
     ]
    }
   ],
   "source": [
    "print(nll([1, 0, 0], [0.01, 0.01, .98]))"
   ]
  },
  {
   "cell_type": "markdown",
   "metadata": {},
   "source": [
    "Make sure that your implementation can compute the average negative log likelihood of a group of predictions: `Y_pred` and `Y_true` can therefore be past as 2D arrays:"
   ]
  },
  {
   "cell_type": "code",
   "execution_count": 50,
   "metadata": {
    "collapsed": false
   },
   "outputs": [
    {
     "name": "stdout",
     "output_type": "stream",
     "text": [
      "0.0033501019175\n"
     ]
    }
   ],
   "source": [
    "# Check that the average NLL of the following 3 almost perfect\n",
    "# predictions is close to 0\n",
    "Y_true = np.array([[0, 1, 0],\n",
    "                   [1, 0, 0],\n",
    "                   [0, 0, 1]])\n",
    "\n",
    "Y_pred = np.array([[0,   1,    0],\n",
    "                   [.99, 0.01, 0],\n",
    "                   [0,   0,    1]])\n",
    "\n",
    "print(nll(Y_true, Y_pred))"
   ]
  },
  {
   "cell_type": "code",
   "execution_count": 51,
   "metadata": {
    "collapsed": false
   },
   "outputs": [],
   "source": [
    "# %load solutions/numpy_nll.py"
   ]
  },
  {
   "cell_type": "markdown",
   "metadata": {},
   "source": [
    "Let us now study the following linear model trainable by SGD, **one sample at a time**."
   ]
  },
  {
   "cell_type": "code",
   "execution_count": 52,
   "metadata": {
    "collapsed": true
   },
   "outputs": [],
   "source": [
    "class LogisticRegression():\n",
    "\n",
    "    def __init__(self, input_size, output_size):\n",
    "        self.W = np.random.uniform(size=(input_size, output_size),\n",
    "                                   high=0.1, low=-0.1)\n",
    "        self.b = np.random.uniform(size=output_size,\n",
    "                                   high=0.1, low=-0.1)\n",
    "        self.output_size = output_size\n",
    "        \n",
    "    def forward(self, X):\n",
    "        Z = np.dot(X, self.W) + self.b\n",
    "        return softmax(Z)\n",
    "    \n",
    "    def predict(self, X):\n",
    "        if len(X.shape) == 1:\n",
    "            return np.argmax(self.forward(X))\n",
    "        else:\n",
    "            return np.argmax(self.forward(X), axis=1)\n",
    "    \n",
    "    def grad_loss(self, x, y_true):\n",
    "        y_pred = self.forward(x)\n",
    "        dnll_output =  y_pred - one_hot(self.output_size, y_true)\n",
    "        grad_W = np.outer(x, dnll_output)\n",
    "        grad_b = dnll_output\n",
    "        grads = {\"W\": grad_W, \"b\": grad_b}\n",
    "        return grads\n",
    "    \n",
    "    def train(self, x, y, learning_rate):\n",
    "        # Traditional SGD update without momentum\n",
    "        grads = self.grad_loss(x, y)\n",
    "        self.W = self.W - learning_rate * grads[\"W\"]\n",
    "        self.b = self.b - learning_rate * grads[\"b\"]      \n",
    "        \n",
    "    def loss(self, x, y):\n",
    "        return nll(one_hot(self.output_size, y), self.forward(x))\n",
    "\n",
    "    def accuracy(self, X, y):\n",
    "        y_preds = np.argmax(self.forward(X), axis=1)\n",
    "        return np.mean(y_preds == y)"
   ]
  },
  {
   "cell_type": "code",
   "execution_count": 53,
   "metadata": {
    "collapsed": false
   },
   "outputs": [
    {
     "name": "stdout",
     "output_type": "stream",
     "text": [
      "Evaluation of the untrained model:\n",
      "train loss: 2.5402, train acc: 0.043, test acc: 0.043\n"
     ]
    }
   ],
   "source": [
    "# Build a model and test its forward inference\n",
    "n_features = X_train.shape[1]\n",
    "n_classes = Y_train.shape[1]\n",
    "lr = LogisticRegression(n_features, n_classes)\n",
    "\n",
    "print(\"Evaluation of the untrained model:\")\n",
    "train_loss = lr.loss(X_train, y_train)\n",
    "train_acc = lr.accuracy(X_train, y_train)\n",
    "test_acc = lr.accuracy(X_train, y_train)\n",
    "\n",
    "print(\"train loss: %0.4f, train acc: %0.3f, test acc: %0.3f\"\n",
    "      % (train_loss, train_acc, test_acc))"
   ]
  },
  {
   "cell_type": "code",
   "execution_count": 54,
   "metadata": {
    "collapsed": false
   },
   "outputs": [
    {
     "name": "stdout",
     "output_type": "stream",
     "text": [
      "5\n"
     ]
    },
    {
     "data": {
      "image/png": "[encoded data removed]",
      "text/plain": [
       "<matplotlib.figure.Figure at 0x11c9f5c18>"
      ]
     },
     "metadata": {},
     "output_type": "display_data"
    }
   ],
   "source": [
    "# Test the untrained model on the first example\n",
    "sample_idx = 0\n",
    "plt.plot(lr.forward(X_train[sample_idx]), linestyle='-', label='prediction')\n",
    "plt.plot(one_hot(10, y_train[sample_idx]), linestyle='--', label='true')\n",
    "plt.title('output probabilities')\n",
    "plt.legend()\n",
    "print(lr.predict(X_train[sample_idx]))"
   ]
  },
  {
   "cell_type": "code",
   "execution_count": 55,
   "metadata": {
    "collapsed": false
   },
   "outputs": [
    {
     "name": "stdout",
     "output_type": "stream",
     "text": [
      "Update #0, train loss: 2.5203, train acc: 0.065, test acc: 0.089\n",
      "Update #100, train loss: 1.4002, train acc: 0.671, test acc: 0.696\n",
      "Update #200, train loss: 0.9070, train acc: 0.850, test acc: 0.881\n",
      "Update #300, train loss: 0.6663, train acc: 0.897, test acc: 0.900\n",
      "Update #400, train loss: 0.5534, train acc: 0.901, test acc: 0.900\n",
      "Update #500, train loss: 0.4778, train acc: 0.909, test acc: 0.919\n",
      "Update #600, train loss: 0.4171, train acc: 0.928, test acc: 0.926\n",
      "Update #700, train loss: 0.3775, train acc: 0.931, test acc: 0.944\n",
      "Update #800, train loss: 0.3554, train acc: 0.936, test acc: 0.952\n",
      "Update #900, train loss: 0.3292, train acc: 0.936, test acc: 0.948\n",
      "Update #1000, train loss: 0.3070, train acc: 0.944, test acc: 0.948\n",
      "Update #1100, train loss: 0.2877, train acc: 0.946, test acc: 0.967\n",
      "Update #1200, train loss: 0.2751, train acc: 0.943, test acc: 0.970\n",
      "Update #1300, train loss: 0.2627, train acc: 0.948, test acc: 0.963\n",
      "Update #1400, train loss: 0.2505, train acc: 0.948, test acc: 0.948\n",
      "Update #1500, train loss: 0.2385, train acc: 0.951, test acc: 0.959\n"
     ]
    }
   ],
   "source": [
    "# Training for one epoch\n",
    "learning_rate = 0.01\n",
    "\n",
    "for i, (x, y) in enumerate(zip(X_train, y_train)):\n",
    "    lr.train(x, y, learning_rate)\n",
    "    if i % 100 == 0:\n",
    "        train_loss = lr.loss(X_train, y_train)\n",
    "        train_acc = lr.accuracy(X_train, y_train)\n",
    "        test_acc = lr.accuracy(X_test, y_test)\n",
    "        print(\"Update #%d, train loss: %0.4f, train acc: %0.3f, test acc: %0.3f\"\n",
    "              % (i, train_loss, train_acc, test_acc))"
   ]
  },
  {
   "cell_type": "code",
   "execution_count": 56,
   "metadata": {
    "collapsed": false
   },
   "outputs": [
    {
     "name": "stdout",
     "output_type": "stream",
     "text": [
      "2\n"
     ]
    },
    {
     "data": {
      "image/png": "[encoded data removed]",
      "text/plain": [
       "<matplotlib.figure.Figure at 0x122256940>"
      ]
     },
     "metadata": {},
     "output_type": "display_data"
    }
   ],
   "source": [
    "# Evaluate the trained model on the first example\n",
    "sample_idx = 0\n",
    "plt.plot(lr.forward(X_train[sample_idx]), linestyle='-', label='prediction')\n",
    "plt.plot(one_hot(10, y_train[sample_idx]), linestyle='--', label='true')\n",
    "plt.title('output probabilities')\n",
    "plt.legend()\n",
    "print(lr.predict(X_train[sample_idx]))"
   ]
  },
  {
   "cell_type": "markdown",
   "metadata": {},
   "source": [
    "## b) Feedforward Multilayer\n",
    "\n",
    "The objective of this section is to implement the backpropagation algorithm (SGD with the chain rule) on a single layer neural network using the sigmoid activation function.\n",
    "\n",
    "- Implement the `sigmoid` and its element-wise derivative `dsigmoid` functions:\n",
    "\n",
    "$$\n",
    "sigmoid(x) = \\frac{1}{1 + e^{-x}}\n",
    "$$\n",
    "\n",
    "$$\n",
    "dsigmoid(x) = sigmoid(x) \\cdot (1 - sigmoid(x))\n",
    "$$"
   ]
  },
  {
   "cell_type": "code",
   "execution_count": 57,
   "metadata": {
    "collapsed": true
   },
   "outputs": [],
   "source": [
    "def sigmoid(X):\n",
    "    sigmo = 1. / (1 + np.exp(-X))\n",
    "    return sigmo\n",
    "\n",
    "\n",
    "def dsigmoid(X):\n",
    "    diffsigmo=sigmoid(X)*(1-sigmoid(X))\n",
    "    return diffsigmo"
   ]
  },
  {
   "cell_type": "code",
   "execution_count": 58,
   "metadata": {
    "collapsed": false
   },
   "outputs": [
    {
     "data": {
      "image/png": "[encoded data removed]",
      "text/plain": [
       "<matplotlib.figure.Figure at 0x12227a6d8>"
      ]
     },
     "metadata": {},
     "output_type": "display_data"
    }
   ],
   "source": [
    "# %load solutions/sigmoid.py\n",
    "def sigmoid(X):\n",
    "    return 1 / (1 + np.exp(-X))\n",
    "\n",
    "\n",
    "def dsigmoid(X):\n",
    "    sig=sigmoid(X)\n",
    "    return sig * (1 - sig)\n",
    "\n",
    "\n",
    "x = np.linspace(-5, 5, 100)\n",
    "plt.plot(x, sigmoid(x), label='sigmoid')\n",
    "plt.plot(x, dsigmoid(x), label='dsigmoid')\n",
    "plt.legend(loc='best');"
   ]
  },
  {
   "cell_type": "markdown",
   "metadata": {},
   "source": [
    "- Implement `forward` and `forward_keep_all` functions for a model with a hidden layer, similar to the first one in Keras:\n",
    "  - $h = sigmoid(\\mathbf{W}^h x + b^h)$\n",
    "  - $y = softmax(\\mathbf{W}^o h + b^o)$\n",
    "\n",
    "Notes: \n",
    "  - try to keep the code as similar as possible as the previous one;\n",
    "  - `forward_keep_activations` is similar to forward, but also returns hidden activations and pre activations;\n",
    "\n",
    "- update the grad function to compute all gradients; check that the gradients are well defined;\n",
    "\n",
    "- implement the `train` and `loss` functions.\n",
    "\n",
    "Bonus: reimplementing all from scratch without looking at the solution of the `LogisticRegression` is an excellent exercise."
   ]
  },
  {
   "cell_type": "code",
   "execution_count": 59,
   "metadata": {
    "collapsed": true
   },
   "outputs": [],
   "source": [
    "W_h = np.random.uniform(low=-0.1,high=0.1,size=(64,20))\n",
    "b_h = np.zeros(20)\n",
    "W_o = np.random.uniform(low=-0.1,high=0.1,size=(20,n_classes))\n",
    "b_o = np.zeros(n_classes)"
   ]
  },
  {
   "cell_type": "code",
   "execution_count": 60,
   "metadata": {
    "collapsed": false
   },
   "outputs": [
    {
     "ename": "NameError",
     "evalue": "name 'relu' is not defined",
     "output_type": "error",
     "traceback": [
      "\u001b[0;31m---------------------------------------------------------------------------\u001b[0m",
      "\u001b[0;31mNameError\u001b[0m                                 Traceback (most recent call last)",
      "\u001b[0;32m<ipython-input-60-7b059e5ceb2f>\u001b[0m in \u001b[0;36m<module>\u001b[0;34m()\u001b[0m\n\u001b[1;32m      1\u001b[0m \u001b[0;32mfor\u001b[0m \u001b[0mi\u001b[0m \u001b[0;32min\u001b[0m \u001b[0mrange\u001b[0m\u001b[0;34m(\u001b[0m\u001b[0;36m1527\u001b[0m\u001b[0;34m)\u001b[0m\u001b[0;34m:\u001b[0m\u001b[0;34m\u001b[0m\u001b[0m\n\u001b[0;32m----> 2\u001b[0;31m     \u001b[0mres\u001b[0m\u001b[0;34m=\u001b[0m\u001b[0mrelu\u001b[0m\u001b[0;34m(\u001b[0m\u001b[0mnp\u001b[0m\u001b[0;34m.\u001b[0m\u001b[0mdot\u001b[0m\u001b[0;34m(\u001b[0m\u001b[0mX_train\u001b[0m\u001b[0;34m[\u001b[0m\u001b[0;36m2\u001b[0m\u001b[0;34m]\u001b[0m\u001b[0;34m,\u001b[0m\u001b[0mW_h\u001b[0m\u001b[0;34m)\u001b[0m\u001b[0;34m+\u001b[0m\u001b[0mb_h\u001b[0m\u001b[0;34m)\u001b[0m\u001b[0;34m\u001b[0m\u001b[0m\n\u001b[0m\u001b[1;32m      3\u001b[0m     \u001b[0mlol\u001b[0m\u001b[0;34m=\u001b[0m\u001b[0msoftmax\u001b[0m\u001b[0;34m(\u001b[0m\u001b[0mnp\u001b[0m\u001b[0;34m.\u001b[0m\u001b[0mdot\u001b[0m\u001b[0;34m(\u001b[0m\u001b[0mres\u001b[0m\u001b[0;34m,\u001b[0m\u001b[0mW_o\u001b[0m\u001b[0;34m)\u001b[0m \u001b[0;34m+\u001b[0m \u001b[0mb_o\u001b[0m\u001b[0;34m)\u001b[0m\u001b[0;34m\u001b[0m\u001b[0m\n\u001b[1;32m      4\u001b[0m \u001b[0;34m\u001b[0m\u001b[0m\n",
      "\u001b[0;31mNameError\u001b[0m: name 'relu' is not defined"
     ]
    }
   ],
   "source": [
    "for i in range(1527):\n",
    "    res=relu(np.dot(X_train[2],W_h)+b_h)\n",
    "    lol=softmax(np.dot(res,W_o) + b_o)\n",
    "    "
   ]
  },
  {
   "cell_type": "code",
   "execution_count": 61,
   "metadata": {
    "collapsed": false
   },
   "outputs": [],
   "source": [
    "EPSILON = 1e-8\n",
    "\n",
    "class NeuralNet():\n",
    "    \"\"\"MLP with 1 hidden layer with a sigmoid activation\"\"\"\n",
    "    \n",
    "    def __init__(self, input_size, hidden_size, output_size,activation,d_activation):\n",
    "        # TODO\n",
    "        self.W_h = np.random.uniform(low=-0.1,high=0.1,size=(input_size,hidden_size))\n",
    "        self.b_h = np.zeros(hidden_size)\n",
    "        self.W_o = np.random.uniform(low=-0.1,high=0.1,size=(hidden_size,output_size))\n",
    "        self.b_o = np.zeros(output_size)\n",
    "        self.output_size = output_size\n",
    "        self.activation=activation\n",
    "        self.d_activation=d_activation\n",
    "        \n",
    "    def forward(self, X):\n",
    "        # TODO\n",
    "        res = self.activation(np.dot(X,self.W_h) + self.b_h)\n",
    "        res = softmax(np.dot(res,self.W_o) + self.b_o)\n",
    "        return(res)\n",
    "        #if len(X.shape) == 1:\n",
    "        #    res = sigmoid(np.dot(self.W_h.T,X) + self.b_h)\n",
    "        #    res = sigmoid(np.dot(self.W_o,res) + self.b_o)\n",
    "        #    return(softmax(res))\n",
    "        #else:\n",
    "        #    res = sigmoid(np.dot(self.W_h,X.T) + self.b_h)\n",
    "        #    res = sigmoid(np.dot(self.W_o,res) + self.b_o)\n",
    "        #    return(softmax(res))\n",
    "    \n",
    "    def forward_keep_activations(self, X):\n",
    "        # TODO\n",
    "        #z_h = 0.\n",
    "        #h = 0.\n",
    "        #y = np.random.uniform(size=self.output_size,\n",
    "        #                      high=1.0-EPSILON, low=EPSILON)\n",
    "        z_h = np.dot(X,self.W_h) + self.b_h\n",
    "        h = self.activation(z_h)\n",
    "        pre_y = np.dot(h,self.W_o) + self.b_o\n",
    "        y = softmax(pre_y)\n",
    "        return y, h, z_h\n",
    "    \n",
    "    def loss(self, X, y):\n",
    "        # TODO\n",
    "        return nll(one_hot(self.output_size,y),self.forward(X))\n",
    "\n",
    "    def grad_loss(self, x, y_true):\n",
    "        # TODO\n",
    "        y_pred=self.forward(x)\n",
    "        with_activations=self.forward_keep_activations(x)\n",
    "        grad_z0=y_pred-one_hot(self.output_size,y_true)\n",
    "        grad_w0=np.outer(with_activations[1],grad_z0)\n",
    "        grad_b0=grad_z0.copy()\n",
    "        grad_h=np.dot(grad_z0,self.W_o.T)\n",
    "        grad_zh=grad_h*self.d_activation(with_activations[2])\n",
    "        grad_wh=np.outer(x,grad_zh)\n",
    "        grad_bh=grad_zh.copy()\n",
    "        return {\"W_h\": grad_wh, \"b_h\": grad_bh, \"W_o\": grad_w0, \"b_o\": grad_b0}\n",
    "\n",
    "    def train(self, x, y, learning_rate):\n",
    "        # TODO\n",
    "        grads=self.grad_loss(x,y)\n",
    "        self.W_o-=learning_rate*grads[\"W_o\"]\n",
    "        self.b_o-=learning_rate*grads[\"b_o\"]\n",
    "        self.W_h-=learning_rate*grads[\"W_h\"]\n",
    "        self.b_h-=learning_rate*grads[\"b_h\"]\n",
    "\n",
    "    def predict(self, X):\n",
    "        if len(X.shape) == 1:\n",
    "            return np.argmax(self.forward(X))\n",
    "        else:\n",
    "            return np.argmax(self.forward(X), axis=1)\n",
    "\n",
    "    def accuracy(self, X, y):\n",
    "        y_preds = np.argmax(self.forward(X), axis=1)\n",
    "        return np.mean(y_preds == y)"
   ]
  },
  {
   "cell_type": "code",
   "execution_count": 295,
   "metadata": {
    "collapsed": true
   },
   "outputs": [],
   "source": [
    "# %load solutions/neural_net.py\n",
    "class NeuralNet():\n",
    "    \"\"\"MLP with 1 hidden layer with a sigmoid activation\"\"\"\n",
    "\n",
    "    def __init__(self, input_size, hidden_size, output_size):\n",
    "        self.W_h = np.random.uniform(\n",
    "            size=(input_size, hidden_size), high=0.01, low=-0.01)\n",
    "        self.b_h = np.zeros(hidden_size)\n",
    "        self.W_o = np.random.uniform(\n",
    "            size=(hidden_size, output_size), high=0.01, low=-0.01)\n",
    "        self.b_o =np.zeros(output_size)\n",
    "        self.output_size = output_size\n",
    "        \n",
    "    def forward(self, X):\n",
    "        h = sigmoid(np.dot(X, self.W_h) + self.b_h)\n",
    "        y = softmax(np.dot(h, self.W_o) + self.b_o)\n",
    "        return y\n",
    "    \n",
    "    def forward_keep_activations(self, X):\n",
    "        z_h = np.dot(X, self.W_h) + self.b_h\n",
    "        h = sigmoid(z_h)\n",
    "        z_o = np.dot(h, self.W_o) + self.b_o\n",
    "        y = softmax(z_o)\n",
    "        return y, h, z_h\n",
    "    \n",
    "    def loss(self, X, y):\n",
    "        return nll(one_hot(self.output_size, y), self.forward(X))\n",
    "\n",
    "    def grad_loss(self, X, y_true):\n",
    "        y, h, z_h = self.forward_keep_activations(X)\n",
    "        grad_z_o = y - one_hot(self.output_size, y_true)\n",
    "\n",
    "        grad_W_o = np.outer(h, grad_z_o)\n",
    "        grad_b_o = grad_z_o\n",
    "        grad_h = np.dot(grad_z_o, np.transpose(self.W_o))\n",
    "        grad_z_h = grad_h * dsigmoid(z_h)\n",
    "        grad_W_h = np.outer(x, grad_z_h)\n",
    "        grad_b_h = grad_z_h\n",
    "        grads = {\"W_h\": grad_W_h, \"b_h\": grad_b_h,\n",
    "                 \"W_o\": grad_W_o, \"b_o\": grad_b_o}\n",
    "        return grads\n",
    "\n",
    "    def train(self, x, y, learning_rate):\n",
    "        # Traditional SGD update on one sample at a time\n",
    "        grads = self.grad_loss(x, y)\n",
    "        self.W_h = self.W_h - learning_rate * grads[\"W_h\"]\n",
    "        self.b_h = self.b_h - learning_rate * grads[\"b_h\"]\n",
    "        self.W_o = self.W_o - learning_rate * grads[\"W_o\"]\n",
    "        self.b_o = self.b_o - learning_rate * grads[\"b_o\"]\n",
    "\n",
    "    def predict(self, X):\n",
    "        if len(X.shape) == 1:\n",
    "            return np.argmax(self.forward(x))\n",
    "        else:\n",
    "            return np.argmax(self.forward(x), axis=1)\n",
    "\n",
    "    def accuracy(self, X, y):\n",
    "        y_preds = np.argmax(self.forward(X), axis=1)\n",
    "        return np.mean(y_preds == y)"
   ]
  },
  {
   "cell_type": "code",
   "execution_count": 63,
   "metadata": {
    "collapsed": false
   },
   "outputs": [],
   "source": [
    "n_hidden = 10\n",
    "model = NeuralNet(n_features, n_hidden, n_classes,sigmoid,dsigmoid)"
   ]
  },
  {
   "cell_type": "code",
   "execution_count": 64,
   "metadata": {
    "collapsed": false
   },
   "outputs": [
    {
     "data": {
      "text/plain": [
       "array([ 0.10850021,  0.10279209,  0.09357483,  0.1021527 ,  0.09757223,\n",
       "        0.09309937,  0.10773184,  0.10846367,  0.10976576,  0.0763473 ])"
      ]
     },
     "execution_count": 64,
     "metadata": {},
     "output_type": "execute_result"
    }
   ],
   "source": [
    "model.forward(X_train[1])"
   ]
  },
  {
   "cell_type": "code",
   "execution_count": 65,
   "metadata": {
    "collapsed": false
   },
   "outputs": [
    {
     "data": {
      "text/plain": [
       "2.3050584696400374"
      ]
     },
     "execution_count": 65,
     "metadata": {},
     "output_type": "execute_result"
    }
   ],
   "source": [
    "model.loss(X_train, y_train)"
   ]
  },
  {
   "cell_type": "code",
   "execution_count": 66,
   "metadata": {
    "collapsed": false
   },
   "outputs": [
    {
     "data": {
      "text/plain": [
       "0.11132940406024885"
      ]
     },
     "execution_count": 66,
     "metadata": {},
     "output_type": "execute_result"
    }
   ],
   "source": [
    "model.accuracy(X_train, y_train)"
   ]
  },
  {
   "cell_type": "code",
   "execution_count": 67,
   "metadata": {
    "collapsed": false
   },
   "outputs": [
    {
     "name": "stdout",
     "output_type": "stream",
     "text": [
      "8\n"
     ]
    },
    {
     "data": {
      "image/png": "[encoded data removed]",
      "text/plain": [
       "<matplotlib.figure.Figure at 0x121be82e8>"
      ]
     },
     "metadata": {},
     "output_type": "display_data"
    }
   ],
   "source": [
    "sample_idx = 0\n",
    "plt.plot(model.forward(X_train[sample_idx]), linestyle='-', label='prediction')\n",
    "plt.plot(one_hot(10, y_train[sample_idx]), linestyle='--', label='true')\n",
    "plt.title('output probabilities')\n",
    "plt.legend()\n",
    "print(model.predict(X_train[sample_idx]))"
   ]
  },
  {
   "cell_type": "code",
   "execution_count": 68,
   "metadata": {
    "collapsed": false
   },
   "outputs": [
    {
     "name": "stdout",
     "output_type": "stream",
     "text": [
      "Random init: train loss: 2.3051, train acc: 0.111, test acc: 0.126\n",
      "Epoch #1, train loss: 0.3153, train acc: 0.923, test acc: 0.900\n",
      "Epoch #2, train loss: 0.1670, train acc: 0.963, test acc: 0.937\n",
      "Epoch #3, train loss: 0.1142, train acc: 0.975, test acc: 0.937\n",
      "Epoch #4, train loss: 0.0926, train acc: 0.980, test acc: 0.948\n",
      "Epoch #5, train loss: 0.0809, train acc: 0.982, test acc: 0.930\n",
      "Epoch #6, train loss: 0.0675, train acc: 0.987, test acc: 0.941\n",
      "Epoch #7, train loss: 0.0576, train acc: 0.990, test acc: 0.956\n",
      "Epoch #8, train loss: 0.0487, train acc: 0.993, test acc: 0.956\n",
      "Epoch #9, train loss: 0.0435, train acc: 0.993, test acc: 0.956\n",
      "Epoch #10, train loss: 0.0378, train acc: 0.994, test acc: 0.956\n",
      "Epoch #11, train loss: 0.0328, train acc: 0.995, test acc: 0.956\n",
      "Epoch #12, train loss: 0.0283, train acc: 0.997, test acc: 0.956\n",
      "Epoch #13, train loss: 0.0250, train acc: 0.997, test acc: 0.956\n",
      "Epoch #14, train loss: 0.0227, train acc: 0.997, test acc: 0.952\n",
      "Epoch #15, train loss: 0.0212, train acc: 0.997, test acc: 0.952\n"
     ]
    }
   ],
   "source": [
    "losses, accuracies, accuracies_test = [], [], []\n",
    "losses.append(model.loss(X_train, y_train))\n",
    "accuracies.append(model.accuracy(X_train, y_train))\n",
    "accuracies_test.append(model.accuracy(X_test, y_test))\n",
    "\n",
    "print(\"Random init: train loss: %0.4f, train acc: %0.3f, test acc: %0.3f\"\n",
    "      % (losses[-1], accuracies[-1], accuracies_test[-1]))\n",
    "\n",
    "for epoch in range(15):\n",
    "    for i, (x, y) in enumerate(zip(X_train, y_train)):\n",
    "        model.train(x, y, 0.1)\n",
    "\n",
    "    losses.append(model.loss(X_train, y_train))\n",
    "    accuracies.append(model.accuracy(X_train, y_train))\n",
    "    accuracies_test.append(model.accuracy(X_test, y_test))\n",
    "    print(\"Epoch #%d, train loss: %0.4f, train acc: %0.3f, test acc: %0.3f\"\n",
    "          % (epoch + 1, losses[-1], accuracies[-1], accuracies_test[-1]))"
   ]
  },
  {
   "cell_type": "code",
   "execution_count": 69,
   "metadata": {
    "collapsed": false
   },
   "outputs": [
    {
     "data": {
      "image/png": "[encoded data removed]",
      "text/plain": [
       "<matplotlib.figure.Figure at 0x122285ac8>"
      ]
     },
     "metadata": {},
     "output_type": "display_data"
    }
   ],
   "source": [
    "plt.plot(losses)\n",
    "plt.title(\"Training loss\");"
   ]
  },
  {
   "cell_type": "code",
   "execution_count": 70,
   "metadata": {
    "collapsed": false
   },
   "outputs": [
    {
     "data": {
      "image/png": "[encoded data removed]",
      "text/plain": [
       "<matplotlib.figure.Figure at 0x1231d1160>"
      ]
     },
     "metadata": {},
     "output_type": "display_data"
    }
   ],
   "source": [
    "plt.plot(accuracies, label='train')\n",
    "plt.plot(accuracies_test, label='test')\n",
    "plt.ylim(0, 1.1)\n",
    "plt.ylabel(\"accuracy\")\n",
    "plt.legend(loc='best');"
   ]
  },
  {
   "cell_type": "markdown",
   "metadata": {},
   "source": [
    "## c) Exercises\n",
    "\n",
    "### Hyper parameters settings\n",
    "\n",
    "- Experiment with different hyper parameters:\n",
    "  - learning rate,\n",
    "  - size of hidden layer,\n",
    "  - initialization scheme: test with 0 initialization vs uniform,\n",
    "  - implement other activation functions,\n",
    "  - implement the support for a second hidden layer.\n",
    "\n",
    "\n",
    "### Mini-batches\n",
    "\n",
    "- Bonus: the current implementations of `train` and `grad_loss` function currently only accept a single sample at a time:\n",
    "    - implement the support for training with a mini-batch of 32 samples at a time instead of one,\n",
    "    - experiment with different sizes of batches,\n",
    "    - monitor the norm of the average gradients on the full training set at the end of each epoch.\n",
    "\n",
    "\n",
    "### Momentum\n",
    "\n",
    "- Bonus: Implement momentum"
   ]
  },
  {
   "cell_type": "markdown",
   "metadata": {},
   "source": [
    "#### Hyperparameter settings"
   ]
  },
  {
   "cell_type": "markdown",
   "metadata": {},
   "source": [
    "Learning rate"
   ]
  },
  {
   "cell_type": "code",
   "execution_count": 74,
   "metadata": {
    "collapsed": false
   },
   "outputs": [
    {
     "name": "stderr",
     "output_type": "stream",
     "text": [
      "/Users/benoitchoffin/anaconda/envs/py35/lib/python3.5/site-packages/ipykernel/__main__.py:3: RuntimeWarning: overflow encountered in exp\n",
      "  app.launch_new_instance()\n"
     ]
    }
   ],
   "source": [
    "learning_rate_list=[1e-4,1e-3,1e-2,1e-1,1,10]\n",
    "losses, accuracies, accuracies_test = [], [], []\n",
    "losses_temp, accuracies_temp, accuracies_test_temp = [], [], []\n",
    "\n",
    "for lr in learning_rate_list:\n",
    "    losses_temp, accuracies_temp, accuracies_test_temp = [], [], []\n",
    "    for epoch in range(15):\n",
    "        for i, (x, y) in enumerate(zip(X_train, y_train)):\n",
    "            model.train(x, y, lr)\n",
    "\n",
    "        losses_temp.append(model.loss(X_train, y_train))\n",
    "        accuracies_temp.append(model.accuracy(X_train, y_train))\n",
    "        accuracies_test_temp.append(model.accuracy(X_test, y_test))\n",
    "    losses.append(losses_temp)\n",
    "    accuracies.append(accuracies_temp)\n",
    "    accuracies_test.append(accuracies_test_temp)"
   ]
  },
  {
   "cell_type": "code",
   "execution_count": 75,
   "metadata": {
    "collapsed": false
   },
   "outputs": [
    {
     "data": {
      "image/png": "[encoded data removed]",
      "text/plain": [
       "<matplotlib.figure.Figure at 0x1233c1278>"
      ]
     },
     "metadata": {},
     "output_type": "display_data"
    }
   ],
   "source": [
    "for j in range(len(learning_rate_list)):\n",
    "    plt.plot(losses[j],label=str(learning_rate_list[j]))\n",
    "plt.legend(loc='best')\n",
    "plt.xlabel(\"epoch\")\n",
    "plt.ylabel(\"loss\")\n",
    "plt.show()"
   ]
  },
  {
   "cell_type": "code",
   "execution_count": 76,
   "metadata": {
    "collapsed": false,
    "scrolled": true
   },
   "outputs": [
    {
     "data": {
      "image/png": "[encoded data removed]",
      "text/plain": [
       "<matplotlib.figure.Figure at 0x1234de668>"
      ]
     },
     "metadata": {},
     "output_type": "display_data"
    }
   ],
   "source": [
    "#Zoom 1\n",
    "for j in range(len(learning_rate_list)-1):\n",
    "    plt.plot(losses[j],label=str(learning_rate_list[j]))\n",
    "plt.legend(loc='best')\n",
    "plt.xlabel(\"epoch\")\n",
    "plt.ylabel(\"loss\")\n",
    "plt.show()"
   ]
  },
  {
   "cell_type": "code",
   "execution_count": 77,
   "metadata": {
    "collapsed": false
   },
   "outputs": [
    {
     "data": {
      "image/png": "[encoded data removed]",
      "text/plain": [
       "<matplotlib.figure.Figure at 0x1234dcd68>"
      ]
     },
     "metadata": {},
     "output_type": "display_data"
    }
   ],
   "source": [
    "#Zoom 2\n",
    "for j in range(len(learning_rate_list)-2):\n",
    "    plt.plot(losses[j],label=str(learning_rate_list[j]))\n",
    "plt.legend(loc='best')\n",
    "plt.xlabel(\"epoch\")\n",
    "plt.ylabel(\"loss\")\n",
    "plt.show()"
   ]
  },
  {
   "cell_type": "markdown",
   "metadata": {},
   "source": [
    "Different hidden layer sizes"
   ]
  },
  {
   "cell_type": "code",
   "execution_count": 79,
   "metadata": {
    "collapsed": false
   },
   "outputs": [],
   "source": [
    "listOfHLSizes=[1,5,10,20,30,50]\n",
    "losses, accuracies, accuracies_test = [], [], []\n",
    "losses_temp, accuracies_temp, accuracies_test_temp = [], [], []\n",
    "\n",
    "for hls in listOfHLSizes:\n",
    "    model = NeuralNet(n_features, hls, n_classes, sigmoid, dsigmoid)\n",
    "    losses_temp, accuracies_temp, accuracies_test_temp = [], [], []\n",
    "    for epoch in range(15):\n",
    "        for i, (x, y) in enumerate(zip(X_train, y_train)):\n",
    "            model.train(x, y, 0.1)\n",
    "\n",
    "        losses_temp.append(model.loss(X_train, y_train))\n",
    "        accuracies_temp.append(model.accuracy(X_train, y_train))\n",
    "        accuracies_test_temp.append(model.accuracy(X_test, y_test))\n",
    "    losses.append(losses_temp)\n",
    "    accuracies.append(accuracies_temp)\n",
    "    accuracies_test.append(accuracies_test_temp)"
   ]
  },
  {
   "cell_type": "code",
   "execution_count": 80,
   "metadata": {
    "collapsed": false
   },
   "outputs": [
    {
     "data": {
      "image/png": "[encoded data removed]",
      "text/plain": [
       "<matplotlib.figure.Figure at 0x1236beb70>"
      ]
     },
     "metadata": {},
     "output_type": "display_data"
    }
   ],
   "source": [
    "for j in range(len(listOfHLSizes)):\n",
    "    plt.plot(losses[j],label=str(listOfHLSizes[j]))\n",
    "plt.legend(loc='best')\n",
    "plt.xlabel(\"epoch\")\n",
    "plt.ylabel(\"loss\")\n",
    "plt.show()"
   ]
  },
  {
   "cell_type": "code",
   "execution_count": 81,
   "metadata": {
    "collapsed": false
   },
   "outputs": [
    {
     "data": {
      "image/png": "[encoded data removed]",
      "text/plain": [
       "<matplotlib.figure.Figure at 0x124979c88>"
      ]
     },
     "metadata": {},
     "output_type": "display_data"
    }
   ],
   "source": [
    "#Zoom 1\n",
    "for j in range(len(listOfHLSizes)-1):\n",
    "    plt.plot(losses[j+1],label=str(listOfHLSizes[j+1]))\n",
    "plt.legend(loc='best')\n",
    "plt.xlabel(\"epoch\")\n",
    "plt.ylabel(\"loss\")\n",
    "plt.show()"
   ]
  },
  {
   "cell_type": "code",
   "execution_count": 82,
   "metadata": {
    "collapsed": false
   },
   "outputs": [
    {
     "data": {
      "image/png": "[encoded data removed]",
      "text/plain": [
       "<matplotlib.figure.Figure at 0x124993cf8>"
      ]
     },
     "metadata": {},
     "output_type": "display_data"
    }
   ],
   "source": [
    "#Zoom 2\n",
    "for j in range(len(listOfHLSizes)-2):\n",
    "    plt.plot(losses[j+2],label=str(listOfHLSizes[j+2]))\n",
    "plt.legend(loc='best')\n",
    "plt.xlabel(\"epoch\")\n",
    "plt.ylabel(\"loss\")\n",
    "plt.show()"
   ]
  },
  {
   "cell_type": "markdown",
   "metadata": {},
   "source": [
    "Initialization"
   ]
  },
  {
   "cell_type": "markdown",
   "metadata": {},
   "source": [
    "Activation functions"
   ]
  },
  {
   "cell_type": "code",
   "execution_count": 83,
   "metadata": {
    "collapsed": true
   },
   "outputs": [],
   "source": [
    "#tanh\n",
    "def tanh(x):\n",
    "    return (np.exp(2*x)-1)/(np.exp(2*x)+1)\n",
    "\n",
    "def dtanh(x):\n",
    "    return 1-tanh(x)**2\n",
    "\n",
    "def relu(x):\n",
    "    return np.maximum(x,0)\n",
    "\n",
    "def drelu(x):\n",
    "    return np.float64(x>0)"
   ]
  },
  {
   "cell_type": "code",
   "execution_count": 89,
   "metadata": {
    "collapsed": false
   },
   "outputs": [],
   "source": [
    "listOfActivationFunctions=[sigmoid,tanh,relu]\n",
    "listOfDiffActivationFunctions=[dsigmoid,dtanh,drelu]\n",
    "losses, accuracies, accuracies_test = [], [], []\n",
    "losses_temp, accuracies_temp, accuracies_test_temp = [], [], []\n",
    "\n",
    "for i in range(len(listOfActivationFunctions)):\n",
    "    model = NeuralNet(n_features, 20, n_classes,listOfActivationFunctions[i],listOfDiffActivationFunctions[i])\n",
    "    losses_temp, accuracies_temp, accuracies_test_temp = [], [], []\n",
    "    for epoch in range(15):\n",
    "        for i, (x, y) in enumerate(zip(X_train, y_train)):\n",
    "            model.train(x, y, 0.01)\n",
    "\n",
    "        losses_temp.append(model.loss(X_train, y_train))\n",
    "        accuracies_temp.append(model.accuracy(X_train, y_train))\n",
    "        accuracies_test_temp.append(model.accuracy(X_test, y_test))\n",
    "    losses.append(losses_temp)\n",
    "    accuracies.append(accuracies_temp)\n",
    "    accuracies_test.append(accuracies_test_temp)"
   ]
  },
  {
   "cell_type": "code",
   "execution_count": 90,
   "metadata": {
    "collapsed": false
   },
   "outputs": [
    {
     "data": {
      "image/png": "[encoded data removed]",
      "text/plain": [
       "<matplotlib.figure.Figure at 0x125588a20>"
      ]
     },
     "metadata": {},
     "output_type": "display_data"
    }
   ],
   "source": [
    "for j in range(len(listOfActivationFunctions)):\n",
    "    plt.plot(losses[j],label=str(listOfActivationFunctions[j]))\n",
    "plt.legend(loc='best')\n",
    "plt.xlabel(\"epoch\")\n",
    "plt.ylabel(\"loss\")\n",
    "plt.show()"
   ]
  },
  {
   "cell_type": "markdown",
   "metadata": {},
   "source": [
    "Second hidden layer"
   ]
  },
  {
   "cell_type": "code",
   "execution_count": 91,
   "metadata": {
    "collapsed": true
   },
   "outputs": [],
   "source": [
    "EPSILON = 1e-8\n",
    "\n",
    "class NeuralNet_v2():\n",
    "    \"\"\"MLP with 2 hidden layers with a sigmoid activation\"\"\"\n",
    "    \n",
    "    def __init__(self, input_size, hidden_size, output_size,activation,d_activation):\n",
    "        # TODO\n",
    "        self.W_h_1 = np.random.uniform(low=-0.1,high=0.1,size=(input_size,hidden_size))\n",
    "        self.b_h_1 = np.zeros(hidden_size)\n",
    "        self.W_h_2 = np.random.uniform(low=-0.1,high=0.1,size=(hidden_size,hidden_size))\n",
    "        self.b_h_2 = np.zeros(hidden_size)\n",
    "        self.W_o = np.random.uniform(low=-0.1,high=0.1,size=(hidden_size,output_size))\n",
    "        self.b_o = np.zeros(output_size)\n",
    "        self.output_size = output_size\n",
    "        self.activation=activation\n",
    "        self.d_activation=d_activation\n",
    "        \n",
    "    def forward(self, X):\n",
    "        # TODO\n",
    "        res = self.activation(np.dot(X,self.W_h_1) + self.b_h_1)\n",
    "        res = self.activation(np.dot(self.W_h_1,self.W_h_2) + self.b_h_2)\n",
    "        res = softmax(np.dot(res,self.W_o) + self.b_o)\n",
    "        return(res)\n",
    "        #if len(X.shape) == 1:\n",
    "        #    res = sigmoid(np.dot(self.W_h.T,X) + self.b_h)\n",
    "        #    res = sigmoid(np.dot(self.W_o,res) + self.b_o)\n",
    "        #    return(softmax(res))\n",
    "        #else:\n",
    "        #    res = sigmoid(np.dot(self.W_h,X.T) + self.b_h)\n",
    "        #    res = sigmoid(np.dot(self.W_o,res) + self.b_o)\n",
    "        #    return(softmax(res))\n",
    "    \n",
    "    def forward_keep_activations(self, X):\n",
    "        # TODO\n",
    "        #z_h = 0.\n",
    "        #h = 0.\n",
    "        #y = np.random.uniform(size=self.output_size,\n",
    "        #                      high=1.0-EPSILON, low=EPSILON)\n",
    "        z_h_1 = np.dot(X,self.W_h_1) + self.b_h_1\n",
    "        h_1 = self.activation(z_h_1)\n",
    "        z_h_2 = np.dot(h_1,self.W_h_2) + self.b_h_2\n",
    "        h_2=self.activation(z_h_2)\n",
    "        pre_y = np.dot(h_1,self.W_o) + self.b_o\n",
    "        y = softmax(pre_y)\n",
    "        return y, h_1, z_h_1, h_2, z_h_2\n",
    "    \n",
    "    def loss(self, X, y):\n",
    "        # TODO\n",
    "        return nll(one_hot(self.output_size,y),self.forward(X))\n",
    "\n",
    "    def grad_loss(self, x, y_true):\n",
    "        # TODO\n",
    "        y_pred=self.forward(x)\n",
    "        with_activations=self.forward_keep_activations(x)\n",
    "        grad_z0=y_pred-one_hot(self.output_size,y_true)\n",
    "        grad_w0=np.outer(with_activations[3],grad_z0)\n",
    "        grad_b0=grad_z0.copy()\n",
    "        grad_h2=np.dot(grad_z0,self.W_o.T)\n",
    "        grad_zh2=grad_h2*self.d_activation(with_activations[4])\n",
    "        grad_wh2=np.outer(h_1,grad_zh2)\n",
    "        grad_bh2=grad_zh2.copy()\n",
    "        grad_h1=np.dot(grad_z0,self.W_o.T)\n",
    "        grad_zh2=grad_h2*self.d_activation(with_activations[4])\n",
    "        grad_wh2=np.outer(h_1,grad_zh2)\n",
    "        grad_bh2=grad_zh2.copy()\n",
    "        return {\"W_h\": grad_wh, \"b_h\": grad_bh, \"W_o\": grad_w0, \"b_o\": grad_b0}\n",
    "\n",
    "    def train(self, x, y, learning_rate):\n",
    "        # TODO\n",
    "        grads=self.grad_loss(x,y)\n",
    "        self.W_o-=learning_rate*grads[\"W_o\"]\n",
    "        self.b_o-=learning_rate*grads[\"b_o\"]\n",
    "        self.W_h-=learning_rate*grads[\"W_h\"]\n",
    "        self.b_h-=learning_rate*grads[\"b_h\"]\n",
    "\n",
    "    def predict(self, X):\n",
    "        if len(X.shape) == 1:\n",
    "            return np.argmax(self.forward(X))\n",
    "        else:\n",
    "            return np.argmax(self.forward(X), axis=1)\n",
    "\n",
    "    def accuracy(self, X, y):\n",
    "        y_preds = np.argmax(self.forward(X), axis=1)\n",
    "        return np.mean(y_preds == y)"
   ]
  },
  {
   "cell_type": "code",
   "execution_count": 96,
   "metadata": {
    "collapsed": false
   },
   "outputs": [],
   "source": [
    "model1 = NeuralNet(n_features, 20, n_classes,tanh,dtanh)\n",
    "losses_temp, accuracies_temp, accuracies_test_temp = [], [], []\n",
    "losses, accuracies, accuracies_test = [], [], []\n",
    "for epoch in range(15):\n",
    "    for i, (x, y) in enumerate(zip(X_train, y_train)):\n",
    "        model.train(x, y, 0.01)\n",
    "\n",
    "    losses_temp.append(model.loss(X_train, y_train))\n",
    "    accuracies_temp.append(model.accuracy(X_train, y_train))\n",
    "    accuracies_test_temp.append(model.accuracy(X_test, y_test))\n",
    "losses.append(losses_temp)\n",
    "accuracies.append(accuracies_temp)\n",
    "accuracies_test.append(accuracies_test_temp)\n",
    "\n",
    "model2 = NeuralNet(n_features, 20, n_classes,tanh,dtanh)\n",
    "losses_temp, accuracies_temp, accuracies_test_temp = [], [], []\n",
    "for epoch in range(15):\n",
    "    for i, (x, y) in enumerate(zip(X_train, y_train)):\n",
    "        model.train(x, y, 0.01)\n",
    "\n",
    "    losses_temp.append(model.loss(X_train, y_train))\n",
    "    accuracies_temp.append(model.accuracy(X_train, y_train))\n",
    "    accuracies_test_temp.append(model.accuracy(X_test, y_test))\n",
    "losses.append(losses_temp)\n",
    "accuracies.append(accuracies_temp)\n",
    "accuracies_test.append(accuracies_test_temp)"
   ]
  },
  {
   "cell_type": "code",
   "execution_count": 99,
   "metadata": {
    "collapsed": false
   },
   "outputs": [
    {
     "data": {
      "text/plain": [
       "[<matplotlib.lines.Line2D at 0x125599940>]"
      ]
     },
     "execution_count": 99,
     "metadata": {},
     "output_type": "execute_result"
    },
    {
     "data": {
      "image/png": "[encoded data removed]",
      "text/plain": [
       "<matplotlib.figure.Figure at 0x12573db00>"
      ]
     },
     "metadata": {},
     "output_type": "display_data"
    }
   ],
   "source": [
    "plt.plot(losses[0])\n",
    "plt.plot(losses[1])"
   ]
  },
  {
   "cell_type": "markdown",
   "metadata": {},
   "source": [
    "# III) TensorFlow Implementation\n",
    "\n",
    "TensorFlow is a symbolic graph computation engine, that allows automatic differentiation of each node\n",
    "- https://www.tensorflow.org \n",
    "- https://www.tensorflow.org/tutorials/mnist/tf/\n",
    "\n",
    "TensorFlow builds where nodes may be:\n",
    "- **constant:** constants tensors, such as a learning rate\n",
    "- **Variables:** any tensor, such as parameters of the models\n",
    "- **Placeholders:** placeholders for inputs and outputs of your models\n",
    "- many other types of nodes (functions, loss, ...)\n",
    "\n",
    "The graph is symbolic, no computation is performed until a `Session` is defined and the command `run` or `eval` is invoked. TensorFlow may run this computation on (multiple) CPUs or GPUs"
   ]
  },
  {
   "cell_type": "code",
   "execution_count": 304,
   "metadata": {
    "collapsed": false
   },
   "outputs": [
    {
     "name": "stdout",
     "output_type": "stream",
     "text": [
      "5\n"
     ]
    }
   ],
   "source": [
    "import tensorflow as tf\n",
    "\n",
    "a = tf.constant(3)\n",
    "b = tf.constant(2)\n",
    "c = tf.Variable(0)\n",
    "c = a + b\n",
    "with tf.Session() as sess:\n",
    "    print(sess.run(c))"
   ]
  },
  {
   "cell_type": "code",
   "execution_count": 305,
   "metadata": {
    "collapsed": false
   },
   "outputs": [
    {
     "name": "stdout",
     "output_type": "stream",
     "text": [
      "5.0\n"
     ]
    }
   ],
   "source": [
    "X = tf.placeholder(\"float32\", name=\"input\")\n",
    "Y = X + tf.constant(3.0)\n",
    "with tf.Session() as sess:\n",
    "    print(sess.run(Y, feed_dict={X:2}))"
   ]
  },
  {
   "cell_type": "markdown",
   "metadata": {},
   "source": [
    "**Note: batches in inputs**\n",
    "- the first dimension of the input is usually kept for the batch dimension. A typical way to define an input placeholder with a 1D tensor of 128 dimensions, is:\n",
    "```\n",
    "X = tf.placeholder(\"float32\", shape=[None, 128])\n",
    "```"
   ]
  },
  {
   "cell_type": "markdown",
   "metadata": {},
   "source": [
    "## a) Build a model using TensorFlow\n",
    "\n",
    "- Using TensorFlow, build a similar model (one hidden layer) as you previously did\n",
    "- the input will be a batch coming from X_train, and the output will be a batch of ints"
   ]
  },
  {
   "cell_type": "code",
   "execution_count": 306,
   "metadata": {
    "collapsed": false
   },
   "outputs": [],
   "source": [
    "# helper functions\n",
    "\n",
    "def init_weights(shape):\n",
    "    return tf.Variable(tf.random_normal(shape, stddev=0.01))\n",
    "\n",
    "\n",
    "def accuracy(y_pred, y=y_test):\n",
    "    return np.mean(np.argmax(y_pred, axis=1) == y)"
   ]
  },
  {
   "cell_type": "code",
   "execution_count": null,
   "metadata": {
    "collapsed": false
   },
   "outputs": [],
   "source": [
    "# hyperparams\n",
    "batch_size = 32\n",
    "hid_size = 15\n",
    "learning_rate = 0.01\n",
    "num_epochs = 10\n",
    "input_size = X_train.shape[1]\n",
    "output_size = 10\n",
    "\n",
    "# input and output\n",
    "X = tf.placeholder(\"float32\", shape=[None, input_size])\n",
    "y = tf.placeholder(\"int32\", shape=[None])\n",
    "\n",
    "#todo: build the model and weights\n",
    "\n",
    "#todo: build the loss, predict, and train operator\n",
    "# mock loss and b, to change\n",
    "b = init_weights([output_size])\n",
    "loss = b\n",
    "\n",
    "optimizer = tf.train.GradientDescentOptimizer(learning_rate)\n",
    "train_op = optimizer.minimize(loss)\n",
    "\n",
    "#todo: build predict node\n",
    "predict = X\n",
    "\n",
    "# Initialization of all variables in the graph\n",
    "init = tf.global_variables_initializer()"
   ]
  },
  {
   "cell_type": "code",
   "execution_count": null,
   "metadata": {
    "collapsed": true
   },
   "outputs": [],
   "source": [
    "# %load solutions/tf_model.py"
   ]
  },
  {
   "cell_type": "code",
   "execution_count": null,
   "metadata": {
    "collapsed": false
   },
   "outputs": [],
   "source": [
    "# run training\n",
    "with tf.Session() as sess: \n",
    "    sess.run(init)\n",
    "    \n",
    "    losses = []\n",
    "    for e in range(num_epochs):\n",
    "        for i in range(X_train.shape[0] // batch_size):\n",
    "            # Build batches of batch_size            \n",
    "            idx, idxn = i * batch_size, min(X_train.shape[0]-1, (i+1) * batch_size)\n",
    "            batch_xs, batch_ys = X_train[idx: idxn], y_train[idx: idxn]            \n",
    "            \n",
    "            # Run train operator and monitor loss\n",
    "            _, l=sess.run([train_op, loss], feed_dict={X: batch_xs, y: batch_ys})\n",
    "            losses.append(l)\n",
    "        \n",
    "        # For each epoch, run accuracy on train and test\n",
    "        predicts_test = sess.run(predict, feed_dict={X: X_test})\n",
    "        predicts_train = sess.run(predict, feed_dict={X: X_train})\n",
    "        print(\"epoch: %d train accuracy: %0.3f test accuracy: %0.3f\"\n",
    "              % (e, accuracy(predicts_train, y_train), accuracy(predicts_test)))\n",
    "    \n",
    "    # For monitoring purposes\n",
    "    file_writer = tf.summary.FileWriter('./tensorflow_summaries', sess.graph)    \n",
    "plt.plot(losses);"
   ]
  },
  {
   "cell_type": "markdown",
   "metadata": {},
   "source": [
    "## b) Exercises\n",
    "\n",
    "### Bonus:\n",
    "- add L2 regularization with $\\lambda = 10^{-4}$\n",
    "- train with arbitrary number of layers by only defining layer sizes\n",
    "- you may use tensorboard (https://www.tensorflow.org/how_tos/summaries_and_tensorboard/) to monitor loss and display graph\n",
    "- follow the official tensorflow tutorial: https://www.tensorflow.org/tutorials/mnist/tf/"
   ]
  }
 ],
 "metadata": {
  "anaconda-cloud": {},
  "kernelspec": {
   "display_name": "Python [conda env:py35]",
   "language": "python",
   "name": "conda-env-py35-py"
  },
  "language_info": {
   "codemirror_mode": {
    "name": "ipython",
    "version": 3
   },
   "file_extension": ".py",
   "mimetype": "text/x-python",
   "name": "python",
   "nbconvert_exporter": "python",
   "pygments_lexer": "ipython3",
   "version": "3.5.2"
  }
 },
 "nbformat": 4,
 "nbformat_minor": 1
}
